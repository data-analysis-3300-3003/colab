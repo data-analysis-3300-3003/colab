{
 "cells": [
  {
   "cell_type": "markdown",
   "id": "f2f56f2b-5116-4a72-9829-e0de09e1d8ee",
   "metadata": {},
   "source": [
    "# Week 6 Practice Exercises\n",
    "\n",
    "These practice exercises demonstrate how to i) use <a href=\"https://planetarycomputer.microsoft.com/catalog\" target=\"_blank\">Microsoft's Planetary Computer</a> to generate a monthly data cube (rank 3 NumPy `ndarray`) of NDVI values from the Landsat satellite sensor, and ii) use zonal statistics operations to generate a monthly NDVI time-series for a collection of tree crop plantation boundaries in Western Australia. \n",
    "\n",
    "## Setup\n",
    "\n",
    "### Run the labs\n",
    "\n",
    "You can run the labs locally on your machine or you can use cloud environments provided by Google Colab. **If you're working with Google Colab be aware that your sessions are temporary and you'll need to take care to save, backup, and download your work.**\n",
    "\n",
    "<a href=\"https://colab.research.google.com/github/data-analysis-3300-3003/colab/blob/main/lab-6-practice-exercises.ipynb\" target=\"_blank\">\n",
    "  <img src=\"https://colab.research.google.com/assets/colab-badge.svg\" alt=\"Open In Colab\"/>\n",
    "</a>\n",
    "\n",
    "### Download data\n",
    "\n",
    "If you need to download the date for this lab, run the following code snippet. "
   ]
  },
  {
   "cell_type": "code",
   "execution_count": null,
   "id": "200c7596-c0e9-4a35-baf7-d1b80ed1b477",
   "metadata": {},
   "outputs": [],
   "source": [
    "import os\n",
    "\n",
    "if \"week-6-practice\" not in os.listdir(os.getcwd()):\n",
    "    os.system('wget \"https://github.com/data-analysis-3300-3003/data/raw/main/data/week-6-practice.zip\"')\n",
    "    os.system('unzip \"week-6-practice.zip\"')"
   ]
  },
  {
   "cell_type": "markdown",
   "id": "c4bad36c-d6ff-498b-83a5-bbd605ba661c",
   "metadata": {},
   "source": [
    "### Import modules"
   ]
  },
  {
   "cell_type": "code",
   "execution_count": null,
   "id": "7e63a2b6-9033-4855-94c8-30ce3495e0c4",
   "metadata": {},
   "outputs": [],
   "source": [
    "import os\n",
    "import json\n",
    "import geopandas as gpd\n",
    "import pandas as pd\n",
    "import numpy as np\n",
    "import pystac_client\n",
    "import planetary_computer as pc\n",
    "import plotly.express as px\n",
    "import plotly.io as pio\n",
    "import rasterio\n",
    "from rasterio import windows\n",
    "from rasterio import features\n",
    "from rasterio import warp\n",
    "from skimage import io\n",
    "\n",
    "\n",
    "from pystac.extensions.eo import EOExtension as eo\n",
    "\n",
    "# setup renderer\n",
    "if 'google.colab' in str(get_ipython()):\n",
    "    pio.renderers.default = \"colab\"\n",
    "else:\n",
    "    pio.renderers.default = \"jupyterlab\""
   ]
  },
  {
   "cell_type": "code",
   "execution_count": null,
   "id": "1f293f88-e6a0-4113-b356-53fef3af2638",
   "metadata": {},
   "outputs": [],
   "source": [
    "!pip install rasterstats"
   ]
  },
  {
   "cell_type": "code",
   "execution_count": null,
   "id": "843326ce-327f-4abe-8a8f-aa8b23df13d8",
   "metadata": {},
   "outputs": [],
   "source": [
    "from rasterstats import zonal_stats"
   ]
  },
  {
   "cell_type": "markdown",
   "id": "0c4271c1-a572-4e75-9b3f-3e18b25f1545",
   "metadata": {},
   "source": [
    "### Load data\n",
    "\n",
    "Load a small vector dataset of tree crop plantations near Carnarvon, Western Australia, derived from the <a href=\"https://www.agriculture.gov.au/abares/aclump/land-use/catchment-scale-land-use-of-australia-commodities-update-december-2020\" target=\"_blank\">Catchment scale land use of Australia (CLUM) dataset</a>."
   ]
  },
  {
   "cell_type": "code",
   "execution_count": null,
   "id": "facb0436-15ce-4931-955b-e556b11a9012",
   "metadata": {},
   "outputs": [],
   "source": [
    "clum_demo_path = os.path.join(os.getcwd(), \"week-6-practice\", \"clum_demo_aoi.gpkg\")\n",
    "clum_aoi = gpd.read_file(clum_demo_path)"
   ]
  },
  {
   "cell_type": "code",
   "execution_count": null,
   "id": "7c446620-36d5-4a63-a43e-18f7d1563423",
   "metadata": {},
   "outputs": [],
   "source": [
    "clum_aoi.head()"
   ]
  },
  {
   "cell_type": "code",
   "execution_count": null,
   "id": "98f2682e-753f-4523-ac7d-837ef900d0a4",
   "metadata": {},
   "outputs": [],
   "source": [
    "clum_aoi.explore(column=\"Commod_dsc\")"
   ]
  },
  {
   "cell_type": "markdown",
   "id": "a80d94dc-95a0-45ec-bfdb-7004b1894710",
   "metadata": {},
   "source": [
    "### Bounding box\n",
    "\n",
    "To generate a bounding box around the polygon geometries that comprise the `GeoDataFrame` `clum_aoi` we need to perform three operations:\n",
    "\n",
    "1. combine all the geometry objects on separate rows of `clum_aoi` into one multipolygon object using the `unary_union` property of the `geometry` `GeoSeries` in `clum_aoi`.\n",
    "2. convert the result of the `unary_union` operation to a `GeoSeries` object.\n",
    "3. get the `envelope` of the `GeoSeries` of the `unary_union` result. The envelope is the smallest rectangular bounding box that surrounds a geometry.  \n",
    "\n",
    "If we did not perform the `unary_union` operation to combine all the polygon geometries in `clum_aoi` into a single multipolygon object, we'd end up computing the envelope for each of the separate polygon objects that comprise the `GeoDataFrame`. This would not return to us a bounding box surrounding all the polygons in our `GeoDataFrame`."
   ]
  },
  {
   "cell_type": "code",
   "execution_count": null,
   "id": "94d3bace-7445-47b9-8ae0-282c18a32c8d",
   "metadata": {},
   "outputs": [],
   "source": [
    "clum_bbox = gpd.GeoSeries(clum_aoi.geometry.unary_union).envelope"
   ]
  },
  {
   "cell_type": "markdown",
   "id": "6cfb9253-1b99-4923-be71-2ad1724391c7",
   "metadata": {},
   "source": [
    "### Coordinate Reference Systems\n",
    "\n",
    "We can inspect the coordinate reference system (CRS) of the CLUM geometry data that we read into our program by printing its `crs` property. We can see the CLUM data has a CRS of `epsg:4283` in `AUTHORITY:CODE` format - `epsg` stands for European Petroleum Survey Group which publishes a list of CRS and `4283` is the CRS code. You can look up the CRS here: https://spatialreference.org/ and find a more detailed explanation of CRS in the <a href=\"https://r.geocompx.org/reproj-geo-data.html#crs-in-r\" target=\"_blank\">Geocomputation with R book's section on Coordinate Reference Systems</a>."
   ]
  },
  {
   "cell_type": "code",
   "execution_count": null,
   "id": "db954057-cead-4ce6-8ba1-2a01e95dcedd",
   "metadata": {},
   "outputs": [],
   "source": [
    "print(\"The CRS of the clum_gpd GeoDataFrame is:\")\n",
    "print(clum_aoi.crs)"
   ]
  },
  {
   "cell_type": "code",
   "execution_count": null,
   "id": "b6414a2c-1ae6-4b2e-a38e-5256753e3647",
   "metadata": {},
   "outputs": [],
   "source": [
    "clum_aoi.crs"
   ]
  },
  {
   "cell_type": "markdown",
   "id": "f2ed63fe-08cb-43e4-9412-cd9dec56da3f",
   "metadata": {},
   "source": [
    "The bounding box `GeoSeries` that we generated has lost its `crs` property. We can use the `set_crs()` method to pass in a CRS code and reset the CRS for the spatial data. "
   ]
  },
  {
   "cell_type": "code",
   "execution_count": null,
   "id": "c683b94e-7a7e-46ba-bc14-e5c47fc19c5b",
   "metadata": {},
   "outputs": [],
   "source": [
    "clum_bbox = clum_bbox.set_crs(\"EPSG:4283\")"
   ]
  },
  {
   "cell_type": "markdown",
   "id": "f2bb45c1-07b2-4248-9de7-c96a382a4223",
   "metadata": {},
   "source": [
    "If we want to transform the CRS of a `GeoSeries` or `GeoDataFrame` object, we can use the `to_crs()` method. `EPSG:4326` is a commonly used format for latitude and longitude data."
   ]
  },
  {
   "cell_type": "code",
   "execution_count": null,
   "id": "7fd2ed8b-bbf1-49dd-be62-787e5a3b8378",
   "metadata": {},
   "outputs": [],
   "source": [
    "clum_bbox = clum_bbox.to_crs(\"EPSG:4326\")"
   ]
  },
  {
   "cell_type": "markdown",
   "id": "856b18f1-dd04-4d55-be7f-ebb97adf8819",
   "metadata": {},
   "source": [
    "#### Task\n",
    "\n",
    "**Head to the GeoPandas docs and make sure you're familiar with the `unary_union`, `envelope`, `set_crs()`, and `to_crs()` properties and operations.**"
   ]
  },
  {
   "cell_type": "markdown",
   "id": "4b138b9e-e65b-4a2d-b95f-5f9c76e32973",
   "metadata": {},
   "source": [
    "### Generate monthly NDVI rasters \n",
    "\n",
    "Now we have a bounding box geometry for our `GeoDataFrame` of polygons denoting tree crop plantations, we can use this bounding box to download images data from satellites intersecting this location for each month of the year and compute an NDVI raster for each month.\n",
    "\n",
    "First, we need to create a `pystac_client.Client` object for the Microsoft Planetary Computer STAC API."
   ]
  },
  {
   "cell_type": "code",
   "execution_count": null,
   "id": "8c000ea6-d90b-4970-9d30-a1d562e4b5d0",
   "metadata": {},
   "outputs": [],
   "source": [
    "# open a connection to the Microsoft Planetary Computer's root STAC catalog\n",
    "pc_catalog = pystac_client.Client.open(\n",
    "    url=\"https://planetarycomputer.microsoft.com/api/stac/v1\",\n",
    "    # modifier=planetary_computer.sign_inplace\n",
    ")"
   ]
  },
  {
   "cell_type": "markdown",
   "id": "7be18ffc-4213-4ef1-8e32-1b59bd184805",
   "metadata": {},
   "source": [
    "Next, we'll create a small routine that will loop over a sequence of months (numbers 1 to 12). \n",
    "\n",
    "For each month, we'll use the `pc_catalog` object's `search()` method to query the Microsoft Planetary Computer STAC API for all Landsat <a href=\"https://planetarycomputer.microsoft.com/dataset/landsat-c2-l2\" target=\"_blank\">Landsat Collection 2 Level 2</a> images that intersect our bounding box.\n",
    "\n",
    "You will notice we pass a query into the `search()` method: \n",
    "\n",
    "```\n",
    "query={\n",
    "    \"platform\": {\"in\": [\"landsat-8\"]},\n",
    "}\n",
    "```\n",
    "\n",
    "This query is restricting our search to images from the Landsat 8 sensor; the Landsat 7 sensor which was also operational during this period was affected by a scan line corrector failure resulting in data gaps. To include both Landsat 7 and 8 sensors you could remove this query. You can find more information about Landsat <a href=\"https://landsat.gsfc.nasa.gov/\" target=\"_blank\">here</a>.\n",
    "\n",
    "Once the search has returned to us an `ItemCollection` of Landsat image assets that matched our search criteria, we'll find the least cloudy Landsat image and download the red and near infrared bands. This data is stored in cloud optimised GeoTIFF (COG) files; see the below notes on how to read data from COG files for a region of interest (`Window`). \n",
    "\n",
    "Once we have downloaded the red and near infrared data for our region of interest we cast this to `float32` `dtype` and compute the NDVI.  \n",
    "\n",
    "#### Download COG data\n",
    "\n",
    "We can read data from COG files in the cloud using rasterio in a similar way to how we've been reading local GeoTIFF files on our machine. \n",
    "\n",
    "We use the `rasterio.open()` function to open a file connection to the COG in the cloud and use the connection object's `read()` method to read data from the COG in the cloud to a NumPy `ndarray` on our machine. \n",
    "\n",
    "However, to read in a subset of the data we use the `window` argument of `read()` and pass in a `Window` object. \n",
    "\n",
    "A `Window` object is a rectangular subset of raster defined as `Window(column_offset, row_offset, width, height)`. \n",
    "\n",
    "The rasterio.windows module has a <a href=\"https://rasterio.readthedocs.io/en/latest/api/rasterio.windows.html#rasterio.windows.from_bounds\" target=\"_blank\">`from_bounds()`</a> function which converts bounding coordinates to a `Window` object. \n",
    "\n",
    "rasterio has a `features` module which has as a `bounds()` function which takes in a GeoJSON geometry or Shapely `geometry` and returns a (left, bottom, right, top) bounding box which we can use to create a `Window`. \n",
    "\n",
    "However, our GeoJSON geometry will be in EPSG:4326 (geographic) coordinate system which could be different from the CRS of the COG we're trying to read data from. This requires us to use rasterio `transform_bounds()` function to transform our bounding box coordinates to the coordinates of the COG data. \n",
    "\n",
    "To summarise this process: \n",
    "\n",
    "1. use `features.bounds()` to convert GeoJSON or Shapely `geometry` to a bounding box.\n",
    "2. use `warp.transform_bounds()` to convert the bounding box to the CRS of the COG data.\n",
    "3. use `windows.from_bounds()` to convert the reprojected bounding box to a `Window` object.\n",
    "4. pass the `Window` object to `read()` to read only data from the COG within the `Window`. \n",
    "\n",
    "#### Working with collections\n",
    "\n",
    "We are reading Landsat data from images that form a STAC Item Collection - the <a href=\"https://planetarycomputer.microsoft.com/dataset/landsat-c2-l2\" target=\"_blank\">Landsat Collection 2 Level 2</a> collection. The images in the collection can come from different sensors, have different coordinate reference systems, and overlap. Thus, to ensure that the data we read from different images to match our `Window` has the same shape, we can pass a shape into the `out_shape` argument of rasterio's `read()` method. \n",
    "\n",
    "Here, we get the shape of the first NumPy `ndarray` that we read from a COG file. Then, for all other `read()` operations we pass this shape into the `out_shape` argument. You can see this implemented below in the `if` and `else` blocks.  "
   ]
  },
  {
   "cell_type": "code",
   "execution_count": null,
   "id": "f081b365-8a0f-4ee0-a166-87dbc7b68cff",
   "metadata": {},
   "outputs": [],
   "source": [
    "months = range(1, 13)\n",
    "year = 2016\n",
    "year_next = 2016\n",
    "\n",
    "# get the bounding box as a shapely object\n",
    "clum_bbox_shapely = clum_bbox[0]\n",
    "\n",
    "# empty list to store ndarray of monthly ndvi values\n",
    "ndvi_arr = []\n",
    "\n",
    "for i in months:\n",
    "    print(f\"processing month {i}\")\n",
    "    \n",
    "    # here we convert numeric month indicators which can be single digit (e.g. Jan = 1) \n",
    "    # to string month indicators which are two digits (e.g. Jan = \"01\")\n",
    "    if i < 10:\n",
    "        mnth = str(0) + str(i)\n",
    "    else:\n",
    "        mnth = str(i)\n",
    "    \n",
    "    # create month and year indicators for the start of the next month\n",
    "    # we do this to constrain the search to one month at a time\n",
    "    if i < 9:\n",
    "        mnth_next = str(0) + str(i + 1)\n",
    "    else:\n",
    "        mnth_next = str(i + 1)\n",
    "        \n",
    "    if mnth_next == \"13\":\n",
    "        mnth_next = \"01\"\n",
    "        year_next = year + 1\n",
    "    \n",
    "    # create a time of interest search for each month in turn\n",
    "    time_of_interest = f\"{year}-{mnth}-01/{year_next}-{mnth_next}-01\"\n",
    "    \n",
    "    # search the Microsoft Planetary computer to find Landsat assets matching our bounding box and time of interest\n",
    "    search = pc_catalog.search(\n",
    "        collections=[\"landsat-c2-l2\"],\n",
    "        intersects=clum_bbox_shapely, # use shapely object\n",
    "        datetime=time_of_interest,\n",
    "        query={\n",
    "            \"platform\": {\"in\": [\"landsat-8\"]},\n",
    "        }\n",
    "    )\n",
    "\n",
    "    # items is an item collection of Landsat assets that matched the search criteria\n",
    "    items = search.item_collection()\n",
    "    \n",
    "    # get item with lowest cloud cover per-month\n",
    "    \n",
    "    # empty list - append the cloud cover each Landsat asset in the item collection to the list\n",
    "    cloud_cover = []\n",
    "    for cld in items:\n",
    "        cloud_cover.append(eo.ext(cld).cloud_cover)\n",
    "        \n",
    "    # find the index location in the list of the asset with lowest cloud cover\n",
    "    min_cloud_cover = min(cloud_cover)\n",
    "    min_cloud_cover_idx = cloud_cover.index(min_cloud_cover)\n",
    "    \n",
    "    # get the Landsat asset with the lowest cloud cover\n",
    "    least_cloudy = items[min_cloud_cover_idx]\n",
    "    \n",
    "    # get the signed URL for the red and nir least cloudy Landsat assets\n",
    "    least_cloudy_red_href = pc.sign(least_cloudy.assets[\"red\"].href)\n",
    "    least_cloudy_nir08_href = pc.sign(least_cloudy.assets[\"nir08\"].href)\n",
    "    \n",
    "    # for the first month get the shape of the array\n",
    "    # for subequent months resample all arrays to this shape\n",
    "    if i == 1:\n",
    "        # read red band\n",
    "        # open a connection to the COG using its signed link\n",
    "        with rasterio.open(least_cloudy_red_href) as src:\n",
    "            aoi_bounds = features.bounds(clum_bbox_shapely)\n",
    "            warped_aoi_bounds = warp.transform_bounds(\"epsg:4326\", src.crs, *aoi_bounds)\n",
    "            aoi_window = windows.from_bounds(transform=src.transform, *warped_aoi_bounds)\n",
    "            red = src.read(1, window=aoi_window)\n",
    "            \n",
    "            # get affine transform for the windowed read\n",
    "            # this allows us to reproject the windowed read of data from COG file\n",
    "            src_transform = src.transform\n",
    "            win_transform = src.window_transform(aoi_window)\n",
    "            \n",
    "            # create a copy of the metadata for saving later\n",
    "            out_meta = src.meta\n",
    "            \n",
    "            # get the shape of the red ndarray\n",
    "            # force all other rasters to match this shape\n",
    "            out_shape = red.shape\n",
    "            \n",
    "        # read nir band\n",
    "        # open a connection to the COG using its signed link\n",
    "        with rasterio.open(least_cloudy_nir08_href) as src:\n",
    "            aoi_bounds = features.bounds(clum_bbox_shapely)\n",
    "            warped_aoi_bounds = warp.transform_bounds(\"epsg:4326\", src.crs, *aoi_bounds)\n",
    "            aoi_window = windows.from_bounds(transform=src.transform, *warped_aoi_bounds)\n",
    "            nir = src.read(1, out_shape=out_shape, window=aoi_window)\n",
    "    \n",
    "        # compute NDVI\n",
    "        # cast to float as NDVI is bound between -1 and 1 \n",
    "        nir = nir.astype(\"float32\")\n",
    "        red = red.astype(\"float32\")\n",
    "        ndvi = (nir - red) / (nir + red)\n",
    "\n",
    "    else:\n",
    "        # read red band\n",
    "        # open a connection to the COG using its signed link\n",
    "        with rasterio.open(least_cloudy_red_href) as src:\n",
    "            aoi_bounds = features.bounds(clum_bbox_shapely)\n",
    "            warped_aoi_bounds = warp.transform_bounds(\"epsg:4326\", src.crs, *aoi_bounds)\n",
    "            aoi_window = windows.from_bounds(transform=src.transform, *warped_aoi_bounds)\n",
    "            # Here we pass out_shape into read to define the shape of the array data is read into\n",
    "            red = src.read(1, out_shape=out_shape, window=aoi_window)\n",
    "            \n",
    "        # read nir band\n",
    "        # open a connection to the COG using its signed link\n",
    "        with rasterio.open(least_cloudy_nir08_href) as src:\n",
    "            aoi_bounds = features.bounds(clum_bbox_shapely)\n",
    "            warped_aoi_bounds = warp.transform_bounds(\"epsg:4326\", src.crs, *aoi_bounds)\n",
    "            aoi_window = windows.from_bounds(transform=src.transform, *warped_aoi_bounds)\n",
    "            # Here we pass out_shape into read to define the shape of the array data is read into\n",
    "            nir = src.read(1, out_shape=out_shape, window=aoi_window)\n",
    "    \n",
    "        # compute NDVI\n",
    "        # cast to float as NDVI is bound between -1 and 1 \n",
    "        nir = nir.astype(\"float32\")\n",
    "        red = red.astype(\"float32\")\n",
    "        ndvi = (nir - red) / (nir + red)\n",
    "        \n",
    "    # append NDVI ndarray to list\n",
    "    ndvi_arr.append(ndvi)\n",
    "\n",
    "# stack the ndvi ndarray's to create a multiband raster\n",
    "ndvi_stacked = np.stack(ndvi_arr, axis=0)\n",
    "print(f\"the shape of ndvi_arr is {ndvi_stacked.shape}\")"
   ]
  },
  {
   "cell_type": "markdown",
   "id": "503ef7be-a816-4381-8291-1d3ab25ceb96",
   "metadata": {},
   "source": [
    "We can inspect the metadata of the COG file we are reading data from. We can see that its width and height are far greater than width and height of the windowed read of data that corresponded to our bounding box (width = 59, and height = 46). This is because the metadata corresponds to the entire Landsat scene, but we extracted a small subset of this data that intersects with our bounding box. This is why we computed the `win_transform` object above as this affine transform object allows us to reproject the `ndarray` generated by the windowed read (i.e. relate elements in the NumPy `ndarray` to positions on the Earth's surface). You can read about affine transforms in GIS <a href=\"https://pygis.io/docs/d_affine.html\" target=\"_blank\">here</a>."
   ]
  },
  {
   "cell_type": "code",
   "execution_count": null,
   "id": "a6f5b35a-4954-4e79-9d54-3a0ff7724464",
   "metadata": {},
   "outputs": [],
   "source": [
    "# inspect the metadata\n",
    "out_meta"
   ]
  },
  {
   "cell_type": "markdown",
   "id": "c048c251-7206-46c7-baed-78e63686bff4",
   "metadata": {},
   "source": [
    "To save our monthly multiband representation of NDVI rasters, we need to create new metadata that describes the data. We can do this by updating the various fields in the metadata dictionary object. We can then save the multiband raster to file using the standard Python / rasterio approach of opening a file connection object in write mode. "
   ]
  },
  {
   "cell_type": "code",
   "execution_count": null,
   "id": "7a4df7d1-b3e6-4510-8d41-5bc5d2a3c73d",
   "metadata": {},
   "outputs": [],
   "source": [
    "# update meta for saving\n",
    "out_meta[\"dtype\"] = \"float32\"\n",
    "out_meta[\"count\"] = 12\n",
    "out_meta[\"height\"] = ndvi_arr[0].shape[0]\n",
    "out_meta[\"width\"] = ndvi_arr[0].shape[1]\n",
    "out_meta[\"transform\"] = win_transform\n",
    "out_meta"
   ]
  },
  {
   "cell_type": "code",
   "execution_count": null,
   "id": "15af5e9f-f51d-4dd1-9a71-32d57c8177c9",
   "metadata": {},
   "outputs": [],
   "source": [
    "# save multiband NDVI raster\n",
    "ndvi_out_path = os.path.join(os.getcwd(), \"week-6-practice\", \"ndvi_by_month.tif\")\n",
    "\n",
    "with rasterio.open(ndvi_out_path, \"w\", **out_meta) as dst:\n",
    "        dst.write(ndvi_stacked, [1, 2, 3, 4, 5, 6, 7, 8, 9, 10, 11, 12])"
   ]
  },
  {
   "cell_type": "markdown",
   "id": "ad309466-cc7a-4af9-aba6-dc8b59a478fa",
   "metadata": {},
   "source": [
    "### Zonal statistics\n",
    "\n",
    "We can use the <a href=\"https://pythonhosted.org/rasterstats/manual.html#raster-data-sources\" target=\"_blank\">rasterstats package zonal_stats()</a> function to compute zonal statistics that summarise the NDVI values within each of the plantation boundary geometries. \n",
    "\n",
    "To do this, we can loop over the list of `ndarray`s which store monthly NDVI values and compute the mean NDVI for all pixels that intersect with a plantation geometry. For each call to the `zonal_stats()` function we need to pass in the `GeoDataFrame` of plantation boundaries, `clum_aoi` transformed to the CRS of the NDVI data. We also need to pass in the NumPy `ndarray` of NDVI values and the affine transform that relates `ndarray` elements to locations on the Earth's surface. \n",
    "\n",
    "For each month, we can create a new column in the `GeoDataFrame` `clum_aoi_ndvi` and append the results of the zonal statistics operation. "
   ]
  },
  {
   "cell_type": "code",
   "execution_count": null,
   "id": "9c408e85-c802-4763-bc4a-48a967512307",
   "metadata": {},
   "outputs": [],
   "source": [
    "# zonal stats\n",
    "zstats_meta = out_meta\n",
    "zstats_meta[\"count\"] = 1\n",
    "# create a copy of clum_aoi to save zonal_stats results to\n",
    "clum_aoi_ndvi = clum_aoi.copy()\n",
    "\n",
    "month_idx = 1\n",
    "for i in ndvi_arr:  \n",
    "    print(f\"computing ndvi zonal stats for month {month_idx}\")\n",
    "    \n",
    "    zstats = zonal_stats(\n",
    "        clum_aoi.to_crs(zstats_meta[\"crs\"]), \n",
    "        i, \n",
    "        affine=zstats_meta[\"transform\"], \n",
    "        stats=[\"mean\"], \n",
    "        all_touched=True\n",
    "    )\n",
    "    \n",
    "    df_zstats = pd.DataFrame(zstats)\n",
    "    clum_aoi_ndvi[f\"ndvi_{month_idx}\"] = df_zstats.iloc[:, 0] \n",
    "    month_idx += 1"
   ]
  },
  {
   "cell_type": "code",
   "execution_count": null,
   "id": "5e39d1eb-64ac-44a2-8aa1-279058f55c39",
   "metadata": {},
   "outputs": [],
   "source": [
    "clum_aoi_ndvi.head()"
   ]
  },
  {
   "cell_type": "code",
   "execution_count": null,
   "id": "f78af25a-8940-41cb-900e-950174bfba31",
   "metadata": {},
   "outputs": [],
   "source": [
    "# visualise average monthly NDVI for row 4\n",
    "px.line(\n",
    "    x=[1, 2, 3, 4, 5, 6, 7, 8, 9, 10, 11, 12],\n",
    "    y=clum_aoi_ndvi.loc[3, \"ndvi_1\":\"ndvi_12\"].tolist(),\n",
    "    labels = {\n",
    "        \"y\": \"NDVI\",\n",
    "        \"x\": \"month\"\n",
    "    }   \n",
    ")"
   ]
  },
  {
   "cell_type": "markdown",
   "id": "dd305999-eb16-459e-9614-f27a192e19cf",
   "metadata": {},
   "source": [
    "#### Recap quiz\n",
    "\n",
    "**Can you repeat the above process of generating monthly NDVI arrays and computing zonal statistics for plantation boundaries using data from the Sentinel-2 sensor?**\n",
    "\n",
    "**Things to note: the name of the Sentinel-2 STAC Item Collection and the band names for red and near infrared reflectance.**"
   ]
  },
  {
   "cell_type": "code",
   "execution_count": null,
   "id": "a3be7b38-040d-4312-bc83-98967ff72f7e",
   "metadata": {},
   "outputs": [],
   "source": [
    "## ADD CODE HERE ##"
   ]
  },
  {
   "cell_type": "markdown",
   "id": "1923d1da-a62b-4d64-b343-75004e56fe9e",
   "metadata": {},
   "source": [
    "<details>\n",
    "    <summary><b>answer - download S2 assets</b></summary>\n",
    "    \n",
    "```python\n",
    "months = range(1, 13)\n",
    "year = 2016\n",
    "year_next = 2016\n",
    "\n",
    "# get the bounding box as a shapely object\n",
    "clum_bbox_shapely = clum_bbox[0]\n",
    "\n",
    "# empty list to store ndarray of monthly ndvi values\n",
    "s2_ndvi_arr = []\n",
    "\n",
    "for i in months:\n",
    "    print(f\"processing month {i}\")\n",
    "    \n",
    "    # here we convert numeric month indicators which can be single digit (e.g. Jan = 1) \n",
    "    # to string month indicators which are two digits (e.g. Jan = \"01\")\n",
    "    if i < 10:\n",
    "        mnth = str(0) + str(i)\n",
    "    else:\n",
    "        mnth = str(i)\n",
    "    \n",
    "    # create month and year indicators for the start of the next month\n",
    "    # we do this to constrain the search to one month at a time\n",
    "    if i < 9:\n",
    "        mnth_next = str(0) + str(i + 1)\n",
    "    else:\n",
    "        mnth_next = str(i + 1)\n",
    "        \n",
    "    if mnth_next == \"13\":\n",
    "        mnth_next = \"01\"\n",
    "        year_next = year + 1\n",
    "    \n",
    "    # create a time of interest search for each month in turn\n",
    "    time_of_interest = f\"{year}-{mnth}-01/{year_next}-{mnth_next}-01\"\n",
    "    \n",
    "    # search the Microsoft Planetary computer to find Sentinel-2 assets matching our bounding box and time of interest\n",
    "    search = pc_catalog.search(\n",
    "        collections=[\"sentinel-2-l2a\"],\n",
    "        intersects=clum_bbox_shapely, # use shapely object\n",
    "        datetime=time_of_interest\n",
    "    )\n",
    "\n",
    "    # items is an item collection of S2 assets that matched the search criteria\n",
    "    items = search.item_collection()\n",
    "    \n",
    "    # get item with lowest cloud cover per-month\n",
    "    \n",
    "    # empty list - append the cloud cover each S2 asset in the item collection to the list\n",
    "    cloud_cover = []\n",
    "    for cld in items:\n",
    "        cloud_cover.append(eo.ext(cld).cloud_cover)\n",
    "        \n",
    "    # find the index location in the list of the asset with lowest cloud cover\n",
    "    min_cloud_cover = min(cloud_cover)\n",
    "    min_cloud_cover_idx = cloud_cover.index(min_cloud_cover)\n",
    "    \n",
    "    # get the S2 asset with the lowest cloud cover\n",
    "    least_cloudy = items[min_cloud_cover_idx]\n",
    "    \n",
    "    # get the signed URL for the red and nir least cloudy S2 assets\n",
    "    least_cloudy_red_href = pc.sign(least_cloudy.assets[\"B04\"].href)\n",
    "    least_cloudy_nir08_href = pc.sign(least_cloudy.assets[\"B08\"].href)\n",
    "    \n",
    "    # for the first month get the shape of the array\n",
    "    # for subequent months resample all arrays to this shape\n",
    "    if i == 1:\n",
    "        # read red band\n",
    "        # open a connection to the COG using its signed link\n",
    "        with rasterio.open(least_cloudy_red_href) as src:\n",
    "            aoi_bounds = features.bounds(clum_bbox_shapely)\n",
    "            warped_aoi_bounds = warp.transform_bounds(\"epsg:4326\", src.crs, *aoi_bounds)\n",
    "            aoi_window = windows.from_bounds(transform=src.transform, *warped_aoi_bounds)\n",
    "            red = src.read(1, window=aoi_window)\n",
    "            \n",
    "            # get affine transform for the windowed read\n",
    "            # this allows us to reproject the windowed read of data from COG file\n",
    "            src_transform = src.transform\n",
    "            win_transform = src.window_transform(aoi_window)\n",
    "            \n",
    "            # create a copy of the metadata for saving later\n",
    "            out_meta = src.meta\n",
    "            \n",
    "            # get the shape of the red ndarray\n",
    "            # force all other rasters to match this shape\n",
    "            out_shape = red.shape\n",
    "            \n",
    "        # read nir band\n",
    "        # open a connection to the COG using its signed link\n",
    "        with rasterio.open(least_cloudy_nir08_href) as src:\n",
    "            aoi_bounds = features.bounds(clum_bbox_shapely)\n",
    "            warped_aoi_bounds = warp.transform_bounds(\"epsg:4326\", src.crs, *aoi_bounds)\n",
    "            aoi_window = windows.from_bounds(transform=src.transform, *warped_aoi_bounds)\n",
    "            nir = src.read(1, out_shape=out_shape, window=aoi_window)\n",
    "    \n",
    "        # compute NDVI\n",
    "        # cast to float as NDVI is bound between -1 and 1 \n",
    "        nir = nir.astype(\"float32\")\n",
    "        red = red.astype(\"float32\")\n",
    "        ndvi = (nir - red) / (nir + red)\n",
    "\n",
    "    else:\n",
    "        # read red band\n",
    "        # open a connection to the COG using its signed link\n",
    "        with rasterio.open(least_cloudy_red_href) as src:\n",
    "            aoi_bounds = features.bounds(clum_bbox_shapely)\n",
    "            warped_aoi_bounds = warp.transform_bounds(\"epsg:4326\", src.crs, *aoi_bounds)\n",
    "            aoi_window = windows.from_bounds(transform=src.transform, *warped_aoi_bounds)\n",
    "            # Here we pass out_shape into read to define the shape of the array data is read into\n",
    "            red = src.read(1, out_shape=out_shape, window=aoi_window)\n",
    "            \n",
    "        # read nir band\n",
    "        # open a connection to the COG using its signed link\n",
    "        with rasterio.open(least_cloudy_nir08_href) as src:\n",
    "            aoi_bounds = features.bounds(clum_bbox_shapely)\n",
    "            warped_aoi_bounds = warp.transform_bounds(\"epsg:4326\", src.crs, *aoi_bounds)\n",
    "            aoi_window = windows.from_bounds(transform=src.transform, *warped_aoi_bounds)\n",
    "            # Here we pass out_shape into read to define the shape of the array data is read into\n",
    "            nir = src.read(1, out_shape=out_shape, window=aoi_window)\n",
    "    \n",
    "        # compute NDVI\n",
    "        # cast to float as NDVI is bound between -1 and 1 \n",
    "        nir = nir.astype(\"float32\")\n",
    "        red = red.astype(\"float32\")\n",
    "        ndvi = (nir - red) / (nir + red)\n",
    "        \n",
    "    # append NDVI ndarray to list\n",
    "    s2_ndvi_arr.append(ndvi)\n",
    "\n",
    "# stack the ndvi ndarray's to create a multiband raster\n",
    "s2_ndvi_stacked = np.stack(s2_ndvi_arr, axis=0)\n",
    "print(f\"the shape of ndvi_arr is {s2_ndvi_stacked.shape}\")\n",
    "\n",
    "```\n",
    "</details>"
   ]
  },
  {
   "cell_type": "markdown",
   "id": "b2589073-156a-4bda-96cc-80f0cb565d05",
   "metadata": {},
   "source": [
    "<details>\n",
    "    <summary><b>answer - S2 zonal stats</b></summary>\n",
    "    \n",
    "```python\n",
    "# update meta for saving\n",
    "out_meta[\"dtype\"] = \"float32\"\n",
    "out_meta[\"count\"] = 12\n",
    "out_meta[\"height\"] = s2_ndvi_arr[0].shape[0] ## NOTE - using S2 output here\n",
    "out_meta[\"width\"] = s2_ndvi_arr[0].shape[1]\n",
    "out_meta[\"transform\"] = win_transform\n",
    "out_meta\n",
    "\n",
    "# zonal stats\n",
    "zstats_meta = out_meta\n",
    "zstats_meta[\"count\"] = 1\n",
    "# create a copy of clum_aoi to save zonal_stats results to\n",
    "s2_clum_aoi_ndvi = clum_aoi.copy()\n",
    "\n",
    "month_idx = 1\n",
    "## NOTE - loop over S2 ndvi arrays\n",
    "for i in s2_ndvi_arr:  \n",
    "    print(f\"computing ndvi zonal stats for month {month_idx}\")\n",
    "    \n",
    "    zstats = zonal_stats(\n",
    "        clum_aoi.to_crs(zstats_meta[\"crs\"]), \n",
    "        i, \n",
    "        affine=zstats_meta[\"transform\"], \n",
    "        stats=[\"mean\"], \n",
    "        all_touched=True\n",
    "    )\n",
    "    \n",
    "    df_zstats = pd.DataFrame(zstats)\n",
    "    s2_clum_aoi_ndvi[f\"ndvi_{month_idx}\"] = df_zstats.iloc[:, 0] \n",
    "    month_idx += 1\n",
    "    \n",
    "s2_clum_aoi_ndvi.head()\n",
    "```\n",
    "</details>\n",
    "\n",
    "<p></p>\n",
    "\n",
    "If you inspect the above NDVI time-series generated from Sentinel-2 data, you can spot that for some months there is missing data. We might want to explore why this is the case. STAC Items often have *preview* or *thumbnail* assets that we can use to quickly inspect the data. Let's look into why there is missing data for the month of May. \n",
    "\n",
    "First, let's create a search of the Sentinel-2 data for May. This will return to us an Item Collection object. "
   ]
  },
  {
   "cell_type": "code",
   "execution_count": null,
   "id": "6d4d46af-6dee-4411-a7d2-0f94f2b3b15f",
   "metadata": {},
   "outputs": [],
   "source": [
    "# create a time of interest search for each month in turn\n",
    "time_of_interest = f\"2016-05-01/2016-06-01\"\n",
    "\n",
    "# search the Microsoft Planetary computer to find Sentinel-2 assets matching our bounding box and time of interest\n",
    "search = pc_catalog.search(\n",
    "    collections=[\"sentinel-2-l2a\"],\n",
    "    intersects=clum_bbox_shapely, # use shapely object\n",
    "    datetime=time_of_interest\n",
    ")\n",
    "\n",
    "# items is an item collection of S2 assets that matched the search criteria\n",
    "items = search.item_collection()"
   ]
  },
  {
   "cell_type": "code",
   "execution_count": null,
   "id": "7c0a3e96-81c5-43af-b4bc-713e988397a8",
   "metadata": {},
   "outputs": [],
   "source": [
    "items"
   ]
  },
  {
   "cell_type": "markdown",
   "id": "322be6f7-d41c-4c44-9990-3b34f2c29966",
   "metadata": {},
   "source": [
    "Now, let's see what assets are available for each Item in the Item Collection. "
   ]
  },
  {
   "cell_type": "code",
   "execution_count": null,
   "id": "f3e472d1-37f8-48ec-95a5-ce800355f444",
   "metadata": {},
   "outputs": [],
   "source": [
    "items[0].assets"
   ]
  },
  {
   "cell_type": "markdown",
   "id": "ef2f698f-a198-47fd-8081-2ca325dd4a47",
   "metadata": {},
   "source": [
    "We can see there is a `rendered_preview` asset that's a PNG file. We can load that file into our program and quickly visualise it. To look at other Item's preview change the index location into `items`.  "
   ]
  },
  {
   "cell_type": "code",
   "execution_count": null,
   "id": "4c711ed2-bec1-4bd1-8b8b-df5bef8d1f00",
   "metadata": {},
   "outputs": [],
   "source": [
    "img = io.imread(pc.sign(items[5].assets[\"rendered_preview\"].href))\n",
    "px.imshow(img, height=600)"
   ]
  }
 ],
 "metadata": {
  "kernelspec": {
   "display_name": "Python 3 (ipykernel)",
   "language": "python",
   "name": "python3"
  },
  "language_info": {
   "codemirror_mode": {
    "name": "ipython",
    "version": 3
   },
   "file_extension": ".py",
   "mimetype": "text/x-python",
   "name": "python",
   "nbconvert_exporter": "python",
   "pygments_lexer": "ipython3",
   "version": "3.10.8"
  }
 },
 "nbformat": 4,
 "nbformat_minor": 5
}
