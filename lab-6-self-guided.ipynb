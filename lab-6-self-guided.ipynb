{
 "cells": [
  {
   "cell_type": "markdown",
   "id": "bdbfe112-415f-4c31-bb89-b07409174ab8",
   "metadata": {},
   "source": [
    "# Introduction\n",
    "\n",
    "## SpatioTemporal Asset Catalogs (STAC)\n",
    "\n",
    "This lab will demonstrate how to search for and download geospatial data in the cloud. \n",
    "\n",
    "It will introduce <a href=\"https://stacspec.org/en/\" target=\"_blank\">SpatioTemporal Asset Catalogs (STAC)</a>, a specification that makes it easy to query and search through large collections of geospatial data assets stored in the cloud. \n",
    "\n",
    "You will also learn to use the <a href=\"https://pystac-client.readthedocs.io/en/stable/index.html\" target=\"_blank\">pystac_client</a> package which provides tools for working with STAC in Python.\n",
    "\n",
    "First, let's briefly outline what the STAC specification is before completing some data querying and downloading tasks to make the concepts concrete.\n",
    "\n",
    "**spatiotemporal asset:** this is a file comprising geospatial data for a location and point in time. For example, this could be Landsat or Sentinel-2 satellite images stored in the cloud such as in Microsoft Azure or Amazon Web Services. This is a file that we can download and use the data in our analysis and applications. However, if you look at <a href=\"https://planetarycomputer.microsoft.com/catalog\" target=\"_blank\">Microsoft's Planetary Computer Data Catalog</a>, <a href=\"https://aws.amazon.com/marketplace/search/results?trk=868d8747-614e-4d4d-9fb6-fd5ac02947a8&sc_channel=el&FULFILLMENT_OPTION_TYPE=DATA_EXCHANGE&CONTRACT_TYPE=OPEN_DATA_LICENSES&filters=FULFILLMENT_OPTION_TYPE%2CCONTRACT_TYPE\" target=\"_blank\">Amazon Web Services Open Data</a>, or the <a href=\"https://explorer.sandbox.dea.ga.gov.au/stac/\" target=\"_blank\">Digital Earth Australia Open Data Cube</a> you will see there are lots of spatiotemporal assets available (for free). The challenge is searching through these collections of assets to find the data you need and downloading it. The STAC specification provides a solution for this. \n",
    "\n",
    "The STAC specification comprises:\n",
    "\n",
    "* **STAC Item** - a GeoJSON feature that represents a spatiotemporal asset with links to the spatiotemporal asset and additional metadata fields (e.g. bounding box, thumbnail, datetime, cloud cover).\n",
    "* **STAC Catalog** - a JSON file of links to STAC Items to support querying and retrieving STAC Items. STAC Catalogs can comprise sub-catalogs that group together related data within a larger structure. For example, Microsoft's Planetary Computer might create a STAC Catalog for all of its spatiotemporal assets and organise these assets in sub-catalogs (e.g. a catalog for Landsat 7, Landsat 8, Sentinel-2, SRTM DEM etc.).\n",
    "* **STAC Collection** - an extension of a STAC Catalog with additional metadata properties (e.g. extents, licences, providers) to describe STAC Items within the collection. \n",
    "* **STAC API** - an API that allows clients to query a STAC collection, search for STAC Items, and retrieve their links for downloading. The search endpoint is designed to recieve queries of STAC Catalogs that filter on location, date, and time as well as other fields. It returns a GeoJSON FeatureCollection object with of STAC Items that meet the search criteria. \n",
    "\n",
    "### Task\n",
    "\n",
    "We're going to use the pystac_client package to query a range of STAC Catalogs hosted in the cloud. We'll complete the following tasks:\n",
    "\n",
    "* Find the least cloudy Sentinel-2 image for a field in Western Australia using the Microsoft Planetary Computer.\n",
    "* Find the least cloudy Sentinel-2 image for a field in Western Australia using Amazon Web Services.\n",
    "\n",
    "### Tips\n",
    "\n",
    "These are some tips for working with STAC here.\n",
    "\n",
    "* use rectangular bounding boxes or area-of-interest geometries to quickly identify STAC Items that intersect with their extent.\n",
    "* for exploratory work use small areas-of-interest to minimise the size of searches of STAC Collections and the amount of data transmitted over the network. \n",
    "\n",
    "### Useful links\n",
    "\n",
    "* <a href=\"https://stacspec.org/en\" target=\"_blank\">STAC website</a>: the STAC homepage with details about STAC, tutorials, and links to STAC catalogs.\n",
    "* <a href=\"https://radiantearth.github.io/stac-browser/#/\" target=\"_blank\">STAC Browser</a>: a web browser to search for STAC catalogs.\n",
    "* <a href=\"https://stacindex.org/\" target=\"_blank\">STAC Index</a>: an index of STAC catalogs and tutorials.\n",
    "* <a href=\"https://planetarycomputer.microsoft.com/catalog\" target=\"_blank\">Microsoft Planetary Computer Catalog</a>: Microsoft Planetary Computer's STAC catalogs.\n"
   ]
  },
  {
   "cell_type": "markdown",
   "id": "38067320-10b7-495a-867b-8bf6f7f70f23",
   "metadata": {},
   "source": [
    "## Setup\n",
    "\n",
    "### Run the labs\n",
    "\n",
    "You can run the labs locally on your machine or you can use cloud environments provided by Google Colab. **If you're working with Google Colab be aware that your sessions are temporary and you'll need to take care to save, backup, and download your work.**\n",
    "\n",
    "<a href=\"https://colab.research.google.com/github/data-analysis-3300-3003/colab/blob/main/lab-6-self-guided.ipynb\" target=\"_blank\">\n",
    "  <img src=\"https://colab.research.google.com/assets/colab-badge.svg\" alt=\"Open In Colab\"/>\n",
    "</a>\n",
    "\n",
    "### Download data\n",
    "\n",
    "If you need to download the date for this lab, run the following code snippet. "
   ]
  },
  {
   "cell_type": "code",
   "execution_count": null,
   "id": "78fa7f01-f011-486f-b864-9cee0a4d6380",
   "metadata": {},
   "outputs": [],
   "source": [
    "import os\n",
    "\n",
    "if \"week-6\" not in os.listdir(os.getcwd()):\n",
    "    os.system('wget \"https://github.com/data-analysis-3300-3003/data/raw/main/data/week-6.zip\"')\n",
    "    os.system('unzip \"week-6.zip\"')"
   ]
  },
  {
   "cell_type": "markdown",
   "id": "991ad1d9-f78a-4ae8-b94b-3f7bccf01ebb",
   "metadata": {},
   "source": [
    "### Working in Colab\n",
    "\n",
    "If you're working in Google Colab, you'll need to install the required packages that don't come with the colab environment."
   ]
  },
  {
   "cell_type": "code",
   "execution_count": null,
   "id": "5b4a7481-6251-463b-9fbe-cd7f6c81e1df",
   "metadata": {},
   "outputs": [],
   "source": [
    "if 'google.colab' in str(get_ipython()):\n",
    "    !pip install geopandas\n",
    "    !pip install pyarrow\n",
    "    !pip install mapclassify\n",
    "    !pip install rasterio\n",
    "    !pip install planetary-computer\n",
    "    !pip install pystac-client\n"
   ]
  },
  {
   "cell_type": "markdown",
   "id": "a1aec1c2-db6d-4880-9a3d-9758512ac1a6",
   "metadata": {},
   "source": [
    "### Import modules"
   ]
  },
  {
   "cell_type": "code",
   "execution_count": null,
   "id": "07195d8c-ffb7-41c4-aa42-48cde735972a",
   "metadata": {},
   "outputs": [],
   "source": [
    "import os\n",
    "import json\n",
    "import geopandas as gpd\n",
    "import pandas as pd\n",
    "import numpy as np\n",
    "import pystac_client\n",
    "import planetary_computer as pc\n",
    "import plotly.express as px\n",
    "import plotly.io as pio\n",
    "import rasterio\n",
    "from rasterio import windows\n",
    "from rasterio import features\n",
    "from rasterio import warp\n",
    "from skimage import io\n",
    "\n",
    "from pystac.extensions.eo import EOExtension as eo\n",
    "\n",
    "# setup renderer\n",
    "if 'google.colab' in str(get_ipython()):\n",
    "    pio.renderers.default = \"colab\"\n",
    "else:\n",
    "    pio.renderers.default = \"jupyterlab\""
   ]
  },
  {
   "cell_type": "markdown",
   "id": "df022161-aa0a-4566-a1e7-3ed14b076d66",
   "metadata": {},
   "source": [
    "## Sentinel-2 and Microsoft Planetary Computer\n",
    "\n",
    "To provide an introducion to the STAC specification and using it to search for spatiotemporal assets, we'll use it to query Microsoft's Planetary Computer to find a cloud free Sentinel-2 satellite image for a field in Western Australia. \n",
    "\n",
    "We'll be using the <a href=\"https://pystac-client.readthedocs.io/en/stable/\" target=\"_blank\">pystac_client</a> package which is a STAC Python Client providing classes for working with STAC Catalogs and APIs.\n",
    "\n",
    "First, we need to create a `pystac_client.Client` object with methods and attributes to interact with a given STAC Catalog. Using the `pystac_client.Client.open()` method we can open a STAC Catalog or API and read the root catalog. \n",
    "\n",
    "The `pystac_client.Client.open()` method requires a `url` which points to the STAC catalog or api. The `url` for the Microsoft Planetary Computer STAC API is `\"https://planetarycomputer.microsoft.com/api/stac/v1\"`.  "
   ]
  },
  {
   "cell_type": "code",
   "execution_count": null,
   "id": "2edb68f9-2de1-4544-ba3e-4d8fdb4899bc",
   "metadata": {},
   "outputs": [],
   "source": [
    "# open a connection to the Microsoft Planetary Computer's root STAC catalog\n",
    "pc_catalog = pystac_client.Client.open(\n",
    "    url=\"https://planetarycomputer.microsoft.com/api/stac/v1\",\n",
    "    # modifier=planetary_computer.sign_inplace\n",
    ")"
   ]
  },
  {
   "cell_type": "markdown",
   "id": "d6aadd63-13d9-4796-a46c-73680b2ed339",
   "metadata": {},
   "source": [
    "A `pystac_client` object has a `search()` method that can be used to specify a query to search a STAC Collection for STAC Items that meet certain conditions. The `search()` method has the following parameters that can be used to define scope of the query:\n",
    "\n",
    "* `max_items` - maximum number of items to return from the search. \n",
    "* `bbox` - a list or tuple of of bounding box coordinates. STAC Items that intersect the bounding box will be returned. \n",
    "* `intersects` - a str or dict representation of a GeoJSON geometry or Shapely `geometry`. STAC Items that intersect the geometry will be returned. \n",
    "* `datetime` - a single datetime or datetime range used to filter STAC Items. \n",
    "* `query` - list of JSON or query parameters using the STAC API query extension. \n",
    "\n",
    "You can see the full details for the `search()` method <a href=\"https://pystac-client.readthedocs.io/en/stable/api.html#pystac_client.Client.search\" target=\"_blank\">here</a>.\n",
    "\n",
    "#### Area of interest\n",
    "\n",
    "Before we can `search()` the Planetary Computer STAC Catalog we need to create the geographic extent for our query. \n",
    "\n",
    "We're going to start by reading in a geometry for the field boundary stored in a shapefile. We need to convert the shapefile to one of:\n",
    "\n",
    "* bounding box coordinates\n",
    "* a GeoJSON geometry\n",
    "* a Shapely `geometry`\n",
    "\n",
    "We'll demonstrate how to do each of these conversions for your reference. \n",
    "\n",
    "First let's read the data from file. Then, we'll compute the <a href=\"https://geopandas.org/en/stable/docs/reference/api/geopandas.GeoSeries.envelope.html\" target=\"_blank\">`envelope`</a> of the field's geometry. The envelope is the smallest rectangular geometry to cover the field's geometry. It is often beneficial to pass in simpler geometries than more complex shapes for identifying STAC Items that intersect with an area-of-interest."
   ]
  },
  {
   "cell_type": "code",
   "execution_count": null,
   "id": "b1ed3d5e-ae8d-467c-b90a-bfb9fe492ad8",
   "metadata": {},
   "outputs": [],
   "source": [
    "# load field boundary from shapefile\n",
    "data_path = os.path.join(os.getcwd(), \"week-6\", \"BF66_bdy.shp\")\n",
    "aoi = gpd.read_file(data_path)\n",
    "\n",
    "# add the field boundary to a map object\n",
    "m = aoi.explore()\n",
    "aoi_env = aoi[\"geometry\"].envelope\n",
    "# draw envelope in red\n",
    "aoi_env.explore(m=m, color=\"red\", style_kwds={\"fillOpacity\": 0})"
   ]
  },
  {
   "cell_type": "markdown",
   "id": "599f59c6-4518-4bce-a358-ffc75107f1ed",
   "metadata": {},
   "source": [
    "A `GeoSeries` is a sequence of Shapely `geometry` objects. Thus, we can just extract the first and only element of the `aoi_env` `GeoSeries` to obtain a Shapely `geometry`."
   ]
  },
  {
   "cell_type": "code",
   "execution_count": null,
   "id": "da2a7f05-3d94-4ea4-b41c-15e528312517",
   "metadata": {},
   "outputs": [],
   "source": [
    "# get Shapely geometry object\n",
    "aoi_shapely = aoi_env[0]\n",
    "print(aoi_shapely)"
   ]
  },
  {
   "cell_type": "markdown",
   "id": "8e8145af-3d60-4cce-9c3e-0a728cff6c55",
   "metadata": {},
   "source": [
    "The process to obtain a GeoJSON str or dict representation of the envelope is more involved. First, we use the `GeoPandas` `to_json()` method to convert the `GeoSeries` to a GeoJSON FeatureCollection in str format. \n",
    "\n",
    "Then, we use the `json.loads()` to function to parse the JSON string data to a Python dict. \n",
    "\n",
    "Finally, we can subset the `geometry` property out of the dict."
   ]
  },
  {
   "cell_type": "code",
   "execution_count": null,
   "id": "3489848a-6436-4b64-bb13-82e52019b5d8",
   "metadata": {},
   "outputs": [],
   "source": [
    "aoi_json = json.loads(aoi_env.to_json())\n",
    "print(\"AOI Envelope as GeoJSON FeatureCollection\")\n",
    "print(\"\")\n",
    "print(aoi_json)\n",
    "aoi_geometry = dict(aoi_json[\"features\"][0])[\"geometry\"]\n",
    "print(\"\")\n",
    "print(\"AOI Envelope as GeoJSON Geometry\")\n",
    "print(\"\")\n",
    "print(aoi_geometry)"
   ]
  },
  {
   "cell_type": "markdown",
   "id": "bdb0e66d-523d-4e3a-bf9a-db7cb3f24560",
   "metadata": {},
   "source": [
    "Finally, it is simple to obtain a list of coordinates for the bounding box by using the `total_bounds` property of the `GeoSeries` and converting it to a list object.\n",
    "\n",
    "See the GeoPandas <a href=\"https://geopandas.org/en/stable/docs/reference/api/geopandas.GeoSeries.total_bounds.html\" target=\"_blank\">`total_bounds` docs</a>."
   ]
  },
  {
   "cell_type": "code",
   "execution_count": null,
   "id": "982d0cce-31e6-4903-88e1-98cf5a251759",
   "metadata": {},
   "outputs": [],
   "source": [
    "bbox = aoi_env.total_bounds.tolist()\n",
    "bbox"
   ]
  },
  {
   "cell_type": "markdown",
   "id": "a934cc4a-2705-47f4-93da-15f31c11fc63",
   "metadata": {},
   "source": [
    "#### Datetime\n",
    "\n",
    "Let's specify a datetime range to search. Here, we'll look for all Sentinel-2 STAC Items that intersect our area-of-interest for the month of October 2019. "
   ]
  },
  {
   "cell_type": "code",
   "execution_count": null,
   "id": "f9666620-8dc7-4de5-b183-602214c95f9c",
   "metadata": {},
   "outputs": [],
   "source": [
    "time_of_interest = \"2019-10-01/2019-11-01\""
   ]
  },
  {
   "cell_type": "markdown",
   "id": "ed397f66-3ff0-4d1c-b2ea-1bd8fb4e7af3",
   "metadata": {},
   "source": [
    "#### Extensions\n",
    "\n",
    "The STAC specification permits extensions which allow for more detailed descriptions of STAC Items in a collection. A commonly used extension is the <a href=\"https://github.com/stac-extensions/eo\" target=\"_blank\">`Electro-Optical Extension Specification`</a> for describing snapshots of the Earth for a point-in-time and designed for data that's captured for one or more wavelengths of the electromagnetic spectrum (i.e. remote sensing data).\n",
    "\n",
    "It includes the following item properties:\n",
    "\n",
    "* `eo:bands`: an array of available bands (i.e. different spectral wavebands for a remote sensing image).\n",
    "* `eo:cloud_cover`: an estimate of cloud cover for the STAC Item.\n",
    "* `eo:snow_cover`: an estimate of snow and ice cover for the STAC Item.\n",
    "\n",
    "The `eo:cloud_cover` property could be useful to help with searching a STAC Collection for cloud free scenes.\n",
    "\n",
    "We can set up a query of `eo` properties as: `{\"eo:cloud_cover\": {\"lt\": 10}}`. This will find all STAC Items with a property of `eo:cloud_cover` less than 10%.\n",
    "\n",
    "#### Search\n",
    "\n",
    "We're now ready to search the Planetary Computer STAC Catalog's `sentinel-2-l2a` for all images with low cloud cover in October 2019 that intersect our area-of-interest. \n",
    "\n",
    "The `s2_search` object is an `ItemSearch` instance which represents the search of a STAC API. We can retrieve the STAC Items returned by the search as an `ItemCollection` using the `item_collection()` method.\n",
    "\n",
    "We can print the `ItemCollection` and interactively explore its contents. This helpfully illustrates the structure of the STAC specification. Our search of the `sentinel-2-l2a` collection returned 2 STAC Items. Each STAC Item corresponds to a Sentinel-2 image.\n",
    "\n",
    "We can explore each of the STAC Items and see that it has several metadata properties (e.g. Bounding Box, Datetime, platform, proj:epsg, eo:cloud_cover), it also has an Assets slot which stores links to the underlying data referenced by the STAC Item. In this case it is a cloud-optimised GeoTIFF files stored in Microsoft Azure. "
   ]
  },
  {
   "cell_type": "code",
   "execution_count": null,
   "id": "3a57a934-baa4-48c0-9ba0-f8c468da1c13",
   "metadata": {},
   "outputs": [],
   "source": [
    "# Search the Planetary Computers S2 Catalog\n",
    "s2_search = pc_catalog.search(\n",
    "    collections=[\"sentinel-2-l2a\"],\n",
    "    bbox=bbox,\n",
    "    datetime=time_of_interest,\n",
    "    query={\"eo:cloud_cover\": {\"lt\": 10}},\n",
    ")\n",
    "\n",
    "# Check how many items were returned\n",
    "s2_items = s2_search.item_collection()\n",
    "print(f\"Returned {len(s2_items)} Items\")"
   ]
  },
  {
   "cell_type": "code",
   "execution_count": null,
   "id": "2775c3d6-3984-4b17-a73f-2c05823c6606",
   "metadata": {},
   "outputs": [],
   "source": [
    "s2_items"
   ]
  },
  {
   "cell_type": "markdown",
   "id": "3dfec9be-511c-47a4-980d-ff0f00b7be12",
   "metadata": {},
   "source": [
    "### Download data\n",
    "\n",
    "Now we've completed a search of the STAC API and identified that there are two Sentinel-2 images that meet our search criteria, we're in a position to download these images and use their data. \n",
    "\n",
    "As these are optical images of the Earth's surface, we'd like to use the least cloudy image.  We can write a small routine to find the STAC Item with the lowest eo:cloud_cover value and download that item. \n",
    "\n",
    "We imported the `EOExtension` module as `eo` at the start of the notebook. We can use call the `eo.ext()` method on a STAC Item to extend it with properties from the `eo` extension. This allows us to get the `eo` item properties such as `cloud_cover` easily. \n",
    "\n",
    "Let's loop over all the STAC Items in our search, retrieve their `eo:cloud_cover` value, and append that value to a list. "
   ]
  },
  {
   "cell_type": "code",
   "execution_count": null,
   "id": "4a2b00d1-89c1-4add-afe2-ac11acebf642",
   "metadata": {},
   "outputs": [],
   "source": [
    "# empty list\n",
    "cloud_cover = []\n",
    "for i in s2_items:\n",
    "    cloud_cover.append(eo.ext(i).cloud_cover)"
   ]
  },
  {
   "cell_type": "markdown",
   "id": "7c717b24-396b-4898-bf14-627a9358d20a",
   "metadata": {},
   "source": [
    "Next, we'll find the minimum cloud cover value and that STAC Item's position in our `ItemCollection` `s2_items`. "
   ]
  },
  {
   "cell_type": "code",
   "execution_count": null,
   "id": "8d470554-df18-474e-8e0c-ad95bba91f7d",
   "metadata": {},
   "outputs": [],
   "source": [
    "min_cloud_cover = min(cloud_cover)\n",
    "min_cloud_cover_idx = cloud_cover.index(min_cloud_cover)\n",
    "print(f\"The STAC Item with lowest cloud cover had {min_cloud_cover}% cloud cover\")\n",
    "print(f\"The index postion of the STAC Item with lowest cloud cover in our ItemCollection is {min_cloud_cover_idx}\")"
   ]
  },
  {
   "cell_type": "markdown",
   "id": "e35b739b-0a9a-4ca9-9bd5-79176fea4fc9",
   "metadata": {},
   "source": [
    "Let's subset the the STAC Item with the lowest cloud cover from our `ItemCollection`. This should give us a single STAC Item which we can inspect. "
   ]
  },
  {
   "cell_type": "code",
   "execution_count": null,
   "id": "21443c21-ded4-46ec-a01e-6893b9afa98e",
   "metadata": {},
   "outputs": [],
   "source": [
    "least_cloudy_s2 = s2_items[min_cloud_cover_idx]\n",
    "least_cloudy_s2"
   ]
  },
  {
   "cell_type": "markdown",
   "id": "a1e3464e-be9e-44e6-90f6-f5d885bca236",
   "metadata": {},
   "source": [
    "Now we've identified the STAC Item with the lowest cloud cover, we need to download it. This is where we head to the Assets property of the STAC Item where we see a series of `href` properties with hyperlinks to where that data is physically stored (here, this is in Azure Blob Storage as cloud-optimised GeoTIFF files). \n",
    "\n",
    "We can print out the list of Assets associated with the STAC Item."
   ]
  },
  {
   "cell_type": "code",
   "execution_count": null,
   "id": "273f54ec-3325-404d-9779-32ab542f4db3",
   "metadata": {},
   "outputs": [],
   "source": [
    "# print assets properties of STAC Item\n",
    "least_cloudy_s2.assets.keys()"
   ]
  },
  {
   "cell_type": "code",
   "execution_count": null,
   "id": "dee8bd50-c088-455a-9e68-6268efe2f426",
   "metadata": {},
   "outputs": [],
   "source": [
    "# lets look at the property for B02 - blue band reflectance\n",
    "least_cloudy_s2.assets[\"B02\"]"
   ]
  },
  {
   "cell_type": "markdown",
   "id": "97f1fdf1-825d-4af5-a876-223f7c2c831d",
   "metadata": {},
   "source": [
    "Let's download the red band data to a NumPy `ndarray`. The `href` points to a cloud-optmised GeoTIFF (COG) file stored in Azure Blob Storage (i.e. in the cloud). A COG file is similar to a regular GeoTIFF file, but it can receive HTTP requests to retrieve portions of data that correspond to a geographic extent and at a particular zoom level. \n",
    "\n",
    "Planet (a commercial CubeSat company that make use of STAC and GeoTIFFs in their products) have a <a href=\"An Introduction to Cloud Optimized GeoTIFFS (COGs) Part 1: Overview\" target=\"_blank\">blog</a> post that introduce COGs.\n",
    "\n",
    "### Recap quiz\n",
    "\n",
    "<details>\n",
    "    <summary><b>Why do these features of a cloud-optimised GeoTIFF make them more suited to working with big geospatial datasets than regular GeoTIFF files?</b></summary>\n",
    "As geospatial datasets increase in size (e.g. satellites capturing data with ever finer spatial resolutions and with a higher cadence) the amount of data we'd need to store and read into memory increases. This might exceed our computer's capacity or result in long runtimes for our program. COGs allow us to just read the data that corresponds to our area-of-interest and not the entire file. This means we can make use of the larger storage capacity of cloud providers and just retrieve the data we need. \n",
    "</details>\n",
    "\n",
    "<p></p>\n",
    "\n",
    "To download the data for the red band we need to get its link or `href`"
   ]
  },
  {
   "cell_type": "code",
   "execution_count": null,
   "id": "29433c9a-8c6e-4b30-8dd2-e70cb69a93a8",
   "metadata": {},
   "outputs": [],
   "source": [
    "least_cloudy_red_href = least_cloudy_s2.assets[\"B04\"].href\n",
    "least_cloudy_red_href"
   ]
  },
  {
   "cell_type": "markdown",
   "id": "7e8eed2e-46fb-4431-8d73-42b55e370e25",
   "metadata": {},
   "source": [
    "#### Signing links\n",
    "\n",
    "To download data from the Planetary Computer the link needs to be \"signed\". This allows Microsoft to manage traffic and use of the Planetary Computer's resources in the cloud. \n",
    "\n",
    "The `planetary_computer` package was imported as `pc` and has a `sign()` function we can use to sign links. You should see a code has been appended to the link to the COG - it has been signed. "
   ]
  },
  {
   "cell_type": "code",
   "execution_count": null,
   "id": "c4bb7a77-d190-4a88-8f26-cc610191b57d",
   "metadata": {},
   "outputs": [],
   "source": [
    "least_cloudy_red_href = pc.sign(least_cloudy_red_href)\n",
    "least_cloudy_red_href"
   ]
  },
  {
   "cell_type": "markdown",
   "id": "152ea751-ef8e-4a03-b890-45bf15377765",
   "metadata": {},
   "source": [
    "#### Download COG data\n",
    "\n",
    "We can read data from COG files in the cloud using rasterio in a similar way to how we've been reading local GeoTIFF files on our machine. \n",
    "\n",
    "We use the `rasterio.open()` function to open a file connection to the COG in the cloud and use the connection objects `read()` method to read data from the COG in the cloud to a NumPy `ndarray` on our machine. \n",
    "\n",
    "However, to read in a subset of the data we use the `window` argument of `read()` and pass in a `window` object. \n",
    "\n",
    "A `Window` object is a rectangular subset of raster defined as `Window(column_offset, row_offset, width, height)`. \n",
    "\n",
    "The rasterio.windows module has a <a href=\"https://rasterio.readthedocs.io/en/latest/api/rasterio.windows.html#rasterio.windows.from_bounds\" target=\"_blank\">`from_bounds()`</a> function which converts bounding coordinates to a `Window` object. \n",
    "\n",
    "rasterio has a `features` module which has as a `bounds()` function which takes in a GeoJSON geometry or Shapely `geometry` and returns a (left, bottom, right, top) bounding box which we can use to create a `Window`. \n",
    "\n",
    "However, our GeoJSON geometry will likely be in EPSG:4326 (geographic) coordinate system which could be different from the project system of the COG we're trying to read data from. This requires us to use rasterio `transform_bounds()` function to transform our bounding box coordinates to the coordinates of the COG data. \n",
    "\n",
    "To summarise this process: \n",
    "\n",
    "1. use `features.bounds()` to convert GeoJSON or Shapely `geometry` to a bounding box.\n",
    "2. use `warp.transform_bounds()` to convert the bounding box to the CRS of the COG data.\n",
    "3. use `windows.from_bounds()` to convert the reprojected bounding box to a `Window` object.\n",
    "4. pass the `Window` object to `read()` to read only data from the COG within the `Window`. \n"
   ]
  },
  {
   "cell_type": "code",
   "execution_count": null,
   "id": "0d31a3d4-a5f8-41ce-802f-3f97ab4b0d91",
   "metadata": {},
   "outputs": [],
   "source": [
    "# open a connection to the COG using its signed link\n",
    "with rasterio.open(least_cloudy_red_href) as ds:\n",
    "    aoi_bounds = features.bounds(aoi_shapely)\n",
    "    warped_aoi_bounds = warp.transform_bounds(\"epsg:4326\", ds.crs, *aoi_bounds)\n",
    "    aoi_window = windows.from_bounds(transform=ds.transform, *warped_aoi_bounds)\n",
    "    meta = ds.meta\n",
    "    band_data = ds.read(1, window=aoi_window)"
   ]
  },
  {
   "cell_type": "code",
   "execution_count": null,
   "id": "6d9cc83b-5f37-4051-ad8e-8d390938d5df",
   "metadata": {},
   "outputs": [],
   "source": [
    "# check the meta object for the COG metadata\n",
    "meta"
   ]
  },
  {
   "cell_type": "code",
   "execution_count": null,
   "id": "99ddb07a-80d1-46dd-9bad-ea9de8913a05",
   "metadata": {},
   "outputs": [],
   "source": [
    "# let's visualise the data to check it looks ok\n",
    "px.imshow(band_data, color_continuous_scale=\"Reds\")"
   ]
  },
  {
   "cell_type": "markdown",
   "id": "fa2480f7-c426-42da-af25-4f5004a732ee",
   "metadata": {},
   "source": [
    "### Recap quiz\n",
    "\n",
    "**Can you download and visualise near infrared reflectance from the same STAC Item? near infrared reflectance is band 8.**"
   ]
  },
  {
   "cell_type": "code",
   "execution_count": null,
   "id": "b63414ce-9aae-4468-ae0c-abf61315e3b0",
   "metadata": {},
   "outputs": [],
   "source": [
    "## ADD CODE HERE ##"
   ]
  },
  {
   "cell_type": "markdown",
   "id": "0429151f-6378-4d8e-9abc-67d5e6067600",
   "metadata": {},
   "source": [
    "<details>\n",
    "    <summary><b>answer</b></summary>\n",
    "\n",
    "```python\n",
    "least_cloudy_nir_href = least_cloudy_s2.assets[\"B08\"].href\n",
    "least_cloudy_nir_href = pc.sign(least_cloudy_nir_href)\n",
    "\n",
    "with rasterio.open(least_cloudy_nir_href) as ds:\n",
    "    aoi_bounds = features.bounds(aoi_shapely)\n",
    "    warped_aoi_bounds = warp.transform_bounds(\"epsg:4326\", ds.crs, *aoi_bounds)\n",
    "    aoi_window = windows.from_bounds(transform=ds.transform, *warped_aoi_bounds)\n",
    "    meta = ds.meta\n",
    "    band_data = ds.read(1, window=aoi_window)\n",
    "    \n",
    "px.imshow(band_data, color_continuous_scale=\"viridis\")\n",
    "```\n",
    "</details>"
   ]
  },
  {
   "cell_type": "markdown",
   "id": "e676ef5a-1130-4d38-8a5c-ac9e38695f09",
   "metadata": {},
   "source": [
    "## Sentinel-2 and Amazon Web Services\n",
    "\n",
    "One of the advantages of the STAC specification is that it's a common format for describing spatiotemporal assets. This means we can repeat our workflow to retrieve data from other locations (e.g. other cloud providers). Let's demonstrate this by downloading Sentinel-2 data for the same location and datetime from Amazon Web Services instead.\n",
    "\n",
    "Free Sentinel-2 cloud-optimised GeoTIFFs can be found on AWS <a href=\"https://registry.opendata.aws/sentinel-2-l2a-cogs/\" target=\"_blank\">here</a> and the URL for the STAC API is `\"https://earth-search.aws.element84.com/v0\"`.\n",
    "\n",
    "First, we create a `pystac_client.Client` object and open the STAC API. "
   ]
  },
  {
   "cell_type": "code",
   "execution_count": null,
   "id": "3754ec7d-3362-4965-8a06-308ad54eaa30",
   "metadata": {},
   "outputs": [],
   "source": [
    "aws_catalog = pystac_client.Client.open(\n",
    "    \"https://earth-search.aws.element84.com/v0\"\n",
    ")"
   ]
  },
  {
   "cell_type": "markdown",
   "id": "eb0475e4-df89-480b-a4ad-bdb0c808ebea",
   "metadata": {},
   "source": [
    "A `pystac_client.Client` object has a `get_collections()` method which lists the STAC Collections within the STAC Catalog. Let's use the `aws_catalog`'s `get_collections()` method to list of STAC Collections in AWS's Earth Search. "
   ]
  },
  {
   "cell_type": "code",
   "execution_count": null,
   "id": "8b8ab6ea-8c17-4d64-be98-95865ba6d0fa",
   "metadata": {},
   "outputs": [],
   "source": [
    "# search a catalog by listing its collections\n",
    "collections = list(aws_catalog.get_collections())\n",
    "\n",
    "print(f\"Number of collections: {len(collections)}\")\n",
    "print(\"Collections IDs:\")\n",
    "for collection in collections:\n",
    "    print(f\"- {collection.id}\")"
   ]
  },
  {
   "cell_type": "markdown",
   "id": "1a0b2c68-17e7-40cb-a091-fbbe9d8f2d7c",
   "metadata": {},
   "source": [
    "We're after the `sentinel-s2-l2a-cogs` collection. However, this is an example of how you can query a root catalog to find out what sub-catalogs it contains and could be useful for your analysis. For example, we can also see there is some Landsat 8 data available on AWS. \n",
    "\n",
    "Let's create a search of AWS STAC Catalog using the `sentinel-s2-l2a-cogs` collection."
   ]
  },
  {
   "cell_type": "code",
   "execution_count": null,
   "id": "ab435ce0-ff99-495e-b477-e94722b869c8",
   "metadata": {},
   "outputs": [],
   "source": [
    "aws_search = aws_catalog.search(\n",
    "    collections=[\"sentinel-s2-l2a-cogs\"],\n",
    "    bbox=bbox,\n",
    "    datetime=time_of_interest,\n",
    "    query={\"eo:cloud_cover\": {\"lt\": 10}},\n",
    ")\n",
    "\n",
    "# Check how many items were returned\n",
    "aws_items = aws_search.item_collection()\n",
    "print(f\"Returned {len(aws_items)} Items\")"
   ]
  },
  {
   "cell_type": "code",
   "execution_count": null,
   "id": "db118966-6b27-4073-8909-02e9e4ecb561",
   "metadata": {},
   "outputs": [],
   "source": [
    "aws_items"
   ]
  },
  {
   "cell_type": "markdown",
   "id": "995decab-fc6e-466c-85cb-e466231b7201",
   "metadata": {},
   "source": [
    "Inspecting the `ItemCollection` from AWS you notice similarities to the organisation of STAC Items as was returned from Microsoft's Planetary Computer. One of the Assets is a Thumbnail which is a preview image in PNG format. This is useful if we want to visually inspect the satellite image without needing to download all the raw data. Let's demonstrate how to download and visualise the Thumbnail image. \n",
    "\n",
    "We can use `io` from the scikit-image package to read a PNG file.\n",
    "\n",
    "Here, we'll get the first STAC Item from `aws_items` and access its Assets to get the link to the Thumbnail PNG file. Note, this thumbnail is for the Sentinel-2 tile and not just the area-of-interest for our field. "
   ]
  },
  {
   "cell_type": "code",
   "execution_count": null,
   "id": "c8934c31-246f-4382-a4d9-934d2fbd6b2d",
   "metadata": {},
   "outputs": [],
   "source": [
    "img = io.imread(aws_items[0].assets[\"thumbnail\"].href)\n",
    "px.imshow(img)"
   ]
  }
 ],
 "metadata": {
  "kernelspec": {
   "display_name": "Python 3 (ipykernel)",
   "language": "python",
   "name": "python3"
  },
  "language_info": {
   "codemirror_mode": {
    "name": "ipython",
    "version": 3
   },
   "file_extension": ".py",
   "mimetype": "text/x-python",
   "name": "python",
   "nbconvert_exporter": "python",
   "pygments_lexer": "ipython3",
   "version": "3.10.8"
  }
 },
 "nbformat": 4,
 "nbformat_minor": 5
}
