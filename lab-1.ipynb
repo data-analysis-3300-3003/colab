{
 "cells": [
  {
   "cell_type": "markdown",
   "id": "87c9c62b-08d0-4969-b603-64cf2bbe7615",
   "metadata": {},
   "source": [
    "# Introduction\n",
    "\n",
    "This lab will provide an introduction to programming concepts in Python. It will start by running a short Python program that loads some crop yield data collected by harvesters and visualises this data on interactive maps and charts. Then, we will see how this program uses a range of Python concepts to complete its tasks. The concepts this lab will cover are:\n",
    "\n",
    "* data types and structures\n",
    "* variables and bindings\n",
    "* control flow, loops, and conditional execution\n",
    "* classes and objects\n"
   ]
  },
  {
   "cell_type": "markdown",
   "id": "bf1ddea4-0290-47c2-a128-3e5732de4339",
   "metadata": {},
   "source": [
    "## Setup\n",
    "\n",
    "### Run the labs\n",
    "\n",
    "You can run the labs locally on your machine or you can use cloud environments provided by Google Colab or Binderhub. **If you're working with Google Colab and Binderhub be aware that your sessions are temporary and you'll need to take care to save, backup, and download your work.**\n",
    "\n",
    "<a href=\"https://colab.research.google.com/github/data-analysis-3300-3003/colab/blob/main/lab-1.ipynb\" target=\"_blank\">\n",
    "  <img src=\"https://colab.research.google.com/assets/colab-badge.svg\" alt=\"Open In Colab\"/>\n",
    "</a>\n",
    "\n",
    "<a href=\"https://mybinder.org/v2/gh/binder-3300-3003/binder/HEAD\" target=\"_blank\">\n",
    "  <img src=\"https://mybinder.org/badge_logo.svg\" alt=\"Open In Binder\"/>\n",
    "</a>\n",
    "\n",
    "### Download data\n",
    "\n",
    "If you need to download the date for this lab, run the following code snippet. "
   ]
  },
  {
   "cell_type": "code",
   "execution_count": 5,
   "id": "2cfb976e-00f2-49c8-ae64-3ff74f6fc5eb",
   "metadata": {},
   "outputs": [],
   "source": [
    "import os\n",
    "\n",
    "if \"week-1\" not in os.listdir(os.getcwd()):\n",
    "    os.system('wget \"https://github.com/data-analysis-3300-3003/data/raw/main/data/week-1.zip\"')\n",
    "    os.system('unzip \"week-1.zip\"')"
   ]
  },
  {
   "cell_type": "markdown",
   "id": "a67b79e9-06eb-4b78-adc2-b28cd59ebc39",
   "metadata": {},
   "source": [
    "### Install packages\n",
    "\n",
    "If you're working in Google Colab, you'll need to install the required packages that don't come with the colab environment."
   ]
  },
  {
   "cell_type": "code",
   "execution_count": 6,
   "id": "36a5c5e3-fa2b-47d7-95e7-3db7986ef0a6",
   "metadata": {},
   "outputs": [],
   "source": [
    "if 'google.colab' in str(get_ipython()):\n",
    "    !pip install geopandas\n",
    "    !pip install pyarrow\n",
    "    !pip install mapclassify\n",
    "    !pip install rasterio"
   ]
  },
  {
   "cell_type": "markdown",
   "id": "84d5baf5-f279-4220-82cb-846e157b78b2",
   "metadata": {},
   "source": [
    "### Import modules"
   ]
  },
  {
   "cell_type": "code",
   "execution_count": 7,
   "id": "e576f53a",
   "metadata": {},
   "outputs": [],
   "source": [
    "# Import modules\n",
    "import os\n",
    "import pandas as pd\n",
    "import geopandas as gpd\n",
    "import plotly.express as px\n",
    "import plotly.io as pio\n",
    "\n",
    "# setup renderer\n",
    "if 'google.colab' in str(get_ipython()):\n",
    "    pio.renderers.default = \"colab\"\n",
    "else:\n",
    "    pio.renderers.default = \"jupyterlab\""
   ]
  },
  {
   "cell_type": "markdown",
   "id": "74ba9b15",
   "metadata": {},
   "source": [
    "# A first Python program\n",
    "\n",
    "Python is a programming language. A Python program is a series of statements which are executed in turn by your computer when the program is run. These statements perform tasks with data such as reading data from files stored on your disk, transforming data using mathematical operations, generating graphical outputs, or communicating with other computers over networks. \n",
    "\n",
    "Here, a short Python program is demonstrated that reads in crop yield data collected by a harvester in Western Australia's Wheatbelt, converts the data into a spatial format, and visualises the data on a web map and charts.  "
   ]
  },
  {
   "cell_type": "code",
   "execution_count": 8,
   "id": "e311d477-e36c-4218-aea8-5e6dbd377728",
   "metadata": {},
   "outputs": [
    {
     "name": "stdout",
     "output_type": "stream",
     "text": [
      "['.DS_Store', '.ipynb_checkpoints', 'canola-yield-df-1.csv', 'canola-yield-df-2.csv', 'canola-yield-df-3.csv']\n",
      "Loading file canola-yield-df-1.csv into a Pandas DataFrame\n",
      "Loading file canola-yield-df-2.csv into a Pandas DataFrame\n",
      "Loading file canola-yield-df-3.csv into a Pandas DataFrame\n"
     ]
    },
    {
     "data": {
      "text/html": [
       "<div style=\"width:100%;\"><div style=\"position:relative;width:100%;height:0;padding-bottom:60%;\"><span style=\"color:#565656\">Make this Notebook Trusted to load map: File -> Trust Notebook</span><iframe srcdoc=\"&lt;!DOCTYPE html&gt;\n",
       "&lt;html&gt;\n",
       "&lt;head&gt;\n",
       "    \n",
       "    &lt;meta http-equiv=&quot;content-type&quot; content=&quot;text/html; charset=UTF-8&quot; /&gt;\n",
       "    \n",
       "        &lt;script&gt;\n",
       "            L_NO_TOUCH = false;\n",
       "            L_DISABLE_3D = false;\n",
       "        &lt;/script&gt;\n",
       "    \n",
       "    &lt;style&gt;html, body {width: 100%;height: 100%;margin: 0;padding: 0;}&lt;/style&gt;\n",
       "    &lt;style&gt;#map {position:absolute;top:0;bottom:0;right:0;left:0;}&lt;/style&gt;\n",
       "    &lt;script src=&quot;https://cdn.jsdelivr.net/npm/leaflet@1.9.3/dist/leaflet.js&quot;&gt;&lt;/script&gt;\n",
       "    &lt;script src=&quot;https://code.jquery.com/jquery-1.12.4.min.js&quot;&gt;&lt;/script&gt;\n",
       "    &lt;script src=&quot;https://cdn.jsdelivr.net/npm/bootstrap@5.2.2/dist/js/bootstrap.bundle.min.js&quot;&gt;&lt;/script&gt;\n",
       "    &lt;script src=&quot;https://cdnjs.cloudflare.com/ajax/libs/Leaflet.awesome-markers/2.0.2/leaflet.awesome-markers.js&quot;&gt;&lt;/script&gt;\n",
       "    &lt;link rel=&quot;stylesheet&quot; href=&quot;https://cdn.jsdelivr.net/npm/leaflet@1.9.3/dist/leaflet.css&quot;/&gt;\n",
       "    &lt;link rel=&quot;stylesheet&quot; href=&quot;https://cdn.jsdelivr.net/npm/bootstrap@5.2.2/dist/css/bootstrap.min.css&quot;/&gt;\n",
       "    &lt;link rel=&quot;stylesheet&quot; href=&quot;https://netdna.bootstrapcdn.com/bootstrap/3.0.0/css/bootstrap.min.css&quot;/&gt;\n",
       "    &lt;link rel=&quot;stylesheet&quot; href=&quot;https://cdn.jsdelivr.net/npm/@fortawesome/fontawesome-free@6.2.0/css/all.min.css&quot;/&gt;\n",
       "    &lt;link rel=&quot;stylesheet&quot; href=&quot;https://cdnjs.cloudflare.com/ajax/libs/Leaflet.awesome-markers/2.0.2/leaflet.awesome-markers.css&quot;/&gt;\n",
       "    &lt;link rel=&quot;stylesheet&quot; href=&quot;https://cdn.jsdelivr.net/gh/python-visualization/folium/folium/templates/leaflet.awesome.rotate.min.css&quot;/&gt;\n",
       "    \n",
       "            &lt;meta name=&quot;viewport&quot; content=&quot;width=device-width,\n",
       "                initial-scale=1.0, maximum-scale=1.0, user-scalable=no&quot; /&gt;\n",
       "            &lt;style&gt;\n",
       "                #map_0165c4f7fc721a8f45870a676203ce21 {\n",
       "                    position: relative;\n",
       "                    width: 100.0%;\n",
       "                    height: 100.0%;\n",
       "                    left: 0.0%;\n",
       "                    top: 0.0%;\n",
       "                }\n",
       "                .leaflet-container { font-size: 1rem; }\n",
       "            &lt;/style&gt;\n",
       "        \n",
       "    \n",
       "                    &lt;style&gt;\n",
       "                        .foliumtooltip {\n",
       "                            \n",
       "                        }\n",
       "                       .foliumtooltip table{\n",
       "                            margin: auto;\n",
       "                        }\n",
       "                        .foliumtooltip tr{\n",
       "                            text-align: left;\n",
       "                        }\n",
       "                        .foliumtooltip th{\n",
       "                            padding: 2px; padding-right: 8px;\n",
       "                        }\n",
       "                    &lt;/style&gt;\n",
       "            \n",
       "    &lt;script src=&quot;https://cdnjs.cloudflare.com/ajax/libs/d3/3.5.5/d3.min.js&quot;&gt;&lt;/script&gt;\n",
       "&lt;/head&gt;\n",
       "&lt;body&gt;\n",
       "    \n",
       "    \n",
       "            &lt;div class=&quot;folium-map&quot; id=&quot;map_0165c4f7fc721a8f45870a676203ce21&quot; &gt;&lt;/div&gt;\n",
       "        \n",
       "&lt;/body&gt;\n",
       "&lt;script&gt;\n",
       "    \n",
       "    \n",
       "            var map_0165c4f7fc721a8f45870a676203ce21 = L.map(\n",
       "                &quot;map_0165c4f7fc721a8f45870a676203ce21&quot;,\n",
       "                {\n",
       "                    center: [-31.600089760000003, 117.4910175],\n",
       "                    crs: L.CRS.EPSG3857,\n",
       "                    zoom: 10,\n",
       "                    zoomControl: true,\n",
       "                    preferCanvas: false,\n",
       "                }\n",
       "            );\n",
       "            L.control.scale().addTo(map_0165c4f7fc721a8f45870a676203ce21);\n",
       "\n",
       "            \n",
       "\n",
       "        \n",
       "    \n",
       "            var tile_layer_9df9313e389dc1cac26a89167c2d4284 = L.tileLayer(\n",
       "                &quot;https://server.arcgisonline.com/ArcGIS/rest/services/World_Imagery/MapServer/tile/{z}/{y}/{x}&quot;,\n",
       "                {&quot;attribution&quot;: &quot;Tiles \\u0026copy; Esri \\u0026mdash; Source: Esri, i-cubed, USDA, USGS, AEX, GeoEye, Getmapping, Aerogrid, IGN, IGP, UPR-EGP, and the GIS User Community&quot;, &quot;detectRetina&quot;: false, &quot;maxNativeZoom&quot;: 18, &quot;maxZoom&quot;: 18, &quot;minZoom&quot;: 0, &quot;noWrap&quot;: false, &quot;opacity&quot;: 1, &quot;subdomains&quot;: &quot;abc&quot;, &quot;tms&quot;: false}\n",
       "            ).addTo(map_0165c4f7fc721a8f45870a676203ce21);\n",
       "        \n",
       "    \n",
       "            map_0165c4f7fc721a8f45870a676203ce21.fitBounds(\n",
       "                [[-31.60879638, 117.4786819], [-31.59138314, 117.5033531]],\n",
       "                {}\n",
       "            );\n",
       "        \n",
       "    \n",
       "        function geo_json_abf6315ab0eee2145952037b7d740c3f_styler(feature) {\n",
       "            switch(feature.id) {\n",
       "                case &quot;0&quot;: case &quot;38&quot;: case &quot;49&quot;: case &quot;79&quot;: case &quot;211&quot;: case &quot;246&quot;: case &quot;408&quot;: case &quot;495&quot;: case &quot;534&quot;: case &quot;562&quot;: case &quot;718&quot;: case &quot;723&quot;: case &quot;762&quot;: case &quot;785&quot;: case &quot;790&quot;: case &quot;795&quot;: case &quot;811&quot;: case &quot;829&quot;: case &quot;946&quot;: case &quot;996&quot;: case &quot;997&quot;: \n",
       "                    return {&quot;color&quot;: &quot;#1d068e&quot;, &quot;fillColor&quot;: &quot;#1d068e&quot;, &quot;fillOpacity&quot;: 0.5, &quot;weight&quot;: 2};\n",
       "                case &quot;1&quot;: case &quot;48&quot;: case &quot;51&quot;: case &quot;55&quot;: case &quot;73&quot;: case &quot;77&quot;: case &quot;142&quot;: case &quot;167&quot;: case &quot;187&quot;: case &quot;189&quot;: case &quot;194&quot;: case &quot;195&quot;: case &quot;201&quot;: case &quot;212&quot;: case &quot;225&quot;: case &quot;245&quot;: case &quot;257&quot;: case &quot;274&quot;: case &quot;374&quot;: case &quot;376&quot;: case &quot;394&quot;: case &quot;406&quot;: case &quot;475&quot;: case &quot;498&quot;: case &quot;512&quot;: case &quot;515&quot;: case &quot;536&quot;: case &quot;553&quot;: case &quot;567&quot;: case &quot;572&quot;: case &quot;574&quot;: case &quot;580&quot;: case &quot;706&quot;: case &quot;710&quot;: case &quot;756&quot;: case &quot;765&quot;: case &quot;800&quot;: case &quot;825&quot;: case &quot;859&quot;: case &quot;860&quot;: case &quot;867&quot;: case &quot;870&quot;: case &quot;872&quot;: case &quot;876&quot;: case &quot;888&quot;: case &quot;898&quot;: case &quot;901&quot;: case &quot;923&quot;: case &quot;943&quot;: case &quot;958&quot;: case &quot;959&quot;: case &quot;968&quot;: case &quot;985&quot;: case &quot;986&quot;: case &quot;987&quot;: case &quot;994&quot;: \n",
       "                    return {&quot;color&quot;: &quot;#260591&quot;, &quot;fillColor&quot;: &quot;#260591&quot;, &quot;fillOpacity&quot;: 0.5, &quot;weight&quot;: 2};\n",
       "                case &quot;2&quot;: case &quot;87&quot;: case &quot;103&quot;: case &quot;110&quot;: case &quot;130&quot;: case &quot;149&quot;: case &quot;170&quot;: case &quot;191&quot;: case &quot;198&quot;: case &quot;265&quot;: case &quot;313&quot;: case &quot;365&quot;: case &quot;395&quot;: case &quot;401&quot;: case &quot;402&quot;: case &quot;415&quot;: case &quot;416&quot;: case &quot;432&quot;: case &quot;472&quot;: case &quot;490&quot;: case &quot;514&quot;: case &quot;528&quot;: case &quot;578&quot;: case &quot;587&quot;: case &quot;613&quot;: case &quot;642&quot;: case &quot;666&quot;: case &quot;673&quot;: case &quot;680&quot;: case &quot;749&quot;: case &quot;913&quot;: case &quot;917&quot;: case &quot;940&quot;: case &quot;976&quot;: case &quot;979&quot;: \n",
       "                    return {&quot;color&quot;: &quot;#350498&quot;, &quot;fillColor&quot;: &quot;#350498&quot;, &quot;fillOpacity&quot;: 0.5, &quot;weight&quot;: 2};\n",
       "                case &quot;3&quot;: case &quot;5&quot;: case &quot;20&quot;: case &quot;35&quot;: case &quot;91&quot;: case &quot;248&quot;: case &quot;255&quot;: case &quot;300&quot;: case &quot;307&quot;: case &quot;316&quot;: case &quot;356&quot;: case &quot;368&quot;: case &quot;387&quot;: case &quot;455&quot;: case &quot;509&quot;: case &quot;523&quot;: case &quot;543&quot;: case &quot;602&quot;: case &quot;614&quot;: case &quot;619&quot;: case &quot;624&quot;: case &quot;630&quot;: case &quot;696&quot;: case &quot;928&quot;: \n",
       "                    return {&quot;color&quot;: &quot;#41049d&quot;, &quot;fillColor&quot;: &quot;#41049d&quot;, &quot;fillOpacity&quot;: 0.5, &quot;weight&quot;: 2};\n",
       "                case &quot;4&quot;: case &quot;26&quot;: case &quot;338&quot;: case &quot;343&quot;: case &quot;352&quot;: case &quot;354&quot;: case &quot;380&quot;: case &quot;397&quot;: case &quot;608&quot;: case &quot;989&quot;: \n",
       "                    return {&quot;color&quot;: &quot;#4e02a2&quot;, &quot;fillColor&quot;: &quot;#4e02a2&quot;, &quot;fillOpacity&quot;: 0.5, &quot;weight&quot;: 2};\n",
       "                case &quot;6&quot;: case &quot;46&quot;: case &quot;348&quot;: case &quot;362&quot;: case &quot;366&quot;: case &quot;405&quot;: \n",
       "                    return {&quot;color&quot;: &quot;#4c02a1&quot;, &quot;fillColor&quot;: &quot;#4c02a1&quot;, &quot;fillOpacity&quot;: 0.5, &quot;weight&quot;: 2};\n",
       "                case &quot;7&quot;: case &quot;57&quot;: case &quot;93&quot;: case &quot;101&quot;: case &quot;106&quot;: case &quot;119&quot;: case &quot;244&quot;: case &quot;287&quot;: case &quot;398&quot;: case &quot;413&quot;: case &quot;440&quot;: case &quot;448&quot;: case &quot;449&quot;: case &quot;451&quot;: case &quot;473&quot;: case &quot;491&quot;: case &quot;511&quot;: case &quot;518&quot;: case &quot;593&quot;: case &quot;617&quot;: case &quot;626&quot;: case &quot;641&quot;: case &quot;643&quot;: case &quot;668&quot;: \n",
       "                    return {&quot;color&quot;: &quot;#3f049c&quot;, &quot;fillColor&quot;: &quot;#3f049c&quot;, &quot;fillOpacity&quot;: 0.5, &quot;weight&quot;: 2};\n",
       "                case &quot;8&quot;: \n",
       "                    return {&quot;color&quot;: &quot;#5c01a6&quot;, &quot;fillColor&quot;: &quot;#5c01a6&quot;, &quot;fillOpacity&quot;: 0.5, &quot;weight&quot;: 2};\n",
       "                case &quot;9&quot;: case &quot;10&quot;: case &quot;17&quot;: case &quot;60&quot;: case &quot;176&quot;: case &quot;177&quot;: case &quot;183&quot;: case &quot;218&quot;: case &quot;237&quot;: case &quot;252&quot;: case &quot;271&quot;: case &quot;281&quot;: case &quot;282&quot;: case &quot;292&quot;: case &quot;309&quot;: case &quot;328&quot;: case &quot;331&quot;: case &quot;357&quot;: case &quot;360&quot;: case &quot;392&quot;: case &quot;429&quot;: case &quot;445&quot;: case &quot;471&quot;: case &quot;488&quot;: case &quot;527&quot;: case &quot;622&quot;: case &quot;692&quot;: case &quot;702&quot;: case &quot;735&quot;: case &quot;741&quot;: case &quot;766&quot;: case &quot;797&quot;: case &quot;817&quot;: case &quot;823&quot;: case &quot;836&quot;: case &quot;842&quot;: case &quot;843&quot;: case &quot;847&quot;: case &quot;868&quot;: case &quot;944&quot;: case &quot;973&quot;: case &quot;998&quot;: case &quot;999&quot;: \n",
       "                    return {&quot;color&quot;: &quot;#2f0596&quot;, &quot;fillColor&quot;: &quot;#2f0596&quot;, &quot;fillOpacity&quot;: 0.5, &quot;weight&quot;: 2};\n",
       "                case &quot;11&quot;: case &quot;21&quot;: case &quot;63&quot;: case &quot;186&quot;: case &quot;233&quot;: case &quot;250&quot;: case &quot;280&quot;: case &quot;325&quot;: case &quot;346&quot;: case &quot;350&quot;: case &quot;381&quot;: case &quot;399&quot;: case &quot;421&quot;: case &quot;431&quot;: case &quot;442&quot;: case &quot;459&quot;: case &quot;481&quot;: case &quot;526&quot;: case &quot;544&quot;: case &quot;592&quot;: case &quot;596&quot;: case &quot;605&quot;: case &quot;606&quot;: case &quot;612&quot;: case &quot;636&quot;: case &quot;652&quot;: case &quot;662&quot;: case &quot;674&quot;: case &quot;685&quot;: case &quot;974&quot;: case &quot;982&quot;: \n",
       "                    return {&quot;color&quot;: &quot;#3e049c&quot;, &quot;fillColor&quot;: &quot;#3e049c&quot;, &quot;fillOpacity&quot;: 0.5, &quot;weight&quot;: 2};\n",
       "                case &quot;12&quot;: case &quot;15&quot;: case &quot;47&quot;: case &quot;72&quot;: case &quot;114&quot;: case &quot;171&quot;: case &quot;173&quot;: case &quot;209&quot;: case &quot;235&quot;: case &quot;321&quot;: case &quot;435&quot;: case &quot;531&quot;: case &quot;564&quot;: case &quot;712&quot;: case &quot;763&quot;: case &quot;778&quot;: case &quot;802&quot;: \n",
       "                    return {&quot;color&quot;: &quot;#19068c&quot;, &quot;fillColor&quot;: &quot;#19068c&quot;, &quot;fillOpacity&quot;: 0.5, &quot;weight&quot;: 2};\n",
       "                case &quot;13&quot;: case &quot;16&quot;: case &quot;95&quot;: case &quot;115&quot;: case &quot;116&quot;: case &quot;117&quot;: case &quot;155&quot;: case &quot;166&quot;: case &quot;204&quot;: case &quot;532&quot;: case &quot;789&quot;: \n",
       "                    return {&quot;color&quot;: &quot;#16078a&quot;, &quot;fillColor&quot;: &quot;#16078a&quot;, &quot;fillOpacity&quot;: 0.5, &quot;weight&quot;: 2};\n",
       "                case &quot;14&quot;: case &quot;29&quot;: case &quot;30&quot;: case &quot;36&quot;: case &quot;113&quot;: case &quot;169&quot;: case &quot;210&quot;: case &quot;224&quot;: case &quot;226&quot;: case &quot;476&quot;: case &quot;478&quot;: case &quot;550&quot;: case &quot;568&quot;: case &quot;660&quot;: case &quot;701&quot;: case &quot;721&quot;: case &quot;725&quot;: case &quot;743&quot;: case &quot;752&quot;: case &quot;754&quot;: case &quot;772&quot;: case &quot;774&quot;: case &quot;793&quot;: case &quot;875&quot;: case &quot;885&quot;: case &quot;896&quot;: case &quot;900&quot;: case &quot;907&quot;: case &quot;924&quot;: case &quot;957&quot;: \n",
       "                    return {&quot;color&quot;: &quot;#20068f&quot;, &quot;fillColor&quot;: &quot;#20068f&quot;, &quot;fillOpacity&quot;: 0.5, &quot;weight&quot;: 2};\n",
       "                case &quot;18&quot;: case &quot;45&quot;: case &quot;249&quot;: case &quot;600&quot;: \n",
       "                    return {&quot;color&quot;: &quot;#5302a3&quot;, &quot;fillColor&quot;: &quot;#5302a3&quot;, &quot;fillOpacity&quot;: 0.5, &quot;weight&quot;: 2};\n",
       "                case &quot;19&quot;: case &quot;28&quot;: case &quot;42&quot;: case &quot;44&quot;: case &quot;251&quot;: case &quot;278&quot;: case &quot;290&quot;: case &quot;386&quot;: case &quot;441&quot;: case &quot;450&quot;: case &quot;465&quot;: case &quot;603&quot;: case &quot;618&quot;: case &quot;623&quot;: case &quot;661&quot;: case &quot;733&quot;: \n",
       "                    return {&quot;color&quot;: &quot;#46039f&quot;, &quot;fillColor&quot;: &quot;#46039f&quot;, &quot;fillOpacity&quot;: 0.5, &quot;weight&quot;: 2};\n",
       "                case &quot;22&quot;: case &quot;89&quot;: case &quot;96&quot;: case &quot;112&quot;: case &quot;165&quot;: case &quot;172&quot;: case &quot;202&quot;: case &quot;203&quot;: case &quot;301&quot;: case &quot;533&quot;: case &quot;547&quot;: case &quot;565&quot;: case &quot;573&quot;: case &quot;664&quot;: case &quot;687&quot;: case &quot;777&quot;: case &quot;779&quot;: case &quot;788&quot;: case &quot;794&quot;: case &quot;861&quot;: case &quot;873&quot;: case &quot;895&quot;: case &quot;934&quot;: case &quot;947&quot;: case &quot;971&quot;: \n",
       "                    return {&quot;color&quot;: &quot;#1b068d&quot;, &quot;fillColor&quot;: &quot;#1b068d&quot;, &quot;fillOpacity&quot;: 0.5, &quot;weight&quot;: 2};\n",
       "                case &quot;23&quot;: case &quot;53&quot;: case &quot;111&quot;: case &quot;164&quot;: case &quot;213&quot;: case &quot;342&quot;: case &quot;407&quot;: case &quot;410&quot;: case &quot;425&quot;: case &quot;479&quot;: case &quot;539&quot;: case &quot;582&quot;: case &quot;633&quot;: case &quot;684&quot;: case &quot;700&quot;: case &quot;717&quot;: case &quot;755&quot;: case &quot;761&quot;: case &quot;769&quot;: case &quot;782&quot;: case &quot;783&quot;: case &quot;784&quot;: case &quot;792&quot;: case &quot;819&quot;: case &quot;830&quot;: case &quot;834&quot;: case &quot;846&quot;: case &quot;858&quot;: case &quot;864&quot;: case &quot;871&quot;: case &quot;874&quot;: case &quot;890&quot;: case &quot;892&quot;: case &quot;911&quot;: case &quot;949&quot;: case &quot;988&quot;: \n",
       "                    return {&quot;color&quot;: &quot;#220690&quot;, &quot;fillColor&quot;: &quot;#220690&quot;, &quot;fillOpacity&quot;: 0.5, &quot;weight&quot;: 2};\n",
       "                case &quot;24&quot;: case &quot;33&quot;: case &quot;43&quot;: case &quot;68&quot;: case &quot;88&quot;: case &quot;92&quot;: case &quot;104&quot;: case &quot;108&quot;: case &quot;120&quot;: case &quot;123&quot;: case &quot;152&quot;: case &quot;184&quot;: case &quot;216&quot;: case &quot;293&quot;: case &quot;312&quot;: case &quot;318&quot;: case &quot;364&quot;: case &quot;367&quot;: case &quot;403&quot;: case &quot;430&quot;: case &quot;453&quot;: case &quot;470&quot;: case &quot;482&quot;: case &quot;500&quot;: case &quot;502&quot;: case &quot;517&quot;: case &quot;548&quot;: case &quot;589&quot;: case &quot;590&quot;: case &quot;620&quot;: case &quot;625&quot;: case &quot;632&quot;: case &quot;663&quot;: case &quot;703&quot;: case &quot;807&quot;: \n",
       "                    return {&quot;color&quot;: &quot;#3c049b&quot;, &quot;fillColor&quot;: &quot;#3c049b&quot;, &quot;fillOpacity&quot;: 0.5, &quot;weight&quot;: 2};\n",
       "                case &quot;25&quot;: case &quot;138&quot;: case &quot;299&quot;: case &quot;317&quot;: case &quot;326&quot;: case &quot;363&quot;: case &quot;389&quot;: case &quot;422&quot;: case &quot;522&quot;: case &quot;585&quot;: case &quot;634&quot;: case &quot;644&quot;: \n",
       "                    return {&quot;color&quot;: &quot;#44039e&quot;, &quot;fillColor&quot;: &quot;#44039e&quot;, &quot;fillOpacity&quot;: 0.5, &quot;weight&quot;: 2};\n",
       "                case &quot;27&quot;: \n",
       "                    return {&quot;color&quot;: &quot;#5801a4&quot;, &quot;fillColor&quot;: &quot;#5801a4&quot;, &quot;fillOpacity&quot;: 0.5, &quot;weight&quot;: 2};\n",
       "                case &quot;31&quot;: case &quot;52&quot;: case &quot;70&quot;: case &quot;80&quot;: case &quot;98&quot;: case &quot;109&quot;: case &quot;148&quot;: case &quot;162&quot;: case &quot;174&quot;: case &quot;190&quot;: case &quot;196&quot;: case &quot;236&quot;: case &quot;238&quot;: case &quot;242&quot;: case &quot;253&quot;: case &quot;297&quot;: case &quot;320&quot;: case &quot;323&quot;: case &quot;411&quot;: case &quot;477&quot;: case &quot;566&quot;: case &quot;570&quot;: case &quot;571&quot;: case &quot;691&quot;: case &quot;708&quot;: case &quot;716&quot;: case &quot;722&quot;: case &quot;724&quot;: case &quot;726&quot;: case &quot;729&quot;: case &quot;734&quot;: case &quot;745&quot;: case &quot;750&quot;: case &quot;764&quot;: case &quot;787&quot;: case &quot;799&quot;: case &quot;806&quot;: case &quot;827&quot;: case &quot;831&quot;: case &quot;839&quot;: case &quot;849&quot;: case &quot;851&quot;: case &quot;862&quot;: case &quot;863&quot;: case &quot;865&quot;: case &quot;882&quot;: case &quot;884&quot;: case &quot;891&quot;: case &quot;899&quot;: case &quot;903&quot;: case &quot;914&quot;: case &quot;925&quot;: case &quot;937&quot;: case &quot;945&quot;: \n",
       "                    return {&quot;color&quot;: &quot;#240691&quot;, &quot;fillColor&quot;: &quot;#240691&quot;, &quot;fillOpacity&quot;: 0.5, &quot;weight&quot;: 2};\n",
       "                case &quot;32&quot;: case &quot;71&quot;: case &quot;121&quot;: case &quot;124&quot;: case &quot;134&quot;: case &quot;139&quot;: case &quot;163&quot;: case &quot;168&quot;: case &quot;208&quot;: case &quot;221&quot;: case &quot;228&quot;: case &quot;229&quot;: case &quot;230&quot;: case &quot;259&quot;: case &quot;261&quot;: case &quot;302&quot;: case &quot;310&quot;: case &quot;373&quot;: case &quot;391&quot;: case &quot;418&quot;: case &quot;427&quot;: case &quot;446&quot;: case &quot;513&quot;: case &quot;535&quot;: case &quot;537&quot;: case &quot;556&quot;: case &quot;579&quot;: case &quot;677&quot;: case &quot;695&quot;: case &quot;720&quot;: case &quot;736&quot;: case &quot;738&quot;: case &quot;739&quot;: case &quot;746&quot;: case &quot;747&quot;: case &quot;748&quot;: case &quot;751&quot;: case &quot;759&quot;: case &quot;767&quot;: case &quot;768&quot;: case &quot;781&quot;: case &quot;791&quot;: case &quot;803&quot;: case &quot;824&quot;: case &quot;840&quot;: case &quot;841&quot;: case &quot;845&quot;: case &quot;848&quot;: case &quot;852&quot;: case &quot;894&quot;: case &quot;904&quot;: case &quot;916&quot;: case &quot;918&quot;: case &quot;932&quot;: case &quot;933&quot;: case &quot;935&quot;: case &quot;939&quot;: case &quot;966&quot;: case &quot;967&quot;: case &quot;969&quot;: case &quot;983&quot;: \n",
       "                    return {&quot;color&quot;: &quot;#280592&quot;, &quot;fillColor&quot;: &quot;#280592&quot;, &quot;fillOpacity&quot;: 0.5, &quot;weight&quot;: 2};\n",
       "                case &quot;34&quot;: case &quot;64&quot;: case &quot;75&quot;: case &quot;94&quot;: case &quot;100&quot;: case &quot;193&quot;: case &quot;234&quot;: case &quot;240&quot;: case &quot;256&quot;: case &quot;304&quot;: case &quot;306&quot;: case &quot;335&quot;: case &quot;355&quot;: case &quot;396&quot;: case &quot;400&quot;: case &quot;419&quot;: case &quot;420&quot;: case &quot;433&quot;: case &quot;456&quot;: case &quot;467&quot;: case &quot;483&quot;: case &quot;492&quot;: case &quot;493&quot;: case &quot;525&quot;: case &quot;594&quot;: case &quot;611&quot;: case &quot;653&quot;: case &quot;689&quot;: case &quot;704&quot;: case &quot;815&quot;: case &quot;938&quot;: case &quot;950&quot;: case &quot;963&quot;: case &quot;972&quot;: case &quot;975&quot;: \n",
       "                    return {&quot;color&quot;: &quot;#3a049a&quot;, &quot;fillColor&quot;: &quot;#3a049a&quot;, &quot;fillOpacity&quot;: 0.5, &quot;weight&quot;: 2};\n",
       "                case &quot;37&quot;: case &quot;67&quot;: case &quot;131&quot;: case &quot;175&quot;: case &quot;180&quot;: case &quot;181&quot;: case &quot;223&quot;: case &quot;243&quot;: case &quot;262&quot;: case &quot;291&quot;: case &quot;298&quot;: case &quot;436&quot;: case &quot;443&quot;: case &quot;444&quot;: case &quot;461&quot;: case &quot;494&quot;: case &quot;506&quot;: case &quot;576&quot;: case &quot;621&quot;: case &quot;647&quot;: case &quot;665&quot;: case &quot;678&quot;: case &quot;690&quot;: case &quot;709&quot;: case &quot;719&quot;: case &quot;730&quot;: case &quot;732&quot;: case &quot;737&quot;: case &quot;742&quot;: case &quot;770&quot;: case &quot;780&quot;: case &quot;798&quot;: case &quot;809&quot;: case &quot;833&quot;: case &quot;854&quot;: case &quot;877&quot;: case &quot;880&quot;: case &quot;887&quot;: case &quot;902&quot;: case &quot;906&quot;: case &quot;912&quot;: case &quot;954&quot;: case &quot;955&quot;: case &quot;964&quot;: case &quot;977&quot;: \n",
       "                    return {&quot;color&quot;: &quot;#2e0595&quot;, &quot;fillColor&quot;: &quot;#2e0595&quot;, &quot;fillOpacity&quot;: 0.5, &quot;weight&quot;: 2};\n",
       "                case &quot;39&quot;: case &quot;59&quot;: case &quot;65&quot;: case &quot;122&quot;: case &quot;129&quot;: case &quot;158&quot;: case &quot;161&quot;: case &quot;185&quot;: case &quot;192&quot;: case &quot;200&quot;: case &quot;206&quot;: case &quot;220&quot;: case &quot;227&quot;: case &quot;247&quot;: case &quot;266&quot;: case &quot;269&quot;: case &quot;273&quot;: case &quot;324&quot;: case &quot;341&quot;: case &quot;372&quot;: case &quot;384&quot;: case &quot;385&quot;: case &quot;424&quot;: case &quot;447&quot;: case &quot;469&quot;: case &quot;507&quot;: case &quot;552&quot;: case &quot;555&quot;: case &quot;581&quot;: case &quot;628&quot;: case &quot;638&quot;: case &quot;657&quot;: case &quot;670&quot;: case &quot;675&quot;: case &quot;801&quot;: case &quot;813&quot;: case &quot;826&quot;: case &quot;855&quot;: case &quot;881&quot;: case &quot;889&quot;: case &quot;908&quot;: case &quot;909&quot;: case &quot;927&quot;: case &quot;948&quot;: case &quot;953&quot;: case &quot;962&quot;: \n",
       "                    return {&quot;color&quot;: &quot;#310597&quot;, &quot;fillColor&quot;: &quot;#310597&quot;, &quot;fillOpacity&quot;: 0.5, &quot;weight&quot;: 2};\n",
       "                case &quot;41&quot;: case &quot;81&quot;: case &quot;86&quot;: case &quot;97&quot;: case &quot;99&quot;: case &quot;102&quot;: case &quot;126&quot;: case &quot;137&quot;: case &quot;145&quot;: case &quot;151&quot;: case &quot;215&quot;: case &quot;239&quot;: case &quot;267&quot;: case &quot;283&quot;: case &quot;295&quot;: case &quot;296&quot;: case &quot;314&quot;: case &quot;370&quot;: case &quot;377&quot;: case &quot;390&quot;: case &quot;412&quot;: case &quot;417&quot;: case &quot;423&quot;: case &quot;434&quot;: case &quot;480&quot;: case &quot;485&quot;: case &quot;487&quot;: case &quot;499&quot;: case &quot;530&quot;: case &quot;545&quot;: case &quot;629&quot;: case &quot;637&quot;: case &quot;639&quot;: case &quot;655&quot;: case &quot;682&quot;: case &quot;693&quot;: case &quot;694&quot;: case &quot;728&quot;: case &quot;835&quot;: case &quot;856&quot;: case &quot;893&quot;: case &quot;920&quot;: case &quot;921&quot;: case &quot;930&quot;: case &quot;951&quot;: case &quot;965&quot;: case &quot;990&quot;: case &quot;991&quot;: case &quot;995&quot;: \n",
       "                    return {&quot;color&quot;: &quot;#330597&quot;, &quot;fillColor&quot;: &quot;#330597&quot;, &quot;fillOpacity&quot;: 0.5, &quot;weight&quot;: 2};\n",
       "                case &quot;50&quot;: case &quot;188&quot;: case &quot;558&quot;: case &quot;559&quot;: case &quot;561&quot;: case &quot;563&quot;: case &quot;753&quot;: case &quot;758&quot;: case &quot;773&quot;: \n",
       "                    return {&quot;color&quot;: &quot;#130789&quot;, &quot;fillColor&quot;: &quot;#130789&quot;, &quot;fillOpacity&quot;: 0.5, &quot;weight&quot;: 2};\n",
       "                case &quot;56&quot;: case &quot;66&quot;: case &quot;83&quot;: case &quot;105&quot;: case &quot;127&quot;: case &quot;207&quot;: case &quot;275&quot;: case &quot;284&quot;: case &quot;315&quot;: case &quot;327&quot;: case &quot;329&quot;: case &quot;332&quot;: case &quot;336&quot;: case &quot;347&quot;: case &quot;351&quot;: case &quot;383&quot;: case &quot;438&quot;: case &quot;462&quot;: case &quot;464&quot;: case &quot;468&quot;: case &quot;489&quot;: case &quot;501&quot;: case &quot;519&quot;: case &quot;551&quot;: case &quot;577&quot;: case &quot;583&quot;: case &quot;586&quot;: case &quot;588&quot;: case &quot;646&quot;: case &quot;659&quot;: case &quot;686&quot;: case &quot;688&quot;: case &quot;698&quot;: case &quot;814&quot;: case &quot;878&quot;: case &quot;926&quot;: case &quot;952&quot;: case &quot;961&quot;: case &quot;978&quot;: \n",
       "                    return {&quot;color&quot;: &quot;#38049a&quot;, &quot;fillColor&quot;: &quot;#38049a&quot;, &quot;fillOpacity&quot;: 0.5, &quot;weight&quot;: 2};\n",
       "                case &quot;58&quot;: case &quot;84&quot;: case &quot;132&quot;: case &quot;136&quot;: case &quot;143&quot;: case &quot;311&quot;: case &quot;337&quot;: case &quot;439&quot;: case &quot;454&quot;: case &quot;627&quot;: case &quot;631&quot;: case &quot;635&quot;: case &quot;640&quot;: case &quot;919&quot;: \n",
       "                    return {&quot;color&quot;: &quot;#43039e&quot;, &quot;fillColor&quot;: &quot;#43039e&quot;, &quot;fillOpacity&quot;: 0.5, &quot;weight&quot;: 2};\n",
       "                case &quot;61&quot;: case &quot;62&quot;: case &quot;69&quot;: case &quot;82&quot;: case &quot;160&quot;: case &quot;268&quot;: case &quot;279&quot;: case &quot;308&quot;: case &quot;333&quot;: case &quot;414&quot;: case &quot;437&quot;: case &quot;508&quot;: case &quot;520&quot;: case &quot;529&quot;: case &quot;540&quot;: case &quot;546&quot;: case &quot;584&quot;: case &quot;645&quot;: case &quot;648&quot;: case &quot;649&quot;: case &quot;669&quot;: case &quot;816&quot;: case &quot;866&quot;: case &quot;905&quot;: case &quot;929&quot;: case &quot;941&quot;: case &quot;942&quot;: case &quot;993&quot;: \n",
       "                    return {&quot;color&quot;: &quot;#370499&quot;, &quot;fillColor&quot;: &quot;#370499&quot;, &quot;fillOpacity&quot;: 0.5, &quot;weight&quot;: 2};\n",
       "                case &quot;74&quot;: case &quot;744&quot;: \n",
       "                    return {&quot;color&quot;: &quot;#100788&quot;, &quot;fillColor&quot;: &quot;#100788&quot;, &quot;fillOpacity&quot;: 0.5, &quot;weight&quot;: 2};\n",
       "                case &quot;78&quot;: case &quot;85&quot;: case &quot;133&quot;: case &quot;135&quot;: case &quot;146&quot;: case &quot;154&quot;: case &quot;156&quot;: case &quot;157&quot;: case &quot;179&quot;: case &quot;197&quot;: case &quot;205&quot;: case &quot;217&quot;: case &quot;219&quot;: case &quot;232&quot;: case &quot;260&quot;: case &quot;270&quot;: case &quot;303&quot;: case &quot;305&quot;: case &quot;319&quot;: case &quot;382&quot;: case &quot;393&quot;: case &quot;460&quot;: case &quot;463&quot;: case &quot;496&quot;: case &quot;505&quot;: case &quot;595&quot;: case &quot;676&quot;: case &quot;679&quot;: case &quot;699&quot;: case &quot;705&quot;: case &quot;727&quot;: case &quot;771&quot;: case &quot;775&quot;: case &quot;776&quot;: case &quot;786&quot;: case &quot;805&quot;: case &quot;808&quot;: case &quot;810&quot;: case &quot;818&quot;: case &quot;821&quot;: case &quot;822&quot;: case &quot;828&quot;: case &quot;832&quot;: case &quot;837&quot;: case &quot;853&quot;: case &quot;857&quot;: case &quot;869&quot;: case &quot;883&quot;: case &quot;897&quot;: case &quot;922&quot;: case &quot;931&quot;: case &quot;981&quot;: \n",
       "                    return {&quot;color&quot;: &quot;#2a0593&quot;, &quot;fillColor&quot;: &quot;#2a0593&quot;, &quot;fillOpacity&quot;: 0.5, &quot;weight&quot;: 2};\n",
       "                case &quot;90&quot;: case &quot;107&quot;: case &quot;272&quot;: case &quot;286&quot;: case &quot;288&quot;: case &quot;339&quot;: case &quot;353&quot;: case &quot;361&quot;: case &quot;369&quot;: case &quot;371&quot;: case &quot;378&quot;: case &quot;457&quot;: case &quot;458&quot;: case &quot;466&quot;: case &quot;599&quot;: case &quot;607&quot;: case &quot;615&quot;: case &quot;654&quot;: \n",
       "                    return {&quot;color&quot;: &quot;#4903a0&quot;, &quot;fillColor&quot;: &quot;#4903a0&quot;, &quot;fillOpacity&quot;: 0.5, &quot;weight&quot;: 2};\n",
       "                case &quot;144&quot;: \n",
       "                    return {&quot;color&quot;: &quot;#5102a3&quot;, &quot;fillColor&quot;: &quot;#5102a3&quot;, &quot;fillOpacity&quot;: 0.5, &quot;weight&quot;: 2};\n",
       "                case &quot;159&quot;: case &quot;616&quot;: \n",
       "                    return {&quot;color&quot;: &quot;#5002a2&quot;, &quot;fillColor&quot;: &quot;#5002a2&quot;, &quot;fillOpacity&quot;: 0.5, &quot;weight&quot;: 2};\n",
       "                case &quot;182&quot;: case &quot;199&quot;: case &quot;334&quot;: case &quot;560&quot;: case &quot;569&quot;: case &quot;711&quot;: case &quot;715&quot;: case &quot;740&quot;: case &quot;886&quot;: \n",
       "                    return {&quot;color&quot;: &quot;#0d0887&quot;, &quot;fillColor&quot;: &quot;#0d0887&quot;, &quot;fillOpacity&quot;: 0.5, &quot;weight&quot;: 2};\n",
       "                case &quot;263&quot;: case &quot;276&quot;: case &quot;349&quot;: case &quot;404&quot;: case &quot;510&quot;: case &quot;524&quot;: case &quot;541&quot;: case &quot;549&quot;: case &quot;591&quot;: case &quot;650&quot;: case &quot;658&quot;: case &quot;667&quot;: \n",
       "                    return {&quot;color&quot;: &quot;#48039f&quot;, &quot;fillColor&quot;: &quot;#48039f&quot;, &quot;fillOpacity&quot;: 0.5, &quot;weight&quot;: 2};\n",
       "                case &quot;289&quot;: case &quot;345&quot;: case &quot;388&quot;: case &quot;598&quot;: case &quot;609&quot;: case &quot;610&quot;: \n",
       "                    return {&quot;color&quot;: &quot;#5502a4&quot;, &quot;fillColor&quot;: &quot;#5502a4&quot;, &quot;fillOpacity&quot;: 0.5, &quot;weight&quot;: 2};\n",
       "                case &quot;294&quot;: case &quot;344&quot;: case &quot;379&quot;: case &quot;452&quot;: case &quot;474&quot;: case &quot;516&quot;: case &quot;521&quot;: case &quot;542&quot;: case &quot;597&quot;: case &quot;651&quot;: \n",
       "                    return {&quot;color&quot;: &quot;#4b03a1&quot;, &quot;fillColor&quot;: &quot;#4b03a1&quot;, &quot;fillOpacity&quot;: 0.5, &quot;weight&quot;: 2};\n",
       "                case &quot;656&quot;: \n",
       "                    return {&quot;color&quot;: &quot;#f0f921&quot;, &quot;fillColor&quot;: &quot;#f0f921&quot;, &quot;fillOpacity&quot;: 0.5, &quot;weight&quot;: 2};\n",
       "                case &quot;980&quot;: \n",
       "                    return {&quot;color&quot;: &quot;#6001a6&quot;, &quot;fillColor&quot;: &quot;#6001a6&quot;, &quot;fillOpacity&quot;: 0.5, &quot;weight&quot;: 2};\n",
       "                default:\n",
       "                    return {&quot;color&quot;: &quot;#2c0594&quot;, &quot;fillColor&quot;: &quot;#2c0594&quot;, &quot;fillOpacity&quot;: 0.5, &quot;weight&quot;: 2};\n",
       "            }\n",
       "        }\n",
       "        function geo_json_abf6315ab0eee2145952037b7d740c3f_highlighter(feature) {\n",
       "            switch(feature.id) {\n",
       "                default:\n",
       "                    return {&quot;fillOpacity&quot;: 0.75};\n",
       "            }\n",
       "        }\n",
       "        function geo_json_abf6315ab0eee2145952037b7d740c3f_pointToLayer(feature, latlng) {\n",
       "            var opts = {&quot;bubblingMouseEvents&quot;: true, &quot;color&quot;: &quot;#3388ff&quot;, &quot;dashArray&quot;: null, &quot;dashOffset&quot;: null, &quot;fill&quot;: true, &quot;fillColor&quot;: &quot;#3388ff&quot;, &quot;fillOpacity&quot;: 0.2, &quot;fillRule&quot;: &quot;evenodd&quot;, &quot;lineCap&quot;: &quot;round&quot;, &quot;lineJoin&quot;: &quot;round&quot;, &quot;opacity&quot;: 1.0, &quot;radius&quot;: 2, &quot;stroke&quot;: true, &quot;weight&quot;: 3};\n",
       "            \n",
       "            let style = geo_json_abf6315ab0eee2145952037b7d740c3f_styler(feature)\n",
       "            Object.assign(opts, style)\n",
       "            \n",
       "            return new L.CircleMarker(latlng, opts)\n",
       "        }\n",
       "\n",
       "        function geo_json_abf6315ab0eee2145952037b7d740c3f_onEachFeature(feature, layer) {\n",
       "            layer.on({\n",
       "                mouseout: function(e) {\n",
       "                    if(typeof e.target.setStyle === &quot;function&quot;){\n",
       "                        geo_json_abf6315ab0eee2145952037b7d740c3f.resetStyle(e.target);\n",
       "                    }\n",
       "                },\n",
       "                mouseover: function(e) {\n",
       "                    if(typeof e.target.setStyle === &quot;function&quot;){\n",
       "                        const highlightStyle = geo_json_abf6315ab0eee2145952037b7d740c3f_highlighter(e.target.feature)\n",
       "                        e.target.setStyle(highlightStyle);\n",
       "                    }\n",
       "                },\n",
       "            });\n",
       "        };\n",
       "        var geo_json_abf6315ab0eee2145952037b7d740c3f = L.geoJson(null, {\n",
       "                onEachFeature: geo_json_abf6315ab0eee2145952037b7d740c3f_onEachFeature,\n",
       "            \n",
       "                style: geo_json_abf6315ab0eee2145952037b7d740c3f_styler,\n",
       "                pointToLayer: geo_json_abf6315ab0eee2145952037b7d740c3f_pointToLayer\n",
       "        });\n",
       "\n",
       "        function geo_json_abf6315ab0eee2145952037b7d740c3f_add (data) {\n",
       "            geo_json_abf6315ab0eee2145952037b7d740c3f\n",
       "                .addData(data)\n",
       "                .addTo(map_0165c4f7fc721a8f45870a676203ce21);\n",
       "        }\n",
       "            geo_json_abf6315ab0eee2145952037b7d740c3f_add({&quot;bbox&quot;: [117.4786819, -31.60879638, 117.5033531, -31.59138314], &quot;features&quot;: [{&quot;bbox&quot;: [117.4977191, -31.60675982, 117.4977191, -31.60675982], &quot;geometry&quot;: {&quot;coordinates&quot;: [117.4977191, -31.60675982], &quot;type&quot;: &quot;Point&quot;}, &quot;id&quot;: &quot;0&quot;, &quot;properties&quot;: {&quot;Crop&quot;: 5, &quot;DryYield&quot;: 0.227, &quot;Elevation&quot;: 264.32, &quot;Heading&quot;: 242.7, &quot;Latitude&quot;: -31.60675982, &quot;Longitude&quot;: 117.4977191, &quot;Time&quot;: &quot;11/11/2020 8:01&quot;, &quot;Variety&quot;: &quot;43Y23 RR&quot;, &quot;__folium_color&quot;: &quot;#1d068e&quot;, &quot;sample_id&quot;: &quot;bf66_sample_1&quot;}, &quot;type&quot;: &quot;Feature&quot;}, {&quot;bbox&quot;: [117.4968805, -31.60540873, 117.4968805, -31.60540873], &quot;geometry&quot;: {&quot;coordinates&quot;: [117.4968805, -31.60540873], &quot;type&quot;: &quot;Point&quot;}, &quot;id&quot;: &quot;1&quot;, &quot;properties&quot;: {&quot;Crop&quot;: 5, &quot;DryYield&quot;: 0.372, &quot;Elevation&quot;: 265.39, &quot;Heading&quot;: 344.3, &quot;Latitude&quot;: -31.60540873, &quot;Longitude&quot;: 117.4968805, &quot;Time&quot;: &quot;11/11/2020 8:02&quot;, &quot;Variety&quot;: &quot;43Y23 RR&quot;, &quot;__folium_color&quot;: &quot;#260591&quot;, &quot;sample_id&quot;: &quot;bf66_sample_1&quot;}, &quot;type&quot;: &quot;Feature&quot;}, {&quot;bbox&quot;: [117.4968552, -31.60355699, 117.4968552, -31.60355699], &quot;geometry&quot;: {&quot;coordinates&quot;: [117.4968552, -31.60355699], &quot;type&quot;: &quot;Point&quot;}, &quot;id&quot;: &quot;2&quot;, &quot;properties&quot;: {&quot;Crop&quot;: 5, &quot;DryYield&quot;: 0.651, &quot;Elevation&quot;: 262.4, &quot;Heading&quot;: 359.9, &quot;Latitude&quot;: -31.60355699, &quot;Longitude&quot;: 117.4968552, &quot;Time&quot;: &quot;11/11/2020 8:04&quot;, &quot;Variety&quot;: &quot;43Y23 RR&quot;, &quot;__folium_color&quot;: &quot;#350498&quot;, &quot;sample_id&quot;: &quot;bf66_sample_1&quot;}, &quot;type&quot;: &quot;Feature&quot;}, {&quot;bbox&quot;: [117.496855, -31.60154896, 117.496855, -31.60154896], &quot;geometry&quot;: {&quot;coordinates&quot;: [117.496855, -31.60154896], &quot;type&quot;: &quot;Point&quot;}, &quot;id&quot;: &quot;3&quot;, &quot;properties&quot;: {&quot;Crop&quot;: 5, &quot;DryYield&quot;: 0.923, &quot;Elevation&quot;: 264.61, &quot;Heading&quot;: 359.8, &quot;Latitude&quot;: -31.60154896, &quot;Longitude&quot;: 117.496855, &quot;Time&quot;: &quot;11/11/2020 8:05&quot;, &quot;Variety&quot;: &quot;43Y23 RR&quot;, &quot;__folium_color&quot;: &quot;#41049d&quot;, &quot;sample_id&quot;: &quot;bf66_sample_1&quot;}, &quot;type&quot;: &quot;Feature&quot;}, {&quot;bbox&quot;: [117.4968552, -31.59981833, 117.4968552, -31.59981833], &quot;geometry&quot;: {&quot;coordinates&quot;: [117.4968552, -31.59981833], &quot;type&quot;: &quot;Point&quot;}, &quot;id&quot;: &quot;4&quot;, &quot;properties&quot;: {&quot;Crop&quot;: 5, &quot;DryYield&quot;: 1.216, &quot;Elevation&quot;: 267.51, &quot;Heading&quot;: 360.0, &quot;Latitude&quot;: -31.59981833, &quot;Longitude&quot;: 117.4968552, &quot;Time&quot;: &quot;11/11/2020 8:06&quot;, &quot;Variety&quot;: &quot;43Y23 RR&quot;, &quot;__folium_color&quot;: &quot;#4e02a2&quot;, &quot;sample_id&quot;: &quot;bf66_sample_1&quot;}, &quot;type&quot;: &quot;Feature&quot;}, {&quot;bbox&quot;: [117.4968552, -31.5982165, 117.4968552, -31.5982165], &quot;geometry&quot;: {&quot;coordinates&quot;: [117.4968552, -31.5982165], &quot;type&quot;: &quot;Point&quot;}, &quot;id&quot;: &quot;5&quot;, &quot;properties&quot;: {&quot;Crop&quot;: 5, &quot;DryYield&quot;: 0.915, &quot;Elevation&quot;: 267.02, &quot;Heading&quot;: 0.3, &quot;Latitude&quot;: -31.5982165, &quot;Longitude&quot;: 117.4968552, &quot;Time&quot;: &quot;11/11/2020 8:08&quot;, &quot;Variety&quot;: &quot;43Y23 RR&quot;, &quot;__folium_color&quot;: &quot;#41049d&quot;, &quot;sample_id&quot;: &quot;bf66_sample_1&quot;}, &quot;type&quot;: &quot;Feature&quot;}, {&quot;bbox&quot;: [117.4968548, -31.59660821, 117.4968548, -31.59660821], &quot;geometry&quot;: {&quot;coordinates&quot;: [117.4968548, -31.59660821], &quot;type&quot;: &quot;Point&quot;}, &quot;id&quot;: &quot;6&quot;, &quot;properties&quot;: {&quot;Crop&quot;: 5, &quot;DryYield&quot;: 1.188, &quot;Elevation&quot;: 267.11, &quot;Heading&quot;: 359.7, &quot;Latitude&quot;: -31.59660821, &quot;Longitude&quot;: 117.4968548, &quot;Time&quot;: &quot;11/11/2020 8:09&quot;, &quot;Variety&quot;: &quot;43Y23 RR&quot;, &quot;__folium_color&quot;: &quot;#4c02a1&quot;, &quot;sample_id&quot;: &quot;bf66_sample_1&quot;}, &quot;type&quot;: &quot;Feature&quot;}, {&quot;bbox&quot;: [117.4968554, -31.59467112, 117.4968554, -31.59467112], &quot;geometry&quot;: {&quot;coordinates&quot;: [117.4968554, -31.59467112], &quot;type&quot;: &quot;Point&quot;}, &quot;id&quot;: &quot;7&quot;, &quot;properties&quot;: {&quot;Crop&quot;: 5, &quot;DryYield&quot;: 0.881, &quot;Elevation&quot;: 267.72, &quot;Heading&quot;: 0.1, &quot;Latitude&quot;: -31.59467112, &quot;Longitude&quot;: 117.4968554, &quot;Time&quot;: &quot;11/11/2020 8:10&quot;, &quot;Variety&quot;: &quot;43Y23 RR&quot;, &quot;__folium_color&quot;: &quot;#3f049c&quot;, &quot;sample_id&quot;: &quot;bf66_sample_1&quot;}, &quot;type&quot;: &quot;Feature&quot;}, {&quot;bbox&quot;: [117.4968552, -31.59274287, 117.4968552, -31.59274287], &quot;geometry&quot;: {&quot;coordinates&quot;: [117.4968552, -31.59274287], &quot;type&quot;: &quot;Point&quot;}, &quot;id&quot;: &quot;8&quot;, &quot;properties&quot;: {&quot;Crop&quot;: 5, &quot;DryYield&quot;: 1.529, &quot;Elevation&quot;: 265.71, &quot;Heading&quot;: 0.0, &quot;Latitude&quot;: -31.59274287, &quot;Longitude&quot;: 117.4968552, &quot;Time&quot;: &quot;11/11/2020 8:12&quot;, &quot;Variety&quot;: &quot;43Y23 RR&quot;, &quot;__folium_color&quot;: &quot;#5c01a6&quot;, &quot;sample_id&quot;: &quot;bf66_sample_1&quot;}, &quot;type&quot;: &quot;Feature&quot;}, {&quot;bbox&quot;: [117.4962201, -31.59142604, 117.4962201, -31.59142604], &quot;geometry&quot;: {&quot;coordinates&quot;: [117.4962201, -31.59142604], &quot;type&quot;: &quot;Point&quot;}, &quot;id&quot;: &quot;9&quot;, &quot;properties&quot;: {&quot;Crop&quot;: 5, &quot;DryYield&quot;: 0.546, &quot;Elevation&quot;: 263.99, &quot;Heading&quot;: 268.4, &quot;Latitude&quot;: -31.59142604, &quot;Longitude&quot;: 117.4962201, &quot;Time&quot;: &quot;11/11/2020 8:13&quot;, &quot;Variety&quot;: &quot;43Y23 RR&quot;, &quot;__folium_color&quot;: &quot;#2f0596&quot;, &quot;sample_id&quot;: &quot;bf66_sample_1&quot;}, &quot;type&quot;: &quot;Feature&quot;}, {&quot;bbox&quot;: [117.4934721, -31.59141317, 117.4934721, -31.59141317], &quot;geometry&quot;: {&quot;coordinates&quot;: [117.4934721, -31.59141317], &quot;type&quot;: &quot;Point&quot;}, &quot;id&quot;: &quot;10&quot;, &quot;properties&quot;: {&quot;Crop&quot;: 5, &quot;DryYield&quot;: 0.571, &quot;Elevation&quot;: 266.48, &quot;Heading&quot;: 270.7, &quot;Latitude&quot;: -31.59141317, &quot;Longitude&quot;: 117.4934721, &quot;Time&quot;: &quot;11/11/2020 8:14&quot;, &quot;Variety&quot;: &quot;43Y23 RR&quot;, &quot;__folium_color&quot;: &quot;#2f0596&quot;, &quot;sample_id&quot;: &quot;bf66_sample_1&quot;}, &quot;type&quot;: &quot;Feature&quot;}, {&quot;bbox&quot;: [117.4909707, -31.59141593, 117.4909707, -31.59141593], &quot;geometry&quot;: {&quot;coordinates&quot;: [117.4909707, -31.59141593], &quot;type&quot;: &quot;Point&quot;}, &quot;id&quot;: &quot;11&quot;, &quot;properties&quot;: {&quot;Crop&quot;: 5, &quot;DryYield&quot;: 0.838, &quot;Elevation&quot;: 266.85, &quot;Heading&quot;: 268.3, &quot;Latitude&quot;: -31.59141593, &quot;Longitude&quot;: 117.4909707, &quot;Time&quot;: &quot;11/11/2020 8:15&quot;, &quot;Variety&quot;: &quot;43Y23 RR&quot;, &quot;__folium_color&quot;: &quot;#3e049c&quot;, &quot;sample_id&quot;: &quot;bf66_sample_1&quot;}, &quot;type&quot;: &quot;Feature&quot;}, {&quot;bbox&quot;: [117.4883656, -31.59142114, 117.4883656, -31.59142114], &quot;geometry&quot;: {&quot;coordinates&quot;: [117.4883656, -31.59142114], &quot;type&quot;: &quot;Point&quot;}, &quot;id&quot;: &quot;12&quot;, &quot;properties&quot;: {&quot;Crop&quot;: 5, &quot;DryYield&quot;: 0.18, &quot;Elevation&quot;: 266.03, &quot;Heading&quot;: 268.5, &quot;Latitude&quot;: -31.59142114, &quot;Longitude&quot;: 117.4883656, &quot;Time&quot;: &quot;11/11/2020 8:17&quot;, &quot;Variety&quot;: &quot;43Y23 RR&quot;, &quot;__folium_color&quot;: &quot;#19068c&quot;, &quot;sample_id&quot;: &quot;bf66_sample_1&quot;}, &quot;type&quot;: &quot;Feature&quot;}, {&quot;bbox&quot;: [117.4859138, -31.59175008, 117.4859138, -31.59175008], &quot;geometry&quot;: {&quot;coordinates&quot;: [117.4859138, -31.59175008], &quot;type&quot;: &quot;Point&quot;}, &quot;id&quot;: &quot;13&quot;, &quot;properties&quot;: {&quot;Crop&quot;: 5, &quot;DryYield&quot;: 0.128, &quot;Elevation&quot;: 265.17, &quot;Heading&quot;: 268.5, &quot;Latitude&quot;: -31.59175008, &quot;Longitude&quot;: 117.4859138, &quot;Time&quot;: &quot;11/11/2020 8:18&quot;, &quot;Variety&quot;: &quot;43Y23 RR&quot;, &quot;__folium_color&quot;: &quot;#16078a&quot;, &quot;sample_id&quot;: &quot;bf66_sample_1&quot;}, &quot;type&quot;: &quot;Feature&quot;}, {&quot;bbox&quot;: [117.485175, -31.59348684, 117.485175, -31.59348684], &quot;geometry&quot;: {&quot;coordinates&quot;: [117.485175, -31.59348684], &quot;type&quot;: &quot;Point&quot;}, &quot;id&quot;: &quot;14&quot;, &quot;properties&quot;: {&quot;Crop&quot;: 5, &quot;DryYield&quot;: 0.265, &quot;Elevation&quot;: 267.23, &quot;Heading&quot;: 312.7, &quot;Latitude&quot;: -31.59348684, &quot;Longitude&quot;: 117.485175, &quot;Time&quot;: &quot;11/11/2020 8:19&quot;, &quot;Variety&quot;: &quot;43Y23 RR&quot;, &quot;__folium_color&quot;: &quot;#20068f&quot;, &quot;sample_id&quot;: &quot;bf66_sample_1&quot;}, &quot;type&quot;: &quot;Feature&quot;}, {&quot;bbox&quot;: [117.4846656, -31.59173568, 117.4846656, -31.59173568], &quot;geometry&quot;: {&quot;coordinates&quot;: [117.4846656, -31.59173568], &quot;type&quot;: &quot;Point&quot;}, &quot;id&quot;: &quot;15&quot;, &quot;properties&quot;: {&quot;Crop&quot;: 5, &quot;DryYield&quot;: 0.174, &quot;Elevation&quot;: 265.65, &quot;Heading&quot;: 267.6, &quot;Latitude&quot;: -31.59173568, &quot;Longitude&quot;: 117.4846656, &quot;Time&quot;: &quot;11/11/2020 8:21&quot;, &quot;Variety&quot;: &quot;43Y23 RR&quot;, &quot;__folium_color&quot;: &quot;#19068c&quot;, &quot;sample_id&quot;: &quot;bf66_sample_1&quot;}, &quot;type&quot;: &quot;Feature&quot;}, {&quot;bbox&quot;: [117.4824387, -31.59216972, 117.4824387, -31.59216972], &quot;geometry&quot;: {&quot;coordinates&quot;: [117.4824387, -31.59216972], &quot;type&quot;: &quot;Point&quot;}, &quot;id&quot;: &quot;16&quot;, &quot;properties&quot;: {&quot;Crop&quot;: 5, &quot;DryYield&quot;: 0.139, &quot;Elevation&quot;: 274.19, &quot;Heading&quot;: 260.4, &quot;Latitude&quot;: -31.59216972, &quot;Longitude&quot;: 117.4824387, &quot;Time&quot;: &quot;11/11/2020 8:22&quot;, &quot;Variety&quot;: &quot;43Y23 RR&quot;, &quot;__folium_color&quot;: &quot;#16078a&quot;, &quot;sample_id&quot;: &quot;bf66_sample_1&quot;}, &quot;type&quot;: &quot;Feature&quot;}, {&quot;bbox&quot;: [117.4815365, -31.59352422, 117.4815365, -31.59352422], &quot;geometry&quot;: {&quot;coordinates&quot;: [117.4815365, -31.59352422], &quot;type&quot;: &quot;Point&quot;}, &quot;id&quot;: &quot;17&quot;, &quot;properties&quot;: {&quot;Crop&quot;: 5, &quot;DryYield&quot;: 0.569, &quot;Elevation&quot;: 278.04, &quot;Heading&quot;: 178.9, &quot;Latitude&quot;: -31.59352422, &quot;Longitude&quot;: 117.4815365, &quot;Time&quot;: &quot;11/11/2020 8:23&quot;, &quot;Variety&quot;: &quot;43Y23 RR&quot;, &quot;__folium_color&quot;: &quot;#2f0596&quot;, &quot;sample_id&quot;: &quot;bf66_sample_1&quot;}, &quot;type&quot;: &quot;Feature&quot;}, {&quot;bbox&quot;: [117.4815556, -31.59530369, 117.4815556, -31.59530369], &quot;geometry&quot;: {&quot;coordinates&quot;: [117.4815556, -31.59530369], &quot;type&quot;: &quot;Point&quot;}, &quot;id&quot;: &quot;18&quot;, &quot;properties&quot;: {&quot;Crop&quot;: 5, &quot;DryYield&quot;: 1.306, &quot;Elevation&quot;: 276.89, &quot;Heading&quot;: 179.8, &quot;Latitude&quot;: -31.59530369, &quot;Longitude&quot;: 117.4815556, &quot;Time&quot;: &quot;11/11/2020 8:25&quot;, &quot;Variety&quot;: &quot;43Y23 RR&quot;, &quot;__folium_color&quot;: &quot;#5302a3&quot;, &quot;sample_id&quot;: &quot;bf66_sample_1&quot;}, &quot;type&quot;: &quot;Feature&quot;}, {&quot;bbox&quot;: [117.4815552, -31.59698907, 117.4815552, -31.59698907], &quot;geometry&quot;: {&quot;coordinates&quot;: [117.4815552, -31.59698907], &quot;type&quot;: &quot;Point&quot;}, &quot;id&quot;: &quot;19&quot;, &quot;properties&quot;: {&quot;Crop&quot;: 5, &quot;DryYield&quot;: 1.013, &quot;Elevation&quot;: 275.63, &quot;Heading&quot;: 179.9, &quot;Latitude&quot;: -31.59698907, &quot;Longitude&quot;: 117.4815552, &quot;Time&quot;: &quot;11/11/2020 8:26&quot;, &quot;Variety&quot;: &quot;43Y23 RR&quot;, &quot;__folium_color&quot;: &quot;#46039f&quot;, &quot;sample_id&quot;: &quot;bf66_sample_1&quot;}, &quot;type&quot;: &quot;Feature&quot;}, {&quot;bbox&quot;: [117.481555, -31.59871761, 117.481555, -31.59871761], &quot;geometry&quot;: {&quot;coordinates&quot;: [117.481555, -31.59871761], &quot;type&quot;: &quot;Point&quot;}, &quot;id&quot;: &quot;20&quot;, &quot;properties&quot;: {&quot;Crop&quot;: 5, &quot;DryYield&quot;: 0.906, &quot;Elevation&quot;: 271.84, &quot;Heading&quot;: 180.3, &quot;Latitude&quot;: -31.59871761, &quot;Longitude&quot;: 117.481555, &quot;Time&quot;: &quot;11/11/2020 8:27&quot;, &quot;Variety&quot;: &quot;43Y23 RR&quot;, &quot;__folium_color&quot;: &quot;#41049d&quot;, &quot;sample_id&quot;: &quot;bf66_sample_1&quot;}, &quot;type&quot;: &quot;Feature&quot;}, {&quot;bbox&quot;: [117.4815557, -31.60037366, 117.4815557, -31.60037366], &quot;geometry&quot;: {&quot;coordinates&quot;: [117.4815557, -31.60037366], &quot;type&quot;: &quot;Point&quot;}, &quot;id&quot;: &quot;21&quot;, &quot;properties&quot;: {&quot;Crop&quot;: 5, &quot;DryYield&quot;: 0.835, &quot;Elevation&quot;: 265.55, &quot;Heading&quot;: 179.6, &quot;Latitude&quot;: -31.60037366, &quot;Longitude&quot;: 117.4815557, &quot;Time&quot;: &quot;11/11/2020 8:29&quot;, &quot;Variety&quot;: &quot;43Y23 RR&quot;, &quot;__folium_color&quot;: &quot;#3e049c&quot;, &quot;sample_id&quot;: &quot;bf66_sample_1&quot;}, &quot;type&quot;: &quot;Feature&quot;}, {&quot;bbox&quot;: [117.479799, -31.60175501, 117.479799, -31.60175501], &quot;geometry&quot;: {&quot;coordinates&quot;: [117.479799, -31.60175501], &quot;type&quot;: &quot;Point&quot;}, &quot;id&quot;: &quot;22&quot;, &quot;properties&quot;: {&quot;Crop&quot;: 5, &quot;DryYield&quot;: 0.195, &quot;Elevation&quot;: 260.81, &quot;Heading&quot;: 246.1, &quot;Latitude&quot;: -31.60175501, &quot;Longitude&quot;: 117.479799, &quot;Time&quot;: &quot;11/11/2020 8:30&quot;, &quot;Variety&quot;: &quot;43Y23 RR&quot;, &quot;__folium_color&quot;: &quot;#1b068d&quot;, &quot;sample_id&quot;: &quot;bf66_sample_1&quot;}, &quot;type&quot;: &quot;Feature&quot;}, {&quot;bbox&quot;: [117.4808499, -31.60115939, 117.4808499, -31.60115939], &quot;geometry&quot;: {&quot;coordinates&quot;: [117.4808499, -31.60115939], &quot;type&quot;: &quot;Point&quot;}, &quot;id&quot;: &quot;23&quot;, &quot;properties&quot;: {&quot;Crop&quot;: 5, &quot;DryYield&quot;: 0.321, &quot;Elevation&quot;: 262.64, &quot;Heading&quot;: 66.2, &quot;Latitude&quot;: -31.60115939, &quot;Longitude&quot;: 117.4808499, &quot;Time&quot;: &quot;11/11/2020 8:31&quot;, &quot;Variety&quot;: &quot;43Y23 RR&quot;, &quot;__folium_color&quot;: &quot;#220690&quot;, &quot;sample_id&quot;: &quot;bf66_sample_1&quot;}, &quot;type&quot;: &quot;Feature&quot;}, {&quot;bbox&quot;: [117.4816816, -31.59966911, 117.4816816, -31.59966911], &quot;geometry&quot;: {&quot;coordinates&quot;: [117.4816816, -31.59966911], &quot;type&quot;: &quot;Point&quot;}, &quot;id&quot;: &quot;24&quot;, &quot;properties&quot;: {&quot;Crop&quot;: 5, &quot;DryYield&quot;: 0.795, &quot;Elevation&quot;: 268.01, &quot;Heading&quot;: 360.0, &quot;Latitude&quot;: -31.59966911, &quot;Longitude&quot;: 117.4816816, &quot;Time&quot;: &quot;11/11/2020 8:33&quot;, &quot;Variety&quot;: &quot;43Y23 RR&quot;, &quot;__folium_color&quot;: &quot;#3c049b&quot;, &quot;sample_id&quot;: &quot;bf66_sample_1&quot;}, &quot;type&quot;: &quot;Feature&quot;}, {&quot;bbox&quot;: [117.481682, -31.59794917, 117.481682, -31.59794917], &quot;geometry&quot;: {&quot;coordinates&quot;: [117.481682, -31.59794917], &quot;type&quot;: &quot;Point&quot;}, &quot;id&quot;: &quot;25&quot;, &quot;properties&quot;: {&quot;Crop&quot;: 5, &quot;DryYield&quot;: 0.993, &quot;Elevation&quot;: 273.51, &quot;Heading&quot;: 0.4, &quot;Latitude&quot;: -31.59794917, &quot;Longitude&quot;: 117.481682, &quot;Time&quot;: &quot;11/11/2020 8:34&quot;, &quot;Variety&quot;: &quot;43Y23 RR&quot;, &quot;__folium_color&quot;: &quot;#44039e&quot;, &quot;sample_id&quot;: &quot;bf66_sample_1&quot;}, &quot;type&quot;: &quot;Feature&quot;}, {&quot;bbox&quot;: [117.4816816, -31.59615856, 117.4816816, -31.59615856], &quot;geometry&quot;: {&quot;coordinates&quot;: [117.4816816, -31.59615856], &quot;type&quot;: &quot;Point&quot;}, &quot;id&quot;: &quot;26&quot;, &quot;properties&quot;: {&quot;Crop&quot;: 5, &quot;DryYield&quot;: 1.195, &quot;Elevation&quot;: 275.38, &quot;Heading&quot;: 359.9, &quot;Latitude&quot;: -31.59615856, &quot;Longitude&quot;: 117.4816816, &quot;Time&quot;: &quot;11/11/2020 8:35&quot;, &quot;Variety&quot;: &quot;43Y23 RR&quot;, &quot;__folium_color&quot;: &quot;#4e02a2&quot;, &quot;sample_id&quot;: &quot;bf66_sample_1&quot;}, &quot;type&quot;: &quot;Feature&quot;}, {&quot;bbox&quot;: [117.481705, -31.59443074, 117.481705, -31.59443074], &quot;geometry&quot;: {&quot;coordinates&quot;: [117.481705, -31.59443074], &quot;type&quot;: &quot;Point&quot;}, &quot;id&quot;: &quot;27&quot;, &quot;properties&quot;: {&quot;Crop&quot;: 5, &quot;DryYield&quot;: 1.439, &quot;Elevation&quot;: 277.71, &quot;Heading&quot;: 359.9, &quot;Latitude&quot;: -31.59443074, &quot;Longitude&quot;: 117.481705, &quot;Time&quot;: &quot;11/11/2020 8:37&quot;, &quot;Variety&quot;: &quot;43Y23 RR&quot;, &quot;__folium_color&quot;: &quot;#5801a4&quot;, &quot;sample_id&quot;: &quot;bf66_sample_1&quot;}, &quot;type&quot;: &quot;Feature&quot;}, {&quot;bbox&quot;: [117.4816813, -31.5926082, 117.4816813, -31.5926082], &quot;geometry&quot;: {&quot;coordinates&quot;: [117.4816813, -31.5926082], &quot;type&quot;: &quot;Point&quot;}, &quot;id&quot;: &quot;28&quot;, &quot;properties&quot;: {&quot;Crop&quot;: 5, &quot;DryYield&quot;: 1.037, &quot;Elevation&quot;: 277.04, &quot;Heading&quot;: 359.4, &quot;Latitude&quot;: -31.5926082, &quot;Longitude&quot;: 117.4816813, &quot;Time&quot;: &quot;11/11/2020 8:38&quot;, &quot;Variety&quot;: &quot;43Y23 RR&quot;, &quot;__folium_color&quot;: &quot;#46039f&quot;, &quot;sample_id&quot;: &quot;bf66_sample_1&quot;}, &quot;type&quot;: &quot;Feature&quot;}, {&quot;bbox&quot;: [117.4833526, -31.59186775, 117.4833526, -31.59186775], &quot;geometry&quot;: {&quot;coordinates&quot;: [117.4833526, -31.59186775], &quot;type&quot;: &quot;Point&quot;}, &quot;id&quot;: &quot;29&quot;, &quot;properties&quot;: {&quot;Crop&quot;: 5, &quot;DryYield&quot;: 0.287, &quot;Elevation&quot;: 270.61, &quot;Heading&quot;: 29.9, &quot;Latitude&quot;: -31.59186775, &quot;Longitude&quot;: 117.4833526, &quot;Time&quot;: &quot;11/11/2020 8:39&quot;, &quot;Variety&quot;: &quot;43Y23 RR&quot;, &quot;__folium_color&quot;: &quot;#20068f&quot;, &quot;sample_id&quot;: &quot;bf66_sample_1&quot;}, &quot;type&quot;: &quot;Feature&quot;}, {&quot;bbox&quot;: [117.4847809, -31.59280078, 117.4847809, -31.59280078], &quot;geometry&quot;: {&quot;coordinates&quot;: [117.4847809, -31.59280078], &quot;type&quot;: &quot;Point&quot;}, &quot;id&quot;: &quot;30&quot;, &quot;properties&quot;: {&quot;Crop&quot;: 5, &quot;DryYield&quot;: 0.283, &quot;Elevation&quot;: 266.56, &quot;Heading&quot;: 191.7, &quot;Latitude&quot;: -31.59280078, &quot;Longitude&quot;: 117.4847809, &quot;Time&quot;: &quot;11/11/2020 8:41&quot;, &quot;Variety&quot;: &quot;43Y23 RR&quot;, &quot;__folium_color&quot;: &quot;#20068f&quot;, &quot;sample_id&quot;: &quot;bf66_sample_1&quot;}, &quot;type&quot;: &quot;Feature&quot;}, {&quot;bbox&quot;: [117.4858486, -31.59261969, 117.4858486, -31.59261969], &quot;geometry&quot;: {&quot;coordinates&quot;: [117.4858486, -31.59261969], &quot;type&quot;: &quot;Point&quot;}, &quot;id&quot;: &quot;31&quot;, &quot;properties&quot;: {&quot;Crop&quot;: 5, &quot;DryYield&quot;: 0.331, &quot;Elevation&quot;: 267.28, &quot;Heading&quot;: 353.3, &quot;Latitude&quot;: -31.59261969, &quot;Longitude&quot;: 117.4858486, &quot;Time&quot;: &quot;11/11/2020 8:42&quot;, &quot;Variety&quot;: &quot;43Y23 RR&quot;, &quot;__folium_color&quot;: &quot;#240691&quot;, &quot;sample_id&quot;: &quot;bf66_sample_1&quot;}, &quot;type&quot;: &quot;Feature&quot;}, {&quot;bbox&quot;: [117.4873898, -31.59185227, 117.4873898, -31.59185227], &quot;geometry&quot;: {&quot;coordinates&quot;: [117.4873898, -31.59185227], &quot;type&quot;: &quot;Point&quot;}, &quot;id&quot;: &quot;32&quot;, &quot;properties&quot;: {&quot;Crop&quot;: 5, &quot;DryYield&quot;: 0.406, &quot;Elevation&quot;: 267.18, &quot;Heading&quot;: 91.2, &quot;Latitude&quot;: -31.59185227, &quot;Longitude&quot;: 117.4873898, &quot;Time&quot;: &quot;11/11/2020 8:43&quot;, &quot;Variety&quot;: &quot;43Y23 RR&quot;, &quot;__folium_color&quot;: &quot;#280592&quot;, &quot;sample_id&quot;: &quot;bf66_sample_1&quot;}, &quot;type&quot;: &quot;Feature&quot;}, {&quot;bbox&quot;: [117.4897379, -31.59152532, 117.4897379, -31.59152532], &quot;geometry&quot;: {&quot;coordinates&quot;: [117.4897379, -31.59152532], &quot;type&quot;: &quot;Point&quot;}, &quot;id&quot;: &quot;33&quot;, &quot;properties&quot;: {&quot;Crop&quot;: 5, &quot;DryYield&quot;: 0.804, &quot;Elevation&quot;: 266.93, &quot;Heading&quot;: 89.9, &quot;Latitude&quot;: -31.59152532, &quot;Longitude&quot;: 117.4897379, &quot;Time&quot;: &quot;11/11/2020 8:45&quot;, &quot;Variety&quot;: &quot;43Y23 RR&quot;, &quot;__folium_color&quot;: &quot;#3c049b&quot;, &quot;sample_id&quot;: &quot;bf66_sample_1&quot;}, &quot;type&quot;: &quot;Feature&quot;}, {&quot;bbox&quot;: [117.4922082, -31.59151965, 117.4922082, -31.59151965], &quot;geometry&quot;: {&quot;coordinates&quot;: [117.4922082, -31.59151965], &quot;type&quot;: &quot;Point&quot;}, &quot;id&quot;: &quot;34&quot;, &quot;properties&quot;: {&quot;Crop&quot;: 5, &quot;DryYield&quot;: 0.766, &quot;Elevation&quot;: 267.07, &quot;Heading&quot;: 89.9, &quot;Latitude&quot;: -31.59151965, &quot;Longitude&quot;: 117.4922082, &quot;Time&quot;: &quot;11/11/2020 8:46&quot;, &quot;Variety&quot;: &quot;43Y23 RR&quot;, &quot;__folium_color&quot;: &quot;#3a049a&quot;, &quot;sample_id&quot;: &quot;bf66_sample_1&quot;}, &quot;type&quot;: &quot;Feature&quot;}, {&quot;bbox&quot;: [117.4944585, -31.59151644, 117.4944585, -31.59151644], &quot;geometry&quot;: {&quot;coordinates&quot;: [117.4944585, -31.59151644], &quot;type&quot;: &quot;Point&quot;}, &quot;id&quot;: &quot;35&quot;, &quot;properties&quot;: {&quot;Crop&quot;: 5, &quot;DryYield&quot;: 0.935, &quot;Elevation&quot;: 266.96, &quot;Heading&quot;: 90.0, &quot;Latitude&quot;: -31.59151644, &quot;Longitude&quot;: 117.4944585, &quot;Time&quot;: &quot;11/11/2020 8:47&quot;, &quot;Variety&quot;: &quot;43Y23 RR&quot;, &quot;__folium_color&quot;: &quot;#41049d&quot;, &quot;sample_id&quot;: &quot;bf66_sample_1&quot;}, &quot;type&quot;: &quot;Feature&quot;}, {&quot;bbox&quot;: [117.496832, -31.59138314, 117.496832, -31.59138314], &quot;geometry&quot;: {&quot;coordinates&quot;: [117.496832, -31.59138314], &quot;type&quot;: &quot;Point&quot;}, &quot;id&quot;: &quot;36&quot;, &quot;properties&quot;: {&quot;Crop&quot;: 5, &quot;DryYield&quot;: 0.258, &quot;Elevation&quot;: 262.88, &quot;Heading&quot;: 57.5, &quot;Latitude&quot;: -31.59138314, &quot;Longitude&quot;: 117.496832, &quot;Time&quot;: &quot;11/11/2020 8:49&quot;, &quot;Variety&quot;: &quot;43Y23 RR&quot;, &quot;__folium_color&quot;: &quot;#20068f&quot;, &quot;sample_id&quot;: &quot;bf66_sample_1&quot;}, &quot;type&quot;: &quot;Feature&quot;}, {&quot;bbox&quot;: [117.4993006, -31.59143815, 117.4993006, -31.59143815], &quot;geometry&quot;: {&quot;coordinates&quot;: [117.4993006, -31.59143815], &quot;type&quot;: &quot;Point&quot;}, &quot;id&quot;: &quot;37&quot;, &quot;properties&quot;: {&quot;Crop&quot;: 5, &quot;DryYield&quot;: 0.524, &quot;Elevation&quot;: 257.88, &quot;Heading&quot;: 92.0, &quot;Latitude&quot;: -31.59143815, &quot;Longitude&quot;: 117.4993006, &quot;Time&quot;: &quot;11/11/2020 8:50&quot;, &quot;Variety&quot;: &quot;43Y23 RR&quot;, &quot;__folium_color&quot;: &quot;#2e0595&quot;, &quot;sample_id&quot;: &quot;bf66_sample_1&quot;}, &quot;type&quot;: &quot;Feature&quot;}, {&quot;bbox&quot;: [117.5019256, -31.59143876, 117.5019256, -31.59143876], &quot;geometry&quot;: {&quot;coordinates&quot;: [117.5019256, -31.59143876], &quot;type&quot;: &quot;Point&quot;}, &quot;id&quot;: &quot;38&quot;, &quot;properties&quot;: {&quot;Crop&quot;: 5, &quot;DryYield&quot;: 0.241, &quot;Elevation&quot;: 253.49, &quot;Heading&quot;: 89.4, &quot;Latitude&quot;: -31.59143876, &quot;Longitude&quot;: 117.5019256, &quot;Time&quot;: &quot;11/11/2020 8:51&quot;, &quot;Variety&quot;: &quot;43Y23 RR&quot;, &quot;__folium_color&quot;: &quot;#1d068e&quot;, &quot;sample_id&quot;: &quot;bf66_sample_1&quot;}, &quot;type&quot;: &quot;Feature&quot;}, {&quot;bbox&quot;: [117.5023304, -31.59155581, 117.5023304, -31.59155581], &quot;geometry&quot;: {&quot;coordinates&quot;: [117.5023304, -31.59155581], &quot;type&quot;: &quot;Point&quot;}, &quot;id&quot;: &quot;39&quot;, &quot;properties&quot;: {&quot;Crop&quot;: 5, &quot;DryYield&quot;: 0.587, &quot;Elevation&quot;: 252.84, &quot;Heading&quot;: 266.6, &quot;Latitude&quot;: -31.59155581, &quot;Longitude&quot;: 117.5023304, &quot;Time&quot;: &quot;11/11/2020 8:53&quot;, &quot;Variety&quot;: &quot;43Y23 RR&quot;, &quot;__folium_color&quot;: &quot;#310597&quot;, &quot;sample_id&quot;: &quot;bf66_sample_1&quot;}, &quot;type&quot;: &quot;Feature&quot;}, {&quot;bbox&quot;: [117.4995999, -31.59154585, 117.4995999, -31.59154585], &quot;geometry&quot;: {&quot;coordinates&quot;: [117.4995999, -31.59154585], &quot;type&quot;: &quot;Point&quot;}, &quot;id&quot;: &quot;40&quot;, &quot;properties&quot;: {&quot;Crop&quot;: 5, &quot;DryYield&quot;: 0.483, &quot;Elevation&quot;: 257.26, &quot;Heading&quot;: 265.5, &quot;Latitude&quot;: -31.59154585, &quot;Longitude&quot;: 117.4995999, &quot;Time&quot;: &quot;11/11/2020 8:54&quot;, &quot;Variety&quot;: &quot;43Y23 RR&quot;, &quot;__folium_color&quot;: &quot;#2c0594&quot;, &quot;sample_id&quot;: &quot;bf66_sample_1&quot;}, &quot;type&quot;: &quot;Feature&quot;}, {&quot;bbox&quot;: [117.496787, -31.59157941, 117.496787, -31.59157941], &quot;geometry&quot;: {&quot;coordinates&quot;: [117.496787, -31.59157941], &quot;type&quot;: &quot;Point&quot;}, &quot;id&quot;: &quot;41&quot;, &quot;properties&quot;: {&quot;Crop&quot;: 5, &quot;DryYield&quot;: 0.636, &quot;Elevation&quot;: 263.22, &quot;Heading&quot;: 238.6, &quot;Latitude&quot;: -31.59157941, &quot;Longitude&quot;: 117.496787, &quot;Time&quot;: &quot;11/11/2020 8:56&quot;, &quot;Variety&quot;: &quot;43Y23 RR&quot;, &quot;__folium_color&quot;: &quot;#330597&quot;, &quot;sample_id&quot;: &quot;bf66_sample_1&quot;}, &quot;type&quot;: &quot;Feature&quot;}, {&quot;bbox&quot;: [117.4967293, -31.5933704, 117.4967293, -31.5933704], &quot;geometry&quot;: {&quot;coordinates&quot;: [117.4967293, -31.5933704], &quot;type&quot;: &quot;Point&quot;}, &quot;id&quot;: &quot;42&quot;, &quot;properties&quot;: {&quot;Crop&quot;: 5, &quot;DryYield&quot;: 1.043, &quot;Elevation&quot;: 266.93, &quot;Heading&quot;: 179.5, &quot;Latitude&quot;: -31.5933704, &quot;Longitude&quot;: 117.4967293, &quot;Time&quot;: &quot;11/11/2020 8:57&quot;, &quot;Variety&quot;: &quot;43Y23 RR&quot;, &quot;__folium_color&quot;: &quot;#46039f&quot;, &quot;sample_id&quot;: &quot;bf66_sample_1&quot;}, &quot;type&quot;: &quot;Feature&quot;}, {&quot;bbox&quot;: [117.4967293, -31.59539531, 117.4967293, -31.59539531], &quot;geometry&quot;: {&quot;coordinates&quot;: [117.4967293, -31.59539531], &quot;type&quot;: &quot;Point&quot;}, &quot;id&quot;: &quot;43&quot;, &quot;properties&quot;: {&quot;Crop&quot;: 5, &quot;DryYield&quot;: 0.815, &quot;Elevation&quot;: 268.21, &quot;Heading&quot;: 179.8, &quot;Latitude&quot;: -31.59539531, &quot;Longitude&quot;: 117.4967293, &quot;Time&quot;: &quot;11/11/2020 8:58&quot;, &quot;Variety&quot;: &quot;43Y23 RR&quot;, &quot;__folium_color&quot;: &quot;#3c049b&quot;, &quot;sample_id&quot;: &quot;bf66_sample_1&quot;}, &quot;type&quot;: &quot;Feature&quot;}, {&quot;bbox&quot;: [117.496728, -31.59743396, 117.496728, -31.59743396], &quot;geometry&quot;: {&quot;coordinates&quot;: [117.496728, -31.59743396], &quot;type&quot;: &quot;Point&quot;}, &quot;id&quot;: &quot;44&quot;, &quot;properties&quot;: {&quot;Crop&quot;: 5, &quot;DryYield&quot;: 1.039, &quot;Elevation&quot;: 267.33, &quot;Heading&quot;: 180.3, &quot;Latitude&quot;: -31.59743396, &quot;Longitude&quot;: 117.496728, &quot;Time&quot;: &quot;11/11/2020 9:00&quot;, &quot;Variety&quot;: &quot;43Y23 RR&quot;, &quot;__folium_color&quot;: &quot;#46039f&quot;, &quot;sample_id&quot;: &quot;bf66_sample_1&quot;}, &quot;type&quot;: &quot;Feature&quot;}, {&quot;bbox&quot;: [117.4967287, -31.59932703, 117.4967287, -31.59932703], &quot;geometry&quot;: {&quot;coordinates&quot;: [117.4967287, -31.59932703], &quot;type&quot;: &quot;Point&quot;}, &quot;id&quot;: &quot;45&quot;, &quot;properties&quot;: {&quot;Crop&quot;: 5, &quot;DryYield&quot;: 1.3, &quot;Elevation&quot;: 268.28, &quot;Heading&quot;: 179.7, &quot;Latitude&quot;: -31.59932703, &quot;Longitude&quot;: 117.4967287, &quot;Time&quot;: &quot;11/11/2020 9:01&quot;, &quot;Variety&quot;: &quot;43Y23 RR&quot;, &quot;__folium_color&quot;: &quot;#5302a3&quot;, &quot;sample_id&quot;: &quot;bf66_sample_1&quot;}, &quot;type&quot;: &quot;Feature&quot;}, {&quot;bbox&quot;: [117.4967287, -31.60109199, 117.4967287, -31.60109199], &quot;geometry&quot;: {&quot;coordinates&quot;: [117.4967287, -31.60109199], &quot;type&quot;: &quot;Point&quot;}, &quot;id&quot;: &quot;46&quot;, &quot;properties&quot;: {&quot;Crop&quot;: 5, &quot;DryYield&quot;: 1.17, &quot;Elevation&quot;: 266.09, &quot;Heading&quot;: 180.3, &quot;Latitude&quot;: -31.60109199, &quot;Longitude&quot;: 117.4967287, &quot;Time&quot;: &quot;11/11/2020 9:02&quot;, &quot;Variety&quot;: &quot;43Y23 RR&quot;, &quot;__folium_color&quot;: &quot;#4c02a1&quot;, &quot;sample_id&quot;: &quot;bf66_sample_1&quot;}, &quot;type&quot;: &quot;Feature&quot;}, {&quot;bbox&quot;: [117.4978203, -31.60702667, 117.4978203, -31.60702667], &quot;geometry&quot;: {&quot;coordinates&quot;: [117.4978203, -31.60702667], &quot;type&quot;: &quot;Point&quot;}, &quot;id&quot;: &quot;47&quot;, &quot;properties&quot;: {&quot;Crop&quot;: 5, &quot;DryYield&quot;: 0.146, &quot;Elevation&quot;: 265.12, &quot;Heading&quot;: 157.2, &quot;Latitude&quot;: -31.60702667, &quot;Longitude&quot;: 117.4978203, &quot;Time&quot;: &quot;11/11/2020 8:56&quot;, &quot;Variety&quot;: &quot;43Y23 RR&quot;, &quot;__folium_color&quot;: &quot;#19068c&quot;, &quot;sample_id&quot;: &quot;bf66_sample_1&quot;}, &quot;type&quot;: &quot;Feature&quot;}, {&quot;bbox&quot;: [117.4984371, -31.60857412, 117.4984371, -31.60857412], &quot;geometry&quot;: {&quot;coordinates&quot;: [117.4984371, -31.60857412], &quot;type&quot;: &quot;Point&quot;}, &quot;id&quot;: &quot;48&quot;, &quot;properties&quot;: {&quot;Crop&quot;: 5, &quot;DryYield&quot;: 0.362, &quot;Elevation&quot;: 269.55, &quot;Heading&quot;: 257.7, &quot;Latitude&quot;: -31.60857412, &quot;Longitude&quot;: 117.4984371, &quot;Time&quot;: &quot;11/11/2020 8:57&quot;, &quot;Variety&quot;: &quot;43Y23 RR&quot;, &quot;__folium_color&quot;: &quot;#260591&quot;, &quot;sample_id&quot;: &quot;bf66_sample_1&quot;}, &quot;type&quot;: &quot;Feature&quot;}, {&quot;bbox&quot;: [117.4958109, -31.60879638, 117.4958109, -31.60879638], &quot;geometry&quot;: {&quot;coordinates&quot;: [117.4958109, -31.60879638], &quot;type&quot;: &quot;Point&quot;}, &quot;id&quot;: &quot;49&quot;, &quot;properties&quot;: {&quot;Crop&quot;: 5, &quot;DryYield&quot;: 0.241, &quot;Elevation&quot;: 271.67, &quot;Heading&quot;: 260.4, &quot;Latitude&quot;: -31.60879638, &quot;Longitude&quot;: 117.4958109, &quot;Time&quot;: &quot;11/11/2020 8:58&quot;, &quot;Variety&quot;: &quot;43Y23 RR&quot;, &quot;__folium_color&quot;: &quot;#1d068e&quot;, &quot;sample_id&quot;: &quot;bf66_sample_1&quot;}, &quot;type&quot;: &quot;Feature&quot;}, {&quot;bbox&quot;: [117.493477, -31.60868211, 117.493477, -31.60868211], &quot;geometry&quot;: {&quot;coordinates&quot;: [117.493477, -31.60868211], &quot;type&quot;: &quot;Point&quot;}, &quot;id&quot;: &quot;50&quot;, &quot;properties&quot;: {&quot;Crop&quot;: 5, &quot;DryYield&quot;: 0.095, &quot;Elevation&quot;: 270.97, &quot;Heading&quot;: 336.0, &quot;Latitude&quot;: -31.60868211, &quot;Longitude&quot;: 117.493477, &quot;Time&quot;: &quot;11/11/2020 9:00&quot;, &quot;Variety&quot;: &quot;43Y23 RR&quot;, &quot;__folium_color&quot;: &quot;#130789&quot;, &quot;sample_id&quot;: &quot;bf66_sample_1&quot;}, &quot;type&quot;: &quot;Feature&quot;}, {&quot;bbox&quot;: [117.4953673, -31.60865822, 117.4953673, -31.60865822], &quot;geometry&quot;: {&quot;coordinates&quot;: [117.4953673, -31.60865822], &quot;type&quot;: &quot;Point&quot;}, &quot;id&quot;: &quot;51&quot;, &quot;properties&quot;: {&quot;Crop&quot;: 5, &quot;DryYield&quot;: 0.365, &quot;Elevation&quot;: 272.89, &quot;Heading&quot;: 93.0, &quot;Latitude&quot;: -31.60865822, &quot;Longitude&quot;: 117.4953673, &quot;Time&quot;: &quot;11/11/2020 9:01&quot;, &quot;Variety&quot;: &quot;43Y23 RR&quot;, &quot;__folium_color&quot;: &quot;#260591&quot;, &quot;sample_id&quot;: &quot;bf66_sample_1&quot;}, &quot;type&quot;: &quot;Feature&quot;}, {&quot;bbox&quot;: [117.4979356, -31.60852342, 117.4979356, -31.60852342], &quot;geometry&quot;: {&quot;coordinates&quot;: [117.4979356, -31.60852342], &quot;type&quot;: &quot;Point&quot;}, &quot;id&quot;: &quot;52&quot;, &quot;properties&quot;: {&quot;Crop&quot;: 5, &quot;DryYield&quot;: 0.333, &quot;Elevation&quot;: 268.82, &quot;Heading&quot;: 80.7, &quot;Latitude&quot;: -31.60852342, &quot;Longitude&quot;: 117.4979356, &quot;Time&quot;: &quot;11/11/2020 9:02&quot;, &quot;Variety&quot;: &quot;43Y23 RR&quot;, &quot;__folium_color&quot;: &quot;#240691&quot;, &quot;sample_id&quot;: &quot;bf66_sample_1&quot;}, &quot;type&quot;: &quot;Feature&quot;}, {&quot;bbox&quot;: [117.4977899, -31.60726533, 117.4977899, -31.60726533], &quot;geometry&quot;: {&quot;coordinates&quot;: [117.4977899, -31.60726533], &quot;type&quot;: &quot;Point&quot;}, &quot;id&quot;: &quot;53&quot;, &quot;properties&quot;: {&quot;Crop&quot;: 5, &quot;DryYield&quot;: 0.316, &quot;Elevation&quot;: 265.63, &quot;Heading&quot;: 334.7, &quot;Latitude&quot;: -31.60726533, &quot;Longitude&quot;: 117.4977899, &quot;Time&quot;: &quot;11/11/2020 9:04&quot;, &quot;Variety&quot;: &quot;43Y23 RR&quot;, &quot;__folium_color&quot;: &quot;#220690&quot;, &quot;sample_id&quot;: &quot;bf66_sample_1&quot;}, &quot;type&quot;: &quot;Feature&quot;}, {&quot;bbox&quot;: [117.4971081, -31.60560052, 117.4971081, -31.60560052], &quot;geometry&quot;: {&quot;coordinates&quot;: [117.4971081, -31.60560052], &quot;type&quot;: &quot;Point&quot;}, &quot;id&quot;: &quot;54&quot;, &quot;properties&quot;: {&quot;Crop&quot;: 5, &quot;DryYield&quot;: 0.497, &quot;Elevation&quot;: 264.72, &quot;Heading&quot;: 0.1, &quot;Latitude&quot;: -31.60560052, &quot;Longitude&quot;: 117.4971081, &quot;Time&quot;: &quot;11/11/2020 9:05&quot;, &quot;Variety&quot;: &quot;43Y23 RR&quot;, &quot;__folium_color&quot;: &quot;#2c0594&quot;, &quot;sample_id&quot;: &quot;bf66_sample_1&quot;}, &quot;type&quot;: &quot;Feature&quot;}, {&quot;bbox&quot;: [117.4971079, -31.60403586, 117.4971079, -31.60403586], &quot;geometry&quot;: {&quot;coordinates&quot;: [117.4971079, -31.60403586], &quot;type&quot;: &quot;Point&quot;}, &quot;id&quot;: &quot;55&quot;, &quot;properties&quot;: {&quot;Crop&quot;: 5, &quot;DryYield&quot;: 0.393, &quot;Elevation&quot;: 262.78, &quot;Heading&quot;: 359.9, &quot;Latitude&quot;: -31.60403586, &quot;Longitude&quot;: 117.4971079, &quot;Time&quot;: &quot;11/11/2020 9:07&quot;, &quot;Variety&quot;: &quot;43Y23 RR&quot;, &quot;__folium_color&quot;: &quot;#260591&quot;, &quot;sample_id&quot;: &quot;bf66_sample_1&quot;}, &quot;type&quot;: &quot;Feature&quot;}, {&quot;bbox&quot;: [117.4971079, -31.60226177, 117.4971079, -31.60226177], &quot;geometry&quot;: {&quot;coordinates&quot;: [117.4971079, -31.60226177], &quot;type&quot;: &quot;Point&quot;}, &quot;id&quot;: &quot;56&quot;, &quot;properties&quot;: {&quot;Crop&quot;: 5, &quot;DryYield&quot;: 0.741, &quot;Elevation&quot;: 261.95, &quot;Heading&quot;: 359.9, &quot;Latitude&quot;: -31.60226177, &quot;Longitude&quot;: 117.4971079, &quot;Time&quot;: &quot;11/11/2020 9:08&quot;, &quot;Variety&quot;: &quot;43Y23 RR&quot;, &quot;__folium_color&quot;: &quot;#38049a&quot;, &quot;sample_id&quot;: &quot;bf66_sample_1&quot;}, &quot;type&quot;: &quot;Feature&quot;}, {&quot;bbox&quot;: [117.4971082, -31.60053513, 117.4971082, -31.60053513], &quot;geometry&quot;: {&quot;coordinates&quot;: [117.4971082, -31.60053513], &quot;type&quot;: &quot;Point&quot;}, &quot;id&quot;: &quot;57&quot;, &quot;properties&quot;: {&quot;Crop&quot;: 5, &quot;DryYield&quot;: 0.881, &quot;Elevation&quot;: 265.79, &quot;Heading&quot;: 0.2, &quot;Latitude&quot;: -31.60053513, &quot;Longitude&quot;: 117.4971082, &quot;Time&quot;: &quot;11/11/2020 9:09&quot;, &quot;Variety&quot;: &quot;43Y23 RR&quot;, &quot;__folium_color&quot;: &quot;#3f049c&quot;, &quot;sample_id&quot;: &quot;bf66_sample_1&quot;}, &quot;type&quot;: &quot;Feature&quot;}, {&quot;bbox&quot;: [117.4971079, -31.59880891, 117.4971079, -31.59880891], &quot;geometry&quot;: {&quot;coordinates&quot;: [117.4971079, -31.59880891], &quot;type&quot;: &quot;Point&quot;}, &quot;id&quot;: &quot;58&quot;, &quot;properties&quot;: {&quot;Crop&quot;: 5, &quot;DryYield&quot;: 0.972, &quot;Elevation&quot;: 266.48, &quot;Heading&quot;: 359.7, &quot;Latitude&quot;: -31.59880891, &quot;Longitude&quot;: 117.4971079, &quot;Time&quot;: &quot;11/11/2020 9:11&quot;, &quot;Variety&quot;: &quot;43Y23 RR&quot;, &quot;__folium_color&quot;: &quot;#43039e&quot;, &quot;sample_id&quot;: &quot;bf66_sample_1&quot;}, &quot;type&quot;: &quot;Feature&quot;}, {&quot;bbox&quot;: [117.4971079, -31.59728612, 117.4971079, -31.59728612], &quot;geometry&quot;: {&quot;coordinates&quot;: [117.4971079, -31.59728612], &quot;type&quot;: &quot;Point&quot;}, &quot;id&quot;: &quot;59&quot;, &quot;properties&quot;: {&quot;Crop&quot;: 5, &quot;DryYield&quot;: 0.606, &quot;Elevation&quot;: 265.67, &quot;Heading&quot;: 360.0, &quot;Latitude&quot;: -31.59728612, &quot;Longitude&quot;: 117.4971079, &quot;Time&quot;: &quot;11/11/2020 9:12&quot;, &quot;Variety&quot;: &quot;43Y23 RR&quot;, &quot;__folium_color&quot;: &quot;#310597&quot;, &quot;sample_id&quot;: &quot;bf66_sample_1&quot;}, &quot;type&quot;: &quot;Feature&quot;}, {&quot;bbox&quot;: [117.4971082, -31.59539362, 117.4971082, -31.59539362], &quot;geometry&quot;: {&quot;coordinates&quot;: [117.4971082, -31.59539362], &quot;type&quot;: &quot;Point&quot;}, &quot;id&quot;: &quot;60&quot;, &quot;properties&quot;: {&quot;Crop&quot;: 5, &quot;DryYield&quot;: 0.567, &quot;Elevation&quot;: 266.25, &quot;Heading&quot;: 0.4, &quot;Latitude&quot;: -31.59539362, &quot;Longitude&quot;: 117.4971082, &quot;Time&quot;: &quot;11/11/2020 9:13&quot;, &quot;Variety&quot;: &quot;43Y23 RR&quot;, &quot;__folium_color&quot;: &quot;#2f0596&quot;, &quot;sample_id&quot;: &quot;bf66_sample_1&quot;}, &quot;type&quot;: &quot;Feature&quot;}, {&quot;bbox&quot;: [117.4971079, -31.5934536, 117.4971079, -31.5934536], &quot;geometry&quot;: {&quot;coordinates&quot;: [117.4971079, -31.5934536], &quot;type&quot;: &quot;Point&quot;}, &quot;id&quot;: &quot;61&quot;, &quot;properties&quot;: {&quot;Crop&quot;: 5, &quot;DryYield&quot;: 0.715, &quot;Elevation&quot;: 266.0, &quot;Heading&quot;: 359.9, &quot;Latitude&quot;: -31.5934536, &quot;Longitude&quot;: 117.4971079, &quot;Time&quot;: &quot;11/11/2020 9:15&quot;, &quot;Variety&quot;: &quot;43Y23 RR&quot;, &quot;__folium_color&quot;: &quot;#370499&quot;, &quot;sample_id&quot;: &quot;bf66_sample_1&quot;}, &quot;type&quot;: &quot;Feature&quot;}, {&quot;bbox&quot;: [117.4971081, -31.59194205, 117.4971081, -31.59194205], &quot;geometry&quot;: {&quot;coordinates&quot;: [117.4971081, -31.59194205], &quot;type&quot;: &quot;Point&quot;}, &quot;id&quot;: &quot;62&quot;, &quot;properties&quot;: {&quot;Crop&quot;: 5, &quot;DryYield&quot;: 0.696, &quot;Elevation&quot;: 263.5, &quot;Heading&quot;: 0.1, &quot;Latitude&quot;: -31.59194205, &quot;Longitude&quot;: 117.4971081, &quot;Time&quot;: &quot;11/11/2020 9:16&quot;, &quot;Variety&quot;: &quot;43Y23 RR&quot;, &quot;__folium_color&quot;: &quot;#370499&quot;, &quot;sample_id&quot;: &quot;bf66_sample_1&quot;}, &quot;type&quot;: &quot;Feature&quot;}, {&quot;bbox&quot;: [117.4969818, -31.59265738, 117.4969818, -31.59265738], &quot;geometry&quot;: {&quot;coordinates&quot;: [117.4969818, -31.59265738], &quot;type&quot;: &quot;Point&quot;}, &quot;id&quot;: &quot;63&quot;, &quot;properties&quot;: {&quot;Crop&quot;: 5, &quot;DryYield&quot;: 0.857, &quot;Elevation&quot;: 264.92, &quot;Heading&quot;: 179.9, &quot;Latitude&quot;: -31.59265738, &quot;Longitude&quot;: 117.4969818, &quot;Time&quot;: &quot;11/11/2020 9:17&quot;, &quot;Variety&quot;: &quot;43Y23 RR&quot;, &quot;__folium_color&quot;: &quot;#3e049c&quot;, &quot;sample_id&quot;: &quot;bf66_sample_1&quot;}, &quot;type&quot;: &quot;Feature&quot;}, {&quot;bbox&quot;: [117.4969818, -31.59426773, 117.4969818, -31.59426773], &quot;geometry&quot;: {&quot;coordinates&quot;: [117.4969818, -31.59426773], &quot;type&quot;: &quot;Point&quot;}, &quot;id&quot;: &quot;64&quot;, &quot;properties&quot;: {&quot;Crop&quot;: 5, &quot;DryYield&quot;: 0.784, &quot;Elevation&quot;: 267.11, &quot;Heading&quot;: 180.0, &quot;Latitude&quot;: -31.59426773, &quot;Longitude&quot;: 117.4969818, &quot;Time&quot;: &quot;11/11/2020 9:19&quot;, &quot;Variety&quot;: &quot;43Y23 RR&quot;, &quot;__folium_color&quot;: &quot;#3a049a&quot;, &quot;sample_id&quot;: &quot;bf66_sample_1&quot;}, &quot;type&quot;: &quot;Feature&quot;}, {&quot;bbox&quot;: [117.4969813, -31.59599663, 117.4969813, -31.59599663], &quot;geometry&quot;: {&quot;coordinates&quot;: [117.4969813, -31.59599663], &quot;type&quot;: &quot;Point&quot;}, &quot;id&quot;: &quot;65&quot;, &quot;properties&quot;: {&quot;Crop&quot;: 5, &quot;DryYield&quot;: 0.599, &quot;Elevation&quot;: 266.96, &quot;Heading&quot;: 180.5, &quot;Latitude&quot;: -31.59599663, &quot;Longitude&quot;: 117.4969813, &quot;Time&quot;: &quot;11/11/2020 9:20&quot;, &quot;Variety&quot;: &quot;43Y23 RR&quot;, &quot;__folium_color&quot;: &quot;#310597&quot;, &quot;sample_id&quot;: &quot;bf66_sample_1&quot;}, &quot;type&quot;: &quot;Feature&quot;}, {&quot;bbox&quot;: [117.4969816, -31.59768766, 117.4969816, -31.59768766], &quot;geometry&quot;: {&quot;coordinates&quot;: [117.4969816, -31.59768766], &quot;type&quot;: &quot;Point&quot;}, &quot;id&quot;: &quot;66&quot;, &quot;properties&quot;: {&quot;Crop&quot;: 5, &quot;DryYield&quot;: 0.754, &quot;Elevation&quot;: 266.36, &quot;Heading&quot;: 180.2, &quot;Latitude&quot;: -31.59768766, &quot;Longitude&quot;: 117.4969816, &quot;Time&quot;: &quot;11/11/2020 9:21&quot;, &quot;Variety&quot;: &quot;43Y23 RR&quot;, &quot;__folium_color&quot;: &quot;#38049a&quot;, &quot;sample_id&quot;: &quot;bf66_sample_1&quot;}, &quot;type&quot;: &quot;Feature&quot;}, {&quot;bbox&quot;: [117.4969816, -31.59921596, 117.4969816, -31.59921596], &quot;geometry&quot;: {&quot;coordinates&quot;: [117.4969816, -31.59921596], &quot;type&quot;: &quot;Point&quot;}, &quot;id&quot;: &quot;67&quot;, &quot;properties&quot;: {&quot;Crop&quot;: 5, &quot;DryYield&quot;: 0.512, &quot;Elevation&quot;: 267.11, &quot;Heading&quot;: 179.9, &quot;Latitude&quot;: -31.59921596, &quot;Longitude&quot;: 117.4969816, &quot;Time&quot;: &quot;11/11/2020 9:23&quot;, &quot;Variety&quot;: &quot;43Y23 RR&quot;, &quot;__folium_color&quot;: &quot;#2e0595&quot;, &quot;sample_id&quot;: &quot;bf66_sample_1&quot;}, &quot;type&quot;: &quot;Feature&quot;}, {&quot;bbox&quot;: [117.4969816, -31.60086587, 117.4969816, -31.60086587], &quot;geometry&quot;: {&quot;coordinates&quot;: [117.4969816, -31.60086587], &quot;type&quot;: &quot;Point&quot;}, &quot;id&quot;: &quot;68&quot;, &quot;properties&quot;: {&quot;Crop&quot;: 5, &quot;DryYield&quot;: 0.821, &quot;Elevation&quot;: 265.85, &quot;Heading&quot;: 180.1, &quot;Latitude&quot;: -31.60086587, &quot;Longitude&quot;: 117.4969816, &quot;Time&quot;: &quot;11/11/2020 9:24&quot;, &quot;Variety&quot;: &quot;43Y23 RR&quot;, &quot;__folium_color&quot;: &quot;#3c049b&quot;, &quot;sample_id&quot;: &quot;bf66_sample_1&quot;}, &quot;type&quot;: &quot;Feature&quot;}, {&quot;bbox&quot;: [117.4969816, -31.60248282, 117.4969816, -31.60248282], &quot;geometry&quot;: {&quot;coordinates&quot;: [117.4969816, -31.60248282], &quot;type&quot;: &quot;Point&quot;}, &quot;id&quot;: &quot;69&quot;, &quot;properties&quot;: {&quot;Crop&quot;: 5, &quot;DryYield&quot;: 0.687, &quot;Elevation&quot;: 261.53, &quot;Heading&quot;: 180.1, &quot;Latitude&quot;: -31.60248282, &quot;Longitude&quot;: 117.4969816, &quot;Time&quot;: &quot;11/11/2020 9:25&quot;, &quot;Variety&quot;: &quot;43Y23 RR&quot;, &quot;__folium_color&quot;: &quot;#370499&quot;, &quot;sample_id&quot;: &quot;bf66_sample_1&quot;}, &quot;type&quot;: &quot;Feature&quot;}, {&quot;bbox&quot;: [117.4969818, -31.60438927, 117.4969818, -31.60438927], &quot;geometry&quot;: {&quot;coordinates&quot;: [117.4969818, -31.60438927], &quot;type&quot;: &quot;Point&quot;}, &quot;id&quot;: &quot;70&quot;, &quot;properties&quot;: {&quot;Crop&quot;: 5, &quot;DryYield&quot;: 0.327, &quot;Elevation&quot;: 263.47, &quot;Heading&quot;: 180.0, &quot;Latitude&quot;: -31.60438927, &quot;Longitude&quot;: 117.4969818, &quot;Time&quot;: &quot;11/11/2020 9:27&quot;, &quot;Variety&quot;: &quot;43Y23 RR&quot;, &quot;__folium_color&quot;: &quot;#240691&quot;, &quot;sample_id&quot;: &quot;bf66_sample_1&quot;}, &quot;type&quot;: &quot;Feature&quot;}, {&quot;bbox&quot;: [117.4969814, -31.60619534, 117.4969814, -31.60619534], &quot;geometry&quot;: {&quot;coordinates&quot;: [117.4969814, -31.60619534], &quot;type&quot;: &quot;Point&quot;}, &quot;id&quot;: &quot;71&quot;, &quot;properties&quot;: {&quot;Crop&quot;: 5, &quot;DryYield&quot;: 0.409, &quot;Elevation&quot;: 265.44, &quot;Heading&quot;: 180.4, &quot;Latitude&quot;: -31.60619534, &quot;Longitude&quot;: 117.4969814, &quot;Time&quot;: &quot;11/11/2020 9:28&quot;, &quot;Variety&quot;: &quot;43Y23 RR&quot;, &quot;__folium_color&quot;: &quot;#280592&quot;, &quot;sample_id&quot;: &quot;bf66_sample_1&quot;}, &quot;type&quot;: &quot;Feature&quot;}, {&quot;bbox&quot;: [117.4969814, -31.60842262, 117.4969814, -31.60842262], &quot;geometry&quot;: {&quot;coordinates&quot;: [117.4969814, -31.60842262], &quot;type&quot;: &quot;Point&quot;}, &quot;id&quot;: &quot;72&quot;, &quot;properties&quot;: {&quot;Crop&quot;: 5, &quot;DryYield&quot;: 0.165, &quot;Elevation&quot;: 267.8, &quot;Heading&quot;: 180.0, &quot;Latitude&quot;: -31.60842262, &quot;Longitude&quot;: 117.4969814, &quot;Time&quot;: &quot;11/11/2020 9:29&quot;, &quot;Variety&quot;: &quot;43Y23 RR&quot;, &quot;__folium_color&quot;: &quot;#19068c&quot;, &quot;sample_id&quot;: &quot;bf66_sample_1&quot;}, &quot;type&quot;: &quot;Feature&quot;}, {&quot;bbox&quot;: [117.4981664, -31.60787699, 117.4981664, -31.60787699], &quot;geometry&quot;: {&quot;coordinates&quot;: [117.4981664, -31.60787699], &quot;type&quot;: &quot;Point&quot;}, &quot;id&quot;: &quot;73&quot;, &quot;properties&quot;: {&quot;Crop&quot;: 5, &quot;DryYield&quot;: 0.367, &quot;Elevation&quot;: 267.51, &quot;Heading&quot;: 306.6, &quot;Latitude&quot;: -31.60787699, &quot;Longitude&quot;: 117.4981664, &quot;Time&quot;: &quot;11/11/2020 9:31&quot;, &quot;Variety&quot;: &quot;43Y23 RR&quot;, &quot;__folium_color&quot;: &quot;#260591&quot;, &quot;sample_id&quot;: &quot;bf66_sample_1&quot;}, &quot;type&quot;: &quot;Feature&quot;}, {&quot;bbox&quot;: [117.4974245, -31.60631712, 117.4974245, -31.60631712], &quot;geometry&quot;: {&quot;coordinates&quot;: [117.4974245, -31.60631712], &quot;type&quot;: &quot;Point&quot;}, &quot;id&quot;: &quot;74&quot;, &quot;properties&quot;: {&quot;Crop&quot;: 5, &quot;DryYield&quot;: 0.065, &quot;Elevation&quot;: 264.3, &quot;Heading&quot;: 346.2, &quot;Latitude&quot;: -31.60631712, &quot;Longitude&quot;: 117.4974245, &quot;Time&quot;: &quot;11/11/2020 9:51&quot;, &quot;Variety&quot;: &quot;43Y23 RR&quot;, &quot;__folium_color&quot;: &quot;#100788&quot;, &quot;sample_id&quot;: &quot;bf66_sample_1&quot;}, &quot;type&quot;: &quot;Feature&quot;}, {&quot;bbox&quot;: [117.4967286, -31.60247225, 117.4967286, -31.60247225], &quot;geometry&quot;: {&quot;coordinates&quot;: [117.4967286, -31.60247225], &quot;type&quot;: &quot;Point&quot;}, &quot;id&quot;: &quot;75&quot;, &quot;properties&quot;: {&quot;Crop&quot;: 5, &quot;DryYield&quot;: 0.78, &quot;Elevation&quot;: 261.92, &quot;Heading&quot;: 179.9, &quot;Latitude&quot;: -31.60247225, &quot;Longitude&quot;: 117.4967286, &quot;Time&quot;: &quot;11/11/2020 9:03&quot;, &quot;Variety&quot;: &quot;43Y23 RR&quot;, &quot;__folium_color&quot;: &quot;#3a049a&quot;, &quot;sample_id&quot;: &quot;bf66_sample_1&quot;}, &quot;type&quot;: &quot;Feature&quot;}, {&quot;bbox&quot;: [117.496728, -31.60452392, 117.496728, -31.60452392], &quot;geometry&quot;: {&quot;coordinates&quot;: [117.496728, -31.60452392], &quot;type&quot;: &quot;Point&quot;}, &quot;id&quot;: &quot;76&quot;, &quot;properties&quot;: {&quot;Crop&quot;: 5, &quot;DryYield&quot;: 0.491, &quot;Elevation&quot;: 264.29, &quot;Heading&quot;: 179.9, &quot;Latitude&quot;: -31.60452392, &quot;Longitude&quot;: 117.496728, &quot;Time&quot;: &quot;11/11/2020 9:05&quot;, &quot;Variety&quot;: &quot;43Y23 RR&quot;, &quot;__folium_color&quot;: &quot;#2c0594&quot;, &quot;sample_id&quot;: &quot;bf66_sample_1&quot;}, &quot;type&quot;: &quot;Feature&quot;}, {&quot;bbox&quot;: [117.4967286, -31.60648976, 117.4967286, -31.60648976], &quot;geometry&quot;: {&quot;coordinates&quot;: [117.4967286, -31.60648976], &quot;type&quot;: &quot;Point&quot;}, &quot;id&quot;: &quot;77&quot;, &quot;properties&quot;: {&quot;Crop&quot;: 5, &quot;DryYield&quot;: 0.379, &quot;Elevation&quot;: 266.72, &quot;Heading&quot;: 180.0, &quot;Latitude&quot;: -31.60648976, &quot;Longitude&quot;: 117.4967286, &quot;Time&quot;: &quot;11/11/2020 9:06&quot;, &quot;Variety&quot;: &quot;43Y23 RR&quot;, &quot;__folium_color&quot;: &quot;#260591&quot;, &quot;sample_id&quot;: &quot;bf66_sample_1&quot;}, &quot;type&quot;: &quot;Feature&quot;}, {&quot;bbox&quot;: [117.4968545, -31.60862007, 117.4968545, -31.60862007], &quot;geometry&quot;: {&quot;coordinates&quot;: [117.4968545, -31.60862007], &quot;type&quot;: &quot;Point&quot;}, &quot;id&quot;: &quot;78&quot;, &quot;properties&quot;: {&quot;Crop&quot;: 5, &quot;DryYield&quot;: 0.452, &quot;Elevation&quot;: 268.47, &quot;Heading&quot;: 357.6, &quot;Latitude&quot;: -31.60862007, &quot;Longitude&quot;: 117.4968545, &quot;Time&quot;: &quot;11/11/2020 9:07&quot;, &quot;Variety&quot;: &quot;43Y23 RR&quot;, &quot;__folium_color&quot;: &quot;#2a0593&quot;, &quot;sample_id&quot;: &quot;bf66_sample_1&quot;}, &quot;type&quot;: &quot;Feature&quot;}, {&quot;bbox&quot;: [117.4968554, -31.60652085, 117.4968554, -31.60652085], &quot;geometry&quot;: {&quot;coordinates&quot;: [117.4968554, -31.60652085], &quot;type&quot;: &quot;Point&quot;}, &quot;id&quot;: &quot;79&quot;, &quot;properties&quot;: {&quot;Crop&quot;: 5, &quot;DryYield&quot;: 0.232, &quot;Elevation&quot;: 266.36, &quot;Heading&quot;: 0.2, &quot;Latitude&quot;: -31.60652085, &quot;Longitude&quot;: 117.4968554, &quot;Time&quot;: &quot;11/11/2020 9:09&quot;, &quot;Variety&quot;: &quot;43Y23 RR&quot;, &quot;__folium_color&quot;: &quot;#1d068e&quot;, &quot;sample_id&quot;: &quot;bf66_sample_1&quot;}, &quot;type&quot;: &quot;Feature&quot;}, {&quot;bbox&quot;: [117.496049, -31.60468231, 117.496049, -31.60468231], &quot;geometry&quot;: {&quot;coordinates&quot;: [117.496049, -31.60468231], &quot;type&quot;: &quot;Point&quot;}, &quot;id&quot;: &quot;80&quot;, &quot;properties&quot;: {&quot;Crop&quot;: 5, &quot;DryYield&quot;: 0.359, &quot;Elevation&quot;: 265.84, &quot;Heading&quot;: 306.8, &quot;Latitude&quot;: -31.60468231, &quot;Longitude&quot;: 117.496049, &quot;Time&quot;: &quot;11/11/2020 9:10&quot;, &quot;Variety&quot;: &quot;43Y23 RR&quot;, &quot;__folium_color&quot;: &quot;#240691&quot;, &quot;sample_id&quot;: &quot;bf66_sample_1&quot;}, &quot;type&quot;: &quot;Feature&quot;}, {&quot;bbox&quot;: [117.4939493, -31.60364982, 117.4939493, -31.60364982], &quot;geometry&quot;: {&quot;coordinates&quot;: [117.4939493, -31.60364982], &quot;type&quot;: &quot;Point&quot;}, &quot;id&quot;: &quot;81&quot;, &quot;properties&quot;: {&quot;Crop&quot;: 5, &quot;DryYield&quot;: 0.648, &quot;Elevation&quot;: 266.72, &quot;Heading&quot;: 302.4, &quot;Latitude&quot;: -31.60364982, &quot;Longitude&quot;: 117.4939493, &quot;Time&quot;: &quot;11/11/2020 9:11&quot;, &quot;Variety&quot;: &quot;43Y23 RR&quot;, &quot;__folium_color&quot;: &quot;#330597&quot;, &quot;sample_id&quot;: &quot;bf66_sample_1&quot;}, &quot;type&quot;: &quot;Feature&quot;}, {&quot;bbox&quot;: [117.4937016, -31.60386705, 117.4937016, -31.60386705], &quot;geometry&quot;: {&quot;coordinates&quot;: [117.4937016, -31.60386705], &quot;type&quot;: &quot;Point&quot;}, &quot;id&quot;: &quot;82&quot;, &quot;properties&quot;: {&quot;Crop&quot;: 5, &quot;DryYield&quot;: 0.697, &quot;Elevation&quot;: 267.36, &quot;Heading&quot;: 275.1, &quot;Latitude&quot;: -31.60386705, &quot;Longitude&quot;: 117.4937016, &quot;Time&quot;: &quot;11/11/2020 9:13&quot;, &quot;Variety&quot;: &quot;43Y23 RR&quot;, &quot;__folium_color&quot;: &quot;#370499&quot;, &quot;sample_id&quot;: &quot;bf66_sample_1&quot;}, &quot;type&quot;: &quot;Feature&quot;}, {&quot;bbox&quot;: [117.493441, -31.60210336, 117.493441, -31.60210336], &quot;geometry&quot;: {&quot;coordinates&quot;: [117.493441, -31.60210336], &quot;type&quot;: &quot;Point&quot;}, &quot;id&quot;: &quot;83&quot;, &quot;properties&quot;: {&quot;Crop&quot;: 5, &quot;DryYield&quot;: 0.726, &quot;Elevation&quot;: 265.09, &quot;Heading&quot;: 359.8, &quot;Latitude&quot;: -31.60210336, &quot;Longitude&quot;: 117.493441, &quot;Time&quot;: &quot;11/11/2020 9:14&quot;, &quot;Variety&quot;: &quot;43Y23 RR&quot;, &quot;__folium_color&quot;: &quot;#38049a&quot;, &quot;sample_id&quot;: &quot;bf66_sample_1&quot;}, &quot;type&quot;: &quot;Feature&quot;}, {&quot;bbox&quot;: [117.4934412, -31.60010465, 117.4934412, -31.60010465], &quot;geometry&quot;: {&quot;coordinates&quot;: [117.4934412, -31.60010465], &quot;type&quot;: &quot;Point&quot;}, &quot;id&quot;: &quot;84&quot;, &quot;properties&quot;: {&quot;Crop&quot;: 5, &quot;DryYield&quot;: 0.956, &quot;Elevation&quot;: 270.13, &quot;Heading&quot;: 0.3, &quot;Latitude&quot;: -31.60010465, &quot;Longitude&quot;: 117.4934412, &quot;Time&quot;: &quot;11/11/2020 9:16&quot;, &quot;Variety&quot;: &quot;43Y23 RR&quot;, &quot;__folium_color&quot;: &quot;#43039e&quot;, &quot;sample_id&quot;: &quot;bf66_sample_1&quot;}, &quot;type&quot;: &quot;Feature&quot;}, {&quot;bbox&quot;: [117.4934412, -31.5981926, 117.4934412, -31.5981926], &quot;geometry&quot;: {&quot;coordinates&quot;: [117.4934412, -31.5981926], &quot;type&quot;: &quot;Point&quot;}, &quot;id&quot;: &quot;85&quot;, &quot;properties&quot;: {&quot;Crop&quot;: 5, &quot;DryYield&quot;: 0.447, &quot;Elevation&quot;: 277.81, &quot;Heading&quot;: 360.0, &quot;Latitude&quot;: -31.5981926, &quot;Longitude&quot;: 117.4934412, &quot;Time&quot;: &quot;11/11/2020 9:17&quot;, &quot;Variety&quot;: &quot;43Y23 RR&quot;, &quot;__folium_color&quot;: &quot;#2a0593&quot;, &quot;sample_id&quot;: &quot;bf66_sample_1&quot;}, &quot;type&quot;: &quot;Feature&quot;}, {&quot;bbox&quot;: [117.4934408, -31.59622735, 117.4934408, -31.59622735], &quot;geometry&quot;: {&quot;coordinates&quot;: [117.4934408, -31.59622735], &quot;type&quot;: &quot;Point&quot;}, &quot;id&quot;: &quot;86&quot;, &quot;properties&quot;: {&quot;Crop&quot;: 5, &quot;DryYield&quot;: 0.646, &quot;Elevation&quot;: 279.47, &quot;Heading&quot;: 359.7, &quot;Latitude&quot;: -31.59622735, &quot;Longitude&quot;: 117.4934408, &quot;Time&quot;: &quot;11/11/2020 9:18&quot;, &quot;Variety&quot;: &quot;43Y23 RR&quot;, &quot;__folium_color&quot;: &quot;#330597&quot;, &quot;sample_id&quot;: &quot;bf66_sample_1&quot;}, &quot;type&quot;: &quot;Feature&quot;}, {&quot;bbox&quot;: [117.4930829, -31.59451684, 117.4930829, -31.59451684], &quot;geometry&quot;: {&quot;coordinates&quot;: [117.4930829, -31.59451684], &quot;type&quot;: &quot;Point&quot;}, &quot;id&quot;: &quot;87&quot;, &quot;properties&quot;: {&quot;Crop&quot;: 5, &quot;DryYield&quot;: 0.651, &quot;Elevation&quot;: 275.33, &quot;Heading&quot;: 344.0, &quot;Latitude&quot;: -31.59451684, &quot;Longitude&quot;: 117.4930829, &quot;Time&quot;: &quot;11/11/2020 9:20&quot;, &quot;Variety&quot;: &quot;43Y23 RR&quot;, &quot;__folium_color&quot;: &quot;#350498&quot;, &quot;sample_id&quot;: &quot;bf66_sample_1&quot;}, &quot;type&quot;: &quot;Feature&quot;}, {&quot;bbox&quot;: [117.4930464, -31.59248196, 117.4930464, -31.59248196], &quot;geometry&quot;: {&quot;coordinates&quot;: [117.4930464, -31.59248196], &quot;type&quot;: &quot;Point&quot;}, &quot;id&quot;: &quot;88&quot;, &quot;properties&quot;: {&quot;Crop&quot;: 5, &quot;DryYield&quot;: 0.799, &quot;Elevation&quot;: 269.59, &quot;Heading&quot;: 6.1, &quot;Latitude&quot;: -31.59248196, &quot;Longitude&quot;: 117.4930464, &quot;Time&quot;: &quot;11/11/2020 9:21&quot;, &quot;Variety&quot;: &quot;43Y23 RR&quot;, &quot;__folium_color&quot;: &quot;#3c049b&quot;, &quot;sample_id&quot;: &quot;bf66_sample_1&quot;}, &quot;type&quot;: &quot;Feature&quot;}, {&quot;bbox&quot;: [117.4937998, -31.59350369, 117.4937998, -31.59350369], &quot;geometry&quot;: {&quot;coordinates&quot;: [117.4937998, -31.59350369], &quot;type&quot;: &quot;Point&quot;}, &quot;id&quot;: &quot;89&quot;, &quot;properties&quot;: {&quot;Crop&quot;: 5, &quot;DryYield&quot;: 0.212, &quot;Elevation&quot;: 273.06, &quot;Heading&quot;: 182.5, &quot;Latitude&quot;: -31.59350369, &quot;Longitude&quot;: 117.4937998, &quot;Time&quot;: &quot;11/11/2020 9:22&quot;, &quot;Variety&quot;: &quot;43Y23 RR&quot;, &quot;__folium_color&quot;: &quot;#1b068d&quot;, &quot;sample_id&quot;: &quot;bf66_sample_1&quot;}, &quot;type&quot;: &quot;Feature&quot;}, {&quot;bbox&quot;: [117.4933147, -31.5951053, 117.4933147, -31.5951053], &quot;geometry&quot;: {&quot;coordinates&quot;: [117.4933147, -31.5951053], &quot;type&quot;: &quot;Point&quot;}, &quot;id&quot;: &quot;90&quot;, &quot;properties&quot;: {&quot;Crop&quot;: 5, &quot;DryYield&quot;: 1.114, &quot;Elevation&quot;: 277.07, &quot;Heading&quot;: 179.6, &quot;Latitude&quot;: -31.5951053, &quot;Longitude&quot;: 117.4933147, &quot;Time&quot;: &quot;11/11/2020 9:24&quot;, &quot;Variety&quot;: &quot;43Y23 RR&quot;, &quot;__folium_color&quot;: &quot;#4903a0&quot;, &quot;sample_id&quot;: &quot;bf66_sample_1&quot;}, &quot;type&quot;: &quot;Feature&quot;}, {&quot;bbox&quot;: [117.4933144, -31.59692212, 117.4933144, -31.59692212], &quot;geometry&quot;: {&quot;coordinates&quot;: [117.4933144, -31.59692212], &quot;type&quot;: &quot;Point&quot;}, &quot;id&quot;: &quot;91&quot;, &quot;properties&quot;: {&quot;Crop&quot;: 5, &quot;DryYield&quot;: 0.913, &quot;Elevation&quot;: 279.99, &quot;Heading&quot;: 180.3, &quot;Latitude&quot;: -31.59692212, &quot;Longitude&quot;: 117.4933144, &quot;Time&quot;: &quot;11/11/2020 9:25&quot;, &quot;Variety&quot;: &quot;43Y23 RR&quot;, &quot;__folium_color&quot;: &quot;#41049d&quot;, &quot;sample_id&quot;: &quot;bf66_sample_1&quot;}, &quot;type&quot;: &quot;Feature&quot;}, {&quot;bbox&quot;: [117.4933147, -31.59892351, 117.4933147, -31.59892351], &quot;geometry&quot;: {&quot;coordinates&quot;: [117.4933147, -31.59892351], &quot;type&quot;: &quot;Point&quot;}, &quot;id&quot;: &quot;92&quot;, &quot;properties&quot;: {&quot;Crop&quot;: 5, &quot;DryYield&quot;: 0.801, &quot;Elevation&quot;: 275.29, &quot;Heading&quot;: 180.1, &quot;Latitude&quot;: -31.59892351, &quot;Longitude&quot;: 117.4933147, &quot;Time&quot;: &quot;11/11/2020 9:26&quot;, &quot;Variety&quot;: &quot;43Y23 RR&quot;, &quot;__folium_color&quot;: &quot;#3c049b&quot;, &quot;sample_id&quot;: &quot;bf66_sample_1&quot;}, &quot;type&quot;: &quot;Feature&quot;}, {&quot;bbox&quot;: [117.4933147, -31.60105062, 117.4933147, -31.60105062], &quot;geometry&quot;: {&quot;coordinates&quot;: [117.4933147, -31.60105062], &quot;type&quot;: &quot;Point&quot;}, &quot;id&quot;: &quot;93&quot;, &quot;properties&quot;: {&quot;Crop&quot;: 5, &quot;DryYield&quot;: 0.873, &quot;Elevation&quot;: 267.77, &quot;Heading&quot;: 179.6, &quot;Latitude&quot;: -31.60105062, &quot;Longitude&quot;: 117.4933147, &quot;Time&quot;: &quot;11/11/2020 9:28&quot;, &quot;Variety&quot;: &quot;43Y23 RR&quot;, &quot;__folium_color&quot;: &quot;#3f049c&quot;, &quot;sample_id&quot;: &quot;bf66_sample_1&quot;}, &quot;type&quot;: &quot;Feature&quot;}, {&quot;bbox&quot;: [117.4933142, -31.603125, 117.4933142, -31.603125], &quot;geometry&quot;: {&quot;coordinates&quot;: [117.4933142, -31.603125], &quot;type&quot;: &quot;Point&quot;}, &quot;id&quot;: &quot;94&quot;, &quot;properties&quot;: {&quot;Crop&quot;: 5, &quot;DryYield&quot;: 0.769, &quot;Elevation&quot;: 266.31, &quot;Heading&quot;: 180.5, &quot;Latitude&quot;: -31.603125, &quot;Longitude&quot;: 117.4933142, &quot;Time&quot;: &quot;11/11/2020 9:29&quot;, &quot;Variety&quot;: &quot;43Y23 RR&quot;, &quot;__folium_color&quot;: &quot;#3a049a&quot;, &quot;sample_id&quot;: &quot;bf66_sample_1&quot;}, &quot;type&quot;: &quot;Feature&quot;}, {&quot;bbox&quot;: [117.4934739, -31.60563621, 117.4934739, -31.60563621], &quot;geometry&quot;: {&quot;coordinates&quot;: [117.4934739, -31.60563621], &quot;type&quot;: &quot;Point&quot;}, &quot;id&quot;: &quot;95&quot;, &quot;properties&quot;: {&quot;Crop&quot;: 5, &quot;DryYield&quot;: 0.112, &quot;Elevation&quot;: 270.82, &quot;Heading&quot;: 180.3, &quot;Latitude&quot;: -31.60563621, &quot;Longitude&quot;: 117.4934739, &quot;Time&quot;: &quot;11/11/2020 9:32&quot;, &quot;Variety&quot;: &quot;43Y23 RR&quot;, &quot;__folium_color&quot;: &quot;#16078a&quot;, &quot;sample_id&quot;: &quot;bf66_sample_1&quot;}, &quot;type&quot;: &quot;Feature&quot;}, {&quot;bbox&quot;: [117.4934716, -31.60790563, 117.4934716, -31.60790563], &quot;geometry&quot;: {&quot;coordinates&quot;: [117.4934716, -31.60790563], &quot;type&quot;: &quot;Point&quot;}, &quot;id&quot;: &quot;96&quot;, &quot;properties&quot;: {&quot;Crop&quot;: 5, &quot;DryYield&quot;: 0.19, &quot;Elevation&quot;: 271.2, &quot;Heading&quot;: 179.0, &quot;Latitude&quot;: -31.60790563, &quot;Longitude&quot;: 117.4934716, &quot;Time&quot;: &quot;11/11/2020 9:33&quot;, &quot;Variety&quot;: &quot;43Y23 RR&quot;, &quot;__folium_color&quot;: &quot;#1b068d&quot;, &quot;sample_id&quot;: &quot;bf66_sample_1&quot;}, &quot;type&quot;: &quot;Feature&quot;}, {&quot;bbox&quot;: [117.4935764, -31.60812913, 117.4935764, -31.60812913], &quot;geometry&quot;: {&quot;coordinates&quot;: [117.4935764, -31.60812913], &quot;type&quot;: &quot;Point&quot;}, &quot;id&quot;: &quot;97&quot;, &quot;properties&quot;: {&quot;Crop&quot;: 5, &quot;DryYield&quot;: 0.626, &quot;Elevation&quot;: 271.4, &quot;Heading&quot;: 0.0, &quot;Latitude&quot;: -31.60812913, &quot;Longitude&quot;: 117.4935764, &quot;Time&quot;: &quot;11/11/2020 9:35&quot;, &quot;Variety&quot;: &quot;43Y23 RR&quot;, &quot;__folium_color&quot;: &quot;#330597&quot;, &quot;sample_id&quot;: &quot;bf66_sample_1&quot;}, &quot;type&quot;: &quot;Feature&quot;}, {&quot;bbox&quot;: [117.4935806, -31.60623716, 117.4935806, -31.60623716], &quot;geometry&quot;: {&quot;coordinates&quot;: [117.4935806, -31.60623716], &quot;type&quot;: &quot;Point&quot;}, &quot;id&quot;: &quot;98&quot;, &quot;properties&quot;: {&quot;Crop&quot;: 5, &quot;DryYield&quot;: 0.334, &quot;Elevation&quot;: 270.75, &quot;Heading&quot;: 359.9, &quot;Latitude&quot;: -31.60623716, &quot;Longitude&quot;: 117.4935806, &quot;Time&quot;: &quot;11/11/2020 9:36&quot;, &quot;Variety&quot;: &quot;43Y23 RR&quot;, &quot;__folium_color&quot;: &quot;#240691&quot;, &quot;sample_id&quot;: &quot;bf66_sample_1&quot;}, &quot;type&quot;: &quot;Feature&quot;}, {&quot;bbox&quot;: [117.4935935, -31.60416163, 117.4935935, -31.60416163], &quot;geometry&quot;: {&quot;coordinates&quot;: [117.4935935, -31.60416163], &quot;type&quot;: &quot;Point&quot;}, &quot;id&quot;: &quot;99&quot;, &quot;properties&quot;: {&quot;Crop&quot;: 5, &quot;DryYield&quot;: 0.618, &quot;Elevation&quot;: 268.41, &quot;Heading&quot;: 0.0, &quot;Latitude&quot;: -31.60416163, &quot;Longitude&quot;: 117.4935935, &quot;Time&quot;: &quot;11/11/2020 9:37&quot;, &quot;Variety&quot;: &quot;43Y23 RR&quot;, &quot;__folium_color&quot;: &quot;#330597&quot;, &quot;sample_id&quot;: &quot;bf66_sample_1&quot;}, &quot;type&quot;: &quot;Feature&quot;}, {&quot;bbox&quot;: [117.493568, -31.601901, 117.493568, -31.601901], &quot;geometry&quot;: {&quot;coordinates&quot;: [117.493568, -31.601901], &quot;type&quot;: &quot;Point&quot;}, &quot;id&quot;: &quot;100&quot;, &quot;properties&quot;: {&quot;Crop&quot;: 5, &quot;DryYield&quot;: 0.79, &quot;Elevation&quot;: 265.07, &quot;Heading&quot;: 360.0, &quot;Latitude&quot;: -31.601901, &quot;Longitude&quot;: 117.493568, &quot;Time&quot;: &quot;11/11/2020 9:39&quot;, &quot;Variety&quot;: &quot;43Y23 RR&quot;, &quot;__folium_color&quot;: &quot;#3a049a&quot;, &quot;sample_id&quot;: &quot;bf66_sample_1&quot;}, &quot;type&quot;: &quot;Feature&quot;}, {&quot;bbox&quot;: [117.4935674, -31.60000768, 117.4935674, -31.60000768], &quot;geometry&quot;: {&quot;coordinates&quot;: [117.4935674, -31.60000768], &quot;type&quot;: &quot;Point&quot;}, &quot;id&quot;: &quot;101&quot;, &quot;properties&quot;: {&quot;Crop&quot;: 5, &quot;DryYield&quot;: 0.887, &quot;Elevation&quot;: 270.5, &quot;Heading&quot;: 359.7, &quot;Latitude&quot;: -31.60000768, &quot;Longitude&quot;: 117.4935674, &quot;Time&quot;: &quot;11/11/2020 9:40&quot;, &quot;Variety&quot;: &quot;43Y23 RR&quot;, &quot;__folium_color&quot;: &quot;#3f049c&quot;, &quot;sample_id&quot;: &quot;bf66_sample_1&quot;}, &quot;type&quot;: &quot;Feature&quot;}, {&quot;bbox&quot;: [117.4935674, -31.59815507, 117.4935674, -31.59815507], &quot;geometry&quot;: {&quot;coordinates&quot;: [117.4935674, -31.59815507], &quot;type&quot;: &quot;Point&quot;}, &quot;id&quot;: &quot;102&quot;, &quot;properties&quot;: {&quot;Crop&quot;: 5, &quot;DryYield&quot;: 0.622, &quot;Elevation&quot;: 277.85, &quot;Heading&quot;: 360.0, &quot;Latitude&quot;: -31.59815507, &quot;Longitude&quot;: 117.4935674, &quot;Time&quot;: &quot;11/11/2020 9:41&quot;, &quot;Variety&quot;: &quot;43Y23 RR&quot;, &quot;__folium_color&quot;: &quot;#330597&quot;, &quot;sample_id&quot;: &quot;bf66_sample_1&quot;}, &quot;type&quot;: &quot;Feature&quot;}, {&quot;bbox&quot;: [117.4935678, -31.59611092, 117.4935678, -31.59611092], &quot;geometry&quot;: {&quot;coordinates&quot;: [117.4935678, -31.59611092], &quot;type&quot;: &quot;Point&quot;}, &quot;id&quot;: &quot;103&quot;, &quot;properties&quot;: {&quot;Crop&quot;: 5, &quot;DryYield&quot;: 0.685, &quot;Elevation&quot;: 279.06, &quot;Heading&quot;: 0.1, &quot;Latitude&quot;: -31.59611092, &quot;Longitude&quot;: 117.4935678, &quot;Time&quot;: &quot;11/11/2020 9:43&quot;, &quot;Variety&quot;: &quot;43Y23 RR&quot;, &quot;__folium_color&quot;: &quot;#350498&quot;, &quot;sample_id&quot;: &quot;bf66_sample_1&quot;}, &quot;type&quot;: &quot;Feature&quot;}, {&quot;bbox&quot;: [117.4936939, -31.59494719, 117.4936939, -31.59494719], &quot;geometry&quot;: {&quot;coordinates&quot;: [117.4936939, -31.59494719], &quot;type&quot;: &quot;Point&quot;}, &quot;id&quot;: &quot;104&quot;, &quot;properties&quot;: {&quot;Crop&quot;: 5, &quot;DryYield&quot;: 0.81, &quot;Elevation&quot;: 276.46, &quot;Heading&quot;: 180.2, &quot;Latitude&quot;: -31.59494719, &quot;Longitude&quot;: 117.4936939, &quot;Time&quot;: &quot;11/11/2020 9:44&quot;, &quot;Variety&quot;: &quot;43Y23 RR&quot;, &quot;__folium_color&quot;: &quot;#3c049b&quot;, &quot;sample_id&quot;: &quot;bf66_sample_1&quot;}, &quot;type&quot;: &quot;Feature&quot;}, {&quot;bbox&quot;: [117.4936939, -31.59714686, 117.4936939, -31.59714686], &quot;geometry&quot;: {&quot;coordinates&quot;: [117.4936939, -31.59714686], &quot;type&quot;: &quot;Point&quot;}, &quot;id&quot;: &quot;105&quot;, &quot;properties&quot;: {&quot;Crop&quot;: 5, &quot;DryYield&quot;: 0.723, &quot;Elevation&quot;: 279.33, &quot;Heading&quot;: 180.2, &quot;Latitude&quot;: -31.59714686, &quot;Longitude&quot;: 117.4936939, &quot;Time&quot;: &quot;11/11/2020 9:46&quot;, &quot;Variety&quot;: &quot;43Y23 RR&quot;, &quot;__folium_color&quot;: &quot;#38049a&quot;, &quot;sample_id&quot;: &quot;bf66_sample_1&quot;}, &quot;type&quot;: &quot;Feature&quot;}, {&quot;bbox&quot;: [117.4936941, -31.59909064, 117.4936941, -31.59909064], &quot;geometry&quot;: {&quot;coordinates&quot;: [117.4936941, -31.59909064], &quot;type&quot;: &quot;Point&quot;}, &quot;id&quot;: &quot;106&quot;, &quot;properties&quot;: {&quot;Crop&quot;: 5, &quot;DryYield&quot;: 0.872, &quot;Elevation&quot;: 274.2, &quot;Heading&quot;: 180.1, &quot;Latitude&quot;: -31.59909064, &quot;Longitude&quot;: 117.4936941, &quot;Time&quot;: &quot;11/11/2020 9:47&quot;, &quot;Variety&quot;: &quot;43Y23 RR&quot;, &quot;__folium_color&quot;: &quot;#3f049c&quot;, &quot;sample_id&quot;: &quot;bf66_sample_1&quot;}, &quot;type&quot;: &quot;Feature&quot;}, {&quot;bbox&quot;: [117.4936939, -31.60095641, 117.4936939, -31.60095641], &quot;geometry&quot;: {&quot;coordinates&quot;: [117.4936939, -31.60095641], &quot;type&quot;: &quot;Point&quot;}, &quot;id&quot;: &quot;107&quot;, &quot;properties&quot;: {&quot;Crop&quot;: 5, &quot;DryYield&quot;: 1.101, &quot;Elevation&quot;: 267.73, &quot;Heading&quot;: 180.1, &quot;Latitude&quot;: -31.60095641, &quot;Longitude&quot;: 117.4936939, &quot;Time&quot;: &quot;11/11/2020 9:48&quot;, &quot;Variety&quot;: &quot;43Y23 RR&quot;, &quot;__folium_color&quot;: &quot;#4903a0&quot;, &quot;sample_id&quot;: &quot;bf66_sample_1&quot;}, &quot;type&quot;: &quot;Feature&quot;}, {&quot;bbox&quot;: [117.4936941, -31.60289016, 117.4936941, -31.60289016], &quot;geometry&quot;: {&quot;coordinates&quot;: [117.4936941, -31.60289016], &quot;type&quot;: &quot;Point&quot;}, &quot;id&quot;: &quot;108&quot;, &quot;properties&quot;: {&quot;Crop&quot;: 5, &quot;DryYield&quot;: 0.809, &quot;Elevation&quot;: 265.36, &quot;Heading&quot;: 180.1, &quot;Latitude&quot;: -31.60289016, &quot;Longitude&quot;: 117.4936941, &quot;Time&quot;: &quot;11/11/2020 9:50&quot;, &quot;Variety&quot;: &quot;43Y23 RR&quot;, &quot;__folium_color&quot;: &quot;#3c049b&quot;, &quot;sample_id&quot;: &quot;bf66_sample_1&quot;}, &quot;type&quot;: &quot;Feature&quot;}, {&quot;bbox&quot;: [117.4957492, -31.60437533, 117.4957492, -31.60437533], &quot;geometry&quot;: {&quot;coordinates&quot;: [117.4957492, -31.60437533], &quot;type&quot;: &quot;Point&quot;}, &quot;id&quot;: &quot;109&quot;, &quot;properties&quot;: {&quot;Crop&quot;: 5, &quot;DryYield&quot;: 0.344, &quot;Elevation&quot;: 265.59, &quot;Heading&quot;: 302.0, &quot;Latitude&quot;: -31.60437533, &quot;Longitude&quot;: 117.4957492, &quot;Time&quot;: &quot;11/12/2020 0:40&quot;, &quot;Variety&quot;: &quot;43Y23 RR&quot;, &quot;__folium_color&quot;: &quot;#240691&quot;, &quot;sample_id&quot;: &quot;bf66_sample_1&quot;}, &quot;type&quot;: &quot;Feature&quot;}, {&quot;bbox&quot;: [117.4940979, -31.60358411, 117.4940979, -31.60358411], &quot;geometry&quot;: {&quot;coordinates&quot;: [117.4940979, -31.60358411], &quot;type&quot;: &quot;Point&quot;}, &quot;id&quot;: &quot;110&quot;, &quot;properties&quot;: {&quot;Crop&quot;: 5, &quot;DryYield&quot;: 0.669, &quot;Elevation&quot;: 266.37, &quot;Heading&quot;: 301.5, &quot;Latitude&quot;: -31.60358411, &quot;Longitude&quot;: 117.4940979, &quot;Time&quot;: &quot;11/12/2020 0:41&quot;, &quot;Variety&quot;: &quot;43Y23 RR&quot;, &quot;__folium_color&quot;: &quot;#350498&quot;, &quot;sample_id&quot;: &quot;bf66_sample_1&quot;}, &quot;type&quot;: &quot;Feature&quot;}, {&quot;bbox&quot;: [117.4975885, -31.60559592, 117.4975885, -31.60559592], &quot;geometry&quot;: {&quot;coordinates&quot;: [117.4975885, -31.60559592], &quot;type&quot;: &quot;Point&quot;}, &quot;id&quot;: &quot;111&quot;, &quot;properties&quot;: {&quot;Crop&quot;: 5, &quot;DryYield&quot;: 0.296, &quot;Elevation&quot;: 263.59, &quot;Heading&quot;: 9.9, &quot;Latitude&quot;: -31.60559592, &quot;Longitude&quot;: 117.4975885, &quot;Time&quot;: &quot;11/12/2020 0:45&quot;, &quot;Variety&quot;: &quot;43Y23 RR&quot;, &quot;__folium_color&quot;: &quot;#220690&quot;, &quot;sample_id&quot;: &quot;bf66_sample_1&quot;}, &quot;type&quot;: &quot;Feature&quot;}, {&quot;bbox&quot;: [117.4982016, -31.60342617, 117.4982016, -31.60342617], &quot;geometry&quot;: {&quot;coordinates&quot;: [117.4982016, -31.60342617], &quot;type&quot;: &quot;Point&quot;}, &quot;id&quot;: &quot;112&quot;, &quot;properties&quot;: {&quot;Crop&quot;: 5, &quot;DryYield&quot;: 0.196, &quot;Elevation&quot;: 260.95, &quot;Heading&quot;: 15.2, &quot;Latitude&quot;: -31.60342617, &quot;Longitude&quot;: 117.4982016, &quot;Time&quot;: &quot;11/12/2020 0:47&quot;, &quot;Variety&quot;: &quot;43Y23 RR&quot;, &quot;__folium_color&quot;: &quot;#1b068d&quot;, &quot;sample_id&quot;: &quot;bf66_sample_1&quot;}, &quot;type&quot;: &quot;Feature&quot;}, {&quot;bbox&quot;: [117.4982932, -31.60203964, 117.4982932, -31.60203964], &quot;geometry&quot;: {&quot;coordinates&quot;: [117.4982932, -31.60203964], &quot;type&quot;: &quot;Point&quot;}, &quot;id&quot;: &quot;113&quot;, &quot;properties&quot;: {&quot;Crop&quot;: 5, &quot;DryYield&quot;: 0.288, &quot;Elevation&quot;: 260.16, &quot;Heading&quot;: 44.0, &quot;Latitude&quot;: -31.60203964, &quot;Longitude&quot;: 117.4982932, &quot;Time&quot;: &quot;11/12/2020 0:48&quot;, &quot;Variety&quot;: &quot;43Y23 RR&quot;, &quot;__folium_color&quot;: &quot;#20068f&quot;, &quot;sample_id&quot;: &quot;bf66_sample_1&quot;}, &quot;type&quot;: &quot;Feature&quot;}, {&quot;bbox&quot;: [117.4998882, -31.60034838, 117.4998882, -31.60034838], &quot;geometry&quot;: {&quot;coordinates&quot;: [117.4998882, -31.60034838], &quot;type&quot;: &quot;Point&quot;}, &quot;id&quot;: &quot;114&quot;, &quot;properties&quot;: {&quot;Crop&quot;: 5, &quot;DryYield&quot;: 0.168, &quot;Elevation&quot;: 258.38, &quot;Heading&quot;: 33.1, &quot;Latitude&quot;: -31.60034838, &quot;Longitude&quot;: 117.4998882, &quot;Time&quot;: &quot;11/12/2020 0:49&quot;, &quot;Variety&quot;: &quot;43Y23 RR&quot;, &quot;__folium_color&quot;: &quot;#19068c&quot;, &quot;sample_id&quot;: &quot;bf66_sample_1&quot;}, &quot;type&quot;: &quot;Feature&quot;}, {&quot;bbox&quot;: [117.5015358, -31.59856502, 117.5015358, -31.59856502], &quot;geometry&quot;: {&quot;coordinates&quot;: [117.5015358, -31.59856502], &quot;type&quot;: &quot;Point&quot;}, &quot;id&quot;: &quot;115&quot;, &quot;properties&quot;: {&quot;Crop&quot;: 5, &quot;DryYield&quot;: 0.137, &quot;Elevation&quot;: 256.66, &quot;Heading&quot;: 52.5, &quot;Latitude&quot;: -31.59856502, &quot;Longitude&quot;: 117.5015358, &quot;Time&quot;: &quot;11/12/2020 0:51&quot;, &quot;Variety&quot;: &quot;43Y23 RR&quot;, &quot;__folium_color&quot;: &quot;#16078a&quot;, &quot;sample_id&quot;: &quot;bf66_sample_1&quot;}, &quot;type&quot;: &quot;Feature&quot;}, {&quot;bbox&quot;: [117.5021572, -31.5962347, 117.5021572, -31.5962347], &quot;geometry&quot;: {&quot;coordinates&quot;: [117.5021572, -31.5962347], &quot;type&quot;: &quot;Point&quot;}, &quot;id&quot;: &quot;116&quot;, &quot;properties&quot;: {&quot;Crop&quot;: 5, &quot;DryYield&quot;: 0.13, &quot;Elevation&quot;: 254.9, &quot;Heading&quot;: 17.4, &quot;Latitude&quot;: -31.5962347, &quot;Longitude&quot;: 117.5021572, &quot;Time&quot;: &quot;11/12/2020 0:52&quot;, &quot;Variety&quot;: &quot;43Y23 RR&quot;, &quot;__folium_color&quot;: &quot;#16078a&quot;, &quot;sample_id&quot;: &quot;bf66_sample_1&quot;}, &quot;type&quot;: &quot;Feature&quot;}, {&quot;bbox&quot;: [117.5031143, -31.59400422, 117.5031143, -31.59400422], &quot;geometry&quot;: {&quot;coordinates&quot;: [117.5031143, -31.59400422], &quot;type&quot;: &quot;Point&quot;}, &quot;id&quot;: &quot;117&quot;, &quot;properties&quot;: {&quot;Crop&quot;: 5, &quot;DryYield&quot;: 0.122, &quot;Elevation&quot;: 253.59, &quot;Heading&quot;: 23.1, &quot;Latitude&quot;: -31.59400422, &quot;Longitude&quot;: 117.5031143, &quot;Time&quot;: &quot;11/12/2020 0:53&quot;, &quot;Variety&quot;: &quot;43Y23 RR&quot;, &quot;__folium_color&quot;: &quot;#16078a&quot;, &quot;sample_id&quot;: &quot;bf66_sample_1&quot;}, &quot;type&quot;: &quot;Feature&quot;}, {&quot;bbox&quot;: [117.5030431, -31.59164896, 117.5030431, -31.59164896], &quot;geometry&quot;: {&quot;coordinates&quot;: [117.5030431, -31.59164896], &quot;type&quot;: &quot;Point&quot;}, &quot;id&quot;: &quot;118&quot;, &quot;properties&quot;: {&quot;Crop&quot;: 5, &quot;DryYield&quot;: 0.497, &quot;Elevation&quot;: 251.87, &quot;Heading&quot;: 305.8, &quot;Latitude&quot;: -31.59164896, &quot;Longitude&quot;: 117.5030431, &quot;Time&quot;: &quot;11/12/2020 0:55&quot;, &quot;Variety&quot;: &quot;43Y23 RR&quot;, &quot;__folium_color&quot;: &quot;#2c0594&quot;, &quot;sample_id&quot;: &quot;bf66_sample_1&quot;}, &quot;type&quot;: &quot;Feature&quot;}, {&quot;bbox&quot;: [117.5027981, -31.59336228, 117.5027981, -31.59336228], &quot;geometry&quot;: {&quot;coordinates&quot;: [117.5027981, -31.59336228], &quot;type&quot;: &quot;Point&quot;}, &quot;id&quot;: &quot;119&quot;, &quot;properties&quot;: {&quot;Crop&quot;: 5, &quot;DryYield&quot;: 0.897, &quot;Elevation&quot;: 253.68, &quot;Heading&quot;: 180.0, &quot;Latitude&quot;: -31.59336228, &quot;Longitude&quot;: 117.5027981, &quot;Time&quot;: &quot;11/12/2020 0:56&quot;, &quot;Variety&quot;: &quot;43Y23 RR&quot;, &quot;__folium_color&quot;: &quot;#3f049c&quot;, &quot;sample_id&quot;: &quot;bf66_sample_1&quot;}, &quot;type&quot;: &quot;Feature&quot;}, {&quot;bbox&quot;: [117.5030247, -31.59392241, 117.5030247, -31.59392241], &quot;geometry&quot;: {&quot;coordinates&quot;: [117.5030247, -31.59392241], &quot;type&quot;: &quot;Point&quot;}, &quot;id&quot;: &quot;120&quot;, &quot;properties&quot;: {&quot;Crop&quot;: 5, &quot;DryYield&quot;: 0.811, &quot;Elevation&quot;: 253.7, &quot;Heading&quot;: 23.0, &quot;Latitude&quot;: -31.59392241, &quot;Longitude&quot;: 117.5030247, &quot;Time&quot;: &quot;11/12/2020 0:58&quot;, &quot;Variety&quot;: &quot;43Y23 RR&quot;, &quot;__folium_color&quot;: &quot;#3c049b&quot;, &quot;sample_id&quot;: &quot;bf66_sample_1&quot;}, &quot;type&quot;: &quot;Feature&quot;}, {&quot;bbox&quot;: [117.5030483, -31.59182255, 117.5030483, -31.59182255], &quot;geometry&quot;: {&quot;coordinates&quot;: [117.5030483, -31.59182255], &quot;type&quot;: &quot;Point&quot;}, &quot;id&quot;: &quot;121&quot;, &quot;properties&quot;: {&quot;Crop&quot;: 5, &quot;DryYield&quot;: 0.411, &quot;Elevation&quot;: 252.07, &quot;Heading&quot;: 354.7, &quot;Latitude&quot;: -31.59182255, &quot;Longitude&quot;: 117.5030483, &quot;Time&quot;: &quot;11/12/2020 0:59&quot;, &quot;Variety&quot;: &quot;43Y23 RR&quot;, &quot;__folium_color&quot;: &quot;#280592&quot;, &quot;sample_id&quot;: &quot;bf66_sample_1&quot;}, &quot;type&quot;: &quot;Feature&quot;}, {&quot;bbox&quot;: [117.5029245, -31.59334834, 117.5029245, -31.59334834], &quot;geometry&quot;: {&quot;coordinates&quot;: [117.5029245, -31.59334834], &quot;type&quot;: &quot;Point&quot;}, &quot;id&quot;: &quot;122&quot;, &quot;properties&quot;: {&quot;Crop&quot;: 5, &quot;DryYield&quot;: 0.6, &quot;Elevation&quot;: 253.52, &quot;Heading&quot;: 180.1, &quot;Latitude&quot;: -31.59334834, &quot;Longitude&quot;: 117.5029245, &quot;Time&quot;: &quot;11/12/2020 1:01&quot;, &quot;Variety&quot;: &quot;43Y23 RR&quot;, &quot;__folium_color&quot;: &quot;#310597&quot;, &quot;sample_id&quot;: &quot;bf66_sample_1&quot;}, &quot;type&quot;: &quot;Feature&quot;}, {&quot;bbox&quot;: [117.5030511, -31.59258323, 117.5030511, -31.59258323], &quot;geometry&quot;: {&quot;coordinates&quot;: [117.5030511, -31.59258323], &quot;type&quot;: &quot;Point&quot;}, &quot;id&quot;: &quot;123&quot;, &quot;properties&quot;: {&quot;Crop&quot;: 5, &quot;DryYield&quot;: 0.812, &quot;Elevation&quot;: 252.8, &quot;Heading&quot;: 0.0, &quot;Latitude&quot;: -31.59258323, &quot;Longitude&quot;: 117.5030511, &quot;Time&quot;: &quot;11/12/2020 1:02&quot;, &quot;Variety&quot;: &quot;43Y23 RR&quot;, &quot;__folium_color&quot;: &quot;#3c049b&quot;, &quot;sample_id&quot;: &quot;bf66_sample_1&quot;}, &quot;type&quot;: &quot;Feature&quot;}, {&quot;bbox&quot;: [117.5033531, -31.59339706, 117.5033531, -31.59339706], &quot;geometry&quot;: {&quot;coordinates&quot;: [117.5033531, -31.59339706], &quot;type&quot;: &quot;Point&quot;}, &quot;id&quot;: &quot;124&quot;, &quot;properties&quot;: {&quot;Crop&quot;: 5, &quot;DryYield&quot;: 0.424, &quot;Elevation&quot;: 253.09, &quot;Heading&quot;: 5.9, &quot;Latitude&quot;: -31.59339706, &quot;Longitude&quot;: 117.5033531, &quot;Time&quot;: &quot;11/12/2020 1:04&quot;, &quot;Variety&quot;: &quot;43Y23 RR&quot;, &quot;__folium_color&quot;: &quot;#280592&quot;, &quot;sample_id&quot;: &quot;bf66_sample_1&quot;}, &quot;type&quot;: &quot;Feature&quot;}, {&quot;bbox&quot;: [117.5022923, -31.59481835, 117.5022923, -31.59481835], &quot;geometry&quot;: {&quot;coordinates&quot;: [117.5022923, -31.59481835], &quot;type&quot;: &quot;Point&quot;}, &quot;id&quot;: &quot;125&quot;, &quot;properties&quot;: {&quot;Crop&quot;: 5, &quot;DryYield&quot;: 0.5, &quot;Elevation&quot;: 254.67, &quot;Heading&quot;: 359.9, &quot;Latitude&quot;: -31.59481835, &quot;Longitude&quot;: 117.5022923, &quot;Time&quot;: &quot;11/12/2020 1:07&quot;, &quot;Variety&quot;: &quot;43Y23 RR&quot;, &quot;__folium_color&quot;: &quot;#2c0594&quot;, &quot;sample_id&quot;: &quot;bf66_sample_1&quot;}, &quot;type&quot;: &quot;Feature&quot;}, {&quot;bbox&quot;: [117.5022923, -31.59260268, 117.5022923, -31.59260268], &quot;geometry&quot;: {&quot;coordinates&quot;: [117.5022923, -31.59260268], &quot;type&quot;: &quot;Point&quot;}, &quot;id&quot;: &quot;126&quot;, &quot;properties&quot;: {&quot;Crop&quot;: 5, &quot;DryYield&quot;: 0.633, &quot;Elevation&quot;: 254.04, &quot;Heading&quot;: 0.1, &quot;Latitude&quot;: -31.59260268, &quot;Longitude&quot;: 117.5022923, &quot;Time&quot;: &quot;11/12/2020 1:08&quot;, &quot;Variety&quot;: &quot;43Y23 RR&quot;, &quot;__folium_color&quot;: &quot;#330597&quot;, &quot;sample_id&quot;: &quot;bf66_sample_1&quot;}, &quot;type&quot;: &quot;Feature&quot;}, {&quot;bbox&quot;: [117.5021655, -31.5927107, 117.5021655, -31.5927107], &quot;geometry&quot;: {&quot;coordinates&quot;: [117.5021655, -31.5927107], &quot;type&quot;: &quot;Point&quot;}, &quot;id&quot;: &quot;127&quot;, &quot;properties&quot;: {&quot;Crop&quot;: 5, &quot;DryYield&quot;: 0.727, &quot;Elevation&quot;: 254.24, &quot;Heading&quot;: 180.2, &quot;Latitude&quot;: -31.5927107, &quot;Longitude&quot;: 117.5021655, &quot;Time&quot;: &quot;11/12/2020 1:10&quot;, &quot;Variety&quot;: &quot;43Y23 RR&quot;, &quot;__folium_color&quot;: &quot;#38049a&quot;, &quot;sample_id&quot;: &quot;bf66_sample_1&quot;}, &quot;type&quot;: &quot;Feature&quot;}, {&quot;bbox&quot;: [117.5021657, -31.59498411, 117.5021657, -31.59498411], &quot;geometry&quot;: {&quot;coordinates&quot;: [117.5021657, -31.59498411], &quot;type&quot;: &quot;Point&quot;}, &quot;id&quot;: &quot;128&quot;, &quot;properties&quot;: {&quot;Crop&quot;: 5, &quot;DryYield&quot;: 0.49, &quot;Elevation&quot;: 254.92, &quot;Heading&quot;: 180.0, &quot;Latitude&quot;: -31.59498411, &quot;Longitude&quot;: 117.5021657, &quot;Time&quot;: &quot;11/12/2020 1:11&quot;, &quot;Variety&quot;: &quot;43Y23 RR&quot;, &quot;__folium_color&quot;: &quot;#2c0594&quot;, &quot;sample_id&quot;: &quot;bf66_sample_1&quot;}, &quot;type&quot;: &quot;Feature&quot;}, {&quot;bbox&quot;: [117.5017865, -31.59594025, 117.5017865, -31.59594025], &quot;geometry&quot;: {&quot;coordinates&quot;: [117.5017865, -31.59594025], &quot;type&quot;: &quot;Point&quot;}, &quot;id&quot;: &quot;129&quot;, &quot;properties&quot;: {&quot;Crop&quot;: 5, &quot;DryYield&quot;: 0.613, &quot;Elevation&quot;: 255.94, &quot;Heading&quot;: 359.8, &quot;Latitude&quot;: -31.59594025, &quot;Longitude&quot;: 117.5017865, &quot;Time&quot;: &quot;11/12/2020 1:13&quot;, &quot;Variety&quot;: &quot;43Y23 RR&quot;, &quot;__folium_color&quot;: &quot;#310597&quot;, &quot;sample_id&quot;: &quot;bf66_sample_1&quot;}, &quot;type&quot;: &quot;Feature&quot;}, {&quot;bbox&quot;: [117.5017869, -31.59382389, 117.5017869, -31.59382389], &quot;geometry&quot;: {&quot;coordinates&quot;: [117.5017869, -31.59382389], &quot;type&quot;: &quot;Point&quot;}, &quot;id&quot;: &quot;130&quot;, &quot;properties&quot;: {&quot;Crop&quot;: 5, &quot;DryYield&quot;: 0.655, &quot;Elevation&quot;: 255.16, &quot;Heading&quot;: 0.0, &quot;Latitude&quot;: -31.59382389, &quot;Longitude&quot;: 117.5017869, &quot;Time&quot;: &quot;11/12/2020 1:15&quot;, &quot;Variety&quot;: &quot;43Y23 RR&quot;, &quot;__folium_color&quot;: &quot;#350498&quot;, &quot;sample_id&quot;: &quot;bf66_sample_1&quot;}, &quot;type&quot;: &quot;Feature&quot;}, {&quot;bbox&quot;: [117.5017867, -31.59178609, 117.5017867, -31.59178609], &quot;geometry&quot;: {&quot;coordinates&quot;: [117.5017867, -31.59178609], &quot;type&quot;: &quot;Point&quot;}, &quot;id&quot;: &quot;131&quot;, &quot;properties&quot;: {&quot;Crop&quot;: 5, &quot;DryYield&quot;: 0.52, &quot;Elevation&quot;: 254.1, &quot;Heading&quot;: 0.0, &quot;Latitude&quot;: -31.59178609, &quot;Longitude&quot;: 117.5017867, &quot;Time&quot;: &quot;11/12/2020 1:16&quot;, &quot;Variety&quot;: &quot;43Y23 RR&quot;, &quot;__folium_color&quot;: &quot;#2e0595&quot;, &quot;sample_id&quot;: &quot;bf66_sample_1&quot;}, &quot;type&quot;: &quot;Feature&quot;}, {&quot;bbox&quot;: [117.5016599, -31.59342816, 117.5016599, -31.59342816], &quot;geometry&quot;: {&quot;coordinates&quot;: [117.5016599, -31.59342816], &quot;type&quot;: &quot;Point&quot;}, &quot;id&quot;: &quot;132&quot;, &quot;properties&quot;: {&quot;Crop&quot;: 5, &quot;DryYield&quot;: 0.942, &quot;Elevation&quot;: 255.55, &quot;Heading&quot;: 180.0, &quot;Latitude&quot;: -31.59342816, &quot;Longitude&quot;: 117.5016599, &quot;Time&quot;: &quot;11/12/2020 1:17&quot;, &quot;Variety&quot;: &quot;43Y23 RR&quot;, &quot;__folium_color&quot;: &quot;#43039e&quot;, &quot;sample_id&quot;: &quot;bf66_sample_1&quot;}, &quot;type&quot;: &quot;Feature&quot;}, {&quot;bbox&quot;: [117.5016599, -31.59560474, 117.5016599, -31.59560474], &quot;geometry&quot;: {&quot;coordinates&quot;: [117.5016599, -31.59560474], &quot;type&quot;: &quot;Point&quot;}, &quot;id&quot;: &quot;133&quot;, &quot;properties&quot;: {&quot;Crop&quot;: 5, &quot;DryYield&quot;: 0.444, &quot;Elevation&quot;: 256.0, &quot;Heading&quot;: 179.9, &quot;Latitude&quot;: -31.59560474, &quot;Longitude&quot;: 117.5016599, &quot;Time&quot;: &quot;11/12/2020 1:19&quot;, &quot;Variety&quot;: &quot;43Y23 RR&quot;, &quot;__folium_color&quot;: &quot;#2a0593&quot;, &quot;sample_id&quot;: &quot;bf66_sample_1&quot;}, &quot;type&quot;: &quot;Feature&quot;}, {&quot;bbox&quot;: [117.5012809, -31.59832665, 117.5012809, -31.59832665], &quot;geometry&quot;: {&quot;coordinates&quot;: [117.5012809, -31.59832665], &quot;type&quot;: &quot;Point&quot;}, &quot;id&quot;: &quot;134&quot;, &quot;properties&quot;: {&quot;Crop&quot;: 5, &quot;DryYield&quot;: 0.429, &quot;Elevation&quot;: 256.91, &quot;Heading&quot;: 359.5, &quot;Latitude&quot;: -31.59832665, &quot;Longitude&quot;: 117.5012809, &quot;Time&quot;: &quot;11/12/2020 1:21&quot;, &quot;Variety&quot;: &quot;43Y23 RR&quot;, &quot;__folium_color&quot;: &quot;#280592&quot;, &quot;sample_id&quot;: &quot;bf66_sample_1&quot;}, &quot;type&quot;: &quot;Feature&quot;}, {&quot;bbox&quot;: [117.5012804, -31.59612608, 117.5012804, -31.59612608], &quot;geometry&quot;: {&quot;coordinates&quot;: [117.5012804, -31.59612608], &quot;type&quot;: &quot;Point&quot;}, &quot;id&quot;: &quot;135&quot;, &quot;properties&quot;: {&quot;Crop&quot;: 5, &quot;DryYield&quot;: 0.464, &quot;Elevation&quot;: 256.79, &quot;Heading&quot;: 359.9, &quot;Latitude&quot;: -31.59612608, &quot;Longitude&quot;: 117.5012804, &quot;Time&quot;: &quot;11/12/2020 1:22&quot;, &quot;Variety&quot;: &quot;43Y23 RR&quot;, &quot;__folium_color&quot;: &quot;#2a0593&quot;, &quot;sample_id&quot;: &quot;bf66_sample_1&quot;}, &quot;type&quot;: &quot;Feature&quot;}, {&quot;bbox&quot;: [117.5012809, -31.59379417, 117.5012809, -31.59379417], &quot;geometry&quot;: {&quot;coordinates&quot;: [117.5012809, -31.59379417], &quot;type&quot;: &quot;Point&quot;}, &quot;id&quot;: &quot;136&quot;, &quot;properties&quot;: {&quot;Crop&quot;: 5, &quot;DryYield&quot;: 0.954, &quot;Elevation&quot;: 256.17, &quot;Heading&quot;: 359.8, &quot;Latitude&quot;: -31.59379417, &quot;Longitude&quot;: 117.5012809, &quot;Time&quot;: &quot;11/12/2020 1:23&quot;, &quot;Variety&quot;: &quot;43Y23 RR&quot;, &quot;__folium_color&quot;: &quot;#43039e&quot;, &quot;sample_id&quot;: &quot;bf66_sample_1&quot;}, &quot;type&quot;: &quot;Feature&quot;}, {&quot;bbox&quot;: [117.5012807, -31.59184032, 117.5012807, -31.59184032], &quot;geometry&quot;: {&quot;coordinates&quot;: [117.5012807, -31.59184032], &quot;type&quot;: &quot;Point&quot;}, &quot;id&quot;: &quot;137&quot;, &quot;properties&quot;: {&quot;Crop&quot;: 5, &quot;DryYield&quot;: 0.635, &quot;Elevation&quot;: 254.69, &quot;Heading&quot;: 359.9, &quot;Latitude&quot;: -31.59184032, &quot;Longitude&quot;: 117.5012807, &quot;Time&quot;: &quot;11/12/2020 1:25&quot;, &quot;Variety&quot;: &quot;43Y23 RR&quot;, &quot;__folium_color&quot;: &quot;#330597&quot;, &quot;sample_id&quot;: &quot;bf66_sample_1&quot;}, &quot;type&quot;: &quot;Feature&quot;}, {&quot;bbox&quot;: [117.5010279, -31.59340059, 117.5010279, -31.59340059], &quot;geometry&quot;: {&quot;coordinates&quot;: [117.5010279, -31.59340059], &quot;type&quot;: &quot;Point&quot;}, &quot;id&quot;: &quot;138&quot;, &quot;properties&quot;: {&quot;Crop&quot;: 5, &quot;DryYield&quot;: 1.001, &quot;Elevation&quot;: 256.98, &quot;Heading&quot;: 180.1, &quot;Latitude&quot;: -31.59340059, &quot;Longitude&quot;: 117.5010279, &quot;Time&quot;: &quot;11/12/2020 1:31&quot;, &quot;Variety&quot;: &quot;43Y23 RR&quot;, &quot;__folium_color&quot;: &quot;#44039e&quot;, &quot;sample_id&quot;: &quot;bf66_sample_1&quot;}, &quot;type&quot;: &quot;Feature&quot;}, {&quot;bbox&quot;: [117.5010279, -31.59551879, 117.5010279, -31.59551879], &quot;geometry&quot;: {&quot;coordinates&quot;: [117.5010279, -31.59551879], &quot;type&quot;: &quot;Point&quot;}, &quot;id&quot;: &quot;139&quot;, &quot;properties&quot;: {&quot;Crop&quot;: 5, &quot;DryYield&quot;: 0.431, &quot;Elevation&quot;: 257.05, &quot;Heading&quot;: 180.2, &quot;Latitude&quot;: -31.59551879, &quot;Longitude&quot;: 117.5010279, &quot;Time&quot;: &quot;11/12/2020 1:33&quot;, &quot;Variety&quot;: &quot;43Y23 RR&quot;, &quot;__folium_color&quot;: &quot;#280592&quot;, &quot;sample_id&quot;: &quot;bf66_sample_1&quot;}, &quot;type&quot;: &quot;Feature&quot;}, {&quot;bbox&quot;: [117.5010277, -31.59776043, 117.5010277, -31.59776043], &quot;geometry&quot;: {&quot;coordinates&quot;: [117.5010277, -31.59776043], &quot;type&quot;: &quot;Point&quot;}, &quot;id&quot;: &quot;140&quot;, &quot;properties&quot;: {&quot;Crop&quot;: 5, &quot;DryYield&quot;: 0.476, &quot;Elevation&quot;: 257.35, &quot;Heading&quot;: 180.2, &quot;Latitude&quot;: -31.59776043, &quot;Longitude&quot;: 117.5010277, &quot;Time&quot;: &quot;11/12/2020 1:34&quot;, &quot;Variety&quot;: &quot;43Y23 RR&quot;, &quot;__folium_color&quot;: &quot;#2c0594&quot;, &quot;sample_id&quot;: &quot;bf66_sample_1&quot;}, &quot;type&quot;: &quot;Feature&quot;}, {&quot;bbox&quot;: [117.5009014, -31.59774051, 117.5009014, -31.59774051], &quot;geometry&quot;: {&quot;coordinates&quot;: [117.5009014, -31.59774051], &quot;type&quot;: &quot;Point&quot;}, &quot;id&quot;: &quot;141&quot;, &quot;properties&quot;: {&quot;Crop&quot;: 5, &quot;DryYield&quot;: 0.499, &quot;Elevation&quot;: 257.67, &quot;Heading&quot;: 0.2, &quot;Latitude&quot;: -31.59774051, &quot;Longitude&quot;: 117.5009014, &quot;Time&quot;: &quot;11/12/2020 1:35&quot;, &quot;Variety&quot;: &quot;43Y23 RR&quot;, &quot;__folium_color&quot;: &quot;#2c0594&quot;, &quot;sample_id&quot;: &quot;bf66_sample_1&quot;}, &quot;type&quot;: &quot;Feature&quot;}, {&quot;bbox&quot;: [117.5009012, -31.59568731, 117.5009012, -31.59568731], &quot;geometry&quot;: {&quot;coordinates&quot;: [117.5009012, -31.59568731], &quot;type&quot;: &quot;Point&quot;}, &quot;id&quot;: &quot;142&quot;, &quot;properties&quot;: {&quot;Crop&quot;: 5, &quot;DryYield&quot;: 0.395, &quot;Elevation&quot;: 257.29, &quot;Heading&quot;: 359.7, &quot;Latitude&quot;: -31.59568731, &quot;Longitude&quot;: 117.5009012, &quot;Time&quot;: &quot;11/12/2020 1:37&quot;, &quot;Variety&quot;: &quot;43Y23 RR&quot;, &quot;__folium_color&quot;: &quot;#260591&quot;, &quot;sample_id&quot;: &quot;bf66_sample_1&quot;}, &quot;type&quot;: &quot;Feature&quot;}, {&quot;bbox&quot;: [117.5009016, -31.59352055, 117.5009016, -31.59352055], &quot;geometry&quot;: {&quot;coordinates&quot;: [117.5009016, -31.59352055], &quot;type&quot;: &quot;Point&quot;}, &quot;id&quot;: &quot;143&quot;, &quot;properties&quot;: {&quot;Crop&quot;: 5, &quot;DryYield&quot;: 0.974, &quot;Elevation&quot;: 257.12, &quot;Heading&quot;: 0.1, &quot;Latitude&quot;: -31.59352055, &quot;Longitude&quot;: 117.5009016, &quot;Time&quot;: &quot;11/12/2020 1:38&quot;, &quot;Variety&quot;: &quot;43Y23 RR&quot;, &quot;__folium_color&quot;: &quot;#43039e&quot;, &quot;sample_id&quot;: &quot;bf66_sample_1&quot;}, &quot;type&quot;: &quot;Feature&quot;}, {&quot;bbox&quot;: [117.5005223, -31.5917392, 117.5005223, -31.5917392], &quot;geometry&quot;: {&quot;coordinates&quot;: [117.5005223, -31.5917392], &quot;type&quot;: &quot;Point&quot;}, &quot;id&quot;: &quot;144&quot;, &quot;properties&quot;: {&quot;Crop&quot;: 5, &quot;DryYield&quot;: 1.28, &quot;Elevation&quot;: 255.65, &quot;Heading&quot;: 180.4, &quot;Latitude&quot;: -31.5917392, &quot;Longitude&quot;: 117.5005223, &quot;Time&quot;: &quot;11/12/2020 1:40&quot;, &quot;Variety&quot;: &quot;43Y23 RR&quot;, &quot;__folium_color&quot;: &quot;#5102a3&quot;, &quot;sample_id&quot;: &quot;bf66_sample_1&quot;}, &quot;type&quot;: &quot;Feature&quot;}, {&quot;bbox&quot;: [117.5005223, -31.59366762, 117.5005223, -31.59366762], &quot;geometry&quot;: {&quot;coordinates&quot;: [117.5005223, -31.59366762], &quot;type&quot;: &quot;Point&quot;}, &quot;id&quot;: &quot;145&quot;, &quot;properties&quot;: {&quot;Crop&quot;: 5, &quot;DryYield&quot;: 0.619, &quot;Elevation&quot;: 257.87, &quot;Heading&quot;: 180.0, &quot;Latitude&quot;: -31.59366762, &quot;Longitude&quot;: 117.5005223, &quot;Time&quot;: &quot;11/12/2020 1:41&quot;, &quot;Variety&quot;: &quot;43Y23 RR&quot;, &quot;__folium_color&quot;: &quot;#330597&quot;, &quot;sample_id&quot;: &quot;bf66_sample_1&quot;}, &quot;type&quot;: &quot;Feature&quot;}, {&quot;bbox&quot;: [117.5005223, -31.59570447, 117.5005223, -31.59570447], &quot;geometry&quot;: {&quot;coordinates&quot;: [117.5005223, -31.59570447], &quot;type&quot;: &quot;Point&quot;}, &quot;id&quot;: &quot;146&quot;, &quot;properties&quot;: {&quot;Crop&quot;: 5, &quot;DryYield&quot;: 0.457, &quot;Elevation&quot;: 257.92, &quot;Heading&quot;: 180.1, &quot;Latitude&quot;: -31.59570447, &quot;Longitude&quot;: 117.5005223, &quot;Time&quot;: &quot;11/12/2020 1:42&quot;, &quot;Variety&quot;: &quot;43Y23 RR&quot;, &quot;__folium_color&quot;: &quot;#2a0593&quot;, &quot;sample_id&quot;: &quot;bf66_sample_1&quot;}, &quot;type&quot;: &quot;Feature&quot;}, {&quot;bbox&quot;: [117.5005217, -31.59801535, 117.5005217, -31.59801535], &quot;geometry&quot;: {&quot;coordinates&quot;: [117.5005217, -31.59801535], &quot;type&quot;: &quot;Point&quot;}, &quot;id&quot;: &quot;147&quot;, &quot;properties&quot;: {&quot;Crop&quot;: 5, &quot;DryYield&quot;: 0.484, &quot;Elevation&quot;: 258.36, &quot;Heading&quot;: 180.4, &quot;Latitude&quot;: -31.59801535, &quot;Longitude&quot;: 117.5005217, &quot;Time&quot;: &quot;11/12/2020 1:44&quot;, &quot;Variety&quot;: &quot;43Y23 RR&quot;, &quot;__folium_color&quot;: &quot;#2c0594&quot;, &quot;sample_id&quot;: &quot;bf66_sample_1&quot;}, &quot;type&quot;: &quot;Feature&quot;}, {&quot;bbox&quot;: [117.5003964, -31.59850068, 117.5003964, -31.59850068], &quot;geometry&quot;: {&quot;coordinates&quot;: [117.5003964, -31.59850068], &quot;type&quot;: &quot;Point&quot;}, &quot;id&quot;: &quot;148&quot;, &quot;properties&quot;: {&quot;Crop&quot;: 5, &quot;DryYield&quot;: 0.356, &quot;Elevation&quot;: 258.41, &quot;Heading&quot;: 0.2, &quot;Latitude&quot;: -31.59850068, &quot;Longitude&quot;: 117.5003964, &quot;Time&quot;: &quot;11/12/2020 1:45&quot;, &quot;Variety&quot;: &quot;43Y23 RR&quot;, &quot;__folium_color&quot;: &quot;#240691&quot;, &quot;sample_id&quot;: &quot;bf66_sample_1&quot;}, &quot;type&quot;: &quot;Feature&quot;}, {&quot;bbox&quot;: [117.5003962, -31.59617327, 117.5003962, -31.59617327], &quot;geometry&quot;: {&quot;coordinates&quot;: [117.5003962, -31.59617327], &quot;type&quot;: &quot;Point&quot;}, &quot;id&quot;: &quot;149&quot;, &quot;properties&quot;: {&quot;Crop&quot;: 5, &quot;DryYield&quot;: 0.682, &quot;Elevation&quot;: 258.32, &quot;Heading&quot;: 359.9, &quot;Latitude&quot;: -31.59617327, &quot;Longitude&quot;: 117.5003962, &quot;Time&quot;: &quot;11/12/2020 1:47&quot;, &quot;Variety&quot;: &quot;43Y23 RR&quot;, &quot;__folium_color&quot;: &quot;#350498&quot;, &quot;sample_id&quot;: &quot;bf66_sample_1&quot;}, &quot;type&quot;: &quot;Feature&quot;}, {&quot;bbox&quot;: [117.5003958, -31.59402245, 117.5003958, -31.59402245], &quot;geometry&quot;: {&quot;coordinates&quot;: [117.5003958, -31.59402245], &quot;type&quot;: &quot;Point&quot;}, &quot;id&quot;: &quot;150&quot;, &quot;properties&quot;: {&quot;Crop&quot;: 5, &quot;DryYield&quot;: 0.488, &quot;Elevation&quot;: 258.19, &quot;Heading&quot;: 359.9, &quot;Latitude&quot;: -31.59402245, &quot;Longitude&quot;: 117.5003958, &quot;Time&quot;: &quot;11/12/2020 1:48&quot;, &quot;Variety&quot;: &quot;43Y23 RR&quot;, &quot;__folium_color&quot;: &quot;#2c0594&quot;, &quot;sample_id&quot;: &quot;bf66_sample_1&quot;}, &quot;type&quot;: &quot;Feature&quot;}, {&quot;bbox&quot;: [117.5003958, -31.59182868, 117.5003958, -31.59182868], &quot;geometry&quot;: {&quot;coordinates&quot;: [117.5003958, -31.59182868], &quot;type&quot;: &quot;Point&quot;}, &quot;id&quot;: &quot;151&quot;, &quot;properties&quot;: {&quot;Crop&quot;: 5, &quot;DryYield&quot;: 0.646, &quot;Elevation&quot;: 256.07, &quot;Heading&quot;: 0.3, &quot;Latitude&quot;: -31.59182868, &quot;Longitude&quot;: 117.5003958, &quot;Time&quot;: &quot;11/12/2020 1:49&quot;, &quot;Variety&quot;: &quot;43Y23 RR&quot;, &quot;__folium_color&quot;: &quot;#330597&quot;, &quot;sample_id&quot;: &quot;bf66_sample_1&quot;}, &quot;type&quot;: &quot;Feature&quot;}, {&quot;bbox&quot;: [117.5000163, -31.5932866, 117.5000163, -31.5932866], &quot;geometry&quot;: {&quot;coordinates&quot;: [117.5000163, -31.5932866], &quot;type&quot;: &quot;Point&quot;}, &quot;id&quot;: &quot;152&quot;, &quot;properties&quot;: {&quot;Crop&quot;: 5, &quot;DryYield&quot;: 0.8, &quot;Elevation&quot;: 258.97, &quot;Heading&quot;: 179.8, &quot;Latitude&quot;: -31.5932866, &quot;Longitude&quot;: 117.5000163, &quot;Time&quot;: &quot;11/12/2020 1:51&quot;, &quot;Variety&quot;: &quot;43Y23 RR&quot;, &quot;__folium_color&quot;: &quot;#3c049b&quot;, &quot;sample_id&quot;: &quot;bf66_sample_1&quot;}, &quot;type&quot;: &quot;Feature&quot;}, {&quot;bbox&quot;: [117.5000168, -31.59539454, 117.5000168, -31.59539454], &quot;geometry&quot;: {&quot;coordinates&quot;: [117.5000168, -31.59539454], &quot;type&quot;: &quot;Point&quot;}, &quot;id&quot;: &quot;153&quot;, &quot;properties&quot;: {&quot;Crop&quot;: 5, &quot;DryYield&quot;: 0.488, &quot;Elevation&quot;: 259.03, &quot;Heading&quot;: 179.9, &quot;Latitude&quot;: -31.59539454, &quot;Longitude&quot;: 117.5000168, &quot;Time&quot;: &quot;11/12/2020 1:52&quot;, &quot;Variety&quot;: &quot;43Y23 RR&quot;, &quot;__folium_color&quot;: &quot;#2c0594&quot;, &quot;sample_id&quot;: &quot;bf66_sample_1&quot;}, &quot;type&quot;: &quot;Feature&quot;}, {&quot;bbox&quot;: [117.5000159, -31.59760294, 117.5000159, -31.59760294], &quot;geometry&quot;: {&quot;coordinates&quot;: [117.5000159, -31.59760294], &quot;type&quot;: &quot;Point&quot;}, &quot;id&quot;: &quot;154&quot;, &quot;properties&quot;: {&quot;Crop&quot;: 5, &quot;DryYield&quot;: 0.45, &quot;Elevation&quot;: 259.27, &quot;Heading&quot;: 179.5, &quot;Latitude&quot;: -31.59760294, &quot;Longitude&quot;: 117.5000159, &quot;Time&quot;: &quot;11/12/2020 1:54&quot;, &quot;Variety&quot;: &quot;43Y23 RR&quot;, &quot;__folium_color&quot;: &quot;#2a0593&quot;, &quot;sample_id&quot;: &quot;bf66_sample_1&quot;}, &quot;type&quot;: &quot;Feature&quot;}, {&quot;bbox&quot;: [117.4998255, -31.59987302, 117.4998255, -31.59987302], &quot;geometry&quot;: {&quot;coordinates&quot;: [117.4998255, -31.59987302], &quot;type&quot;: &quot;Point&quot;}, &quot;id&quot;: &quot;155&quot;, &quot;properties&quot;: {&quot;Crop&quot;: 5, &quot;DryYield&quot;: 0.13, &quot;Elevation&quot;: 259.06, &quot;Heading&quot;: 204.2, &quot;Latitude&quot;: -31.59987302, &quot;Longitude&quot;: 117.4998255, &quot;Time&quot;: &quot;11/12/2020 1:55&quot;, &quot;Variety&quot;: &quot;43Y23 RR&quot;, &quot;__folium_color&quot;: &quot;#16078a&quot;, &quot;sample_id&quot;: &quot;bf66_sample_1&quot;}, &quot;type&quot;: &quot;Feature&quot;}, {&quot;bbox&quot;: [117.4998899, -31.59781328, 117.4998899, -31.59781328], &quot;geometry&quot;: {&quot;coordinates&quot;: [117.4998899, -31.59781328], &quot;type&quot;: &quot;Point&quot;}, &quot;id&quot;: &quot;156&quot;, &quot;properties&quot;: {&quot;Crop&quot;: 5, &quot;DryYield&quot;: 0.439, &quot;Elevation&quot;: 259.44, &quot;Heading&quot;: 359.8, &quot;Latitude&quot;: -31.59781328, &quot;Longitude&quot;: 117.4998899, &quot;Time&quot;: &quot;11/12/2020 1:56&quot;, &quot;Variety&quot;: &quot;43Y23 RR&quot;, &quot;__folium_color&quot;: &quot;#2a0593&quot;, &quot;sample_id&quot;: &quot;bf66_sample_1&quot;}, &quot;type&quot;: &quot;Feature&quot;}, {&quot;bbox&quot;: [117.4998897, -31.59572914, 117.4998897, -31.59572914], &quot;geometry&quot;: {&quot;coordinates&quot;: [117.4998897, -31.59572914], &quot;type&quot;: &quot;Point&quot;}, &quot;id&quot;: &quot;157&quot;, &quot;properties&quot;: {&quot;Crop&quot;: 5, &quot;DryYield&quot;: 0.458, &quot;Elevation&quot;: 259.13, &quot;Heading&quot;: 359.7, &quot;Latitude&quot;: -31.59572914, &quot;Longitude&quot;: 117.4998897, &quot;Time&quot;: &quot;11/12/2020 1:58&quot;, &quot;Variety&quot;: &quot;43Y23 RR&quot;, &quot;__folium_color&quot;: &quot;#2a0593&quot;, &quot;sample_id&quot;: &quot;bf66_sample_1&quot;}, &quot;type&quot;: &quot;Feature&quot;}, {&quot;bbox&quot;: [117.49989, -31.59362733, 117.49989, -31.59362733], &quot;geometry&quot;: {&quot;coordinates&quot;: [117.49989, -31.59362733], &quot;type&quot;: &quot;Point&quot;}, &quot;id&quot;: &quot;158&quot;, &quot;properties&quot;: {&quot;Crop&quot;: 5, &quot;DryYield&quot;: 0.595, &quot;Elevation&quot;: 259.62, &quot;Heading&quot;: 0.3, &quot;Latitude&quot;: -31.59362733, &quot;Longitude&quot;: 117.49989, &quot;Time&quot;: &quot;11/12/2020 1:59&quot;, &quot;Variety&quot;: &quot;43Y23 RR&quot;, &quot;__folium_color&quot;: &quot;#310597&quot;, &quot;sample_id&quot;: &quot;bf66_sample_1&quot;}, &quot;type&quot;: &quot;Feature&quot;}, {&quot;bbox&quot;: [117.4995102, -31.59166612, 117.4995102, -31.59166612], &quot;geometry&quot;: {&quot;coordinates&quot;: [117.4995102, -31.59166612], &quot;type&quot;: &quot;Point&quot;}, &quot;id&quot;: &quot;159&quot;, &quot;properties&quot;: {&quot;Crop&quot;: 5, &quot;DryYield&quot;: 1.26, &quot;Elevation&quot;: 257.73, &quot;Heading&quot;: 179.8, &quot;Latitude&quot;: -31.59166612, &quot;Longitude&quot;: 117.4995102, &quot;Time&quot;: &quot;11/12/2020 2:01&quot;, &quot;Variety&quot;: &quot;43Y23 RR&quot;, &quot;__folium_color&quot;: &quot;#5002a2&quot;, &quot;sample_id&quot;: &quot;bf66_sample_1&quot;}, &quot;type&quot;: &quot;Feature&quot;}, {&quot;bbox&quot;: [117.4995107, -31.59368892, 117.4995107, -31.59368892], &quot;geometry&quot;: {&quot;coordinates&quot;: [117.4995107, -31.59368892], &quot;type&quot;: &quot;Point&quot;}, &quot;id&quot;: &quot;160&quot;, &quot;properties&quot;: {&quot;Crop&quot;: 5, &quot;DryYield&quot;: 0.721, &quot;Elevation&quot;: 260.56, &quot;Heading&quot;: 179.8, &quot;Latitude&quot;: -31.59368892, &quot;Longitude&quot;: 117.4995107, &quot;Time&quot;: &quot;11/12/2020 2:02&quot;, &quot;Variety&quot;: &quot;43Y23 RR&quot;, &quot;__folium_color&quot;: &quot;#370499&quot;, &quot;sample_id&quot;: &quot;bf66_sample_1&quot;}, &quot;type&quot;: &quot;Feature&quot;}, {&quot;bbox&quot;: [117.4995105, -31.59559401, 117.4995105, -31.59559401], &quot;geometry&quot;: {&quot;coordinates&quot;: [117.4995105, -31.59559401], &quot;type&quot;: &quot;Point&quot;}, &quot;id&quot;: &quot;161&quot;, &quot;properties&quot;: {&quot;Crop&quot;: 5, &quot;DryYield&quot;: 0.583, &quot;Elevation&quot;: 260.05, &quot;Heading&quot;: 180.3, &quot;Latitude&quot;: -31.59559401, &quot;Longitude&quot;: 117.4995105, &quot;Time&quot;: &quot;11/12/2020 2:03&quot;, &quot;Variety&quot;: &quot;43Y23 RR&quot;, &quot;__folium_color&quot;: &quot;#310597&quot;, &quot;sample_id&quot;: &quot;bf66_sample_1&quot;}, &quot;type&quot;: &quot;Feature&quot;}, {&quot;bbox&quot;: [117.4971081, -31.60737455, 117.4971081, -31.60737455], &quot;geometry&quot;: {&quot;coordinates&quot;: [117.4971081, -31.60737455], &quot;type&quot;: &quot;Point&quot;}, &quot;id&quot;: &quot;162&quot;, &quot;properties&quot;: {&quot;Crop&quot;: 5, &quot;DryYield&quot;: 0.351, &quot;Elevation&quot;: 266.28, &quot;Heading&quot;: 180.2, &quot;Latitude&quot;: -31.60737455, &quot;Longitude&quot;: 117.4971081, &quot;Time&quot;: &quot;11/12/2020 0:41&quot;, &quot;Variety&quot;: &quot;43Y23 RR&quot;, &quot;__folium_color&quot;: &quot;#240691&quot;, &quot;sample_id&quot;: &quot;bf66_sample_1&quot;}, &quot;type&quot;: &quot;Feature&quot;}, {&quot;bbox&quot;: [117.4972345, -31.60770389, 117.4972345, -31.60770389], &quot;geometry&quot;: {&quot;coordinates&quot;: [117.4972345, -31.60770389], &quot;type&quot;: &quot;Point&quot;}, &quot;id&quot;: &quot;163&quot;, &quot;properties&quot;: {&quot;Crop&quot;: 5, &quot;DryYield&quot;: 0.406, &quot;Elevation&quot;: 266.51, &quot;Heading&quot;: 0.1, &quot;Latitude&quot;: -31.60770389, &quot;Longitude&quot;: 117.4972345, &quot;Time&quot;: &quot;11/12/2020 0:43&quot;, &quot;Variety&quot;: &quot;43Y23 RR&quot;, &quot;__folium_color&quot;: &quot;#280592&quot;, &quot;sample_id&quot;: &quot;bf66_sample_1&quot;}, &quot;type&quot;: &quot;Feature&quot;}, {&quot;bbox&quot;: [117.4973611, -31.6073626, 117.4973611, -31.6073626], &quot;geometry&quot;: {&quot;coordinates&quot;: [117.4973611, -31.6073626], &quot;type&quot;: &quot;Point&quot;}, &quot;id&quot;: &quot;164&quot;, &quot;properties&quot;: {&quot;Crop&quot;: 5, &quot;DryYield&quot;: 0.296, &quot;Elevation&quot;: 265.77, &quot;Heading&quot;: 179.8, &quot;Latitude&quot;: -31.6073626, &quot;Longitude&quot;: 117.4973611, &quot;Time&quot;: &quot;11/12/2020 0:44&quot;, &quot;Variety&quot;: &quot;43Y23 RR&quot;, &quot;__folium_color&quot;: &quot;#220690&quot;, &quot;sample_id&quot;: &quot;bf66_sample_1&quot;}, &quot;type&quot;: &quot;Feature&quot;}, {&quot;bbox&quot;: [117.4974878, -31.60743674, 117.4974878, -31.60743674], &quot;geometry&quot;: {&quot;coordinates&quot;: [117.4974878, -31.60743674], &quot;type&quot;: &quot;Point&quot;}, &quot;id&quot;: &quot;165&quot;, &quot;properties&quot;: {&quot;Crop&quot;: 5, &quot;DryYield&quot;: 0.199, &quot;Elevation&quot;: 265.93, &quot;Heading&quot;: 0.2, &quot;Latitude&quot;: -31.60743674, &quot;Longitude&quot;: 117.4974878, &quot;Time&quot;: &quot;11/12/2020 0:46&quot;, &quot;Variety&quot;: &quot;43Y23 RR&quot;, &quot;__folium_color&quot;: &quot;#1b068d&quot;, &quot;sample_id&quot;: &quot;bf66_sample_1&quot;}, &quot;type&quot;: &quot;Feature&quot;}, {&quot;bbox&quot;: [117.4981784, -31.60794929, 117.4981784, -31.60794929], &quot;geometry&quot;: {&quot;coordinates&quot;: [117.4981784, -31.60794929], &quot;type&quot;: &quot;Point&quot;}, &quot;id&quot;: &quot;166&quot;, &quot;properties&quot;: {&quot;Crop&quot;: 5, &quot;DryYield&quot;: 0.122, &quot;Elevation&quot;: 267.74, &quot;Heading&quot;: 167.5, &quot;Latitude&quot;: -31.60794929, &quot;Longitude&quot;: 117.4981784, &quot;Time&quot;: &quot;11/12/2020 0:48&quot;, &quot;Variety&quot;: &quot;43Y23 RR&quot;, &quot;__folium_color&quot;: &quot;#16078a&quot;, &quot;sample_id&quot;: &quot;bf66_sample_1&quot;}, &quot;type&quot;: &quot;Feature&quot;}, {&quot;bbox&quot;: [117.497866, -31.6080029, 117.497866, -31.6080029], &quot;geometry&quot;: {&quot;coordinates&quot;: [117.497866, -31.6080029], &quot;type&quot;: &quot;Point&quot;}, &quot;id&quot;: &quot;167&quot;, &quot;properties&quot;: {&quot;Crop&quot;: 5, &quot;DryYield&quot;: 0.366, &quot;Elevation&quot;: 267.49, &quot;Heading&quot;: 359.5, &quot;Latitude&quot;: -31.6080029, &quot;Longitude&quot;: 117.497866, &quot;Time&quot;: &quot;11/12/2020 0:51&quot;, &quot;Variety&quot;: &quot;43Y23 RR&quot;, &quot;__folium_color&quot;: &quot;#260591&quot;, &quot;sample_id&quot;: &quot;bf66_sample_1&quot;}, &quot;type&quot;: &quot;Feature&quot;}, {&quot;bbox&quot;: [117.4974757, -31.60552285, 117.4974757, -31.60552285], &quot;geometry&quot;: {&quot;coordinates&quot;: [117.4974757, -31.60552285], &quot;type&quot;: &quot;Point&quot;}, &quot;id&quot;: &quot;168&quot;, &quot;properties&quot;: {&quot;Crop&quot;: 5, &quot;DryYield&quot;: 0.413, &quot;Elevation&quot;: 263.69, &quot;Heading&quot;: 9.4, &quot;Latitude&quot;: -31.60552285, &quot;Longitude&quot;: 117.4974757, &quot;Time&quot;: &quot;11/12/2020 0:53&quot;, &quot;Variety&quot;: &quot;43Y23 RR&quot;, &quot;__folium_color&quot;: &quot;#280592&quot;, &quot;sample_id&quot;: &quot;bf66_sample_1&quot;}, &quot;type&quot;: &quot;Feature&quot;}, {&quot;bbox&quot;: [117.4979774, -31.60376533, 117.4979774, -31.60376533], &quot;geometry&quot;: {&quot;coordinates&quot;: [117.4979774, -31.60376533], &quot;type&quot;: &quot;Point&quot;}, &quot;id&quot;: &quot;169&quot;, &quot;properties&quot;: {&quot;Crop&quot;: 5, &quot;DryYield&quot;: 0.287, &quot;Elevation&quot;: 261.49, &quot;Heading&quot;: 11.2, &quot;Latitude&quot;: -31.60376533, &quot;Longitude&quot;: 117.4979774, &quot;Time&quot;: &quot;11/12/2020 0:55&quot;, &quot;Variety&quot;: &quot;43Y23 RR&quot;, &quot;__folium_color&quot;: &quot;#20068f&quot;, &quot;sample_id&quot;: &quot;bf66_sample_1&quot;}, &quot;type&quot;: &quot;Feature&quot;}, {&quot;bbox&quot;: [117.4979883, -31.60215683, 117.4979883, -31.60215683], &quot;geometry&quot;: {&quot;coordinates&quot;: [117.4979883, -31.60215683], &quot;type&quot;: &quot;Point&quot;}, &quot;id&quot;: &quot;170&quot;, &quot;properties&quot;: {&quot;Crop&quot;: 5, &quot;DryYield&quot;: 0.671, &quot;Elevation&quot;: 260.63, &quot;Heading&quot;: 44.0, &quot;Latitude&quot;: -31.60215683, &quot;Longitude&quot;: 117.4979883, &quot;Time&quot;: &quot;11/12/2020 0:56&quot;, &quot;Variety&quot;: &quot;43Y23 RR&quot;, &quot;__folium_color&quot;: &quot;#350498&quot;, &quot;sample_id&quot;: &quot;bf66_sample_1&quot;}, &quot;type&quot;: &quot;Feature&quot;}, {&quot;bbox&quot;: [117.4994961, -31.60065109, 117.4994961, -31.60065109], &quot;geometry&quot;: {&quot;coordinates&quot;: [117.4994961, -31.60065109], &quot;type&quot;: &quot;Point&quot;}, &quot;id&quot;: &quot;171&quot;, &quot;properties&quot;: {&quot;Crop&quot;: 5, &quot;DryYield&quot;: 0.161, &quot;Elevation&quot;: 258.97, &quot;Heading&quot;: 34.0, &quot;Latitude&quot;: -31.60065109, &quot;Longitude&quot;: 117.4994961, &quot;Time&quot;: &quot;11/12/2020 0:57&quot;, &quot;Variety&quot;: &quot;43Y23 RR&quot;, &quot;__folium_color&quot;: &quot;#19068c&quot;, &quot;sample_id&quot;: &quot;bf66_sample_1&quot;}, &quot;type&quot;: &quot;Feature&quot;}, {&quot;bbox&quot;: [117.5007699, -31.59893178, 117.5007699, -31.59893178], &quot;geometry&quot;: {&quot;coordinates&quot;: [117.5007699, -31.59893178], &quot;type&quot;: &quot;Point&quot;}, &quot;id&quot;: &quot;172&quot;, &quot;properties&quot;: {&quot;Crop&quot;: 5, &quot;DryYield&quot;: 0.204, &quot;Elevation&quot;: 257.36, &quot;Heading&quot;: 36.2, &quot;Latitude&quot;: -31.59893178, &quot;Longitude&quot;: 117.5007699, &quot;Time&quot;: &quot;11/12/2020 0:59&quot;, &quot;Variety&quot;: &quot;43Y23 RR&quot;, &quot;__folium_color&quot;: &quot;#1b068d&quot;, &quot;sample_id&quot;: &quot;bf66_sample_1&quot;}, &quot;type&quot;: &quot;Feature&quot;}, {&quot;bbox&quot;: [117.5016926, -31.59721703, 117.5016926, -31.59721703], &quot;geometry&quot;: {&quot;coordinates&quot;: [117.5016926, -31.59721703], &quot;type&quot;: &quot;Point&quot;}, &quot;id&quot;: &quot;173&quot;, &quot;properties&quot;: {&quot;Crop&quot;: 5, &quot;DryYield&quot;: 0.164, &quot;Elevation&quot;: 255.89, &quot;Heading&quot;: 10.1, &quot;Latitude&quot;: -31.59721703, &quot;Longitude&quot;: 117.5016926, &quot;Time&quot;: &quot;11/12/2020 1:00&quot;, &quot;Variety&quot;: &quot;43Y23 RR&quot;, &quot;__folium_color&quot;: &quot;#19068c&quot;, &quot;sample_id&quot;: &quot;bf66_sample_1&quot;}, &quot;type&quot;: &quot;Feature&quot;}, {&quot;bbox&quot;: [117.5023725, -31.59525161, 117.5023725, -31.59525161], &quot;geometry&quot;: {&quot;coordinates&quot;: [117.5023725, -31.59525161], &quot;type&quot;: &quot;Point&quot;}, &quot;id&quot;: &quot;174&quot;, &quot;properties&quot;: {&quot;Crop&quot;: 5, &quot;DryYield&quot;: 0.336, &quot;Elevation&quot;: 254.56, &quot;Heading&quot;: 17.3, &quot;Latitude&quot;: -31.59525161, &quot;Longitude&quot;: 117.5023725, &quot;Time&quot;: &quot;11/12/2020 1:01&quot;, &quot;Variety&quot;: &quot;43Y23 RR&quot;, &quot;__folium_color&quot;: &quot;#240691&quot;, &quot;sample_id&quot;: &quot;bf66_sample_1&quot;}, &quot;type&quot;: &quot;Feature&quot;}, {&quot;bbox&quot;: [117.5026715, -31.59340151, 117.5026715, -31.59340151], &quot;geometry&quot;: {&quot;coordinates&quot;: [117.5026715, -31.59340151], &quot;type&quot;: &quot;Point&quot;}, &quot;id&quot;: &quot;175&quot;, &quot;properties&quot;: {&quot;Crop&quot;: 5, &quot;DryYield&quot;: 0.519, &quot;Elevation&quot;: 253.71, &quot;Heading&quot;: 0.0, &quot;Latitude&quot;: -31.59340151, &quot;Longitude&quot;: 117.5026715, &quot;Time&quot;: &quot;11/12/2020 1:03&quot;, &quot;Variety&quot;: &quot;43Y23 RR&quot;, &quot;__folium_color&quot;: &quot;#2e0595&quot;, &quot;sample_id&quot;: &quot;bf66_sample_1&quot;}, &quot;type&quot;: &quot;Feature&quot;}, {&quot;bbox&quot;: [117.5025443, -31.59160882, 117.5025443, -31.59160882], &quot;geometry&quot;: {&quot;coordinates&quot;: [117.5025443, -31.59160882], &quot;type&quot;: &quot;Point&quot;}, &quot;id&quot;: &quot;176&quot;, &quot;properties&quot;: {&quot;Crop&quot;: 5, &quot;DryYield&quot;: 0.546, &quot;Elevation&quot;: 252.52, &quot;Heading&quot;: 178.2, &quot;Latitude&quot;: -31.59160882, &quot;Longitude&quot;: 117.5025443, &quot;Time&quot;: &quot;11/12/2020 1:04&quot;, &quot;Variety&quot;: &quot;43Y23 RR&quot;, &quot;__folium_color&quot;: &quot;#2f0596&quot;, &quot;sample_id&quot;: &quot;bf66_sample_1&quot;}, &quot;type&quot;: &quot;Feature&quot;}, {&quot;bbox&quot;: [117.5025454, -31.59373166, 117.5025454, -31.59373166], &quot;geometry&quot;: {&quot;coordinates&quot;: [117.5025454, -31.59373166], &quot;type&quot;: &quot;Point&quot;}, &quot;id&quot;: &quot;177&quot;, &quot;properties&quot;: {&quot;Crop&quot;: 5, &quot;DryYield&quot;: 0.548, &quot;Elevation&quot;: 253.93, &quot;Heading&quot;: 179.6, &quot;Latitude&quot;: -31.59373166, &quot;Longitude&quot;: 117.5025454, &quot;Time&quot;: &quot;11/12/2020 1:05&quot;, &quot;Variety&quot;: &quot;43Y23 RR&quot;, &quot;__folium_color&quot;: &quot;#2f0596&quot;, &quot;sample_id&quot;: &quot;bf66_sample_1&quot;}, &quot;type&quot;: &quot;Feature&quot;}, {&quot;bbox&quot;: [117.5024189, -31.59450719, 117.5024189, -31.59450719], &quot;geometry&quot;: {&quot;coordinates&quot;: [117.5024189, -31.59450719], &quot;type&quot;: &quot;Point&quot;}, &quot;id&quot;: &quot;178&quot;, &quot;properties&quot;: {&quot;Crop&quot;: 5, &quot;DryYield&quot;: 0.47, &quot;Elevation&quot;: 254.37, &quot;Heading&quot;: 360.0, &quot;Latitude&quot;: -31.59450719, &quot;Longitude&quot;: 117.5024189, &quot;Time&quot;: &quot;11/12/2020 1:07&quot;, &quot;Variety&quot;: &quot;43Y23 RR&quot;, &quot;__folium_color&quot;: &quot;#2c0594&quot;, &quot;sample_id&quot;: &quot;bf66_sample_1&quot;}, &quot;type&quot;: &quot;Feature&quot;}, {&quot;bbox&quot;: [117.5024186, -31.59246419, 117.5024186, -31.59246419], &quot;geometry&quot;: {&quot;coordinates&quot;: [117.5024186, -31.59246419], &quot;type&quot;: &quot;Point&quot;}, &quot;id&quot;: &quot;179&quot;, &quot;properties&quot;: {&quot;Crop&quot;: 5, &quot;DryYield&quot;: 0.46, &quot;Elevation&quot;: 253.59, &quot;Heading&quot;: 0.1, &quot;Latitude&quot;: -31.59246419, &quot;Longitude&quot;: 117.5024186, &quot;Time&quot;: &quot;11/12/2020 1:09&quot;, &quot;Variety&quot;: &quot;43Y23 RR&quot;, &quot;__folium_color&quot;: &quot;#2a0593&quot;, &quot;sample_id&quot;: &quot;bf66_sample_1&quot;}, &quot;type&quot;: &quot;Feature&quot;}, {&quot;bbox&quot;: [117.5020394, -31.59245944, 117.5020394, -31.59245944], &quot;geometry&quot;: {&quot;coordinates&quot;: [117.5020394, -31.59245944], &quot;type&quot;: &quot;Point&quot;}, &quot;id&quot;: &quot;180&quot;, &quot;properties&quot;: {&quot;Crop&quot;: 5, &quot;DryYield&quot;: 0.508, &quot;Elevation&quot;: 254.25, &quot;Heading&quot;: 179.9, &quot;Latitude&quot;: -31.59245944, &quot;Longitude&quot;: 117.5020394, &quot;Time&quot;: &quot;11/12/2020 1:10&quot;, &quot;Variety&quot;: &quot;43Y23 RR&quot;, &quot;__folium_color&quot;: &quot;#2e0595&quot;, &quot;sample_id&quot;: &quot;bf66_sample_1&quot;}, &quot;type&quot;: &quot;Feature&quot;}, {&quot;bbox&quot;: [117.5020396, -31.59444024, 117.5020396, -31.59444024], &quot;geometry&quot;: {&quot;coordinates&quot;: [117.5020396, -31.59444024], &quot;type&quot;: &quot;Point&quot;}, &quot;id&quot;: &quot;181&quot;, &quot;properties&quot;: {&quot;Crop&quot;: 5, &quot;DryYield&quot;: 0.521, &quot;Elevation&quot;: 254.88, &quot;Heading&quot;: 180.1, &quot;Latitude&quot;: -31.59444024, &quot;Longitude&quot;: 117.5020396, &quot;Time&quot;: &quot;11/12/2020 1:11&quot;, &quot;Variety&quot;: &quot;43Y23 RR&quot;, &quot;__folium_color&quot;: &quot;#2e0595&quot;, &quot;sample_id&quot;: &quot;bf66_sample_1&quot;}, &quot;type&quot;: &quot;Feature&quot;}, {&quot;bbox&quot;: [117.5017872, -31.59658033, 117.5017872, -31.59658033], &quot;geometry&quot;: {&quot;coordinates&quot;: [117.5017872, -31.59658033], &quot;type&quot;: &quot;Point&quot;}, &quot;id&quot;: &quot;182&quot;, &quot;properties&quot;: {&quot;Crop&quot;: 5, &quot;DryYield&quot;: 0.0, &quot;Elevation&quot;: 256.19, &quot;Heading&quot;: 184.6, &quot;Latitude&quot;: -31.59658033, &quot;Longitude&quot;: 117.5017872, &quot;Time&quot;: &quot;11/12/2020 1:13&quot;, &quot;Variety&quot;: &quot;43Y23 RR&quot;, &quot;__folium_color&quot;: &quot;#0d0887&quot;, &quot;sample_id&quot;: &quot;bf66_sample_1&quot;}, &quot;type&quot;: &quot;Feature&quot;}, {&quot;bbox&quot;: [117.5019133, -31.59450244, 117.5019133, -31.59450244], &quot;geometry&quot;: {&quot;coordinates&quot;: [117.5019133, -31.59450244], &quot;type&quot;: &quot;Point&quot;}, &quot;id&quot;: &quot;183&quot;, &quot;properties&quot;: {&quot;Crop&quot;: 5, &quot;DryYield&quot;: 0.544, &quot;Elevation&quot;: 255.13, &quot;Heading&quot;: 0.4, &quot;Latitude&quot;: -31.59450244, &quot;Longitude&quot;: 117.5019133, &quot;Time&quot;: &quot;11/12/2020 1:15&quot;, &quot;Variety&quot;: &quot;43Y23 RR&quot;, &quot;__folium_color&quot;: &quot;#2f0596&quot;, &quot;sample_id&quot;: &quot;bf66_sample_1&quot;}, &quot;type&quot;: &quot;Feature&quot;}, {&quot;bbox&quot;: [117.501913, -31.59259456, 117.501913, -31.59259456], &quot;geometry&quot;: {&quot;coordinates&quot;: [117.501913, -31.59259456], &quot;type&quot;: &quot;Point&quot;}, &quot;id&quot;: &quot;184&quot;, &quot;properties&quot;: {&quot;Crop&quot;: 5, &quot;DryYield&quot;: 0.803, &quot;Elevation&quot;: 254.6, &quot;Heading&quot;: 359.7, &quot;Latitude&quot;: -31.59259456, &quot;Longitude&quot;: 117.501913, &quot;Time&quot;: &quot;11/12/2020 1:16&quot;, &quot;Variety&quot;: &quot;43Y23 RR&quot;, &quot;__folium_color&quot;: &quot;#3c049b&quot;, &quot;sample_id&quot;: &quot;bf66_sample_1&quot;}, &quot;type&quot;: &quot;Feature&quot;}, {&quot;bbox&quot;: [117.5015336, -31.5922644, 117.5015336, -31.5922644], &quot;geometry&quot;: {&quot;coordinates&quot;: [117.5015336, -31.5922644], &quot;type&quot;: &quot;Point&quot;}, &quot;id&quot;: &quot;185&quot;, &quot;properties&quot;: {&quot;Crop&quot;: 5, &quot;DryYield&quot;: 0.611, &quot;Elevation&quot;: 254.7, &quot;Heading&quot;: 180.1, &quot;Latitude&quot;: -31.5922644, &quot;Longitude&quot;: 117.5015336, &quot;Time&quot;: &quot;11/12/2020 1:17&quot;, &quot;Variety&quot;: &quot;43Y23 RR&quot;, &quot;__folium_color&quot;: &quot;#310597&quot;, &quot;sample_id&quot;: &quot;bf66_sample_1&quot;}, &quot;type&quot;: &quot;Feature&quot;}, {&quot;bbox&quot;: [117.5015338, -31.59420737, 117.5015338, -31.59420737], &quot;geometry&quot;: {&quot;coordinates&quot;: [117.5015338, -31.59420737], &quot;type&quot;: &quot;Point&quot;}, &quot;id&quot;: &quot;186&quot;, &quot;properties&quot;: {&quot;Crop&quot;: 5, &quot;DryYield&quot;: 0.841, &quot;Elevation&quot;: 255.48, &quot;Heading&quot;: 179.9, &quot;Latitude&quot;: -31.59420737, &quot;Longitude&quot;: 117.5015338, &quot;Time&quot;: &quot;11/12/2020 1:19&quot;, &quot;Variety&quot;: &quot;43Y23 RR&quot;, &quot;__folium_color&quot;: &quot;#3e049c&quot;, &quot;sample_id&quot;: &quot;bf66_sample_1&quot;}, &quot;type&quot;: &quot;Feature&quot;}, {&quot;bbox&quot;: [117.5015336, -31.59624359, 117.5015336, -31.59624359], &quot;geometry&quot;: {&quot;coordinates&quot;: [117.5015336, -31.59624359], &quot;type&quot;: &quot;Point&quot;}, &quot;id&quot;: &quot;187&quot;, &quot;properties&quot;: {&quot;Crop&quot;: 5, &quot;DryYield&quot;: 0.372, &quot;Elevation&quot;: 256.27, &quot;Heading&quot;: 180.1, &quot;Latitude&quot;: -31.59624359, &quot;Longitude&quot;: 117.5015336, &quot;Time&quot;: &quot;11/12/2020 1:20&quot;, &quot;Variety&quot;: &quot;43Y23 RR&quot;, &quot;__folium_color&quot;: &quot;#260591&quot;, &quot;sample_id&quot;: &quot;bf66_sample_1&quot;}, &quot;type&quot;: &quot;Feature&quot;}, {&quot;bbox&quot;: [117.5013996, -31.59838992, 117.5013996, -31.59838992], &quot;geometry&quot;: {&quot;coordinates&quot;: [117.5013996, -31.59838992], &quot;type&quot;: &quot;Point&quot;}, &quot;id&quot;: &quot;188&quot;, &quot;properties&quot;: {&quot;Crop&quot;: 5, &quot;DryYield&quot;: 0.103, &quot;Elevation&quot;: 256.59, &quot;Heading&quot;: 200.5, &quot;Latitude&quot;: -31.59838992, &quot;Longitude&quot;: 117.5013996, &quot;Time&quot;: &quot;11/12/2020 1:21&quot;, &quot;Variety&quot;: &quot;43Y23 RR&quot;, &quot;__folium_color&quot;: &quot;#130789&quot;, &quot;sample_id&quot;: &quot;bf66_sample_1&quot;}, &quot;type&quot;: &quot;Feature&quot;}, {&quot;bbox&quot;: [117.5014072, -31.59659488, 117.5014072, -31.59659488], &quot;geometry&quot;: {&quot;coordinates&quot;: [117.5014072, -31.59659488], &quot;type&quot;: &quot;Point&quot;}, &quot;id&quot;: &quot;189&quot;, &quot;properties&quot;: {&quot;Crop&quot;: 5, &quot;DryYield&quot;: 0.384, &quot;Elevation&quot;: 256.62, &quot;Heading&quot;: 0.0, &quot;Latitude&quot;: -31.59659488, &quot;Longitude&quot;: 117.5014072, &quot;Time&quot;: &quot;11/12/2020 1:23&quot;, &quot;Variety&quot;: &quot;43Y23 RR&quot;, &quot;__folium_color&quot;: &quot;#260591&quot;, &quot;sample_id&quot;: &quot;bf66_sample_1&quot;}, &quot;type&quot;: &quot;Feature&quot;}, {&quot;bbox&quot;: [117.5014074, -31.59448773, 117.5014074, -31.59448773], &quot;geometry&quot;: {&quot;coordinates&quot;: [117.5014074, -31.59448773], &quot;type&quot;: &quot;Point&quot;}, &quot;id&quot;: &quot;190&quot;, &quot;properties&quot;: {&quot;Crop&quot;: 5, &quot;DryYield&quot;: 0.357, &quot;Elevation&quot;: 255.91, &quot;Heading&quot;: 0.2, &quot;Latitude&quot;: -31.59448773, &quot;Longitude&quot;: 117.5014074, &quot;Time&quot;: &quot;11/12/2020 1:24&quot;, &quot;Variety&quot;: &quot;43Y23 RR&quot;, &quot;__folium_color&quot;: &quot;#240691&quot;, &quot;sample_id&quot;: &quot;bf66_sample_1&quot;}, &quot;type&quot;: &quot;Feature&quot;}, {&quot;bbox&quot;: [117.5014072, -31.59264681, 117.5014072, -31.59264681], &quot;geometry&quot;: {&quot;coordinates&quot;: [117.5014072, -31.59264681], &quot;type&quot;: &quot;Point&quot;}, &quot;id&quot;: &quot;191&quot;, &quot;properties&quot;: {&quot;Crop&quot;: 5, &quot;DryYield&quot;: 0.682, &quot;Elevation&quot;: 255.41, &quot;Heading&quot;: 0.1, &quot;Latitude&quot;: -31.59264681, &quot;Longitude&quot;: 117.5014072, &quot;Time&quot;: &quot;11/12/2020 1:26&quot;, &quot;Variety&quot;: &quot;43Y23 RR&quot;, &quot;__folium_color&quot;: &quot;#350498&quot;, &quot;sample_id&quot;: &quot;bf66_sample_1&quot;}, &quot;type&quot;: &quot;Feature&quot;}, {&quot;bbox&quot;: [117.5011545, -31.59228309, 117.5011545, -31.59228309], &quot;geometry&quot;: {&quot;coordinates&quot;: [117.5011545, -31.59228309], &quot;type&quot;: &quot;Point&quot;}, &quot;id&quot;: &quot;192&quot;, &quot;properties&quot;: {&quot;Crop&quot;: 5, &quot;DryYield&quot;: 0.598, &quot;Elevation&quot;: 255.19, &quot;Heading&quot;: 179.7, &quot;Latitude&quot;: -31.59228309, &quot;Longitude&quot;: 117.5011545, &quot;Time&quot;: &quot;11/12/2020 1:27&quot;, &quot;Variety&quot;: &quot;43Y23 RR&quot;, &quot;__folium_color&quot;: &quot;#310597&quot;, &quot;sample_id&quot;: &quot;bf66_sample_1&quot;}, &quot;type&quot;: &quot;Feature&quot;}, {&quot;bbox&quot;: [117.5011543, -31.59414501, 117.5011543, -31.59414501], &quot;geometry&quot;: {&quot;coordinates&quot;: [117.5011543, -31.59414501], &quot;type&quot;: &quot;Point&quot;}, &quot;id&quot;: &quot;193&quot;, &quot;properties&quot;: {&quot;Crop&quot;: 5, &quot;DryYield&quot;: 0.778, &quot;Elevation&quot;: 256.22, &quot;Heading&quot;: 179.9, &quot;Latitude&quot;: -31.59414501, &quot;Longitude&quot;: 117.5011543, &quot;Time&quot;: &quot;11/12/2020 1:28&quot;, &quot;Variety&quot;: &quot;43Y23 RR&quot;, &quot;__folium_color&quot;: &quot;#3a049a&quot;, &quot;sample_id&quot;: &quot;bf66_sample_1&quot;}, &quot;type&quot;: &quot;Feature&quot;}, {&quot;bbox&quot;: [117.5011545, -31.5961604, 117.5011545, -31.5961604], &quot;geometry&quot;: {&quot;coordinates&quot;: [117.5011545, -31.5961604], &quot;type&quot;: &quot;Point&quot;}, &quot;id&quot;: &quot;194&quot;, &quot;properties&quot;: {&quot;Crop&quot;: 5, &quot;DryYield&quot;: 0.37, &quot;Elevation&quot;: 256.8, &quot;Heading&quot;: 180.0, &quot;Latitude&quot;: -31.5961604, &quot;Longitude&quot;: 117.5011545, &quot;Time&quot;: &quot;11/12/2020 1:30&quot;, &quot;Variety&quot;: &quot;43Y23 RR&quot;, &quot;__folium_color&quot;: &quot;#260591&quot;, &quot;sample_id&quot;: &quot;bf66_sample_1&quot;}, &quot;type&quot;: &quot;Feature&quot;}, {&quot;bbox&quot;: [117.5011547, -31.59807954, 117.5011547, -31.59807954], &quot;geometry&quot;: {&quot;coordinates&quot;: [117.5011547, -31.59807954], &quot;type&quot;: &quot;Point&quot;}, &quot;id&quot;: &quot;195&quot;, &quot;properties&quot;: {&quot;Crop&quot;: 5, &quot;DryYield&quot;: 0.374, &quot;Elevation&quot;: 256.94, &quot;Heading&quot;: 179.5, &quot;Latitude&quot;: -31.59807954, &quot;Longitude&quot;: 117.5011547, &quot;Time&quot;: &quot;11/12/2020 1:31&quot;, &quot;Variety&quot;: &quot;43Y23 RR&quot;, &quot;__folium_color&quot;: &quot;#260591&quot;, &quot;sample_id&quot;: &quot;bf66_sample_1&quot;}, &quot;type&quot;: &quot;Feature&quot;}, {&quot;bbox&quot;: [117.500775, -31.59793921, 117.500775, -31.59793921], &quot;geometry&quot;: {&quot;coordinates&quot;: [117.500775, -31.59793921], &quot;type&quot;: &quot;Point&quot;}, &quot;id&quot;: &quot;196&quot;, &quot;properties&quot;: {&quot;Crop&quot;: 5, &quot;DryYield&quot;: 0.345, &quot;Elevation&quot;: 257.76, &quot;Heading&quot;: 359.7, &quot;Latitude&quot;: -31.59793921, &quot;Longitude&quot;: 117.500775, &quot;Time&quot;: &quot;11/12/2020 1:33&quot;, &quot;Variety&quot;: &quot;43Y23 RR&quot;, &quot;__folium_color&quot;: &quot;#240691&quot;, &quot;sample_id&quot;: &quot;bf66_sample_1&quot;}, &quot;type&quot;: &quot;Feature&quot;}, {&quot;bbox&quot;: [117.5007751, -31.59573435, 117.5007751, -31.59573435], &quot;geometry&quot;: {&quot;coordinates&quot;: [117.5007751, -31.59573435], &quot;type&quot;: &quot;Point&quot;}, &quot;id&quot;: &quot;197&quot;, &quot;properties&quot;: {&quot;Crop&quot;: 5, &quot;DryYield&quot;: 0.435, &quot;Elevation&quot;: 257.28, &quot;Heading&quot;: 0.2, &quot;Latitude&quot;: -31.59573435, &quot;Longitude&quot;: 117.5007751, &quot;Time&quot;: &quot;11/12/2020 1:34&quot;, &quot;Variety&quot;: &quot;43Y23 RR&quot;, &quot;__folium_color&quot;: &quot;#2a0593&quot;, &quot;sample_id&quot;: &quot;bf66_sample_1&quot;}, &quot;type&quot;: &quot;Feature&quot;}, {&quot;bbox&quot;: [117.500775, -31.59350446, 117.500775, -31.59350446], &quot;geometry&quot;: {&quot;coordinates&quot;: [117.500775, -31.59350446], &quot;type&quot;: &quot;Point&quot;}, &quot;id&quot;: &quot;198&quot;, &quot;properties&quot;: {&quot;Crop&quot;: 5, &quot;DryYield&quot;: 0.66, &quot;Elevation&quot;: 257.28, &quot;Heading&quot;: 0.0, &quot;Latitude&quot;: -31.59350446, &quot;Longitude&quot;: 117.500775, &quot;Time&quot;: &quot;11/12/2020 1:35&quot;, &quot;Variety&quot;: &quot;43Y23 RR&quot;, &quot;__folium_color&quot;: &quot;#350498&quot;, &quot;sample_id&quot;: &quot;bf66_sample_1&quot;}, &quot;type&quot;: &quot;Feature&quot;}, {&quot;bbox&quot;: [117.5006271, -31.59148825, 117.5006271, -31.59148825], &quot;geometry&quot;: {&quot;coordinates&quot;: [117.5006271, -31.59148825], &quot;type&quot;: &quot;Point&quot;}, &quot;id&quot;: &quot;199&quot;, &quot;properties&quot;: {&quot;Crop&quot;: 5, &quot;DryYield&quot;: 0.025, &quot;Elevation&quot;: 254.92, &quot;Heading&quot;: 206.1, &quot;Latitude&quot;: -31.59148825, &quot;Longitude&quot;: 117.5006271, &quot;Time&quot;: &quot;11/12/2020 1:37&quot;, &quot;Variety&quot;: &quot;43Y23 RR&quot;, &quot;__folium_color&quot;: &quot;#0d0887&quot;, &quot;sample_id&quot;: &quot;bf66_sample_1&quot;}, &quot;type&quot;: &quot;Feature&quot;}, {&quot;bbox&quot;: [117.5006485, -31.59341775, 117.5006485, -31.59341775], &quot;geometry&quot;: {&quot;coordinates&quot;: [117.5006485, -31.59341775], &quot;type&quot;: &quot;Point&quot;}, &quot;id&quot;: &quot;200&quot;, &quot;properties&quot;: {&quot;Crop&quot;: 5, &quot;DryYield&quot;: 0.591, &quot;Elevation&quot;: 257.58, &quot;Heading&quot;: 179.8, &quot;Latitude&quot;: -31.59341775, &quot;Longitude&quot;: 117.5006485, &quot;Time&quot;: &quot;11/12/2020 1:38&quot;, &quot;Variety&quot;: &quot;43Y23 RR&quot;, &quot;__folium_color&quot;: &quot;#310597&quot;, &quot;sample_id&quot;: &quot;bf66_sample_1&quot;}, &quot;type&quot;: &quot;Feature&quot;}, {&quot;bbox&quot;: [117.5006487, -31.59560443, 117.5006487, -31.59560443], &quot;geometry&quot;: {&quot;coordinates&quot;: [117.5006487, -31.59560443], &quot;type&quot;: &quot;Point&quot;}, &quot;id&quot;: &quot;201&quot;, &quot;properties&quot;: {&quot;Crop&quot;: 5, &quot;DryYield&quot;: 0.382, &quot;Elevation&quot;: 257.56, &quot;Heading&quot;: 180.0, &quot;Latitude&quot;: -31.59560443, &quot;Longitude&quot;: 117.5006487, &quot;Time&quot;: &quot;11/12/2020 1:39&quot;, &quot;Variety&quot;: &quot;43Y23 RR&quot;, &quot;__folium_color&quot;: &quot;#260591&quot;, &quot;sample_id&quot;: &quot;bf66_sample_1&quot;}, &quot;type&quot;: &quot;Feature&quot;}, {&quot;bbox&quot;: [117.5006482, -31.59790214, 117.5006482, -31.59790214], &quot;geometry&quot;: {&quot;coordinates&quot;: [117.5006482, -31.59790214], &quot;type&quot;: &quot;Point&quot;}, &quot;id&quot;: &quot;202&quot;, &quot;properties&quot;: {&quot;Crop&quot;: 5, &quot;DryYield&quot;: 0.194, &quot;Elevation&quot;: 257.84, &quot;Heading&quot;: 180.2, &quot;Latitude&quot;: -31.59790214, &quot;Longitude&quot;: 117.5006482, &quot;Time&quot;: &quot;11/12/2020 1:41&quot;, &quot;Variety&quot;: &quot;43Y23 RR&quot;, &quot;__folium_color&quot;: &quot;#1b068d&quot;, &quot;sample_id&quot;: &quot;bf66_sample_1&quot;}, &quot;type&quot;: &quot;Feature&quot;}, {&quot;bbox&quot;: [117.5002699, -31.59897222, 117.5002699, -31.59897222], &quot;geometry&quot;: {&quot;coordinates&quot;: [117.5002699, -31.59897222], &quot;type&quot;: &quot;Point&quot;}, &quot;id&quot;: &quot;203&quot;, &quot;properties&quot;: {&quot;Crop&quot;: 5, &quot;DryYield&quot;: 0.207, &quot;Elevation&quot;: 258.5, &quot;Heading&quot;: 0.6, &quot;Latitude&quot;: -31.59897222, &quot;Longitude&quot;: 117.5002699, &quot;Time&quot;: &quot;11/12/2020 1:42&quot;, &quot;Variety&quot;: &quot;43Y23 RR&quot;, &quot;__folium_color&quot;: &quot;#1b068d&quot;, &quot;sample_id&quot;: &quot;bf66_sample_1&quot;}, &quot;type&quot;: &quot;Feature&quot;}, {&quot;bbox&quot;: [117.5002688, -31.5967081, 117.5002688, -31.5967081], &quot;geometry&quot;: {&quot;coordinates&quot;: [117.5002688, -31.5967081], &quot;type&quot;: &quot;Point&quot;}, &quot;id&quot;: &quot;204&quot;, &quot;properties&quot;: {&quot;Crop&quot;: 5, &quot;DryYield&quot;: 0.137, &quot;Elevation&quot;: 258.16, &quot;Heading&quot;: 359.8, &quot;Latitude&quot;: -31.5967081, &quot;Longitude&quot;: 117.5002688, &quot;Time&quot;: &quot;11/12/2020 1:44&quot;, &quot;Variety&quot;: &quot;43Y23 RR&quot;, &quot;__folium_color&quot;: &quot;#16078a&quot;, &quot;sample_id&quot;: &quot;bf66_sample_1&quot;}, &quot;type&quot;: &quot;Feature&quot;}, {&quot;bbox&quot;: [117.5002695, -31.5945032, 117.5002695, -31.5945032], &quot;geometry&quot;: {&quot;coordinates&quot;: [117.5002695, -31.5945032], &quot;type&quot;: &quot;Point&quot;}, &quot;id&quot;: &quot;205&quot;, &quot;properties&quot;: {&quot;Crop&quot;: 5, &quot;DryYield&quot;: 0.459, &quot;Elevation&quot;: 258.26, &quot;Heading&quot;: 0.2, &quot;Latitude&quot;: -31.5945032, &quot;Longitude&quot;: 117.5002695, &quot;Time&quot;: &quot;11/12/2020 1:45&quot;, &quot;Variety&quot;: &quot;43Y23 RR&quot;, &quot;__folium_color&quot;: &quot;#2a0593&quot;, &quot;sample_id&quot;: &quot;bf66_sample_1&quot;}, &quot;type&quot;: &quot;Feature&quot;}, {&quot;bbox&quot;: [117.5002692, -31.59239279, 117.5002692, -31.59239279], &quot;geometry&quot;: {&quot;coordinates&quot;: [117.5002692, -31.59239279], &quot;type&quot;: &quot;Point&quot;}, &quot;id&quot;: &quot;206&quot;, &quot;properties&quot;: {&quot;Crop&quot;: 5, &quot;DryYield&quot;: 0.588, &quot;Elevation&quot;: 256.95, &quot;Heading&quot;: 0.1, &quot;Latitude&quot;: -31.59239279, &quot;Longitude&quot;: 117.5002692, &quot;Time&quot;: &quot;11/12/2020 1:46&quot;, &quot;Variety&quot;: &quot;43Y23 RR&quot;, &quot;__folium_color&quot;: &quot;#310597&quot;, &quot;sample_id&quot;: &quot;bf66_sample_1&quot;}, &quot;type&quot;: &quot;Feature&quot;}, {&quot;bbox&quot;: [117.5001429, -31.59252286, 117.5001429, -31.59252286], &quot;geometry&quot;: {&quot;coordinates&quot;: [117.5001429, -31.59252286], &quot;type&quot;: &quot;Point&quot;}, &quot;id&quot;: &quot;207&quot;, &quot;properties&quot;: {&quot;Crop&quot;: 5, &quot;DryYield&quot;: 0.758, &quot;Elevation&quot;: 257.41, &quot;Heading&quot;: 179.7, &quot;Latitude&quot;: -31.59252286, &quot;Longitude&quot;: 117.5001429, &quot;Time&quot;: &quot;11/12/2020 1:48&quot;, &quot;Variety&quot;: &quot;43Y23 RR&quot;, &quot;__folium_color&quot;: &quot;#38049a&quot;, &quot;sample_id&quot;: &quot;bf66_sample_1&quot;}, &quot;type&quot;: &quot;Feature&quot;}, {&quot;bbox&quot;: [117.5001431, -31.59452021, 117.5001431, -31.59452021], &quot;geometry&quot;: {&quot;coordinates&quot;: [117.5001431, -31.59452021], &quot;type&quot;: &quot;Point&quot;}, &quot;id&quot;: &quot;208&quot;, &quot;properties&quot;: {&quot;Crop&quot;: 5, &quot;DryYield&quot;: 0.398, &quot;Elevation&quot;: 258.54, &quot;Heading&quot;: 179.5, &quot;Latitude&quot;: -31.59452021, &quot;Longitude&quot;: 117.5001431, &quot;Time&quot;: &quot;11/12/2020 1:49&quot;, &quot;Variety&quot;: &quot;43Y23 RR&quot;, &quot;__folium_color&quot;: &quot;#280592&quot;, &quot;sample_id&quot;: &quot;bf66_sample_1&quot;}, &quot;type&quot;: &quot;Feature&quot;}, {&quot;bbox&quot;: [117.5001426, -31.59663762, 117.5001426, -31.59663762], &quot;geometry&quot;: {&quot;coordinates&quot;: [117.5001426, -31.59663762], &quot;type&quot;: &quot;Point&quot;}, &quot;id&quot;: &quot;209&quot;, &quot;properties&quot;: {&quot;Crop&quot;: 5, &quot;DryYield&quot;: 0.149, &quot;Elevation&quot;: 258.45, &quot;Heading&quot;: 180.0, &quot;Latitude&quot;: -31.59663762, &quot;Longitude&quot;: 117.5001426, &quot;Time&quot;: &quot;11/12/2020 1:50&quot;, &quot;Variety&quot;: &quot;43Y23 RR&quot;, &quot;__folium_color&quot;: &quot;#19068c&quot;, &quot;sample_id&quot;: &quot;bf66_sample_1&quot;}, &quot;type&quot;: &quot;Feature&quot;}, {&quot;bbox&quot;: [117.5001435, -31.59885518, 117.5001435, -31.59885518], &quot;geometry&quot;: {&quot;coordinates&quot;: [117.5001435, -31.59885518], &quot;type&quot;: &quot;Point&quot;}, &quot;id&quot;: &quot;210&quot;, &quot;properties&quot;: {&quot;Crop&quot;: 5, &quot;DryYield&quot;: 0.269, &quot;Elevation&quot;: 258.83, &quot;Heading&quot;: 179.7, &quot;Latitude&quot;: -31.59885518, &quot;Longitude&quot;: 117.5001435, &quot;Time&quot;: &quot;11/12/2020 1:52&quot;, &quot;Variety&quot;: &quot;43Y23 RR&quot;, &quot;__folium_color&quot;: &quot;#20068f&quot;, &quot;sample_id&quot;: &quot;bf66_sample_1&quot;}, &quot;type&quot;: &quot;Feature&quot;}, {&quot;bbox&quot;: [117.4997636, -31.59968643, 117.4997636, -31.59968643], &quot;geometry&quot;: {&quot;coordinates&quot;: [117.4997636, -31.59968643], &quot;type&quot;: &quot;Point&quot;}, &quot;id&quot;: &quot;211&quot;, &quot;properties&quot;: {&quot;Crop&quot;: 5, &quot;DryYield&quot;: 0.234, &quot;Elevation&quot;: 259.12, &quot;Heading&quot;: 0.1, &quot;Latitude&quot;: -31.59968643, &quot;Longitude&quot;: 117.4997636, &quot;Time&quot;: &quot;11/12/2020 1:53&quot;, &quot;Variety&quot;: &quot;43Y23 RR&quot;, &quot;__folium_color&quot;: &quot;#1d068e&quot;, &quot;sample_id&quot;: &quot;bf66_sample_1&quot;}, &quot;type&quot;: &quot;Feature&quot;}, {&quot;bbox&quot;: [117.4997632, -31.59755208, 117.4997632, -31.59755208], &quot;geometry&quot;: {&quot;coordinates&quot;: [117.4997632, -31.59755208], &quot;type&quot;: &quot;Point&quot;}, &quot;id&quot;: &quot;212&quot;, &quot;properties&quot;: {&quot;Crop&quot;: 5, &quot;DryYield&quot;: 0.378, &quot;Elevation&quot;: 259.54, &quot;Heading&quot;: 359.5, &quot;Latitude&quot;: -31.59755208, &quot;Longitude&quot;: 117.4997632, &quot;Time&quot;: &quot;11/12/2020 1:55&quot;, &quot;Variety&quot;: &quot;43Y23 RR&quot;, &quot;__folium_color&quot;: &quot;#260591&quot;, &quot;sample_id&quot;: &quot;bf66_sample_1&quot;}, &quot;type&quot;: &quot;Feature&quot;}, {&quot;bbox&quot;: [117.4997636, -31.59537846, 117.4997636, -31.59537846], &quot;geometry&quot;: {&quot;coordinates&quot;: [117.4997636, -31.59537846], &quot;type&quot;: &quot;Point&quot;}, &quot;id&quot;: &quot;213&quot;, &quot;properties&quot;: {&quot;Crop&quot;: 5, &quot;DryYield&quot;: 0.296, &quot;Elevation&quot;: 259.47, &quot;Heading&quot;: 0.2, &quot;Latitude&quot;: -31.59537846, &quot;Longitude&quot;: 117.4997636, &quot;Time&quot;: &quot;11/12/2020 1:56&quot;, &quot;Variety&quot;: &quot;43Y23 RR&quot;, &quot;__folium_color&quot;: &quot;#220690&quot;, &quot;sample_id&quot;: &quot;bf66_sample_1&quot;}, &quot;type&quot;: &quot;Feature&quot;}, {&quot;bbox&quot;: [117.4997632, -31.59323175, 117.4997632, -31.59323175], &quot;geometry&quot;: {&quot;coordinates&quot;: [117.4997632, -31.59323175], &quot;type&quot;: &quot;Point&quot;}, &quot;id&quot;: &quot;214&quot;, &quot;properties&quot;: {&quot;Crop&quot;: 5, &quot;DryYield&quot;: 0.487, &quot;Elevation&quot;: 259.52, &quot;Heading&quot;: 0.1, &quot;Latitude&quot;: -31.59323175, &quot;Longitude&quot;: 117.4997632, &quot;Time&quot;: &quot;11/12/2020 1:57&quot;, &quot;Variety&quot;: &quot;43Y23 RR&quot;, &quot;__folium_color&quot;: &quot;#2c0594&quot;, &quot;sample_id&quot;: &quot;bf66_sample_1&quot;}, &quot;type&quot;: &quot;Feature&quot;}, {&quot;bbox&quot;: [117.4996368, -31.59182086, 117.4996368, -31.59182086], &quot;geometry&quot;: {&quot;coordinates&quot;: [117.4996368, -31.59182086], &quot;type&quot;: &quot;Point&quot;}, &quot;id&quot;: &quot;215&quot;, &quot;properties&quot;: {&quot;Crop&quot;: 5, &quot;DryYield&quot;: 0.625, &quot;Elevation&quot;: 257.47, &quot;Heading&quot;: 180.4, &quot;Latitude&quot;: -31.59182086, &quot;Longitude&quot;: 117.4996368, &quot;Time&quot;: &quot;11/12/2020 1:59&quot;, &quot;Variety&quot;: &quot;43Y23 RR&quot;, &quot;__folium_color&quot;: &quot;#330597&quot;, &quot;sample_id&quot;: &quot;bf66_sample_1&quot;}, &quot;type&quot;: &quot;Feature&quot;}, {&quot;bbox&quot;: [117.4996373, -31.593449, 117.4996373, -31.593449], &quot;geometry&quot;: {&quot;coordinates&quot;: [117.4996373, -31.593449], &quot;type&quot;: &quot;Point&quot;}, &quot;id&quot;: &quot;216&quot;, &quot;properties&quot;: {&quot;Crop&quot;: 5, &quot;DryYield&quot;: 0.797, &quot;Elevation&quot;: 259.97, &quot;Heading&quot;: 179.8, &quot;Latitude&quot;: -31.593449, &quot;Longitude&quot;: 117.4996373, &quot;Time&quot;: &quot;11/12/2020 2:00&quot;, &quot;Variety&quot;: &quot;43Y23 RR&quot;, &quot;__folium_color&quot;: &quot;#3c049b&quot;, &quot;sample_id&quot;: &quot;bf66_sample_1&quot;}, &quot;type&quot;: &quot;Feature&quot;}, {&quot;bbox&quot;: [117.499637, -31.59522694, 117.499637, -31.59522694], &quot;geometry&quot;: {&quot;coordinates&quot;: [117.499637, -31.59522694], &quot;type&quot;: &quot;Point&quot;}, &quot;id&quot;: &quot;217&quot;, &quot;properties&quot;: {&quot;Crop&quot;: 5, &quot;DryYield&quot;: 0.452, &quot;Elevation&quot;: 259.72, &quot;Heading&quot;: 180.2, &quot;Latitude&quot;: -31.59522694, &quot;Longitude&quot;: 117.499637, &quot;Time&quot;: &quot;11/12/2020 2:01&quot;, &quot;Variety&quot;: &quot;43Y23 RR&quot;, &quot;__folium_color&quot;: &quot;#2a0593&quot;, &quot;sample_id&quot;: &quot;bf66_sample_1&quot;}, &quot;type&quot;: &quot;Feature&quot;}, {&quot;bbox&quot;: [117.4996364, -31.5974119, 117.4996364, -31.5974119], &quot;geometry&quot;: {&quot;coordinates&quot;: [117.4996364, -31.5974119], &quot;type&quot;: &quot;Point&quot;}, &quot;id&quot;: &quot;218&quot;, &quot;properties&quot;: {&quot;Crop&quot;: 5, &quot;DryYield&quot;: 0.568, &quot;Elevation&quot;: 259.7, &quot;Heading&quot;: 180.7, &quot;Latitude&quot;: -31.5974119, &quot;Longitude&quot;: 117.4996364, &quot;Time&quot;: &quot;11/12/2020 2:03&quot;, &quot;Variety&quot;: &quot;43Y23 RR&quot;, &quot;__folium_color&quot;: &quot;#2f0596&quot;, &quot;sample_id&quot;: &quot;bf66_sample_1&quot;}, &quot;type&quot;: &quot;Feature&quot;}, {&quot;bbox&quot;: [117.4996371, -31.59954211, 117.4996371, -31.59954211], &quot;geometry&quot;: {&quot;coordinates&quot;: [117.4996371, -31.59954211], &quot;type&quot;: &quot;Point&quot;}, &quot;id&quot;: &quot;219&quot;, &quot;properties&quot;: {&quot;Crop&quot;: 5, &quot;DryYield&quot;: 0.465, &quot;Elevation&quot;: 259.52, &quot;Heading&quot;: 179.8, &quot;Latitude&quot;: -31.59954211, &quot;Longitude&quot;: 117.4996371, &quot;Time&quot;: &quot;11/12/2020 2:04&quot;, &quot;Variety&quot;: &quot;43Y23 RR&quot;, &quot;__folium_color&quot;: &quot;#2a0593&quot;, &quot;sample_id&quot;: &quot;bf66_sample_1&quot;}, &quot;type&quot;: &quot;Feature&quot;}, {&quot;bbox&quot;: [117.499258, -31.60023333, 117.499258, -31.60023333], &quot;geometry&quot;: {&quot;coordinates&quot;: [117.499258, -31.60023333], &quot;type&quot;: &quot;Point&quot;}, &quot;id&quot;: &quot;220&quot;, &quot;properties&quot;: {&quot;Crop&quot;: 5, &quot;DryYield&quot;: 0.603, &quot;Elevation&quot;: 259.71, &quot;Heading&quot;: 0.6, &quot;Latitude&quot;: -31.60023333, &quot;Longitude&quot;: 117.499258, &quot;Time&quot;: &quot;11/12/2020 2:05&quot;, &quot;Variety&quot;: &quot;43Y23 RR&quot;, &quot;__folium_color&quot;: &quot;#310597&quot;, &quot;sample_id&quot;: &quot;bf66_sample_1&quot;}, &quot;type&quot;: &quot;Feature&quot;}, {&quot;bbox&quot;: [117.4992574, -31.59804522, 117.4992574, -31.59804522], &quot;geometry&quot;: {&quot;coordinates&quot;: [117.4992574, -31.59804522], &quot;type&quot;: &quot;Point&quot;}, &quot;id&quot;: &quot;221&quot;, &quot;properties&quot;: {&quot;Crop&quot;: 5, &quot;DryYield&quot;: 0.426, &quot;Elevation&quot;: 260.49, &quot;Heading&quot;: 0.1, &quot;Latitude&quot;: -31.59804522, &quot;Longitude&quot;: 117.4992574, &quot;Time&quot;: &quot;11/12/2020 2:07&quot;, &quot;Variety&quot;: &quot;43Y23 RR&quot;, &quot;__folium_color&quot;: &quot;#280592&quot;, &quot;sample_id&quot;: &quot;bf66_sample_1&quot;}, &quot;type&quot;: &quot;Feature&quot;}, {&quot;bbox&quot;: [117.4992574, -31.59585155, 117.4992574, -31.59585155], &quot;geometry&quot;: {&quot;coordinates&quot;: [117.4992574, -31.59585155], &quot;type&quot;: &quot;Point&quot;}, &quot;id&quot;: &quot;222&quot;, &quot;properties&quot;: {&quot;Crop&quot;: 5, &quot;DryYield&quot;: 0.476, &quot;Elevation&quot;: 260.41, &quot;Heading&quot;: 359.8, &quot;Latitude&quot;: -31.59585155, &quot;Longitude&quot;: 117.4992574, &quot;Time&quot;: &quot;11/12/2020 2:08&quot;, &quot;Variety&quot;: &quot;43Y23 RR&quot;, &quot;__folium_color&quot;: &quot;#2c0594&quot;, &quot;sample_id&quot;: &quot;bf66_sample_1&quot;}, &quot;type&quot;: &quot;Feature&quot;}, {&quot;bbox&quot;: [117.499258, -31.59368187, 117.499258, -31.59368187], &quot;geometry&quot;: {&quot;coordinates&quot;: [117.499258, -31.59368187], &quot;type&quot;: &quot;Point&quot;}, &quot;id&quot;: &quot;223&quot;, &quot;properties&quot;: {&quot;Crop&quot;: 5, &quot;DryYield&quot;: 0.522, &quot;Elevation&quot;: 260.98, &quot;Heading&quot;: 0.3, &quot;Latitude&quot;: -31.59368187, &quot;Longitude&quot;: 117.499258, &quot;Time&quot;: &quot;11/12/2020 2:09&quot;, &quot;Variety&quot;: &quot;43Y23 RR&quot;, &quot;__folium_color&quot;: &quot;#2e0595&quot;, &quot;sample_id&quot;: &quot;bf66_sample_1&quot;}, &quot;type&quot;: &quot;Feature&quot;}, {&quot;bbox&quot;: [117.499258, -31.59160652, 117.499258, -31.59160652], &quot;geometry&quot;: {&quot;coordinates&quot;: [117.499258, -31.59160652], &quot;type&quot;: &quot;Point&quot;}, &quot;id&quot;: &quot;224&quot;, &quot;properties&quot;: {&quot;Crop&quot;: 5, &quot;DryYield&quot;: 0.274, &quot;Elevation&quot;: 258.11, &quot;Heading&quot;: 0.2, &quot;Latitude&quot;: -31.59160652, &quot;Longitude&quot;: 117.499258, &quot;Time&quot;: &quot;11/12/2020 2:11&quot;, &quot;Variety&quot;: &quot;43Y23 RR&quot;, &quot;__folium_color&quot;: &quot;#20068f&quot;, &quot;sample_id&quot;: &quot;bf66_sample_1&quot;}, &quot;type&quot;: &quot;Feature&quot;}, {&quot;bbox&quot;: [117.4991314, -31.59341254, 117.4991314, -31.59341254], &quot;geometry&quot;: {&quot;coordinates&quot;: [117.4991314, -31.59341254], &quot;type&quot;: &quot;Point&quot;}, &quot;id&quot;: &quot;225&quot;, &quot;properties&quot;: {&quot;Crop&quot;: 5, &quot;DryYield&quot;: 0.389, &quot;Elevation&quot;: 261.17, &quot;Heading&quot;: 179.9, &quot;Latitude&quot;: -31.59341254, &quot;Longitude&quot;: 117.4991314, &quot;Time&quot;: &quot;11/12/2020 2:12&quot;, &quot;Variety&quot;: &quot;43Y23 RR&quot;, &quot;__folium_color&quot;: &quot;#260591&quot;, &quot;sample_id&quot;: &quot;bf66_sample_1&quot;}, &quot;type&quot;: &quot;Feature&quot;}, {&quot;bbox&quot;: [117.499131, -31.59568808, 117.499131, -31.59568808], &quot;geometry&quot;: {&quot;coordinates&quot;: [117.499131, -31.59568808], &quot;type&quot;: &quot;Point&quot;}, &quot;id&quot;: &quot;226&quot;, &quot;properties&quot;: {&quot;Crop&quot;: 5, &quot;DryYield&quot;: 0.286, &quot;Elevation&quot;: 260.63, &quot;Heading&quot;: 179.9, &quot;Latitude&quot;: -31.59568808, &quot;Longitude&quot;: 117.499131, &quot;Time&quot;: &quot;11/12/2020 2:13&quot;, &quot;Variety&quot;: &quot;43Y23 RR&quot;, &quot;__folium_color&quot;: &quot;#20068f&quot;, &quot;sample_id&quot;: &quot;bf66_sample_1&quot;}, &quot;type&quot;: &quot;Feature&quot;}, {&quot;bbox&quot;: [117.4991312, -31.59791531, 117.4991312, -31.59791531], &quot;geometry&quot;: {&quot;coordinates&quot;: [117.4991312, -31.59791531], &quot;type&quot;: &quot;Point&quot;}, &quot;id&quot;: &quot;227&quot;, &quot;properties&quot;: {&quot;Crop&quot;: 5, &quot;DryYield&quot;: 0.588, &quot;Elevation&quot;: 260.72, &quot;Heading&quot;: 179.7, &quot;Latitude&quot;: -31.59791531, &quot;Longitude&quot;: 117.4991312, &quot;Time&quot;: &quot;11/12/2020 2:15&quot;, &quot;Variety&quot;: &quot;43Y23 RR&quot;, &quot;__folium_color&quot;: &quot;#310597&quot;, &quot;sample_id&quot;: &quot;bf66_sample_1&quot;}, &quot;type&quot;: &quot;Feature&quot;}, {&quot;bbox&quot;: [117.4991312, -31.59995666, 117.4991312, -31.59995666], &quot;geometry&quot;: {&quot;coordinates&quot;: [117.4991312, -31.59995666], &quot;type&quot;: &quot;Point&quot;}, &quot;id&quot;: &quot;228&quot;, &quot;properties&quot;: {&quot;Crop&quot;: 5, &quot;DryYield&quot;: 0.406, &quot;Elevation&quot;: 260.35, &quot;Heading&quot;: 180.3, &quot;Latitude&quot;: -31.59995666, &quot;Longitude&quot;: 117.4991312, &quot;Time&quot;: &quot;11/12/2020 2:16&quot;, &quot;Variety&quot;: &quot;43Y23 RR&quot;, &quot;__folium_color&quot;: &quot;#280592&quot;, &quot;sample_id&quot;: &quot;bf66_sample_1&quot;}, &quot;type&quot;: &quot;Feature&quot;}, {&quot;bbox&quot;: [117.4987517, -31.60091673, 117.4987517, -31.60091673], &quot;geometry&quot;: {&quot;coordinates&quot;: [117.4987517, -31.60091673], &quot;type&quot;: &quot;Point&quot;}, &quot;id&quot;: &quot;229&quot;, &quot;properties&quot;: {&quot;Crop&quot;: 5, &quot;DryYield&quot;: 0.415, &quot;Elevation&quot;: 260.38, &quot;Heading&quot;: 0.2, &quot;Latitude&quot;: -31.60091673, &quot;Longitude&quot;: 117.4987517, &quot;Time&quot;: &quot;11/12/2020 2:18&quot;, &quot;Variety&quot;: &quot;43Y23 RR&quot;, &quot;__folium_color&quot;: &quot;#280592&quot;, &quot;sample_id&quot;: &quot;bf66_sample_1&quot;}, &quot;type&quot;: &quot;Feature&quot;}, {&quot;bbox&quot;: [117.498752, -31.59886223, 117.498752, -31.59886223], &quot;geometry&quot;: {&quot;coordinates&quot;: [117.498752, -31.59886223], &quot;type&quot;: &quot;Point&quot;}, &quot;id&quot;: &quot;230&quot;, &quot;properties&quot;: {&quot;Crop&quot;: 5, &quot;DryYield&quot;: 0.403, &quot;Elevation&quot;: 261.71, &quot;Heading&quot;: 360.0, &quot;Latitude&quot;: -31.59886223, &quot;Longitude&quot;: 117.498752, &quot;Time&quot;: &quot;11/12/2020 2:19&quot;, &quot;Variety&quot;: &quot;43Y23 RR&quot;, &quot;__folium_color&quot;: &quot;#280592&quot;, &quot;sample_id&quot;: &quot;bf66_sample_1&quot;}, &quot;type&quot;: &quot;Feature&quot;}, {&quot;bbox&quot;: [117.4987515, -31.59667623, 117.4987515, -31.59667623], &quot;geometry&quot;: {&quot;coordinates&quot;: [117.4987515, -31.59667623], &quot;type&quot;: &quot;Point&quot;}, &quot;id&quot;: &quot;231&quot;, &quot;properties&quot;: {&quot;Crop&quot;: 5, &quot;DryYield&quot;: 0.471, &quot;Elevation&quot;: 261.51, &quot;Heading&quot;: 0.1, &quot;Latitude&quot;: -31.59667623, &quot;Longitude&quot;: 117.4987515, &quot;Time&quot;: &quot;11/12/2020 2:20&quot;, &quot;Variety&quot;: &quot;43Y23 RR&quot;, &quot;__folium_color&quot;: &quot;#2c0594&quot;, &quot;sample_id&quot;: &quot;bf66_sample_1&quot;}, &quot;type&quot;: &quot;Feature&quot;}, {&quot;bbox&quot;: [117.4987518, -31.59457429, 117.4987518, -31.59457429], &quot;geometry&quot;: {&quot;coordinates&quot;: [117.4987518, -31.59457429], &quot;type&quot;: &quot;Point&quot;}, &quot;id&quot;: &quot;232&quot;, &quot;properties&quot;: {&quot;Crop&quot;: 5, &quot;DryYield&quot;: 0.459, &quot;Elevation&quot;: 262.2, &quot;Heading&quot;: 0.2, &quot;Latitude&quot;: -31.59457429, &quot;Longitude&quot;: 117.4987518, &quot;Time&quot;: &quot;11/12/2020 2:21&quot;, &quot;Variety&quot;: &quot;43Y23 RR&quot;, &quot;__folium_color&quot;: &quot;#2a0593&quot;, &quot;sample_id&quot;: &quot;bf66_sample_1&quot;}, &quot;type&quot;: &quot;Feature&quot;}, {&quot;bbox&quot;: [117.4987518, -31.59237257, 117.4987518, -31.59237257], &quot;geometry&quot;: {&quot;coordinates&quot;: [117.4987518, -31.59237257], &quot;type&quot;: &quot;Point&quot;}, &quot;id&quot;: &quot;233&quot;, &quot;properties&quot;: {&quot;Crop&quot;: 5, &quot;DryYield&quot;: 0.847, &quot;Elevation&quot;: 260.52, &quot;Heading&quot;: 0.3, &quot;Latitude&quot;: -31.59237257, &quot;Longitude&quot;: 117.4987518, &quot;Time&quot;: &quot;11/12/2020 2:23&quot;, &quot;Variety&quot;: &quot;43Y23 RR&quot;, &quot;__folium_color&quot;: &quot;#3e049c&quot;, &quot;sample_id&quot;: &quot;bf66_sample_1&quot;}, &quot;type&quot;: &quot;Feature&quot;}, {&quot;bbox&quot;: [117.4986258, -31.59254554, 117.4986258, -31.59254554], &quot;geometry&quot;: {&quot;coordinates&quot;: [117.4986258, -31.59254554], &quot;type&quot;: &quot;Point&quot;}, &quot;id&quot;: &quot;234&quot;, &quot;properties&quot;: {&quot;Crop&quot;: 5, &quot;DryYield&quot;: 0.762, &quot;Elevation&quot;: 261.1, &quot;Heading&quot;: 179.4, &quot;Latitude&quot;: -31.59254554, &quot;Longitude&quot;: 117.4986258, &quot;Time&quot;: &quot;11/12/2020 2:24&quot;, &quot;Variety&quot;: &quot;43Y23 RR&quot;, &quot;__folium_color&quot;: &quot;#3a049a&quot;, &quot;sample_id&quot;: &quot;bf66_sample_1&quot;}, &quot;type&quot;: &quot;Feature&quot;}, {&quot;bbox&quot;: [117.4986249, -31.59476748, 117.4986249, -31.59476748], &quot;geometry&quot;: {&quot;coordinates&quot;: [117.4986249, -31.59476748], &quot;type&quot;: &quot;Point&quot;}, &quot;id&quot;: &quot;235&quot;, &quot;properties&quot;: {&quot;Crop&quot;: 5, &quot;DryYield&quot;: 0.163, &quot;Elevation&quot;: 262.58, &quot;Heading&quot;: 180.6, &quot;Latitude&quot;: -31.59476748, &quot;Longitude&quot;: 117.4986249, &quot;Time&quot;: &quot;11/12/2020 2:26&quot;, &quot;Variety&quot;: &quot;43Y23 RR&quot;, &quot;__folium_color&quot;: &quot;#19068c&quot;, &quot;sample_id&quot;: &quot;bf66_sample_1&quot;}, &quot;type&quot;: &quot;Feature&quot;}, {&quot;bbox&quot;: [117.4986259, -31.59686405, 117.4986259, -31.59686405], &quot;geometry&quot;: {&quot;coordinates&quot;: [117.4986259, -31.59686405], &quot;type&quot;: &quot;Point&quot;}, &quot;id&quot;: &quot;236&quot;, &quot;properties&quot;: {&quot;Crop&quot;: 5, &quot;DryYield&quot;: 0.344, &quot;Elevation&quot;: 261.61, &quot;Heading&quot;: 179.5, &quot;Latitude&quot;: -31.59686405, &quot;Longitude&quot;: 117.4986259, &quot;Time&quot;: &quot;11/12/2020 2:27&quot;, &quot;Variety&quot;: &quot;43Y23 RR&quot;, &quot;__folium_color&quot;: &quot;#240691&quot;, &quot;sample_id&quot;: &quot;bf66_sample_1&quot;}, &quot;type&quot;: &quot;Feature&quot;}, {&quot;bbox&quot;: [117.4986249, -31.59904361, 117.4986249, -31.59904361], &quot;geometry&quot;: {&quot;coordinates&quot;: [117.4986249, -31.59904361], &quot;type&quot;: &quot;Point&quot;}, &quot;id&quot;: &quot;237&quot;, &quot;properties&quot;: {&quot;Crop&quot;: 5, &quot;DryYield&quot;: 0.563, &quot;Elevation&quot;: 261.94, &quot;Heading&quot;: 180.5, &quot;Latitude&quot;: -31.59904361, &quot;Longitude&quot;: 117.4986249, &quot;Time&quot;: &quot;11/12/2020 2:28&quot;, &quot;Variety&quot;: &quot;43Y23 RR&quot;, &quot;__folium_color&quot;: &quot;#2f0596&quot;, &quot;sample_id&quot;: &quot;bf66_sample_1&quot;}, &quot;type&quot;: &quot;Feature&quot;}, {&quot;bbox&quot;: [117.4986254, -31.60105583, 117.4986254, -31.60105583], &quot;geometry&quot;: {&quot;coordinates&quot;: [117.4986254, -31.60105583], &quot;type&quot;: &quot;Point&quot;}, &quot;id&quot;: &quot;238&quot;, &quot;properties&quot;: {&quot;Crop&quot;: 5, &quot;DryYield&quot;: 0.351, &quot;Elevation&quot;: 260.65, &quot;Heading&quot;: 179.8, &quot;Latitude&quot;: -31.60105583, &quot;Longitude&quot;: 117.4986254, &quot;Time&quot;: &quot;11/12/2020 2:29&quot;, &quot;Variety&quot;: &quot;43Y23 RR&quot;, &quot;__folium_color&quot;: &quot;#240691&quot;, &quot;sample_id&quot;: &quot;bf66_sample_1&quot;}, &quot;type&quot;: &quot;Feature&quot;}, {&quot;bbox&quot;: [117.4982461, -31.60079801, 117.4982461, -31.60079801], &quot;geometry&quot;: {&quot;coordinates&quot;: [117.4982461, -31.60079801], &quot;type&quot;: &quot;Point&quot;}, &quot;id&quot;: &quot;239&quot;, &quot;properties&quot;: {&quot;Crop&quot;: 5, &quot;DryYield&quot;: 0.635, &quot;Elevation&quot;: 261.93, &quot;Heading&quot;: 0.3, &quot;Latitude&quot;: -31.60079801, &quot;Longitude&quot;: 117.4982461, &quot;Time&quot;: &quot;11/12/2020 2:31&quot;, &quot;Variety&quot;: &quot;43Y23 RR&quot;, &quot;__folium_color&quot;: &quot;#330597&quot;, &quot;sample_id&quot;: &quot;bf66_sample_1&quot;}, &quot;type&quot;: &quot;Feature&quot;}, {&quot;bbox&quot;: [117.4982457, -31.5989805, 117.4982457, -31.5989805], &quot;geometry&quot;: {&quot;coordinates&quot;: [117.4982457, -31.5989805], &quot;type&quot;: &quot;Point&quot;}, &quot;id&quot;: &quot;240&quot;, &quot;properties&quot;: {&quot;Crop&quot;: 5, &quot;DryYield&quot;: 0.793, &quot;Elevation&quot;: 262.9, &quot;Heading&quot;: 359.6, &quot;Latitude&quot;: -31.5989805, &quot;Longitude&quot;: 117.4982457, &quot;Time&quot;: &quot;11/12/2020 2:32&quot;, &quot;Variety&quot;: &quot;43Y23 RR&quot;, &quot;__folium_color&quot;: &quot;#3a049a&quot;, &quot;sample_id&quot;: &quot;bf66_sample_1&quot;}, &quot;type&quot;: &quot;Feature&quot;}, {&quot;bbox&quot;: [117.4982461, -31.59700929, 117.4982461, -31.59700929], &quot;geometry&quot;: {&quot;coordinates&quot;: [117.4982461, -31.59700929], &quot;type&quot;: &quot;Point&quot;}, &quot;id&quot;: &quot;241&quot;, &quot;properties&quot;: {&quot;Crop&quot;: 5, &quot;DryYield&quot;: 0.493, &quot;Elevation&quot;: 262.72, &quot;Heading&quot;: 359.6, &quot;Latitude&quot;: -31.59700929, &quot;Longitude&quot;: 117.4982461, &quot;Time&quot;: &quot;11/12/2020 2:34&quot;, &quot;Variety&quot;: &quot;43Y23 RR&quot;, &quot;__folium_color&quot;: &quot;#2c0594&quot;, &quot;sample_id&quot;: &quot;bf66_sample_1&quot;}, &quot;type&quot;: &quot;Feature&quot;}, {&quot;bbox&quot;: [117.4982461, -31.59487641, 117.4982461, -31.59487641], &quot;geometry&quot;: {&quot;coordinates&quot;: [117.4982461, -31.59487641], &quot;type&quot;: &quot;Point&quot;}, &quot;id&quot;: &quot;242&quot;, &quot;properties&quot;: {&quot;Crop&quot;: 5, &quot;DryYield&quot;: 0.331, &quot;Elevation&quot;: 262.87, &quot;Heading&quot;: 0.1, &quot;Latitude&quot;: -31.59487641, &quot;Longitude&quot;: 117.4982461, &quot;Time&quot;: &quot;11/12/2020 2:35&quot;, &quot;Variety&quot;: &quot;43Y23 RR&quot;, &quot;__folium_color&quot;: &quot;#240691&quot;, &quot;sample_id&quot;: &quot;bf66_sample_1&quot;}, &quot;type&quot;: &quot;Feature&quot;}, {&quot;bbox&quot;: [117.4982459, -31.5927467, 117.4982459, -31.5927467], &quot;geometry&quot;: {&quot;coordinates&quot;: [117.4982459, -31.5927467], &quot;type&quot;: &quot;Point&quot;}, &quot;id&quot;: &quot;243&quot;, &quot;properties&quot;: {&quot;Crop&quot;: 5, &quot;DryYield&quot;: 0.525, &quot;Elevation&quot;: 262.31, &quot;Heading&quot;: 359.8, &quot;Latitude&quot;: -31.5927467, &quot;Longitude&quot;: 117.4982459, &quot;Time&quot;: &quot;11/12/2020 2:36&quot;, &quot;Variety&quot;: &quot;43Y23 RR&quot;, &quot;__folium_color&quot;: &quot;#2e0595&quot;, &quot;sample_id&quot;: &quot;bf66_sample_1&quot;}, &quot;type&quot;: &quot;Feature&quot;}, {&quot;bbox&quot;: [117.4981193, -31.59216206, 117.4981193, -31.59216206], &quot;geometry&quot;: {&quot;coordinates&quot;: [117.4981193, -31.59216206], &quot;type&quot;: &quot;Point&quot;}, &quot;id&quot;: &quot;244&quot;, &quot;properties&quot;: {&quot;Crop&quot;: 5, &quot;DryYield&quot;: 0.887, &quot;Elevation&quot;: 261.22, &quot;Heading&quot;: 179.6, &quot;Latitude&quot;: -31.59216206, &quot;Longitude&quot;: 117.4981193, &quot;Time&quot;: &quot;11/12/2020 2:38&quot;, &quot;Variety&quot;: &quot;43Y23 RR&quot;, &quot;__folium_color&quot;: &quot;#3f049c&quot;, &quot;sample_id&quot;: &quot;bf66_sample_1&quot;}, &quot;type&quot;: &quot;Feature&quot;}, {&quot;bbox&quot;: [117.4981193, -31.59415267, 117.4981193, -31.59415267], &quot;geometry&quot;: {&quot;coordinates&quot;: [117.4981193, -31.59415267], &quot;type&quot;: &quot;Point&quot;}, &quot;id&quot;: &quot;245&quot;, &quot;properties&quot;: {&quot;Crop&quot;: 5, &quot;DryYield&quot;: 0.366, &quot;Elevation&quot;: 263.83, &quot;Heading&quot;: 180.8, &quot;Latitude&quot;: -31.59415267, &quot;Longitude&quot;: 117.4981193, &quot;Time&quot;: &quot;11/12/2020 2:39&quot;, &quot;Variety&quot;: &quot;43Y23 RR&quot;, &quot;__folium_color&quot;: &quot;#260591&quot;, &quot;sample_id&quot;: &quot;bf66_sample_1&quot;}, &quot;type&quot;: &quot;Feature&quot;}, {&quot;bbox&quot;: [117.4981196, -31.59626381, 117.4981196, -31.59626381], &quot;geometry&quot;: {&quot;coordinates&quot;: [117.4981196, -31.59626381], &quot;type&quot;: &quot;Point&quot;}, &quot;id&quot;: &quot;246&quot;, &quot;properties&quot;: {&quot;Crop&quot;: 5, &quot;DryYield&quot;: 0.223, &quot;Elevation&quot;: 263.94, &quot;Heading&quot;: 179.1, &quot;Latitude&quot;: -31.59626381, &quot;Longitude&quot;: 117.4981196, &quot;Time&quot;: &quot;11/12/2020 2:40&quot;, &quot;Variety&quot;: &quot;43Y23 RR&quot;, &quot;__folium_color&quot;: &quot;#1d068e&quot;, &quot;sample_id&quot;: &quot;bf66_sample_1&quot;}, &quot;type&quot;: &quot;Feature&quot;}, {&quot;bbox&quot;: [117.4981191, -31.59824637, 117.4981191, -31.59824637], &quot;geometry&quot;: {&quot;coordinates&quot;: [117.4981191, -31.59824637], &quot;type&quot;: &quot;Point&quot;}, &quot;id&quot;: &quot;247&quot;, &quot;properties&quot;: {&quot;Crop&quot;: 5, &quot;DryYield&quot;: 0.591, &quot;Elevation&quot;: 263.14, &quot;Heading&quot;: 180.8, &quot;Latitude&quot;: -31.59824637, &quot;Longitude&quot;: 117.4981191, &quot;Time&quot;: &quot;11/12/2020 2:42&quot;, &quot;Variety&quot;: &quot;43Y23 RR&quot;, &quot;__folium_color&quot;: &quot;#310597&quot;, &quot;sample_id&quot;: &quot;bf66_sample_1&quot;}, &quot;type&quot;: &quot;Feature&quot;}, {&quot;bbox&quot;: [117.4981198, -31.60006329, 117.4981198, -31.60006329], &quot;geometry&quot;: {&quot;coordinates&quot;: [117.4981198, -31.60006329], &quot;type&quot;: &quot;Point&quot;}, &quot;id&quot;: &quot;248&quot;, &quot;properties&quot;: {&quot;Crop&quot;: 5, &quot;DryYield&quot;: 0.915, &quot;Elevation&quot;: 263.26, &quot;Heading&quot;: 180.0, &quot;Latitude&quot;: -31.60006329, &quot;Longitude&quot;: 117.4981198, &quot;Time&quot;: &quot;11/12/2020 2:43&quot;, &quot;Variety&quot;: &quot;43Y23 RR&quot;, &quot;__folium_color&quot;: &quot;#41049d&quot;, &quot;sample_id&quot;: &quot;bf66_sample_1&quot;}, &quot;type&quot;: &quot;Feature&quot;}, {&quot;bbox&quot;: [117.4980687, -31.6018555, 117.4980687, -31.6018555], &quot;geometry&quot;: {&quot;coordinates&quot;: [117.4980687, -31.6018555], &quot;type&quot;: &quot;Point&quot;}, &quot;id&quot;: &quot;249&quot;, &quot;properties&quot;: {&quot;Crop&quot;: 5, &quot;DryYield&quot;: 1.328, &quot;Elevation&quot;: 261.01, &quot;Heading&quot;: 179.9, &quot;Latitude&quot;: -31.6018555, &quot;Longitude&quot;: 117.4980687, &quot;Time&quot;: &quot;11/12/2020 2:44&quot;, &quot;Variety&quot;: &quot;43Y23 RR&quot;, &quot;__folium_color&quot;: &quot;#5302a3&quot;, &quot;sample_id&quot;: &quot;bf66_sample_1&quot;}, &quot;type&quot;: &quot;Feature&quot;}, {&quot;bbox&quot;: [117.4977403, -31.60111512, 117.4977403, -31.60111512], &quot;geometry&quot;: {&quot;coordinates&quot;: [117.4977403, -31.60111512], &quot;type&quot;: &quot;Point&quot;}, &quot;id&quot;: &quot;250&quot;, &quot;properties&quot;: {&quot;Crop&quot;: 5, &quot;DryYield&quot;: 0.866, &quot;Elevation&quot;: 263.19, &quot;Heading&quot;: 0.1, &quot;Latitude&quot;: -31.60111512, &quot;Longitude&quot;: 117.4977403, &quot;Time&quot;: &quot;11/12/2020 2:46&quot;, &quot;Variety&quot;: &quot;43Y23 RR&quot;, &quot;__folium_color&quot;: &quot;#3e049c&quot;, &quot;sample_id&quot;: &quot;bf66_sample_1&quot;}, &quot;type&quot;: &quot;Feature&quot;}, {&quot;bbox&quot;: [117.4977405, -31.59950382, 117.4977405, -31.59950382], &quot;geometry&quot;: {&quot;coordinates&quot;: [117.4977405, -31.59950382], &quot;type&quot;: &quot;Point&quot;}, &quot;id&quot;: &quot;251&quot;, &quot;properties&quot;: {&quot;Crop&quot;: 5, &quot;DryYield&quot;: 1.028, &quot;Elevation&quot;: 264.55, &quot;Heading&quot;: 0.2, &quot;Latitude&quot;: -31.59950382, &quot;Longitude&quot;: 117.4977405, &quot;Time&quot;: &quot;11/12/2020 2:47&quot;, &quot;Variety&quot;: &quot;43Y23 RR&quot;, &quot;__folium_color&quot;: &quot;#46039f&quot;, &quot;sample_id&quot;: &quot;bf66_sample_1&quot;}, &quot;type&quot;: &quot;Feature&quot;}, {&quot;bbox&quot;: [117.4977403, -31.59785127, 117.4977403, -31.59785127], &quot;geometry&quot;: {&quot;coordinates&quot;: [117.4977403, -31.59785127], &quot;type&quot;: &quot;Point&quot;}, &quot;id&quot;: &quot;252&quot;, &quot;properties&quot;: {&quot;Crop&quot;: 5, &quot;DryYield&quot;: 0.559, &quot;Elevation&quot;: 263.71, &quot;Heading&quot;: 359.6, &quot;Latitude&quot;: -31.59785127, &quot;Longitude&quot;: 117.4977403, &quot;Time&quot;: &quot;11/12/2020 2:48&quot;, &quot;Variety&quot;: &quot;43Y23 RR&quot;, &quot;__folium_color&quot;: &quot;#2f0596&quot;, &quot;sample_id&quot;: &quot;bf66_sample_1&quot;}, &quot;type&quot;: &quot;Feature&quot;}, {&quot;bbox&quot;: [117.4977405, -31.59593106, 117.4977405, -31.59593106], &quot;geometry&quot;: {&quot;coordinates&quot;: [117.4977405, -31.59593106], &quot;type&quot;: &quot;Point&quot;}, &quot;id&quot;: &quot;253&quot;, &quot;properties&quot;: {&quot;Crop&quot;: 5, &quot;DryYield&quot;: 0.353, &quot;Elevation&quot;: 263.96, &quot;Heading&quot;: 0.3, &quot;Latitude&quot;: -31.59593106, &quot;Longitude&quot;: 117.4977405, &quot;Time&quot;: &quot;11/12/2020 2:50&quot;, &quot;Variety&quot;: &quot;43Y23 RR&quot;, &quot;__folium_color&quot;: &quot;#240691&quot;, &quot;sample_id&quot;: &quot;bf66_sample_1&quot;}, &quot;type&quot;: &quot;Feature&quot;}, {&quot;bbox&quot;: [117.4977403, -31.59386311, 117.4977403, -31.59386311], &quot;geometry&quot;: {&quot;coordinates&quot;: [117.4977403, -31.59386311], &quot;type&quot;: &quot;Point&quot;}, &quot;id&quot;: &quot;254&quot;, &quot;properties&quot;: {&quot;Crop&quot;: 5, &quot;DryYield&quot;: 0.483, &quot;Elevation&quot;: 265.06, &quot;Heading&quot;: 0.2, &quot;Latitude&quot;: -31.59386311, &quot;Longitude&quot;: 117.4977403, &quot;Time&quot;: &quot;11/12/2020 2:51&quot;, &quot;Variety&quot;: &quot;43Y23 RR&quot;, &quot;__folium_color&quot;: &quot;#2c0594&quot;, &quot;sample_id&quot;: &quot;bf66_sample_1&quot;}, &quot;type&quot;: &quot;Feature&quot;}, {&quot;bbox&quot;: [117.4977403, -31.59199629, 117.4977403, -31.59199629], &quot;geometry&quot;: {&quot;coordinates&quot;: [117.4977403, -31.59199629], &quot;type&quot;: &quot;Point&quot;}, &quot;id&quot;: &quot;255&quot;, &quot;properties&quot;: {&quot;Crop&quot;: 5, &quot;DryYield&quot;: 0.922, &quot;Elevation&quot;: 262.03, &quot;Heading&quot;: 359.9, &quot;Latitude&quot;: -31.59199629, &quot;Longitude&quot;: 117.4977403, &quot;Time&quot;: &quot;11/12/2020 2:52&quot;, &quot;Variety&quot;: &quot;43Y23 RR&quot;, &quot;__folium_color&quot;: &quot;#41049d&quot;, &quot;sample_id&quot;: &quot;bf66_sample_1&quot;}, &quot;type&quot;: &quot;Feature&quot;}, {&quot;bbox&quot;: [117.497614, -31.59260835, 117.497614, -31.59260835], &quot;geometry&quot;: {&quot;coordinates&quot;: [117.497614, -31.59260835], &quot;type&quot;: &quot;Point&quot;}, &quot;id&quot;: &quot;256&quot;, &quot;properties&quot;: {&quot;Crop&quot;: 5, &quot;DryYield&quot;: 0.765, &quot;Elevation&quot;: 263.29, &quot;Heading&quot;: 179.8, &quot;Latitude&quot;: -31.59260835, &quot;Longitude&quot;: 117.497614, &quot;Time&quot;: &quot;11/12/2020 2:54&quot;, &quot;Variety&quot;: &quot;43Y23 RR&quot;, &quot;__folium_color&quot;: &quot;#3a049a&quot;, &quot;sample_id&quot;: &quot;bf66_sample_1&quot;}, &quot;type&quot;: &quot;Feature&quot;}, {&quot;bbox&quot;: [117.4995105, -31.59642483, 117.4995105, -31.59642483], &quot;geometry&quot;: {&quot;coordinates&quot;: [117.4995105, -31.59642483], &quot;type&quot;: &quot;Point&quot;}, &quot;id&quot;: &quot;257&quot;, &quot;properties&quot;: {&quot;Crop&quot;: 5, &quot;DryYield&quot;: 0.382, &quot;Elevation&quot;: 259.95, &quot;Heading&quot;: 180.1, &quot;Latitude&quot;: -31.59642483, &quot;Longitude&quot;: 117.4995105, &quot;Time&quot;: &quot;11/12/2020 2:04&quot;, &quot;Variety&quot;: &quot;43Y23 RR&quot;, &quot;__folium_color&quot;: &quot;#260591&quot;, &quot;sample_id&quot;: &quot;bf66_sample_1&quot;}, &quot;type&quot;: &quot;Feature&quot;}, {&quot;bbox&quot;: [117.4995107, -31.59859812, 117.4995107, -31.59859812], &quot;geometry&quot;: {&quot;coordinates&quot;: [117.4995107, -31.59859812], &quot;type&quot;: &quot;Point&quot;}, &quot;id&quot;: &quot;258&quot;, &quot;properties&quot;: {&quot;Crop&quot;: 5, &quot;DryYield&quot;: 0.484, &quot;Elevation&quot;: 260.26, &quot;Heading&quot;: 179.9, &quot;Latitude&quot;: -31.59859812, &quot;Longitude&quot;: 117.4995107, &quot;Time&quot;: &quot;11/12/2020 2:05&quot;, &quot;Variety&quot;: &quot;43Y23 RR&quot;, &quot;__folium_color&quot;: &quot;#2c0594&quot;, &quot;sample_id&quot;: &quot;bf66_sample_1&quot;}, &quot;type&quot;: &quot;Feature&quot;}, {&quot;bbox&quot;: [117.4993826, -31.60046895, 117.4993826, -31.60046895], &quot;geometry&quot;: {&quot;coordinates&quot;: [117.4993826, -31.60046895], &quot;type&quot;: &quot;Point&quot;}, &quot;id&quot;: &quot;259&quot;, &quot;properties&quot;: {&quot;Crop&quot;: 5, &quot;DryYield&quot;: 0.406, &quot;Elevation&quot;: 259.45, &quot;Heading&quot;: 359.1, &quot;Latitude&quot;: -31.60046895, &quot;Longitude&quot;: 117.4993826, &quot;Time&quot;: &quot;11/12/2020 2:07&quot;, &quot;Variety&quot;: &quot;43Y23 RR&quot;, &quot;__folium_color&quot;: &quot;#280592&quot;, &quot;sample_id&quot;: &quot;bf66_sample_1&quot;}, &quot;type&quot;: &quot;Feature&quot;}, {&quot;bbox&quot;: [117.4993844, -31.59844829, 117.4993844, -31.59844829], &quot;geometry&quot;: {&quot;coordinates&quot;: [117.4993844, -31.59844829], &quot;type&quot;: &quot;Point&quot;}, &quot;id&quot;: &quot;260&quot;, &quot;properties&quot;: {&quot;Crop&quot;: 5, &quot;DryYield&quot;: 0.46, &quot;Elevation&quot;: 260.51, &quot;Heading&quot;: 0.2, &quot;Latitude&quot;: -31.59844829, &quot;Longitude&quot;: 117.4993844, &quot;Time&quot;: &quot;11/12/2020 2:08&quot;, &quot;Variety&quot;: &quot;43Y23 RR&quot;, &quot;__folium_color&quot;: &quot;#2a0593&quot;, &quot;sample_id&quot;: &quot;bf66_sample_1&quot;}, &quot;type&quot;: &quot;Feature&quot;}, {&quot;bbox&quot;: [117.4993839, -31.59627239, 117.4993839, -31.59627239], &quot;geometry&quot;: {&quot;coordinates&quot;: [117.4993839, -31.59627239], &quot;type&quot;: &quot;Point&quot;}, &quot;id&quot;: &quot;261&quot;, &quot;properties&quot;: {&quot;Crop&quot;: 5, &quot;DryYield&quot;: 0.409, &quot;Elevation&quot;: 260.36, &quot;Heading&quot;: 359.7, &quot;Latitude&quot;: -31.59627239, &quot;Longitude&quot;: 117.4993839, &quot;Time&quot;: &quot;11/12/2020 2:09&quot;, &quot;Variety&quot;: &quot;43Y23 RR&quot;, &quot;__folium_color&quot;: &quot;#280592&quot;, &quot;sample_id&quot;: &quot;bf66_sample_1&quot;}, &quot;type&quot;: &quot;Feature&quot;}, {&quot;bbox&quot;: [117.4993839, -31.59407791, 117.4993839, -31.59407791], &quot;geometry&quot;: {&quot;coordinates&quot;: [117.4993839, -31.59407791], &quot;type&quot;: &quot;Point&quot;}, &quot;id&quot;: &quot;262&quot;, &quot;properties&quot;: {&quot;Crop&quot;: 5, &quot;DryYield&quot;: 0.534, &quot;Elevation&quot;: 260.87, &quot;Heading&quot;: 0.1, &quot;Latitude&quot;: -31.59407791, &quot;Longitude&quot;: 117.4993839, &quot;Time&quot;: &quot;11/12/2020 2:11&quot;, &quot;Variety&quot;: &quot;43Y23 RR&quot;, &quot;__folium_color&quot;: &quot;#2e0595&quot;, &quot;sample_id&quot;: &quot;bf66_sample_1&quot;}, &quot;type&quot;: &quot;Feature&quot;}, {&quot;bbox&quot;: [117.4993839, -31.59188138, 117.4993839, -31.59188138], &quot;geometry&quot;: {&quot;coordinates&quot;: [117.4993839, -31.59188138], &quot;type&quot;: &quot;Point&quot;}, &quot;id&quot;: &quot;263&quot;, &quot;properties&quot;: {&quot;Crop&quot;: 5, &quot;DryYield&quot;: 1.072, &quot;Elevation&quot;: 258.44, &quot;Heading&quot;: 359.9, &quot;Latitude&quot;: -31.59188138, &quot;Longitude&quot;: 117.4993839, &quot;Time&quot;: &quot;11/12/2020 2:12&quot;, &quot;Variety&quot;: &quot;43Y23 RR&quot;, &quot;__folium_color&quot;: &quot;#48039f&quot;, &quot;sample_id&quot;: &quot;bf66_sample_1&quot;}, &quot;type&quot;: &quot;Feature&quot;}, {&quot;bbox&quot;: [117.4990047, -31.59330912, 117.4990047, -31.59330912], &quot;geometry&quot;: {&quot;coordinates&quot;: [117.4990047, -31.59330912], &quot;type&quot;: &quot;Point&quot;}, &quot;id&quot;: &quot;264&quot;, &quot;properties&quot;: {&quot;Crop&quot;: 5, &quot;DryYield&quot;: 0.479, &quot;Elevation&quot;: 261.61, &quot;Heading&quot;: 180.0, &quot;Latitude&quot;: -31.59330912, &quot;Longitude&quot;: 117.4990047, &quot;Time&quot;: &quot;11/12/2020 2:14&quot;, &quot;Variety&quot;: &quot;43Y23 RR&quot;, &quot;__folium_color&quot;: &quot;#2c0594&quot;, &quot;sample_id&quot;: &quot;bf66_sample_1&quot;}, &quot;type&quot;: &quot;Feature&quot;}, {&quot;bbox&quot;: [117.4990047, -31.5954952, 117.4990047, -31.5954952], &quot;geometry&quot;: {&quot;coordinates&quot;: [117.4990047, -31.5954952], &quot;type&quot;: &quot;Point&quot;}, &quot;id&quot;: &quot;265&quot;, &quot;properties&quot;: {&quot;Crop&quot;: 5, &quot;DryYield&quot;: 0.664, &quot;Elevation&quot;: 261.22, &quot;Heading&quot;: 180.2, &quot;Latitude&quot;: -31.5954952, &quot;Longitude&quot;: 117.4990047, &quot;Time&quot;: &quot;11/12/2020 2:15&quot;, &quot;Variety&quot;: &quot;43Y23 RR&quot;, &quot;__folium_color&quot;: &quot;#350498&quot;, &quot;sample_id&quot;: &quot;bf66_sample_1&quot;}, &quot;type&quot;: &quot;Feature&quot;}, {&quot;bbox&quot;: [117.4990051, -31.5976875, 117.4990051, -31.5976875], &quot;geometry&quot;: {&quot;coordinates&quot;: [117.4990051, -31.5976875], &quot;type&quot;: &quot;Point&quot;}, &quot;id&quot;: &quot;266&quot;, &quot;properties&quot;: {&quot;Crop&quot;: 5, &quot;DryYield&quot;: 0.61, &quot;Elevation&quot;: 261.04, &quot;Heading&quot;: 179.9, &quot;Latitude&quot;: -31.5976875, &quot;Longitude&quot;: 117.4990051, &quot;Time&quot;: &quot;11/12/2020 2:16&quot;, &quot;Variety&quot;: &quot;43Y23 RR&quot;, &quot;__folium_color&quot;: &quot;#310597&quot;, &quot;sample_id&quot;: &quot;bf66_sample_1&quot;}, &quot;type&quot;: &quot;Feature&quot;}, {&quot;bbox&quot;: [117.4990051, -31.59988359, 117.4990051, -31.59988359], &quot;geometry&quot;: {&quot;coordinates&quot;: [117.4990051, -31.59988359], &quot;type&quot;: &quot;Point&quot;}, &quot;id&quot;: &quot;267&quot;, &quot;properties&quot;: {&quot;Crop&quot;: 5, &quot;DryYield&quot;: 0.618, &quot;Elevation&quot;: 260.89, &quot;Heading&quot;: 179.9, &quot;Latitude&quot;: -31.59988359, &quot;Longitude&quot;: 117.4990051, &quot;Time&quot;: &quot;11/12/2020 2:18&quot;, &quot;Variety&quot;: &quot;43Y23 RR&quot;, &quot;__folium_color&quot;: &quot;#330597&quot;, &quot;sample_id&quot;: &quot;bf66_sample_1&quot;}, &quot;type&quot;: &quot;Feature&quot;}, {&quot;bbox&quot;: [117.4988785, -31.6003444, 117.4988785, -31.6003444], &quot;geometry&quot;: {&quot;coordinates&quot;: [117.4988785, -31.6003444], &quot;type&quot;: &quot;Point&quot;}, &quot;id&quot;: &quot;268&quot;, &quot;properties&quot;: {&quot;Crop&quot;: 5, &quot;DryYield&quot;: 0.721, &quot;Elevation&quot;: 261.13, &quot;Heading&quot;: 0.1, &quot;Latitude&quot;: -31.6003444, &quot;Longitude&quot;: 117.4988785, &quot;Time&quot;: &quot;11/12/2020 2:19&quot;, &quot;Variety&quot;: &quot;43Y23 RR&quot;, &quot;__folium_color&quot;: &quot;#370499&quot;, &quot;sample_id&quot;: &quot;bf66_sample_1&quot;}, &quot;type&quot;: &quot;Feature&quot;}, {&quot;bbox&quot;: [117.4988781, -31.59824178, 117.4988781, -31.59824178], &quot;geometry&quot;: {&quot;coordinates&quot;: [117.4988781, -31.59824178], &quot;type&quot;: &quot;Point&quot;}, &quot;id&quot;: &quot;269&quot;, &quot;properties&quot;: {&quot;Crop&quot;: 5, &quot;DryYield&quot;: 0.593, &quot;Elevation&quot;: 261.69, &quot;Heading&quot;: 0.1, &quot;Latitude&quot;: -31.59824178, &quot;Longitude&quot;: 117.4988781, &quot;Time&quot;: &quot;11/12/2020 2:20&quot;, &quot;Variety&quot;: &quot;43Y23 RR&quot;, &quot;__folium_color&quot;: &quot;#310597&quot;, &quot;sample_id&quot;: &quot;bf66_sample_1&quot;}, &quot;type&quot;: &quot;Feature&quot;}, {&quot;bbox&quot;: [117.4988787, -31.59617511, 117.4988787, -31.59617511], &quot;geometry&quot;: {&quot;coordinates&quot;: [117.4988787, -31.59617511], &quot;type&quot;: &quot;Point&quot;}, &quot;id&quot;: &quot;270&quot;, &quot;properties&quot;: {&quot;Crop&quot;: 5, &quot;DryYield&quot;: 0.464, &quot;Elevation&quot;: 261.46, &quot;Heading&quot;: 0.3, &quot;Latitude&quot;: -31.59617511, &quot;Longitude&quot;: 117.4988787, &quot;Time&quot;: &quot;11/12/2020 2:22&quot;, &quot;Variety&quot;: &quot;43Y23 RR&quot;, &quot;__folium_color&quot;: &quot;#2a0593&quot;, &quot;sample_id&quot;: &quot;bf66_sample_1&quot;}, &quot;type&quot;: &quot;Feature&quot;}, {&quot;bbox&quot;: [117.4988787, -31.5941873, 117.4988787, -31.5941873], &quot;geometry&quot;: {&quot;coordinates&quot;: [117.4988787, -31.5941873], &quot;type&quot;: &quot;Point&quot;}, &quot;id&quot;: &quot;271&quot;, &quot;properties&quot;: {&quot;Crop&quot;: 5, &quot;DryYield&quot;: 0.543, &quot;Elevation&quot;: 262.0, &quot;Heading&quot;: 0.2, &quot;Latitude&quot;: -31.5941873, &quot;Longitude&quot;: 117.4988787, &quot;Time&quot;: &quot;11/12/2020 2:23&quot;, &quot;Variety&quot;: &quot;43Y23 RR&quot;, &quot;__folium_color&quot;: &quot;#2f0596&quot;, &quot;sample_id&quot;: &quot;bf66_sample_1&quot;}, &quot;type&quot;: &quot;Feature&quot;}, {&quot;bbox&quot;: [117.4988783, -31.59207504, 117.4988783, -31.59207504], &quot;geometry&quot;: {&quot;coordinates&quot;: [117.4988783, -31.59207504], &quot;type&quot;: &quot;Point&quot;}, &quot;id&quot;: &quot;272&quot;, &quot;properties&quot;: {&quot;Crop&quot;: 5, &quot;DryYield&quot;: 1.113, &quot;Elevation&quot;: 259.89, &quot;Heading&quot;: 0.1, &quot;Latitude&quot;: -31.59207504, &quot;Longitude&quot;: 117.4988783, &quot;Time&quot;: &quot;11/12/2020 2:24&quot;, &quot;Variety&quot;: &quot;43Y23 RR&quot;, &quot;__folium_color&quot;: &quot;#4903a0&quot;, &quot;sample_id&quot;: &quot;bf66_sample_1&quot;}, &quot;type&quot;: &quot;Feature&quot;}, {&quot;bbox&quot;: [117.4984986, -31.59320938, 117.4984986, -31.59320938], &quot;geometry&quot;: {&quot;coordinates&quot;: [117.4984986, -31.59320938], &quot;type&quot;: &quot;Point&quot;}, &quot;id&quot;: &quot;273&quot;, &quot;properties&quot;: {&quot;Crop&quot;: 5, &quot;DryYield&quot;: 0.594, &quot;Elevation&quot;: 262.8, &quot;Heading&quot;: 179.9, &quot;Latitude&quot;: -31.59320938, &quot;Longitude&quot;: 117.4984986, &quot;Time&quot;: &quot;11/12/2020 2:26&quot;, &quot;Variety&quot;: &quot;43Y23 RR&quot;, &quot;__folium_color&quot;: &quot;#310597&quot;, &quot;sample_id&quot;: &quot;bf66_sample_1&quot;}, &quot;type&quot;: &quot;Feature&quot;}, {&quot;bbox&quot;: [117.4984991, -31.59539837, 117.4984991, -31.59539837], &quot;geometry&quot;: {&quot;coordinates&quot;: [117.4984991, -31.59539837], &quot;type&quot;: &quot;Point&quot;}, &quot;id&quot;: &quot;274&quot;, &quot;properties&quot;: {&quot;Crop&quot;: 5, &quot;DryYield&quot;: 0.363, &quot;Elevation&quot;: 262.1, &quot;Heading&quot;: 179.4, &quot;Latitude&quot;: -31.59539837, &quot;Longitude&quot;: 117.4984991, &quot;Time&quot;: &quot;11/12/2020 2:27&quot;, &quot;Variety&quot;: &quot;43Y23 RR&quot;, &quot;__folium_color&quot;: &quot;#260591&quot;, &quot;sample_id&quot;: &quot;bf66_sample_1&quot;}, &quot;type&quot;: &quot;Feature&quot;}, {&quot;bbox&quot;: [117.498499, -31.59757352, 117.498499, -31.59757352], &quot;geometry&quot;: {&quot;coordinates&quot;: [117.498499, -31.59757352], &quot;type&quot;: &quot;Point&quot;}, &quot;id&quot;: &quot;275&quot;, &quot;properties&quot;: {&quot;Crop&quot;: 5, &quot;DryYield&quot;: 0.751, &quot;Elevation&quot;: 262.04, &quot;Heading&quot;: 180.4, &quot;Latitude&quot;: -31.59757352, &quot;Longitude&quot;: 117.498499, &quot;Time&quot;: &quot;11/12/2020 2:29&quot;, &quot;Variety&quot;: &quot;43Y23 RR&quot;, &quot;__folium_color&quot;: &quot;#38049a&quot;, &quot;sample_id&quot;: &quot;bf66_sample_1&quot;}, &quot;type&quot;: &quot;Feature&quot;}, {&quot;bbox&quot;: [117.4984991, -31.59974357, 117.4984991, -31.59974357], &quot;geometry&quot;: {&quot;coordinates&quot;: [117.4984991, -31.59974357], &quot;type&quot;: &quot;Point&quot;}, &quot;id&quot;: &quot;276&quot;, &quot;properties&quot;: {&quot;Crop&quot;: 5, &quot;DryYield&quot;: 1.075, &quot;Elevation&quot;: 262.48, &quot;Heading&quot;: 180.1, &quot;Latitude&quot;: -31.59974357, &quot;Longitude&quot;: 117.4984991, &quot;Time&quot;: &quot;11/12/2020 2:30&quot;, &quot;Variety&quot;: &quot;43Y23 RR&quot;, &quot;__folium_color&quot;: &quot;#48039f&quot;, &quot;sample_id&quot;: &quot;bf66_sample_1&quot;}, &quot;type&quot;: &quot;Feature&quot;}, {&quot;bbox&quot;: [117.4983727, -31.60149672, 117.4983727, -31.60149672], &quot;geometry&quot;: {&quot;coordinates&quot;: [117.4983727, -31.60149672], &quot;type&quot;: &quot;Point&quot;}, &quot;id&quot;: &quot;277&quot;, &quot;properties&quot;: {&quot;Crop&quot;: 5, &quot;DryYield&quot;: 0.483, &quot;Elevation&quot;: 260.72, &quot;Heading&quot;: 0.2, &quot;Latitude&quot;: -31.60149672, &quot;Longitude&quot;: 117.4983727, &quot;Time&quot;: &quot;11/12/2020 2:36&quot;, &quot;Variety&quot;: &quot;43Y23 RR&quot;, &quot;__folium_color&quot;: &quot;#2c0594&quot;, &quot;sample_id&quot;: &quot;bf66_sample_1&quot;}, &quot;type&quot;: &quot;Feature&quot;}, {&quot;bbox&quot;: [117.4983725, -31.59973376, 117.4983725, -31.59973376], &quot;geometry&quot;: {&quot;coordinates&quot;: [117.4983725, -31.59973376], &quot;type&quot;: &quot;Point&quot;}, &quot;id&quot;: &quot;278&quot;, &quot;properties&quot;: {&quot;Crop&quot;: 5, &quot;DryYield&quot;: 1.025, &quot;Elevation&quot;: 262.89, &quot;Heading&quot;: 0.1, &quot;Latitude&quot;: -31.59973376, &quot;Longitude&quot;: 117.4983725, &quot;Time&quot;: &quot;11/12/2020 2:37&quot;, &quot;Variety&quot;: &quot;43Y23 RR&quot;, &quot;__folium_color&quot;: &quot;#46039f&quot;, &quot;sample_id&quot;: &quot;bf66_sample_1&quot;}, &quot;type&quot;: &quot;Feature&quot;}, {&quot;bbox&quot;: [117.4983727, -31.59801167, 117.4983727, -31.59801167], &quot;geometry&quot;: {&quot;coordinates&quot;: [117.4983727, -31.59801167], &quot;type&quot;: &quot;Point&quot;}, &quot;id&quot;: &quot;279&quot;, &quot;properties&quot;: {&quot;Crop&quot;: 5, &quot;DryYield&quot;: 0.713, &quot;Elevation&quot;: 262.68, &quot;Heading&quot;: 359.8, &quot;Latitude&quot;: -31.59801167, &quot;Longitude&quot;: 117.4983727, &quot;Time&quot;: &quot;11/12/2020 2:39&quot;, &quot;Variety&quot;: &quot;43Y23 RR&quot;, &quot;__folium_color&quot;: &quot;#370499&quot;, &quot;sample_id&quot;: &quot;bf66_sample_1&quot;}, &quot;type&quot;: &quot;Feature&quot;}, {&quot;bbox&quot;: [117.4983725, -31.59594439, 117.4983725, -31.59594439], &quot;geometry&quot;: {&quot;coordinates&quot;: [117.4983725, -31.59594439], &quot;type&quot;: &quot;Point&quot;}, &quot;id&quot;: &quot;280&quot;, &quot;properties&quot;: {&quot;Crop&quot;: 5, &quot;DryYield&quot;: 0.831, &quot;Elevation&quot;: 262.82, &quot;Heading&quot;: 0.2, &quot;Latitude&quot;: -31.59594439, &quot;Longitude&quot;: 117.4983725, &quot;Time&quot;: &quot;11/12/2020 2:40&quot;, &quot;Variety&quot;: &quot;43Y23 RR&quot;, &quot;__folium_color&quot;: &quot;#3e049c&quot;, &quot;sample_id&quot;: &quot;bf66_sample_1&quot;}, &quot;type&quot;: &quot;Feature&quot;}, {&quot;bbox&quot;: [117.4983725, -31.59379463, 117.4983725, -31.59379463], &quot;geometry&quot;: {&quot;coordinates&quot;: [117.4983725, -31.59379463], &quot;type&quot;: &quot;Point&quot;}, &quot;id&quot;: &quot;281&quot;, &quot;properties&quot;: {&quot;Crop&quot;: 5, &quot;DryYield&quot;: 0.556, &quot;Elevation&quot;: 263.26, &quot;Heading&quot;: 359.9, &quot;Latitude&quot;: -31.59379463, &quot;Longitude&quot;: 117.4983725, &quot;Time&quot;: &quot;11/12/2020 2:41&quot;, &quot;Variety&quot;: &quot;43Y23 RR&quot;, &quot;__folium_color&quot;: &quot;#2f0596&quot;, &quot;sample_id&quot;: &quot;bf66_sample_1&quot;}, &quot;type&quot;: &quot;Feature&quot;}, {&quot;bbox&quot;: [117.4983727, -31.59174043, 117.4983727, -31.59174043], &quot;geometry&quot;: {&quot;coordinates&quot;: [117.4983727, -31.59174043], &quot;type&quot;: &quot;Point&quot;}, &quot;id&quot;: &quot;282&quot;, &quot;properties&quot;: {&quot;Crop&quot;: 5, &quot;DryYield&quot;: 0.564, &quot;Elevation&quot;: 260.24, &quot;Heading&quot;: 359.9, &quot;Latitude&quot;: -31.59174043, &quot;Longitude&quot;: 117.4983727, &quot;Time&quot;: &quot;11/12/2020 2:43&quot;, &quot;Variety&quot;: &quot;43Y23 RR&quot;, &quot;__folium_color&quot;: &quot;#2f0596&quot;, &quot;sample_id&quot;: &quot;bf66_sample_1&quot;}, &quot;type&quot;: &quot;Feature&quot;}, {&quot;bbox&quot;: [117.4979932, -31.59322777, 117.4979932, -31.59322777], &quot;geometry&quot;: {&quot;coordinates&quot;: [117.4979932, -31.59322777], &quot;type&quot;: &quot;Point&quot;}, &quot;id&quot;: &quot;283&quot;, &quot;properties&quot;: {&quot;Crop&quot;: 5, &quot;DryYield&quot;: 0.633, &quot;Elevation&quot;: 263.67, &quot;Heading&quot;: 179.9, &quot;Latitude&quot;: -31.59322777, &quot;Longitude&quot;: 117.4979932, &quot;Time&quot;: &quot;11/12/2020 2:44&quot;, &quot;Variety&quot;: &quot;43Y23 RR&quot;, &quot;__folium_color&quot;: &quot;#330597&quot;, &quot;sample_id&quot;: &quot;bf66_sample_1&quot;}, &quot;type&quot;: &quot;Feature&quot;}, {&quot;bbox&quot;: [117.497993, -31.59524287, 117.497993, -31.59524287], &quot;geometry&quot;: {&quot;coordinates&quot;: [117.497993, -31.59524287], &quot;type&quot;: &quot;Point&quot;}, &quot;id&quot;: &quot;284&quot;, &quot;properties&quot;: {&quot;Crop&quot;: 5, &quot;DryYield&quot;: 0.747, &quot;Elevation&quot;: 263.46, &quot;Heading&quot;: 180.2, &quot;Latitude&quot;: -31.59524287, &quot;Longitude&quot;: 117.497993, &quot;Time&quot;: &quot;11/12/2020 2:46&quot;, &quot;Variety&quot;: &quot;43Y23 RR&quot;, &quot;__folium_color&quot;: &quot;#38049a&quot;, &quot;sample_id&quot;: &quot;bf66_sample_1&quot;}, &quot;type&quot;: &quot;Feature&quot;}, {&quot;bbox&quot;: [117.4979928, -31.59718087, 117.4979928, -31.59718087], &quot;geometry&quot;: {&quot;coordinates&quot;: [117.4979928, -31.59718087], &quot;type&quot;: &quot;Point&quot;}, &quot;id&quot;: &quot;285&quot;, &quot;properties&quot;: {&quot;Crop&quot;: 5, &quot;DryYield&quot;: 0.487, &quot;Elevation&quot;: 263.03, &quot;Heading&quot;: 180.2, &quot;Latitude&quot;: -31.59718087, &quot;Longitude&quot;: 117.4979928, &quot;Time&quot;: &quot;11/12/2020 2:47&quot;, &quot;Variety&quot;: &quot;43Y23 RR&quot;, &quot;__folium_color&quot;: &quot;#2c0594&quot;, &quot;sample_id&quot;: &quot;bf66_sample_1&quot;}, &quot;type&quot;: &quot;Feature&quot;}, {&quot;bbox&quot;: [117.4979932, -31.59901297, 117.4979932, -31.59901297], &quot;geometry&quot;: {&quot;coordinates&quot;: [117.4979932, -31.59901297], &quot;type&quot;: &quot;Point&quot;}, &quot;id&quot;: &quot;286&quot;, &quot;properties&quot;: {&quot;Crop&quot;: 5, &quot;DryYield&quot;: 1.112, &quot;Elevation&quot;: 263.72, &quot;Heading&quot;: 180.0, &quot;Latitude&quot;: -31.59901297, &quot;Longitude&quot;: 117.4979932, &quot;Time&quot;: &quot;11/12/2020 2:48&quot;, &quot;Variety&quot;: &quot;43Y23 RR&quot;, &quot;__folium_color&quot;: &quot;#4903a0&quot;, &quot;sample_id&quot;: &quot;bf66_sample_1&quot;}, &quot;type&quot;: &quot;Feature&quot;}, {&quot;bbox&quot;: [117.4979932, -31.60084826, 117.4979932, -31.60084826], &quot;geometry&quot;: {&quot;coordinates&quot;: [117.4979932, -31.60084826], &quot;type&quot;: &quot;Point&quot;}, &quot;id&quot;: &quot;287&quot;, &quot;properties&quot;: {&quot;Crop&quot;: 5, &quot;DryYield&quot;: 0.871, &quot;Elevation&quot;: 262.92, &quot;Heading&quot;: 180.1, &quot;Latitude&quot;: -31.60084826, &quot;Longitude&quot;: 117.4979932, &quot;Time&quot;: &quot;11/12/2020 2:50&quot;, &quot;Variety&quot;: &quot;43Y23 RR&quot;, &quot;__folium_color&quot;: &quot;#3f049c&quot;, &quot;sample_id&quot;: &quot;bf66_sample_1&quot;}, &quot;type&quot;: &quot;Feature&quot;}, {&quot;bbox&quot;: [117.4978669, -31.60160426, 117.4978669, -31.60160426], &quot;geometry&quot;: {&quot;coordinates&quot;: [117.4978669, -31.60160426], &quot;type&quot;: &quot;Point&quot;}, &quot;id&quot;: &quot;288&quot;, &quot;properties&quot;: {&quot;Crop&quot;: 5, &quot;DryYield&quot;: 1.117, &quot;Elevation&quot;: 262.17, &quot;Heading&quot;: 0.0, &quot;Latitude&quot;: -31.60160426, &quot;Longitude&quot;: 117.4978669, &quot;Time&quot;: &quot;11/12/2020 2:51&quot;, &quot;Variety&quot;: &quot;43Y23 RR&quot;, &quot;__folium_color&quot;: &quot;#4903a0&quot;, &quot;sample_id&quot;: &quot;bf66_sample_1&quot;}, &quot;type&quot;: &quot;Feature&quot;}, {&quot;bbox&quot;: [117.4978669, -31.59982813, 117.4978669, -31.59982813], &quot;geometry&quot;: {&quot;coordinates&quot;: [117.4978669, -31.59982813], &quot;type&quot;: &quot;Point&quot;}, &quot;id&quot;: &quot;289&quot;, &quot;properties&quot;: {&quot;Crop&quot;: 5, &quot;DryYield&quot;: 1.34, &quot;Elevation&quot;: 264.33, &quot;Heading&quot;: 360.0, &quot;Latitude&quot;: -31.59982813, &quot;Longitude&quot;: 117.4978669, &quot;Time&quot;: &quot;11/12/2020 2:53&quot;, &quot;Variety&quot;: &quot;43Y23 RR&quot;, &quot;__folium_color&quot;: &quot;#5502a4&quot;, &quot;sample_id&quot;: &quot;bf66_sample_1&quot;}, &quot;type&quot;: &quot;Feature&quot;}, {&quot;bbox&quot;: [117.4978667, -31.59810037, 117.4978667, -31.59810037], &quot;geometry&quot;: {&quot;coordinates&quot;: [117.4978667, -31.59810037], &quot;type&quot;: &quot;Point&quot;}, &quot;id&quot;: &quot;290&quot;, &quot;properties&quot;: {&quot;Crop&quot;: 5, &quot;DryYield&quot;: 1.027, &quot;Elevation&quot;: 263.95, &quot;Heading&quot;: 359.8, &quot;Latitude&quot;: -31.59810037, &quot;Longitude&quot;: 117.4978667, &quot;Time&quot;: &quot;11/12/2020 2:54&quot;, &quot;Variety&quot;: &quot;43Y23 RR&quot;, &quot;__folium_color&quot;: &quot;#46039f&quot;, &quot;sample_id&quot;: &quot;bf66_sample_1&quot;}, &quot;type&quot;: &quot;Feature&quot;}, {&quot;bbox&quot;: [117.4978667, -31.59627622, 117.4978667, -31.59627622], &quot;geometry&quot;: {&quot;coordinates&quot;: [117.4978667, -31.59627622], &quot;type&quot;: &quot;Point&quot;}, &quot;id&quot;: &quot;291&quot;, &quot;properties&quot;: {&quot;Crop&quot;: 5, &quot;DryYield&quot;: 0.531, &quot;Elevation&quot;: 263.76, &quot;Heading&quot;: 0.0, &quot;Latitude&quot;: -31.59627622, &quot;Longitude&quot;: 117.4978667, &quot;Time&quot;: &quot;11/12/2020 2:55&quot;, &quot;Variety&quot;: &quot;43Y23 RR&quot;, &quot;__folium_color&quot;: &quot;#2e0595&quot;, &quot;sample_id&quot;: &quot;bf66_sample_1&quot;}, &quot;type&quot;: &quot;Feature&quot;}, {&quot;bbox&quot;: [117.4978666, -31.59421304, 117.4978666, -31.59421304], &quot;geometry&quot;: {&quot;coordinates&quot;: [117.4978666, -31.59421304], &quot;type&quot;: &quot;Point&quot;}, &quot;id&quot;: &quot;292&quot;, &quot;properties&quot;: {&quot;Crop&quot;: 5, &quot;DryYield&quot;: 0.573, &quot;Elevation&quot;: 264.73, &quot;Heading&quot;: 360.0, &quot;Latitude&quot;: -31.59421304, &quot;Longitude&quot;: 117.4978666, &quot;Time&quot;: &quot;11/12/2020 2:57&quot;, &quot;Variety&quot;: &quot;43Y23 RR&quot;, &quot;__folium_color&quot;: &quot;#2f0596&quot;, &quot;sample_id&quot;: &quot;bf66_sample_1&quot;}, &quot;type&quot;: &quot;Feature&quot;}, {&quot;bbox&quot;: [117.4978671, -31.59228003, 117.4978671, -31.59228003], &quot;geometry&quot;: {&quot;coordinates&quot;: [117.4978671, -31.59228003], &quot;type&quot;: &quot;Point&quot;}, &quot;id&quot;: &quot;293&quot;, &quot;properties&quot;: {&quot;Crop&quot;: 5, &quot;DryYield&quot;: 0.807, &quot;Elevation&quot;: 262.36, &quot;Heading&quot;: 0.3, &quot;Latitude&quot;: -31.59228003, &quot;Longitude&quot;: 117.4978671, &quot;Time&quot;: &quot;11/12/2020 2:58&quot;, &quot;Variety&quot;: &quot;43Y23 RR&quot;, &quot;__folium_color&quot;: &quot;#3c049b&quot;, &quot;sample_id&quot;: &quot;bf66_sample_1&quot;}, &quot;type&quot;: &quot;Feature&quot;}, {&quot;bbox&quot;: [117.4974876, -31.59270625, 117.4974876, -31.59270625], &quot;geometry&quot;: {&quot;coordinates&quot;: [117.4974876, -31.59270625], &quot;type&quot;: &quot;Point&quot;}, &quot;id&quot;: &quot;294&quot;, &quot;properties&quot;: {&quot;Crop&quot;: 5, &quot;DryYield&quot;: 1.131, &quot;Elevation&quot;: 263.99, &quot;Heading&quot;: 179.9, &quot;Latitude&quot;: -31.59270625, &quot;Longitude&quot;: 117.4974876, &quot;Time&quot;: &quot;11/12/2020 2:59&quot;, &quot;Variety&quot;: &quot;43Y23 RR&quot;, &quot;__folium_color&quot;: &quot;#4b03a1&quot;, &quot;sample_id&quot;: &quot;bf66_sample_1&quot;}, &quot;type&quot;: &quot;Feature&quot;}, {&quot;bbox&quot;: [117.4974881, -31.59454043, 117.4974881, -31.59454043], &quot;geometry&quot;: {&quot;coordinates&quot;: [117.4974881, -31.59454043], &quot;type&quot;: &quot;Point&quot;}, &quot;id&quot;: &quot;295&quot;, &quot;properties&quot;: {&quot;Crop&quot;: 5, &quot;DryYield&quot;: 0.632, &quot;Elevation&quot;: 266.15, &quot;Heading&quot;: 179.3, &quot;Latitude&quot;: -31.59454043, &quot;Longitude&quot;: 117.4974881, &quot;Time&quot;: &quot;11/12/2020 3:01&quot;, &quot;Variety&quot;: &quot;43Y23 RR&quot;, &quot;__folium_color&quot;: &quot;#330597&quot;, &quot;sample_id&quot;: &quot;bf66_sample_1&quot;}, &quot;type&quot;: &quot;Feature&quot;}, {&quot;bbox&quot;: [117.4976137, -31.59388487, 117.4976137, -31.59388487], &quot;geometry&quot;: {&quot;coordinates&quot;: [117.4976137, -31.59388487], &quot;type&quot;: &quot;Point&quot;}, &quot;id&quot;: &quot;296&quot;, &quot;properties&quot;: {&quot;Crop&quot;: 5, &quot;DryYield&quot;: 0.631, &quot;Elevation&quot;: 265.63, &quot;Heading&quot;: 180.4, &quot;Latitude&quot;: -31.59388487, &quot;Longitude&quot;: 117.4976137, &quot;Time&quot;: &quot;11/12/2020 2:55&quot;, &quot;Variety&quot;: &quot;43Y23 RR&quot;, &quot;__folium_color&quot;: &quot;#330597&quot;, &quot;sample_id&quot;: &quot;bf66_sample_1&quot;}, &quot;type&quot;: &quot;Feature&quot;}, {&quot;bbox&quot;: [117.4976137, -31.59578552, 117.4976137, -31.59578552], &quot;geometry&quot;: {&quot;coordinates&quot;: [117.4976137, -31.59578552], &quot;type&quot;: &quot;Point&quot;}, &quot;id&quot;: &quot;297&quot;, &quot;properties&quot;: {&quot;Crop&quot;: 5, &quot;DryYield&quot;: 0.338, &quot;Elevation&quot;: 264.36, &quot;Heading&quot;: 180.2, &quot;Latitude&quot;: -31.59578552, &quot;Longitude&quot;: 117.4976137, &quot;Time&quot;: &quot;11/12/2020 2:56&quot;, &quot;Variety&quot;: &quot;43Y23 RR&quot;, &quot;__folium_color&quot;: &quot;#240691&quot;, &quot;sample_id&quot;: &quot;bf66_sample_1&quot;}, &quot;type&quot;: &quot;Feature&quot;}, {&quot;bbox&quot;: [117.4976138, -31.59773637, 117.4976138, -31.59773637], &quot;geometry&quot;: {&quot;coordinates&quot;: [117.4976138, -31.59773637], &quot;type&quot;: &quot;Point&quot;}, &quot;id&quot;: &quot;298&quot;, &quot;properties&quot;: {&quot;Crop&quot;: 5, &quot;DryYield&quot;: 0.523, &quot;Elevation&quot;: 263.98, &quot;Heading&quot;: 179.8, &quot;Latitude&quot;: -31.59773637, &quot;Longitude&quot;: 117.4976138, &quot;Time&quot;: &quot;11/12/2020 2:57&quot;, &quot;Variety&quot;: &quot;43Y23 RR&quot;, &quot;__folium_color&quot;: &quot;#2e0595&quot;, &quot;sample_id&quot;: &quot;bf66_sample_1&quot;}, &quot;type&quot;: &quot;Feature&quot;}, {&quot;bbox&quot;: [117.4976138, -31.59939275, 117.4976138, -31.59939275], &quot;geometry&quot;: {&quot;coordinates&quot;: [117.4976138, -31.59939275], &quot;type&quot;: &quot;Point&quot;}, &quot;id&quot;: &quot;299&quot;, &quot;properties&quot;: {&quot;Crop&quot;: 5, &quot;DryYield&quot;: 0.989, &quot;Elevation&quot;: 265.05, &quot;Heading&quot;: 179.9, &quot;Latitude&quot;: -31.59939275, &quot;Longitude&quot;: 117.4976138, &quot;Time&quot;: &quot;11/12/2020 2:59&quot;, &quot;Variety&quot;: &quot;43Y23 RR&quot;, &quot;__folium_color&quot;: &quot;#44039e&quot;, &quot;sample_id&quot;: &quot;bf66_sample_1&quot;}, &quot;type&quot;: &quot;Feature&quot;}, {&quot;bbox&quot;: [117.4976138, -31.60106794, 117.4976138, -31.60106794], &quot;geometry&quot;: {&quot;coordinates&quot;: [117.4976138, -31.60106794], &quot;type&quot;: &quot;Point&quot;}, &quot;id&quot;: &quot;300&quot;, &quot;properties&quot;: {&quot;Crop&quot;: 5, &quot;DryYield&quot;: 0.923, &quot;Elevation&quot;: 263.76, &quot;Heading&quot;: 180.0, &quot;Latitude&quot;: -31.60106794, &quot;Longitude&quot;: 117.4976138, &quot;Time&quot;: &quot;11/12/2020 3:00&quot;, &quot;Variety&quot;: &quot;43Y23 RR&quot;, &quot;__folium_color&quot;: &quot;#41049d&quot;, &quot;sample_id&quot;: &quot;bf66_sample_1&quot;}, &quot;type&quot;: &quot;Feature&quot;}, {&quot;bbox&quot;: [117.4976085, -31.60305407, 117.4976085, -31.60305407], &quot;geometry&quot;: {&quot;coordinates&quot;: [117.4976085, -31.60305407], &quot;type&quot;: &quot;Point&quot;}, &quot;id&quot;: &quot;301&quot;, &quot;properties&quot;: {&quot;Crop&quot;: 5, &quot;DryYield&quot;: 0.191, &quot;Elevation&quot;: 260.27, &quot;Heading&quot;: 179.9, &quot;Latitude&quot;: -31.60305407, &quot;Longitude&quot;: 117.4976085, &quot;Time&quot;: &quot;11/12/2020 3:02&quot;, &quot;Variety&quot;: &quot;43Y23 RR&quot;, &quot;__folium_color&quot;: &quot;#1b068d&quot;, &quot;sample_id&quot;: &quot;bf66_sample_1&quot;}, &quot;type&quot;: &quot;Feature&quot;}, {&quot;bbox&quot;: [117.497738, -31.60415382, 117.497738, -31.60415382], &quot;geometry&quot;: {&quot;coordinates&quot;: [117.497738, -31.60415382], &quot;type&quot;: &quot;Point&quot;}, &quot;id&quot;: &quot;302&quot;, &quot;properties&quot;: {&quot;Crop&quot;: 5, &quot;DryYield&quot;: 0.428, &quot;Elevation&quot;: 262.17, &quot;Heading&quot;: 0.1, &quot;Latitude&quot;: -31.60415382, &quot;Longitude&quot;: 117.497738, &quot;Time&quot;: &quot;11/12/2020 3:03&quot;, &quot;Variety&quot;: &quot;43Y23 RR&quot;, &quot;__folium_color&quot;: &quot;#280592&quot;, &quot;sample_id&quot;: &quot;bf66_sample_1&quot;}, &quot;type&quot;: &quot;Feature&quot;}, {&quot;bbox&quot;: [117.4979743, -31.60339706, 117.4979743, -31.60339706], &quot;geometry&quot;: {&quot;coordinates&quot;: [117.4979743, -31.60339706], &quot;type&quot;: &quot;Point&quot;}, &quot;id&quot;: &quot;303&quot;, &quot;properties&quot;: {&quot;Crop&quot;: 5, &quot;DryYield&quot;: 0.467, &quot;Elevation&quot;: 260.89, &quot;Heading&quot;: 356.2, &quot;Latitude&quot;: -31.60339706, &quot;Longitude&quot;: 117.4979743, &quot;Time&quot;: &quot;11/12/2020 3:05&quot;, &quot;Variety&quot;: &quot;43Y23 RR&quot;, &quot;__folium_color&quot;: &quot;#2a0593&quot;, &quot;sample_id&quot;: &quot;bf66_sample_1&quot;}, &quot;type&quot;: &quot;Feature&quot;}, {&quot;bbox&quot;: [117.4972502, -31.60555027, 117.4972502, -31.60555027], &quot;geometry&quot;: {&quot;coordinates&quot;: [117.4972502, -31.60555027], &quot;type&quot;: &quot;Point&quot;}, &quot;id&quot;: &quot;304&quot;, &quot;properties&quot;: {&quot;Crop&quot;: 5, &quot;DryYield&quot;: 0.776, &quot;Elevation&quot;: 264.21, &quot;Heading&quot;: 337.4, &quot;Latitude&quot;: -31.60555027, &quot;Longitude&quot;: 117.4972502, &quot;Time&quot;: &quot;11/12/2020 3:07&quot;, &quot;Variety&quot;: &quot;43Y23 RR&quot;, &quot;__folium_color&quot;: &quot;#3a049a&quot;, &quot;sample_id&quot;: &quot;bf66_sample_1&quot;}, &quot;type&quot;: &quot;Feature&quot;}, {&quot;bbox&quot;: [117.4972342, -31.60356159, 117.4972342, -31.60356159], &quot;geometry&quot;: {&quot;coordinates&quot;: [117.4972342, -31.60356159], &quot;type&quot;: &quot;Point&quot;}, &quot;id&quot;: &quot;305&quot;, &quot;properties&quot;: {&quot;Crop&quot;: 5, &quot;DryYield&quot;: 0.437, &quot;Elevation&quot;: 261.69, &quot;Heading&quot;: 359.9, &quot;Latitude&quot;: -31.60356159, &quot;Longitude&quot;: 117.4972342, &quot;Time&quot;: &quot;11/12/2020 3:08&quot;, &quot;Variety&quot;: &quot;43Y23 RR&quot;, &quot;__folium_color&quot;: &quot;#2a0593&quot;, &quot;sample_id&quot;: &quot;bf66_sample_1&quot;}, &quot;type&quot;: &quot;Feature&quot;}, {&quot;bbox&quot;: [117.4972343, -31.60169312, 117.4972343, -31.60169312], &quot;geometry&quot;: {&quot;coordinates&quot;: [117.4972343, -31.60169312], &quot;type&quot;: &quot;Point&quot;}, &quot;id&quot;: &quot;306&quot;, &quot;properties&quot;: {&quot;Crop&quot;: 5, &quot;DryYield&quot;: 0.761, &quot;Elevation&quot;: 263.51, &quot;Heading&quot;: 0.0, &quot;Latitude&quot;: -31.60169312, &quot;Longitude&quot;: 117.4972343, &quot;Time&quot;: &quot;11/12/2020 3:09&quot;, &quot;Variety&quot;: &quot;43Y23 RR&quot;, &quot;__folium_color&quot;: &quot;#3a049a&quot;, &quot;sample_id&quot;: &quot;bf66_sample_1&quot;}, &quot;type&quot;: &quot;Feature&quot;}, {&quot;bbox&quot;: [117.4972345, -31.5999922, 117.4972345, -31.5999922], &quot;geometry&quot;: {&quot;coordinates&quot;: [117.4972345, -31.5999922], &quot;type&quot;: &quot;Point&quot;}, &quot;id&quot;: &quot;307&quot;, &quot;properties&quot;: {&quot;Crop&quot;: 5, &quot;DryYield&quot;: 0.912, &quot;Elevation&quot;: 266.06, &quot;Heading&quot;: 0.2, &quot;Latitude&quot;: -31.5999922, &quot;Longitude&quot;: 117.4972345, &quot;Time&quot;: &quot;11/12/2020 3:11&quot;, &quot;Variety&quot;: &quot;43Y23 RR&quot;, &quot;__folium_color&quot;: &quot;#41049d&quot;, &quot;sample_id&quot;: &quot;bf66_sample_1&quot;}, &quot;type&quot;: &quot;Feature&quot;}, {&quot;bbox&quot;: [117.4972347, -31.59837491, 117.4972347, -31.59837491], &quot;geometry&quot;: {&quot;coordinates&quot;: [117.4972347, -31.59837491], &quot;type&quot;: &quot;Point&quot;}, &quot;id&quot;: &quot;308&quot;, &quot;properties&quot;: {&quot;Crop&quot;: 5, &quot;DryYield&quot;: 0.706, &quot;Elevation&quot;: 265.96, &quot;Heading&quot;: 359.9, &quot;Latitude&quot;: -31.59837491, &quot;Longitude&quot;: 117.4972347, &quot;Time&quot;: &quot;11/12/2020 3:12&quot;, &quot;Variety&quot;: &quot;43Y23 RR&quot;, &quot;__folium_color&quot;: &quot;#370499&quot;, &quot;sample_id&quot;: &quot;bf66_sample_1&quot;}, &quot;type&quot;: &quot;Feature&quot;}, {&quot;bbox&quot;: [117.4972347, -31.59662047, 117.4972347, -31.59662047], &quot;geometry&quot;: {&quot;coordinates&quot;: [117.4972347, -31.59662047], &quot;type&quot;: &quot;Point&quot;}, &quot;id&quot;: &quot;309&quot;, &quot;properties&quot;: {&quot;Crop&quot;: 5, &quot;DryYield&quot;: 0.543, &quot;Elevation&quot;: 265.46, &quot;Heading&quot;: 0.2, &quot;Latitude&quot;: -31.59662047, &quot;Longitude&quot;: 117.4972347, &quot;Time&quot;: &quot;11/12/2020 3:13&quot;, &quot;Variety&quot;: &quot;43Y23 RR&quot;, &quot;__folium_color&quot;: &quot;#2f0596&quot;, &quot;sample_id&quot;: &quot;bf66_sample_1&quot;}, &quot;type&quot;: &quot;Feature&quot;}, {&quot;bbox&quot;: [117.4972347, -31.59468491, 117.4972347, -31.59468491], &quot;geometry&quot;: {&quot;coordinates&quot;: [117.4972347, -31.59468491], &quot;type&quot;: &quot;Point&quot;}, &quot;id&quot;: &quot;310&quot;, &quot;properties&quot;: {&quot;Crop&quot;: 5, &quot;DryYield&quot;: 0.411, &quot;Elevation&quot;: 266.48, &quot;Heading&quot;: 0.2, &quot;Latitude&quot;: -31.59468491, &quot;Longitude&quot;: 117.4972347, &quot;Time&quot;: &quot;11/12/2020 3:15&quot;, &quot;Variety&quot;: &quot;43Y23 RR&quot;, &quot;__folium_color&quot;: &quot;#280592&quot;, &quot;sample_id&quot;: &quot;bf66_sample_1&quot;}, &quot;type&quot;: &quot;Feature&quot;}, {&quot;bbox&quot;: [117.4972347, -31.59280139, 117.4972347, -31.59280139], &quot;geometry&quot;: {&quot;coordinates&quot;: [117.4972347, -31.59280139], &quot;type&quot;: &quot;Point&quot;}, &quot;id&quot;: &quot;311&quot;, &quot;properties&quot;: {&quot;Crop&quot;: 5, &quot;DryYield&quot;: 0.959, &quot;Elevation&quot;: 264.68, &quot;Heading&quot;: 0.0, &quot;Latitude&quot;: -31.59280139, &quot;Longitude&quot;: 117.4972347, &quot;Time&quot;: &quot;11/12/2020 3:16&quot;, &quot;Variety&quot;: &quot;43Y23 RR&quot;, &quot;__folium_color&quot;: &quot;#43039e&quot;, &quot;sample_id&quot;: &quot;bf66_sample_1&quot;}, &quot;type&quot;: &quot;Feature&quot;}, {&quot;bbox&quot;: [117.4966021, -31.59188536, 117.4966021, -31.59188536], &quot;geometry&quot;: {&quot;coordinates&quot;: [117.4966021, -31.59188536], &quot;type&quot;: &quot;Point&quot;}, &quot;id&quot;: &quot;312&quot;, &quot;properties&quot;: {&quot;Crop&quot;: 5, &quot;DryYield&quot;: 0.828, &quot;Elevation&quot;: 264.13, &quot;Heading&quot;: 180.2, &quot;Latitude&quot;: -31.59188536, &quot;Longitude&quot;: 117.4966021, &quot;Time&quot;: &quot;11/12/2020 3:18&quot;, &quot;Variety&quot;: &quot;43Y23 RR&quot;, &quot;__folium_color&quot;: &quot;#3c049b&quot;, &quot;sample_id&quot;: &quot;bf66_sample_1&quot;}, &quot;type&quot;: &quot;Feature&quot;}, {&quot;bbox&quot;: [117.4966027, -31.59360864, 117.4966027, -31.59360864], &quot;geometry&quot;: {&quot;coordinates&quot;: [117.4966027, -31.59360864], &quot;type&quot;: &quot;Point&quot;}, &quot;id&quot;: &quot;313&quot;, &quot;properties&quot;: {&quot;Crop&quot;: 5, &quot;DryYield&quot;: 0.653, &quot;Elevation&quot;: 267.52, &quot;Heading&quot;: 179.3, &quot;Latitude&quot;: -31.59360864, &quot;Longitude&quot;: 117.4966027, &quot;Time&quot;: &quot;11/12/2020 3:19&quot;, &quot;Variety&quot;: &quot;43Y23 RR&quot;, &quot;__folium_color&quot;: &quot;#350498&quot;, &quot;sample_id&quot;: &quot;bf66_sample_1&quot;}, &quot;type&quot;: &quot;Feature&quot;}, {&quot;bbox&quot;: [117.4966025, -31.59552446, 117.4966025, -31.59552446], &quot;geometry&quot;: {&quot;coordinates&quot;: [117.4966025, -31.59552446], &quot;type&quot;: &quot;Point&quot;}, &quot;id&quot;: &quot;314&quot;, &quot;properties&quot;: {&quot;Crop&quot;: 5, &quot;DryYield&quot;: 0.646, &quot;Elevation&quot;: 268.6, &quot;Heading&quot;: 179.2, &quot;Latitude&quot;: -31.59552446, &quot;Longitude&quot;: 117.4966025, &quot;Time&quot;: &quot;11/12/2020 3:20&quot;, &quot;Variety&quot;: &quot;43Y23 RR&quot;, &quot;__folium_color&quot;: &quot;#330597&quot;, &quot;sample_id&quot;: &quot;bf66_sample_1&quot;}, &quot;type&quot;: &quot;Feature&quot;}, {&quot;bbox&quot;: [117.4963275, -31.5969909, 117.4963275, -31.5969909], &quot;geometry&quot;: {&quot;coordinates&quot;: [117.4963275, -31.5969909], &quot;type&quot;: &quot;Point&quot;}, &quot;id&quot;: &quot;315&quot;, &quot;properties&quot;: {&quot;Crop&quot;: 5, &quot;DryYield&quot;: 0.75, &quot;Elevation&quot;: 268.9, &quot;Heading&quot;: 347.9, &quot;Latitude&quot;: -31.5969909, &quot;Longitude&quot;: 117.4963275, &quot;Time&quot;: &quot;11/12/2020 3:21&quot;, &quot;Variety&quot;: &quot;43Y23 RR&quot;, &quot;__folium_color&quot;: &quot;#38049a&quot;, &quot;sample_id&quot;: &quot;bf66_sample_1&quot;}, &quot;type&quot;: &quot;Feature&quot;}, {&quot;bbox&quot;: [117.4966019, -31.59841795, 117.4966019, -31.59841795], &quot;geometry&quot;: {&quot;coordinates&quot;: [117.4966019, -31.59841795], &quot;type&quot;: &quot;Point&quot;}, &quot;id&quot;: &quot;316&quot;, &quot;properties&quot;: {&quot;Crop&quot;: 5, &quot;DryYield&quot;: 0.912, &quot;Elevation&quot;: 268.0, &quot;Heading&quot;: 180.4, &quot;Latitude&quot;: -31.59841795, &quot;Longitude&quot;: 117.4966019, &quot;Time&quot;: &quot;11/12/2020 3:23&quot;, &quot;Variety&quot;: &quot;43Y23 RR&quot;, &quot;__folium_color&quot;: &quot;#41049d&quot;, &quot;sample_id&quot;: &quot;bf66_sample_1&quot;}, &quot;type&quot;: &quot;Feature&quot;}, {&quot;bbox&quot;: [117.4966023, -31.60013682, 117.4966023, -31.60013682], &quot;geometry&quot;: {&quot;coordinates&quot;: [117.4966023, -31.60013682], &quot;type&quot;: &quot;Point&quot;}, &quot;id&quot;: &quot;317&quot;, &quot;properties&quot;: {&quot;Crop&quot;: 5, &quot;DryYield&quot;: 0.976, &quot;Elevation&quot;: 268.02, &quot;Heading&quot;: 180.0, &quot;Latitude&quot;: -31.60013682, &quot;Longitude&quot;: 117.4966023, &quot;Time&quot;: &quot;11/12/2020 3:24&quot;, &quot;Variety&quot;: &quot;43Y23 RR&quot;, &quot;__folium_color&quot;: &quot;#44039e&quot;, &quot;sample_id&quot;: &quot;bf66_sample_1&quot;}, &quot;type&quot;: &quot;Feature&quot;}, {&quot;bbox&quot;: [117.4966025, -31.60183957, 117.4966025, -31.60183957], &quot;geometry&quot;: {&quot;coordinates&quot;: [117.4966025, -31.60183957], &quot;type&quot;: &quot;Point&quot;}, &quot;id&quot;: &quot;318&quot;, &quot;properties&quot;: {&quot;Crop&quot;: 5, &quot;DryYield&quot;: 0.802, &quot;Elevation&quot;: 263.79, &quot;Heading&quot;: 180.0, &quot;Latitude&quot;: -31.60183957, &quot;Longitude&quot;: 117.4966025, &quot;Time&quot;: &quot;11/12/2020 3:25&quot;, &quot;Variety&quot;: &quot;43Y23 RR&quot;, &quot;__folium_color&quot;: &quot;#3c049b&quot;, &quot;sample_id&quot;: &quot;bf66_sample_1&quot;}, &quot;type&quot;: &quot;Feature&quot;}, {&quot;bbox&quot;: [117.4966028, -31.60388359, 117.4966028, -31.60388359], &quot;geometry&quot;: {&quot;coordinates&quot;: [117.4966028, -31.60388359], &quot;type&quot;: &quot;Point&quot;}, &quot;id&quot;: &quot;319&quot;, &quot;properties&quot;: {&quot;Crop&quot;: 5, &quot;DryYield&quot;: 0.452, &quot;Elevation&quot;: 263.09, &quot;Heading&quot;: 179.5, &quot;Latitude&quot;: -31.60388359, &quot;Longitude&quot;: 117.4966028, &quot;Time&quot;: &quot;11/12/2020 3:27&quot;, &quot;Variety&quot;: &quot;43Y23 RR&quot;, &quot;__folium_color&quot;: &quot;#2a0593&quot;, &quot;sample_id&quot;: &quot;bf66_sample_1&quot;}, &quot;type&quot;: &quot;Feature&quot;}, {&quot;bbox&quot;: [117.4966023, -31.60611905, 117.4966023, -31.60611905], &quot;geometry&quot;: {&quot;coordinates&quot;: [117.4966023, -31.60611905], &quot;type&quot;: &quot;Point&quot;}, &quot;id&quot;: &quot;320&quot;, &quot;properties&quot;: {&quot;Crop&quot;: 5, &quot;DryYield&quot;: 0.339, &quot;Elevation&quot;: 266.78, &quot;Heading&quot;: 180.2, &quot;Latitude&quot;: -31.60611905, &quot;Longitude&quot;: 117.4966023, &quot;Time&quot;: &quot;11/12/2020 3:28&quot;, &quot;Variety&quot;: &quot;43Y23 RR&quot;, &quot;__folium_color&quot;: &quot;#240691&quot;, &quot;sample_id&quot;: &quot;bf66_sample_1&quot;}, &quot;type&quot;: &quot;Feature&quot;}, {&quot;bbox&quot;: [117.4966021, -31.60831203, 117.4966021, -31.60831203], &quot;geometry&quot;: {&quot;coordinates&quot;: [117.4966021, -31.60831203], &quot;type&quot;: &quot;Point&quot;}, &quot;id&quot;: &quot;321&quot;, &quot;properties&quot;: {&quot;Crop&quot;: 5, &quot;DryYield&quot;: 0.151, &quot;Elevation&quot;: 268.73, &quot;Heading&quot;: 179.9, &quot;Latitude&quot;: -31.60831203, &quot;Longitude&quot;: 117.4966021, &quot;Time&quot;: &quot;11/12/2020 3:30&quot;, &quot;Variety&quot;: &quot;43Y23 RR&quot;, &quot;__folium_color&quot;: &quot;#19068c&quot;, &quot;sample_id&quot;: &quot;bf66_sample_1&quot;}, &quot;type&quot;: &quot;Feature&quot;}, {&quot;bbox&quot;: [117.4959704, -31.6069392, 117.4959704, -31.6069392], &quot;geometry&quot;: {&quot;coordinates&quot;: [117.4959704, -31.6069392], &quot;type&quot;: &quot;Point&quot;}, &quot;id&quot;: &quot;322&quot;, &quot;properties&quot;: {&quot;Crop&quot;: 5, &quot;DryYield&quot;: 0.476, &quot;Elevation&quot;: 269.79, &quot;Heading&quot;: 0.6, &quot;Latitude&quot;: -31.6069392, &quot;Longitude&quot;: 117.4959704, &quot;Time&quot;: &quot;11/12/2020 3:34&quot;, &quot;Variety&quot;: &quot;43Y23 RR&quot;, &quot;__folium_color&quot;: &quot;#2c0594&quot;, &quot;sample_id&quot;: &quot;bf66_sample_1&quot;}, &quot;type&quot;: &quot;Feature&quot;}, {&quot;bbox&quot;: [117.4959704, -31.60482432, 117.4959704, -31.60482432], &quot;geometry&quot;: {&quot;coordinates&quot;: [117.4959704, -31.60482432], &quot;type&quot;: &quot;Point&quot;}, &quot;id&quot;: &quot;323&quot;, &quot;properties&quot;: {&quot;Crop&quot;: 5, &quot;DryYield&quot;: 0.342, &quot;Elevation&quot;: 266.08, &quot;Heading&quot;: 0.7, &quot;Latitude&quot;: -31.60482432, &quot;Longitude&quot;: 117.4959704, &quot;Time&quot;: &quot;11/12/2020 3:36&quot;, &quot;Variety&quot;: &quot;43Y23 RR&quot;, &quot;__folium_color&quot;: &quot;#240691&quot;, &quot;sample_id&quot;: &quot;bf66_sample_1&quot;}, &quot;type&quot;: &quot;Feature&quot;}, {&quot;bbox&quot;: [117.4959702, -31.60275152, 117.4959702, -31.60275152], &quot;geometry&quot;: {&quot;coordinates&quot;: [117.4959702, -31.60275152], &quot;type&quot;: &quot;Point&quot;}, &quot;id&quot;: &quot;324&quot;, &quot;properties&quot;: {&quot;Crop&quot;: 5, &quot;DryYield&quot;: 0.612, &quot;Elevation&quot;: 261.63, &quot;Heading&quot;: 0.4, &quot;Latitude&quot;: -31.60275152, &quot;Longitude&quot;: 117.4959702, &quot;Time&quot;: &quot;11/12/2020 3:37&quot;, &quot;Variety&quot;: &quot;43Y23 RR&quot;, &quot;__folium_color&quot;: &quot;#310597&quot;, &quot;sample_id&quot;: &quot;bf66_sample_1&quot;}, &quot;type&quot;: &quot;Feature&quot;}, {&quot;bbox&quot;: [117.4959699, -31.60075649, 117.4959699, -31.60075649], &quot;geometry&quot;: {&quot;coordinates&quot;: [117.4959699, -31.60075649], &quot;type&quot;: &quot;Point&quot;}, &quot;id&quot;: &quot;325&quot;, &quot;properties&quot;: {&quot;Crop&quot;: 5, &quot;DryYield&quot;: 0.837, &quot;Elevation&quot;: 268.04, &quot;Heading&quot;: 359.8, &quot;Latitude&quot;: -31.60075649, &quot;Longitude&quot;: 117.4959699, &quot;Time&quot;: &quot;11/12/2020 3:38&quot;, &quot;Variety&quot;: &quot;43Y23 RR&quot;, &quot;__folium_color&quot;: &quot;#3e049c&quot;, &quot;sample_id&quot;: &quot;bf66_sample_1&quot;}, &quot;type&quot;: &quot;Feature&quot;}, {&quot;bbox&quot;: [117.4959701, -31.59906292, 117.4959701, -31.59906292], &quot;geometry&quot;: {&quot;coordinates&quot;: [117.4959701, -31.59906292], &quot;type&quot;: &quot;Point&quot;}, &quot;id&quot;: &quot;326&quot;, &quot;properties&quot;: {&quot;Crop&quot;: 5, &quot;DryYield&quot;: 0.986, &quot;Elevation&quot;: 270.61, &quot;Heading&quot;: 0.5, &quot;Latitude&quot;: -31.59906292, &quot;Longitude&quot;: 117.4959701, &quot;Time&quot;: &quot;11/12/2020 3:40&quot;, &quot;Variety&quot;: &quot;43Y23 RR&quot;, &quot;__folium_color&quot;: &quot;#44039e&quot;, &quot;sample_id&quot;: &quot;bf66_sample_1&quot;}, &quot;type&quot;: &quot;Feature&quot;}, {&quot;bbox&quot;: [117.4959701, -31.5974453, 117.4959701, -31.5974453], &quot;geometry&quot;: {&quot;coordinates&quot;: [117.4959701, -31.5974453], &quot;type&quot;: &quot;Point&quot;}, &quot;id&quot;: &quot;327&quot;, &quot;properties&quot;: {&quot;Crop&quot;: 5, &quot;DryYield&quot;: 0.755, &quot;Elevation&quot;: 270.47, &quot;Heading&quot;: 359.7, &quot;Latitude&quot;: -31.5974453, &quot;Longitude&quot;: 117.4959701, &quot;Time&quot;: &quot;11/12/2020 3:41&quot;, &quot;Variety&quot;: &quot;43Y23 RR&quot;, &quot;__folium_color&quot;: &quot;#38049a&quot;, &quot;sample_id&quot;: &quot;bf66_sample_1&quot;}, &quot;type&quot;: &quot;Feature&quot;}, {&quot;bbox&quot;: [117.4959702, -31.59566832, 117.4959702, -31.59566832], &quot;geometry&quot;: {&quot;coordinates&quot;: [117.4959702, -31.59566832], &quot;type&quot;: &quot;Point&quot;}, &quot;id&quot;: &quot;328&quot;, &quot;properties&quot;: {&quot;Crop&quot;: 5, &quot;DryYield&quot;: 0.553, &quot;Elevation&quot;: 271.19, &quot;Heading&quot;: 0.4, &quot;Latitude&quot;: -31.59566832, &quot;Longitude&quot;: 117.4959702, &quot;Time&quot;: &quot;11/12/2020 3:42&quot;, &quot;Variety&quot;: &quot;43Y23 RR&quot;, &quot;__folium_color&quot;: &quot;#2f0596&quot;, &quot;sample_id&quot;: &quot;bf66_sample_1&quot;}, &quot;type&quot;: &quot;Feature&quot;}, {&quot;bbox&quot;: [117.4959706, -31.59470007, 117.4959706, -31.59470007], &quot;geometry&quot;: {&quot;coordinates&quot;: [117.4959706, -31.59470007], &quot;type&quot;: &quot;Point&quot;}, &quot;id&quot;: &quot;329&quot;, &quot;properties&quot;: {&quot;Crop&quot;: 5, &quot;DryYield&quot;: 0.735, &quot;Elevation&quot;: 270.43, &quot;Heading&quot;: 0.1, &quot;Latitude&quot;: -31.59470007, &quot;Longitude&quot;: 117.4959706, &quot;Time&quot;: &quot;11/12/2020 3:44&quot;, &quot;Variety&quot;: &quot;43Y23 RR&quot;, &quot;__folium_color&quot;: &quot;#38049a&quot;, &quot;sample_id&quot;: &quot;bf66_sample_1&quot;}, &quot;type&quot;: &quot;Feature&quot;}, {&quot;bbox&quot;: [117.4959697, -31.5927107, 117.4959697, -31.5927107], &quot;geometry&quot;: {&quot;coordinates&quot;: [117.4959697, -31.5927107], &quot;type&quot;: &quot;Point&quot;}, &quot;id&quot;: &quot;330&quot;, &quot;properties&quot;: {&quot;Crop&quot;: 5, &quot;DryYield&quot;: 0.486, &quot;Elevation&quot;: 267.34, &quot;Heading&quot;: 0.1, &quot;Latitude&quot;: -31.5927107, &quot;Longitude&quot;: 117.4959697, &quot;Time&quot;: &quot;11/12/2020 3:45&quot;, &quot;Variety&quot;: &quot;43Y23 RR&quot;, &quot;__folium_color&quot;: &quot;#2c0594&quot;, &quot;sample_id&quot;: &quot;bf66_sample_1&quot;}, &quot;type&quot;: &quot;Feature&quot;}, {&quot;bbox&quot;: [117.4960965, -31.59224295, 117.4960965, -31.59224295], &quot;geometry&quot;: {&quot;coordinates&quot;: [117.4960965, -31.59224295], &quot;type&quot;: &quot;Point&quot;}, &quot;id&quot;: &quot;331&quot;, &quot;properties&quot;: {&quot;Crop&quot;: 5, &quot;DryYield&quot;: 0.549, &quot;Elevation&quot;: 265.72, &quot;Heading&quot;: 179.9, &quot;Latitude&quot;: -31.59224295, &quot;Longitude&quot;: 117.4960965, &quot;Time&quot;: &quot;11/12/2020 3:47&quot;, &quot;Variety&quot;: &quot;43Y23 RR&quot;, &quot;__folium_color&quot;: &quot;#2f0596&quot;, &quot;sample_id&quot;: &quot;bf66_sample_1&quot;}, &quot;type&quot;: &quot;Feature&quot;}, {&quot;bbox&quot;: [117.4960965, -31.59420522, 117.4960965, -31.59420522], &quot;geometry&quot;: {&quot;coordinates&quot;: [117.4960965, -31.59420522], &quot;type&quot;: &quot;Point&quot;}, &quot;id&quot;: &quot;332&quot;, &quot;properties&quot;: {&quot;Crop&quot;: 5, &quot;DryYield&quot;: 0.725, &quot;Elevation&quot;: 269.79, &quot;Heading&quot;: 179.8, &quot;Latitude&quot;: -31.59420522, &quot;Longitude&quot;: 117.4960965, &quot;Time&quot;: &quot;11/12/2020 3:48&quot;, &quot;Variety&quot;: &quot;43Y23 RR&quot;, &quot;__folium_color&quot;: &quot;#38049a&quot;, &quot;sample_id&quot;: &quot;bf66_sample_1&quot;}, &quot;type&quot;: &quot;Feature&quot;}, {&quot;bbox&quot;: [117.4960967, -31.59646772, 117.4960967, -31.59646772], &quot;geometry&quot;: {&quot;coordinates&quot;: [117.4960967, -31.59646772], &quot;type&quot;: &quot;Point&quot;}, &quot;id&quot;: &quot;333&quot;, &quot;properties&quot;: {&quot;Crop&quot;: 5, &quot;DryYield&quot;: 0.687, &quot;Elevation&quot;: 270.16, &quot;Heading&quot;: 179.8, &quot;Latitude&quot;: -31.59646772, &quot;Longitude&quot;: 117.4960967, &quot;Time&quot;: &quot;11/12/2020 3:49&quot;, &quot;Variety&quot;: &quot;43Y23 RR&quot;, &quot;__folium_color&quot;: &quot;#370499&quot;, &quot;sample_id&quot;: &quot;bf66_sample_1&quot;}, &quot;type&quot;: &quot;Feature&quot;}, {&quot;bbox&quot;: [117.4962798, -31.59796357, 117.4962798, -31.59796357], &quot;geometry&quot;: {&quot;coordinates&quot;: [117.4962798, -31.59796357], &quot;type&quot;: &quot;Point&quot;}, &quot;id&quot;: &quot;334&quot;, &quot;properties&quot;: {&quot;Crop&quot;: 5, &quot;DryYield&quot;: 0.0, &quot;Elevation&quot;: 269.34, &quot;Heading&quot;: 16.7, &quot;Latitude&quot;: -31.59796357, &quot;Longitude&quot;: 117.4962798, &quot;Time&quot;: &quot;11/12/2020 3:51&quot;, &quot;Variety&quot;: &quot;43Y23 RR&quot;, &quot;__folium_color&quot;: &quot;#0d0887&quot;, &quot;sample_id&quot;: &quot;bf66_sample_1&quot;}, &quot;type&quot;: &quot;Feature&quot;}, {&quot;bbox&quot;: [117.4960969, -31.59970787, 117.4960969, -31.59970787], &quot;geometry&quot;: {&quot;coordinates&quot;: [117.4960969, -31.59970787], &quot;type&quot;: &quot;Point&quot;}, &quot;id&quot;: &quot;335&quot;, &quot;properties&quot;: {&quot;Crop&quot;: 5, &quot;DryYield&quot;: 0.791, &quot;Elevation&quot;: 270.12, &quot;Heading&quot;: 179.8, &quot;Latitude&quot;: -31.59970787, &quot;Longitude&quot;: 117.4960969, &quot;Time&quot;: &quot;11/12/2020 3:52&quot;, &quot;Variety&quot;: &quot;43Y23 RR&quot;, &quot;__folium_color&quot;: &quot;#3a049a&quot;, &quot;sample_id&quot;: &quot;bf66_sample_1&quot;}, &quot;type&quot;: &quot;Feature&quot;}, {&quot;bbox&quot;: [117.4960965, -31.60144678, 117.4960965, -31.60144678], &quot;geometry&quot;: {&quot;coordinates&quot;: [117.4960965, -31.60144678], &quot;type&quot;: &quot;Point&quot;}, &quot;id&quot;: &quot;336&quot;, &quot;properties&quot;: {&quot;Crop&quot;: 5, &quot;DryYield&quot;: 0.726, &quot;Elevation&quot;: 265.68, &quot;Heading&quot;: 180.1, &quot;Latitude&quot;: -31.60144678, &quot;Longitude&quot;: 117.4960965, &quot;Time&quot;: &quot;11/12/2020 3:54&quot;, &quot;Variety&quot;: &quot;43Y23 RR&quot;, &quot;__folium_color&quot;: &quot;#38049a&quot;, &quot;sample_id&quot;: &quot;bf66_sample_1&quot;}, &quot;type&quot;: &quot;Feature&quot;}, {&quot;bbox&quot;: [117.4974876, -31.59727341, 117.4974876, -31.59727341], &quot;geometry&quot;: {&quot;coordinates&quot;: [117.4974876, -31.59727341], &quot;type&quot;: &quot;Point&quot;}, &quot;id&quot;: &quot;337&quot;, &quot;properties&quot;: {&quot;Crop&quot;: 5, &quot;DryYield&quot;: 0.961, &quot;Elevation&quot;: 264.46, &quot;Heading&quot;: 179.8, &quot;Latitude&quot;: -31.59727341, &quot;Longitude&quot;: 117.4974876, &quot;Time&quot;: &quot;11/12/2020 3:03&quot;, &quot;Variety&quot;: &quot;43Y23 RR&quot;, &quot;__folium_color&quot;: &quot;#43039e&quot;, &quot;sample_id&quot;: &quot;bf66_sample_1&quot;}, &quot;type&quot;: &quot;Feature&quot;}, {&quot;bbox&quot;: [117.4974874, -31.59912772, 117.4974874, -31.59912772], &quot;geometry&quot;: {&quot;coordinates&quot;: [117.4974874, -31.59912772], &quot;type&quot;: &quot;Point&quot;}, &quot;id&quot;: &quot;338&quot;, &quot;properties&quot;: {&quot;Crop&quot;: 5, &quot;DryYield&quot;: 1.207, &quot;Elevation&quot;: 265.56, &quot;Heading&quot;: 179.9, &quot;Latitude&quot;: -31.59912772, &quot;Longitude&quot;: 117.4974874, &quot;Time&quot;: &quot;11/12/2020 3:04&quot;, &quot;Variety&quot;: &quot;43Y23 RR&quot;, &quot;__folium_color&quot;: &quot;#4e02a2&quot;, &quot;sample_id&quot;: &quot;bf66_sample_1&quot;}, &quot;type&quot;: &quot;Feature&quot;}, {&quot;bbox&quot;: [117.4974876, -31.60095702, 117.4974876, -31.60095702], &quot;geometry&quot;: {&quot;coordinates&quot;: [117.4974876, -31.60095702], &quot;type&quot;: &quot;Point&quot;}, &quot;id&quot;: &quot;339&quot;, &quot;properties&quot;: {&quot;Crop&quot;: 5, &quot;DryYield&quot;: 1.092, &quot;Elevation&quot;: 264.44, &quot;Heading&quot;: 179.9, &quot;Latitude&quot;: -31.60095702, &quot;Longitude&quot;: 117.4974876, &quot;Time&quot;: &quot;11/12/2020 3:05&quot;, &quot;Variety&quot;: &quot;43Y23 RR&quot;, &quot;__folium_color&quot;: &quot;#4903a0&quot;, &quot;sample_id&quot;: &quot;bf66_sample_1&quot;}, &quot;type&quot;: &quot;Feature&quot;}, {&quot;bbox&quot;: [117.4974876, -31.60295863, 117.4974876, -31.60295863], &quot;geometry&quot;: {&quot;coordinates&quot;: [117.4974876, -31.60295863], &quot;type&quot;: &quot;Point&quot;}, &quot;id&quot;: &quot;340&quot;, &quot;properties&quot;: {&quot;Crop&quot;: 5, &quot;DryYield&quot;: 0.503, &quot;Elevation&quot;: 260.32, &quot;Heading&quot;: 180.8, &quot;Latitude&quot;: -31.60295863, &quot;Longitude&quot;: 117.4974876, &quot;Time&quot;: &quot;11/12/2020 3:07&quot;, &quot;Variety&quot;: &quot;43Y23 RR&quot;, &quot;__folium_color&quot;: &quot;#2c0594&quot;, &quot;sample_id&quot;: &quot;bf66_sample_1&quot;}, &quot;type&quot;: &quot;Feature&quot;}, {&quot;bbox&quot;: [117.4973471, -31.60547046, 117.4973471, -31.60547046], &quot;geometry&quot;: {&quot;coordinates&quot;: [117.4973471, -31.60547046], &quot;type&quot;: &quot;Point&quot;}, &quot;id&quot;: &quot;341&quot;, &quot;properties&quot;: {&quot;Crop&quot;: 5, &quot;DryYield&quot;: 0.592, &quot;Elevation&quot;: 264.1, &quot;Heading&quot;: 352.3, &quot;Latitude&quot;: -31.60547046, &quot;Longitude&quot;: 117.4973471, &quot;Time&quot;: &quot;11/12/2020 3:09&quot;, &quot;Variety&quot;: &quot;43Y23 RR&quot;, &quot;__folium_color&quot;: &quot;#310597&quot;, &quot;sample_id&quot;: &quot;bf66_sample_1&quot;}, &quot;type&quot;: &quot;Feature&quot;}, {&quot;bbox&quot;: [117.497361, -31.60349449, 117.497361, -31.60349449], &quot;geometry&quot;: {&quot;coordinates&quot;: [117.497361, -31.60349449], &quot;type&quot;: &quot;Point&quot;}, &quot;id&quot;: &quot;342&quot;, &quot;properties&quot;: {&quot;Crop&quot;: 5, &quot;DryYield&quot;: 0.316, &quot;Elevation&quot;: 261.61, &quot;Heading&quot;: 359.8, &quot;Latitude&quot;: -31.60349449, &quot;Longitude&quot;: 117.497361, &quot;Time&quot;: &quot;11/12/2020 3:10&quot;, &quot;Variety&quot;: &quot;43Y23 RR&quot;, &quot;__folium_color&quot;: &quot;#220690&quot;, &quot;sample_id&quot;: &quot;bf66_sample_1&quot;}, &quot;type&quot;: &quot;Feature&quot;}, {&quot;bbox&quot;: [117.4973611, -31.60175102, 117.4973611, -31.60175102], &quot;geometry&quot;: {&quot;coordinates&quot;: [117.4973611, -31.60175102], &quot;type&quot;: &quot;Point&quot;}, &quot;id&quot;: &quot;343&quot;, &quot;properties&quot;: {&quot;Crop&quot;: 5, &quot;DryYield&quot;: 1.217, &quot;Elevation&quot;: 263.21, &quot;Heading&quot;: 0.2, &quot;Latitude&quot;: -31.60175102, &quot;Longitude&quot;: 117.4973611, &quot;Time&quot;: &quot;11/12/2020 3:11&quot;, &quot;Variety&quot;: &quot;43Y23 RR&quot;, &quot;__folium_color&quot;: &quot;#4e02a2&quot;, &quot;sample_id&quot;: &quot;bf66_sample_1&quot;}, &quot;type&quot;: &quot;Feature&quot;}, {&quot;bbox&quot;: [117.4973613, -31.60014862, 117.4973613, -31.60014862], &quot;geometry&quot;: {&quot;coordinates&quot;: [117.4973613, -31.60014862], &quot;type&quot;: &quot;Point&quot;}, &quot;id&quot;: &quot;344&quot;, &quot;properties&quot;: {&quot;Crop&quot;: 5, &quot;DryYield&quot;: 1.13, &quot;Elevation&quot;: 265.66, &quot;Heading&quot;: 0.2, &quot;Latitude&quot;: -31.60014862, &quot;Longitude&quot;: 117.4973613, &quot;Time&quot;: &quot;11/12/2020 3:12&quot;, &quot;Variety&quot;: &quot;43Y23 RR&quot;, &quot;__folium_color&quot;: &quot;#4b03a1&quot;, &quot;sample_id&quot;: &quot;bf66_sample_1&quot;}, &quot;type&quot;: &quot;Feature&quot;}, {&quot;bbox&quot;: [117.4973608, -31.59836403, 117.4973608, -31.59836403], &quot;geometry&quot;: {&quot;coordinates&quot;: [117.4973608, -31.59836403], &quot;type&quot;: &quot;Point&quot;}, &quot;id&quot;: &quot;345&quot;, &quot;properties&quot;: {&quot;Crop&quot;: 5, &quot;DryYield&quot;: 1.364, &quot;Elevation&quot;: 265.67, &quot;Heading&quot;: 359.7, &quot;Latitude&quot;: -31.59836403, &quot;Longitude&quot;: 117.4973608, &quot;Time&quot;: &quot;11/12/2020 3:14&quot;, &quot;Variety&quot;: &quot;43Y23 RR&quot;, &quot;__folium_color&quot;: &quot;#5502a4&quot;, &quot;sample_id&quot;: &quot;bf66_sample_1&quot;}, &quot;type&quot;: &quot;Feature&quot;}, {&quot;bbox&quot;: [117.497361, -31.59672495, 117.497361, -31.59672495], &quot;geometry&quot;: {&quot;coordinates&quot;: [117.497361, -31.59672495], &quot;type&quot;: &quot;Point&quot;}, &quot;id&quot;: &quot;346&quot;, &quot;properties&quot;: {&quot;Crop&quot;: 5, &quot;DryYield&quot;: 0.848, &quot;Elevation&quot;: 265.23, &quot;Heading&quot;: 360.0, &quot;Latitude&quot;: -31.59672495, &quot;Longitude&quot;: 117.497361, &quot;Time&quot;: &quot;11/12/2020 3:15&quot;, &quot;Variety&quot;: &quot;43Y23 RR&quot;, &quot;__folium_color&quot;: &quot;#3e049c&quot;, &quot;sample_id&quot;: &quot;bf66_sample_1&quot;}, &quot;type&quot;: &quot;Feature&quot;}, {&quot;bbox&quot;: [117.497361, -31.59479843, 117.497361, -31.59479843], &quot;geometry&quot;: {&quot;coordinates&quot;: [117.497361, -31.59479843], &quot;type&quot;: &quot;Point&quot;}, &quot;id&quot;: &quot;347&quot;, &quot;properties&quot;: {&quot;Crop&quot;: 5, &quot;DryYield&quot;: 0.736, &quot;Elevation&quot;: 266.05, &quot;Heading&quot;: 0.0, &quot;Latitude&quot;: -31.59479843, &quot;Longitude&quot;: 117.497361, &quot;Time&quot;: &quot;11/12/2020 3:16&quot;, &quot;Variety&quot;: &quot;43Y23 RR&quot;, &quot;__folium_color&quot;: &quot;#38049a&quot;, &quot;sample_id&quot;: &quot;bf66_sample_1&quot;}, &quot;type&quot;: &quot;Feature&quot;}, {&quot;bbox&quot;: [117.4973611, -31.59294311, 117.4973611, -31.59294311], &quot;geometry&quot;: {&quot;coordinates&quot;: [117.4973611, -31.59294311], &quot;type&quot;: &quot;Point&quot;}, &quot;id&quot;: &quot;348&quot;, &quot;properties&quot;: {&quot;Crop&quot;: 5, &quot;DryYield&quot;: 1.166, &quot;Elevation&quot;: 264.77, &quot;Heading&quot;: 0.2, &quot;Latitude&quot;: -31.59294311, &quot;Longitude&quot;: 117.4973611, &quot;Time&quot;: &quot;11/12/2020 3:18&quot;, &quot;Variety&quot;: &quot;43Y23 RR&quot;, &quot;__folium_color&quot;: &quot;#4c02a1&quot;, &quot;sample_id&quot;: &quot;bf66_sample_1&quot;}, &quot;type&quot;: &quot;Feature&quot;}, {&quot;bbox&quot;: [117.496476, -31.59199797, 117.496476, -31.59199797], &quot;geometry&quot;: {&quot;coordinates&quot;: [117.496476, -31.59199797], &quot;type&quot;: &quot;Point&quot;}, &quot;id&quot;: &quot;349&quot;, &quot;properties&quot;: {&quot;Crop&quot;: 5, &quot;DryYield&quot;: 1.066, &quot;Elevation&quot;: 264.87, &quot;Heading&quot;: 179.8, &quot;Latitude&quot;: -31.59199797, &quot;Longitude&quot;: 117.496476, &quot;Time&quot;: &quot;11/12/2020 3:20&quot;, &quot;Variety&quot;: &quot;43Y23 RR&quot;, &quot;__folium_color&quot;: &quot;#48039f&quot;, &quot;sample_id&quot;: &quot;bf66_sample_1&quot;}, &quot;type&quot;: &quot;Feature&quot;}, {&quot;bbox&quot;: [117.496476, -31.59387767, 117.496476, -31.59387767], &quot;geometry&quot;: {&quot;coordinates&quot;: [117.496476, -31.59387767], &quot;type&quot;: &quot;Point&quot;}, &quot;id&quot;: &quot;350&quot;, &quot;properties&quot;: {&quot;Crop&quot;: 5, &quot;DryYield&quot;: 0.862, &quot;Elevation&quot;: 268.42, &quot;Heading&quot;: 180.0, &quot;Latitude&quot;: -31.59387767, &quot;Longitude&quot;: 117.496476, &quot;Time&quot;: &quot;11/12/2020 3:21&quot;, &quot;Variety&quot;: &quot;43Y23 RR&quot;, &quot;__folium_color&quot;: &quot;#3e049c&quot;, &quot;sample_id&quot;: &quot;bf66_sample_1&quot;}, &quot;type&quot;: &quot;Feature&quot;}, {&quot;bbox&quot;: [117.496476, -31.5958923, 117.496476, -31.5958923], &quot;geometry&quot;: {&quot;coordinates&quot;: [117.496476, -31.5958923], &quot;type&quot;: &quot;Point&quot;}, &quot;id&quot;: &quot;351&quot;, &quot;properties&quot;: {&quot;Crop&quot;: 5, &quot;DryYield&quot;: 0.73, &quot;Elevation&quot;: 269.26, &quot;Heading&quot;: 180.0, &quot;Latitude&quot;: -31.5958923, &quot;Longitude&quot;: 117.496476, &quot;Time&quot;: &quot;11/12/2020 3:22&quot;, &quot;Variety&quot;: &quot;43Y23 RR&quot;, &quot;__folium_color&quot;: &quot;#38049a&quot;, &quot;sample_id&quot;: &quot;bf66_sample_1&quot;}, &quot;type&quot;: &quot;Feature&quot;}, {&quot;bbox&quot;: [117.4964757, -31.59788375, 117.4964757, -31.59788375], &quot;geometry&quot;: {&quot;coordinates&quot;: [117.4964757, -31.59788375], &quot;type&quot;: &quot;Point&quot;}, &quot;id&quot;: &quot;352&quot;, &quot;properties&quot;: {&quot;Crop&quot;: 5, &quot;DryYield&quot;: 1.227, &quot;Elevation&quot;: 268.59, &quot;Heading&quot;: 180.0, &quot;Latitude&quot;: -31.59788375, &quot;Longitude&quot;: 117.4964757, &quot;Time&quot;: &quot;11/12/2020 3:24&quot;, &quot;Variety&quot;: &quot;43Y23 RR&quot;, &quot;__folium_color&quot;: &quot;#4e02a2&quot;, &quot;sample_id&quot;: &quot;bf66_sample_1&quot;}, &quot;type&quot;: &quot;Feature&quot;}, {&quot;bbox&quot;: [117.4964758, -31.59901803, 117.4964758, -31.59901803], &quot;geometry&quot;: {&quot;coordinates&quot;: [117.4964758, -31.59901803], &quot;type&quot;: &quot;Point&quot;}, &quot;id&quot;: &quot;353&quot;, &quot;properties&quot;: {&quot;Crop&quot;: 5, &quot;DryYield&quot;: 1.114, &quot;Elevation&quot;: 269.09, &quot;Heading&quot;: 180.0, &quot;Latitude&quot;: -31.59901803, &quot;Longitude&quot;: 117.4964758, &quot;Time&quot;: &quot;11/12/2020 3:25&quot;, &quot;Variety&quot;: &quot;43Y23 RR&quot;, &quot;__folium_color&quot;: &quot;#4903a0&quot;, &quot;sample_id&quot;: &quot;bf66_sample_1&quot;}, &quot;type&quot;: &quot;Feature&quot;}, {&quot;bbox&quot;: [117.496476, -31.60074853, 117.496476, -31.60074853], &quot;geometry&quot;: {&quot;coordinates&quot;: [117.496476, -31.60074853], &quot;type&quot;: &quot;Point&quot;}, &quot;id&quot;: &quot;354&quot;, &quot;properties&quot;: {&quot;Crop&quot;: 5, &quot;DryYield&quot;: 1.216, &quot;Elevation&quot;: 267.46, &quot;Heading&quot;: 179.9, &quot;Latitude&quot;: -31.60074853, &quot;Longitude&quot;: 117.496476, &quot;Time&quot;: &quot;11/12/2020 3:27&quot;, &quot;Variety&quot;: &quot;43Y23 RR&quot;, &quot;__folium_color&quot;: &quot;#4e02a2&quot;, &quot;sample_id&quot;: &quot;bf66_sample_1&quot;}, &quot;type&quot;: &quot;Feature&quot;}, {&quot;bbox&quot;: [117.496476, -31.60260782, 117.496476, -31.60260782], &quot;geometry&quot;: {&quot;coordinates&quot;: [117.496476, -31.60260782], &quot;type&quot;: &quot;Point&quot;}, &quot;id&quot;: &quot;355&quot;, &quot;properties&quot;: {&quot;Crop&quot;: 5, &quot;DryYield&quot;: 0.781, &quot;Elevation&quot;: 261.59, &quot;Heading&quot;: 180.0, &quot;Latitude&quot;: -31.60260782, &quot;Longitude&quot;: 117.496476, &quot;Time&quot;: &quot;11/12/2020 3:28&quot;, &quot;Variety&quot;: &quot;43Y23 RR&quot;, &quot;__folium_color&quot;: &quot;#3a049a&quot;, &quot;sample_id&quot;: &quot;bf66_sample_1&quot;}, &quot;type&quot;: &quot;Feature&quot;}, {&quot;bbox&quot;: [117.4965197, -31.60478081, 117.4965197, -31.60478081], &quot;geometry&quot;: {&quot;coordinates&quot;: [117.4965197, -31.60478081], &quot;type&quot;: &quot;Point&quot;}, &quot;id&quot;: &quot;356&quot;, &quot;properties&quot;: {&quot;Crop&quot;: 5, &quot;DryYield&quot;: 0.907, &quot;Elevation&quot;: 265.16, &quot;Heading&quot;: 179.8, &quot;Latitude&quot;: -31.60478081, &quot;Longitude&quot;: 117.4965197, &quot;Time&quot;: &quot;11/12/2020 3:29&quot;, &quot;Variety&quot;: &quot;43Y23 RR&quot;, &quot;__folium_color&quot;: &quot;#41049d&quot;, &quot;sample_id&quot;: &quot;bf66_sample_1&quot;}, &quot;type&quot;: &quot;Feature&quot;}, {&quot;bbox&quot;: [117.4964762, -31.60715672, 117.4964762, -31.60715672], &quot;geometry&quot;: {&quot;coordinates&quot;: [117.4964762, -31.60715672], &quot;type&quot;: &quot;Point&quot;}, &quot;id&quot;: &quot;357&quot;, &quot;properties&quot;: {&quot;Crop&quot;: 5, &quot;DryYield&quot;: 0.551, &quot;Elevation&quot;: 268.44, &quot;Heading&quot;: 180.0, &quot;Latitude&quot;: -31.60715672, &quot;Longitude&quot;: 117.4964762, &quot;Time&quot;: &quot;11/12/2020 3:31&quot;, &quot;Variety&quot;: &quot;43Y23 RR&quot;, &quot;__folium_color&quot;: &quot;#2f0596&quot;, &quot;sample_id&quot;: &quot;bf66_sample_1&quot;}, &quot;type&quot;: &quot;Feature&quot;}, {&quot;bbox&quot;: [117.4963499, -31.60817263, 117.4963499, -31.60817263], &quot;geometry&quot;: {&quot;coordinates&quot;: [117.4963499, -31.60817263], &quot;type&quot;: &quot;Point&quot;}, &quot;id&quot;: &quot;358&quot;, &quot;properties&quot;: {&quot;Crop&quot;: 5, &quot;DryYield&quot;: 0.497, &quot;Elevation&quot;: 269.7, &quot;Heading&quot;: 0.3, &quot;Latitude&quot;: -31.60817263, &quot;Longitude&quot;: 117.4963499, &quot;Time&quot;: &quot;11/12/2020 3:32&quot;, &quot;Variety&quot;: &quot;43Y23 RR&quot;, &quot;__folium_color&quot;: &quot;#2c0594&quot;, &quot;sample_id&quot;: &quot;bf66_sample_1&quot;}, &quot;type&quot;: &quot;Feature&quot;}, {&quot;bbox&quot;: [117.4963496, -31.60598471, 117.4963496, -31.60598471], &quot;geometry&quot;: {&quot;coordinates&quot;: [117.4963496, -31.60598471], &quot;type&quot;: &quot;Point&quot;}, &quot;id&quot;: &quot;359&quot;, &quot;properties&quot;: {&quot;Crop&quot;: 5, &quot;DryYield&quot;: 0.472, &quot;Elevation&quot;: 267.41, &quot;Heading&quot;: 360.0, &quot;Latitude&quot;: -31.60598471, &quot;Longitude&quot;: 117.4963496, &quot;Time&quot;: &quot;11/12/2020 3:33&quot;, &quot;Variety&quot;: &quot;43Y23 RR&quot;, &quot;__folium_color&quot;: &quot;#2c0594&quot;, &quot;sample_id&quot;: &quot;bf66_sample_1&quot;}, &quot;type&quot;: &quot;Feature&quot;}, {&quot;bbox&quot;: [117.4963496, -31.60362608, 117.4963496, -31.60362608], &quot;geometry&quot;: {&quot;coordinates&quot;: [117.4963496, -31.60362608], &quot;type&quot;: &quot;Point&quot;}, &quot;id&quot;: &quot;360&quot;, &quot;properties&quot;: {&quot;Crop&quot;: 5, &quot;DryYield&quot;: 0.57, &quot;Elevation&quot;: 263.2, &quot;Heading&quot;: 359.9, &quot;Latitude&quot;: -31.60362608, &quot;Longitude&quot;: 117.4963496, &quot;Time&quot;: &quot;11/12/2020 3:35&quot;, &quot;Variety&quot;: &quot;43Y23 RR&quot;, &quot;__folium_color&quot;: &quot;#2f0596&quot;, &quot;sample_id&quot;: &quot;bf66_sample_1&quot;}, &quot;type&quot;: &quot;Feature&quot;}, {&quot;bbox&quot;: [117.4963494, -31.60152767, 117.4963494, -31.60152767], &quot;geometry&quot;: {&quot;coordinates&quot;: [117.4963494, -31.60152767], &quot;type&quot;: &quot;Point&quot;}, &quot;id&quot;: &quot;361&quot;, &quot;properties&quot;: {&quot;Crop&quot;: 5, &quot;DryYield&quot;: 1.11, &quot;Elevation&quot;: 265.06, &quot;Heading&quot;: 359.9, &quot;Latitude&quot;: -31.60152767, &quot;Longitude&quot;: 117.4963494, &quot;Time&quot;: &quot;11/12/2020 3:36&quot;, &quot;Variety&quot;: &quot;43Y23 RR&quot;, &quot;__folium_color&quot;: &quot;#4903a0&quot;, &quot;sample_id&quot;: &quot;bf66_sample_1&quot;}, &quot;type&quot;: &quot;Feature&quot;}, {&quot;bbox&quot;: [117.4963496, -31.59961151, 117.4963496, -31.59961151], &quot;geometry&quot;: {&quot;coordinates&quot;: [117.4963496, -31.59961151], &quot;type&quot;: &quot;Point&quot;}, &quot;id&quot;: &quot;362&quot;, &quot;properties&quot;: {&quot;Crop&quot;: 5, &quot;DryYield&quot;: 1.174, &quot;Elevation&quot;: 269.54, &quot;Heading&quot;: 0.1, &quot;Latitude&quot;: -31.59961151, &quot;Longitude&quot;: 117.4963496, &quot;Time&quot;: &quot;11/12/2020 3:38&quot;, &quot;Variety&quot;: &quot;43Y23 RR&quot;, &quot;__folium_color&quot;: &quot;#4c02a1&quot;, &quot;sample_id&quot;: &quot;bf66_sample_1&quot;}, &quot;type&quot;: &quot;Feature&quot;}, {&quot;bbox&quot;: [117.4963499, -31.59771232, 117.4963499, -31.59771232], &quot;geometry&quot;: {&quot;coordinates&quot;: [117.4963499, -31.59771232], &quot;type&quot;: &quot;Point&quot;}, &quot;id&quot;: &quot;363&quot;, &quot;properties&quot;: {&quot;Crop&quot;: 5, &quot;DryYield&quot;: 0.975, &quot;Elevation&quot;: 269.07, &quot;Heading&quot;: 0.2, &quot;Latitude&quot;: -31.59771232, &quot;Longitude&quot;: 117.4963499, &quot;Time&quot;: &quot;11/12/2020 3:39&quot;, &quot;Variety&quot;: &quot;43Y23 RR&quot;, &quot;__folium_color&quot;: &quot;#44039e&quot;, &quot;sample_id&quot;: &quot;bf66_sample_1&quot;}, &quot;type&quot;: &quot;Feature&quot;}, {&quot;bbox&quot;: [117.4963494, -31.59573098, 117.4963494, -31.59573098], &quot;geometry&quot;: {&quot;coordinates&quot;: [117.4963494, -31.59573098], &quot;type&quot;: &quot;Point&quot;}, &quot;id&quot;: &quot;364&quot;, &quot;properties&quot;: {&quot;Crop&quot;: 5, &quot;DryYield&quot;: 0.823, &quot;Elevation&quot;: 269.86, &quot;Heading&quot;: 0.1, &quot;Latitude&quot;: -31.59573098, &quot;Longitude&quot;: 117.4963494, &quot;Time&quot;: &quot;11/12/2020 3:40&quot;, &quot;Variety&quot;: &quot;43Y23 RR&quot;, &quot;__folium_color&quot;: &quot;#3c049b&quot;, &quot;sample_id&quot;: &quot;bf66_sample_1&quot;}, &quot;type&quot;: &quot;Feature&quot;}, {&quot;bbox&quot;: [117.4963496, -31.59361339, 117.4963496, -31.59361339], &quot;geometry&quot;: {&quot;coordinates&quot;: [117.4963496, -31.59361339], &quot;type&quot;: &quot;Point&quot;}, &quot;id&quot;: &quot;365&quot;, &quot;properties&quot;: {&quot;Crop&quot;: 5, &quot;DryYield&quot;: 0.661, &quot;Elevation&quot;: 268.5, &quot;Heading&quot;: 0.2, &quot;Latitude&quot;: -31.59361339, &quot;Longitude&quot;: 117.4963496, &quot;Time&quot;: &quot;11/12/2020 3:42&quot;, &quot;Variety&quot;: &quot;43Y23 RR&quot;, &quot;__folium_color&quot;: &quot;#350498&quot;, &quot;sample_id&quot;: &quot;bf66_sample_1&quot;}, &quot;type&quot;: &quot;Feature&quot;}, {&quot;bbox&quot;: [117.4962224, -31.59160453, 117.4962224, -31.59160453], &quot;geometry&quot;: {&quot;coordinates&quot;: [117.4962224, -31.59160453], &quot;type&quot;: &quot;Point&quot;}, &quot;id&quot;: &quot;366&quot;, &quot;properties&quot;: {&quot;Crop&quot;: 5, &quot;DryYield&quot;: 1.178, &quot;Elevation&quot;: 264.41, &quot;Heading&quot;: 181.3, &quot;Latitude&quot;: -31.59160453, &quot;Longitude&quot;: 117.4962224, &quot;Time&quot;: &quot;11/12/2020 3:43&quot;, &quot;Variety&quot;: &quot;43Y23 RR&quot;, &quot;__folium_color&quot;: &quot;#4c02a1&quot;, &quot;sample_id&quot;: &quot;bf66_sample_1&quot;}, &quot;type&quot;: &quot;Feature&quot;}, {&quot;bbox&quot;: [117.4962233, -31.59357034, 117.4962233, -31.59357034], &quot;geometry&quot;: {&quot;coordinates&quot;: [117.4962233, -31.59357034], &quot;type&quot;: &quot;Point&quot;}, &quot;id&quot;: &quot;367&quot;, &quot;properties&quot;: {&quot;Crop&quot;: 5, &quot;DryYield&quot;: 0.822, &quot;Elevation&quot;: 268.86, &quot;Heading&quot;: 179.9, &quot;Latitude&quot;: -31.59357034, &quot;Longitude&quot;: 117.4962233, &quot;Time&quot;: &quot;11/12/2020 3:45&quot;, &quot;Variety&quot;: &quot;43Y23 RR&quot;, &quot;__folium_color&quot;: &quot;#3c049b&quot;, &quot;sample_id&quot;: &quot;bf66_sample_1&quot;}, &quot;type&quot;: &quot;Feature&quot;}, {&quot;bbox&quot;: [117.4962226, -31.59570248, 117.4962226, -31.59570248], &quot;geometry&quot;: {&quot;coordinates&quot;: [117.4962226, -31.59570248], &quot;type&quot;: &quot;Point&quot;}, &quot;id&quot;: &quot;368&quot;, &quot;properties&quot;: {&quot;Crop&quot;: 5, &quot;DryYield&quot;: 0.921, &quot;Elevation&quot;: 270.35, &quot;Heading&quot;: 180.1, &quot;Latitude&quot;: -31.59570248, &quot;Longitude&quot;: 117.4962226, &quot;Time&quot;: &quot;11/12/2020 3:46&quot;, &quot;Variety&quot;: &quot;43Y23 RR&quot;, &quot;__folium_color&quot;: &quot;#41049d&quot;, &quot;sample_id&quot;: &quot;bf66_sample_1&quot;}, &quot;type&quot;: &quot;Feature&quot;}, {&quot;bbox&quot;: [117.4962231, -31.59766452, 117.4962231, -31.59766452], &quot;geometry&quot;: {&quot;coordinates&quot;: [117.4962231, -31.59766452], &quot;type&quot;: &quot;Point&quot;}, &quot;id&quot;: &quot;369&quot;, &quot;properties&quot;: {&quot;Crop&quot;: 5, &quot;DryYield&quot;: 1.099, &quot;Elevation&quot;: 269.55, &quot;Heading&quot;: 180.0, &quot;Latitude&quot;: -31.59766452, &quot;Longitude&quot;: 117.4962231, &quot;Time&quot;: &quot;11/12/2020 3:47&quot;, &quot;Variety&quot;: &quot;43Y23 RR&quot;, &quot;__folium_color&quot;: &quot;#4903a0&quot;, &quot;sample_id&quot;: &quot;bf66_sample_1&quot;}, &quot;type&quot;: &quot;Feature&quot;}, {&quot;bbox&quot;: [117.4962226, -31.59937023, 117.4962226, -31.59937023], &quot;geometry&quot;: {&quot;coordinates&quot;: [117.4962226, -31.59937023], &quot;type&quot;: &quot;Point&quot;}, &quot;id&quot;: &quot;370&quot;, &quot;properties&quot;: {&quot;Crop&quot;: 5, &quot;DryYield&quot;: 0.615, &quot;Elevation&quot;: 269.93, &quot;Heading&quot;: 180.3, &quot;Latitude&quot;: -31.59937023, &quot;Longitude&quot;: 117.4962226, &quot;Time&quot;: &quot;11/12/2020 3:49&quot;, &quot;Variety&quot;: &quot;43Y23 RR&quot;, &quot;__folium_color&quot;: &quot;#330597&quot;, &quot;sample_id&quot;: &quot;bf66_sample_1&quot;}, &quot;type&quot;: &quot;Feature&quot;}, {&quot;bbox&quot;: [117.4962228, -31.60115326, 117.4962228, -31.60115326], &quot;geometry&quot;: {&quot;coordinates&quot;: [117.4962228, -31.60115326], &quot;type&quot;: &quot;Point&quot;}, &quot;id&quot;: &quot;371&quot;, &quot;properties&quot;: {&quot;Crop&quot;: 5, &quot;DryYield&quot;: 1.116, &quot;Elevation&quot;: 266.85, &quot;Heading&quot;: 180.1, &quot;Latitude&quot;: -31.60115326, &quot;Longitude&quot;: 117.4962228, &quot;Time&quot;: &quot;11/12/2020 3:50&quot;, &quot;Variety&quot;: &quot;43Y23 RR&quot;, &quot;__folium_color&quot;: &quot;#4903a0&quot;, &quot;sample_id&quot;: &quot;bf66_sample_1&quot;}, &quot;type&quot;: &quot;Feature&quot;}, {&quot;bbox&quot;: [117.4962233, -31.603214, 117.4962233, -31.603214], &quot;geometry&quot;: {&quot;coordinates&quot;: [117.4962233, -31.603214], &quot;type&quot;: &quot;Point&quot;}, &quot;id&quot;: &quot;372&quot;, &quot;properties&quot;: {&quot;Crop&quot;: 5, &quot;DryYield&quot;: 0.597, &quot;Elevation&quot;: 262.48, &quot;Heading&quot;: 179.7, &quot;Latitude&quot;: -31.603214, &quot;Longitude&quot;: 117.4962233, &quot;Time&quot;: &quot;11/12/2020 3:51&quot;, &quot;Variety&quot;: &quot;43Y23 RR&quot;, &quot;__folium_color&quot;: &quot;#310597&quot;, &quot;sample_id&quot;: &quot;bf66_sample_1&quot;}, &quot;type&quot;: &quot;Feature&quot;}, {&quot;bbox&quot;: [117.4962228, -31.60559255, 117.4962228, -31.60559255], &quot;geometry&quot;: {&quot;coordinates&quot;: [117.4962228, -31.60559255], &quot;type&quot;: &quot;Point&quot;}, &quot;id&quot;: &quot;373&quot;, &quot;properties&quot;: {&quot;Crop&quot;: 5, &quot;DryYield&quot;: 0.413, &quot;Elevation&quot;: 266.89, &quot;Heading&quot;: 179.9, &quot;Latitude&quot;: -31.60559255, &quot;Longitude&quot;: 117.4962228, &quot;Time&quot;: &quot;11/12/2020 3:53&quot;, &quot;Variety&quot;: &quot;43Y23 RR&quot;, &quot;__folium_color&quot;: &quot;#280592&quot;, &quot;sample_id&quot;: &quot;bf66_sample_1&quot;}, &quot;type&quot;: &quot;Feature&quot;}, {&quot;bbox&quot;: [117.4962233, -31.6077837, 117.4962233, -31.6077837], &quot;geometry&quot;: {&quot;coordinates&quot;: [117.4962233, -31.6077837], &quot;type&quot;: &quot;Point&quot;}, &quot;id&quot;: &quot;374&quot;, &quot;properties&quot;: {&quot;Crop&quot;: 5, &quot;DryYield&quot;: 0.37, &quot;Elevation&quot;: 269.77, &quot;Heading&quot;: 179.9, &quot;Latitude&quot;: -31.6077837, &quot;Longitude&quot;: 117.4962233, &quot;Time&quot;: &quot;11/12/2020 3:54&quot;, &quot;Variety&quot;: &quot;43Y23 RR&quot;, &quot;__folium_color&quot;: &quot;#260591&quot;, &quot;sample_id&quot;: &quot;bf66_sample_1&quot;}, &quot;type&quot;: &quot;Feature&quot;}, {&quot;bbox&quot;: [117.4958436, -31.60754826, 117.4958436, -31.60754826], &quot;geometry&quot;: {&quot;coordinates&quot;: [117.4958436, -31.60754826], &quot;type&quot;: &quot;Point&quot;}, &quot;id&quot;: &quot;375&quot;, &quot;properties&quot;: {&quot;Crop&quot;: 5, &quot;DryYield&quot;: 0.474, &quot;Elevation&quot;: 270.96, &quot;Heading&quot;: 359.9, &quot;Latitude&quot;: -31.60754826, &quot;Longitude&quot;: 117.4958436, &quot;Time&quot;: &quot;11/12/2020 3:55&quot;, &quot;Variety&quot;: &quot;43Y23 RR&quot;, &quot;__folium_color&quot;: &quot;#2c0594&quot;, &quot;sample_id&quot;: &quot;bf66_sample_1&quot;}, &quot;type&quot;: &quot;Feature&quot;}, {&quot;bbox&quot;: [117.4958434, -31.60540536, 117.4958434, -31.60540536], &quot;geometry&quot;: {&quot;coordinates&quot;: [117.4958434, -31.60540536], &quot;type&quot;: &quot;Point&quot;}, &quot;id&quot;: &quot;376&quot;, &quot;properties&quot;: {&quot;Crop&quot;: 5, &quot;DryYield&quot;: 0.383, &quot;Elevation&quot;: 267.37, &quot;Heading&quot;: 0.2, &quot;Latitude&quot;: -31.60540536, &quot;Longitude&quot;: 117.4958434, &quot;Time&quot;: &quot;11/12/2020 3:57&quot;, &quot;Variety&quot;: &quot;43Y23 RR&quot;, &quot;__folium_color&quot;: &quot;#260591&quot;, &quot;sample_id&quot;: &quot;bf66_sample_1&quot;}, &quot;type&quot;: &quot;Feature&quot;}, {&quot;bbox&quot;: [117.495844, -31.6030821, 117.495844, -31.6030821], &quot;geometry&quot;: {&quot;coordinates&quot;: [117.495844, -31.6030821], &quot;type&quot;: &quot;Point&quot;}, &quot;id&quot;: &quot;377&quot;, &quot;properties&quot;: {&quot;Crop&quot;: 5, &quot;DryYield&quot;: 0.627, &quot;Elevation&quot;: 263.05, &quot;Heading&quot;: 0.1, &quot;Latitude&quot;: -31.6030821, &quot;Longitude&quot;: 117.495844, &quot;Time&quot;: &quot;11/12/2020 3:58&quot;, &quot;Variety&quot;: &quot;43Y23 RR&quot;, &quot;__folium_color&quot;: &quot;#330597&quot;, &quot;sample_id&quot;: &quot;bf66_sample_1&quot;}, &quot;type&quot;: &quot;Feature&quot;}, {&quot;bbox&quot;: [117.4958434, -31.60099164, 117.4958434, -31.60099164], &quot;geometry&quot;: {&quot;coordinates&quot;: [117.4958434, -31.60099164], &quot;type&quot;: &quot;Point&quot;}, &quot;id&quot;: &quot;378&quot;, &quot;properties&quot;: {&quot;Crop&quot;: 5, &quot;DryYield&quot;: 1.115, &quot;Elevation&quot;: 267.63, &quot;Heading&quot;: 359.8, &quot;Latitude&quot;: -31.60099164, &quot;Longitude&quot;: 117.4958434, &quot;Time&quot;: &quot;11/12/2020 4:00&quot;, &quot;Variety&quot;: &quot;43Y23 RR&quot;, &quot;__folium_color&quot;: &quot;#4903a0&quot;, &quot;sample_id&quot;: &quot;bf66_sample_1&quot;}, &quot;type&quot;: &quot;Feature&quot;}, {&quot;bbox&quot;: [117.4958436, -31.59919206, 117.4958436, -31.59919206], &quot;geometry&quot;: {&quot;coordinates&quot;: [117.4958436, -31.59919206], &quot;type&quot;: &quot;Point&quot;}, &quot;id&quot;: &quot;379&quot;, &quot;properties&quot;: {&quot;Crop&quot;: 5, &quot;DryYield&quot;: 1.128, &quot;Elevation&quot;: 271.23, &quot;Heading&quot;: 359.9, &quot;Latitude&quot;: -31.59919206, &quot;Longitude&quot;: 117.4958436, &quot;Time&quot;: &quot;11/12/2020 4:01&quot;, &quot;Variety&quot;: &quot;43Y23 RR&quot;, &quot;__folium_color&quot;: &quot;#4b03a1&quot;, &quot;sample_id&quot;: &quot;bf66_sample_1&quot;}, &quot;type&quot;: &quot;Feature&quot;}, {&quot;bbox&quot;: [117.4958481, -31.59784729, 117.4958481, -31.59784729], &quot;geometry&quot;: {&quot;coordinates&quot;: [117.4958481, -31.59784729], &quot;type&quot;: &quot;Point&quot;}, &quot;id&quot;: &quot;380&quot;, &quot;properties&quot;: {&quot;Crop&quot;: 5, &quot;DryYield&quot;: 1.21, &quot;Elevation&quot;: 271.4, &quot;Heading&quot;: 39.6, &quot;Latitude&quot;: -31.59784729, &quot;Longitude&quot;: 117.4958481, &quot;Time&quot;: &quot;11/12/2020 4:02&quot;, &quot;Variety&quot;: &quot;43Y23 RR&quot;, &quot;__folium_color&quot;: &quot;#4e02a2&quot;, &quot;sample_id&quot;: &quot;bf66_sample_1&quot;}, &quot;type&quot;: &quot;Feature&quot;}, {&quot;bbox&quot;: [117.4958436, -31.59652456, 117.4958436, -31.59652456], &quot;geometry&quot;: {&quot;coordinates&quot;: [117.4958436, -31.59652456], &quot;type&quot;: &quot;Point&quot;}, &quot;id&quot;: &quot;381&quot;, &quot;properties&quot;: {&quot;Crop&quot;: 5, &quot;DryYield&quot;: 0.856, &quot;Elevation&quot;: 271.43, &quot;Heading&quot;: 360.0, &quot;Latitude&quot;: -31.59652456, &quot;Longitude&quot;: 117.4958436, &quot;Time&quot;: &quot;11/12/2020 4:04&quot;, &quot;Variety&quot;: &quot;43Y23 RR&quot;, &quot;__folium_color&quot;: &quot;#3e049c&quot;, &quot;sample_id&quot;: &quot;bf66_sample_1&quot;}, &quot;type&quot;: &quot;Feature&quot;}, {&quot;bbox&quot;: [117.4959177, -31.5944862, 117.4959177, -31.5944862], &quot;geometry&quot;: {&quot;coordinates&quot;: [117.4959177, -31.5944862], &quot;type&quot;: &quot;Point&quot;}, &quot;id&quot;: &quot;382&quot;, &quot;properties&quot;: {&quot;Crop&quot;: 5, &quot;DryYield&quot;: 0.465, &quot;Elevation&quot;: 270.87, &quot;Heading&quot;: 30.0, &quot;Latitude&quot;: -31.5944862, &quot;Longitude&quot;: 117.4959177, &quot;Time&quot;: &quot;11/12/2020 4:05&quot;, &quot;Variety&quot;: &quot;43Y23 RR&quot;, &quot;__folium_color&quot;: &quot;#2a0593&quot;, &quot;sample_id&quot;: &quot;bf66_sample_1&quot;}, &quot;type&quot;: &quot;Feature&quot;}, {&quot;bbox&quot;: [117.4958434, -31.59368049, 117.4958434, -31.59368049], &quot;geometry&quot;: {&quot;coordinates&quot;: [117.4958434, -31.59368049], &quot;type&quot;: &quot;Point&quot;}, &quot;id&quot;: &quot;383&quot;, &quot;properties&quot;: {&quot;Crop&quot;: 5, &quot;DryYield&quot;: 0.73, &quot;Elevation&quot;: 270.28, &quot;Heading&quot;: 359.7, &quot;Latitude&quot;: -31.59368049, &quot;Longitude&quot;: 117.4958434, &quot;Time&quot;: &quot;11/12/2020 4:07&quot;, &quot;Variety&quot;: &quot;43Y23 RR&quot;, &quot;__folium_color&quot;: &quot;#38049a&quot;, &quot;sample_id&quot;: &quot;bf66_sample_1&quot;}, &quot;type&quot;: &quot;Feature&quot;}, {&quot;bbox&quot;: [117.4958434, -31.59162981, 117.4958434, -31.59162981], &quot;geometry&quot;: {&quot;coordinates&quot;: [117.4958434, -31.59162981], &quot;type&quot;: &quot;Point&quot;}, &quot;id&quot;: &quot;384&quot;, &quot;properties&quot;: {&quot;Crop&quot;: 5, &quot;DryYield&quot;: 0.613, &quot;Elevation&quot;: 265.26, &quot;Heading&quot;: 359.8, &quot;Latitude&quot;: -31.59162981, &quot;Longitude&quot;: 117.4958434, &quot;Time&quot;: &quot;11/12/2020 4:09&quot;, &quot;Variety&quot;: &quot;43Y23 RR&quot;, &quot;__folium_color&quot;: &quot;#310597&quot;, &quot;sample_id&quot;: &quot;bf66_sample_1&quot;}, &quot;type&quot;: &quot;Feature&quot;}, {&quot;bbox&quot;: [117.4957175, -31.5936281, 117.4957175, -31.5936281], &quot;geometry&quot;: {&quot;coordinates&quot;: [117.4957175, -31.5936281], &quot;type&quot;: &quot;Point&quot;}, &quot;id&quot;: &quot;385&quot;, &quot;properties&quot;: {&quot;Crop&quot;: 5, &quot;DryYield&quot;: 0.59, &quot;Elevation&quot;: 270.44, &quot;Heading&quot;: 179.8, &quot;Latitude&quot;: -31.5936281, &quot;Longitude&quot;: 117.4957175, &quot;Time&quot;: &quot;11/12/2020 4:10&quot;, &quot;Variety&quot;: &quot;43Y23 RR&quot;, &quot;__folium_color&quot;: &quot;#310597&quot;, &quot;sample_id&quot;: &quot;bf66_sample_1&quot;}, &quot;type&quot;: &quot;Feature&quot;}, {&quot;bbox&quot;: [117.495717, -31.59564595, 117.495717, -31.59564595], &quot;geometry&quot;: {&quot;coordinates&quot;: [117.495717, -31.59564595], &quot;type&quot;: &quot;Point&quot;}, &quot;id&quot;: &quot;386&quot;, &quot;properties&quot;: {&quot;Crop&quot;: 5, &quot;DryYield&quot;: 1.012, &quot;Elevation&quot;: 272.31, &quot;Heading&quot;: 180.3, &quot;Latitude&quot;: -31.59564595, &quot;Longitude&quot;: 117.495717, &quot;Time&quot;: &quot;11/12/2020 4:12&quot;, &quot;Variety&quot;: &quot;43Y23 RR&quot;, &quot;__folium_color&quot;: &quot;#46039f&quot;, &quot;sample_id&quot;: &quot;bf66_sample_1&quot;}, &quot;type&quot;: &quot;Feature&quot;}, {&quot;bbox&quot;: [117.4957172, -31.59749708, 117.4957172, -31.59749708], &quot;geometry&quot;: {&quot;coordinates&quot;: [117.4957172, -31.59749708], &quot;type&quot;: &quot;Point&quot;}, &quot;id&quot;: &quot;387&quot;, &quot;properties&quot;: {&quot;Crop&quot;: 5, &quot;DryYield&quot;: 0.923, &quot;Elevation&quot;: 271.87, &quot;Heading&quot;: 180.1, &quot;Latitude&quot;: -31.59749708, &quot;Longitude&quot;: 117.4957172, &quot;Time&quot;: &quot;11/12/2020 4:13&quot;, &quot;Variety&quot;: &quot;43Y23 RR&quot;, &quot;__folium_color&quot;: &quot;#41049d&quot;, &quot;sample_id&quot;: &quot;bf66_sample_1&quot;}, &quot;type&quot;: &quot;Feature&quot;}, {&quot;bbox&quot;: [117.4957174, -31.59941389, 117.4957174, -31.59941389], &quot;geometry&quot;: {&quot;coordinates&quot;: [117.4957174, -31.59941389], &quot;type&quot;: &quot;Point&quot;}, &quot;id&quot;: &quot;388&quot;, &quot;properties&quot;: {&quot;Crop&quot;: 5, &quot;DryYield&quot;: 1.349, &quot;Elevation&quot;: 271.33, &quot;Heading&quot;: 179.9, &quot;Latitude&quot;: -31.59941389, &quot;Longitude&quot;: 117.4957174, &quot;Time&quot;: &quot;11/12/2020 4:14&quot;, &quot;Variety&quot;: &quot;43Y23 RR&quot;, &quot;__folium_color&quot;: &quot;#5502a4&quot;, &quot;sample_id&quot;: &quot;bf66_sample_1&quot;}, &quot;type&quot;: &quot;Feature&quot;}, {&quot;bbox&quot;: [117.4957177, -31.60117272, 117.4957177, -31.60117272], &quot;geometry&quot;: {&quot;coordinates&quot;: [117.4957177, -31.60117272], &quot;type&quot;: &quot;Point&quot;}, &quot;id&quot;: &quot;389&quot;, &quot;properties&quot;: {&quot;Crop&quot;: 5, &quot;DryYield&quot;: 0.995, &quot;Elevation&quot;: 267.14, &quot;Heading&quot;: 179.5, &quot;Latitude&quot;: -31.60117272, &quot;Longitude&quot;: 117.4957177, &quot;Time&quot;: &quot;11/12/2020 4:15&quot;, &quot;Variety&quot;: &quot;43Y23 RR&quot;, &quot;__folium_color&quot;: &quot;#44039e&quot;, &quot;sample_id&quot;: &quot;bf66_sample_1&quot;}, &quot;type&quot;: &quot;Feature&quot;}, {&quot;bbox&quot;: [117.4957174, -31.60304243, 117.4957174, -31.60304243], &quot;geometry&quot;: {&quot;coordinates&quot;: [117.4957174, -31.60304243], &quot;type&quot;: &quot;Point&quot;}, &quot;id&quot;: &quot;390&quot;, &quot;properties&quot;: {&quot;Crop&quot;: 5, &quot;DryYield&quot;: 0.619, &quot;Elevation&quot;: 262.98, &quot;Heading&quot;: 179.9, &quot;Latitude&quot;: -31.60304243, &quot;Longitude&quot;: 117.4957174, &quot;Time&quot;: &quot;11/12/2020 4:17&quot;, &quot;Variety&quot;: &quot;43Y23 RR&quot;, &quot;__folium_color&quot;: &quot;#330597&quot;, &quot;sample_id&quot;: &quot;bf66_sample_1&quot;}, &quot;type&quot;: &quot;Feature&quot;}, {&quot;bbox&quot;: [117.4957172, -31.60514571, 117.4957172, -31.60514571], &quot;geometry&quot;: {&quot;coordinates&quot;: [117.4957172, -31.60514571], &quot;type&quot;: &quot;Point&quot;}, &quot;id&quot;: &quot;391&quot;, &quot;properties&quot;: {&quot;Crop&quot;: 5, &quot;DryYield&quot;: 0.414, &quot;Elevation&quot;: 267.0, &quot;Heading&quot;: 180.1, &quot;Latitude&quot;: -31.60514571, &quot;Longitude&quot;: 117.4957172, &quot;Time&quot;: &quot;11/12/2020 4:18&quot;, &quot;Variety&quot;: &quot;43Y23 RR&quot;, &quot;__folium_color&quot;: &quot;#280592&quot;, &quot;sample_id&quot;: &quot;bf66_sample_1&quot;}, &quot;type&quot;: &quot;Feature&quot;}, {&quot;bbox&quot;: [117.4957174, -31.60720252, 117.4957174, -31.60720252], &quot;geometry&quot;: {&quot;coordinates&quot;: [117.4957174, -31.60720252], &quot;type&quot;: &quot;Point&quot;}, &quot;id&quot;: &quot;392&quot;, &quot;properties&quot;: {&quot;Crop&quot;: 5, &quot;DryYield&quot;: 0.576, &quot;Elevation&quot;: 270.83, &quot;Heading&quot;: 180.0, &quot;Latitude&quot;: -31.60720252, &quot;Longitude&quot;: 117.4957174, &quot;Time&quot;: &quot;11/12/2020 4:20&quot;, &quot;Variety&quot;: &quot;43Y23 RR&quot;, &quot;__folium_color&quot;: &quot;#2f0596&quot;, &quot;sample_id&quot;: &quot;bf66_sample_1&quot;}, &quot;type&quot;: &quot;Feature&quot;}, {&quot;bbox&quot;: [117.4953378, -31.6083445, 117.4953378, -31.6083445], &quot;geometry&quot;: {&quot;coordinates&quot;: [117.4953378, -31.6083445], &quot;type&quot;: &quot;Point&quot;}, &quot;id&quot;: &quot;393&quot;, &quot;properties&quot;: {&quot;Crop&quot;: 5, &quot;DryYield&quot;: 0.459, &quot;Elevation&quot;: 272.61, &quot;Heading&quot;: 0.2, &quot;Latitude&quot;: -31.6083445, &quot;Longitude&quot;: 117.4953378, &quot;Time&quot;: &quot;11/12/2020 4:21&quot;, &quot;Variety&quot;: &quot;43Y23 RR&quot;, &quot;__folium_color&quot;: &quot;#2a0593&quot;, &quot;sample_id&quot;: &quot;bf66_sample_1&quot;}, &quot;type&quot;: &quot;Feature&quot;}, {&quot;bbox&quot;: [117.4953377, -31.6061624, 117.4953377, -31.6061624], &quot;geometry&quot;: {&quot;coordinates&quot;: [117.4953377, -31.6061624], &quot;type&quot;: &quot;Point&quot;}, &quot;id&quot;: &quot;394&quot;, &quot;properties&quot;: {&quot;Crop&quot;: 5, &quot;DryYield&quot;: 0.387, &quot;Elevation&quot;: 269.62, &quot;Heading&quot;: 359.9, &quot;Latitude&quot;: -31.6061624, &quot;Longitude&quot;: 117.4953377, &quot;Time&quot;: &quot;11/12/2020 4:23&quot;, &quot;Variety&quot;: &quot;43Y23 RR&quot;, &quot;__folium_color&quot;: &quot;#260591&quot;, &quot;sample_id&quot;: &quot;bf66_sample_1&quot;}, &quot;type&quot;: &quot;Feature&quot;}, {&quot;bbox&quot;: [117.4953377, -31.60381757, 117.4953377, -31.60381757], &quot;geometry&quot;: {&quot;coordinates&quot;: [117.4953377, -31.60381757], &quot;type&quot;: &quot;Point&quot;}, &quot;id&quot;: &quot;395&quot;, &quot;properties&quot;: {&quot;Crop&quot;: 5, &quot;DryYield&quot;: 0.663, &quot;Elevation&quot;: 265.57, &quot;Heading&quot;: 1.0, &quot;Latitude&quot;: -31.60381757, &quot;Longitude&quot;: 117.4953377, &quot;Time&quot;: &quot;11/12/2020 4:24&quot;, &quot;Variety&quot;: &quot;43Y23 RR&quot;, &quot;__folium_color&quot;: &quot;#350498&quot;, &quot;sample_id&quot;: &quot;bf66_sample_1&quot;}, &quot;type&quot;: &quot;Feature&quot;}, {&quot;bbox&quot;: [117.4953378, -31.60162203, 117.4953378, -31.60162203], &quot;geometry&quot;: {&quot;coordinates&quot;: [117.4953378, -31.60162203], &quot;type&quot;: &quot;Point&quot;}, &quot;id&quot;: &quot;396&quot;, &quot;properties&quot;: {&quot;Crop&quot;: 5, &quot;DryYield&quot;: 0.765, &quot;Elevation&quot;: 265.04, &quot;Heading&quot;: 359.9, &quot;Latitude&quot;: -31.60162203, &quot;Longitude&quot;: 117.4953378, &quot;Time&quot;: &quot;11/12/2020 4:25&quot;, &quot;Variety&quot;: &quot;43Y23 RR&quot;, &quot;__folium_color&quot;: &quot;#3a049a&quot;, &quot;sample_id&quot;: &quot;bf66_sample_1&quot;}, &quot;type&quot;: &quot;Feature&quot;}, {&quot;bbox&quot;: [117.4953378, -31.59960431, 117.4953378, -31.59960431], &quot;geometry&quot;: {&quot;coordinates&quot;: [117.4953378, -31.59960431], &quot;type&quot;: &quot;Point&quot;}, &quot;id&quot;: &quot;397&quot;, &quot;properties&quot;: {&quot;Crop&quot;: 5, &quot;DryYield&quot;: 1.216, &quot;Elevation&quot;: 271.99, &quot;Heading&quot;: 360.0, &quot;Latitude&quot;: -31.59960431, &quot;Longitude&quot;: 117.4953378, &quot;Time&quot;: &quot;11/12/2020 4:27&quot;, &quot;Variety&quot;: &quot;43Y23 RR&quot;, &quot;__folium_color&quot;: &quot;#4e02a2&quot;, &quot;sample_id&quot;: &quot;bf66_sample_1&quot;}, &quot;type&quot;: &quot;Feature&quot;}, {&quot;bbox&quot;: [117.4953378, -31.59777176, 117.4953378, -31.59777176], &quot;geometry&quot;: {&quot;coordinates&quot;: [117.4953378, -31.59777176], &quot;type&quot;: &quot;Point&quot;}, &quot;id&quot;: &quot;398&quot;, &quot;properties&quot;: {&quot;Crop&quot;: 5, &quot;DryYield&quot;: 0.901, &quot;Elevation&quot;: 273.35, &quot;Heading&quot;: 0.1, &quot;Latitude&quot;: -31.59777176, &quot;Longitude&quot;: 117.4953378, &quot;Time&quot;: &quot;11/12/2020 4:28&quot;, &quot;Variety&quot;: &quot;43Y23 RR&quot;, &quot;__folium_color&quot;: &quot;#3f049c&quot;, &quot;sample_id&quot;: &quot;bf66_sample_1&quot;}, &quot;type&quot;: &quot;Feature&quot;}, {&quot;bbox&quot;: [117.495338, -31.59587805, 117.495338, -31.59587805], &quot;geometry&quot;: {&quot;coordinates&quot;: [117.495338, -31.59587805], &quot;type&quot;: &quot;Point&quot;}, &quot;id&quot;: &quot;399&quot;, &quot;properties&quot;: {&quot;Crop&quot;: 5, &quot;DryYield&quot;: 0.856, &quot;Elevation&quot;: 273.72, &quot;Heading&quot;: 0.0, &quot;Latitude&quot;: -31.59587805, &quot;Longitude&quot;: 117.495338, &quot;Time&quot;: &quot;11/12/2020 4:29&quot;, &quot;Variety&quot;: &quot;43Y23 RR&quot;, &quot;__folium_color&quot;: &quot;#3e049c&quot;, &quot;sample_id&quot;: &quot;bf66_sample_1&quot;}, &quot;type&quot;: &quot;Feature&quot;}, {&quot;bbox&quot;: [117.4953377, -31.59395366, 117.4953377, -31.59395366], &quot;geometry&quot;: {&quot;coordinates&quot;: [117.4953377, -31.59395366], &quot;type&quot;: &quot;Point&quot;}, &quot;id&quot;: &quot;400&quot;, &quot;properties&quot;: {&quot;Crop&quot;: 5, &quot;DryYield&quot;: 0.789, &quot;Elevation&quot;: 272.22, &quot;Heading&quot;: 359.9, &quot;Latitude&quot;: -31.59395366, &quot;Longitude&quot;: 117.4953377, &quot;Time&quot;: &quot;11/12/2020 4:31&quot;, &quot;Variety&quot;: &quot;43Y23 RR&quot;, &quot;__folium_color&quot;: &quot;#3a049a&quot;, &quot;sample_id&quot;: &quot;bf66_sample_1&quot;}, &quot;type&quot;: &quot;Feature&quot;}, {&quot;bbox&quot;: [117.4953375, -31.59188965, 117.4953375, -31.59188965], &quot;geometry&quot;: {&quot;coordinates&quot;: [117.4953375, -31.59188965], &quot;type&quot;: &quot;Point&quot;}, &quot;id&quot;: &quot;401&quot;, &quot;properties&quot;: {&quot;Crop&quot;: 5, &quot;DryYield&quot;: 0.67, &quot;Elevation&quot;: 267.05, &quot;Heading&quot;: 359.2, &quot;Latitude&quot;: -31.59188965, &quot;Longitude&quot;: 117.4953375, &quot;Time&quot;: &quot;11/12/2020 4:32&quot;, &quot;Variety&quot;: &quot;43Y23 RR&quot;, &quot;__folium_color&quot;: &quot;#350498&quot;, &quot;sample_id&quot;: &quot;bf66_sample_1&quot;}, &quot;type&quot;: &quot;Feature&quot;}, {&quot;bbox&quot;: [117.4952114, -31.59333486, 117.4952114, -31.59333486], &quot;geometry&quot;: {&quot;coordinates&quot;: [117.4952114, -31.59333486], &quot;type&quot;: &quot;Point&quot;}, &quot;id&quot;: &quot;402&quot;, &quot;properties&quot;: {&quot;Crop&quot;: 5, &quot;DryYield&quot;: 0.683, &quot;Elevation&quot;: 271.14, &quot;Heading&quot;: 180.0, &quot;Latitude&quot;: -31.59333486, &quot;Longitude&quot;: 117.4952114, &quot;Time&quot;: &quot;11/12/2020 4:33&quot;, &quot;Variety&quot;: &quot;43Y23 RR&quot;, &quot;__folium_color&quot;: &quot;#350498&quot;, &quot;sample_id&quot;: &quot;bf66_sample_1&quot;}, &quot;type&quot;: &quot;Feature&quot;}, {&quot;bbox&quot;: [117.4952116, -31.5955191, 117.4952116, -31.5955191], &quot;geometry&quot;: {&quot;coordinates&quot;: [117.4952116, -31.5955191], &quot;type&quot;: &quot;Point&quot;}, &quot;id&quot;: &quot;403&quot;, &quot;properties&quot;: {&quot;Crop&quot;: 5, &quot;DryYield&quot;: 0.821, &quot;Elevation&quot;: 274.18, &quot;Heading&quot;: 179.9, &quot;Latitude&quot;: -31.5955191, &quot;Longitude&quot;: 117.4952116, &quot;Time&quot;: &quot;11/12/2020 4:35&quot;, &quot;Variety&quot;: &quot;43Y23 RR&quot;, &quot;__folium_color&quot;: &quot;#3c049b&quot;, &quot;sample_id&quot;: &quot;bf66_sample_1&quot;}, &quot;type&quot;: &quot;Feature&quot;}, {&quot;bbox&quot;: [117.4952114, -31.59762239, 117.4952114, -31.59762239], &quot;geometry&quot;: {&quot;coordinates&quot;: [117.4952114, -31.59762239], &quot;type&quot;: &quot;Point&quot;}, &quot;id&quot;: &quot;404&quot;, &quot;properties&quot;: {&quot;Crop&quot;: 5, &quot;DryYield&quot;: 1.056, &quot;Elevation&quot;: 273.82, &quot;Heading&quot;: 179.9, &quot;Latitude&quot;: -31.59762239, &quot;Longitude&quot;: 117.4952114, &quot;Time&quot;: &quot;11/12/2020 4:36&quot;, &quot;Variety&quot;: &quot;43Y23 RR&quot;, &quot;__folium_color&quot;: &quot;#48039f&quot;, &quot;sample_id&quot;: &quot;bf66_sample_1&quot;}, &quot;type&quot;: &quot;Feature&quot;}, {&quot;bbox&quot;: [117.4952112, -31.59952005, 117.4952112, -31.59952005], &quot;geometry&quot;: {&quot;coordinates&quot;: [117.4952112, -31.59952005], &quot;type&quot;: &quot;Point&quot;}, &quot;id&quot;: &quot;405&quot;, &quot;properties&quot;: {&quot;Crop&quot;: 5, &quot;DryYield&quot;: 1.16, &quot;Elevation&quot;: 272.46, &quot;Heading&quot;: 180.1, &quot;Latitude&quot;: -31.59952005, &quot;Longitude&quot;: 117.4952112, &quot;Time&quot;: &quot;11/12/2020 4:37&quot;, &quot;Variety&quot;: &quot;43Y23 RR&quot;, &quot;__folium_color&quot;: &quot;#4c02a1&quot;, &quot;sample_id&quot;: &quot;bf66_sample_1&quot;}, &quot;type&quot;: &quot;Feature&quot;}, {&quot;bbox&quot;: [117.4960958, -31.60318014, 117.4960958, -31.60318014], &quot;geometry&quot;: {&quot;coordinates&quot;: [117.4960958, -31.60318014], &quot;type&quot;: &quot;Point&quot;}, &quot;id&quot;: &quot;406&quot;, &quot;properties&quot;: {&quot;Crop&quot;: 5, &quot;DryYield&quot;: 0.362, &quot;Elevation&quot;: 262.47, &quot;Heading&quot;: 180.8, &quot;Latitude&quot;: -31.60318014, &quot;Longitude&quot;: 117.4960958, &quot;Time&quot;: &quot;11/12/2020 3:55&quot;, &quot;Variety&quot;: &quot;43Y23 RR&quot;, &quot;__folium_color&quot;: &quot;#260591&quot;, &quot;sample_id&quot;: &quot;bf66_sample_1&quot;}, &quot;type&quot;: &quot;Feature&quot;}, {&quot;bbox&quot;: [117.4960967, -31.60545805, 117.4960967, -31.60545805], &quot;geometry&quot;: {&quot;coordinates&quot;: [117.4960967, -31.60545805], &quot;type&quot;: &quot;Point&quot;}, &quot;id&quot;: &quot;407&quot;, &quot;properties&quot;: {&quot;Crop&quot;: 5, &quot;DryYield&quot;: 0.298, &quot;Elevation&quot;: 266.71, &quot;Heading&quot;: 179.9, &quot;Latitude&quot;: -31.60545805, &quot;Longitude&quot;: 117.4960967, &quot;Time&quot;: &quot;11/12/2020 3:56&quot;, &quot;Variety&quot;: &quot;43Y23 RR&quot;, &quot;__folium_color&quot;: &quot;#220690&quot;, &quot;sample_id&quot;: &quot;bf66_sample_1&quot;}, &quot;type&quot;: &quot;Feature&quot;}, {&quot;bbox&quot;: [117.4960965, -31.60776333, 117.4960965, -31.60776333], &quot;geometry&quot;: {&quot;coordinates&quot;: [117.4960965, -31.60776333], &quot;type&quot;: &quot;Point&quot;}, &quot;id&quot;: &quot;408&quot;, &quot;properties&quot;: {&quot;Crop&quot;: 5, &quot;DryYield&quot;: 0.227, &quot;Elevation&quot;: 269.98, &quot;Heading&quot;: 180.0, &quot;Latitude&quot;: -31.60776333, &quot;Longitude&quot;: 117.4960965, &quot;Time&quot;: &quot;11/12/2020 3:58&quot;, &quot;Variety&quot;: &quot;43Y23 RR&quot;, &quot;__folium_color&quot;: &quot;#1d068e&quot;, &quot;sample_id&quot;: &quot;bf66_sample_1&quot;}, &quot;type&quot;: &quot;Feature&quot;}, {&quot;bbox&quot;: [117.4954645, -31.60750981, 117.4954645, -31.60750981], &quot;geometry&quot;: {&quot;coordinates&quot;: [117.4954645, -31.60750981], &quot;type&quot;: &quot;Point&quot;}, &quot;id&quot;: &quot;409&quot;, &quot;properties&quot;: {&quot;Crop&quot;: 5, &quot;DryYield&quot;: 0.5, &quot;Elevation&quot;: 271.67, &quot;Heading&quot;: 0.2, &quot;Latitude&quot;: -31.60750981, &quot;Longitude&quot;: 117.4954645, &quot;Time&quot;: &quot;11/12/2020 3:59&quot;, &quot;Variety&quot;: &quot;43Y23 RR&quot;, &quot;__folium_color&quot;: &quot;#2c0594&quot;, &quot;sample_id&quot;: &quot;bf66_sample_1&quot;}, &quot;type&quot;: &quot;Feature&quot;}, {&quot;bbox&quot;: [117.4954648, -31.60573348, 117.4954648, -31.60573348], &quot;geometry&quot;: {&quot;coordinates&quot;: [117.4954648, -31.60573348], &quot;type&quot;: &quot;Point&quot;}, &quot;id&quot;: &quot;410&quot;, &quot;properties&quot;: {&quot;Crop&quot;: 5, &quot;DryYield&quot;: 0.309, &quot;Elevation&quot;: 268.38, &quot;Heading&quot;: 0.7, &quot;Latitude&quot;: -31.60573348, &quot;Longitude&quot;: 117.4954648, &quot;Time&quot;: &quot;11/12/2020 4:01&quot;, &quot;Variety&quot;: &quot;43Y23 RR&quot;, &quot;__folium_color&quot;: &quot;#220690&quot;, &quot;sample_id&quot;: &quot;bf66_sample_1&quot;}, &quot;type&quot;: &quot;Feature&quot;}, {&quot;bbox&quot;: [117.4954645, -31.60358702, 117.4954645, -31.60358702], &quot;geometry&quot;: {&quot;coordinates&quot;: [117.4954645, -31.60358702], &quot;type&quot;: &quot;Point&quot;}, &quot;id&quot;: &quot;411&quot;, &quot;properties&quot;: {&quot;Crop&quot;: 5, &quot;DryYield&quot;: 0.346, &quot;Elevation&quot;: 264.78, &quot;Heading&quot;: 0.2, &quot;Latitude&quot;: -31.60358702, &quot;Longitude&quot;: 117.4954645, &quot;Time&quot;: &quot;11/12/2020 4:02&quot;, &quot;Variety&quot;: &quot;43Y23 RR&quot;, &quot;__folium_color&quot;: &quot;#240691&quot;, &quot;sample_id&quot;: &quot;bf66_sample_1&quot;}, &quot;type&quot;: &quot;Feature&quot;}, {&quot;bbox&quot;: [117.4954636, -31.60151327, 117.4954636, -31.60151327], &quot;geometry&quot;: {&quot;coordinates&quot;: [117.4954636, -31.60151327], &quot;type&quot;: &quot;Point&quot;}, &quot;id&quot;: &quot;412&quot;, &quot;properties&quot;: {&quot;Crop&quot;: 5, &quot;DryYield&quot;: 0.615, &quot;Elevation&quot;: 265.31, &quot;Heading&quot;: 359.2, &quot;Latitude&quot;: -31.60151327, &quot;Longitude&quot;: 117.4954636, &quot;Time&quot;: &quot;11/12/2020 4:03&quot;, &quot;Variety&quot;: &quot;43Y23 RR&quot;, &quot;__folium_color&quot;: &quot;#330597&quot;, &quot;sample_id&quot;: &quot;bf66_sample_1&quot;}, &quot;type&quot;: &quot;Feature&quot;}, {&quot;bbox&quot;: [117.4954643, -31.59953966, 117.4954643, -31.59953966], &quot;geometry&quot;: {&quot;coordinates&quot;: [117.4954643, -31.59953966], &quot;type&quot;: &quot;Point&quot;}, &quot;id&quot;: &quot;413&quot;, &quot;properties&quot;: {&quot;Crop&quot;: 5, &quot;DryYield&quot;: 0.902, &quot;Elevation&quot;: 271.74, &quot;Heading&quot;: 359.9, &quot;Latitude&quot;: -31.59953966, &quot;Longitude&quot;: 117.4954643, &quot;Time&quot;: &quot;11/12/2020 4:05&quot;, &quot;Variety&quot;: &quot;43Y23 RR&quot;, &quot;__folium_color&quot;: &quot;#3f049c&quot;, &quot;sample_id&quot;: &quot;bf66_sample_1&quot;}, &quot;type&quot;: &quot;Feature&quot;}, {&quot;bbox&quot;: [117.4954643, -31.59776717, 117.4954643, -31.59776717], &quot;geometry&quot;: {&quot;coordinates&quot;: [117.4954643, -31.59776717], &quot;type&quot;: &quot;Point&quot;}, &quot;id&quot;: &quot;414&quot;, &quot;properties&quot;: {&quot;Crop&quot;: 5, &quot;DryYield&quot;: 0.694, &quot;Elevation&quot;: 272.75, &quot;Heading&quot;: 0.1, &quot;Latitude&quot;: -31.59776717, &quot;Longitude&quot;: 117.4954643, &quot;Time&quot;: &quot;11/12/2020 4:06&quot;, &quot;Variety&quot;: &quot;43Y23 RR&quot;, &quot;__folium_color&quot;: &quot;#370499&quot;, &quot;sample_id&quot;: &quot;bf66_sample_1&quot;}, &quot;type&quot;: &quot;Feature&quot;}, {&quot;bbox&quot;: [117.4954643, -31.5959617, 117.4954643, -31.5959617], &quot;geometry&quot;: {&quot;coordinates&quot;: [117.4954643, -31.5959617], &quot;type&quot;: &quot;Point&quot;}, &quot;id&quot;: &quot;415&quot;, &quot;properties&quot;: {&quot;Crop&quot;: 5, &quot;DryYield&quot;: 0.661, &quot;Elevation&quot;: 273.08, &quot;Heading&quot;: 0.0, &quot;Latitude&quot;: -31.5959617, &quot;Longitude&quot;: 117.4954643, &quot;Time&quot;: &quot;11/12/2020 4:07&quot;, &quot;Variety&quot;: &quot;43Y23 RR&quot;, &quot;__folium_color&quot;: &quot;#350498&quot;, &quot;sample_id&quot;: &quot;bf66_sample_1&quot;}, &quot;type&quot;: &quot;Feature&quot;}, {&quot;bbox&quot;: [117.4954645, -31.59408419, 117.4954645, -31.59408419], &quot;geometry&quot;: {&quot;coordinates&quot;: [117.4954645, -31.59408419], &quot;type&quot;: &quot;Point&quot;}, &quot;id&quot;: &quot;416&quot;, &quot;properties&quot;: {&quot;Crop&quot;: 5, &quot;DryYield&quot;: 0.675, &quot;Elevation&quot;: 271.78, &quot;Heading&quot;: 0.1, &quot;Latitude&quot;: -31.59408419, &quot;Longitude&quot;: 117.4954645, &quot;Time&quot;: &quot;11/12/2020 4:09&quot;, &quot;Variety&quot;: &quot;43Y23 RR&quot;, &quot;__folium_color&quot;: &quot;#350498&quot;, &quot;sample_id&quot;: &quot;bf66_sample_1&quot;}, &quot;type&quot;: &quot;Feature&quot;}, {&quot;bbox&quot;: [117.4954637, -31.59209066, 117.4954637, -31.59209066], &quot;geometry&quot;: {&quot;coordinates&quot;: [117.4954637, -31.59209066], &quot;type&quot;: &quot;Point&quot;}, &quot;id&quot;: &quot;417&quot;, &quot;properties&quot;: {&quot;Crop&quot;: 5, &quot;DryYield&quot;: 0.623, &quot;Elevation&quot;: 267.22, &quot;Heading&quot;: 359.6, &quot;Latitude&quot;: -31.59209066, &quot;Longitude&quot;: 117.4954637, &quot;Time&quot;: &quot;11/12/2020 4:10&quot;, &quot;Variety&quot;: &quot;43Y23 RR&quot;, &quot;__folium_color&quot;: &quot;#330597&quot;, &quot;sample_id&quot;: &quot;bf66_sample_1&quot;}, &quot;type&quot;: &quot;Feature&quot;}, {&quot;bbox&quot;: [117.4955907, -31.5927873, 117.4955907, -31.5927873], &quot;geometry&quot;: {&quot;coordinates&quot;: [117.4955907, -31.5927873], &quot;type&quot;: &quot;Point&quot;}, &quot;id&quot;: &quot;418&quot;, &quot;properties&quot;: {&quot;Crop&quot;: 5, &quot;DryYield&quot;: 0.415, &quot;Elevation&quot;: 268.44, &quot;Heading&quot;: 179.7, &quot;Latitude&quot;: -31.5927873, &quot;Longitude&quot;: 117.4955907, &quot;Time&quot;: &quot;11/12/2020 4:11&quot;, &quot;Variety&quot;: &quot;43Y23 RR&quot;, &quot;__folium_color&quot;: &quot;#280592&quot;, &quot;sample_id&quot;: &quot;bf66_sample_1&quot;}, &quot;type&quot;: &quot;Feature&quot;}, {&quot;bbox&quot;: [117.4955904, -31.594754, 117.4955904, -31.594754], &quot;geometry&quot;: {&quot;coordinates&quot;: [117.4955904, -31.594754], &quot;type&quot;: &quot;Point&quot;}, &quot;id&quot;: &quot;419&quot;, &quot;properties&quot;: {&quot;Crop&quot;: 5, &quot;DryYield&quot;: 0.777, &quot;Elevation&quot;: 271.96, &quot;Heading&quot;: 180.3, &quot;Latitude&quot;: -31.594754, &quot;Longitude&quot;: 117.4955904, &quot;Time&quot;: &quot;11/12/2020 4:13&quot;, &quot;Variety&quot;: &quot;43Y23 RR&quot;, &quot;__folium_color&quot;: &quot;#3a049a&quot;, &quot;sample_id&quot;: &quot;bf66_sample_1&quot;}, &quot;type&quot;: &quot;Feature&quot;}, {&quot;bbox&quot;: [117.4955906, -31.59663165, 117.4955906, -31.59663165], &quot;geometry&quot;: {&quot;coordinates&quot;: [117.4955906, -31.59663165], &quot;type&quot;: &quot;Point&quot;}, &quot;id&quot;: &quot;420&quot;, &quot;properties&quot;: {&quot;Crop&quot;: 5, &quot;DryYield&quot;: 0.779, &quot;Elevation&quot;: 272.35, &quot;Heading&quot;: 180.5, &quot;Latitude&quot;: -31.59663165, &quot;Longitude&quot;: 117.4955906, &quot;Time&quot;: &quot;11/12/2020 4:14&quot;, &quot;Variety&quot;: &quot;43Y23 RR&quot;, &quot;__folium_color&quot;: &quot;#3a049a&quot;, &quot;sample_id&quot;: &quot;bf66_sample_1&quot;}, &quot;type&quot;: &quot;Feature&quot;}, {&quot;bbox&quot;: [117.4955907, -31.59851907, 117.4955907, -31.59851907], &quot;geometry&quot;: {&quot;coordinates&quot;: [117.4955907, -31.59851907], &quot;type&quot;: &quot;Point&quot;}, &quot;id&quot;: &quot;421&quot;, &quot;properties&quot;: {&quot;Crop&quot;: 5, &quot;DryYield&quot;: 0.842, &quot;Elevation&quot;: 272.33, &quot;Heading&quot;: 180.1, &quot;Latitude&quot;: -31.59851907, &quot;Longitude&quot;: 117.4955907, &quot;Time&quot;: &quot;11/12/2020 4:15&quot;, &quot;Variety&quot;: &quot;43Y23 RR&quot;, &quot;__folium_color&quot;: &quot;#3e049c&quot;, &quot;sample_id&quot;: &quot;bf66_sample_1&quot;}, &quot;type&quot;: &quot;Feature&quot;}, {&quot;bbox&quot;: [117.4955909, -31.60018737, 117.4955909, -31.60018737], &quot;geometry&quot;: {&quot;coordinates&quot;: [117.4955909, -31.60018737], &quot;type&quot;: &quot;Point&quot;}, &quot;id&quot;: &quot;422&quot;, &quot;properties&quot;: {&quot;Crop&quot;: 5, &quot;DryYield&quot;: 0.993, &quot;Elevation&quot;: 270.28, &quot;Heading&quot;: 179.6, &quot;Latitude&quot;: -31.60018737, &quot;Longitude&quot;: 117.4955909, &quot;Time&quot;: &quot;11/12/2020 4:17&quot;, &quot;Variety&quot;: &quot;43Y23 RR&quot;, &quot;__folium_color&quot;: &quot;#44039e&quot;, &quot;sample_id&quot;: &quot;bf66_sample_1&quot;}, &quot;type&quot;: &quot;Feature&quot;}, {&quot;bbox&quot;: [117.4955907, -31.60188032, 117.4955907, -31.60188032], &quot;geometry&quot;: {&quot;coordinates&quot;: [117.4955907, -31.60188032], &quot;type&quot;: &quot;Point&quot;}, &quot;id&quot;: &quot;423&quot;, &quot;properties&quot;: {&quot;Crop&quot;: 5, &quot;DryYield&quot;: 0.617, &quot;Elevation&quot;: 264.07, &quot;Heading&quot;: 179.9, &quot;Latitude&quot;: -31.60188032, &quot;Longitude&quot;: 117.4955907, &quot;Time&quot;: &quot;11/12/2020 4:18&quot;, &quot;Variety&quot;: &quot;43Y23 RR&quot;, &quot;__folium_color&quot;: &quot;#330597&quot;, &quot;sample_id&quot;: &quot;bf66_sample_1&quot;}, &quot;type&quot;: &quot;Feature&quot;}, {&quot;bbox&quot;: [117.4955909, -31.6039343, 117.4955909, -31.6039343], &quot;geometry&quot;: {&quot;coordinates&quot;: [117.4955909, -31.6039343], &quot;type&quot;: &quot;Point&quot;}, &quot;id&quot;: &quot;424&quot;, &quot;properties&quot;: {&quot;Crop&quot;: 5, &quot;DryYield&quot;: 0.599, &quot;Elevation&quot;: 264.92, &quot;Heading&quot;: 180.0, &quot;Latitude&quot;: -31.6039343, &quot;Longitude&quot;: 117.4955909, &quot;Time&quot;: &quot;11/12/2020 4:19&quot;, &quot;Variety&quot;: &quot;43Y23 RR&quot;, &quot;__folium_color&quot;: &quot;#310597&quot;, &quot;sample_id&quot;: &quot;bf66_sample_1&quot;}, &quot;type&quot;: &quot;Feature&quot;}, {&quot;bbox&quot;: [117.4955904, -31.60602208, 117.4955904, -31.60602208], &quot;geometry&quot;: {&quot;coordinates&quot;: [117.4955904, -31.60602208], &quot;type&quot;: &quot;Point&quot;}, &quot;id&quot;: &quot;425&quot;, &quot;properties&quot;: {&quot;Crop&quot;: 5, &quot;DryYield&quot;: 0.306, &quot;Elevation&quot;: 268.71, &quot;Heading&quot;: 179.9, &quot;Latitude&quot;: -31.60602208, &quot;Longitude&quot;: 117.4955904, &quot;Time&quot;: &quot;11/12/2020 4:21&quot;, &quot;Variety&quot;: &quot;43Y23 RR&quot;, &quot;__folium_color&quot;: &quot;#220690&quot;, &quot;sample_id&quot;: &quot;bf66_sample_1&quot;}, &quot;type&quot;: &quot;Feature&quot;}, {&quot;bbox&quot;: [117.4955909, -31.60814475, 117.4955909, -31.60814475], &quot;geometry&quot;: {&quot;coordinates&quot;: [117.4955909, -31.60814475], &quot;type&quot;: &quot;Point&quot;}, &quot;id&quot;: &quot;426&quot;, &quot;properties&quot;: {&quot;Crop&quot;: 5, &quot;DryYield&quot;: 0.476, &quot;Elevation&quot;: 271.85, &quot;Heading&quot;: 179.9, &quot;Latitude&quot;: -31.60814475, &quot;Longitude&quot;: 117.4955909, &quot;Time&quot;: &quot;11/12/2020 4:22&quot;, &quot;Variety&quot;: &quot;43Y23 RR&quot;, &quot;__folium_color&quot;: &quot;#2c0594&quot;, &quot;sample_id&quot;: &quot;bf66_sample_1&quot;}, &quot;type&quot;: &quot;Feature&quot;}, {&quot;bbox&quot;: [117.4949585, -31.60722811, 117.4949585, -31.60722811], &quot;geometry&quot;: {&quot;coordinates&quot;: [117.4949585, -31.60722811], &quot;type&quot;: &quot;Point&quot;}, &quot;id&quot;: &quot;427&quot;, &quot;properties&quot;: {&quot;Crop&quot;: 5, &quot;DryYield&quot;: 0.432, &quot;Elevation&quot;: 271.97, &quot;Heading&quot;: 359.9, &quot;Latitude&quot;: -31.60722811, &quot;Longitude&quot;: 117.4949585, &quot;Time&quot;: &quot;11/12/2020 4:24&quot;, &quot;Variety&quot;: &quot;43Y23 RR&quot;, &quot;__folium_color&quot;: &quot;#280592&quot;, &quot;sample_id&quot;: &quot;bf66_sample_1&quot;}, &quot;type&quot;: &quot;Feature&quot;}, {&quot;bbox&quot;: [117.4949585, -31.60493661, 117.4949585, -31.60493661], &quot;geometry&quot;: {&quot;coordinates&quot;: [117.4949585, -31.60493661], &quot;type&quot;: &quot;Point&quot;}, &quot;id&quot;: &quot;428&quot;, &quot;properties&quot;: {&quot;Crop&quot;: 5, &quot;DryYield&quot;: 0.477, &quot;Elevation&quot;: 268.4, &quot;Heading&quot;: 359.9, &quot;Latitude&quot;: -31.60493661, &quot;Longitude&quot;: 117.4949585, &quot;Time&quot;: &quot;11/12/2020 4:25&quot;, &quot;Variety&quot;: &quot;43Y23 RR&quot;, &quot;__folium_color&quot;: &quot;#2c0594&quot;, &quot;sample_id&quot;: &quot;bf66_sample_1&quot;}, &quot;type&quot;: &quot;Feature&quot;}, {&quot;bbox&quot;: [117.4949583, -31.6028609, 117.4949583, -31.6028609], &quot;geometry&quot;: {&quot;coordinates&quot;: [117.4949583, -31.6028609], &quot;type&quot;: &quot;Point&quot;}, &quot;id&quot;: &quot;429&quot;, &quot;properties&quot;: {&quot;Crop&quot;: 5, &quot;DryYield&quot;: 0.551, &quot;Elevation&quot;: 263.45, &quot;Heading&quot;: 359.7, &quot;Latitude&quot;: -31.6028609, &quot;Longitude&quot;: 117.4949583, &quot;Time&quot;: &quot;11/12/2020 4:26&quot;, &quot;Variety&quot;: &quot;43Y23 RR&quot;, &quot;__folium_color&quot;: &quot;#2f0596&quot;, &quot;sample_id&quot;: &quot;bf66_sample_1&quot;}, &quot;type&quot;: &quot;Feature&quot;}, {&quot;bbox&quot;: [117.4949583, -31.60089728, 117.4949583, -31.60089728], &quot;geometry&quot;: {&quot;coordinates&quot;: [117.4949583, -31.60089728], &quot;type&quot;: &quot;Point&quot;}, &quot;id&quot;: &quot;430&quot;, &quot;properties&quot;: {&quot;Crop&quot;: 5, &quot;DryYield&quot;: 0.825, &quot;Elevation&quot;: 268.06, &quot;Heading&quot;: 0.0, &quot;Latitude&quot;: -31.60089728, &quot;Longitude&quot;: 117.4949583, &quot;Time&quot;: &quot;11/12/2020 4:28&quot;, &quot;Variety&quot;: &quot;43Y23 RR&quot;, &quot;__folium_color&quot;: &quot;#3c049b&quot;, &quot;sample_id&quot;: &quot;bf66_sample_1&quot;}, &quot;type&quot;: &quot;Feature&quot;}, {&quot;bbox&quot;: [117.4949585, -31.59905924, 117.4949585, -31.59905924], &quot;geometry&quot;: {&quot;coordinates&quot;: [117.4949585, -31.59905924], &quot;type&quot;: &quot;Point&quot;}, &quot;id&quot;: &quot;431&quot;, &quot;properties&quot;: {&quot;Crop&quot;: 5, &quot;DryYield&quot;: 0.848, &quot;Elevation&quot;: 273.64, &quot;Heading&quot;: 360.0, &quot;Latitude&quot;: -31.59905924, &quot;Longitude&quot;: 117.4949585, &quot;Time&quot;: &quot;11/12/2020 4:29&quot;, &quot;Variety&quot;: &quot;43Y23 RR&quot;, &quot;__folium_color&quot;: &quot;#3e049c&quot;, &quot;sample_id&quot;: &quot;bf66_sample_1&quot;}, &quot;type&quot;: &quot;Feature&quot;}, {&quot;bbox&quot;: [117.4949583, -31.5972996, 117.4949583, -31.5972996], &quot;geometry&quot;: {&quot;coordinates&quot;: [117.4949583, -31.5972996], &quot;type&quot;: &quot;Point&quot;}, &quot;id&quot;: &quot;432&quot;, &quot;properties&quot;: {&quot;Crop&quot;: 5, &quot;DryYield&quot;: 0.67, &quot;Elevation&quot;: 275.03, &quot;Heading&quot;: 359.7, &quot;Latitude&quot;: -31.5972996, &quot;Longitude&quot;: 117.4949583, &quot;Time&quot;: &quot;11/12/2020 4:30&quot;, &quot;Variety&quot;: &quot;43Y23 RR&quot;, &quot;__folium_color&quot;: &quot;#350498&quot;, &quot;sample_id&quot;: &quot;bf66_sample_1&quot;}, &quot;type&quot;: &quot;Feature&quot;}, {&quot;bbox&quot;: [117.4949585, -31.59548126, 117.4949585, -31.59548126], &quot;geometry&quot;: {&quot;coordinates&quot;: [117.4949585, -31.59548126], &quot;type&quot;: &quot;Point&quot;}, &quot;id&quot;: &quot;433&quot;, &quot;properties&quot;: {&quot;Crop&quot;: 5, &quot;DryYield&quot;: 0.777, &quot;Elevation&quot;: 275.01, &quot;Heading&quot;: 0.1, &quot;Latitude&quot;: -31.59548126, &quot;Longitude&quot;: 117.4949585, &quot;Time&quot;: &quot;11/12/2020 4:32&quot;, &quot;Variety&quot;: &quot;43Y23 RR&quot;, &quot;__folium_color&quot;: &quot;#3a049a&quot;, &quot;sample_id&quot;: &quot;bf66_sample_1&quot;}, &quot;type&quot;: &quot;Feature&quot;}, {&quot;bbox&quot;: [117.4949587, -31.59354766, 117.4949587, -31.59354766], &quot;geometry&quot;: {&quot;coordinates&quot;: [117.4949587, -31.59354766], &quot;type&quot;: &quot;Point&quot;}, &quot;id&quot;: &quot;434&quot;, &quot;properties&quot;: {&quot;Crop&quot;: 5, &quot;DryYield&quot;: 0.635, &quot;Elevation&quot;: 272.28, &quot;Heading&quot;: 0.2, &quot;Latitude&quot;: -31.59354766, &quot;Longitude&quot;: 117.4949587, &quot;Time&quot;: &quot;11/12/2020 4:33&quot;, &quot;Variety&quot;: &quot;43Y23 RR&quot;, &quot;__folium_color&quot;: &quot;#330597&quot;, &quot;sample_id&quot;: &quot;bf66_sample_1&quot;}, &quot;type&quot;: &quot;Feature&quot;}, {&quot;bbox&quot;: [117.4949589, -31.5915601, 117.4949589, -31.5915601], &quot;geometry&quot;: {&quot;coordinates&quot;: [117.4949589, -31.5915601], &quot;type&quot;: &quot;Point&quot;}, &quot;id&quot;: &quot;435&quot;, &quot;properties&quot;: {&quot;Crop&quot;: 5, &quot;DryYield&quot;: 0.157, &quot;Elevation&quot;: 266.62, &quot;Heading&quot;: 0.3, &quot;Latitude&quot;: -31.5915601, &quot;Longitude&quot;: 117.4949589, &quot;Time&quot;: &quot;11/12/2020 4:34&quot;, &quot;Variety&quot;: &quot;43Y23 RR&quot;, &quot;__folium_color&quot;: &quot;#19068c&quot;, &quot;sample_id&quot;: &quot;bf66_sample_1&quot;}, &quot;type&quot;: &quot;Feature&quot;}, {&quot;bbox&quot;: [117.4950844, -31.59331862, 117.4950844, -31.59331862], &quot;geometry&quot;: {&quot;coordinates&quot;: [117.4950844, -31.59331862], &quot;type&quot;: &quot;Point&quot;}, &quot;id&quot;: &quot;436&quot;, &quot;properties&quot;: {&quot;Crop&quot;: 5, &quot;DryYield&quot;: 0.537, &quot;Elevation&quot;: 271.34, &quot;Heading&quot;: 180.6, &quot;Latitude&quot;: -31.59331862, &quot;Longitude&quot;: 117.4950844, &quot;Time&quot;: &quot;11/12/2020 4:36&quot;, &quot;Variety&quot;: &quot;43Y23 RR&quot;, &quot;__folium_color&quot;: &quot;#2e0595&quot;, &quot;sample_id&quot;: &quot;bf66_sample_1&quot;}, &quot;type&quot;: &quot;Feature&quot;}, {&quot;bbox&quot;: [117.4950851, -31.59533357, 117.4950851, -31.59533357], &quot;geometry&quot;: {&quot;coordinates&quot;: [117.4950851, -31.59533357], &quot;type&quot;: &quot;Point&quot;}, &quot;id&quot;: &quot;437&quot;, &quot;properties&quot;: {&quot;Crop&quot;: 5, &quot;DryYield&quot;: 0.7, &quot;Elevation&quot;: 274.37, &quot;Heading&quot;: 179.8, &quot;Latitude&quot;: -31.59533357, &quot;Longitude&quot;: 117.4950851, &quot;Time&quot;: &quot;11/12/2020 4:37&quot;, &quot;Variety&quot;: &quot;43Y23 RR&quot;, &quot;__folium_color&quot;: &quot;#370499&quot;, &quot;sample_id&quot;: &quot;bf66_sample_1&quot;}, &quot;type&quot;: &quot;Feature&quot;}, {&quot;bbox&quot;: [117.4950848, -31.59723357, 117.4950848, -31.59723357], &quot;geometry&quot;: {&quot;coordinates&quot;: [117.4950848, -31.59723357], &quot;type&quot;: &quot;Point&quot;}, &quot;id&quot;: &quot;438&quot;, &quot;properties&quot;: {&quot;Crop&quot;: 5, &quot;DryYield&quot;: 0.748, &quot;Elevation&quot;: 274.38, &quot;Heading&quot;: 180.0, &quot;Latitude&quot;: -31.59723357, &quot;Longitude&quot;: 117.4950848, &quot;Time&quot;: &quot;11/12/2020 4:38&quot;, &quot;Variety&quot;: &quot;43Y23 RR&quot;, &quot;__folium_color&quot;: &quot;#38049a&quot;, &quot;sample_id&quot;: &quot;bf66_sample_1&quot;}, &quot;type&quot;: &quot;Feature&quot;}, {&quot;bbox&quot;: [117.4950851, -31.59910887, 117.4950851, -31.59910887], &quot;geometry&quot;: {&quot;coordinates&quot;: [117.4950851, -31.59910887], &quot;type&quot;: &quot;Point&quot;}, &quot;id&quot;: &quot;439&quot;, &quot;properties&quot;: {&quot;Crop&quot;: 5, &quot;DryYield&quot;: 0.972, &quot;Elevation&quot;: 273.32, &quot;Heading&quot;: 179.8, &quot;Latitude&quot;: -31.59910887, &quot;Longitude&quot;: 117.4950851, &quot;Time&quot;: &quot;11/12/2020 4:40&quot;, &quot;Variety&quot;: &quot;43Y23 RR&quot;, &quot;__folium_color&quot;: &quot;#43039e&quot;, &quot;sample_id&quot;: &quot;bf66_sample_1&quot;}, &quot;type&quot;: &quot;Feature&quot;}, {&quot;bbox&quot;: [117.495085, -31.60090555, 117.495085, -31.60090555], &quot;geometry&quot;: {&quot;coordinates&quot;: [117.495085, -31.60090555], &quot;type&quot;: &quot;Point&quot;}, &quot;id&quot;: &quot;440&quot;, &quot;properties&quot;: {&quot;Crop&quot;: 5, &quot;DryYield&quot;: 0.879, &quot;Elevation&quot;: 268.13, &quot;Heading&quot;: 179.9, &quot;Latitude&quot;: -31.60090555, &quot;Longitude&quot;: 117.495085, &quot;Time&quot;: &quot;11/12/2020 4:41&quot;, &quot;Variety&quot;: &quot;43Y23 RR&quot;, &quot;__folium_color&quot;: &quot;#3f049c&quot;, &quot;sample_id&quot;: &quot;bf66_sample_1&quot;}, &quot;type&quot;: &quot;Feature&quot;}, {&quot;bbox&quot;: [117.4952112, -31.60032571, 117.4952112, -31.60032571], &quot;geometry&quot;: {&quot;coordinates&quot;: [117.4952112, -31.60032571], &quot;type&quot;: &quot;Point&quot;}, &quot;id&quot;: &quot;441&quot;, &quot;properties&quot;: {&quot;Crop&quot;: 5, &quot;DryYield&quot;: 1.016, &quot;Elevation&quot;: 270.52, &quot;Heading&quot;: 180.0, &quot;Latitude&quot;: -31.60032571, &quot;Longitude&quot;: 117.4952112, &quot;Time&quot;: &quot;11/12/2020 4:38&quot;, &quot;Variety&quot;: &quot;43Y23 RR&quot;, &quot;__folium_color&quot;: &quot;#46039f&quot;, &quot;sample_id&quot;: &quot;bf66_sample_1&quot;}, &quot;type&quot;: &quot;Feature&quot;}, {&quot;bbox&quot;: [117.4952114, -31.6023163, 117.4952114, -31.6023163], &quot;geometry&quot;: {&quot;coordinates&quot;: [117.4952114, -31.6023163], &quot;type&quot;: &quot;Point&quot;}, &quot;id&quot;: &quot;442&quot;, &quot;properties&quot;: {&quot;Crop&quot;: 5, &quot;DryYield&quot;: 0.844, &quot;Elevation&quot;: 262.68, &quot;Heading&quot;: 180.0, &quot;Latitude&quot;: -31.6023163, &quot;Longitude&quot;: 117.4952114, &quot;Time&quot;: &quot;11/12/2020 4:39&quot;, &quot;Variety&quot;: &quot;43Y23 RR&quot;, &quot;__folium_color&quot;: &quot;#3e049c&quot;, &quot;sample_id&quot;: &quot;bf66_sample_1&quot;}, &quot;type&quot;: &quot;Feature&quot;}, {&quot;bbox&quot;: [117.4952114, -31.60458841, 117.4952114, -31.60458841], &quot;geometry&quot;: {&quot;coordinates&quot;: [117.4952114, -31.60458841], &quot;type&quot;: &quot;Point&quot;}, &quot;id&quot;: &quot;443&quot;, &quot;properties&quot;: {&quot;Crop&quot;: 5, &quot;DryYield&quot;: 0.509, &quot;Elevation&quot;: 267.31, &quot;Heading&quot;: 179.8, &quot;Latitude&quot;: -31.60458841, &quot;Longitude&quot;: 117.4952114, &quot;Time&quot;: &quot;11/12/2020 4:41&quot;, &quot;Variety&quot;: &quot;43Y23 RR&quot;, &quot;__folium_color&quot;: &quot;#2e0595&quot;, &quot;sample_id&quot;: &quot;bf66_sample_1&quot;}, &quot;type&quot;: &quot;Feature&quot;}, {&quot;bbox&quot;: [117.4952116, -31.60677667, 117.4952116, -31.60677667], &quot;geometry&quot;: {&quot;coordinates&quot;: [117.4952116, -31.60677667], &quot;type&quot;: &quot;Point&quot;}, &quot;id&quot;: &quot;444&quot;, &quot;properties&quot;: {&quot;Crop&quot;: 5, &quot;DryYield&quot;: 0.53, &quot;Elevation&quot;: 271.14, &quot;Heading&quot;: 179.7, &quot;Latitude&quot;: -31.60677667, &quot;Longitude&quot;: 117.4952116, &quot;Time&quot;: &quot;11/12/2020 4:42&quot;, &quot;Variety&quot;: &quot;43Y23 RR&quot;, &quot;__folium_color&quot;: &quot;#2e0595&quot;, &quot;sample_id&quot;: &quot;bf66_sample_1&quot;}, &quot;type&quot;: &quot;Feature&quot;}, {&quot;bbox&quot;: [117.4948322, -31.60850166, 117.4948322, -31.60850166], &quot;geometry&quot;: {&quot;coordinates&quot;: [117.4948322, -31.60850166], &quot;type&quot;: &quot;Point&quot;}, &quot;id&quot;: &quot;445&quot;, &quot;properties&quot;: {&quot;Crop&quot;: 5, &quot;DryYield&quot;: 0.555, &quot;Elevation&quot;: 273.22, &quot;Heading&quot;: 359.8, &quot;Latitude&quot;: -31.60850166, &quot;Longitude&quot;: 117.4948322, &quot;Time&quot;: &quot;11/12/2020 4:44&quot;, &quot;Variety&quot;: &quot;43Y23 RR&quot;, &quot;__folium_color&quot;: &quot;#2f0596&quot;, &quot;sample_id&quot;: &quot;bf66_sample_1&quot;}, &quot;type&quot;: &quot;Feature&quot;}, {&quot;bbox&quot;: [117.4948322, -31.60629889, 117.4948322, -31.60629889], &quot;geometry&quot;: {&quot;coordinates&quot;: [117.4948322, -31.60629889], &quot;type&quot;: &quot;Point&quot;}, &quot;id&quot;: &quot;446&quot;, &quot;properties&quot;: {&quot;Crop&quot;: 5, &quot;DryYield&quot;: 0.401, &quot;Elevation&quot;: 270.4, &quot;Heading&quot;: 0.1, &quot;Latitude&quot;: -31.60629889, &quot;Longitude&quot;: 117.4948322, &quot;Time&quot;: &quot;11/12/2020 4:45&quot;, &quot;Variety&quot;: &quot;43Y23 RR&quot;, &quot;__folium_color&quot;: &quot;#280592&quot;, &quot;sample_id&quot;: &quot;bf66_sample_1&quot;}, &quot;type&quot;: &quot;Feature&quot;}, {&quot;bbox&quot;: [117.4948324, -31.60409438, 117.4948324, -31.60409438], &quot;geometry&quot;: {&quot;coordinates&quot;: [117.4948324, -31.60409438], &quot;type&quot;: &quot;Point&quot;}, &quot;id&quot;: &quot;447&quot;, &quot;properties&quot;: {&quot;Crop&quot;: 5, &quot;DryYield&quot;: 0.6, &quot;Elevation&quot;: 267.03, &quot;Heading&quot;: 359.8, &quot;Latitude&quot;: -31.60409438, &quot;Longitude&quot;: 117.4948324, &quot;Time&quot;: &quot;11/12/2020 4:46&quot;, &quot;Variety&quot;: &quot;43Y23 RR&quot;, &quot;__folium_color&quot;: &quot;#310597&quot;, &quot;sample_id&quot;: &quot;bf66_sample_1&quot;}, &quot;type&quot;: &quot;Feature&quot;}, {&quot;bbox&quot;: [117.4948319, -31.60206599, 117.4948319, -31.60206599], &quot;geometry&quot;: {&quot;coordinates&quot;: [117.4948319, -31.60206599], &quot;type&quot;: &quot;Point&quot;}, &quot;id&quot;: &quot;448&quot;, &quot;properties&quot;: {&quot;Crop&quot;: 5, &quot;DryYield&quot;: 0.874, &quot;Elevation&quot;: 263.6, &quot;Heading&quot;: 0.2, &quot;Latitude&quot;: -31.60206599, &quot;Longitude&quot;: 117.4948319, &quot;Time&quot;: &quot;11/12/2020 4:49&quot;, &quot;Variety&quot;: &quot;43Y23 RR&quot;, &quot;__folium_color&quot;: &quot;#3f049c&quot;, &quot;sample_id&quot;: &quot;bf66_sample_1&quot;}, &quot;type&quot;: &quot;Feature&quot;}, {&quot;bbox&quot;: [117.4948321, -31.6001215, 117.4948321, -31.6001215], &quot;geometry&quot;: {&quot;coordinates&quot;: [117.4948321, -31.6001215], &quot;type&quot;: &quot;Point&quot;}, &quot;id&quot;: &quot;449&quot;, &quot;properties&quot;: {&quot;Crop&quot;: 5, &quot;DryYield&quot;: 0.894, &quot;Elevation&quot;: 271.13, &quot;Heading&quot;: 0.0, &quot;Latitude&quot;: -31.6001215, &quot;Longitude&quot;: 117.4948321, &quot;Time&quot;: &quot;11/12/2020 4:50&quot;, &quot;Variety&quot;: &quot;43Y23 RR&quot;, &quot;__folium_color&quot;: &quot;#3f049c&quot;, &quot;sample_id&quot;: &quot;bf66_sample_1&quot;}, &quot;type&quot;: &quot;Feature&quot;}, {&quot;bbox&quot;: [117.4948321, -31.59829907, 117.4948321, -31.59829907], &quot;geometry&quot;: {&quot;coordinates&quot;: [117.4948321, -31.59829907], &quot;type&quot;: &quot;Point&quot;}, &quot;id&quot;: &quot;450&quot;, &quot;properties&quot;: {&quot;Crop&quot;: 5, &quot;DryYield&quot;: 1.012, &quot;Elevation&quot;: 274.85, &quot;Heading&quot;: 0.0, &quot;Latitude&quot;: -31.59829907, &quot;Longitude&quot;: 117.4948321, &quot;Time&quot;: &quot;11/12/2020 4:52&quot;, &quot;Variety&quot;: &quot;43Y23 RR&quot;, &quot;__folium_color&quot;: &quot;#46039f&quot;, &quot;sample_id&quot;: &quot;bf66_sample_1&quot;}, &quot;type&quot;: &quot;Feature&quot;}, {&quot;bbox&quot;: [117.4948321, -31.59647048, 117.4948321, -31.59647048], &quot;geometry&quot;: {&quot;coordinates&quot;: [117.4948321, -31.59647048], &quot;type&quot;: &quot;Point&quot;}, &quot;id&quot;: &quot;451&quot;, &quot;properties&quot;: {&quot;Crop&quot;: 5, &quot;DryYield&quot;: 0.872, &quot;Elevation&quot;: 275.67, &quot;Heading&quot;: 0.2, &quot;Latitude&quot;: -31.59647048, &quot;Longitude&quot;: 117.4948321, &quot;Time&quot;: &quot;11/12/2020 4:53&quot;, &quot;Variety&quot;: &quot;43Y23 RR&quot;, &quot;__folium_color&quot;: &quot;#3f049c&quot;, &quot;sample_id&quot;: &quot;bf66_sample_1&quot;}, &quot;type&quot;: &quot;Feature&quot;}, {&quot;bbox&quot;: [117.4948321, -31.59463956, 117.4948321, -31.59463956], &quot;geometry&quot;: {&quot;coordinates&quot;: [117.4948321, -31.59463956], &quot;type&quot;: &quot;Point&quot;}, &quot;id&quot;: &quot;452&quot;, &quot;properties&quot;: {&quot;Crop&quot;: 5, &quot;DryYield&quot;: 1.122, &quot;Elevation&quot;: 274.61, &quot;Heading&quot;: 359.9, &quot;Latitude&quot;: -31.59463956, &quot;Longitude&quot;: 117.4948321, &quot;Time&quot;: &quot;11/12/2020 4:54&quot;, &quot;Variety&quot;: &quot;43Y23 RR&quot;, &quot;__folium_color&quot;: &quot;#4b03a1&quot;, &quot;sample_id&quot;: &quot;bf66_sample_1&quot;}, &quot;type&quot;: &quot;Feature&quot;}, {&quot;bbox&quot;: [117.4948319, -31.59267822, 117.4948319, -31.59267822], &quot;geometry&quot;: {&quot;coordinates&quot;: [117.4948319, -31.59267822], &quot;type&quot;: &quot;Point&quot;}, &quot;id&quot;: &quot;453&quot;, &quot;properties&quot;: {&quot;Crop&quot;: 5, &quot;DryYield&quot;: 0.801, &quot;Elevation&quot;: 270.24, &quot;Heading&quot;: 359.9, &quot;Latitude&quot;: -31.59267822, &quot;Longitude&quot;: 117.4948319, &quot;Time&quot;: &quot;11/12/2020 4:56&quot;, &quot;Variety&quot;: &quot;43Y23 RR&quot;, &quot;__folium_color&quot;: &quot;#3c049b&quot;, &quot;sample_id&quot;: &quot;bf66_sample_1&quot;}, &quot;type&quot;: &quot;Feature&quot;}, {&quot;bbox&quot;: [117.4947058, -31.59248517, 117.4947058, -31.59248517], &quot;geometry&quot;: {&quot;coordinates&quot;: [117.4947058, -31.59248517], &quot;type&quot;: &quot;Point&quot;}, &quot;id&quot;: &quot;454&quot;, &quot;properties&quot;: {&quot;Crop&quot;: 5, &quot;DryYield&quot;: 0.967, &quot;Elevation&quot;: 269.74, &quot;Heading&quot;: 180.0, &quot;Latitude&quot;: -31.59248517, &quot;Longitude&quot;: 117.4947058, &quot;Time&quot;: &quot;11/12/2020 4:57&quot;, &quot;Variety&quot;: &quot;43Y23 RR&quot;, &quot;__folium_color&quot;: &quot;#43039e&quot;, &quot;sample_id&quot;: &quot;bf66_sample_1&quot;}, &quot;type&quot;: &quot;Feature&quot;}, {&quot;bbox&quot;: [117.4947051, -31.59463358, 117.4947051, -31.59463358], &quot;geometry&quot;: {&quot;coordinates&quot;: [117.4947051, -31.59463358], &quot;type&quot;: &quot;Point&quot;}, &quot;id&quot;: &quot;455&quot;, &quot;properties&quot;: {&quot;Crop&quot;: 5, &quot;DryYield&quot;: 0.909, &quot;Elevation&quot;: 274.83, &quot;Heading&quot;: 179.9, &quot;Latitude&quot;: -31.59463358, &quot;Longitude&quot;: 117.4947051, &quot;Time&quot;: &quot;11/12/2020 4:58&quot;, &quot;Variety&quot;: &quot;43Y23 RR&quot;, &quot;__folium_color&quot;: &quot;#41049d&quot;, &quot;sample_id&quot;: &quot;bf66_sample_1&quot;}, &quot;type&quot;: &quot;Feature&quot;}, {&quot;bbox&quot;: [117.494706, -31.59682468, 117.494706, -31.59682468], &quot;geometry&quot;: {&quot;coordinates&quot;: [117.494706, -31.59682468], &quot;type&quot;: &quot;Point&quot;}, &quot;id&quot;: &quot;456&quot;, &quot;properties&quot;: {&quot;Crop&quot;: 5, &quot;DryYield&quot;: 0.776, &quot;Elevation&quot;: 276.19, &quot;Heading&quot;: 179.9, &quot;Latitude&quot;: -31.59682468, &quot;Longitude&quot;: 117.494706, &quot;Time&quot;: &quot;11/12/2020 5:00&quot;, &quot;Variety&quot;: &quot;43Y23 RR&quot;, &quot;__folium_color&quot;: &quot;#3a049a&quot;, &quot;sample_id&quot;: &quot;bf66_sample_1&quot;}, &quot;type&quot;: &quot;Feature&quot;}, {&quot;bbox&quot;: [117.4947058, -31.59881887, 117.4947058, -31.59881887], &quot;geometry&quot;: {&quot;coordinates&quot;: [117.4947058, -31.59881887], &quot;type&quot;: &quot;Point&quot;}, &quot;id&quot;: &quot;457&quot;, &quot;properties&quot;: {&quot;Crop&quot;: 5, &quot;DryYield&quot;: 1.113, &quot;Elevation&quot;: 274.87, &quot;Heading&quot;: 180.0, &quot;Latitude&quot;: -31.59881887, &quot;Longitude&quot;: 117.4947058, &quot;Time&quot;: &quot;11/12/2020 5:01&quot;, &quot;Variety&quot;: &quot;43Y23 RR&quot;, &quot;__folium_color&quot;: &quot;#4903a0&quot;, &quot;sample_id&quot;: &quot;bf66_sample_1&quot;}, &quot;type&quot;: &quot;Feature&quot;}, {&quot;bbox&quot;: [117.4947058, -31.60075159, 117.4947058, -31.60075159], &quot;geometry&quot;: {&quot;coordinates&quot;: [117.4947058, -31.60075159], &quot;type&quot;: &quot;Point&quot;}, &quot;id&quot;: &quot;458&quot;, &quot;properties&quot;: {&quot;Crop&quot;: 5, &quot;DryYield&quot;: 1.099, &quot;Elevation&quot;: 268.95, &quot;Heading&quot;: 180.1, &quot;Latitude&quot;: -31.60075159, &quot;Longitude&quot;: 117.4947058, &quot;Time&quot;: &quot;11/12/2020 5:03&quot;, &quot;Variety&quot;: &quot;43Y23 RR&quot;, &quot;__folium_color&quot;: &quot;#4903a0&quot;, &quot;sample_id&quot;: &quot;bf66_sample_1&quot;}, &quot;type&quot;: &quot;Feature&quot;}, {&quot;bbox&quot;: [117.4947056, -31.60279732, 117.4947056, -31.60279732], &quot;geometry&quot;: {&quot;coordinates&quot;: [117.4947056, -31.60279732], &quot;type&quot;: &quot;Point&quot;}, &quot;id&quot;: &quot;459&quot;, &quot;properties&quot;: {&quot;Crop&quot;: 5, &quot;DryYield&quot;: 0.863, &quot;Elevation&quot;: 263.79, &quot;Heading&quot;: 180.1, &quot;Latitude&quot;: -31.60279732, &quot;Longitude&quot;: 117.4947056, &quot;Time&quot;: &quot;11/12/2020 5:04&quot;, &quot;Variety&quot;: &quot;43Y23 RR&quot;, &quot;__folium_color&quot;: &quot;#3e049c&quot;, &quot;sample_id&quot;: &quot;bf66_sample_1&quot;}, &quot;type&quot;: &quot;Feature&quot;}, {&quot;bbox&quot;: [117.4947047, -31.60517558, 117.4947047, -31.60517558], &quot;geometry&quot;: {&quot;coordinates&quot;: [117.4947047, -31.60517558], &quot;type&quot;: &quot;Point&quot;}, &quot;id&quot;: &quot;460&quot;, &quot;properties&quot;: {&quot;Crop&quot;: 5, &quot;DryYield&quot;: 0.448, &quot;Elevation&quot;: 269.38, &quot;Heading&quot;: 180.0, &quot;Latitude&quot;: -31.60517558, &quot;Longitude&quot;: 117.4947047, &quot;Time&quot;: &quot;11/12/2020 5:05&quot;, &quot;Variety&quot;: &quot;43Y23 RR&quot;, &quot;__folium_color&quot;: &quot;#2a0593&quot;, &quot;sample_id&quot;: &quot;bf66_sample_1&quot;}, &quot;type&quot;: &quot;Feature&quot;}, {&quot;bbox&quot;: [117.494706, -31.60736306, 117.494706, -31.60736306], &quot;geometry&quot;: {&quot;coordinates&quot;: [117.494706, -31.60736306], &quot;type&quot;: &quot;Point&quot;}, &quot;id&quot;: &quot;461&quot;, &quot;properties&quot;: {&quot;Crop&quot;: 5, &quot;DryYield&quot;: 0.508, &quot;Elevation&quot;: 272.41, &quot;Heading&quot;: 180.1, &quot;Latitude&quot;: -31.60736306, &quot;Longitude&quot;: 117.494706, &quot;Time&quot;: &quot;11/12/2020 5:07&quot;, &quot;Variety&quot;: &quot;43Y23 RR&quot;, &quot;__folium_color&quot;: &quot;#2e0595&quot;, &quot;sample_id&quot;: &quot;bf66_sample_1&quot;}, &quot;type&quot;: &quot;Feature&quot;}, {&quot;bbox&quot;: [117.4943263, -31.60810462, 117.4943263, -31.60810462], &quot;geometry&quot;: {&quot;coordinates&quot;: [117.4943263, -31.60810462], &quot;type&quot;: &quot;Point&quot;}, &quot;id&quot;: &quot;462&quot;, &quot;properties&quot;: {&quot;Crop&quot;: 5, &quot;DryYield&quot;: 0.751, &quot;Elevation&quot;: 272.77, &quot;Heading&quot;: 359.9, &quot;Latitude&quot;: -31.60810462, &quot;Longitude&quot;: 117.4943263, &quot;Time&quot;: &quot;11/12/2020 5:08&quot;, &quot;Variety&quot;: &quot;43Y23 RR&quot;, &quot;__folium_color&quot;: &quot;#38049a&quot;, &quot;sample_id&quot;: &quot;bf66_sample_1&quot;}, &quot;type&quot;: &quot;Feature&quot;}, {&quot;bbox&quot;: [117.4943257, -31.60603694, 117.4943257, -31.60603694], &quot;geometry&quot;: {&quot;coordinates&quot;: [117.4943257, -31.60603694], &quot;type&quot;: &quot;Point&quot;}, &quot;id&quot;: &quot;463&quot;, &quot;properties&quot;: {&quot;Crop&quot;: 5, &quot;DryYield&quot;: 0.448, &quot;Elevation&quot;: 270.21, &quot;Heading&quot;: 359.8, &quot;Latitude&quot;: -31.60603694, &quot;Longitude&quot;: 117.4943257, &quot;Time&quot;: &quot;11/12/2020 5:10&quot;, &quot;Variety&quot;: &quot;43Y23 RR&quot;, &quot;__folium_color&quot;: &quot;#2a0593&quot;, &quot;sample_id&quot;: &quot;bf66_sample_1&quot;}, &quot;type&quot;: &quot;Feature&quot;}, {&quot;bbox&quot;: [117.4943265, -31.60392434, 117.4943265, -31.60392434], &quot;geometry&quot;: {&quot;coordinates&quot;: [117.4943265, -31.60392434], &quot;type&quot;: &quot;Point&quot;}, &quot;id&quot;: &quot;464&quot;, &quot;properties&quot;: {&quot;Crop&quot;: 5, &quot;DryYield&quot;: 0.747, &quot;Elevation&quot;: 267.15, &quot;Heading&quot;: 0.1, &quot;Latitude&quot;: -31.60392434, &quot;Longitude&quot;: 117.4943265, &quot;Time&quot;: &quot;11/12/2020 5:11&quot;, &quot;Variety&quot;: &quot;43Y23 RR&quot;, &quot;__folium_color&quot;: &quot;#38049a&quot;, &quot;sample_id&quot;: &quot;bf66_sample_1&quot;}, &quot;type&quot;: &quot;Feature&quot;}, {&quot;bbox&quot;: [117.4943261, -31.60173969, 117.4943261, -31.60173969], &quot;geometry&quot;: {&quot;coordinates&quot;: [117.4943261, -31.60173969], &quot;type&quot;: &quot;Point&quot;}, &quot;id&quot;: &quot;465&quot;, &quot;properties&quot;: {&quot;Crop&quot;: 5, &quot;DryYield&quot;: 1.016, &quot;Elevation&quot;: 264.96, &quot;Heading&quot;: 360.0, &quot;Latitude&quot;: -31.60173969, &quot;Longitude&quot;: 117.4943261, &quot;Time&quot;: &quot;11/12/2020 5:13&quot;, &quot;Variety&quot;: &quot;43Y23 RR&quot;, &quot;__folium_color&quot;: &quot;#46039f&quot;, &quot;sample_id&quot;: &quot;bf66_sample_1&quot;}, &quot;type&quot;: &quot;Feature&quot;}, {&quot;bbox&quot;: [117.4943259, -31.59984284, 117.4943259, -31.59984284], &quot;geometry&quot;: {&quot;coordinates&quot;: [117.4943259, -31.59984284], &quot;type&quot;: &quot;Point&quot;}, &quot;id&quot;: &quot;466&quot;, &quot;properties&quot;: {&quot;Crop&quot;: 5, &quot;DryYield&quot;: 1.09, &quot;Elevation&quot;: 271.89, &quot;Heading&quot;: 359.5, &quot;Latitude&quot;: -31.59984284, &quot;Longitude&quot;: 117.4943259, &quot;Time&quot;: &quot;11/12/2020 5:14&quot;, &quot;Variety&quot;: &quot;43Y23 RR&quot;, &quot;__folium_color&quot;: &quot;#4903a0&quot;, &quot;sample_id&quot;: &quot;bf66_sample_1&quot;}, &quot;type&quot;: &quot;Feature&quot;}, {&quot;bbox&quot;: [117.4943268, -31.59798624, 117.4943268, -31.59798624], &quot;geometry&quot;: {&quot;coordinates&quot;: [117.4943268, -31.59798624], &quot;type&quot;: &quot;Point&quot;}, &quot;id&quot;: &quot;467&quot;, &quot;properties&quot;: {&quot;Crop&quot;: 5, &quot;DryYield&quot;: 0.76, &quot;Elevation&quot;: 277.16, &quot;Heading&quot;: 0.4, &quot;Latitude&quot;: -31.59798624, &quot;Longitude&quot;: 117.4943268, &quot;Time&quot;: &quot;11/12/2020 5:15&quot;, &quot;Variety&quot;: &quot;43Y23 RR&quot;, &quot;__folium_color&quot;: &quot;#3a049a&quot;, &quot;sample_id&quot;: &quot;bf66_sample_1&quot;}, &quot;type&quot;: &quot;Feature&quot;}, {&quot;bbox&quot;: [117.4943263, -31.59603692, 117.4943263, -31.59603692], &quot;geometry&quot;: {&quot;coordinates&quot;: [117.4943263, -31.59603692], &quot;type&quot;: &quot;Point&quot;}, &quot;id&quot;: &quot;468&quot;, &quot;properties&quot;: {&quot;Crop&quot;: 5, &quot;DryYield&quot;: 0.756, &quot;Elevation&quot;: 277.53, &quot;Heading&quot;: 0.1, &quot;Latitude&quot;: -31.59603692, &quot;Longitude&quot;: 117.4943263, &quot;Time&quot;: &quot;11/12/2020 5:17&quot;, &quot;Variety&quot;: &quot;43Y23 RR&quot;, &quot;__folium_color&quot;: &quot;#38049a&quot;, &quot;sample_id&quot;: &quot;bf66_sample_1&quot;}, &quot;type&quot;: &quot;Feature&quot;}, {&quot;bbox&quot;: [117.4943259, -31.59400743, 117.4943259, -31.59400743], &quot;geometry&quot;: {&quot;coordinates&quot;: [117.4943259, -31.59400743], &quot;type&quot;: &quot;Point&quot;}, &quot;id&quot;: &quot;469&quot;, &quot;properties&quot;: {&quot;Crop&quot;: 5, &quot;DryYield&quot;: 0.598, &quot;Elevation&quot;: 274.39, &quot;Heading&quot;: 359.9, &quot;Latitude&quot;: -31.59400743, &quot;Longitude&quot;: 117.4943259, &quot;Time&quot;: &quot;11/12/2020 5:18&quot;, &quot;Variety&quot;: &quot;43Y23 RR&quot;, &quot;__folium_color&quot;: &quot;#310597&quot;, &quot;sample_id&quot;: &quot;bf66_sample_1&quot;}, &quot;type&quot;: &quot;Feature&quot;}, {&quot;bbox&quot;: [117.4943268, -31.59187066, 117.4943268, -31.59187066], &quot;geometry&quot;: {&quot;coordinates&quot;: [117.4943268, -31.59187066], &quot;type&quot;: &quot;Point&quot;}, &quot;id&quot;: &quot;470&quot;, &quot;properties&quot;: {&quot;Crop&quot;: 5, &quot;DryYield&quot;: 0.816, &quot;Elevation&quot;: 268.39, &quot;Heading&quot;: 0.0, &quot;Latitude&quot;: -31.59187066, &quot;Longitude&quot;: 117.4943268, &quot;Time&quot;: &quot;11/12/2020 5:19&quot;, &quot;Variety&quot;: &quot;43Y23 RR&quot;, &quot;__folium_color&quot;: &quot;#3c049b&quot;, &quot;sample_id&quot;: &quot;bf66_sample_1&quot;}, &quot;type&quot;: &quot;Feature&quot;}, {&quot;bbox&quot;: [117.4941998, -31.59337669, 117.4941998, -31.59337669], &quot;geometry&quot;: {&quot;coordinates&quot;: [117.4941998, -31.59337669], &quot;type&quot;: &quot;Point&quot;}, &quot;id&quot;: &quot;471&quot;, &quot;properties&quot;: {&quot;Crop&quot;: 5, &quot;DryYield&quot;: 0.557, &quot;Elevation&quot;: 272.59, &quot;Heading&quot;: 179.9, &quot;Latitude&quot;: -31.59337669, &quot;Longitude&quot;: 117.4941998, &quot;Time&quot;: &quot;11/12/2020 5:21&quot;, &quot;Variety&quot;: &quot;43Y23 RR&quot;, &quot;__folium_color&quot;: &quot;#2f0596&quot;, &quot;sample_id&quot;: &quot;bf66_sample_1&quot;}, &quot;type&quot;: &quot;Feature&quot;}, {&quot;bbox&quot;: [117.4941998, -31.59554422, 117.4941998, -31.59554422], &quot;geometry&quot;: {&quot;coordinates&quot;: [117.4941998, -31.59554422], &quot;type&quot;: &quot;Point&quot;}, &quot;id&quot;: &quot;472&quot;, &quot;properties&quot;: {&quot;Crop&quot;: 5, &quot;DryYield&quot;: 0.669, &quot;Elevation&quot;: 277.6, &quot;Heading&quot;: 180.1, &quot;Latitude&quot;: -31.59554422, &quot;Longitude&quot;: 117.4941998, &quot;Time&quot;: &quot;11/12/2020 5:22&quot;, &quot;Variety&quot;: &quot;43Y23 RR&quot;, &quot;__folium_color&quot;: &quot;#350498&quot;, &quot;sample_id&quot;: &quot;bf66_sample_1&quot;}, &quot;type&quot;: &quot;Feature&quot;}, {&quot;bbox&quot;: [117.4941998, -31.59771983, 117.4941998, -31.59771983], &quot;geometry&quot;: {&quot;coordinates&quot;: [117.4941998, -31.59771983], &quot;type&quot;: &quot;Point&quot;}, &quot;id&quot;: &quot;473&quot;, &quot;properties&quot;: {&quot;Crop&quot;: 5, &quot;DryYield&quot;: 0.902, &quot;Elevation&quot;: 278.01, &quot;Heading&quot;: 179.9, &quot;Latitude&quot;: -31.59771983, &quot;Longitude&quot;: 117.4941998, &quot;Time&quot;: &quot;11/12/2020 5:24&quot;, &quot;Variety&quot;: &quot;43Y23 RR&quot;, &quot;__folium_color&quot;: &quot;#3f049c&quot;, &quot;sample_id&quot;: &quot;bf66_sample_1&quot;}, &quot;type&quot;: &quot;Feature&quot;}, {&quot;bbox&quot;: [117.4941998, -31.59959497, 117.4941998, -31.59959497], &quot;geometry&quot;: {&quot;coordinates&quot;: [117.4941998, -31.59959497], &quot;type&quot;: &quot;Point&quot;}, &quot;id&quot;: &quot;474&quot;, &quot;properties&quot;: {&quot;Crop&quot;: 5, &quot;DryYield&quot;: 1.12, &quot;Elevation&quot;: 272.83, &quot;Heading&quot;: 180.0, &quot;Latitude&quot;: -31.59959497, &quot;Longitude&quot;: 117.4941998, &quot;Time&quot;: &quot;11/12/2020 5:25&quot;, &quot;Variety&quot;: &quot;43Y23 RR&quot;, &quot;__folium_color&quot;: &quot;#4b03a1&quot;, &quot;sample_id&quot;: &quot;bf66_sample_1&quot;}, &quot;type&quot;: &quot;Feature&quot;}, {&quot;bbox&quot;: [117.495085, -31.60368644, 117.495085, -31.60368644], &quot;geometry&quot;: {&quot;coordinates&quot;: [117.495085, -31.60368644], &quot;type&quot;: &quot;Point&quot;}, &quot;id&quot;: &quot;475&quot;, &quot;properties&quot;: {&quot;Crop&quot;: 5, &quot;DryYield&quot;: 0.389, &quot;Elevation&quot;: 265.43, &quot;Heading&quot;: 180.0, &quot;Latitude&quot;: -31.60368644, &quot;Longitude&quot;: 117.495085, &quot;Time&quot;: &quot;11/12/2020 4:43&quot;, &quot;Variety&quot;: &quot;43Y23 RR&quot;, &quot;__folium_color&quot;: &quot;#260591&quot;, &quot;sample_id&quot;: &quot;bf66_sample_1&quot;}, &quot;type&quot;: &quot;Feature&quot;}, {&quot;bbox&quot;: [117.4950853, -31.60590214, 117.4950853, -31.60590214], &quot;geometry&quot;: {&quot;coordinates&quot;: [117.4950853, -31.60590214], &quot;type&quot;: &quot;Point&quot;}, &quot;id&quot;: &quot;476&quot;, &quot;properties&quot;: {&quot;Crop&quot;: 5, &quot;DryYield&quot;: 0.253, &quot;Elevation&quot;: 269.08, &quot;Heading&quot;: 179.5, &quot;Latitude&quot;: -31.60590214, &quot;Longitude&quot;: 117.4950853, &quot;Time&quot;: &quot;11/12/2020 4:44&quot;, &quot;Variety&quot;: &quot;43Y23 RR&quot;, &quot;__folium_color&quot;: &quot;#20068f&quot;, &quot;sample_id&quot;: &quot;bf66_sample_1&quot;}, &quot;type&quot;: &quot;Feature&quot;}, {&quot;bbox&quot;: [117.4950848, -31.60819101, 117.4950848, -31.60819101], &quot;geometry&quot;: {&quot;coordinates&quot;: [117.4950848, -31.60819101], &quot;type&quot;: &quot;Point&quot;}, &quot;id&quot;: &quot;477&quot;, &quot;properties&quot;: {&quot;Crop&quot;: 5, &quot;DryYield&quot;: 0.349, &quot;Elevation&quot;: 272.7, &quot;Heading&quot;: 180.1, &quot;Latitude&quot;: -31.60819101, &quot;Longitude&quot;: 117.4950848, &quot;Time&quot;: &quot;11/12/2020 4:46&quot;, &quot;Variety&quot;: &quot;43Y23 RR&quot;, &quot;__folium_color&quot;: &quot;#240691&quot;, &quot;sample_id&quot;: &quot;bf66_sample_1&quot;}, &quot;type&quot;: &quot;Feature&quot;}, {&quot;bbox&quot;: [117.4944524, -31.60736046, 117.4944524, -31.60736046], &quot;geometry&quot;: {&quot;coordinates&quot;: [117.4944524, -31.60736046], &quot;type&quot;: &quot;Point&quot;}, &quot;id&quot;: &quot;478&quot;, &quot;properties&quot;: {&quot;Crop&quot;: 5, &quot;DryYield&quot;: 0.272, &quot;Elevation&quot;: 272.32, &quot;Heading&quot;: 359.4, &quot;Latitude&quot;: -31.60736046, &quot;Longitude&quot;: 117.4944524, &quot;Time&quot;: &quot;11/12/2020 4:47&quot;, &quot;Variety&quot;: &quot;43Y23 RR&quot;, &quot;__folium_color&quot;: &quot;#20068f&quot;, &quot;sample_id&quot;: &quot;bf66_sample_1&quot;}, &quot;type&quot;: &quot;Feature&quot;}, {&quot;bbox&quot;: [117.4944526, -31.60501856, 117.4944526, -31.60501856], &quot;geometry&quot;: {&quot;coordinates&quot;: [117.4944526, -31.60501856], &quot;type&quot;: &quot;Point&quot;}, &quot;id&quot;: &quot;479&quot;, &quot;properties&quot;: {&quot;Crop&quot;: 5, &quot;DryYield&quot;: 0.31, &quot;Elevation&quot;: 269.42, &quot;Heading&quot;: 359.7, &quot;Latitude&quot;: -31.60501856, &quot;Longitude&quot;: 117.4944526, &quot;Time&quot;: &quot;11/12/2020 4:49&quot;, &quot;Variety&quot;: &quot;43Y23 RR&quot;, &quot;__folium_color&quot;: &quot;#220690&quot;, &quot;sample_id&quot;: &quot;bf66_sample_1&quot;}, &quot;type&quot;: &quot;Feature&quot;}, {&quot;bbox&quot;: [117.4944526, -31.60289368, 117.4944526, -31.60289368], &quot;geometry&quot;: {&quot;coordinates&quot;: [117.4944526, -31.60289368], &quot;type&quot;: &quot;Point&quot;}, &quot;id&quot;: &quot;480&quot;, &quot;properties&quot;: {&quot;Crop&quot;: 5, &quot;DryYield&quot;: 0.642, &quot;Elevation&quot;: 264.18, &quot;Heading&quot;: 359.8, &quot;Latitude&quot;: -31.60289368, &quot;Longitude&quot;: 117.4944526, &quot;Time&quot;: &quot;11/12/2020 4:50&quot;, &quot;Variety&quot;: &quot;43Y23 RR&quot;, &quot;__folium_color&quot;: &quot;#330597&quot;, &quot;sample_id&quot;: &quot;bf66_sample_1&quot;}, &quot;type&quot;: &quot;Feature&quot;}, {&quot;bbox&quot;: [117.4944526, -31.60099348, 117.4944526, -31.60099348], &quot;geometry&quot;: {&quot;coordinates&quot;: [117.4944526, -31.60099348], &quot;type&quot;: &quot;Point&quot;}, &quot;id&quot;: &quot;481&quot;, &quot;properties&quot;: {&quot;Crop&quot;: 5, &quot;DryYield&quot;: 0.841, &quot;Elevation&quot;: 267.57, &quot;Heading&quot;: 359.6, &quot;Latitude&quot;: -31.60099348, &quot;Longitude&quot;: 117.4944526, &quot;Time&quot;: &quot;11/12/2020 4:51&quot;, &quot;Variety&quot;: &quot;43Y23 RR&quot;, &quot;__folium_color&quot;: &quot;#3e049c&quot;, &quot;sample_id&quot;: &quot;bf66_sample_1&quot;}, &quot;type&quot;: &quot;Feature&quot;}, {&quot;bbox&quot;: [117.4944526, -31.59930068, 117.4944526, -31.59930068], &quot;geometry&quot;: {&quot;coordinates&quot;: [117.4944526, -31.59930068], &quot;type&quot;: &quot;Point&quot;}, &quot;id&quot;: &quot;482&quot;, &quot;properties&quot;: {&quot;Crop&quot;: 5, &quot;DryYield&quot;: 0.802, &quot;Elevation&quot;: 273.73, &quot;Heading&quot;: 360.0, &quot;Latitude&quot;: -31.59930068, &quot;Longitude&quot;: 117.4944526, &quot;Time&quot;: &quot;11/12/2020 4:53&quot;, &quot;Variety&quot;: &quot;43Y23 RR&quot;, &quot;__folium_color&quot;: &quot;#3c049b&quot;, &quot;sample_id&quot;: &quot;bf66_sample_1&quot;}, &quot;type&quot;: &quot;Feature&quot;}, {&quot;bbox&quot;: [117.4944011, -31.59775215, 117.4944011, -31.59775215], &quot;geometry&quot;: {&quot;coordinates&quot;: [117.4944011, -31.59775215], &quot;type&quot;: &quot;Point&quot;}, &quot;id&quot;: &quot;483&quot;, &quot;properties&quot;: {&quot;Crop&quot;: 5, &quot;DryYield&quot;: 0.773, &quot;Elevation&quot;: 277.21, &quot;Heading&quot;: 328.8, &quot;Latitude&quot;: -31.59775215, &quot;Longitude&quot;: 117.4944011, &quot;Time&quot;: &quot;11/12/2020 4:54&quot;, &quot;Variety&quot;: &quot;43Y23 RR&quot;, &quot;__folium_color&quot;: &quot;#3a049a&quot;, &quot;sample_id&quot;: &quot;bf66_sample_1&quot;}, &quot;type&quot;: &quot;Feature&quot;}, {&quot;bbox&quot;: [117.4944633, -31.5977258, 117.4944633, -31.5977258], &quot;geometry&quot;: {&quot;coordinates&quot;: [117.4944633, -31.5977258], &quot;type&quot;: &quot;Point&quot;}, &quot;id&quot;: &quot;484&quot;, &quot;properties&quot;: {&quot;Crop&quot;: 5, &quot;DryYield&quot;: 0.498, &quot;Elevation&quot;: 277.15, &quot;Heading&quot;: 359.8, &quot;Latitude&quot;: -31.5977258, &quot;Longitude&quot;: 117.4944633, &quot;Time&quot;: &quot;11/12/2020 4:55&quot;, &quot;Variety&quot;: &quot;43Y23 RR&quot;, &quot;__folium_color&quot;: &quot;#2c0594&quot;, &quot;sample_id&quot;: &quot;bf66_sample_1&quot;}, &quot;type&quot;: &quot;Feature&quot;}, {&quot;bbox&quot;: [117.4944527, -31.59605822, 117.4944527, -31.59605822], &quot;geometry&quot;: {&quot;coordinates&quot;: [117.4944527, -31.59605822], &quot;type&quot;: &quot;Point&quot;}, &quot;id&quot;: &quot;485&quot;, &quot;properties&quot;: {&quot;Crop&quot;: 5, &quot;DryYield&quot;: 0.63, &quot;Elevation&quot;: 277.02, &quot;Heading&quot;: 359.5, &quot;Latitude&quot;: -31.59605822, &quot;Longitude&quot;: 117.4944527, &quot;Time&quot;: &quot;11/12/2020 4:57&quot;, &quot;Variety&quot;: &quot;43Y23 RR&quot;, &quot;__folium_color&quot;: &quot;#330597&quot;, &quot;sample_id&quot;: &quot;bf66_sample_1&quot;}, &quot;type&quot;: &quot;Feature&quot;}, {&quot;bbox&quot;: [117.4944531, -31.59403991, 117.4944531, -31.59403991], &quot;geometry&quot;: {&quot;coordinates&quot;: [117.4944531, -31.59403991], &quot;type&quot;: &quot;Point&quot;}, &quot;id&quot;: &quot;486&quot;, &quot;properties&quot;: {&quot;Crop&quot;: 5, &quot;DryYield&quot;: 0.501, &quot;Elevation&quot;: 274.12, &quot;Heading&quot;: 0.2, &quot;Latitude&quot;: -31.59403991, &quot;Longitude&quot;: 117.4944531, &quot;Time&quot;: &quot;11/12/2020 4:58&quot;, &quot;Variety&quot;: &quot;43Y23 RR&quot;, &quot;__folium_color&quot;: &quot;#2c0594&quot;, &quot;sample_id&quot;: &quot;bf66_sample_1&quot;}, &quot;type&quot;: &quot;Feature&quot;}, {&quot;bbox&quot;: [117.4944526, -31.59187219, 117.4944526, -31.59187219], &quot;geometry&quot;: {&quot;coordinates&quot;: [117.4944526, -31.59187219], &quot;type&quot;: &quot;Point&quot;}, &quot;id&quot;: &quot;487&quot;, &quot;properties&quot;: {&quot;Crop&quot;: 5, &quot;DryYield&quot;: 0.628, &quot;Elevation&quot;: 268.28, &quot;Heading&quot;: 0.1, &quot;Latitude&quot;: -31.59187219, &quot;Longitude&quot;: 117.4944526, &quot;Time&quot;: &quot;11/12/2020 4:59&quot;, &quot;Variety&quot;: &quot;43Y23 RR&quot;, &quot;__folium_color&quot;: &quot;#330597&quot;, &quot;sample_id&quot;: &quot;bf66_sample_1&quot;}, &quot;type&quot;: &quot;Feature&quot;}, {&quot;bbox&quot;: [117.4945794, -31.59303044, 117.4945794, -31.59303044], &quot;geometry&quot;: {&quot;coordinates&quot;: [117.4945794, -31.59303044], &quot;type&quot;: &quot;Point&quot;}, &quot;id&quot;: &quot;488&quot;, &quot;properties&quot;: {&quot;Crop&quot;: 5, &quot;DryYield&quot;: 0.546, &quot;Elevation&quot;: 271.3, &quot;Heading&quot;: 179.6, &quot;Latitude&quot;: -31.59303044, &quot;Longitude&quot;: 117.4945794, &quot;Time&quot;: &quot;11/12/2020 5:01&quot;, &quot;Variety&quot;: &quot;43Y23 RR&quot;, &quot;__folium_color&quot;: &quot;#2f0596&quot;, &quot;sample_id&quot;: &quot;bf66_sample_1&quot;}, &quot;type&quot;: &quot;Feature&quot;}, {&quot;bbox&quot;: [117.494579, -31.59499422, 117.494579, -31.59499422], &quot;geometry&quot;: {&quot;coordinates&quot;: [117.494579, -31.59499422], &quot;type&quot;: &quot;Point&quot;}, &quot;id&quot;: &quot;489&quot;, &quot;properties&quot;: {&quot;Crop&quot;: 5, &quot;DryYield&quot;: 0.735, &quot;Elevation&quot;: 275.63, &quot;Heading&quot;: 180.1, &quot;Latitude&quot;: -31.59499422, &quot;Longitude&quot;: 117.494579, &quot;Time&quot;: &quot;11/12/2020 5:02&quot;, &quot;Variety&quot;: &quot;43Y23 RR&quot;, &quot;__folium_color&quot;: &quot;#38049a&quot;, &quot;sample_id&quot;: &quot;bf66_sample_1&quot;}, &quot;type&quot;: &quot;Feature&quot;}, {&quot;bbox&quot;: [117.4946801, -31.59654402, 117.4946801, -31.59654402], &quot;geometry&quot;: {&quot;coordinates&quot;: [117.4946801, -31.59654402], &quot;type&quot;: &quot;Point&quot;}, &quot;id&quot;: &quot;490&quot;, &quot;properties&quot;: {&quot;Crop&quot;: 5, &quot;DryYield&quot;: 0.668, &quot;Elevation&quot;: 276.29, &quot;Heading&quot;: 189.6, &quot;Latitude&quot;: -31.59654402, &quot;Longitude&quot;: 117.4946801, &quot;Time&quot;: &quot;11/12/2020 5:04&quot;, &quot;Variety&quot;: &quot;43Y23 RR&quot;, &quot;__folium_color&quot;: &quot;#350498&quot;, &quot;sample_id&quot;: &quot;bf66_sample_1&quot;}, &quot;type&quot;: &quot;Feature&quot;}, {&quot;bbox&quot;: [117.4945795, -31.59844002, 117.4945795, -31.59844002], &quot;geometry&quot;: {&quot;coordinates&quot;: [117.4945795, -31.59844002], &quot;type&quot;: &quot;Point&quot;}, &quot;id&quot;: &quot;491&quot;, &quot;properties&quot;: {&quot;Crop&quot;: 5, &quot;DryYield&quot;: 0.888, &quot;Elevation&quot;: 275.47, &quot;Heading&quot;: 179.7, &quot;Latitude&quot;: -31.59844002, &quot;Longitude&quot;: 117.4945795, &quot;Time&quot;: &quot;11/12/2020 5:05&quot;, &quot;Variety&quot;: &quot;43Y23 RR&quot;, &quot;__folium_color&quot;: &quot;#3f049c&quot;, &quot;sample_id&quot;: &quot;bf66_sample_1&quot;}, &quot;type&quot;: &quot;Feature&quot;}, {&quot;bbox&quot;: [117.4945792, -31.60022828, 117.4945792, -31.60022828], &quot;geometry&quot;: {&quot;coordinates&quot;: [117.4945792, -31.60022828], &quot;type&quot;: &quot;Point&quot;}, &quot;id&quot;: &quot;492&quot;, &quot;properties&quot;: {&quot;Crop&quot;: 5, &quot;DryYield&quot;: 0.772, &quot;Elevation&quot;: 270.73, &quot;Heading&quot;: 179.7, &quot;Latitude&quot;: -31.60022828, &quot;Longitude&quot;: 117.4945792, &quot;Time&quot;: &quot;11/12/2020 5:06&quot;, &quot;Variety&quot;: &quot;43Y23 RR&quot;, &quot;__folium_color&quot;: &quot;#3a049a&quot;, &quot;sample_id&quot;: &quot;bf66_sample_1&quot;}, &quot;type&quot;: &quot;Feature&quot;}, {&quot;bbox&quot;: [117.4945792, -31.60203014, 117.4945792, -31.60203014], &quot;geometry&quot;: {&quot;coordinates&quot;: [117.4945792, -31.60203014], &quot;type&quot;: &quot;Point&quot;}, &quot;id&quot;: &quot;493&quot;, &quot;properties&quot;: {&quot;Crop&quot;: 5, &quot;DryYield&quot;: 0.794, &quot;Elevation&quot;: 263.86, &quot;Heading&quot;: 179.9, &quot;Latitude&quot;: -31.60203014, &quot;Longitude&quot;: 117.4945792, &quot;Time&quot;: &quot;11/12/2020 5:08&quot;, &quot;Variety&quot;: &quot;43Y23 RR&quot;, &quot;__folium_color&quot;: &quot;#3a049a&quot;, &quot;sample_id&quot;: &quot;bf66_sample_1&quot;}, &quot;type&quot;: &quot;Feature&quot;}, {&quot;bbox&quot;: [117.4945794, -31.604112, 117.4945794, -31.604112], &quot;geometry&quot;: {&quot;coordinates&quot;: [117.4945794, -31.604112], &quot;type&quot;: &quot;Point&quot;}, &quot;id&quot;: &quot;494&quot;, &quot;properties&quot;: {&quot;Crop&quot;: 5, &quot;DryYield&quot;: 0.531, &quot;Elevation&quot;: 267.18, &quot;Heading&quot;: 179.8, &quot;Latitude&quot;: -31.604112, &quot;Longitude&quot;: 117.4945794, &quot;Time&quot;: &quot;11/12/2020 5:09&quot;, &quot;Variety&quot;: &quot;43Y23 RR&quot;, &quot;__folium_color&quot;: &quot;#2e0595&quot;, &quot;sample_id&quot;: &quot;bf66_sample_1&quot;}, &quot;type&quot;: &quot;Feature&quot;}, {&quot;bbox&quot;: [117.4945794, -31.60630042, 117.4945794, -31.60630042], &quot;geometry&quot;: {&quot;coordinates&quot;: [117.4945794, -31.60630042], &quot;type&quot;: &quot;Point&quot;}, &quot;id&quot;: &quot;495&quot;, &quot;properties&quot;: {&quot;Crop&quot;: 5, &quot;DryYield&quot;: 0.217, &quot;Elevation&quot;: 270.11, &quot;Heading&quot;: 180.2, &quot;Latitude&quot;: -31.60630042, &quot;Longitude&quot;: 117.4945794, &quot;Time&quot;: &quot;11/12/2020 5:10&quot;, &quot;Variety&quot;: &quot;43Y23 RR&quot;, &quot;__folium_color&quot;: &quot;#1d068e&quot;, &quot;sample_id&quot;: &quot;bf66_sample_1&quot;}, &quot;type&quot;: &quot;Feature&quot;}, {&quot;bbox&quot;: [117.4945799, -31.60856631, 117.4945799, -31.60856631], &quot;geometry&quot;: {&quot;coordinates&quot;: [117.4945799, -31.60856631], &quot;type&quot;: &quot;Point&quot;}, &quot;id&quot;: &quot;496&quot;, &quot;properties&quot;: {&quot;Crop&quot;: 5, &quot;DryYield&quot;: 0.455, &quot;Elevation&quot;: 273.08, &quot;Heading&quot;: 180.1, &quot;Latitude&quot;: -31.60856631, &quot;Longitude&quot;: 117.4945799, &quot;Time&quot;: &quot;11/12/2020 5:12&quot;, &quot;Variety&quot;: &quot;43Y23 RR&quot;, &quot;__folium_color&quot;: &quot;#2a0593&quot;, &quot;sample_id&quot;: &quot;bf66_sample_1&quot;}, &quot;type&quot;: &quot;Feature&quot;}, {&quot;bbox&quot;: [117.493947, -31.60688574, 117.493947, -31.60688574], &quot;geometry&quot;: {&quot;coordinates&quot;: [117.493947, -31.60688574], &quot;type&quot;: &quot;Point&quot;}, &quot;id&quot;: &quot;497&quot;, &quot;properties&quot;: {&quot;Crop&quot;: 5, &quot;DryYield&quot;: 0.476, &quot;Elevation&quot;: 271.19, &quot;Heading&quot;: 359.7, &quot;Latitude&quot;: -31.60688574, &quot;Longitude&quot;: 117.493947, &quot;Time&quot;: &quot;11/12/2020 5:14&quot;, &quot;Variety&quot;: &quot;43Y23 RR&quot;, &quot;__folium_color&quot;: &quot;#2c0594&quot;, &quot;sample_id&quot;: &quot;bf66_sample_1&quot;}, &quot;type&quot;: &quot;Feature&quot;}, {&quot;bbox&quot;: [117.493947, -31.60480349, 117.493947, -31.60480349], &quot;geometry&quot;: {&quot;coordinates&quot;: [117.493947, -31.60480349], &quot;type&quot;: &quot;Point&quot;}, &quot;id&quot;: &quot;498&quot;, &quot;properties&quot;: {&quot;Crop&quot;: 5, &quot;DryYield&quot;: 0.392, &quot;Elevation&quot;: 269.8, &quot;Heading&quot;: 0.3, &quot;Latitude&quot;: -31.60480349, &quot;Longitude&quot;: 117.493947, &quot;Time&quot;: &quot;11/12/2020 5:15&quot;, &quot;Variety&quot;: &quot;43Y23 RR&quot;, &quot;__folium_color&quot;: &quot;#260591&quot;, &quot;sample_id&quot;: &quot;bf66_sample_1&quot;}, &quot;type&quot;: &quot;Feature&quot;}, {&quot;bbox&quot;: [117.4939473, -31.60238646, 117.4939473, -31.60238646], &quot;geometry&quot;: {&quot;coordinates&quot;: [117.4939473, -31.60238646], &quot;type&quot;: &quot;Point&quot;}, &quot;id&quot;: &quot;499&quot;, &quot;properties&quot;: {&quot;Crop&quot;: 5, &quot;DryYield&quot;: 0.649, &quot;Elevation&quot;: 264.1, &quot;Heading&quot;: 0.4, &quot;Latitude&quot;: -31.60238646, &quot;Longitude&quot;: 117.4939473, &quot;Time&quot;: &quot;11/12/2020 5:16&quot;, &quot;Variety&quot;: &quot;43Y23 RR&quot;, &quot;__folium_color&quot;: &quot;#330597&quot;, &quot;sample_id&quot;: &quot;bf66_sample_1&quot;}, &quot;type&quot;: &quot;Feature&quot;}, {&quot;bbox&quot;: [117.493947, -31.60045317, 117.493947, -31.60045317], &quot;geometry&quot;: {&quot;coordinates&quot;: [117.493947, -31.60045317], &quot;type&quot;: &quot;Point&quot;}, &quot;id&quot;: &quot;500&quot;, &quot;properties&quot;: {&quot;Crop&quot;: 5, &quot;DryYield&quot;: 0.824, &quot;Elevation&quot;: 269.18, &quot;Heading&quot;: 360.0, &quot;Latitude&quot;: -31.60045317, &quot;Longitude&quot;: 117.493947, &quot;Time&quot;: &quot;11/12/2020 5:18&quot;, &quot;Variety&quot;: &quot;43Y23 RR&quot;, &quot;__folium_color&quot;: &quot;#3c049b&quot;, &quot;sample_id&quot;: &quot;bf66_sample_2&quot;}, &quot;type&quot;: &quot;Feature&quot;}, {&quot;bbox&quot;: [117.4939468, -31.59860746, 117.4939468, -31.59860746], &quot;geometry&quot;: {&quot;coordinates&quot;: [117.4939468, -31.59860746], &quot;type&quot;: &quot;Point&quot;}, &quot;id&quot;: &quot;501&quot;, &quot;properties&quot;: {&quot;Crop&quot;: 5, &quot;DryYield&quot;: 0.733, &quot;Elevation&quot;: 275.82, &quot;Heading&quot;: 359.8, &quot;Latitude&quot;: -31.59860746, &quot;Longitude&quot;: 117.4939468, &quot;Time&quot;: &quot;11/12/2020 5:19&quot;, &quot;Variety&quot;: &quot;43Y23 RR&quot;, &quot;__folium_color&quot;: &quot;#38049a&quot;, &quot;sample_id&quot;: &quot;bf66_sample_2&quot;}, &quot;type&quot;: &quot;Feature&quot;}, {&quot;bbox&quot;: [117.493947, -31.59675298, 117.493947, -31.59675298], &quot;geometry&quot;: {&quot;coordinates&quot;: [117.493947, -31.59675298], &quot;type&quot;: &quot;Point&quot;}, &quot;id&quot;: &quot;502&quot;, &quot;properties&quot;: {&quot;Crop&quot;: 5, &quot;DryYield&quot;: 0.814, &quot;Elevation&quot;: 278.69, &quot;Heading&quot;: 0.2, &quot;Latitude&quot;: -31.59675298, &quot;Longitude&quot;: 117.493947, &quot;Time&quot;: &quot;11/12/2020 5:20&quot;, &quot;Variety&quot;: &quot;43Y23 RR&quot;, &quot;__folium_color&quot;: &quot;#3c049b&quot;, &quot;sample_id&quot;: &quot;bf66_sample_2&quot;}, &quot;type&quot;: &quot;Feature&quot;}, {&quot;bbox&quot;: [117.4939471, -31.59477147, 117.4939471, -31.59477147], &quot;geometry&quot;: {&quot;coordinates&quot;: [117.4939471, -31.59477147], &quot;type&quot;: &quot;Point&quot;}, &quot;id&quot;: &quot;503&quot;, &quot;properties&quot;: {&quot;Crop&quot;: 5, &quot;DryYield&quot;: 0.505, &quot;Elevation&quot;: 275.98, &quot;Heading&quot;: 0.4, &quot;Latitude&quot;: -31.59477147, &quot;Longitude&quot;: 117.4939471, &quot;Time&quot;: &quot;11/12/2020 5:22&quot;, &quot;Variety&quot;: &quot;43Y23 RR&quot;, &quot;__folium_color&quot;: &quot;#2c0594&quot;, &quot;sample_id&quot;: &quot;bf66_sample_2&quot;}, &quot;type&quot;: &quot;Feature&quot;}, {&quot;bbox&quot;: [117.4939466, -31.59274088, 117.4939466, -31.59274088], &quot;geometry&quot;: {&quot;coordinates&quot;: [117.4939466, -31.59274088], &quot;type&quot;: &quot;Point&quot;}, &quot;id&quot;: &quot;504&quot;, &quot;properties&quot;: {&quot;Crop&quot;: 5, &quot;DryYield&quot;: 0.477, &quot;Elevation&quot;: 271.18, &quot;Heading&quot;: 0.1, &quot;Latitude&quot;: -31.59274088, &quot;Longitude&quot;: 117.4939466, &quot;Time&quot;: &quot;11/12/2020 5:23&quot;, &quot;Variety&quot;: &quot;43Y23 RR&quot;, &quot;__folium_color&quot;: &quot;#2c0594&quot;, &quot;sample_id&quot;: &quot;bf66_sample_2&quot;}, &quot;type&quot;: &quot;Feature&quot;}, {&quot;bbox&quot;: [117.4940734, -31.59210598, 117.4940734, -31.59210598], &quot;geometry&quot;: {&quot;coordinates&quot;: [117.4940734, -31.59210598], &quot;type&quot;: &quot;Point&quot;}, &quot;id&quot;: &quot;505&quot;, &quot;properties&quot;: {&quot;Crop&quot;: 5, &quot;DryYield&quot;: 0.45, &quot;Elevation&quot;: 268.72, &quot;Heading&quot;: 180.3, &quot;Latitude&quot;: -31.59210598, &quot;Longitude&quot;: 117.4940734, &quot;Time&quot;: &quot;11/12/2020 5:24&quot;, &quot;Variety&quot;: &quot;43Y23 RR&quot;, &quot;__folium_color&quot;: &quot;#2a0593&quot;, &quot;sample_id&quot;: &quot;bf66_sample_2&quot;}, &quot;type&quot;: &quot;Feature&quot;}, {&quot;bbox&quot;: [117.4940736, -31.59410426, 117.4940736, -31.59410426], &quot;geometry&quot;: {&quot;coordinates&quot;: [117.4940736, -31.59410426], &quot;type&quot;: &quot;Point&quot;}, &quot;id&quot;: &quot;506&quot;, &quot;properties&quot;: {&quot;Crop&quot;: 5, &quot;DryYield&quot;: 0.531, &quot;Elevation&quot;: 274.49, &quot;Heading&quot;: 179.9, &quot;Latitude&quot;: -31.59410426, &quot;Longitude&quot;: 117.4940736, &quot;Time&quot;: &quot;11/12/2020 5:26&quot;, &quot;Variety&quot;: &quot;43Y23 RR&quot;, &quot;__folium_color&quot;: &quot;#2e0595&quot;, &quot;sample_id&quot;: &quot;bf66_sample_2&quot;}, &quot;type&quot;: &quot;Feature&quot;}, {&quot;bbox&quot;: [117.4940736, -31.59633536, 117.4940736, -31.59633536], &quot;geometry&quot;: {&quot;coordinates&quot;: [117.4940736, -31.59633536], &quot;type&quot;: &quot;Point&quot;}, &quot;id&quot;: &quot;507&quot;, &quot;properties&quot;: {&quot;Crop&quot;: 5, &quot;DryYield&quot;: 0.607, &quot;Elevation&quot;: 278.14, &quot;Heading&quot;: 179.8, &quot;Latitude&quot;: -31.59633536, &quot;Longitude&quot;: 117.4940736, &quot;Time&quot;: &quot;11/12/2020 5:27&quot;, &quot;Variety&quot;: &quot;43Y23 RR&quot;, &quot;__folium_color&quot;: &quot;#310597&quot;, &quot;sample_id&quot;: &quot;bf66_sample_2&quot;}, &quot;type&quot;: &quot;Feature&quot;}, {&quot;bbox&quot;: [117.4940739, -31.59835698, 117.4940739, -31.59835698], &quot;geometry&quot;: {&quot;coordinates&quot;: [117.4940739, -31.59835698], &quot;type&quot;: &quot;Point&quot;}, &quot;id&quot;: &quot;508&quot;, &quot;properties&quot;: {&quot;Crop&quot;: 5, &quot;DryYield&quot;: 0.694, &quot;Elevation&quot;: 276.6, &quot;Heading&quot;: 179.4, &quot;Latitude&quot;: -31.59835698, &quot;Longitude&quot;: 117.4940739, &quot;Time&quot;: &quot;11/12/2020 5:28&quot;, &quot;Variety&quot;: &quot;43Y23 RR&quot;, &quot;__folium_color&quot;: &quot;#370499&quot;, &quot;sample_id&quot;: &quot;bf66_sample_2&quot;}, &quot;type&quot;: &quot;Feature&quot;}, {&quot;bbox&quot;: [117.4940734, -31.60022016, 117.4940734, -31.60022016], &quot;geometry&quot;: {&quot;coordinates&quot;: [117.4940734, -31.60022016], &quot;type&quot;: &quot;Point&quot;}, &quot;id&quot;: &quot;509&quot;, &quot;properties&quot;: {&quot;Crop&quot;: 5, &quot;DryYield&quot;: 0.936, &quot;Elevation&quot;: 270.18, &quot;Heading&quot;: 179.9, &quot;Latitude&quot;: -31.60022016, &quot;Longitude&quot;: 117.4940734, &quot;Time&quot;: &quot;11/12/2020 5:30&quot;, &quot;Variety&quot;: &quot;43Y23 RR&quot;, &quot;__folium_color&quot;: &quot;#41049d&quot;, &quot;sample_id&quot;: &quot;bf66_sample_2&quot;}, &quot;type&quot;: &quot;Feature&quot;}, {&quot;bbox&quot;: [117.4941998, -31.60133955, 117.4941998, -31.60133955], &quot;geometry&quot;: {&quot;coordinates&quot;: [117.4941998, -31.60133955], &quot;type&quot;: &quot;Point&quot;}, &quot;id&quot;: &quot;510&quot;, &quot;properties&quot;: {&quot;Crop&quot;: 5, &quot;DryYield&quot;: 1.071, &quot;Elevation&quot;: 266.6, &quot;Heading&quot;: 180.1, &quot;Latitude&quot;: -31.60133955, &quot;Longitude&quot;: 117.4941998, &quot;Time&quot;: &quot;11/12/2020 5:26&quot;, &quot;Variety&quot;: &quot;43Y23 RR&quot;, &quot;__folium_color&quot;: &quot;#48039f&quot;, &quot;sample_id&quot;: &quot;bf66_sample_2&quot;}, &quot;type&quot;: &quot;Feature&quot;}, {&quot;bbox&quot;: [117.4941998, -31.60341361, 117.4941998, -31.60341361], &quot;geometry&quot;: {&quot;coordinates&quot;: [117.4941998, -31.60341361], &quot;type&quot;: &quot;Point&quot;}, &quot;id&quot;: &quot;511&quot;, &quot;properties&quot;: {&quot;Crop&quot;: 5, &quot;DryYield&quot;: 0.899, &quot;Elevation&quot;: 265.73, &quot;Heading&quot;: 180.0, &quot;Latitude&quot;: -31.60341361, &quot;Longitude&quot;: 117.4941998, &quot;Time&quot;: &quot;11/12/2020 5:27&quot;, &quot;Variety&quot;: &quot;43Y23 RR&quot;, &quot;__folium_color&quot;: &quot;#3f049c&quot;, &quot;sample_id&quot;: &quot;bf66_sample_2&quot;}, &quot;type&quot;: &quot;Feature&quot;}, {&quot;bbox&quot;: [117.4941998, -31.60532769, 117.4941998, -31.60532769], &quot;geometry&quot;: {&quot;coordinates&quot;: [117.4941998, -31.60532769], &quot;type&quot;: &quot;Point&quot;}, &quot;id&quot;: &quot;512&quot;, &quot;properties&quot;: {&quot;Crop&quot;: 5, &quot;DryYield&quot;: 0.384, &quot;Elevation&quot;: 270.2, &quot;Heading&quot;: 179.9, &quot;Latitude&quot;: -31.60532769, &quot;Longitude&quot;: 117.4941998, &quot;Time&quot;: &quot;11/12/2020 5:29&quot;, &quot;Variety&quot;: &quot;43Y23 RR&quot;, &quot;__folium_color&quot;: &quot;#260591&quot;, &quot;sample_id&quot;: &quot;bf66_sample_2&quot;}, &quot;type&quot;: &quot;Feature&quot;}, {&quot;bbox&quot;: [117.4941997, -31.60735096, 117.4941997, -31.60735096], &quot;geometry&quot;: {&quot;coordinates&quot;: [117.4941997, -31.60735096], &quot;type&quot;: &quot;Point&quot;}, &quot;id&quot;: &quot;513&quot;, &quot;properties&quot;: {&quot;Crop&quot;: 5, &quot;DryYield&quot;: 0.407, &quot;Elevation&quot;: 272.22, &quot;Heading&quot;: 180.0, &quot;Latitude&quot;: -31.60735096, &quot;Longitude&quot;: 117.4941997, &quot;Time&quot;: &quot;11/12/2020 5:30&quot;, &quot;Variety&quot;: &quot;43Y23 RR&quot;, &quot;__folium_color&quot;: &quot;#280592&quot;, &quot;sample_id&quot;: &quot;bf66_sample_2&quot;}, &quot;type&quot;: &quot;Feature&quot;}, {&quot;bbox&quot;: [117.4938205, -31.60807659, 117.4938205, -31.60807659], &quot;geometry&quot;: {&quot;coordinates&quot;: [117.4938205, -31.60807659], &quot;type&quot;: &quot;Point&quot;}, &quot;id&quot;: &quot;514&quot;, &quot;properties&quot;: {&quot;Crop&quot;: 5, &quot;DryYield&quot;: 0.684, &quot;Elevation&quot;: 271.95, &quot;Heading&quot;: 359.9, &quot;Latitude&quot;: -31.60807659, &quot;Longitude&quot;: 117.4938205, &quot;Time&quot;: &quot;11/12/2020 5:32&quot;, &quot;Variety&quot;: &quot;43Y23 RR&quot;, &quot;__folium_color&quot;: &quot;#350498&quot;, &quot;sample_id&quot;: &quot;bf66_sample_2&quot;}, &quot;type&quot;: &quot;Feature&quot;}, {&quot;bbox&quot;: [117.4938203, -31.60597705, 117.4938203, -31.60597705], &quot;geometry&quot;: {&quot;coordinates&quot;: [117.4938203, -31.60597705], &quot;type&quot;: &quot;Point&quot;}, &quot;id&quot;: &quot;515&quot;, &quot;properties&quot;: {&quot;Crop&quot;: 5, &quot;DryYield&quot;: 0.39, &quot;Elevation&quot;: 270.59, &quot;Heading&quot;: 360.0, &quot;Latitude&quot;: -31.60597705, &quot;Longitude&quot;: 117.4938203, &quot;Time&quot;: &quot;11/12/2020 5:33&quot;, &quot;Variety&quot;: &quot;43Y23 RR&quot;, &quot;__folium_color&quot;: &quot;#260591&quot;, &quot;sample_id&quot;: &quot;bf66_sample_2&quot;}, &quot;type&quot;: &quot;Feature&quot;}, {&quot;bbox&quot;: [117.4938205, -31.60317524, 117.4938205, -31.60317524], &quot;geometry&quot;: {&quot;coordinates&quot;: [117.4938205, -31.60317524], &quot;type&quot;: &quot;Point&quot;}, &quot;id&quot;: &quot;516&quot;, &quot;properties&quot;: {&quot;Crop&quot;: 5, &quot;DryYield&quot;: 1.138, &quot;Elevation&quot;: 265.91, &quot;Heading&quot;: 359.8, &quot;Latitude&quot;: -31.60317524, &quot;Longitude&quot;: 117.4938205, &quot;Time&quot;: &quot;11/12/2020 5:35&quot;, &quot;Variety&quot;: &quot;43Y23 RR&quot;, &quot;__folium_color&quot;: &quot;#4b03a1&quot;, &quot;sample_id&quot;: &quot;bf66_sample_2&quot;}, &quot;type&quot;: &quot;Feature&quot;}, {&quot;bbox&quot;: [117.4938203, -31.60123599, 117.4938203, -31.60123599], &quot;geometry&quot;: {&quot;coordinates&quot;: [117.4938203, -31.60123599], &quot;type&quot;: &quot;Point&quot;}, &quot;id&quot;: &quot;517&quot;, &quot;properties&quot;: {&quot;Crop&quot;: 5, &quot;DryYield&quot;: 0.808, &quot;Elevation&quot;: 266.75, &quot;Heading&quot;: 359.9, &quot;Latitude&quot;: -31.60123599, &quot;Longitude&quot;: 117.4938203, &quot;Time&quot;: &quot;11/12/2020 5:36&quot;, &quot;Variety&quot;: &quot;43Y23 RR&quot;, &quot;__folium_color&quot;: &quot;#3c049b&quot;, &quot;sample_id&quot;: &quot;bf66_sample_2&quot;}, &quot;type&quot;: &quot;Feature&quot;}, {&quot;bbox&quot;: [117.4938203, -31.59929777, 117.4938203, -31.59929777], &quot;geometry&quot;: {&quot;coordinates&quot;: [117.4938203, -31.59929777], &quot;type&quot;: &quot;Point&quot;}, &quot;id&quot;: &quot;518&quot;, &quot;properties&quot;: {&quot;Crop&quot;: 5, &quot;DryYield&quot;: 0.881, &quot;Elevation&quot;: 273.37, &quot;Heading&quot;: 359.8, &quot;Latitude&quot;: -31.59929777, &quot;Longitude&quot;: 117.4938203, &quot;Time&quot;: &quot;11/12/2020 5:37&quot;, &quot;Variety&quot;: &quot;43Y23 RR&quot;, &quot;__folium_color&quot;: &quot;#3f049c&quot;, &quot;sample_id&quot;: &quot;bf66_sample_2&quot;}, &quot;type&quot;: &quot;Feature&quot;}, {&quot;bbox&quot;: [117.4938205, -31.5973068, 117.4938205, -31.5973068], &quot;geometry&quot;: {&quot;coordinates&quot;: [117.4938205, -31.5973068], &quot;type&quot;: &quot;Point&quot;}, &quot;id&quot;: &quot;519&quot;, &quot;properties&quot;: {&quot;Crop&quot;: 5, &quot;DryYield&quot;: 0.746, &quot;Elevation&quot;: 279.0, &quot;Heading&quot;: 0.1, &quot;Latitude&quot;: -31.5973068, &quot;Longitude&quot;: 117.4938205, &quot;Time&quot;: &quot;11/12/2020 5:39&quot;, &quot;Variety&quot;: &quot;43Y23 RR&quot;, &quot;__folium_color&quot;: &quot;#38049a&quot;, &quot;sample_id&quot;: &quot;bf66_sample_2&quot;}, &quot;type&quot;: &quot;Feature&quot;}, {&quot;bbox&quot;: [117.4938205, -31.59525988, 117.4938205, -31.59525988], &quot;geometry&quot;: {&quot;coordinates&quot;: [117.4938205, -31.59525988], &quot;type&quot;: &quot;Point&quot;}, &quot;id&quot;: &quot;520&quot;, &quot;properties&quot;: {&quot;Crop&quot;: 5, &quot;DryYield&quot;: 0.701, &quot;Elevation&quot;: 277.24, &quot;Heading&quot;: 0.2, &quot;Latitude&quot;: -31.59525988, &quot;Longitude&quot;: 117.4938205, &quot;Time&quot;: &quot;11/12/2020 5:40&quot;, &quot;Variety&quot;: &quot;43Y23 RR&quot;, &quot;__folium_color&quot;: &quot;#370499&quot;, &quot;sample_id&quot;: &quot;bf66_sample_2&quot;}, &quot;type&quot;: &quot;Feature&quot;}, {&quot;bbox&quot;: [117.4938718, -31.59284935, 117.4938718, -31.59284935], &quot;geometry&quot;: {&quot;coordinates&quot;: [117.4938718, -31.59284935], &quot;type&quot;: &quot;Point&quot;}, &quot;id&quot;: &quot;521&quot;, &quot;properties&quot;: {&quot;Crop&quot;: 5, &quot;DryYield&quot;: 1.121, &quot;Elevation&quot;: 271.59, &quot;Heading&quot;: 353.8, &quot;Latitude&quot;: -31.59284935, &quot;Longitude&quot;: 117.4938718, &quot;Time&quot;: &quot;11/12/2020 5:42&quot;, &quot;Variety&quot;: &quot;43Y23 RR&quot;, &quot;__folium_color&quot;: &quot;#4b03a1&quot;, &quot;sample_id&quot;: &quot;bf66_sample_2&quot;}, &quot;type&quot;: &quot;Feature&quot;}, {&quot;bbox&quot;: [117.4936941, -31.59219668, 117.4936941, -31.59219668], &quot;geometry&quot;: {&quot;coordinates&quot;: [117.4936941, -31.59219668], &quot;type&quot;: &quot;Point&quot;}, &quot;id&quot;: &quot;522&quot;, &quot;properties&quot;: {&quot;Crop&quot;: 5, &quot;DryYield&quot;: 1.009, &quot;Elevation&quot;: 268.8, &quot;Heading&quot;: 180.5, &quot;Latitude&quot;: -31.59219668, &quot;Longitude&quot;: 117.4936941, &quot;Time&quot;: &quot;11/12/2020 5:43&quot;, &quot;Variety&quot;: &quot;43Y23 RR&quot;, &quot;__folium_color&quot;: &quot;#44039e&quot;, &quot;sample_id&quot;: &quot;bf66_sample_2&quot;}, &quot;type&quot;: &quot;Feature&quot;}, {&quot;bbox&quot;: [117.4934415, -31.59200088, 117.4934415, -31.59200088], &quot;geometry&quot;: {&quot;coordinates&quot;: [117.4934415, -31.59200088], &quot;type&quot;: &quot;Point&quot;}, &quot;id&quot;: &quot;523&quot;, &quot;properties&quot;: {&quot;Crop&quot;: 5, &quot;DryYield&quot;: 0.926, &quot;Elevation&quot;: 268.02, &quot;Heading&quot;: 179.7, &quot;Latitude&quot;: -31.59200088, &quot;Longitude&quot;: 117.4934415, &quot;Time&quot;: &quot;11/12/2020 5:45&quot;, &quot;Variety&quot;: &quot;43Y23 RR&quot;, &quot;__folium_color&quot;: &quot;#41049d&quot;, &quot;sample_id&quot;: &quot;bf66_sample_2&quot;}, &quot;type&quot;: &quot;Feature&quot;}, {&quot;bbox&quot;: [117.4931883, -31.59223958, 117.4931883, -31.59223958], &quot;geometry&quot;: {&quot;coordinates&quot;: [117.4931883, -31.59223958], &quot;type&quot;: &quot;Point&quot;}, &quot;id&quot;: &quot;524&quot;, &quot;properties&quot;: {&quot;Crop&quot;: 5, &quot;DryYield&quot;: 1.067, &quot;Elevation&quot;: 268.76, &quot;Heading&quot;: 180.1, &quot;Latitude&quot;: -31.59223958, &quot;Longitude&quot;: 117.4931883, &quot;Time&quot;: &quot;11/12/2020 5:47&quot;, &quot;Variety&quot;: &quot;43Y23 RR&quot;, &quot;__folium_color&quot;: &quot;#48039f&quot;, &quot;sample_id&quot;: &quot;bf66_sample_2&quot;}, &quot;type&quot;: &quot;Feature&quot;}, {&quot;bbox&quot;: [117.4929331, -31.59243079, 117.4929331, -31.59243079], &quot;geometry&quot;: {&quot;coordinates&quot;: [117.4929331, -31.59243079], &quot;type&quot;: &quot;Point&quot;}, &quot;id&quot;: &quot;525&quot;, &quot;properties&quot;: {&quot;Crop&quot;: 5, &quot;DryYield&quot;: 0.775, &quot;Elevation&quot;: 269.37, &quot;Heading&quot;: 180.2, &quot;Latitude&quot;: -31.59243079, &quot;Longitude&quot;: 117.4929331, &quot;Time&quot;: &quot;11/12/2020 5:48&quot;, &quot;Variety&quot;: &quot;43Y23 RR&quot;, &quot;__folium_color&quot;: &quot;#3a049a&quot;, &quot;sample_id&quot;: &quot;bf66_sample_2&quot;}, &quot;type&quot;: &quot;Feature&quot;}, {&quot;bbox&quot;: [117.4929874, -31.59460815, 117.4929874, -31.59460815], &quot;geometry&quot;: {&quot;coordinates&quot;: [117.4929874, -31.59460815], &quot;type&quot;: &quot;Point&quot;}, &quot;id&quot;: &quot;526&quot;, &quot;properties&quot;: {&quot;Crop&quot;: 5, &quot;DryYield&quot;: 0.863, &quot;Elevation&quot;: 275.37, &quot;Heading&quot;: 160.7, &quot;Latitude&quot;: -31.59460815, &quot;Longitude&quot;: 117.4929874, &quot;Time&quot;: &quot;11/12/2020 5:50&quot;, &quot;Variety&quot;: &quot;43Y23 RR&quot;, &quot;__folium_color&quot;: &quot;#3e049c&quot;, &quot;sample_id&quot;: &quot;bf66_sample_2&quot;}, &quot;type&quot;: &quot;Feature&quot;}, {&quot;bbox&quot;: [117.4931874, -31.59643341, 117.4931874, -31.59643341], &quot;geometry&quot;: {&quot;coordinates&quot;: [117.4931874, -31.59643341], &quot;type&quot;: &quot;Point&quot;}, &quot;id&quot;: &quot;527&quot;, &quot;properties&quot;: {&quot;Crop&quot;: 5, &quot;DryYield&quot;: 0.574, &quot;Elevation&quot;: 279.76, &quot;Heading&quot;: 180.4, &quot;Latitude&quot;: -31.59643341, &quot;Longitude&quot;: 117.4931874, &quot;Time&quot;: &quot;11/12/2020 5:51&quot;, &quot;Variety&quot;: &quot;43Y23 RR&quot;, &quot;__folium_color&quot;: &quot;#2f0596&quot;, &quot;sample_id&quot;: &quot;bf66_sample_2&quot;}, &quot;type&quot;: &quot;Feature&quot;}, {&quot;bbox&quot;: [117.4931883, -31.5984967, 117.4931883, -31.5984967], &quot;geometry&quot;: {&quot;coordinates&quot;: [117.4931883, -31.5984967], &quot;type&quot;: &quot;Point&quot;}, &quot;id&quot;: &quot;528&quot;, &quot;properties&quot;: {&quot;Crop&quot;: 5, &quot;DryYield&quot;: 0.654, &quot;Elevation&quot;: 276.79, &quot;Heading&quot;: 179.9, &quot;Latitude&quot;: -31.5984967, &quot;Longitude&quot;: 117.4931883, &quot;Time&quot;: &quot;11/12/2020 5:53&quot;, &quot;Variety&quot;: &quot;43Y23 RR&quot;, &quot;__folium_color&quot;: &quot;#350498&quot;, &quot;sample_id&quot;: &quot;bf66_sample_2&quot;}, &quot;type&quot;: &quot;Feature&quot;}, {&quot;bbox&quot;: [117.4931883, -31.60065217, 117.4931883, -31.60065217], &quot;geometry&quot;: {&quot;coordinates&quot;: [117.4931883, -31.60065217], &quot;type&quot;: &quot;Point&quot;}, &quot;id&quot;: &quot;529&quot;, &quot;properties&quot;: {&quot;Crop&quot;: 5, &quot;DryYield&quot;: 0.699, &quot;Elevation&quot;: 268.87, &quot;Heading&quot;: 180.3, &quot;Latitude&quot;: -31.60065217, &quot;Longitude&quot;: 117.4931883, &quot;Time&quot;: &quot;11/12/2020 5:54&quot;, &quot;Variety&quot;: &quot;43Y23 RR&quot;, &quot;__folium_color&quot;: &quot;#370499&quot;, &quot;sample_id&quot;: &quot;bf66_sample_2&quot;}, &quot;type&quot;: &quot;Feature&quot;}, {&quot;bbox&quot;: [117.4931885, -31.60285538, 117.4931885, -31.60285538], &quot;geometry&quot;: {&quot;coordinates&quot;: [117.4931885, -31.60285538], &quot;type&quot;: &quot;Point&quot;}, &quot;id&quot;: &quot;530&quot;, &quot;properties&quot;: {&quot;Crop&quot;: 5, &quot;DryYield&quot;: 0.64, &quot;Elevation&quot;: 265.91, &quot;Heading&quot;: 179.6, &quot;Latitude&quot;: -31.60285538, &quot;Longitude&quot;: 117.4931885, &quot;Time&quot;: &quot;11/12/2020 5:55&quot;, &quot;Variety&quot;: &quot;43Y23 RR&quot;, &quot;__folium_color&quot;: &quot;#330597&quot;, &quot;sample_id&quot;: &quot;bf66_sample_2&quot;}, &quot;type&quot;: &quot;Feature&quot;}, {&quot;bbox&quot;: [117.4911787, -31.60321369, 117.4911787, -31.60321369], &quot;geometry&quot;: {&quot;coordinates&quot;: [117.4911787, -31.60321369], &quot;type&quot;: &quot;Point&quot;}, &quot;id&quot;: &quot;531&quot;, &quot;properties&quot;: {&quot;Crop&quot;: 5, &quot;DryYield&quot;: 0.168, &quot;Elevation&quot;: 270.24, &quot;Heading&quot;: 270.0, &quot;Latitude&quot;: -31.60321369, &quot;Longitude&quot;: 117.4911787, &quot;Time&quot;: &quot;11/12/2020 5:57&quot;, &quot;Variety&quot;: &quot;43Y23 RR&quot;, &quot;__folium_color&quot;: &quot;#19068c&quot;, &quot;sample_id&quot;: &quot;bf66_sample_2&quot;}, &quot;type&quot;: &quot;Feature&quot;}, {&quot;bbox&quot;: [117.4887314, -31.60291068, 117.4887314, -31.60291068], &quot;geometry&quot;: {&quot;coordinates&quot;: [117.4887314, -31.60291068], &quot;type&quot;: &quot;Point&quot;}, &quot;id&quot;: &quot;532&quot;, &quot;properties&quot;: {&quot;Crop&quot;: 5, &quot;DryYield&quot;: 0.136, &quot;Elevation&quot;: 273.26, &quot;Heading&quot;: 309.7, &quot;Latitude&quot;: -31.60291068, &quot;Longitude&quot;: 117.4887314, &quot;Time&quot;: &quot;11/12/2020 5:58&quot;, &quot;Variety&quot;: &quot;43Y23 RR&quot;, &quot;__folium_color&quot;: &quot;#16078a&quot;, &quot;sample_id&quot;: &quot;bf66_sample_2&quot;}, &quot;type&quot;: &quot;Feature&quot;}, {&quot;bbox&quot;: [117.4870101, -31.60149596, 117.4870101, -31.60149596], &quot;geometry&quot;: {&quot;coordinates&quot;: [117.4870101, -31.60149596], &quot;type&quot;: &quot;Point&quot;}, &quot;id&quot;: &quot;533&quot;, &quot;properties&quot;: {&quot;Crop&quot;: 5, &quot;DryYield&quot;: 0.203, &quot;Elevation&quot;: 270.81, &quot;Heading&quot;: 5.0, &quot;Latitude&quot;: -31.60149596, &quot;Longitude&quot;: 117.4870101, &quot;Time&quot;: &quot;11/12/2020 6:00&quot;, &quot;Variety&quot;: &quot;43Y23 RR&quot;, &quot;__folium_color&quot;: &quot;#1b068d&quot;, &quot;sample_id&quot;: &quot;bf66_sample_2&quot;}, &quot;type&quot;: &quot;Feature&quot;}, {&quot;bbox&quot;: [117.486481, -31.59978462, 117.486481, -31.59978462], &quot;geometry&quot;: {&quot;coordinates&quot;: [117.486481, -31.59978462], &quot;type&quot;: &quot;Point&quot;}, &quot;id&quot;: &quot;534&quot;, &quot;properties&quot;: {&quot;Crop&quot;: 5, &quot;DryYield&quot;: 0.23, &quot;Elevation&quot;: 266.97, &quot;Heading&quot;: 34.6, &quot;Latitude&quot;: -31.59978462, &quot;Longitude&quot;: 117.486481, &quot;Time&quot;: &quot;11/12/2020 6:01&quot;, &quot;Variety&quot;: &quot;43Y23 RR&quot;, &quot;__folium_color&quot;: &quot;#1d068e&quot;, &quot;sample_id&quot;: &quot;bf66_sample_2&quot;}, &quot;type&quot;: &quot;Feature&quot;}, {&quot;bbox&quot;: [117.4851867, -31.59905066, 117.4851867, -31.59905066], &quot;geometry&quot;: {&quot;coordinates&quot;: [117.4851867, -31.59905066], &quot;type&quot;: &quot;Point&quot;}, &quot;id&quot;: &quot;535&quot;, &quot;properties&quot;: {&quot;Crop&quot;: 5, &quot;DryYield&quot;: 0.417, &quot;Elevation&quot;: 265.59, &quot;Heading&quot;: 246.7, &quot;Latitude&quot;: -31.59905066, &quot;Longitude&quot;: 117.4851867, &quot;Time&quot;: &quot;11/12/2020 6:02&quot;, &quot;Variety&quot;: &quot;43Y23 RR&quot;, &quot;__folium_color&quot;: &quot;#280592&quot;, &quot;sample_id&quot;: &quot;bf66_sample_2&quot;}, &quot;type&quot;: &quot;Feature&quot;}, {&quot;bbox&quot;: [117.482995, -31.60016991, 117.482995, -31.60016991], &quot;geometry&quot;: {&quot;coordinates&quot;: [117.482995, -31.60016991], &quot;type&quot;: &quot;Point&quot;}, &quot;id&quot;: &quot;536&quot;, &quot;properties&quot;: {&quot;Crop&quot;: 5, &quot;DryYield&quot;: 0.392, &quot;Elevation&quot;: 264.78, &quot;Heading&quot;: 230.0, &quot;Latitude&quot;: -31.60016991, &quot;Longitude&quot;: 117.482995, &quot;Time&quot;: &quot;11/12/2020 6:03&quot;, &quot;Variety&quot;: &quot;43Y23 RR&quot;, &quot;__folium_color&quot;: &quot;#260591&quot;, &quot;sample_id&quot;: &quot;bf66_sample_2&quot;}, &quot;type&quot;: &quot;Feature&quot;}, {&quot;bbox&quot;: [117.4805033, -31.60118972, 117.4805033, -31.60118972], &quot;geometry&quot;: {&quot;coordinates&quot;: [117.4805033, -31.60118972], &quot;type&quot;: &quot;Point&quot;}, &quot;id&quot;: &quot;537&quot;, &quot;properties&quot;: {&quot;Crop&quot;: 5, &quot;DryYield&quot;: 0.417, &quot;Elevation&quot;: 262.9, &quot;Heading&quot;: 242.9, &quot;Latitude&quot;: -31.60118972, &quot;Longitude&quot;: 117.4805033, &quot;Time&quot;: &quot;11/12/2020 6:05&quot;, &quot;Variety&quot;: &quot;43Y23 RR&quot;, &quot;__folium_color&quot;: &quot;#280592&quot;, &quot;sample_id&quot;: &quot;bf66_sample_2&quot;}, &quot;type&quot;: &quot;Feature&quot;}, {&quot;bbox&quot;: [117.4790668, -31.6005362, 117.4790668, -31.6005362], &quot;geometry&quot;: {&quot;coordinates&quot;: [117.4790668, -31.6005362], &quot;type&quot;: &quot;Point&quot;}, &quot;id&quot;: &quot;538&quot;, &quot;properties&quot;: {&quot;Crop&quot;: 5, &quot;DryYield&quot;: 0.493, &quot;Elevation&quot;: 264.72, &quot;Heading&quot;: 345.5, &quot;Latitude&quot;: -31.6005362, &quot;Longitude&quot;: 117.4790668, &quot;Time&quot;: &quot;11/12/2020 6:06&quot;, &quot;Variety&quot;: &quot;43Y23 RR&quot;, &quot;__folium_color&quot;: &quot;#2c0594&quot;, &quot;sample_id&quot;: &quot;bf66_sample_2&quot;}, &quot;type&quot;: &quot;Feature&quot;}, {&quot;bbox&quot;: [117.4786819, -31.59872282, 117.4786819, -31.59872282], &quot;geometry&quot;: {&quot;coordinates&quot;: [117.4786819, -31.59872282], &quot;type&quot;: &quot;Point&quot;}, &quot;id&quot;: &quot;539&quot;, &quot;properties&quot;: {&quot;Crop&quot;: 5, &quot;DryYield&quot;: 0.298, &quot;Elevation&quot;: 272.06, &quot;Heading&quot;: 260.5, &quot;Latitude&quot;: -31.59872282, &quot;Longitude&quot;: 117.4786819, &quot;Time&quot;: &quot;11/12/2020 6:08&quot;, &quot;Variety&quot;: &quot;43Y23 RR&quot;, &quot;__folium_color&quot;: &quot;#220690&quot;, &quot;sample_id&quot;: &quot;bf66_sample_2&quot;}, &quot;type&quot;: &quot;Feature&quot;}, {&quot;bbox&quot;: [117.4791792, -31.59883496, 117.4791792, -31.59883496], &quot;geometry&quot;: {&quot;coordinates&quot;: [117.4791792, -31.59883496], &quot;type&quot;: &quot;Point&quot;}, &quot;id&quot;: &quot;540&quot;, &quot;properties&quot;: {&quot;Crop&quot;: 5, &quot;DryYield&quot;: 0.688, &quot;Elevation&quot;: 271.87, &quot;Heading&quot;: 76.7, &quot;Latitude&quot;: -31.59883496, &quot;Longitude&quot;: 117.4791792, &quot;Time&quot;: &quot;11/12/2020 6:10&quot;, &quot;Variety&quot;: &quot;43Y23 RR&quot;, &quot;__folium_color&quot;: &quot;#370499&quot;, &quot;sample_id&quot;: &quot;bf66_sample_2&quot;}, &quot;type&quot;: &quot;Feature&quot;}, {&quot;bbox&quot;: [117.4796587, -31.60035099, 117.4796587, -31.60035099], &quot;geometry&quot;: {&quot;coordinates&quot;: [117.4796587, -31.60035099], &quot;type&quot;: &quot;Point&quot;}, &quot;id&quot;: &quot;541&quot;, &quot;properties&quot;: {&quot;Crop&quot;: 5, &quot;DryYield&quot;: 1.075, &quot;Elevation&quot;: 265.91, &quot;Heading&quot;: 180.0, &quot;Latitude&quot;: -31.60035099, &quot;Longitude&quot;: 117.4796587, &quot;Time&quot;: &quot;11/12/2020 6:11&quot;, &quot;Variety&quot;: &quot;43Y23 RR&quot;, &quot;__folium_color&quot;: &quot;#48039f&quot;, &quot;sample_id&quot;: &quot;bf66_sample_2&quot;}, &quot;type&quot;: &quot;Feature&quot;}, {&quot;bbox&quot;: [117.4795319, -31.60106211, 117.4795319, -31.60106211], &quot;geometry&quot;: {&quot;coordinates&quot;: [117.4795319, -31.60106211], &quot;type&quot;: &quot;Point&quot;}, &quot;id&quot;: &quot;542&quot;, &quot;properties&quot;: {&quot;Crop&quot;: 5, &quot;DryYield&quot;: 1.143, &quot;Elevation&quot;: 262.55, &quot;Heading&quot;: 359.7, &quot;Latitude&quot;: -31.60106211, &quot;Longitude&quot;: 117.4795319, &quot;Time&quot;: &quot;11/12/2020 6:13&quot;, &quot;Variety&quot;: &quot;43Y23 RR&quot;, &quot;__folium_color&quot;: &quot;#4b03a1&quot;, &quot;sample_id&quot;: &quot;bf66_sample_2&quot;}, &quot;type&quot;: &quot;Feature&quot;}, {&quot;bbox&quot;: [117.4795319, -31.59918701, 117.4795319, -31.59918701], &quot;geometry&quot;: {&quot;coordinates&quot;: [117.4795319, -31.59918701], &quot;type&quot;: &quot;Point&quot;}, &quot;id&quot;: &quot;543&quot;, &quot;properties&quot;: {&quot;Crop&quot;: 5, &quot;DryYield&quot;: 0.926, &quot;Elevation&quot;: 270.73, &quot;Heading&quot;: 359.6, &quot;Latitude&quot;: -31.59918701, &quot;Longitude&quot;: 117.4795319, &quot;Time&quot;: &quot;11/12/2020 6:14&quot;, &quot;Variety&quot;: &quot;43Y23 RR&quot;, &quot;__folium_color&quot;: &quot;#41049d&quot;, &quot;sample_id&quot;: &quot;bf66_sample_2&quot;}, &quot;type&quot;: &quot;Feature&quot;}, {&quot;bbox&quot;: [117.4797851, -31.60054907, 117.4797851, -31.60054907], &quot;geometry&quot;: {&quot;coordinates&quot;: [117.4797851, -31.60054907], &quot;type&quot;: &quot;Point&quot;}, &quot;id&quot;: &quot;544&quot;, &quot;properties&quot;: {&quot;Crop&quot;: 5, &quot;DryYield&quot;: 0.841, &quot;Elevation&quot;: 264.93, &quot;Heading&quot;: 179.9, &quot;Latitude&quot;: -31.60054907, &quot;Longitude&quot;: 117.4797851, &quot;Time&quot;: &quot;11/12/2020 6:15&quot;, &quot;Variety&quot;: &quot;43Y23 RR&quot;, &quot;__folium_color&quot;: &quot;#3e049c&quot;, &quot;sample_id&quot;: &quot;bf66_sample_2&quot;}, &quot;type&quot;: &quot;Feature&quot;}, {&quot;bbox&quot;: [117.4799112, -31.60023578, 117.4799112, -31.60023578], &quot;geometry&quot;: {&quot;coordinates&quot;: [117.4799112, -31.60023578], &quot;type&quot;: &quot;Point&quot;}, &quot;id&quot;: &quot;545&quot;, &quot;properties&quot;: {&quot;Crop&quot;: 5, &quot;DryYield&quot;: 0.636, &quot;Elevation&quot;: 266.26, &quot;Heading&quot;: 359.8, &quot;Latitude&quot;: -31.60023578, &quot;Longitude&quot;: 117.4799112, &quot;Time&quot;: &quot;11/12/2020 6:17&quot;, &quot;Variety&quot;: &quot;43Y23 RR&quot;, &quot;__folium_color&quot;: &quot;#330597&quot;, &quot;sample_id&quot;: &quot;bf66_sample_2&quot;}, &quot;type&quot;: &quot;Feature&quot;}, {&quot;bbox&quot;: [117.4800379, -31.59917843, 117.4800379, -31.59917843], &quot;geometry&quot;: {&quot;coordinates&quot;: [117.4800379, -31.59917843], &quot;type&quot;: &quot;Point&quot;}, &quot;id&quot;: &quot;546&quot;, &quot;properties&quot;: {&quot;Crop&quot;: 5, &quot;DryYield&quot;: 0.704, &quot;Elevation&quot;: 271.11, &quot;Heading&quot;: 180.0, &quot;Latitude&quot;: -31.59917843, &quot;Longitude&quot;: 117.4800379, &quot;Time&quot;: &quot;11/12/2020 6:18&quot;, &quot;Variety&quot;: &quot;43Y23 RR&quot;, &quot;__folium_color&quot;: &quot;#370499&quot;, &quot;sample_id&quot;: &quot;bf66_sample_2&quot;}, &quot;type&quot;: &quot;Feature&quot;}, {&quot;bbox&quot;: [117.4801094, -31.60131596, 117.4801094, -31.60131596], &quot;geometry&quot;: {&quot;coordinates&quot;: [117.4801094, -31.60131596], &quot;type&quot;: &quot;Point&quot;}, &quot;id&quot;: &quot;547&quot;, &quot;properties&quot;: {&quot;Crop&quot;: 5, &quot;DryYield&quot;: 0.195, &quot;Elevation&quot;: 262.23, &quot;Heading&quot;: 358.4, &quot;Latitude&quot;: -31.60131596, &quot;Longitude&quot;: 117.4801094, &quot;Time&quot;: &quot;11/12/2020 6:20&quot;, &quot;Variety&quot;: &quot;43Y23 RR&quot;, &quot;__folium_color&quot;: &quot;#1b068d&quot;, &quot;sample_id&quot;: &quot;bf66_sample_2&quot;}, &quot;type&quot;: &quot;Feature&quot;}, {&quot;bbox&quot;: [117.4801643, -31.59923679, 117.4801643, -31.59923679], &quot;geometry&quot;: {&quot;coordinates&quot;: [117.4801643, -31.59923679], &quot;type&quot;: &quot;Point&quot;}, &quot;id&quot;: &quot;548&quot;, &quot;properties&quot;: {&quot;Crop&quot;: 5, &quot;DryYield&quot;: 0.821, &quot;Elevation&quot;: 270.93, &quot;Heading&quot;: 360.0, &quot;Latitude&quot;: -31.59923679, &quot;Longitude&quot;: 117.4801643, &quot;Time&quot;: &quot;11/12/2020 6:21&quot;, &quot;Variety&quot;: &quot;43Y23 RR&quot;, &quot;__folium_color&quot;: &quot;#3c049b&quot;, &quot;sample_id&quot;: &quot;bf66_sample_2&quot;}, &quot;type&quot;: &quot;Feature&quot;}, {&quot;bbox&quot;: [117.4802909, -31.59899995, 117.4802909, -31.59899995], &quot;geometry&quot;: {&quot;coordinates&quot;: [117.4802909, -31.59899995], &quot;type&quot;: &quot;Point&quot;}, &quot;id&quot;: &quot;549&quot;, &quot;properties&quot;: {&quot;Crop&quot;: 5, &quot;DryYield&quot;: 1.074, &quot;Elevation&quot;: 271.92, &quot;Heading&quot;: 180.0, &quot;Latitude&quot;: -31.59899995, &quot;Longitude&quot;: 117.4802909, &quot;Time&quot;: &quot;11/12/2020 6:23&quot;, &quot;Variety&quot;: &quot;43Y23 RR&quot;, &quot;__folium_color&quot;: &quot;#48039f&quot;, &quot;sample_id&quot;: &quot;bf66_sample_2&quot;}, &quot;type&quot;: &quot;Feature&quot;}, {&quot;bbox&quot;: [117.4802906, -31.6011885, 117.4802906, -31.6011885], &quot;geometry&quot;: {&quot;coordinates&quot;: [117.4802906, -31.6011885], &quot;type&quot;: &quot;Point&quot;}, &quot;id&quot;: &quot;550&quot;, &quot;properties&quot;: {&quot;Crop&quot;: 5, &quot;DryYield&quot;: 0.256, &quot;Elevation&quot;: 262.89, &quot;Heading&quot;: 180.2, &quot;Latitude&quot;: -31.6011885, &quot;Longitude&quot;: 117.4802906, &quot;Time&quot;: &quot;11/12/2020 6:24&quot;, &quot;Variety&quot;: &quot;43Y23 RR&quot;, &quot;__folium_color&quot;: &quot;#20068f&quot;, &quot;sample_id&quot;: &quot;bf66_sample_2&quot;}, &quot;type&quot;: &quot;Feature&quot;}, {&quot;bbox&quot;: [117.4806701, -31.59949999, 117.4806701, -31.59949999], &quot;geometry&quot;: {&quot;coordinates&quot;: [117.4806701, -31.59949999], &quot;type&quot;: &quot;Point&quot;}, &quot;id&quot;: &quot;551&quot;, &quot;properties&quot;: {&quot;Crop&quot;: 5, &quot;DryYield&quot;: 0.744, &quot;Elevation&quot;: 269.32, &quot;Heading&quot;: 359.8, &quot;Latitude&quot;: -31.59949999, &quot;Longitude&quot;: 117.4806701, &quot;Time&quot;: &quot;11/12/2020 6:26&quot;, &quot;Variety&quot;: &quot;43Y23 RR&quot;, &quot;__folium_color&quot;: &quot;#38049a&quot;, &quot;sample_id&quot;: &quot;bf66_sample_2&quot;}, &quot;type&quot;: &quot;Feature&quot;}, {&quot;bbox&quot;: [117.4940736, -31.60226835, 117.4940736, -31.60226835], &quot;geometry&quot;: {&quot;coordinates&quot;: [117.4940736, -31.60226835], &quot;type&quot;: &quot;Point&quot;}, &quot;id&quot;: &quot;552&quot;, &quot;properties&quot;: {&quot;Crop&quot;: 5, &quot;DryYield&quot;: 0.605, &quot;Elevation&quot;: 263.77, &quot;Heading&quot;: 180.7, &quot;Latitude&quot;: -31.60226835, &quot;Longitude&quot;: 117.4940736, &quot;Time&quot;: &quot;11/12/2020 5:31&quot;, &quot;Variety&quot;: &quot;43Y23 RR&quot;, &quot;__folium_color&quot;: &quot;#310597&quot;, &quot;sample_id&quot;: &quot;bf66_sample_2&quot;}, &quot;type&quot;: &quot;Feature&quot;}, {&quot;bbox&quot;: [117.4940739, -31.6044268, 117.4940739, -31.6044268], &quot;geometry&quot;: {&quot;coordinates&quot;: [117.4940739, -31.6044268], &quot;type&quot;: &quot;Point&quot;}, &quot;id&quot;: &quot;553&quot;, &quot;properties&quot;: {&quot;Crop&quot;: 5, &quot;DryYield&quot;: 0.376, &quot;Elevation&quot;: 268.64, &quot;Heading&quot;: 179.9, &quot;Latitude&quot;: -31.6044268, &quot;Longitude&quot;: 117.4940739, &quot;Time&quot;: &quot;11/12/2020 5:32&quot;, &quot;Variety&quot;: &quot;43Y23 RR&quot;, &quot;__folium_color&quot;: &quot;#260591&quot;, &quot;sample_id&quot;: &quot;bf66_sample_2&quot;}, &quot;type&quot;: &quot;Feature&quot;}, {&quot;bbox&quot;: [117.4940734, -31.60659438, 117.4940734, -31.60659438], &quot;geometry&quot;: {&quot;coordinates&quot;: [117.4940734, -31.60659438], &quot;type&quot;: &quot;Point&quot;}, &quot;id&quot;: &quot;554&quot;, &quot;properties&quot;: {&quot;Crop&quot;: 5, &quot;DryYield&quot;: 0.484, &quot;Elevation&quot;: 270.59, &quot;Heading&quot;: 180.0, &quot;Latitude&quot;: -31.60659438, &quot;Longitude&quot;: 117.4940734, &quot;Time&quot;: &quot;11/12/2020 5:34&quot;, &quot;Variety&quot;: &quot;43Y23 RR&quot;, &quot;__folium_color&quot;: &quot;#2c0594&quot;, &quot;sample_id&quot;: &quot;bf66_sample_2&quot;}, &quot;type&quot;: &quot;Feature&quot;}, {&quot;bbox&quot;: [117.4937072, -31.60845234, 117.4937072, -31.60845234], &quot;geometry&quot;: {&quot;coordinates&quot;: [117.4937072, -31.60845234], &quot;type&quot;: &quot;Point&quot;}, &quot;id&quot;: &quot;555&quot;, &quot;properties&quot;: {&quot;Crop&quot;: 5, &quot;DryYield&quot;: 0.589, &quot;Elevation&quot;: 271.43, &quot;Heading&quot;: 359.6, &quot;Latitude&quot;: -31.60845234, &quot;Longitude&quot;: 117.4937072, &quot;Time&quot;: &quot;11/12/2020 5:35&quot;, &quot;Variety&quot;: &quot;43Y23 RR&quot;, &quot;__folium_color&quot;: &quot;#310597&quot;, &quot;sample_id&quot;: &quot;bf66_sample_2&quot;}, &quot;type&quot;: &quot;Feature&quot;}, {&quot;bbox&quot;: [117.4936941, -31.60642726, 117.4936941, -31.60642726], &quot;geometry&quot;: {&quot;coordinates&quot;: [117.4936941, -31.60642726], &quot;type&quot;: &quot;Point&quot;}, &quot;id&quot;: &quot;556&quot;, &quot;properties&quot;: {&quot;Crop&quot;: 5, &quot;DryYield&quot;: 0.411, &quot;Elevation&quot;: 270.45, &quot;Heading&quot;: 359.8, &quot;Latitude&quot;: -31.60642726, &quot;Longitude&quot;: 117.4936941, &quot;Time&quot;: &quot;11/12/2020 5:37&quot;, &quot;Variety&quot;: &quot;43Y23 RR&quot;, &quot;__folium_color&quot;: &quot;#280592&quot;, &quot;sample_id&quot;: &quot;bf66_sample_2&quot;}, &quot;type&quot;: &quot;Feature&quot;}, {&quot;bbox&quot;: [117.4936937, -31.60447168, 117.4936937, -31.60447168], &quot;geometry&quot;: {&quot;coordinates&quot;: [117.4936937, -31.60447168], &quot;type&quot;: &quot;Point&quot;}, &quot;id&quot;: &quot;557&quot;, &quot;properties&quot;: {&quot;Crop&quot;: 5, &quot;DryYield&quot;: 0.491, &quot;Elevation&quot;: 269.09, &quot;Heading&quot;: 359.8, &quot;Latitude&quot;: -31.60447168, &quot;Longitude&quot;: 117.4936937, &quot;Time&quot;: &quot;11/12/2020 5:38&quot;, &quot;Variety&quot;: &quot;43Y23 RR&quot;, &quot;__folium_color&quot;: &quot;#2c0594&quot;, &quot;sample_id&quot;: &quot;bf66_sample_2&quot;}, &quot;type&quot;: &quot;Feature&quot;}, {&quot;bbox&quot;: [117.4919438, -31.6033099, 117.4919438, -31.6033099], &quot;geometry&quot;: {&quot;coordinates&quot;: [117.4919438, -31.6033099], &quot;type&quot;: &quot;Point&quot;}, &quot;id&quot;: &quot;558&quot;, &quot;properties&quot;: {&quot;Crop&quot;: 5, &quot;DryYield&quot;: 0.087, &quot;Elevation&quot;: 268.92, &quot;Heading&quot;: 270.9, &quot;Latitude&quot;: -31.6033099, &quot;Longitude&quot;: 117.4919438, &quot;Time&quot;: &quot;11/12/2020 5:39&quot;, &quot;Variety&quot;: &quot;43Y23 RR&quot;, &quot;__folium_color&quot;: &quot;#130789&quot;, &quot;sample_id&quot;: &quot;bf66_sample_2&quot;}, &quot;type&quot;: &quot;Feature&quot;}, {&quot;bbox&quot;: [117.4892037, -31.60329779, 117.4892037, -31.60329779], &quot;geometry&quot;: {&quot;coordinates&quot;: [117.4892037, -31.60329779], &quot;type&quot;: &quot;Point&quot;}, &quot;id&quot;: &quot;559&quot;, &quot;properties&quot;: {&quot;Crop&quot;: 5, &quot;DryYield&quot;: 0.08, &quot;Elevation&quot;: 273.29, &quot;Heading&quot;: 274.8, &quot;Latitude&quot;: -31.60329779, &quot;Longitude&quot;: 117.4892037, &quot;Time&quot;: &quot;11/12/2020 5:41&quot;, &quot;Variety&quot;: &quot;43Y23 RR&quot;, &quot;__folium_color&quot;: &quot;#130789&quot;, &quot;sample_id&quot;: &quot;bf66_sample_2&quot;}, &quot;type&quot;: &quot;Feature&quot;}, {&quot;bbox&quot;: [117.4871391, -31.6018843, 117.4871391, -31.6018843], &quot;geometry&quot;: {&quot;coordinates&quot;: [117.4871391, -31.6018843], &quot;type&quot;: &quot;Point&quot;}, &quot;id&quot;: &quot;560&quot;, &quot;properties&quot;: {&quot;Crop&quot;: 5, &quot;DryYield&quot;: 0.033, &quot;Elevation&quot;: 271.39, &quot;Heading&quot;: 310.6, &quot;Latitude&quot;: -31.6018843, &quot;Longitude&quot;: 117.4871391, &quot;Time&quot;: &quot;11/12/2020 5:42&quot;, &quot;Variety&quot;: &quot;43Y23 RR&quot;, &quot;__folium_color&quot;: &quot;#0d0887&quot;, &quot;sample_id&quot;: &quot;bf66_sample_2&quot;}, &quot;type&quot;: &quot;Feature&quot;}, {&quot;bbox&quot;: [117.486104, -31.60005149, 117.486104, -31.60005149], &quot;geometry&quot;: {&quot;coordinates&quot;: [117.486104, -31.60005149], &quot;type&quot;: &quot;Point&quot;}, &quot;id&quot;: &quot;561&quot;, &quot;properties&quot;: {&quot;Crop&quot;: 5, &quot;DryYield&quot;: 0.077, &quot;Elevation&quot;: 267.17, &quot;Heading&quot;: 30.1, &quot;Latitude&quot;: -31.60005149, &quot;Longitude&quot;: 117.486104, &quot;Time&quot;: &quot;11/12/2020 5:43&quot;, &quot;Variety&quot;: &quot;43Y23 RR&quot;, &quot;__folium_color&quot;: &quot;#130789&quot;, &quot;sample_id&quot;: &quot;bf66_sample_2&quot;}, &quot;type&quot;: &quot;Feature&quot;}, {&quot;bbox&quot;: [117.4854385, -31.59918088, 117.4854385, -31.59918088], &quot;geometry&quot;: {&quot;coordinates&quot;: [117.4854385, -31.59918088], &quot;type&quot;: &quot;Point&quot;}, &quot;id&quot;: &quot;562&quot;, &quot;properties&quot;: {&quot;Crop&quot;: 5, &quot;DryYield&quot;: 0.223, &quot;Elevation&quot;: 265.49, &quot;Heading&quot;: 248.4, &quot;Latitude&quot;: -31.59918088, &quot;Longitude&quot;: 117.4854385, &quot;Time&quot;: &quot;11/12/2020 5:45&quot;, &quot;Variety&quot;: &quot;43Y23 RR&quot;, &quot;__folium_color&quot;: &quot;#1d068e&quot;, &quot;sample_id&quot;: &quot;bf66_sample_2&quot;}, &quot;type&quot;: &quot;Feature&quot;}, {&quot;bbox&quot;: [117.48312, -31.60035313, 117.48312, -31.60035313], &quot;geometry&quot;: {&quot;coordinates&quot;: [117.48312, -31.60035313], &quot;type&quot;: &quot;Point&quot;}, &quot;id&quot;: &quot;563&quot;, &quot;properties&quot;: {&quot;Crop&quot;: 5, &quot;DryYield&quot;: 0.073, &quot;Elevation&quot;: 263.78, &quot;Heading&quot;: 228.6, &quot;Latitude&quot;: -31.60035313, &quot;Longitude&quot;: 117.48312, &quot;Time&quot;: &quot;11/12/2020 5:46&quot;, &quot;Variety&quot;: &quot;43Y23 RR&quot;, &quot;__folium_color&quot;: &quot;#130789&quot;, &quot;sample_id&quot;: &quot;bf66_sample_2&quot;}, &quot;type&quot;: &quot;Feature&quot;}, {&quot;bbox&quot;: [117.482297, -31.6006105, 117.482297, -31.6006105], &quot;geometry&quot;: {&quot;coordinates&quot;: [117.482297, -31.6006105], &quot;type&quot;: &quot;Point&quot;}, &quot;id&quot;: &quot;564&quot;, &quot;properties&quot;: {&quot;Crop&quot;: 5, &quot;DryYield&quot;: 0.153, &quot;Elevation&quot;: 263.55, &quot;Heading&quot;: 74.5, &quot;Latitude&quot;: -31.6006105, &quot;Longitude&quot;: 117.482297, &quot;Time&quot;: &quot;11/12/2020 5:48&quot;, &quot;Variety&quot;: &quot;43Y23 RR&quot;, &quot;__folium_color&quot;: &quot;#19068c&quot;, &quot;sample_id&quot;: &quot;bf66_sample_2&quot;}, &quot;type&quot;: &quot;Feature&quot;}, {&quot;bbox&quot;: [117.4843521, -31.59948313, 117.4843521, -31.59948313], &quot;geometry&quot;: {&quot;coordinates&quot;: [117.4843521, -31.59948313], &quot;type&quot;: &quot;Point&quot;}, &quot;id&quot;: &quot;565&quot;, &quot;properties&quot;: {&quot;Crop&quot;: 5, &quot;DryYield&quot;: 0.212, &quot;Elevation&quot;: 264.63, &quot;Heading&quot;: 59.7, &quot;Latitude&quot;: -31.59948313, &quot;Longitude&quot;: 117.4843521, &quot;Time&quot;: &quot;11/12/2020 5:49&quot;, &quot;Variety&quot;: &quot;43Y23 RR&quot;, &quot;__folium_color&quot;: &quot;#1b068d&quot;, &quot;sample_id&quot;: &quot;bf66_sample_2&quot;}, &quot;type&quot;: &quot;Feature&quot;}, {&quot;bbox&quot;: [117.4862345, -31.59848506, 117.4862345, -31.59848506], &quot;geometry&quot;: {&quot;coordinates&quot;: [117.4862345, -31.59848506], &quot;type&quot;: &quot;Point&quot;}, &quot;id&quot;: &quot;566&quot;, &quot;properties&quot;: {&quot;Crop&quot;: 5, &quot;DryYield&quot;: 0.337, &quot;Elevation&quot;: 267.58, &quot;Heading&quot;: 0.5, &quot;Latitude&quot;: -31.59848506, &quot;Longitude&quot;: 117.4862345, &quot;Time&quot;: &quot;11/12/2020 5:50&quot;, &quot;Variety&quot;: &quot;43Y23 RR&quot;, &quot;__folium_color&quot;: &quot;#240691&quot;, &quot;sample_id&quot;: &quot;bf66_sample_2&quot;}, &quot;type&quot;: &quot;Feature&quot;}, {&quot;bbox&quot;: [117.4862336, -31.59621709, 117.4862336, -31.59621709], &quot;geometry&quot;: {&quot;coordinates&quot;: [117.4862336, -31.59621709], &quot;type&quot;: &quot;Point&quot;}, &quot;id&quot;: &quot;567&quot;, &quot;properties&quot;: {&quot;Crop&quot;: 5, &quot;DryYield&quot;: 0.372, &quot;Elevation&quot;: 271.4, &quot;Heading&quot;: 359.9, &quot;Latitude&quot;: -31.59621709, &quot;Longitude&quot;: 117.4862336, &quot;Time&quot;: &quot;11/12/2020 5:51&quot;, &quot;Variety&quot;: &quot;43Y23 RR&quot;, &quot;__folium_color&quot;: &quot;#260591&quot;, &quot;sample_id&quot;: &quot;bf66_sample_2&quot;}, &quot;type&quot;: &quot;Feature&quot;}, {&quot;bbox&quot;: [117.4862335, -31.59402459, 117.4862335, -31.59402459], &quot;geometry&quot;: {&quot;coordinates&quot;: [117.4862335, -31.59402459], &quot;type&quot;: &quot;Point&quot;}, &quot;id&quot;: &quot;568&quot;, &quot;properties&quot;: {&quot;Crop&quot;: 5, &quot;DryYield&quot;: 0.261, &quot;Elevation&quot;: 270.31, &quot;Heading&quot;: 359.6, &quot;Latitude&quot;: -31.59402459, &quot;Longitude&quot;: 117.4862335, &quot;Time&quot;: &quot;11/12/2020 5:53&quot;, &quot;Variety&quot;: &quot;43Y23 RR&quot;, &quot;__folium_color&quot;: &quot;#20068f&quot;, &quot;sample_id&quot;: &quot;bf66_sample_2&quot;}, &quot;type&quot;: &quot;Feature&quot;}, {&quot;bbox&quot;: [117.4860962, -31.59183634, 117.4860962, -31.59183634], &quot;geometry&quot;: {&quot;coordinates&quot;: [117.4860962, -31.59183634], &quot;type&quot;: &quot;Point&quot;}, &quot;id&quot;: &quot;569&quot;, &quot;properties&quot;: {&quot;Crop&quot;: 5, &quot;DryYield&quot;: 0.031, &quot;Elevation&quot;: 265.56, &quot;Heading&quot;: 201.3, &quot;Latitude&quot;: -31.59183634, &quot;Longitude&quot;: 117.4860962, &quot;Time&quot;: &quot;11/12/2020 5:54&quot;, &quot;Variety&quot;: &quot;43Y23 RR&quot;, &quot;__folium_color&quot;: &quot;#0d0887&quot;, &quot;sample_id&quot;: &quot;bf66_sample_2&quot;}, &quot;type&quot;: &quot;Feature&quot;}, {&quot;bbox&quot;: [117.4861072, -31.59396775, 117.4861072, -31.59396775], &quot;geometry&quot;: {&quot;coordinates&quot;: [117.4861072, -31.59396775], &quot;type&quot;: &quot;Point&quot;}, &quot;id&quot;: &quot;570&quot;, &quot;properties&quot;: {&quot;Crop&quot;: 5, &quot;DryYield&quot;: 0.353, &quot;Elevation&quot;: 269.88, &quot;Heading&quot;: 180.4, &quot;Latitude&quot;: -31.59396775, &quot;Longitude&quot;: 117.4861072, &quot;Time&quot;: &quot;11/12/2020 5:56&quot;, &quot;Variety&quot;: &quot;43Y23 RR&quot;, &quot;__folium_color&quot;: &quot;#240691&quot;, &quot;sample_id&quot;: &quot;bf66_sample_2&quot;}, &quot;type&quot;: &quot;Feature&quot;}, {&quot;bbox&quot;: [117.4861076, -31.59613528, 117.4861076, -31.59613528], &quot;geometry&quot;: {&quot;coordinates&quot;: [117.4861076, -31.59613528], &quot;type&quot;: &quot;Point&quot;}, &quot;id&quot;: &quot;571&quot;, &quot;properties&quot;: {&quot;Crop&quot;: 5, &quot;DryYield&quot;: 0.355, &quot;Elevation&quot;: 271.35, &quot;Heading&quot;: 180.1, &quot;Latitude&quot;: -31.59613528, &quot;Longitude&quot;: 117.4861076, &quot;Time&quot;: &quot;11/12/2020 5:57&quot;, &quot;Variety&quot;: &quot;43Y23 RR&quot;, &quot;__folium_color&quot;: &quot;#240691&quot;, &quot;sample_id&quot;: &quot;bf66_sample_2&quot;}, &quot;type&quot;: &quot;Feature&quot;}, {&quot;bbox&quot;: [117.4861076, -31.59839896, 117.4861076, -31.59839896], &quot;geometry&quot;: {&quot;coordinates&quot;: [117.4861076, -31.59839896], &quot;type&quot;: &quot;Point&quot;}, &quot;id&quot;: &quot;572&quot;, &quot;properties&quot;: {&quot;Crop&quot;: 5, &quot;DryYield&quot;: 0.381, &quot;Elevation&quot;: 267.75, &quot;Heading&quot;: 180.3, &quot;Latitude&quot;: -31.59839896, &quot;Longitude&quot;: 117.4861076, &quot;Time&quot;: &quot;11/12/2020 5:58&quot;, &quot;Variety&quot;: &quot;43Y23 RR&quot;, &quot;__folium_color&quot;: &quot;#260591&quot;, &quot;sample_id&quot;: &quot;bf66_sample_2&quot;}, &quot;type&quot;: &quot;Feature&quot;}, {&quot;bbox&quot;: [117.4789074, -31.60034808, 117.4789074, -31.60034808], &quot;geometry&quot;: {&quot;coordinates&quot;: [117.4789074, -31.60034808], &quot;type&quot;: &quot;Point&quot;}, &quot;id&quot;: &quot;573&quot;, &quot;properties&quot;: {&quot;Crop&quot;: 5, &quot;DryYield&quot;: 0.199, &quot;Elevation&quot;: 265.43, &quot;Heading&quot;: 353.0, &quot;Latitude&quot;: -31.60034808, &quot;Longitude&quot;: 117.4789074, &quot;Time&quot;: &quot;11/12/2020 6:02&quot;, &quot;Variety&quot;: &quot;43Y23 RR&quot;, &quot;__folium_color&quot;: &quot;#1b068d&quot;, &quot;sample_id&quot;: &quot;bf66_sample_2&quot;}, &quot;type&quot;: &quot;Feature&quot;}, {&quot;bbox&quot;: [117.4791688, -31.59873339, 117.4791688, -31.59873339], &quot;geometry&quot;: {&quot;coordinates&quot;: [117.4791688, -31.59873339], &quot;type&quot;: &quot;Point&quot;}, &quot;id&quot;: &quot;574&quot;, &quot;properties&quot;: {&quot;Crop&quot;: 5, &quot;DryYield&quot;: 0.363, &quot;Elevation&quot;: 272.04, &quot;Heading&quot;: 76.5, &quot;Latitude&quot;: -31.59873339, &quot;Longitude&quot;: 117.4791688, &quot;Time&quot;: &quot;11/12/2020 6:03&quot;, &quot;Variety&quot;: &quot;43Y23 RR&quot;, &quot;__folium_color&quot;: &quot;#260591&quot;, &quot;sample_id&quot;: &quot;bf66_sample_2&quot;}, &quot;type&quot;: &quot;Feature&quot;}, {&quot;bbox&quot;: [117.4802983, -31.59722806, 117.4802983, -31.59722806], &quot;geometry&quot;: {&quot;coordinates&quot;: [117.4802983, -31.59722806], &quot;type&quot;: &quot;Point&quot;}, &quot;id&quot;: &quot;575&quot;, &quot;properties&quot;: {&quot;Crop&quot;: 5, &quot;DryYield&quot;: 0.487, &quot;Elevation&quot;: 275.12, &quot;Heading&quot;: 10.6, &quot;Latitude&quot;: -31.59722806, &quot;Longitude&quot;: 117.4802983, &quot;Time&quot;: &quot;11/12/2020 6:04&quot;, &quot;Variety&quot;: &quot;43Y23 RR&quot;, &quot;__folium_color&quot;: &quot;#2c0594&quot;, &quot;sample_id&quot;: &quot;bf66_sample_2&quot;}, &quot;type&quot;: &quot;Feature&quot;}, {&quot;bbox&quot;: [117.4809629, -31.59515386, 117.4809629, -31.59515386], &quot;geometry&quot;: {&quot;coordinates&quot;: [117.4809629, -31.59515386], &quot;type&quot;: &quot;Point&quot;}, &quot;id&quot;: &quot;576&quot;, &quot;properties&quot;: {&quot;Crop&quot;: 5, &quot;DryYield&quot;: 0.538, &quot;Elevation&quot;: 276.9, &quot;Heading&quot;: 46.7, &quot;Latitude&quot;: -31.59515386, &quot;Longitude&quot;: 117.4809629, &quot;Time&quot;: &quot;11/12/2020 6:06&quot;, &quot;Variety&quot;: &quot;43Y23 RR&quot;, &quot;__folium_color&quot;: &quot;#2e0595&quot;, &quot;sample_id&quot;: &quot;bf66_sample_2&quot;}, &quot;type&quot;: &quot;Feature&quot;}, {&quot;bbox&quot;: [117.4807213, -31.59572332, 117.4807213, -31.59572332], &quot;geometry&quot;: {&quot;coordinates&quot;: [117.4807213, -31.59572332], &quot;type&quot;: &quot;Point&quot;}, &quot;id&quot;: &quot;577&quot;, &quot;properties&quot;: {&quot;Crop&quot;: 5, &quot;DryYield&quot;: 0.752, &quot;Elevation&quot;: 276.13, &quot;Heading&quot;: 190.5, &quot;Latitude&quot;: -31.59572332, &quot;Longitude&quot;: 117.4807213, &quot;Time&quot;: &quot;11/12/2020 6:07&quot;, &quot;Variety&quot;: &quot;43Y23 RR&quot;, &quot;__folium_color&quot;: &quot;#38049a&quot;, &quot;sample_id&quot;: &quot;bf66_sample_2&quot;}, &quot;type&quot;: &quot;Feature&quot;}, {&quot;bbox&quot;: [117.4803321, -31.59770619, 117.4803321, -31.59770619], &quot;geometry&quot;: {&quot;coordinates&quot;: [117.4803321, -31.59770619], &quot;type&quot;: &quot;Point&quot;}, &quot;id&quot;: &quot;578&quot;, &quot;properties&quot;: {&quot;Crop&quot;: 5, &quot;DryYield&quot;: 0.679, &quot;Elevation&quot;: 275.01, &quot;Heading&quot;: 190.4, &quot;Latitude&quot;: -31.59770619, &quot;Longitude&quot;: 117.4803321, &quot;Time&quot;: &quot;11/12/2020 6:08&quot;, &quot;Variety&quot;: &quot;43Y23 RR&quot;, &quot;__folium_color&quot;: &quot;#350498&quot;, &quot;sample_id&quot;: &quot;bf66_sample_2&quot;}, &quot;type&quot;: &quot;Feature&quot;}, {&quot;bbox&quot;: [117.4796974, -31.59891186, 117.4796974, -31.59891186], &quot;geometry&quot;: {&quot;coordinates&quot;: [117.4796974, -31.59891186], &quot;type&quot;: &quot;Point&quot;}, &quot;id&quot;: &quot;579&quot;, &quot;properties&quot;: {&quot;Crop&quot;: 5, &quot;DryYield&quot;: 0.418, &quot;Elevation&quot;: 271.89, &quot;Heading&quot;: 129.6, &quot;Latitude&quot;: -31.59891186, &quot;Longitude&quot;: 117.4796974, &quot;Time&quot;: &quot;11/12/2020 6:10&quot;, &quot;Variety&quot;: &quot;43Y23 RR&quot;, &quot;__folium_color&quot;: &quot;#280592&quot;, &quot;sample_id&quot;: &quot;bf66_sample_2&quot;}, &quot;type&quot;: &quot;Feature&quot;}, {&quot;bbox&quot;: [117.4791241, -31.60024498, 117.4791241, -31.60024498], &quot;geometry&quot;: {&quot;coordinates&quot;: [117.4791241, -31.60024498], &quot;type&quot;: &quot;Point&quot;}, &quot;id&quot;: &quot;580&quot;, &quot;properties&quot;: {&quot;Crop&quot;: 5, &quot;DryYield&quot;: 0.369, &quot;Elevation&quot;: 266.01, &quot;Heading&quot;: 169.9, &quot;Latitude&quot;: -31.60024498, &quot;Longitude&quot;: 117.4791241, &quot;Time&quot;: &quot;11/12/2020 6:12&quot;, &quot;Variety&quot;: &quot;43Y23 RR&quot;, &quot;__folium_color&quot;: &quot;#260591&quot;, &quot;sample_id&quot;: &quot;bf66_sample_2&quot;}, &quot;type&quot;: &quot;Feature&quot;}, {&quot;bbox&quot;: [117.4792801, -31.59905158, 117.4792801, -31.59905158], &quot;geometry&quot;: {&quot;coordinates&quot;: [117.4792801, -31.59905158], &quot;type&quot;: &quot;Point&quot;}, &quot;id&quot;: &quot;581&quot;, &quot;properties&quot;: {&quot;Crop&quot;: 5, &quot;DryYield&quot;: 0.6, &quot;Elevation&quot;: 271.22, &quot;Heading&quot;: 179.2, &quot;Latitude&quot;: -31.59905158, &quot;Longitude&quot;: 117.4792801, &quot;Time&quot;: &quot;11/12/2020 6:13&quot;, &quot;Variety&quot;: &quot;43Y23 RR&quot;, &quot;__folium_color&quot;: &quot;#310597&quot;, &quot;sample_id&quot;: &quot;bf66_sample_2&quot;}, &quot;type&quot;: &quot;Feature&quot;}, {&quot;bbox&quot;: [117.4792206, -31.60093144, 117.4792206, -31.60093144], &quot;geometry&quot;: {&quot;coordinates&quot;: [117.4792206, -31.60093144], &quot;type&quot;: &quot;Point&quot;}, &quot;id&quot;: &quot;582&quot;, &quot;properties&quot;: {&quot;Crop&quot;: 5, &quot;DryYield&quot;: 0.316, &quot;Elevation&quot;: 262.98, &quot;Heading&quot;: 228.1, &quot;Latitude&quot;: -31.60093144, &quot;Longitude&quot;: 117.4792206, &quot;Time&quot;: &quot;11/12/2020 6:15&quot;, &quot;Variety&quot;: &quot;43Y23 RR&quot;, &quot;__folium_color&quot;: &quot;#220690&quot;, &quot;sample_id&quot;: &quot;bf66_sample_2&quot;}, &quot;type&quot;: &quot;Feature&quot;}, {&quot;bbox&quot;: [117.4794173, -31.60096575, 117.4794173, -31.60096575], &quot;geometry&quot;: {&quot;coordinates&quot;: [117.4794173, -31.60096575], &quot;type&quot;: &quot;Point&quot;}, &quot;id&quot;: &quot;583&quot;, &quot;properties&quot;: {&quot;Crop&quot;: 5, &quot;DryYield&quot;: 0.732, &quot;Elevation&quot;: 262.77, &quot;Heading&quot;: 359.6, &quot;Latitude&quot;: -31.60096575, &quot;Longitude&quot;: 117.4794173, &quot;Time&quot;: &quot;11/12/2020 6:17&quot;, &quot;Variety&quot;: &quot;43Y23 RR&quot;, &quot;__folium_color&quot;: &quot;#38049a&quot;, &quot;sample_id&quot;: &quot;bf66_sample_2&quot;}, &quot;type&quot;: &quot;Feature&quot;}, {&quot;bbox&quot;: [117.4794055, -31.59917352, 117.4794055, -31.59917352], &quot;geometry&quot;: {&quot;coordinates&quot;: [117.4794055, -31.59917352], &quot;type&quot;: &quot;Point&quot;}, &quot;id&quot;: &quot;584&quot;, &quot;properties&quot;: {&quot;Crop&quot;: 5, &quot;DryYield&quot;: 0.698, &quot;Elevation&quot;: 270.54, &quot;Heading&quot;: 359.8, &quot;Latitude&quot;: -31.59917352, &quot;Longitude&quot;: 117.4794055, &quot;Time&quot;: &quot;11/12/2020 6:18&quot;, &quot;Variety&quot;: &quot;43Y23 RR&quot;, &quot;__folium_color&quot;: &quot;#370499&quot;, &quot;sample_id&quot;: &quot;bf66_sample_2&quot;}, &quot;type&quot;: &quot;Feature&quot;}, {&quot;bbox&quot;: [117.4804172, -31.59844584, 117.4804172, -31.59844584], &quot;geometry&quot;: {&quot;coordinates&quot;: [117.4804172, -31.59844584], &quot;type&quot;: &quot;Point&quot;}, &quot;id&quot;: &quot;585&quot;, &quot;properties&quot;: {&quot;Crop&quot;: 5, &quot;DryYield&quot;: 0.982, &quot;Elevation&quot;: 273.47, &quot;Heading&quot;: 179.8, &quot;Latitude&quot;: -31.59844584, &quot;Longitude&quot;: 117.4804172, &quot;Time&quot;: &quot;11/12/2020 6:21&quot;, &quot;Variety&quot;: &quot;43Y23 RR&quot;, &quot;__folium_color&quot;: &quot;#44039e&quot;, &quot;sample_id&quot;: &quot;bf66_sample_2&quot;}, &quot;type&quot;: &quot;Feature&quot;}, {&quot;bbox&quot;: [117.4804172, -31.60034777, 117.4804172, -31.60034777], &quot;geometry&quot;: {&quot;coordinates&quot;: [117.4804172, -31.60034777], &quot;type&quot;: &quot;Point&quot;}, &quot;id&quot;: &quot;586&quot;, &quot;properties&quot;: {&quot;Crop&quot;: 5, &quot;DryYield&quot;: 0.737, &quot;Elevation&quot;: 266.01, &quot;Heading&quot;: 179.9, &quot;Latitude&quot;: -31.60034777, &quot;Longitude&quot;: 117.4804172, &quot;Time&quot;: &quot;11/12/2020 6:22&quot;, &quot;Variety&quot;: &quot;43Y23 RR&quot;, &quot;__folium_color&quot;: &quot;#38049a&quot;, &quot;sample_id&quot;: &quot;bf66_sample_2&quot;}, &quot;type&quot;: &quot;Feature&quot;}, {&quot;bbox&quot;: [117.4805438, -31.60025233, 117.4805438, -31.60025233], &quot;geometry&quot;: {&quot;coordinates&quot;: [117.4805438, -31.60025233], &quot;type&quot;: &quot;Point&quot;}, &quot;id&quot;: &quot;587&quot;, &quot;properties&quot;: {&quot;Crop&quot;: 5, &quot;DryYield&quot;: 0.65, &quot;Elevation&quot;: 266.19, &quot;Heading&quot;: 0.1, &quot;Latitude&quot;: -31.60025233, &quot;Longitude&quot;: 117.4805438, &quot;Time&quot;: &quot;11/12/2020 6:23&quot;, &quot;Variety&quot;: &quot;43Y23 RR&quot;, &quot;__folium_color&quot;: &quot;#350498&quot;, &quot;sample_id&quot;: &quot;bf66_sample_2&quot;}, &quot;type&quot;: &quot;Feature&quot;}, {&quot;bbox&quot;: [117.4805436, -31.59825924, 117.4805436, -31.59825924], &quot;geometry&quot;: {&quot;coordinates&quot;: [117.4805436, -31.59825924], &quot;type&quot;: &quot;Point&quot;}, &quot;id&quot;: &quot;588&quot;, &quot;properties&quot;: {&quot;Crop&quot;: 5, &quot;DryYield&quot;: 0.743, &quot;Elevation&quot;: 273.73, &quot;Heading&quot;: 359.9, &quot;Latitude&quot;: -31.59825924, &quot;Longitude&quot;: 117.4805436, &quot;Time&quot;: &quot;11/12/2020 6:25&quot;, &quot;Variety&quot;: &quot;43Y23 RR&quot;, &quot;__folium_color&quot;: &quot;#38049a&quot;, &quot;sample_id&quot;: &quot;bf66_sample_2&quot;}, &quot;type&quot;: &quot;Feature&quot;}, {&quot;bbox&quot;: [117.4807447, -31.59625263, 117.4807447, -31.59625263], &quot;geometry&quot;: {&quot;coordinates&quot;: [117.4807447, -31.59625263], &quot;type&quot;: &quot;Point&quot;}, &quot;id&quot;: &quot;589&quot;, &quot;properties&quot;: {&quot;Crop&quot;: 5, &quot;DryYield&quot;: 0.807, &quot;Elevation&quot;: 275.86, &quot;Heading&quot;: 9.5, &quot;Latitude&quot;: -31.59625263, &quot;Longitude&quot;: 117.4807447, &quot;Time&quot;: &quot;11/12/2020 6:26&quot;, &quot;Variety&quot;: &quot;43Y23 RR&quot;, &quot;__folium_color&quot;: &quot;#3c049b&quot;, &quot;sample_id&quot;: &quot;bf66_sample_2&quot;}, &quot;type&quot;: &quot;Feature&quot;}, {&quot;bbox&quot;: [117.480923, -31.59645823, 117.480923, -31.59645823], &quot;geometry&quot;: {&quot;coordinates&quot;: [117.480923, -31.59645823], &quot;type&quot;: &quot;Point&quot;}, &quot;id&quot;: &quot;590&quot;, &quot;properties&quot;: {&quot;Crop&quot;: 5, &quot;DryYield&quot;: 0.827, &quot;Elevation&quot;: 276.01, &quot;Heading&quot;: 180.1, &quot;Latitude&quot;: -31.59645823, &quot;Longitude&quot;: 117.480923, &quot;Time&quot;: &quot;11/12/2020 6:27&quot;, &quot;Variety&quot;: &quot;43Y23 RR&quot;, &quot;__folium_color&quot;: &quot;#3c049b&quot;, &quot;sample_id&quot;: &quot;bf66_sample_2&quot;}, &quot;type&quot;: &quot;Feature&quot;}, {&quot;bbox&quot;: [117.480923, -31.5983052, 117.480923, -31.5983052], &quot;geometry&quot;: {&quot;coordinates&quot;: [117.480923, -31.5983052], &quot;type&quot;: &quot;Point&quot;}, &quot;id&quot;: &quot;591&quot;, &quot;properties&quot;: {&quot;Crop&quot;: 5, &quot;DryYield&quot;: 1.071, &quot;Elevation&quot;: 273.34, &quot;Heading&quot;: 179.9, &quot;Latitude&quot;: -31.5983052, &quot;Longitude&quot;: 117.480923, &quot;Time&quot;: &quot;11/12/2020 6:29&quot;, &quot;Variety&quot;: &quot;43Y23 RR&quot;, &quot;__folium_color&quot;: &quot;#48039f&quot;, &quot;sample_id&quot;: &quot;bf66_sample_2&quot;}, &quot;type&quot;: &quot;Feature&quot;}, {&quot;bbox&quot;: [117.480923, -31.60003923, 117.480923, -31.60003923], &quot;geometry&quot;: {&quot;coordinates&quot;: [117.480923, -31.60003923], &quot;type&quot;: &quot;Point&quot;}, &quot;id&quot;: &quot;592&quot;, &quot;properties&quot;: {&quot;Crop&quot;: 5, &quot;DryYield&quot;: 0.853, &quot;Elevation&quot;: 266.97, &quot;Heading&quot;: 180.0, &quot;Latitude&quot;: -31.60003923, &quot;Longitude&quot;: 117.480923, &quot;Time&quot;: &quot;11/12/2020 6:30&quot;, &quot;Variety&quot;: &quot;43Y23 RR&quot;, &quot;__folium_color&quot;: &quot;#3e049c&quot;, &quot;sample_id&quot;: &quot;bf66_sample_2&quot;}, &quot;type&quot;: &quot;Feature&quot;}, {&quot;bbox&quot;: [117.4810494, -31.60022046, 117.4810494, -31.60022046], &quot;geometry&quot;: {&quot;coordinates&quot;: [117.4810494, -31.60022046], &quot;type&quot;: &quot;Point&quot;}, &quot;id&quot;: &quot;593&quot;, &quot;properties&quot;: {&quot;Crop&quot;: 5, &quot;DryYield&quot;: 0.902, &quot;Elevation&quot;: 266.1, &quot;Heading&quot;: 0.2, &quot;Latitude&quot;: -31.60022046, &quot;Longitude&quot;: 117.4810494, &quot;Time&quot;: &quot;11/12/2020 6:31&quot;, &quot;Variety&quot;: &quot;43Y23 RR&quot;, &quot;__folium_color&quot;: &quot;#3f049c&quot;, &quot;sample_id&quot;: &quot;bf66_sample_2&quot;}, &quot;type&quot;: &quot;Feature&quot;}, {&quot;bbox&quot;: [117.4806704, -31.59904806, 117.4806704, -31.59904806], &quot;geometry&quot;: {&quot;coordinates&quot;: [117.4806704, -31.59904806], &quot;type&quot;: &quot;Point&quot;}, &quot;id&quot;: &quot;594&quot;, &quot;properties&quot;: {&quot;Crop&quot;: 5, &quot;DryYield&quot;: 0.766, &quot;Elevation&quot;: 271.34, &quot;Heading&quot;: 0.1, &quot;Latitude&quot;: -31.59904806, &quot;Longitude&quot;: 117.4806704, &quot;Time&quot;: &quot;11/12/2020 6:26&quot;, &quot;Variety&quot;: &quot;43Y23 RR&quot;, &quot;__folium_color&quot;: &quot;#3a049a&quot;, &quot;sample_id&quot;: &quot;bf66_sample_2&quot;}, &quot;type&quot;: &quot;Feature&quot;}, {&quot;bbox&quot;: [117.4806699, -31.59688014, 117.4806699, -31.59688014], &quot;geometry&quot;: {&quot;coordinates&quot;: [117.4806699, -31.59688014], &quot;type&quot;: &quot;Point&quot;}, &quot;id&quot;: &quot;595&quot;, &quot;properties&quot;: {&quot;Crop&quot;: 5, &quot;DryYield&quot;: 0.461, &quot;Elevation&quot;: 275.75, &quot;Heading&quot;: 359.8, &quot;Latitude&quot;: -31.59688014, &quot;Longitude&quot;: 117.4806699, &quot;Time&quot;: &quot;11/12/2020 6:28&quot;, &quot;Variety&quot;: &quot;43Y23 RR&quot;, &quot;__folium_color&quot;: &quot;#2a0593&quot;, &quot;sample_id&quot;: &quot;bf66_sample_2&quot;}, &quot;type&quot;: &quot;Feature&quot;}, {&quot;bbox&quot;: [117.4807965, -31.59755652, 117.4807965, -31.59755652], &quot;geometry&quot;: {&quot;coordinates&quot;: [117.4807965, -31.59755652], &quot;type&quot;: &quot;Point&quot;}, &quot;id&quot;: &quot;596&quot;, &quot;properties&quot;: {&quot;Crop&quot;: 5, &quot;DryYield&quot;: 0.864, &quot;Elevation&quot;: 275.54, &quot;Heading&quot;: 180.0, &quot;Latitude&quot;: -31.59755652, &quot;Longitude&quot;: 117.4807965, &quot;Time&quot;: &quot;11/12/2020 6:30&quot;, &quot;Variety&quot;: &quot;43Y23 RR&quot;, &quot;__folium_color&quot;: &quot;#3e049c&quot;, &quot;sample_id&quot;: &quot;bf66_sample_2&quot;}, &quot;type&quot;: &quot;Feature&quot;}, {&quot;bbox&quot;: [117.4807967, -31.59967723, 117.4807967, -31.59967723], &quot;geometry&quot;: {&quot;coordinates&quot;: [117.4807967, -31.59967723], &quot;type&quot;: &quot;Point&quot;}, &quot;id&quot;: &quot;597&quot;, &quot;properties&quot;: {&quot;Crop&quot;: 5, &quot;DryYield&quot;: 1.126, &quot;Elevation&quot;: 268.78, &quot;Heading&quot;: 179.7, &quot;Latitude&quot;: -31.59967723, &quot;Longitude&quot;: 117.4807967, &quot;Time&quot;: &quot;11/12/2020 6:31&quot;, &quot;Variety&quot;: &quot;43Y23 RR&quot;, &quot;__folium_color&quot;: &quot;#4b03a1&quot;, &quot;sample_id&quot;: &quot;bf66_sample_2&quot;}, &quot;type&quot;: &quot;Feature&quot;}, {&quot;bbox&quot;: [117.4811762, -31.60025156, 117.4811762, -31.60025156], &quot;geometry&quot;: {&quot;coordinates&quot;: [117.4811762, -31.60025156], &quot;type&quot;: &quot;Point&quot;}, &quot;id&quot;: &quot;598&quot;, &quot;properties&quot;: {&quot;Crop&quot;: 5, &quot;DryYield&quot;: 1.37, &quot;Elevation&quot;: 266.02, &quot;Heading&quot;: 0.4, &quot;Latitude&quot;: -31.60025156, &quot;Longitude&quot;: 117.4811762, &quot;Time&quot;: &quot;11/12/2020 6:33&quot;, &quot;Variety&quot;: &quot;43Y23 RR&quot;, &quot;__folium_color&quot;: &quot;#5502a4&quot;, &quot;sample_id&quot;: &quot;bf66_sample_2&quot;}, &quot;type&quot;: &quot;Feature&quot;}, {&quot;bbox&quot;: [117.4811759, -31.59859857, 117.4811759, -31.59859857], &quot;geometry&quot;: {&quot;coordinates&quot;: [117.4811759, -31.59859857], &quot;type&quot;: &quot;Point&quot;}, &quot;id&quot;: &quot;599&quot;, &quot;properties&quot;: {&quot;Crop&quot;: 5, &quot;DryYield&quot;: 1.092, &quot;Elevation&quot;: 272.41, &quot;Heading&quot;: 359.8, &quot;Latitude&quot;: -31.59859857, &quot;Longitude&quot;: 117.4811759, &quot;Time&quot;: &quot;11/12/2020 6:34&quot;, &quot;Variety&quot;: &quot;43Y23 RR&quot;, &quot;__folium_color&quot;: &quot;#4903a0&quot;, &quot;sample_id&quot;: &quot;bf66_sample_2&quot;}, &quot;type&quot;: &quot;Feature&quot;}, {&quot;bbox&quot;: [117.4811762, -31.59696088, 117.4811762, -31.59696088], &quot;geometry&quot;: {&quot;coordinates&quot;: [117.4811762, -31.59696088], &quot;type&quot;: &quot;Point&quot;}, &quot;id&quot;: &quot;600&quot;, &quot;properties&quot;: {&quot;Crop&quot;: 5, &quot;DryYield&quot;: 1.301, &quot;Elevation&quot;: 276.16, &quot;Heading&quot;: 0.3, &quot;Latitude&quot;: -31.59696088, &quot;Longitude&quot;: 117.4811762, &quot;Time&quot;: &quot;11/12/2020 6:35&quot;, &quot;Variety&quot;: &quot;43Y23 RR&quot;, &quot;__folium_color&quot;: &quot;#5302a3&quot;, &quot;sample_id&quot;: &quot;bf66_sample_2&quot;}, &quot;type&quot;: &quot;Feature&quot;}, {&quot;bbox&quot;: [117.4813489, -31.59512766, 117.4813489, -31.59512766], &quot;geometry&quot;: {&quot;coordinates&quot;: [117.4813489, -31.59512766], &quot;type&quot;: &quot;Point&quot;}, &quot;id&quot;: &quot;601&quot;, &quot;properties&quot;: {&quot;Crop&quot;: 5, &quot;DryYield&quot;: 0.472, &quot;Elevation&quot;: 277.37, &quot;Heading&quot;: 46.9, &quot;Latitude&quot;: -31.59512766, &quot;Longitude&quot;: 117.4813489, &quot;Time&quot;: &quot;11/12/2020 6:37&quot;, &quot;Variety&quot;: &quot;43Y23 RR&quot;, &quot;__folium_color&quot;: &quot;#2c0594&quot;, &quot;sample_id&quot;: &quot;bf66_sample_2&quot;}, &quot;type&quot;: &quot;Feature&quot;}, {&quot;bbox&quot;: [117.4813023, -31.59692196, 117.4813023, -31.59692196], &quot;geometry&quot;: {&quot;coordinates&quot;: [117.4813023, -31.59692196], &quot;type&quot;: &quot;Point&quot;}, &quot;id&quot;: &quot;602&quot;, &quot;properties&quot;: {&quot;Crop&quot;: 5, &quot;DryYield&quot;: 0.915, &quot;Elevation&quot;: 276.13, &quot;Heading&quot;: 179.9, &quot;Latitude&quot;: -31.59692196, &quot;Longitude&quot;: 117.4813023, &quot;Time&quot;: &quot;11/12/2020 6:38&quot;, &quot;Variety&quot;: &quot;43Y23 RR&quot;, &quot;__folium_color&quot;: &quot;#41049d&quot;, &quot;sample_id&quot;: &quot;bf66_sample_2&quot;}, &quot;type&quot;: &quot;Feature&quot;}, {&quot;bbox&quot;: [117.4813027, -31.59886667, 117.4813027, -31.59886667], &quot;geometry&quot;: {&quot;coordinates&quot;: [117.4813027, -31.59886667], &quot;type&quot;: &quot;Point&quot;}, &quot;id&quot;: &quot;603&quot;, &quot;properties&quot;: {&quot;Crop&quot;: 5, &quot;DryYield&quot;: 1.014, &quot;Elevation&quot;: 271.4, &quot;Heading&quot;: 179.8, &quot;Latitude&quot;: -31.59886667, &quot;Longitude&quot;: 117.4813027, &quot;Time&quot;: &quot;11/12/2020 6:39&quot;, &quot;Variety&quot;: &quot;43Y23 RR&quot;, &quot;__folium_color&quot;: &quot;#46039f&quot;, &quot;sample_id&quot;: &quot;bf66_sample_2&quot;}, &quot;type&quot;: &quot;Feature&quot;}, {&quot;bbox&quot;: [117.4813019, -31.60074761, 117.4813019, -31.60074761], &quot;geometry&quot;: {&quot;coordinates&quot;: [117.4813019, -31.60074761], &quot;type&quot;: &quot;Point&quot;}, &quot;id&quot;: &quot;604&quot;, &quot;properties&quot;: {&quot;Crop&quot;: 5, &quot;DryYield&quot;: 0.482, &quot;Elevation&quot;: 264.01, &quot;Heading&quot;: 180.6, &quot;Latitude&quot;: -31.60074761, &quot;Longitude&quot;: 117.4813019, &quot;Time&quot;: &quot;11/12/2020 6:41&quot;, &quot;Variety&quot;: &quot;43Y23 RR&quot;, &quot;__folium_color&quot;: &quot;#2c0594&quot;, &quot;sample_id&quot;: &quot;bf66_sample_2&quot;}, &quot;type&quot;: &quot;Feature&quot;}, {&quot;bbox&quot;: [117.4819345, -31.59888153, 117.4819345, -31.59888153], &quot;geometry&quot;: {&quot;coordinates&quot;: [117.4819345, -31.59888153], &quot;type&quot;: &quot;Point&quot;}, &quot;id&quot;: &quot;605&quot;, &quot;properties&quot;: {&quot;Crop&quot;: 5, &quot;DryYield&quot;: 0.856, &quot;Elevation&quot;: 270.69, &quot;Heading&quot;: 0.0, &quot;Latitude&quot;: -31.59888153, &quot;Longitude&quot;: 117.4819345, &quot;Time&quot;: &quot;11/12/2020 6:42&quot;, &quot;Variety&quot;: &quot;43Y23 RR&quot;, &quot;__folium_color&quot;: &quot;#3e049c&quot;, &quot;sample_id&quot;: &quot;bf66_sample_2&quot;}, &quot;type&quot;: &quot;Feature&quot;}, {&quot;bbox&quot;: [117.4819345, -31.59686972, 117.4819345, -31.59686972], &quot;geometry&quot;: {&quot;coordinates&quot;: [117.4819345, -31.59686972], &quot;type&quot;: &quot;Point&quot;}, &quot;id&quot;: &quot;606&quot;, &quot;properties&quot;: {&quot;Crop&quot;: 5, &quot;DryYield&quot;: 0.862, &quot;Elevation&quot;: 274.87, &quot;Heading&quot;: 0.0, &quot;Latitude&quot;: -31.59686972, &quot;Longitude&quot;: 117.4819345, &quot;Time&quot;: &quot;11/12/2020 6:44&quot;, &quot;Variety&quot;: &quot;43Y23 RR&quot;, &quot;__folium_color&quot;: &quot;#3e049c&quot;, &quot;sample_id&quot;: &quot;bf66_sample_2&quot;}, &quot;type&quot;: &quot;Feature&quot;}, {&quot;bbox&quot;: [117.4819343, -31.59494796, 117.4819343, -31.59494796], &quot;geometry&quot;: {&quot;coordinates&quot;: [117.4819343, -31.59494796], &quot;type&quot;: &quot;Point&quot;}, &quot;id&quot;: &quot;607&quot;, &quot;properties&quot;: {&quot;Crop&quot;: 5, &quot;DryYield&quot;: 1.102, &quot;Elevation&quot;: 276.9, &quot;Heading&quot;: 359.9, &quot;Latitude&quot;: -31.59494796, &quot;Longitude&quot;: 117.4819343, &quot;Time&quot;: &quot;11/12/2020 6:45&quot;, &quot;Variety&quot;: &quot;43Y23 RR&quot;, &quot;__folium_color&quot;: &quot;#4903a0&quot;, &quot;sample_id&quot;: &quot;bf66_sample_2&quot;}, &quot;type&quot;: &quot;Feature&quot;}, {&quot;bbox&quot;: [117.4819345, -31.59302201, 117.4819345, -31.59302201], &quot;geometry&quot;: {&quot;coordinates&quot;: [117.4819345, -31.59302201], &quot;type&quot;: &quot;Point&quot;}, &quot;id&quot;: &quot;608&quot;, &quot;properties&quot;: {&quot;Crop&quot;: 5, &quot;DryYield&quot;: 1.221, &quot;Elevation&quot;: 276.48, &quot;Heading&quot;: 0.2, &quot;Latitude&quot;: -31.59302201, &quot;Longitude&quot;: 117.4819345, &quot;Time&quot;: &quot;11/12/2020 6:46&quot;, &quot;Variety&quot;: &quot;43Y23 RR&quot;, &quot;__folium_color&quot;: &quot;#4e02a2&quot;, &quot;sample_id&quot;: &quot;bf66_sample_2&quot;}, &quot;type&quot;: &quot;Feature&quot;}, {&quot;bbox&quot;: [117.4821878, -31.59350844, 117.4821878, -31.59350844], &quot;geometry&quot;: {&quot;coordinates&quot;: [117.4821878, -31.59350844], &quot;type&quot;: &quot;Point&quot;}, &quot;id&quot;: &quot;609&quot;, &quot;properties&quot;: {&quot;Crop&quot;: 5, &quot;DryYield&quot;: 1.342, &quot;Elevation&quot;: 276.25, &quot;Heading&quot;: 179.8, &quot;Latitude&quot;: -31.59350844, &quot;Longitude&quot;: 117.4821878, &quot;Time&quot;: &quot;11/12/2020 6:48&quot;, &quot;Variety&quot;: &quot;43Y23 RR&quot;, &quot;__folium_color&quot;: &quot;#5502a4&quot;, &quot;sample_id&quot;: &quot;bf66_sample_2&quot;}, &quot;type&quot;: &quot;Feature&quot;}, {&quot;bbox&quot;: [117.4821872, -31.59531534, 117.4821872, -31.59531534], &quot;geometry&quot;: {&quot;coordinates&quot;: [117.4821872, -31.59531534], &quot;type&quot;: &quot;Point&quot;}, &quot;id&quot;: &quot;610&quot;, &quot;properties&quot;: {&quot;Crop&quot;: 5, &quot;DryYield&quot;: 1.362, &quot;Elevation&quot;: 275.63, &quot;Heading&quot;: 180.3, &quot;Latitude&quot;: -31.59531534, &quot;Longitude&quot;: 117.4821872, &quot;Time&quot;: &quot;11/12/2020 6:49&quot;, &quot;Variety&quot;: &quot;43Y23 RR&quot;, &quot;__folium_color&quot;: &quot;#5502a4&quot;, &quot;sample_id&quot;: &quot;bf66_sample_2&quot;}, &quot;type&quot;: &quot;Feature&quot;}, {&quot;bbox&quot;: [117.4821876, -31.59707363, 117.4821876, -31.59707363], &quot;geometry&quot;: {&quot;coordinates&quot;: [117.4821876, -31.59707363], &quot;type&quot;: &quot;Point&quot;}, &quot;id&quot;: &quot;611&quot;, &quot;properties&quot;: {&quot;Crop&quot;: 5, &quot;DryYield&quot;: 0.777, &quot;Elevation&quot;: 274.32, &quot;Heading&quot;: 179.8, &quot;Latitude&quot;: -31.59707363, &quot;Longitude&quot;: 117.4821876, &quot;Time&quot;: &quot;11/12/2020 6:51&quot;, &quot;Variety&quot;: &quot;43Y23 RR&quot;, &quot;__folium_color&quot;: &quot;#3a049a&quot;, &quot;sample_id&quot;: &quot;bf66_sample_2&quot;}, &quot;type&quot;: &quot;Feature&quot;}, {&quot;bbox&quot;: [117.4821874, -31.59910413, 117.4821874, -31.59910413], &quot;geometry&quot;: {&quot;coordinates&quot;: [117.4821874, -31.59910413], &quot;type&quot;: &quot;Point&quot;}, &quot;id&quot;: &quot;612&quot;, &quot;properties&quot;: {&quot;Crop&quot;: 5, &quot;DryYield&quot;: 0.852, &quot;Elevation&quot;: 269.77, &quot;Heading&quot;: 180.0, &quot;Latitude&quot;: -31.59910413, &quot;Longitude&quot;: 117.4821874, &quot;Time&quot;: &quot;11/12/2020 6:52&quot;, &quot;Variety&quot;: &quot;43Y23 RR&quot;, &quot;__folium_color&quot;: &quot;#3e049c&quot;, &quot;sample_id&quot;: &quot;bf66_sample_2&quot;}, &quot;type&quot;: &quot;Feature&quot;}, {&quot;bbox&quot;: [117.482314, -31.59978462, 117.482314, -31.59978462], &quot;geometry&quot;: {&quot;coordinates&quot;: [117.482314, -31.59978462], &quot;type&quot;: &quot;Point&quot;}, &quot;id&quot;: &quot;613&quot;, &quot;properties&quot;: {&quot;Crop&quot;: 5, &quot;DryYield&quot;: 0.651, &quot;Elevation&quot;: 266.97, &quot;Heading&quot;: 0.1, &quot;Latitude&quot;: -31.59978462, &quot;Longitude&quot;: 117.482314, &quot;Time&quot;: &quot;11/12/2020 6:53&quot;, &quot;Variety&quot;: &quot;43Y23 RR&quot;, &quot;__folium_color&quot;: &quot;#350498&quot;, &quot;sample_id&quot;: &quot;bf66_sample_2&quot;}, &quot;type&quot;: &quot;Feature&quot;}, {&quot;bbox&quot;: [117.4823142, -31.59770757, 117.4823142, -31.59770757], &quot;geometry&quot;: {&quot;coordinates&quot;: [117.4823142, -31.59770757], &quot;type&quot;: &quot;Point&quot;}, &quot;id&quot;: &quot;614&quot;, &quot;properties&quot;: {&quot;Crop&quot;: 5, &quot;DryYield&quot;: 0.924, &quot;Elevation&quot;: 272.66, &quot;Heading&quot;: 0.7, &quot;Latitude&quot;: -31.59770757, &quot;Longitude&quot;: 117.4823142, &quot;Time&quot;: &quot;11/12/2020 6:55&quot;, &quot;Variety&quot;: &quot;43Y23 RR&quot;, &quot;__folium_color&quot;: &quot;#41049d&quot;, &quot;sample_id&quot;: &quot;bf66_sample_2&quot;}, &quot;type&quot;: &quot;Feature&quot;}, {&quot;bbox&quot;: [117.482314, -31.59574645, 117.482314, -31.59574645], &quot;geometry&quot;: {&quot;coordinates&quot;: [117.482314, -31.59574645], &quot;type&quot;: &quot;Point&quot;}, &quot;id&quot;: &quot;615&quot;, &quot;properties&quot;: {&quot;Crop&quot;: 5, &quot;DryYield&quot;: 1.087, &quot;Elevation&quot;: 274.62, &quot;Heading&quot;: 0.1, &quot;Latitude&quot;: -31.59574645, &quot;Longitude&quot;: 117.482314, &quot;Time&quot;: &quot;11/12/2020 6:56&quot;, &quot;Variety&quot;: &quot;43Y23 RR&quot;, &quot;__folium_color&quot;: &quot;#4903a0&quot;, &quot;sample_id&quot;: &quot;bf66_sample_2&quot;}, &quot;type&quot;: &quot;Feature&quot;}, {&quot;bbox&quot;: [117.482314, -31.5938386, 117.482314, -31.5938386], &quot;geometry&quot;: {&quot;coordinates&quot;: [117.482314, -31.5938386], &quot;type&quot;: &quot;Point&quot;}, &quot;id&quot;: &quot;616&quot;, &quot;properties&quot;: {&quot;Crop&quot;: 5, &quot;DryYield&quot;: 1.253, &quot;Elevation&quot;: 276.09, &quot;Heading&quot;: 0.2, &quot;Latitude&quot;: -31.5938386, &quot;Longitude&quot;: 117.482314, &quot;Time&quot;: &quot;11/12/2020 6:57&quot;, &quot;Variety&quot;: &quot;43Y23 RR&quot;, &quot;__folium_color&quot;: &quot;#5002a2&quot;, &quot;sample_id&quot;: &quot;bf66_sample_2&quot;}, &quot;type&quot;: &quot;Feature&quot;}, {&quot;bbox&quot;: [117.4826936, -31.59260575, 117.4826936, -31.59260575], &quot;geometry&quot;: {&quot;coordinates&quot;: [117.4826936, -31.59260575], &quot;type&quot;: &quot;Point&quot;}, &quot;id&quot;: &quot;617&quot;, &quot;properties&quot;: {&quot;Crop&quot;: 5, &quot;DryYield&quot;: 0.889, &quot;Elevation&quot;: 273.62, &quot;Heading&quot;: 179.8, &quot;Latitude&quot;: -31.59260575, &quot;Longitude&quot;: 117.4826936, &quot;Time&quot;: &quot;11/12/2020 6:59&quot;, &quot;Variety&quot;: &quot;43Y23 RR&quot;, &quot;__folium_color&quot;: &quot;#3f049c&quot;, &quot;sample_id&quot;: &quot;bf66_sample_2&quot;}, &quot;type&quot;: &quot;Feature&quot;}, {&quot;bbox&quot;: [117.4826936, -31.59454334, 117.4826936, -31.59454334], &quot;geometry&quot;: {&quot;coordinates&quot;: [117.4826936, -31.59454334], &quot;type&quot;: &quot;Point&quot;}, &quot;id&quot;: &quot;618&quot;, &quot;properties&quot;: {&quot;Crop&quot;: 5, &quot;DryYield&quot;: 1.028, &quot;Elevation&quot;: 275.18, &quot;Heading&quot;: 180.0, &quot;Latitude&quot;: -31.59454334, &quot;Longitude&quot;: 117.4826936, &quot;Time&quot;: &quot;11/12/2020 7:00&quot;, &quot;Variety&quot;: &quot;43Y23 RR&quot;, &quot;__folium_color&quot;: &quot;#46039f&quot;, &quot;sample_id&quot;: &quot;bf66_sample_2&quot;}, &quot;type&quot;: &quot;Feature&quot;}, {&quot;bbox&quot;: [117.4826934, -31.59643433, 117.4826934, -31.59643433], &quot;geometry&quot;: {&quot;coordinates&quot;: [117.4826934, -31.59643433], &quot;type&quot;: &quot;Point&quot;}, &quot;id&quot;: &quot;619&quot;, &quot;properties&quot;: {&quot;Crop&quot;: 5, &quot;DryYield&quot;: 0.905, &quot;Elevation&quot;: 273.45, &quot;Heading&quot;: 179.9, &quot;Latitude&quot;: -31.59643433, &quot;Longitude&quot;: 117.4826934, &quot;Time&quot;: &quot;11/12/2020 7:02&quot;, &quot;Variety&quot;: &quot;43Y23 RR&quot;, &quot;__folium_color&quot;: &quot;#41049d&quot;, &quot;sample_id&quot;: &quot;bf66_sample_2&quot;}, &quot;type&quot;: &quot;Feature&quot;}, {&quot;bbox&quot;: [117.4826934, -31.59840984, 117.4826934, -31.59840984], &quot;geometry&quot;: {&quot;coordinates&quot;: [117.4826934, -31.59840984], &quot;type&quot;: &quot;Point&quot;}, &quot;id&quot;: &quot;620&quot;, &quot;properties&quot;: {&quot;Crop&quot;: 5, &quot;DryYield&quot;: 0.825, &quot;Elevation&quot;: 270.5, &quot;Heading&quot;: 179.6, &quot;Latitude&quot;: -31.59840984, &quot;Longitude&quot;: 117.4826934, &quot;Time&quot;: &quot;11/12/2020 7:03&quot;, &quot;Variety&quot;: &quot;43Y23 RR&quot;, &quot;__folium_color&quot;: &quot;#3c049b&quot;, &quot;sample_id&quot;: &quot;bf66_sample_2&quot;}, &quot;type&quot;: &quot;Feature&quot;}, {&quot;bbox&quot;: [117.4828009, -31.60021051, 117.4828009, -31.60021051], &quot;geometry&quot;: {&quot;coordinates&quot;: [117.4828009, -31.60021051], &quot;type&quot;: &quot;Point&quot;}, &quot;id&quot;: &quot;621&quot;, &quot;properties&quot;: {&quot;Crop&quot;: 5, &quot;DryYield&quot;: 0.515, &quot;Elevation&quot;: 264.71, &quot;Heading&quot;: 359.5, &quot;Latitude&quot;: -31.60021051, &quot;Longitude&quot;: 117.4828009, &quot;Time&quot;: &quot;11/12/2020 7:05&quot;, &quot;Variety&quot;: &quot;43Y23 RR&quot;, &quot;__folium_color&quot;: &quot;#2e0595&quot;, &quot;sample_id&quot;: &quot;bf66_sample_2&quot;}, &quot;type&quot;: &quot;Feature&quot;}, {&quot;bbox&quot;: [117.4828196, -31.59848965, 117.4828196, -31.59848965], &quot;geometry&quot;: {&quot;coordinates&quot;: [117.4828196, -31.59848965], &quot;type&quot;: &quot;Point&quot;}, &quot;id&quot;: &quot;622&quot;, &quot;properties&quot;: {&quot;Crop&quot;: 5, &quot;DryYield&quot;: 0.544, &quot;Elevation&quot;: 269.81, &quot;Heading&quot;: 359.9, &quot;Latitude&quot;: -31.59848965, &quot;Longitude&quot;: 117.4828196, &quot;Time&quot;: &quot;11/12/2020 7:07&quot;, &quot;Variety&quot;: &quot;43Y23 RR&quot;, &quot;__folium_color&quot;: &quot;#2f0596&quot;, &quot;sample_id&quot;: &quot;bf66_sample_2&quot;}, &quot;type&quot;: &quot;Feature&quot;}, {&quot;bbox&quot;: [117.4810494, -31.59778141, 117.4810494, -31.59778141], &quot;geometry&quot;: {&quot;coordinates&quot;: [117.4810494, -31.59778141], &quot;type&quot;: &quot;Point&quot;}, &quot;id&quot;: &quot;623&quot;, &quot;properties&quot;: {&quot;Crop&quot;: 5, &quot;DryYield&quot;: 1.015, &quot;Elevation&quot;: 274.58, &quot;Heading&quot;: 359.9, &quot;Latitude&quot;: -31.59778141, &quot;Longitude&quot;: 117.4810494, &quot;Time&quot;: &quot;11/12/2020 6:34&quot;, &quot;Variety&quot;: &quot;43Y23 RR&quot;, &quot;__folium_color&quot;: &quot;#46039f&quot;, &quot;sample_id&quot;: &quot;bf66_sample_2&quot;}, &quot;type&quot;: &quot;Feature&quot;}, {&quot;bbox&quot;: [117.4810494, -31.59609024, 117.4810494, -31.59609024], &quot;geometry&quot;: {&quot;coordinates&quot;: [117.4810494, -31.59609024], &quot;type&quot;: &quot;Point&quot;}, &quot;id&quot;: &quot;624&quot;, &quot;properties&quot;: {&quot;Crop&quot;: 5, &quot;DryYield&quot;: 0.907, &quot;Elevation&quot;: 276.19, &quot;Heading&quot;: 0.2, &quot;Latitude&quot;: -31.59609024, &quot;Longitude&quot;: 117.4810494, &quot;Time&quot;: &quot;11/12/2020 6:35&quot;, &quot;Variety&quot;: &quot;43Y23 RR&quot;, &quot;__folium_color&quot;: &quot;#41049d&quot;, &quot;sample_id&quot;: &quot;bf66_sample_2&quot;}, &quot;type&quot;: &quot;Feature&quot;}, {&quot;bbox&quot;: [117.4814287, -31.59588157, 117.4814287, -31.59588157], &quot;geometry&quot;: {&quot;coordinates&quot;: [117.4814287, -31.59588157], &quot;type&quot;: &quot;Point&quot;}, &quot;id&quot;: &quot;625&quot;, &quot;properties&quot;: {&quot;Crop&quot;: 5, &quot;DryYield&quot;: 0.828, &quot;Elevation&quot;: 276.04, &quot;Heading&quot;: 180.1, &quot;Latitude&quot;: -31.59588157, &quot;Longitude&quot;: 117.4814287, &quot;Time&quot;: &quot;11/12/2020 6:37&quot;, &quot;Variety&quot;: &quot;43Y23 RR&quot;, &quot;__folium_color&quot;: &quot;#3c049b&quot;, &quot;sample_id&quot;: &quot;bf66_sample_2&quot;}, &quot;type&quot;: &quot;Feature&quot;}, {&quot;bbox&quot;: [117.4814286, -31.59779229, 117.4814286, -31.59779229], &quot;geometry&quot;: {&quot;coordinates&quot;: [117.4814286, -31.59779229], &quot;type&quot;: &quot;Point&quot;}, &quot;id&quot;: &quot;626&quot;, &quot;properties&quot;: {&quot;Crop&quot;: 5, &quot;DryYield&quot;: 0.873, &quot;Elevation&quot;: 274.26, &quot;Heading&quot;: 180.3, &quot;Latitude&quot;: -31.59779229, &quot;Longitude&quot;: 117.4814286, &quot;Time&quot;: &quot;11/12/2020 6:38&quot;, &quot;Variety&quot;: &quot;43Y23 RR&quot;, &quot;__folium_color&quot;: &quot;#3f049c&quot;, &quot;sample_id&quot;: &quot;bf66_sample_2&quot;}, &quot;type&quot;: &quot;Feature&quot;}, {&quot;bbox&quot;: [117.4814289, -31.59960293, 117.4814289, -31.59960293], &quot;geometry&quot;: {&quot;coordinates&quot;: [117.4814289, -31.59960293], &quot;type&quot;: &quot;Point&quot;}, &quot;id&quot;: &quot;627&quot;, &quot;properties&quot;: {&quot;Crop&quot;: 5, &quot;DryYield&quot;: 0.94, &quot;Elevation&quot;: 268.45, &quot;Heading&quot;: 179.8, &quot;Latitude&quot;: -31.59960293, &quot;Longitude&quot;: 117.4814289, &quot;Time&quot;: &quot;11/12/2020 6:39&quot;, &quot;Variety&quot;: &quot;43Y23 RR&quot;, &quot;__folium_color&quot;: &quot;#43039e&quot;, &quot;sample_id&quot;: &quot;bf66_sample_2&quot;}, &quot;type&quot;: &quot;Feature&quot;}, {&quot;bbox&quot;: [117.4818083, -31.60011078, 117.4818083, -31.60011078], &quot;geometry&quot;: {&quot;coordinates&quot;: [117.4818083, -31.60011078], &quot;type&quot;: &quot;Point&quot;}, &quot;id&quot;: &quot;628&quot;, &quot;properties&quot;: {&quot;Crop&quot;: 5, &quot;DryYield&quot;: 0.583, &quot;Elevation&quot;: 266.05, &quot;Heading&quot;: 360.0, &quot;Latitude&quot;: -31.60011078, &quot;Longitude&quot;: 117.4818083, &quot;Time&quot;: &quot;11/12/2020 6:41&quot;, &quot;Variety&quot;: &quot;43Y23 RR&quot;, &quot;__folium_color&quot;: &quot;#310597&quot;, &quot;sample_id&quot;: &quot;bf66_sample_2&quot;}, &quot;type&quot;: &quot;Feature&quot;}, {&quot;bbox&quot;: [117.4818079, -31.59829034, 117.4818079, -31.59829034], &quot;geometry&quot;: {&quot;coordinates&quot;: [117.4818079, -31.59829034], &quot;type&quot;: &quot;Point&quot;}, &quot;id&quot;: &quot;629&quot;, &quot;properties&quot;: {&quot;Crop&quot;: 5, &quot;DryYield&quot;: 0.614, &quot;Elevation&quot;: 272.54, &quot;Heading&quot;: 0.0, &quot;Latitude&quot;: -31.59829034, &quot;Longitude&quot;: 117.4818079, &quot;Time&quot;: &quot;11/12/2020 6:42&quot;, &quot;Variety&quot;: &quot;43Y23 RR&quot;, &quot;__folium_color&quot;: &quot;#330597&quot;, &quot;sample_id&quot;: &quot;bf66_sample_2&quot;}, &quot;type&quot;: &quot;Feature&quot;}, {&quot;bbox&quot;: [117.4818081, -31.59628465, 117.4818081, -31.59628465], &quot;geometry&quot;: {&quot;coordinates&quot;: [117.4818081, -31.59628465], &quot;type&quot;: &quot;Point&quot;}, &quot;id&quot;: &quot;630&quot;, &quot;properties&quot;: {&quot;Crop&quot;: 5, &quot;DryYield&quot;: 0.923, &quot;Elevation&quot;: 274.89, &quot;Heading&quot;: 360.0, &quot;Latitude&quot;: -31.59628465, &quot;Longitude&quot;: 117.4818081, &quot;Time&quot;: &quot;11/12/2020 6:43&quot;, &quot;Variety&quot;: &quot;43Y23 RR&quot;, &quot;__folium_color&quot;: &quot;#41049d&quot;, &quot;sample_id&quot;: &quot;bf66_sample_2&quot;}, &quot;type&quot;: &quot;Feature&quot;}, {&quot;bbox&quot;: [117.4818083, -31.59449325, 117.4818083, -31.59449325], &quot;geometry&quot;: {&quot;coordinates&quot;: [117.4818083, -31.59449325], &quot;type&quot;: &quot;Point&quot;}, &quot;id&quot;: &quot;631&quot;, &quot;properties&quot;: {&quot;Crop&quot;: 5, &quot;DryYield&quot;: 0.963, &quot;Elevation&quot;: 277.29, &quot;Heading&quot;: 0.3, &quot;Latitude&quot;: -31.59449325, &quot;Longitude&quot;: 117.4818083, &quot;Time&quot;: &quot;11/12/2020 6:45&quot;, &quot;Variety&quot;: &quot;43Y23 RR&quot;, &quot;__folium_color&quot;: &quot;#43039e&quot;, &quot;sample_id&quot;: &quot;bf66_sample_2&quot;}, &quot;type&quot;: &quot;Feature&quot;}, {&quot;bbox&quot;: [117.4818081, -31.59267178, 117.4818081, -31.59267178], &quot;geometry&quot;: {&quot;coordinates&quot;: [117.4818081, -31.59267178], &quot;type&quot;: &quot;Point&quot;}, &quot;id&quot;: &quot;632&quot;, &quot;properties&quot;: {&quot;Crop&quot;: 5, &quot;DryYield&quot;: 0.825, &quot;Elevation&quot;: 276.62, &quot;Heading&quot;: 0.5, &quot;Latitude&quot;: -31.59267178, &quot;Longitude&quot;: 117.4818081, &quot;Time&quot;: &quot;11/12/2020 6:46&quot;, &quot;Variety&quot;: &quot;43Y23 RR&quot;, &quot;__folium_color&quot;: &quot;#3c049b&quot;, &quot;sample_id&quot;: &quot;bf66_sample_2&quot;}, &quot;type&quot;: &quot;Feature&quot;}, {&quot;bbox&quot;: [117.4820601, -31.59236598, 117.4820601, -31.59236598], &quot;geometry&quot;: {&quot;coordinates&quot;: [117.4820601, -31.59236598], &quot;type&quot;: &quot;Point&quot;}, &quot;id&quot;: &quot;633&quot;, &quot;properties&quot;: {&quot;Crop&quot;: 5, &quot;DryYield&quot;: 0.317, &quot;Elevation&quot;: 275.71, &quot;Heading&quot;: 182.5, &quot;Latitude&quot;: -31.59236598, &quot;Longitude&quot;: 117.4820601, &quot;Time&quot;: &quot;11/12/2020 6:48&quot;, &quot;Variety&quot;: &quot;43Y23 RR&quot;, &quot;__folium_color&quot;: &quot;#220690&quot;, &quot;sample_id&quot;: &quot;bf66_sample_2&quot;}, &quot;type&quot;: &quot;Feature&quot;}, {&quot;bbox&quot;: [117.482061, -31.59422008, 117.482061, -31.59422008], &quot;geometry&quot;: {&quot;coordinates&quot;: [117.482061, -31.59422008], &quot;type&quot;: &quot;Point&quot;}, &quot;id&quot;: &quot;634&quot;, &quot;properties&quot;: {&quot;Crop&quot;: 5, &quot;DryYield&quot;: 0.981, &quot;Elevation&quot;: 276.78, &quot;Heading&quot;: 180.0, &quot;Latitude&quot;: -31.59422008, &quot;Longitude&quot;: 117.482061, &quot;Time&quot;: &quot;11/12/2020 6:50&quot;, &quot;Variety&quot;: &quot;43Y23 RR&quot;, &quot;__folium_color&quot;: &quot;#44039e&quot;, &quot;sample_id&quot;: &quot;bf66_sample_2&quot;}, &quot;type&quot;: &quot;Feature&quot;}, {&quot;bbox&quot;: [117.482061, -31.59606404, 117.482061, -31.59606404], &quot;geometry&quot;: {&quot;coordinates&quot;: [117.482061, -31.59606404], &quot;type&quot;: &quot;Point&quot;}, &quot;id&quot;: &quot;635&quot;, &quot;properties&quot;: {&quot;Crop&quot;: 5, &quot;DryYield&quot;: 0.97, &quot;Elevation&quot;: 274.69, &quot;Heading&quot;: 180.0, &quot;Latitude&quot;: -31.59606404, &quot;Longitude&quot;: 117.482061, &quot;Time&quot;: &quot;11/12/2020 6:51&quot;, &quot;Variety&quot;: &quot;43Y23 RR&quot;, &quot;__folium_color&quot;: &quot;#43039e&quot;, &quot;sample_id&quot;: &quot;bf66_sample_2&quot;}, &quot;type&quot;: &quot;Feature&quot;}, {&quot;bbox&quot;: [117.482061, -31.59798777, 117.482061, -31.59798777], &quot;geometry&quot;: {&quot;coordinates&quot;: [117.482061, -31.59798777], &quot;type&quot;: &quot;Point&quot;}, &quot;id&quot;: &quot;636&quot;, &quot;properties&quot;: {&quot;Crop&quot;: 5, &quot;DryYield&quot;: 0.831, &quot;Elevation&quot;: 272.52, &quot;Heading&quot;: 180.0, &quot;Latitude&quot;: -31.59798777, &quot;Longitude&quot;: 117.482061, &quot;Time&quot;: &quot;11/12/2020 6:52&quot;, &quot;Variety&quot;: &quot;43Y23 RR&quot;, &quot;__folium_color&quot;: &quot;#3e049c&quot;, &quot;sample_id&quot;: &quot;bf66_sample_2&quot;}, &quot;type&quot;: &quot;Feature&quot;}, {&quot;bbox&quot;: [117.4820606, -31.60005256, 117.4820606, -31.60005256], &quot;geometry&quot;: {&quot;coordinates&quot;: [117.4820606, -31.60005256], &quot;type&quot;: &quot;Point&quot;}, &quot;id&quot;: &quot;637&quot;, &quot;properties&quot;: {&quot;Crop&quot;: 5, &quot;DryYield&quot;: 0.63, &quot;Elevation&quot;: 266.28, &quot;Heading&quot;: 180.2, &quot;Latitude&quot;: -31.60005256, &quot;Longitude&quot;: 117.4820606, &quot;Time&quot;: &quot;11/12/2020 6:53&quot;, &quot;Variety&quot;: &quot;43Y23 RR&quot;, &quot;__folium_color&quot;: &quot;#330597&quot;, &quot;sample_id&quot;: &quot;bf66_sample_2&quot;}, &quot;type&quot;: &quot;Feature&quot;}, {&quot;bbox&quot;: [117.4824408, -31.59917705, 117.4824408, -31.59917705], &quot;geometry&quot;: {&quot;coordinates&quot;: [117.4824408, -31.59917705], &quot;type&quot;: &quot;Point&quot;}, &quot;id&quot;: &quot;638&quot;, &quot;properties&quot;: {&quot;Crop&quot;: 5, &quot;DryYield&quot;: 0.599, &quot;Elevation&quot;: 268.71, &quot;Heading&quot;: 0.3, &quot;Latitude&quot;: -31.59917705, &quot;Longitude&quot;: 117.4824408, &quot;Time&quot;: &quot;11/12/2020 6:55&quot;, &quot;Variety&quot;: &quot;43Y23 RR&quot;, &quot;__folium_color&quot;: &quot;#310597&quot;, &quot;sample_id&quot;: &quot;bf66_sample_2&quot;}, &quot;type&quot;: &quot;Feature&quot;}, {&quot;bbox&quot;: [117.4824403, -31.59722331, 117.4824403, -31.59722331], &quot;geometry&quot;: {&quot;coordinates&quot;: [117.4824403, -31.59722331], &quot;type&quot;: &quot;Point&quot;}, &quot;id&quot;: &quot;639&quot;, &quot;properties&quot;: {&quot;Crop&quot;: 5, &quot;DryYield&quot;: 0.64, &quot;Elevation&quot;: 273.17, &quot;Heading&quot;: 360.0, &quot;Latitude&quot;: -31.59722331, &quot;Longitude&quot;: 117.4824403, &quot;Time&quot;: &quot;11/12/2020 6:56&quot;, &quot;Variety&quot;: &quot;43Y23 RR&quot;, &quot;__folium_color&quot;: &quot;#330597&quot;, &quot;sample_id&quot;: &quot;bf66_sample_2&quot;}, &quot;type&quot;: &quot;Feature&quot;}, {&quot;bbox&quot;: [117.4824405, -31.59547084, 117.4824405, -31.59547084], &quot;geometry&quot;: {&quot;coordinates&quot;: [117.4824405, -31.59547084], &quot;type&quot;: &quot;Point&quot;}, &quot;id&quot;: &quot;640&quot;, &quot;properties&quot;: {&quot;Crop&quot;: 5, &quot;DryYield&quot;: 0.94, &quot;Elevation&quot;: 274.59, &quot;Heading&quot;: 0.1, &quot;Latitude&quot;: -31.59547084, &quot;Longitude&quot;: 117.4824405, &quot;Time&quot;: &quot;11/12/2020 6:58&quot;, &quot;Variety&quot;: &quot;43Y23 RR&quot;, &quot;__folium_color&quot;: &quot;#43039e&quot;, &quot;sample_id&quot;: &quot;bf66_sample_2&quot;}, &quot;type&quot;: &quot;Feature&quot;}, {&quot;bbox&quot;: [117.4824403, -31.59372247, 117.4824403, -31.59372247], &quot;geometry&quot;: {&quot;coordinates&quot;: [117.4824403, -31.59372247], &quot;type&quot;: &quot;Point&quot;}, &quot;id&quot;: &quot;641&quot;, &quot;properties&quot;: {&quot;Crop&quot;: 5, &quot;DryYield&quot;: 0.895, &quot;Elevation&quot;: 275.41, &quot;Heading&quot;: 0.3, &quot;Latitude&quot;: -31.59372247, &quot;Longitude&quot;: 117.4824403, &quot;Time&quot;: &quot;11/12/2020 6:59&quot;, &quot;Variety&quot;: &quot;43Y23 RR&quot;, &quot;__folium_color&quot;: &quot;#3f049c&quot;, &quot;sample_id&quot;: &quot;bf66_sample_2&quot;}, &quot;type&quot;: &quot;Feature&quot;}, {&quot;bbox&quot;: [117.4825664, -31.59253114, 117.4825664, -31.59253114], &quot;geometry&quot;: {&quot;coordinates&quot;: [117.4825664, -31.59253114], &quot;type&quot;: &quot;Point&quot;}, &quot;id&quot;: &quot;642&quot;, &quot;properties&quot;: {&quot;Crop&quot;: 5, &quot;DryYield&quot;: 0.677, &quot;Elevation&quot;: 273.86, &quot;Heading&quot;: 180.3, &quot;Latitude&quot;: -31.59253114, &quot;Longitude&quot;: 117.4825664, &quot;Time&quot;: &quot;11/12/2020 7:00&quot;, &quot;Variety&quot;: &quot;43Y23 RR&quot;, &quot;__folium_color&quot;: &quot;#350498&quot;, &quot;sample_id&quot;: &quot;bf66_sample_2&quot;}, &quot;type&quot;: &quot;Feature&quot;}, {&quot;bbox&quot;: [117.4825666, -31.5943117, 117.4825666, -31.5943117], &quot;geometry&quot;: {&quot;coordinates&quot;: [117.4825666, -31.5943117], &quot;type&quot;: &quot;Point&quot;}, &quot;id&quot;: &quot;643&quot;, &quot;properties&quot;: {&quot;Crop&quot;: 5, &quot;DryYield&quot;: 0.885, &quot;Elevation&quot;: 275.39, &quot;Heading&quot;: 180.0, &quot;Latitude&quot;: -31.5943117, &quot;Longitude&quot;: 117.4825666, &quot;Time&quot;: &quot;11/12/2020 7:02&quot;, &quot;Variety&quot;: &quot;43Y23 RR&quot;, &quot;__folium_color&quot;: &quot;#3f049c&quot;, &quot;sample_id&quot;: &quot;bf66_sample_2&quot;}, &quot;type&quot;: &quot;Feature&quot;}, {&quot;bbox&quot;: [117.4825669, -31.59603769, 117.4825669, -31.59603769], &quot;geometry&quot;: {&quot;coordinates&quot;: [117.4825669, -31.59603769], &quot;type&quot;: &quot;Point&quot;}, &quot;id&quot;: &quot;644&quot;, &quot;properties&quot;: {&quot;Crop&quot;: 5, &quot;DryYield&quot;: 0.979, &quot;Elevation&quot;: 273.86, &quot;Heading&quot;: 179.9, &quot;Latitude&quot;: -31.59603769, &quot;Longitude&quot;: 117.4825669, &quot;Time&quot;: &quot;11/12/2020 7:03&quot;, &quot;Variety&quot;: &quot;43Y23 RR&quot;, &quot;__folium_color&quot;: &quot;#44039e&quot;, &quot;sample_id&quot;: &quot;bf66_sample_2&quot;}, &quot;type&quot;: &quot;Feature&quot;}, {&quot;bbox&quot;: [117.4825666, -31.59784622, 117.4825666, -31.59784622], &quot;geometry&quot;: {&quot;coordinates&quot;: [117.4825666, -31.59784622], &quot;type&quot;: &quot;Point&quot;}, &quot;id&quot;: &quot;645&quot;, &quot;properties&quot;: {&quot;Crop&quot;: 5, &quot;DryYield&quot;: 0.705, &quot;Elevation&quot;: 271.65, &quot;Heading&quot;: 180.2, &quot;Latitude&quot;: -31.59784622, &quot;Longitude&quot;: 117.4825666, &quot;Time&quot;: &quot;11/12/2020 7:04&quot;, &quot;Variety&quot;: &quot;43Y23 RR&quot;, &quot;__folium_color&quot;: &quot;#370499&quot;, &quot;sample_id&quot;: &quot;bf66_sample_2&quot;}, &quot;type&quot;: &quot;Feature&quot;}, {&quot;bbox&quot;: [117.4825671, -31.59979611, 117.4825671, -31.59979611], &quot;geometry&quot;: {&quot;coordinates&quot;: [117.4825671, -31.59979611], &quot;type&quot;: &quot;Point&quot;}, &quot;id&quot;: &quot;646&quot;, &quot;properties&quot;: {&quot;Crop&quot;: 5, &quot;DryYield&quot;: 0.726, &quot;Elevation&quot;: 266.44, &quot;Heading&quot;: 179.7, &quot;Latitude&quot;: -31.59979611, &quot;Longitude&quot;: 117.4825671, &quot;Time&quot;: &quot;11/12/2020 7:06&quot;, &quot;Variety&quot;: &quot;43Y23 RR&quot;, &quot;__folium_color&quot;: &quot;#38049a&quot;, &quot;sample_id&quot;: &quot;bf66_sample_2&quot;}, &quot;type&quot;: &quot;Feature&quot;}, {&quot;bbox&quot;: [117.4829461, -31.59914396, 117.4829461, -31.59914396], &quot;geometry&quot;: {&quot;coordinates&quot;: [117.4829461, -31.59914396], &quot;type&quot;: &quot;Point&quot;}, &quot;id&quot;: &quot;647&quot;, &quot;properties&quot;: {&quot;Crop&quot;: 5, &quot;DryYield&quot;: 0.52, &quot;Elevation&quot;: 267.57, &quot;Heading&quot;: 0.0, &quot;Latitude&quot;: -31.59914396, &quot;Longitude&quot;: 117.4829461, &quot;Time&quot;: &quot;11/12/2020 7:07&quot;, &quot;Variety&quot;: &quot;43Y23 RR&quot;, &quot;__folium_color&quot;: &quot;#2e0595&quot;, &quot;sample_id&quot;: &quot;bf66_sample_2&quot;}, &quot;type&quot;: &quot;Feature&quot;}, {&quot;bbox&quot;: [117.4829461, -31.5972518, 117.4829461, -31.5972518], &quot;geometry&quot;: {&quot;coordinates&quot;: [117.4829461, -31.5972518], &quot;type&quot;: &quot;Point&quot;}, &quot;id&quot;: &quot;648&quot;, &quot;properties&quot;: {&quot;Crop&quot;: 5, &quot;DryYield&quot;: 0.707, &quot;Elevation&quot;: 271.76, &quot;Heading&quot;: 359.9, &quot;Latitude&quot;: -31.5972518, &quot;Longitude&quot;: 117.4829461, &quot;Time&quot;: &quot;11/12/2020 7:09&quot;, &quot;Variety&quot;: &quot;43Y23 RR&quot;, &quot;__folium_color&quot;: &quot;#370499&quot;, &quot;sample_id&quot;: &quot;bf66_sample_2&quot;}, &quot;type&quot;: &quot;Feature&quot;}, {&quot;bbox&quot;: [117.4828198, -31.59774511, 117.4828198, -31.59774511], &quot;geometry&quot;: {&quot;coordinates&quot;: [117.4828198, -31.59774511], &quot;type&quot;: &quot;Point&quot;}, &quot;id&quot;: &quot;649&quot;, &quot;properties&quot;: {&quot;Crop&quot;: 5, &quot;DryYield&quot;: 0.718, &quot;Elevation&quot;: 271.55, &quot;Heading&quot;: 0.1, &quot;Latitude&quot;: -31.59774511, &quot;Longitude&quot;: 117.4828198, &quot;Time&quot;: &quot;11/12/2020 7:07&quot;, &quot;Variety&quot;: &quot;43Y23 RR&quot;, &quot;__folium_color&quot;: &quot;#370499&quot;, &quot;sample_id&quot;: &quot;bf66_sample_2&quot;}, &quot;type&quot;: &quot;Feature&quot;}, {&quot;bbox&quot;: [117.4828195, -31.5958206, 117.4828195, -31.5958206], &quot;geometry&quot;: {&quot;coordinates&quot;: [117.4828195, -31.5958206], &quot;type&quot;: &quot;Point&quot;}, &quot;id&quot;: &quot;650&quot;, &quot;properties&quot;: {&quot;Crop&quot;: 5, &quot;DryYield&quot;: 1.069, &quot;Elevation&quot;: 273.87, &quot;Heading&quot;: 360.0, &quot;Latitude&quot;: -31.5958206, &quot;Longitude&quot;: 117.4828195, &quot;Time&quot;: &quot;11/12/2020 7:09&quot;, &quot;Variety&quot;: &quot;43Y23 RR&quot;, &quot;__folium_color&quot;: &quot;#48039f&quot;, &quot;sample_id&quot;: &quot;bf66_sample_2&quot;}, &quot;type&quot;: &quot;Feature&quot;}, {&quot;bbox&quot;: [117.4828198, -31.59388778, 117.4828198, -31.59388778], &quot;geometry&quot;: {&quot;coordinates&quot;: [117.4828198, -31.59388778], &quot;type&quot;: &quot;Point&quot;}, &quot;id&quot;: &quot;651&quot;, &quot;properties&quot;: {&quot;Crop&quot;: 5, &quot;DryYield&quot;: 1.154, &quot;Elevation&quot;: 274.57, &quot;Heading&quot;: 360.0, &quot;Latitude&quot;: -31.59388778, &quot;Longitude&quot;: 117.4828198, &quot;Time&quot;: &quot;11/12/2020 7:10&quot;, &quot;Variety&quot;: &quot;43Y23 RR&quot;, &quot;__folium_color&quot;: &quot;#4b03a1&quot;, &quot;sample_id&quot;: &quot;bf66_sample_2&quot;}, &quot;type&quot;: &quot;Feature&quot;}, {&quot;bbox&quot;: [117.4831983, -31.59240658, 117.4831983, -31.59240658], &quot;geometry&quot;: {&quot;coordinates&quot;: [117.4831983, -31.59240658], &quot;type&quot;: &quot;Point&quot;}, &quot;id&quot;: &quot;652&quot;, &quot;properties&quot;: {&quot;Crop&quot;: 5, &quot;DryYield&quot;: 0.842, &quot;Elevation&quot;: 271.64, &quot;Heading&quot;: 180.3, &quot;Latitude&quot;: -31.59240658, &quot;Longitude&quot;: 117.4831983, &quot;Time&quot;: &quot;11/12/2020 7:12&quot;, &quot;Variety&quot;: &quot;43Y23 RR&quot;, &quot;__folium_color&quot;: &quot;#3e049c&quot;, &quot;sample_id&quot;: &quot;bf66_sample_2&quot;}, &quot;type&quot;: &quot;Feature&quot;}, {&quot;bbox&quot;: [117.4831992, -31.59428703, 117.4831992, -31.59428703], &quot;geometry&quot;: {&quot;coordinates&quot;: [117.4831992, -31.59428703], &quot;type&quot;: &quot;Point&quot;}, &quot;id&quot;: &quot;653&quot;, &quot;properties&quot;: {&quot;Crop&quot;: 5, &quot;DryYield&quot;: 0.77, &quot;Elevation&quot;: 273.69, &quot;Heading&quot;: 180.0, &quot;Latitude&quot;: -31.59428703, &quot;Longitude&quot;: 117.4831992, &quot;Time&quot;: &quot;11/12/2020 7:13&quot;, &quot;Variety&quot;: &quot;43Y23 RR&quot;, &quot;__folium_color&quot;: &quot;#3a049a&quot;, &quot;sample_id&quot;: &quot;bf66_sample_2&quot;}, &quot;type&quot;: &quot;Feature&quot;}, {&quot;bbox&quot;: [117.4831988, -31.59619181, 117.4831988, -31.59619181], &quot;geometry&quot;: {&quot;coordinates&quot;: [117.4831988, -31.59619181], &quot;type&quot;: &quot;Point&quot;}, &quot;id&quot;: &quot;654&quot;, &quot;properties&quot;: {&quot;Crop&quot;: 5, &quot;DryYield&quot;: 1.1, &quot;Elevation&quot;: 272.91, &quot;Heading&quot;: 180.3, &quot;Latitude&quot;: -31.59619181, &quot;Longitude&quot;: 117.4831988, &quot;Time&quot;: &quot;11/12/2020 7:14&quot;, &quot;Variety&quot;: &quot;43Y23 RR&quot;, &quot;__folium_color&quot;: &quot;#4903a0&quot;, &quot;sample_id&quot;: &quot;bf66_sample_2&quot;}, &quot;type&quot;: &quot;Feature&quot;}, {&quot;bbox&quot;: [117.483199, -31.59812381, 117.483199, -31.59812381], &quot;geometry&quot;: {&quot;coordinates&quot;: [117.483199, -31.59812381], &quot;type&quot;: &quot;Point&quot;}, &quot;id&quot;: &quot;655&quot;, &quot;properties&quot;: {&quot;Crop&quot;: 5, &quot;DryYield&quot;: 0.624, &quot;Elevation&quot;: 270.07, &quot;Heading&quot;: 179.8, &quot;Latitude&quot;: -31.59812381, &quot;Longitude&quot;: 117.483199, &quot;Time&quot;: &quot;11/12/2020 7:16&quot;, &quot;Variety&quot;: &quot;43Y23 RR&quot;, &quot;__folium_color&quot;: &quot;#330597&quot;, &quot;sample_id&quot;: &quot;bf66_sample_2&quot;}, &quot;type&quot;: &quot;Feature&quot;}, {&quot;bbox&quot;: [117.4833984, -31.59995636, 117.4833984, -31.59995636], &quot;geometry&quot;: {&quot;coordinates&quot;: [117.4833984, -31.59995636], &quot;type&quot;: &quot;Point&quot;}, &quot;id&quot;: &quot;656&quot;, &quot;properties&quot;: {&quot;Crop&quot;: 5, &quot;DryYield&quot;: 9.243, &quot;Elevation&quot;: 264.82, &quot;Heading&quot;: 2.0, &quot;Latitude&quot;: -31.59995636, &quot;Longitude&quot;: 117.4833984, &quot;Time&quot;: &quot;11/12/2020 7:17&quot;, &quot;Variety&quot;: &quot;43Y23 RR&quot;, &quot;__folium_color&quot;: &quot;#f0f921&quot;, &quot;sample_id&quot;: &quot;bf66_sample_2&quot;}, &quot;type&quot;: &quot;Feature&quot;}, {&quot;bbox&quot;: [117.4833256, -31.59787579, 117.4833256, -31.59787579], &quot;geometry&quot;: {&quot;coordinates&quot;: [117.4833256, -31.59787579], &quot;type&quot;: &quot;Point&quot;}, &quot;id&quot;: &quot;657&quot;, &quot;properties&quot;: {&quot;Crop&quot;: 5, &quot;DryYield&quot;: 0.61, &quot;Elevation&quot;: 270.0, &quot;Heading&quot;: 0.0, &quot;Latitude&quot;: -31.59787579, &quot;Longitude&quot;: 117.4833256, &quot;Time&quot;: &quot;11/12/2020 7:18&quot;, &quot;Variety&quot;: &quot;43Y23 RR&quot;, &quot;__folium_color&quot;: &quot;#310597&quot;, &quot;sample_id&quot;: &quot;bf66_sample_2&quot;}, &quot;type&quot;: &quot;Feature&quot;}, {&quot;bbox&quot;: [117.4833256, -31.5958635, 117.4833256, -31.5958635], &quot;geometry&quot;: {&quot;coordinates&quot;: [117.4833256, -31.5958635], &quot;type&quot;: &quot;Point&quot;}, &quot;id&quot;: &quot;658&quot;, &quot;properties&quot;: {&quot;Crop&quot;: 5, &quot;DryYield&quot;: 1.052, &quot;Elevation&quot;: 272.9, &quot;Heading&quot;: 0.2, &quot;Latitude&quot;: -31.5958635, &quot;Longitude&quot;: 117.4833256, &quot;Time&quot;: &quot;11/12/2020 7:20&quot;, &quot;Variety&quot;: &quot;43Y23 RR&quot;, &quot;__folium_color&quot;: &quot;#48039f&quot;, &quot;sample_id&quot;: &quot;bf66_sample_2&quot;}, &quot;type&quot;: &quot;Feature&quot;}, {&quot;bbox&quot;: [117.4833256, -31.59390034, 117.4833256, -31.59390034], &quot;geometry&quot;: {&quot;coordinates&quot;: [117.4833256, -31.59390034], &quot;type&quot;: &quot;Point&quot;}, &quot;id&quot;: &quot;659&quot;, &quot;properties&quot;: {&quot;Crop&quot;: 5, &quot;DryYield&quot;: 0.729, &quot;Elevation&quot;: 273.01, &quot;Heading&quot;: 0.1, &quot;Latitude&quot;: -31.59390034, &quot;Longitude&quot;: 117.4833256, &quot;Time&quot;: &quot;11/12/2020 7:21&quot;, &quot;Variety&quot;: &quot;43Y23 RR&quot;, &quot;__folium_color&quot;: &quot;#38049a&quot;, &quot;sample_id&quot;: &quot;bf66_sample_2&quot;}, &quot;type&quot;: &quot;Feature&quot;}, {&quot;bbox&quot;: [117.4834438, -31.59190344, 117.4834438, -31.59190344], &quot;geometry&quot;: {&quot;coordinates&quot;: [117.4834438, -31.59190344], &quot;type&quot;: &quot;Point&quot;}, &quot;id&quot;: &quot;660&quot;, &quot;properties&quot;: {&quot;Crop&quot;: 5, &quot;DryYield&quot;: 0.262, &quot;Elevation&quot;: 270.41, &quot;Heading&quot;: 27.8, &quot;Latitude&quot;: -31.59190344, &quot;Longitude&quot;: 117.4834438, &quot;Time&quot;: &quot;11/12/2020 7:22&quot;, &quot;Variety&quot;: &quot;43Y23 RR&quot;, &quot;__folium_color&quot;: &quot;#20068f&quot;, &quot;sample_id&quot;: &quot;bf66_sample_2&quot;}, &quot;type&quot;: &quot;Feature&quot;}, {&quot;bbox&quot;: [117.4837049, -31.59367743, 117.4837049, -31.59367743], &quot;geometry&quot;: {&quot;coordinates&quot;: [117.4837049, -31.59367743], &quot;type&quot;: &quot;Point&quot;}, &quot;id&quot;: &quot;661&quot;, &quot;properties&quot;: {&quot;Crop&quot;: 5, &quot;DryYield&quot;: 1.024, &quot;Elevation&quot;: 271.48, &quot;Heading&quot;: 179.7, &quot;Latitude&quot;: -31.59367743, &quot;Longitude&quot;: 117.4837049, &quot;Time&quot;: &quot;11/12/2020 7:24&quot;, &quot;Variety&quot;: &quot;43Y23 RR&quot;, &quot;__folium_color&quot;: &quot;#46039f&quot;, &quot;sample_id&quot;: &quot;bf66_sample_2&quot;}, &quot;type&quot;: &quot;Feature&quot;}, {&quot;bbox&quot;: [117.4837049, -31.59561041, 117.4837049, -31.59561041], &quot;geometry&quot;: {&quot;coordinates&quot;: [117.4837049, -31.59561041], &quot;type&quot;: &quot;Point&quot;}, &quot;id&quot;: &quot;662&quot;, &quot;properties&quot;: {&quot;Crop&quot;: 5, &quot;DryYield&quot;: 0.848, &quot;Elevation&quot;: 272.41, &quot;Heading&quot;: 179.9, &quot;Latitude&quot;: -31.59561041, &quot;Longitude&quot;: 117.4837049, &quot;Time&quot;: &quot;11/12/2020 7:25&quot;, &quot;Variety&quot;: &quot;43Y23 RR&quot;, &quot;__folium_color&quot;: &quot;#3e049c&quot;, &quot;sample_id&quot;: &quot;bf66_sample_2&quot;}, &quot;type&quot;: &quot;Feature&quot;}, {&quot;bbox&quot;: [117.4837051, -31.59765319, 117.4837051, -31.59765319], &quot;geometry&quot;: {&quot;coordinates&quot;: [117.4837051, -31.59765319], &quot;type&quot;: &quot;Point&quot;}, &quot;id&quot;: &quot;663&quot;, &quot;properties&quot;: {&quot;Crop&quot;: 5, &quot;DryYield&quot;: 0.808, &quot;Elevation&quot;: 269.65, &quot;Heading&quot;: 180.1, &quot;Latitude&quot;: -31.59765319, &quot;Longitude&quot;: 117.4837051, &quot;Time&quot;: &quot;11/12/2020 7:26&quot;, &quot;Variety&quot;: &quot;43Y23 RR&quot;, &quot;__folium_color&quot;: &quot;#3c049b&quot;, &quot;sample_id&quot;: &quot;bf66_sample_2&quot;}, &quot;type&quot;: &quot;Feature&quot;}, {&quot;bbox&quot;: [117.4837754, -31.59959589, 117.4837754, -31.59959589], &quot;geometry&quot;: {&quot;coordinates&quot;: [117.4837754, -31.59959589], &quot;type&quot;: &quot;Point&quot;}, &quot;id&quot;: &quot;664&quot;, &quot;properties&quot;: {&quot;Crop&quot;: 5, &quot;DryYield&quot;: 0.206, &quot;Elevation&quot;: 264.94, &quot;Heading&quot;: 1.1, &quot;Latitude&quot;: -31.59959589, &quot;Longitude&quot;: 117.4837754, &quot;Time&quot;: &quot;11/12/2020 7:29&quot;, &quot;Variety&quot;: &quot;43Y23 RR&quot;, &quot;__folium_color&quot;: &quot;#1b068d&quot;, &quot;sample_id&quot;: &quot;bf66_sample_2&quot;}, &quot;type&quot;: &quot;Feature&quot;}, {&quot;bbox&quot;: [117.483831, -31.59752818, 117.483831, -31.59752818], &quot;geometry&quot;: {&quot;coordinates&quot;: [117.483831, -31.59752818], &quot;type&quot;: &quot;Point&quot;}, &quot;id&quot;: &quot;665&quot;, &quot;properties&quot;: {&quot;Crop&quot;: 5, &quot;DryYield&quot;: 0.519, &quot;Elevation&quot;: 269.3, &quot;Heading&quot;: 359.9, &quot;Latitude&quot;: -31.59752818, &quot;Longitude&quot;: 117.483831, &quot;Time&quot;: &quot;11/12/2020 7:30&quot;, &quot;Variety&quot;: &quot;43Y23 RR&quot;, &quot;__folium_color&quot;: &quot;#2e0595&quot;, &quot;sample_id&quot;: &quot;bf66_sample_2&quot;}, &quot;type&quot;: &quot;Feature&quot;}, {&quot;bbox&quot;: [117.4838316, -31.59534077, 117.4838316, -31.59534077], &quot;geometry&quot;: {&quot;coordinates&quot;: [117.4838316, -31.59534077], &quot;type&quot;: &quot;Point&quot;}, &quot;id&quot;: &quot;666&quot;, &quot;properties&quot;: {&quot;Crop&quot;: 5, &quot;DryYield&quot;: 0.652, &quot;Elevation&quot;: 272.28, &quot;Heading&quot;: 0.1, &quot;Latitude&quot;: -31.59534077, &quot;Longitude&quot;: 117.4838316, &quot;Time&quot;: &quot;11/12/2020 7:31&quot;, &quot;Variety&quot;: &quot;43Y23 RR&quot;, &quot;__folium_color&quot;: &quot;#350498&quot;, &quot;sample_id&quot;: &quot;bf66_sample_2&quot;}, &quot;type&quot;: &quot;Feature&quot;}, {&quot;bbox&quot;: [117.4838314, -31.59314167, 117.4838314, -31.59314167], &quot;geometry&quot;: {&quot;coordinates&quot;: [117.4838314, -31.59314167], &quot;type&quot;: &quot;Point&quot;}, &quot;id&quot;: &quot;667&quot;, &quot;properties&quot;: {&quot;Crop&quot;: 5, &quot;DryYield&quot;: 1.059, &quot;Elevation&quot;: 270.5, &quot;Heading&quot;: 0.2, &quot;Latitude&quot;: -31.59314167, &quot;Longitude&quot;: 117.4838314, &quot;Time&quot;: &quot;11/12/2020 7:32&quot;, &quot;Variety&quot;: &quot;43Y23 RR&quot;, &quot;__folium_color&quot;: &quot;#48039f&quot;, &quot;sample_id&quot;: &quot;bf66_sample_2&quot;}, &quot;type&quot;: &quot;Feature&quot;}, {&quot;bbox&quot;: [117.4842107, -31.59262398, 117.4842107, -31.59262398], &quot;geometry&quot;: {&quot;coordinates&quot;: [117.4842107, -31.59262398], &quot;type&quot;: &quot;Point&quot;}, &quot;id&quot;: &quot;668&quot;, &quot;properties&quot;: {&quot;Crop&quot;: 5, &quot;DryYield&quot;: 0.876, &quot;Elevation&quot;: 268.4, &quot;Heading&quot;: 180.1, &quot;Latitude&quot;: -31.59262398, &quot;Longitude&quot;: 117.4842107, &quot;Time&quot;: &quot;11/12/2020 7:34&quot;, &quot;Variety&quot;: &quot;43Y23 RR&quot;, &quot;__folium_color&quot;: &quot;#3f049c&quot;, &quot;sample_id&quot;: &quot;bf66_sample_2&quot;}, &quot;type&quot;: &quot;Feature&quot;}, {&quot;bbox&quot;: [117.4842107, -31.59475339, 117.4842107, -31.59475339], &quot;geometry&quot;: {&quot;coordinates&quot;: [117.4842107, -31.59475339], &quot;type&quot;: &quot;Point&quot;}, &quot;id&quot;: &quot;669&quot;, &quot;properties&quot;: {&quot;Crop&quot;: 5, &quot;DryYield&quot;: 0.711, &quot;Elevation&quot;: 271.17, &quot;Heading&quot;: 179.9, &quot;Latitude&quot;: -31.59475339, &quot;Longitude&quot;: 117.4842107, &quot;Time&quot;: &quot;11/12/2020 7:35&quot;, &quot;Variety&quot;: &quot;43Y23 RR&quot;, &quot;__folium_color&quot;: &quot;#370499&quot;, &quot;sample_id&quot;: &quot;bf66_sample_2&quot;}, &quot;type&quot;: &quot;Feature&quot;}, {&quot;bbox&quot;: [117.4842104, -31.59694403, 117.4842104, -31.59694403], &quot;geometry&quot;: {&quot;coordinates&quot;: [117.4842104, -31.59694403], &quot;type&quot;: &quot;Point&quot;}, &quot;id&quot;: &quot;670&quot;, &quot;properties&quot;: {&quot;Crop&quot;: 5, &quot;DryYield&quot;: 0.609, &quot;Elevation&quot;: 269.49, &quot;Heading&quot;: 180.2, &quot;Latitude&quot;: -31.59694403, &quot;Longitude&quot;: 117.4842104, &quot;Time&quot;: &quot;11/12/2020 7:37&quot;, &quot;Variety&quot;: &quot;43Y23 RR&quot;, &quot;__folium_color&quot;: &quot;#310597&quot;, &quot;sample_id&quot;: &quot;bf66_sample_2&quot;}, &quot;type&quot;: &quot;Feature&quot;}, {&quot;bbox&quot;: [117.4842107, -31.59909662, 117.4842107, -31.59909662], &quot;geometry&quot;: {&quot;coordinates&quot;: [117.4842107, -31.59909662], &quot;type&quot;: &quot;Point&quot;}, &quot;id&quot;: &quot;671&quot;, &quot;properties&quot;: {&quot;Crop&quot;: 5, &quot;DryYield&quot;: 0.499, &quot;Elevation&quot;: 265.72, &quot;Heading&quot;: 180.0, &quot;Latitude&quot;: -31.59909662, &quot;Longitude&quot;: 117.4842107, &quot;Time&quot;: &quot;11/12/2020 7:38&quot;, &quot;Variety&quot;: &quot;43Y23 RR&quot;, &quot;__folium_color&quot;: &quot;#2c0594&quot;, &quot;sample_id&quot;: &quot;bf66_sample_2&quot;}, &quot;type&quot;: &quot;Feature&quot;}, {&quot;bbox&quot;: [117.4843375, -31.59748957, 117.4843375, -31.59748957], &quot;geometry&quot;: {&quot;coordinates&quot;: [117.4843375, -31.59748957], &quot;type&quot;: &quot;Point&quot;}, &quot;id&quot;: &quot;672&quot;, &quot;properties&quot;: {&quot;Crop&quot;: 5, &quot;DryYield&quot;: 0.488, &quot;Elevation&quot;: 268.16, &quot;Heading&quot;: 0.3, &quot;Latitude&quot;: -31.59748957, &quot;Longitude&quot;: 117.4843375, &quot;Time&quot;: &quot;11/12/2020 7:40&quot;, &quot;Variety&quot;: &quot;43Y23 RR&quot;, &quot;__folium_color&quot;: &quot;#2c0594&quot;, &quot;sample_id&quot;: &quot;bf66_sample_2&quot;}, &quot;type&quot;: &quot;Feature&quot;}, {&quot;bbox&quot;: [117.4843372, -31.59530094, 117.4843372, -31.59530094], &quot;geometry&quot;: {&quot;coordinates&quot;: [117.4843372, -31.59530094], &quot;type&quot;: &quot;Point&quot;}, &quot;id&quot;: &quot;673&quot;, &quot;properties&quot;: {&quot;Crop&quot;: 5, &quot;DryYield&quot;: 0.683, &quot;Elevation&quot;: 271.4, &quot;Heading&quot;: 0.1, &quot;Latitude&quot;: -31.59530094, &quot;Longitude&quot;: 117.4843372, &quot;Time&quot;: &quot;11/12/2020 7:41&quot;, &quot;Variety&quot;: &quot;43Y23 RR&quot;, &quot;__folium_color&quot;: &quot;#350498&quot;, &quot;sample_id&quot;: &quot;bf66_sample_2&quot;}, &quot;type&quot;: &quot;Feature&quot;}, {&quot;bbox&quot;: [117.4843372, -31.59309984, 117.4843372, -31.59309984], &quot;geometry&quot;: {&quot;coordinates&quot;: [117.4843372, -31.59309984], &quot;type&quot;: &quot;Point&quot;}, &quot;id&quot;: &quot;674&quot;, &quot;properties&quot;: {&quot;Crop&quot;: 5, &quot;DryYield&quot;: 0.837, &quot;Elevation&quot;: 268.59, &quot;Heading&quot;: 0.0, &quot;Latitude&quot;: -31.59309984, &quot;Longitude&quot;: 117.4843372, &quot;Time&quot;: &quot;11/12/2020 7:42&quot;, &quot;Variety&quot;: &quot;43Y23 RR&quot;, &quot;__folium_color&quot;: &quot;#3e049c&quot;, &quot;sample_id&quot;: &quot;bf66_sample_2&quot;}, &quot;type&quot;: &quot;Feature&quot;}, {&quot;bbox&quot;: [117.484794, -31.59221584, 117.484794, -31.59221584], &quot;geometry&quot;: {&quot;coordinates&quot;: [117.484794, -31.59221584], &quot;type&quot;: &quot;Point&quot;}, &quot;id&quot;: &quot;675&quot;, &quot;properties&quot;: {&quot;Crop&quot;: 5, &quot;DryYield&quot;: 0.584, &quot;Elevation&quot;: 266.1, &quot;Heading&quot;: 356.2, &quot;Latitude&quot;: -31.59221584, &quot;Longitude&quot;: 117.484794, &quot;Time&quot;: &quot;11/12/2020 7:44&quot;, &quot;Variety&quot;: &quot;43Y23 RR&quot;, &quot;__folium_color&quot;: &quot;#310597&quot;, &quot;sample_id&quot;: &quot;bf66_sample_2&quot;}, &quot;type&quot;: &quot;Feature&quot;}, {&quot;bbox&quot;: [117.4847165, -31.59435613, 117.4847165, -31.59435613], &quot;geometry&quot;: {&quot;coordinates&quot;: [117.4847165, -31.59435613], &quot;type&quot;: &quot;Point&quot;}, &quot;id&quot;: &quot;676&quot;, &quot;properties&quot;: {&quot;Crop&quot;: 5, &quot;DryYield&quot;: 0.455, &quot;Elevation&quot;: 269.5, &quot;Heading&quot;: 180.1, &quot;Latitude&quot;: -31.59435613, &quot;Longitude&quot;: 117.4847165, &quot;Time&quot;: &quot;11/12/2020 7:46&quot;, &quot;Variety&quot;: &quot;43Y23 RR&quot;, &quot;__folium_color&quot;: &quot;#2a0593&quot;, &quot;sample_id&quot;: &quot;bf66_sample_2&quot;}, &quot;type&quot;: &quot;Feature&quot;}, {&quot;bbox&quot;: [117.4847163, -31.59651139, 117.4847163, -31.59651139], &quot;geometry&quot;: {&quot;coordinates&quot;: [117.4847163, -31.59651139], &quot;type&quot;: &quot;Point&quot;}, &quot;id&quot;: &quot;677&quot;, &quot;properties&quot;: {&quot;Crop&quot;: 5, &quot;DryYield&quot;: 0.42, &quot;Elevation&quot;: 269.65, &quot;Heading&quot;: 180.4, &quot;Latitude&quot;: -31.59651139, &quot;Longitude&quot;: 117.4847163, &quot;Time&quot;: &quot;11/12/2020 7:47&quot;, &quot;Variety&quot;: &quot;43Y23 RR&quot;, &quot;__folium_color&quot;: &quot;#280592&quot;, &quot;sample_id&quot;: &quot;bf66_sample_2&quot;}, &quot;type&quot;: &quot;Feature&quot;}, {&quot;bbox&quot;: [117.4847163, -31.59858831, 117.4847163, -31.59858831], &quot;geometry&quot;: {&quot;coordinates&quot;: [117.4847163, -31.59858831], &quot;type&quot;: &quot;Point&quot;}, &quot;id&quot;: &quot;678&quot;, &quot;properties&quot;: {&quot;Crop&quot;: 5, &quot;DryYield&quot;: 0.525, &quot;Elevation&quot;: 266.29, &quot;Heading&quot;: 180.1, &quot;Latitude&quot;: -31.59858831, &quot;Longitude&quot;: 117.4847163, &quot;Time&quot;: &quot;11/12/2020 7:49&quot;, &quot;Variety&quot;: &quot;43Y23 RR&quot;, &quot;__folium_color&quot;: &quot;#2e0595&quot;, &quot;sample_id&quot;: &quot;bf66_sample_2&quot;}, &quot;type&quot;: &quot;Feature&quot;}, {&quot;bbox&quot;: [117.4848429, -31.59763695, 117.4848429, -31.59763695], &quot;geometry&quot;: {&quot;coordinates&quot;: [117.4848429, -31.59763695], &quot;type&quot;: &quot;Point&quot;}, &quot;id&quot;: &quot;679&quot;, &quot;properties&quot;: {&quot;Crop&quot;: 5, &quot;DryYield&quot;: 0.469, &quot;Elevation&quot;: 267.67, &quot;Heading&quot;: 0.7, &quot;Latitude&quot;: -31.59763695, &quot;Longitude&quot;: 117.4848429, &quot;Time&quot;: &quot;11/12/2020 7:50&quot;, &quot;Variety&quot;: &quot;43Y23 RR&quot;, &quot;__folium_color&quot;: &quot;#2a0593&quot;, &quot;sample_id&quot;: &quot;bf66_sample_2&quot;}, &quot;type&quot;: &quot;Feature&quot;}, {&quot;bbox&quot;: [117.4848428, -31.59544908, 117.4848428, -31.59544908], &quot;geometry&quot;: {&quot;coordinates&quot;: [117.4848428, -31.59544908], &quot;type&quot;: &quot;Point&quot;}, &quot;id&quot;: &quot;680&quot;, &quot;properties&quot;: {&quot;Crop&quot;: 5, &quot;DryYield&quot;: 0.653, &quot;Elevation&quot;: 270.92, &quot;Heading&quot;: 0.0, &quot;Latitude&quot;: -31.59544908, &quot;Longitude&quot;: 117.4848428, &quot;Time&quot;: &quot;11/12/2020 7:51&quot;, &quot;Variety&quot;: &quot;43Y23 RR&quot;, &quot;__folium_color&quot;: &quot;#350498&quot;, &quot;sample_id&quot;: &quot;bf66_sample_2&quot;}, &quot;type&quot;: &quot;Feature&quot;}, {&quot;bbox&quot;: [117.4849543, -31.59354598, 117.4849543, -31.59354598], &quot;geometry&quot;: {&quot;coordinates&quot;: [117.4849543, -31.59354598], &quot;type&quot;: &quot;Point&quot;}, &quot;id&quot;: &quot;681&quot;, &quot;properties&quot;: {&quot;Crop&quot;: 5, &quot;DryYield&quot;: 0.49, &quot;Elevation&quot;: 267.55, &quot;Heading&quot;: 180.2, &quot;Latitude&quot;: -31.59354598, &quot;Longitude&quot;: 117.4849543, &quot;Time&quot;: &quot;11/12/2020 7:53&quot;, &quot;Variety&quot;: &quot;43Y23 RR&quot;, &quot;__folium_color&quot;: &quot;#2c0594&quot;, &quot;sample_id&quot;: &quot;bf66_sample_2&quot;}, &quot;type&quot;: &quot;Feature&quot;}, {&quot;bbox&quot;: [117.4849696, -31.5956674, 117.4849696, -31.5956674], &quot;geometry&quot;: {&quot;coordinates&quot;: [117.4849696, -31.5956674], &quot;type&quot;: &quot;Point&quot;}, &quot;id&quot;: &quot;682&quot;, &quot;properties&quot;: {&quot;Crop&quot;: 5, &quot;DryYield&quot;: 0.615, &quot;Elevation&quot;: 270.89, &quot;Heading&quot;: 179.7, &quot;Latitude&quot;: -31.5956674, &quot;Longitude&quot;: 117.4849696, &quot;Time&quot;: &quot;11/12/2020 7:54&quot;, &quot;Variety&quot;: &quot;43Y23 RR&quot;, &quot;__folium_color&quot;: &quot;#330597&quot;, &quot;sample_id&quot;: &quot;bf66_sample_2&quot;}, &quot;type&quot;: &quot;Feature&quot;}, {&quot;bbox&quot;: [117.4849688, -31.59781328, 117.4849688, -31.59781328], &quot;geometry&quot;: {&quot;coordinates&quot;: [117.4849688, -31.59781328], &quot;type&quot;: &quot;Point&quot;}, &quot;id&quot;: &quot;683&quot;, &quot;properties&quot;: {&quot;Crop&quot;: 5, &quot;DryYield&quot;: 0.49, &quot;Elevation&quot;: 267.49, &quot;Heading&quot;: 180.2, &quot;Latitude&quot;: -31.59781328, &quot;Longitude&quot;: 117.4849688, &quot;Time&quot;: &quot;11/12/2020 7:56&quot;, &quot;Variety&quot;: &quot;43Y23 RR&quot;, &quot;__folium_color&quot;: &quot;#2c0594&quot;, &quot;sample_id&quot;: &quot;bf66_sample_2&quot;}, &quot;type&quot;: &quot;Feature&quot;}, {&quot;bbox&quot;: [117.485096, -31.59824699, 117.485096, -31.59824699], &quot;geometry&quot;: {&quot;coordinates&quot;: [117.485096, -31.59824699], &quot;type&quot;: &quot;Point&quot;}, &quot;id&quot;: &quot;684&quot;, &quot;properties&quot;: {&quot;Crop&quot;: 5, &quot;DryYield&quot;: 0.306, &quot;Elevation&quot;: 266.87, &quot;Heading&quot;: 0.2, &quot;Latitude&quot;: -31.59824699, &quot;Longitude&quot;: 117.485096, &quot;Time&quot;: &quot;11/12/2020 7:57&quot;, &quot;Variety&quot;: &quot;43Y23 RR&quot;, &quot;__folium_color&quot;: &quot;#220690&quot;, &quot;sample_id&quot;: &quot;bf66_sample_2&quot;}, &quot;type&quot;: &quot;Feature&quot;}, {&quot;bbox&quot;: [117.4829459, -31.59573879, 117.4829459, -31.59573879], &quot;geometry&quot;: {&quot;coordinates&quot;: [117.4829459, -31.59573879], &quot;type&quot;: &quot;Point&quot;}, &quot;id&quot;: &quot;685&quot;, &quot;properties&quot;: {&quot;Crop&quot;: 5, &quot;DryYield&quot;: 0.845, &quot;Elevation&quot;: 273.63, &quot;Heading&quot;: 359.6, &quot;Latitude&quot;: -31.59573879, &quot;Longitude&quot;: 117.4829459, &quot;Time&quot;: &quot;11/12/2020 7:10&quot;, &quot;Variety&quot;: &quot;43Y23 RR&quot;, &quot;__folium_color&quot;: &quot;#3e049c&quot;, &quot;sample_id&quot;: &quot;bf66_sample_2&quot;}, &quot;type&quot;: &quot;Feature&quot;}, {&quot;bbox&quot;: [117.4829463, -31.59394753, 117.4829463, -31.59394753], &quot;geometry&quot;: {&quot;coordinates&quot;: [117.4829463, -31.59394753], &quot;type&quot;: &quot;Point&quot;}, &quot;id&quot;: &quot;686&quot;, &quot;properties&quot;: {&quot;Crop&quot;: 5, &quot;DryYield&quot;: 0.754, &quot;Elevation&quot;: 274.01, &quot;Heading&quot;: 0.2, &quot;Latitude&quot;: -31.59394753, &quot;Longitude&quot;: 117.4829463, &quot;Time&quot;: &quot;11/12/2020 7:11&quot;, &quot;Variety&quot;: &quot;43Y23 RR&quot;, &quot;__folium_color&quot;: &quot;#38049a&quot;, &quot;sample_id&quot;: &quot;bf66_sample_2&quot;}, &quot;type&quot;: &quot;Feature&quot;}, {&quot;bbox&quot;: [117.4831009, -31.5921806, 117.4831009, -31.5921806], &quot;geometry&quot;: {&quot;coordinates&quot;: [117.4831009, -31.5921806], &quot;type&quot;: &quot;Point&quot;}, &quot;id&quot;: &quot;687&quot;, &quot;properties&quot;: {&quot;Crop&quot;: 5, &quot;DryYield&quot;: 0.214, &quot;Elevation&quot;: 271.65, &quot;Heading&quot;: 142.4, &quot;Latitude&quot;: -31.5921806, &quot;Longitude&quot;: 117.4831009, &quot;Time&quot;: &quot;11/12/2020 7:12&quot;, &quot;Variety&quot;: &quot;43Y23 RR&quot;, &quot;__folium_color&quot;: &quot;#1b068d&quot;, &quot;sample_id&quot;: &quot;bf66_sample_2&quot;}, &quot;type&quot;: &quot;Feature&quot;}, {&quot;bbox&quot;: [117.4830727, -31.59395151, 117.4830727, -31.59395151], &quot;geometry&quot;: {&quot;coordinates&quot;: [117.4830727, -31.59395151], &quot;type&quot;: &quot;Point&quot;}, &quot;id&quot;: &quot;688&quot;, &quot;properties&quot;: {&quot;Crop&quot;: 5, &quot;DryYield&quot;: 0.743, &quot;Elevation&quot;: 273.62, &quot;Heading&quot;: 179.7, &quot;Latitude&quot;: -31.59395151, &quot;Longitude&quot;: 117.4830727, &quot;Time&quot;: &quot;11/12/2020 7:14&quot;, &quot;Variety&quot;: &quot;43Y23 RR&quot;, &quot;__folium_color&quot;: &quot;#38049a&quot;, &quot;sample_id&quot;: &quot;bf66_sample_2&quot;}, &quot;type&quot;: &quot;Feature&quot;}, {&quot;bbox&quot;: [117.4830722, -31.59595603, 117.4830722, -31.59595603], &quot;geometry&quot;: {&quot;coordinates&quot;: [117.4830722, -31.59595603], &quot;type&quot;: &quot;Point&quot;}, &quot;id&quot;: &quot;689&quot;, &quot;properties&quot;: {&quot;Crop&quot;: 5, &quot;DryYield&quot;: 0.766, &quot;Elevation&quot;: 273.22, &quot;Heading&quot;: 180.3, &quot;Latitude&quot;: -31.59595603, &quot;Longitude&quot;: 117.4830722, &quot;Time&quot;: &quot;11/12/2020 7:15&quot;, &quot;Variety&quot;: &quot;43Y23 RR&quot;, &quot;__folium_color&quot;: &quot;#3a049a&quot;, &quot;sample_id&quot;: &quot;bf66_sample_2&quot;}, &quot;type&quot;: &quot;Feature&quot;}, {&quot;bbox&quot;: [117.483072, -31.59790413, 117.483072, -31.59790413], &quot;geometry&quot;: {&quot;coordinates&quot;: [117.483072, -31.59790413], &quot;type&quot;: &quot;Point&quot;}, &quot;id&quot;: &quot;690&quot;, &quot;properties&quot;: {&quot;Crop&quot;: 5, &quot;DryYield&quot;: 0.534, &quot;Elevation&quot;: 270.66, &quot;Heading&quot;: 180.6, &quot;Latitude&quot;: -31.59790413, &quot;Longitude&quot;: 117.483072, &quot;Time&quot;: &quot;11/12/2020 7:16&quot;, &quot;Variety&quot;: &quot;43Y23 RR&quot;, &quot;__folium_color&quot;: &quot;#2e0595&quot;, &quot;sample_id&quot;: &quot;bf66_sample_2&quot;}, &quot;type&quot;: &quot;Feature&quot;}, {&quot;bbox&quot;: [117.4830731, -31.59995161, 117.4830731, -31.59995161], &quot;geometry&quot;: {&quot;coordinates&quot;: [117.4830731, -31.59995161], &quot;type&quot;: &quot;Point&quot;}, &quot;id&quot;: &quot;691&quot;, &quot;properties&quot;: {&quot;Crop&quot;: 5, &quot;DryYield&quot;: 0.333, &quot;Elevation&quot;: 265.23, &quot;Heading&quot;: 179.9, &quot;Latitude&quot;: -31.59995161, &quot;Longitude&quot;: 117.4830731, &quot;Time&quot;: &quot;11/12/2020 7:18&quot;, &quot;Variety&quot;: &quot;43Y23 RR&quot;, &quot;__folium_color&quot;: &quot;#240691&quot;, &quot;sample_id&quot;: &quot;bf66_sample_2&quot;}, &quot;type&quot;: &quot;Feature&quot;}, {&quot;bbox&quot;: [117.4834519, -31.59808092, 117.4834519, -31.59808092], &quot;geometry&quot;: {&quot;coordinates&quot;: [117.4834519, -31.59808092], &quot;type&quot;: &quot;Point&quot;}, &quot;id&quot;: &quot;692&quot;, &quot;properties&quot;: {&quot;Crop&quot;: 5, &quot;DryYield&quot;: 0.548, &quot;Elevation&quot;: 269.19, &quot;Heading&quot;: 360.0, &quot;Latitude&quot;: -31.59808092, &quot;Longitude&quot;: 117.4834519, &quot;Time&quot;: &quot;11/12/2020 7:19&quot;, &quot;Variety&quot;: &quot;43Y23 RR&quot;, &quot;__folium_color&quot;: &quot;#2f0596&quot;, &quot;sample_id&quot;: &quot;bf66_sample_2&quot;}, &quot;type&quot;: &quot;Feature&quot;}, {&quot;bbox&quot;: [117.4834517, -31.59607614, 117.4834517, -31.59607614], &quot;geometry&quot;: {&quot;coordinates&quot;: [117.4834517, -31.59607614], &quot;type&quot;: &quot;Point&quot;}, &quot;id&quot;: &quot;693&quot;, &quot;properties&quot;: {&quot;Crop&quot;: 5, &quot;DryYield&quot;: 0.62, &quot;Elevation&quot;: 272.18, &quot;Heading&quot;: 0.0, &quot;Latitude&quot;: -31.59607614, &quot;Longitude&quot;: 117.4834517, &quot;Time&quot;: &quot;11/12/2020 7:21&quot;, &quot;Variety&quot;: &quot;43Y23 RR&quot;, &quot;__folium_color&quot;: &quot;#330597&quot;, &quot;sample_id&quot;: &quot;bf66_sample_2&quot;}, &quot;type&quot;: &quot;Feature&quot;}, {&quot;bbox&quot;: [117.483452, -31.59402168, 117.483452, -31.59402168], &quot;geometry&quot;: {&quot;coordinates&quot;: [117.483452, -31.59402168], &quot;type&quot;: &quot;Point&quot;}, &quot;id&quot;: &quot;694&quot;, &quot;properties&quot;: {&quot;Crop&quot;: 5, &quot;DryYield&quot;: 0.614, &quot;Elevation&quot;: 272.64, &quot;Heading&quot;: 0.0, &quot;Latitude&quot;: -31.59402168, &quot;Longitude&quot;: 117.483452, &quot;Time&quot;: &quot;11/12/2020 7:22&quot;, &quot;Variety&quot;: &quot;43Y23 RR&quot;, &quot;__folium_color&quot;: &quot;#330597&quot;, &quot;sample_id&quot;: &quot;bf66_sample_2&quot;}, &quot;type&quot;: &quot;Feature&quot;}, {&quot;bbox&quot;: [117.4834603, -31.59206676, 117.4834603, -31.59206676], &quot;geometry&quot;: {&quot;coordinates&quot;: [117.4834603, -31.59206676], &quot;type&quot;: &quot;Point&quot;}, &quot;id&quot;: &quot;695&quot;, &quot;properties&quot;: {&quot;Crop&quot;: 5, &quot;DryYield&quot;: 0.43, &quot;Elevation&quot;: 270.21, &quot;Heading&quot;: 7.2, &quot;Latitude&quot;: -31.59206676, &quot;Longitude&quot;: 117.4834603, &quot;Time&quot;: &quot;11/12/2020 7:23&quot;, &quot;Variety&quot;: &quot;43Y23 RR&quot;, &quot;__folium_color&quot;: &quot;#280592&quot;, &quot;sample_id&quot;: &quot;bf66_sample_2&quot;}, &quot;type&quot;: &quot;Feature&quot;}, {&quot;bbox&quot;: [117.4835785, -31.59334436, 117.4835785, -31.59334436], &quot;geometry&quot;: {&quot;coordinates&quot;: [117.4835785, -31.59334436], &quot;type&quot;: &quot;Point&quot;}, &quot;id&quot;: &quot;696&quot;, &quot;properties&quot;: {&quot;Crop&quot;: 5, &quot;DryYield&quot;: 0.919, &quot;Elevation&quot;: 271.19, &quot;Heading&quot;: 179.8, &quot;Latitude&quot;: -31.59334436, &quot;Longitude&quot;: 117.4835785, &quot;Time&quot;: &quot;11/12/2020 7:25&quot;, &quot;Variety&quot;: &quot;43Y23 RR&quot;, &quot;__folium_color&quot;: &quot;#41049d&quot;, &quot;sample_id&quot;: &quot;bf66_sample_2&quot;}, &quot;type&quot;: &quot;Feature&quot;}, {&quot;bbox&quot;: [117.4835788, -31.5952251, 117.4835788, -31.5952251], &quot;geometry&quot;: {&quot;coordinates&quot;: [117.4835788, -31.5952251], &quot;type&quot;: &quot;Point&quot;}, &quot;id&quot;: &quot;697&quot;, &quot;properties&quot;: {&quot;Crop&quot;: 5, &quot;DryYield&quot;: 0.483, &quot;Elevation&quot;: 272.61, &quot;Heading&quot;: 179.7, &quot;Latitude&quot;: -31.5952251, &quot;Longitude&quot;: 117.4835788, &quot;Time&quot;: &quot;11/12/2020 7:26&quot;, &quot;Variety&quot;: &quot;43Y23 RR&quot;, &quot;__folium_color&quot;: &quot;#2c0594&quot;, &quot;sample_id&quot;: &quot;bf66_sample_2&quot;}, &quot;type&quot;: &quot;Feature&quot;}, {&quot;bbox&quot;: [117.4835785, -31.59712266, 117.4835785, -31.59712266], &quot;geometry&quot;: {&quot;coordinates&quot;: [117.4835785, -31.59712266], &quot;type&quot;: &quot;Point&quot;}, &quot;id&quot;: &quot;698&quot;, &quot;properties&quot;: {&quot;Crop&quot;: 5, &quot;DryYield&quot;: 0.729, &quot;Elevation&quot;: 270.59, &quot;Heading&quot;: 179.9, &quot;Latitude&quot;: -31.59712266, &quot;Longitude&quot;: 117.4835785, &quot;Time&quot;: &quot;11/12/2020 7:27&quot;, &quot;Variety&quot;: &quot;43Y23 RR&quot;, &quot;__folium_color&quot;: &quot;#38049a&quot;, &quot;sample_id&quot;: &quot;bf66_sample_2&quot;}, &quot;type&quot;: &quot;Feature&quot;}, {&quot;bbox&quot;: [117.4835783, -31.59907487, 117.4835783, -31.59907487], &quot;geometry&quot;: {&quot;coordinates&quot;: [117.4835783, -31.59907487], &quot;type&quot;: &quot;Point&quot;}, &quot;id&quot;: &quot;699&quot;, &quot;properties&quot;: {&quot;Crop&quot;: 5, &quot;DryYield&quot;: 0.459, &quot;Elevation&quot;: 266.78, &quot;Heading&quot;: 180.1, &quot;Latitude&quot;: -31.59907487, &quot;Longitude&quot;: 117.4835783, &quot;Time&quot;: &quot;11/12/2020 7:29&quot;, &quot;Variety&quot;: &quot;43Y23 RR&quot;, &quot;__folium_color&quot;: &quot;#2a0593&quot;, &quot;sample_id&quot;: &quot;bf66_sample_2&quot;}, &quot;type&quot;: &quot;Feature&quot;}, {&quot;bbox&quot;: [117.4839578, -31.59833661, 117.4839578, -31.59833661], &quot;geometry&quot;: {&quot;coordinates&quot;: [117.4839578, -31.59833661], &quot;type&quot;: &quot;Point&quot;}, &quot;id&quot;: &quot;700&quot;, &quot;properties&quot;: {&quot;Crop&quot;: 5, &quot;DryYield&quot;: 0.307, &quot;Elevation&quot;: 267.49, &quot;Heading&quot;: 0.4, &quot;Latitude&quot;: -31.59833661, &quot;Longitude&quot;: 117.4839578, &quot;Time&quot;: &quot;11/12/2020 7:30&quot;, &quot;Variety&quot;: &quot;43Y23 RR&quot;, &quot;__folium_color&quot;: &quot;#220690&quot;, &quot;sample_id&quot;: &quot;bf66_sample_2&quot;}, &quot;type&quot;: &quot;Feature&quot;}, {&quot;bbox&quot;: [117.4839584, -31.59630257, 117.4839584, -31.59630257], &quot;geometry&quot;: {&quot;coordinates&quot;: [117.4839584, -31.59630257], &quot;type&quot;: &quot;Point&quot;}, &quot;id&quot;: &quot;701&quot;, &quot;properties&quot;: {&quot;Crop&quot;: 5, &quot;DryYield&quot;: 0.261, &quot;Elevation&quot;: 270.7, &quot;Heading&quot;: 0.6, &quot;Latitude&quot;: -31.59630257, &quot;Longitude&quot;: 117.4839584, &quot;Time&quot;: &quot;11/12/2020 7:31&quot;, &quot;Variety&quot;: &quot;43Y23 RR&quot;, &quot;__folium_color&quot;: &quot;#20068f&quot;, &quot;sample_id&quot;: &quot;bf66_sample_2&quot;}, &quot;type&quot;: &quot;Feature&quot;}, {&quot;bbox&quot;: [117.4839576, -31.59428964, 117.4839576, -31.59428964], &quot;geometry&quot;: {&quot;coordinates&quot;: [117.4839576, -31.59428964], &quot;type&quot;: &quot;Point&quot;}, &quot;id&quot;: &quot;702&quot;, &quot;properties&quot;: {&quot;Crop&quot;: 5, &quot;DryYield&quot;: 0.542, &quot;Elevation&quot;: 271.07, &quot;Heading&quot;: 0.0, &quot;Latitude&quot;: -31.59428964, &quot;Longitude&quot;: 117.4839576, &quot;Time&quot;: &quot;11/12/2020 7:33&quot;, &quot;Variety&quot;: &quot;43Y23 RR&quot;, &quot;__folium_color&quot;: &quot;#2f0596&quot;, &quot;sample_id&quot;: &quot;bf66_sample_2&quot;}, &quot;type&quot;: &quot;Feature&quot;}, {&quot;bbox&quot;: [117.4839578, -31.59245683, 117.4839578, -31.59245683], &quot;geometry&quot;: {&quot;coordinates&quot;: [117.4839578, -31.59245683], &quot;type&quot;: &quot;Point&quot;}, &quot;id&quot;: &quot;703&quot;, &quot;properties&quot;: {&quot;Crop&quot;: 5, &quot;DryYield&quot;: 0.818, &quot;Elevation&quot;: 268.97, &quot;Heading&quot;: 360.0, &quot;Latitude&quot;: -31.59245683, &quot;Longitude&quot;: 117.4839578, &quot;Time&quot;: &quot;11/12/2020 7:34&quot;, &quot;Variety&quot;: &quot;43Y23 RR&quot;, &quot;__folium_color&quot;: &quot;#3c049b&quot;, &quot;sample_id&quot;: &quot;bf66_sample_2&quot;}, &quot;type&quot;: &quot;Feature&quot;}, {&quot;bbox&quot;: [117.4840843, -31.59290665, 117.4840843, -31.59290665], &quot;geometry&quot;: {&quot;coordinates&quot;: [117.4840843, -31.59290665], &quot;type&quot;: &quot;Point&quot;}, &quot;id&quot;: &quot;704&quot;, &quot;properties&quot;: {&quot;Crop&quot;: 5, &quot;DryYield&quot;: 0.762, &quot;Elevation&quot;: 269.04, &quot;Heading&quot;: 179.9, &quot;Latitude&quot;: -31.59290665, &quot;Longitude&quot;: 117.4840843, &quot;Time&quot;: &quot;11/12/2020 7:35&quot;, &quot;Variety&quot;: &quot;43Y23 RR&quot;, &quot;__folium_color&quot;: &quot;#3a049a&quot;, &quot;sample_id&quot;: &quot;bf66_sample_2&quot;}, &quot;type&quot;: &quot;Feature&quot;}, {&quot;bbox&quot;: [117.4840848, -31.59477637, 117.4840848, -31.59477637], &quot;geometry&quot;: {&quot;coordinates&quot;: [117.4840848, -31.59477637], &quot;type&quot;: &quot;Point&quot;}, &quot;id&quot;: &quot;705&quot;, &quot;properties&quot;: {&quot;Crop&quot;: 5, &quot;DryYield&quot;: 0.452, &quot;Elevation&quot;: 271.29, &quot;Heading&quot;: 179.0, &quot;Latitude&quot;: -31.59477637, &quot;Longitude&quot;: 117.4840848, &quot;Time&quot;: &quot;11/12/2020 7:37&quot;, &quot;Variety&quot;: &quot;43Y23 RR&quot;, &quot;__folium_color&quot;: &quot;#2a0593&quot;, &quot;sample_id&quot;: &quot;bf66_sample_2&quot;}, &quot;type&quot;: &quot;Feature&quot;}, {&quot;bbox&quot;: [117.4840839, -31.59680967, 117.4840839, -31.59680967], &quot;geometry&quot;: {&quot;coordinates&quot;: [117.4840839, -31.59680967], &quot;type&quot;: &quot;Point&quot;}, &quot;id&quot;: &quot;706&quot;, &quot;properties&quot;: {&quot;Crop&quot;: 5, &quot;DryYield&quot;: 0.385, &quot;Elevation&quot;: 269.7, &quot;Heading&quot;: 179.6, &quot;Latitude&quot;: -31.59680967, &quot;Longitude&quot;: 117.4840839, &quot;Time&quot;: &quot;11/12/2020 7:38&quot;, &quot;Variety&quot;: &quot;43Y23 RR&quot;, &quot;__folium_color&quot;: &quot;#260591&quot;, &quot;sample_id&quot;: &quot;bf66_sample_2&quot;}, &quot;type&quot;: &quot;Feature&quot;}, {&quot;bbox&quot;: [117.4840841, -31.59889394, 117.4840841, -31.59889394], &quot;geometry&quot;: {&quot;coordinates&quot;: [117.4840841, -31.59889394], &quot;type&quot;: &quot;Point&quot;}, &quot;id&quot;: &quot;707&quot;, &quot;properties&quot;: {&quot;Crop&quot;: 5, &quot;DryYield&quot;: 0.478, &quot;Elevation&quot;: 266.18, &quot;Heading&quot;: 179.6, &quot;Latitude&quot;: -31.59889394, &quot;Longitude&quot;: 117.4840841, &quot;Time&quot;: &quot;11/12/2020 7:39&quot;, &quot;Variety&quot;: &quot;43Y23 RR&quot;, &quot;__folium_color&quot;: &quot;#2c0594&quot;, &quot;sample_id&quot;: &quot;bf66_sample_2&quot;}, &quot;type&quot;: &quot;Feature&quot;}, {&quot;bbox&quot;: [117.4844636, -31.59796939, 117.4844636, -31.59796939], &quot;geometry&quot;: {&quot;coordinates&quot;: [117.4844636, -31.59796939], &quot;type&quot;: &quot;Point&quot;}, &quot;id&quot;: &quot;708&quot;, &quot;properties&quot;: {&quot;Crop&quot;: 5, &quot;DryYield&quot;: 0.338, &quot;Elevation&quot;: 266.91, &quot;Heading&quot;: 0.1, &quot;Latitude&quot;: -31.59796939, &quot;Longitude&quot;: 117.4844636, &quot;Time&quot;: &quot;11/12/2020 7:41&quot;, &quot;Variety&quot;: &quot;43Y23 RR&quot;, &quot;__folium_color&quot;: &quot;#240691&quot;, &quot;sample_id&quot;: &quot;bf66_sample_2&quot;}, &quot;type&quot;: &quot;Feature&quot;}, {&quot;bbox&quot;: [117.4844638, -31.59593213, 117.4844638, -31.59593213], &quot;geometry&quot;: {&quot;coordinates&quot;: [117.4844638, -31.59593213], &quot;type&quot;: &quot;Point&quot;}, &quot;id&quot;: &quot;709&quot;, &quot;properties&quot;: {&quot;Crop&quot;: 5, &quot;DryYield&quot;: 0.518, &quot;Elevation&quot;: 270.64, &quot;Heading&quot;: 0.4, &quot;Latitude&quot;: -31.59593213, &quot;Longitude&quot;: 117.4844638, &quot;Time&quot;: &quot;11/12/2020 7:42&quot;, &quot;Variety&quot;: &quot;43Y23 RR&quot;, &quot;__folium_color&quot;: &quot;#2e0595&quot;, &quot;sample_id&quot;: &quot;bf66_sample_2&quot;}, &quot;type&quot;: &quot;Feature&quot;}, {&quot;bbox&quot;: [117.4844634, -31.59387752, 117.4844634, -31.59387752], &quot;geometry&quot;: {&quot;coordinates&quot;: [117.4844634, -31.59387752], &quot;type&quot;: &quot;Point&quot;}, &quot;id&quot;: &quot;710&quot;, &quot;properties&quot;: {&quot;Crop&quot;: 5, &quot;DryYield&quot;: 0.368, &quot;Elevation&quot;: 269.23, &quot;Heading&quot;: 360.0, &quot;Latitude&quot;: -31.59387752, &quot;Longitude&quot;: 117.4844634, &quot;Time&quot;: &quot;11/12/2020 7:44&quot;, &quot;Variety&quot;: &quot;43Y23 RR&quot;, &quot;__folium_color&quot;: &quot;#260591&quot;, &quot;sample_id&quot;: &quot;bf66_sample_2&quot;}, &quot;type&quot;: &quot;Feature&quot;}, {&quot;bbox&quot;: [117.4846296, -31.59178792, 117.4846296, -31.59178792], &quot;geometry&quot;: {&quot;coordinates&quot;: [117.4846296, -31.59178792], &quot;type&quot;: &quot;Point&quot;}, &quot;id&quot;: &quot;711&quot;, &quot;properties&quot;: {&quot;Crop&quot;: 5, &quot;DryYield&quot;: 0.0, &quot;Elevation&quot;: 265.73, &quot;Heading&quot;: 131.0, &quot;Latitude&quot;: -31.59178792, &quot;Longitude&quot;: 117.4846296, &quot;Time&quot;: &quot;11/12/2020 7:45&quot;, &quot;Variety&quot;: &quot;43Y23 RR&quot;, &quot;__folium_color&quot;: &quot;#0d0887&quot;, &quot;sample_id&quot;: &quot;bf66_sample_2&quot;}, &quot;type&quot;: &quot;Feature&quot;}, {&quot;bbox&quot;: [117.4845899, -31.59343552, 117.4845899, -31.59343552], &quot;geometry&quot;: {&quot;coordinates&quot;: [117.4845899, -31.59343552], &quot;type&quot;: &quot;Point&quot;}, &quot;id&quot;: &quot;712&quot;, &quot;properties&quot;: {&quot;Crop&quot;: 5, &quot;DryYield&quot;: 0.157, &quot;Elevation&quot;: 268.21, &quot;Heading&quot;: 179.9, &quot;Latitude&quot;: -31.59343552, &quot;Longitude&quot;: 117.4845899, &quot;Time&quot;: &quot;11/12/2020 7:54&quot;, &quot;Variety&quot;: &quot;43Y23 RR&quot;, &quot;__folium_color&quot;: &quot;#19068c&quot;, &quot;sample_id&quot;: &quot;bf66_sample_2&quot;}, &quot;type&quot;: &quot;Feature&quot;}, {&quot;bbox&quot;: [117.48459, -31.59530278, 117.48459, -31.59530278], &quot;geometry&quot;: {&quot;coordinates&quot;: [117.48459, -31.59530278], &quot;type&quot;: &quot;Point&quot;}, &quot;id&quot;: &quot;713&quot;, &quot;properties&quot;: {&quot;Crop&quot;: 5, &quot;DryYield&quot;: 0.498, &quot;Elevation&quot;: 270.94, &quot;Heading&quot;: 180.5, &quot;Latitude&quot;: -31.59530278, &quot;Longitude&quot;: 117.48459, &quot;Time&quot;: &quot;11/12/2020 7:55&quot;, &quot;Variety&quot;: &quot;43Y23 RR&quot;, &quot;__folium_color&quot;: &quot;#2c0594&quot;, &quot;sample_id&quot;: &quot;bf66_sample_2&quot;}, &quot;type&quot;: &quot;Feature&quot;}, {&quot;bbox&quot;: [117.4845899, -31.59728627, 117.4845899, -31.59728627], &quot;geometry&quot;: {&quot;coordinates&quot;: [117.4845899, -31.59728627], &quot;type&quot;: &quot;Point&quot;}, &quot;id&quot;: &quot;714&quot;, &quot;properties&quot;: {&quot;Crop&quot;: 5, &quot;DryYield&quot;: 0.482, &quot;Elevation&quot;: 268.07, &quot;Heading&quot;: 179.8, &quot;Latitude&quot;: -31.59728627, &quot;Longitude&quot;: 117.4845899, &quot;Time&quot;: &quot;11/12/2020 7:57&quot;, &quot;Variety&quot;: &quot;43Y23 RR&quot;, &quot;__folium_color&quot;: &quot;#2c0594&quot;, &quot;sample_id&quot;: &quot;bf66_sample_2&quot;}, &quot;type&quot;: &quot;Feature&quot;}, {&quot;bbox&quot;: [117.4846089, -31.5992898, 117.4846089, -31.5992898], &quot;geometry&quot;: {&quot;coordinates&quot;: [117.4846089, -31.5992898], &quot;type&quot;: &quot;Point&quot;}, &quot;id&quot;: &quot;715&quot;, &quot;properties&quot;: {&quot;Crop&quot;: 5, &quot;DryYield&quot;: 0.0, &quot;Elevation&quot;: 264.92, &quot;Heading&quot;: 155.4, &quot;Latitude&quot;: -31.5992898, &quot;Longitude&quot;: 117.4846089, &quot;Time&quot;: &quot;11/12/2020 7:58&quot;, &quot;Variety&quot;: &quot;43Y23 RR&quot;, &quot;__folium_color&quot;: &quot;#0d0887&quot;, &quot;sample_id&quot;: &quot;bf66_sample_2&quot;}, &quot;type&quot;: &quot;Feature&quot;}, {&quot;bbox&quot;: [117.4852223, -31.59710182, 117.4852223, -31.59710182], &quot;geometry&quot;: {&quot;coordinates&quot;: [117.4852223, -31.59710182], &quot;type&quot;: &quot;Point&quot;}, &quot;id&quot;: &quot;716&quot;, &quot;properties&quot;: {&quot;Crop&quot;: 5, &quot;DryYield&quot;: 0.358, &quot;Elevation&quot;: 268.76, &quot;Heading&quot;: 0.0, &quot;Latitude&quot;: -31.59710182, &quot;Longitude&quot;: 117.4852223, &quot;Time&quot;: &quot;11/12/2020 8:00&quot;, &quot;Variety&quot;: &quot;43Y23 RR&quot;, &quot;__folium_color&quot;: &quot;#240691&quot;, &quot;sample_id&quot;: &quot;bf66_sample_2&quot;}, &quot;type&quot;: &quot;Feature&quot;}, {&quot;bbox&quot;: [117.4852221, -31.59505351, 117.4852221, -31.59505351], &quot;geometry&quot;: {&quot;coordinates&quot;: [117.4852221, -31.59505351], &quot;type&quot;: &quot;Point&quot;}, &quot;id&quot;: &quot;717&quot;, &quot;properties&quot;: {&quot;Crop&quot;: 5, &quot;DryYield&quot;: 0.304, &quot;Elevation&quot;: 270.33, &quot;Heading&quot;: 359.3, &quot;Latitude&quot;: -31.59505351, &quot;Longitude&quot;: 117.4852221, &quot;Time&quot;: &quot;11/12/2020 8:01&quot;, &quot;Variety&quot;: &quot;43Y23 RR&quot;, &quot;__folium_color&quot;: &quot;#220690&quot;, &quot;sample_id&quot;: &quot;bf66_sample_2&quot;}, &quot;type&quot;: &quot;Feature&quot;}, {&quot;bbox&quot;: [117.4853491, -31.59421579, 117.4853491, -31.59421579], &quot;geometry&quot;: {&quot;coordinates&quot;: [117.4853491, -31.59421579], &quot;type&quot;: &quot;Point&quot;}, &quot;id&quot;: &quot;718&quot;, &quot;properties&quot;: {&quot;Crop&quot;: 5, &quot;DryYield&quot;: 0.25, &quot;Elevation&quot;: 268.51, &quot;Heading&quot;: 179.6, &quot;Latitude&quot;: -31.59421579, &quot;Longitude&quot;: 117.4853491, &quot;Time&quot;: &quot;11/12/2020 8:02&quot;, &quot;Variety&quot;: &quot;43Y23 RR&quot;, &quot;__folium_color&quot;: &quot;#1d068e&quot;, &quot;sample_id&quot;: &quot;bf66_sample_2&quot;}, &quot;type&quot;: &quot;Feature&quot;}, {&quot;bbox&quot;: [117.4853485, -31.5962344, 117.4853485, -31.5962344], &quot;geometry&quot;: {&quot;coordinates&quot;: [117.4853485, -31.5962344], &quot;type&quot;: &quot;Point&quot;}, &quot;id&quot;: &quot;719&quot;, &quot;properties&quot;: {&quot;Crop&quot;: 5, &quot;DryYield&quot;: 0.51, &quot;Elevation&quot;: 270.42, &quot;Heading&quot;: 180.2, &quot;Latitude&quot;: -31.5962344, &quot;Longitude&quot;: 117.4853485, &quot;Time&quot;: &quot;11/12/2020 8:04&quot;, &quot;Variety&quot;: &quot;43Y23 RR&quot;, &quot;__folium_color&quot;: &quot;#2e0595&quot;, &quot;sample_id&quot;: &quot;bf66_sample_2&quot;}, &quot;type&quot;: &quot;Feature&quot;}, {&quot;bbox&quot;: [117.4853489, -31.598499, 117.4853489, -31.598499], &quot;geometry&quot;: {&quot;coordinates&quot;: [117.4853489, -31.598499], &quot;type&quot;: &quot;Point&quot;}, &quot;id&quot;: &quot;720&quot;, &quot;properties&quot;: {&quot;Crop&quot;: 5, &quot;DryYield&quot;: 0.414, &quot;Elevation&quot;: 266.64, &quot;Heading&quot;: 180.2, &quot;Latitude&quot;: -31.598499, &quot;Longitude&quot;: 117.4853489, &quot;Time&quot;: &quot;11/12/2020 8:05&quot;, &quot;Variety&quot;: &quot;43Y23 RR&quot;, &quot;__folium_color&quot;: &quot;#280592&quot;, &quot;sample_id&quot;: &quot;bf66_sample_2&quot;}, &quot;type&quot;: &quot;Feature&quot;}, {&quot;bbox&quot;: [117.485728, -31.59734541, 117.485728, -31.59734541], &quot;geometry&quot;: {&quot;coordinates&quot;: [117.485728, -31.59734541], &quot;type&quot;: &quot;Point&quot;}, &quot;id&quot;: &quot;721&quot;, &quot;properties&quot;: {&quot;Crop&quot;: 5, &quot;DryYield&quot;: 0.278, &quot;Elevation&quot;: 269.21, &quot;Heading&quot;: 359.9, &quot;Latitude&quot;: -31.59734541, &quot;Longitude&quot;: 117.485728, &quot;Time&quot;: &quot;11/12/2020 8:06&quot;, &quot;Variety&quot;: &quot;43Y23 RR&quot;, &quot;__folium_color&quot;: &quot;#20068f&quot;, &quot;sample_id&quot;: &quot;bf66_sample_2&quot;}, &quot;type&quot;: &quot;Feature&quot;}, {&quot;bbox&quot;: [117.4857282, -31.59509273, 117.4857282, -31.59509273], &quot;geometry&quot;: {&quot;coordinates&quot;: [117.4857282, -31.59509273], &quot;type&quot;: &quot;Point&quot;}, &quot;id&quot;: &quot;722&quot;, &quot;properties&quot;: {&quot;Crop&quot;: 5, &quot;DryYield&quot;: 0.333, &quot;Elevation&quot;: 270.73, &quot;Heading&quot;: 0.5, &quot;Latitude&quot;: -31.59509273, &quot;Longitude&quot;: 117.4857282, &quot;Time&quot;: &quot;11/12/2020 8:08&quot;, &quot;Variety&quot;: &quot;43Y23 RR&quot;, &quot;__folium_color&quot;: &quot;#240691&quot;, &quot;sample_id&quot;: &quot;bf66_sample_2&quot;}, &quot;type&quot;: &quot;Feature&quot;}, {&quot;bbox&quot;: [117.4858547, -31.59336443, 117.4858547, -31.59336443], &quot;geometry&quot;: {&quot;coordinates&quot;: [117.4858547, -31.59336443], &quot;type&quot;: &quot;Point&quot;}, &quot;id&quot;: &quot;723&quot;, &quot;properties&quot;: {&quot;Crop&quot;: 5, &quot;DryYield&quot;: 0.229, &quot;Elevation&quot;: 268.43, &quot;Heading&quot;: 188.7, &quot;Latitude&quot;: -31.59336443, &quot;Longitude&quot;: 117.4858547, &quot;Time&quot;: &quot;11/12/2020 8:09&quot;, &quot;Variety&quot;: &quot;43Y23 RR&quot;, &quot;__folium_color&quot;: &quot;#1d068e&quot;, &quot;sample_id&quot;: &quot;bf66_sample_2&quot;}, &quot;type&quot;: &quot;Feature&quot;}, {&quot;bbox&quot;: [117.4858545, -31.5957679, 117.4858545, -31.5957679], &quot;geometry&quot;: {&quot;coordinates&quot;: [117.4858545, -31.5957679], &quot;type&quot;: &quot;Point&quot;}, &quot;id&quot;: &quot;724&quot;, &quot;properties&quot;: {&quot;Crop&quot;: 5, &quot;DryYield&quot;: 0.349, &quot;Elevation&quot;: 271.18, &quot;Heading&quot;: 179.7, &quot;Latitude&quot;: -31.5957679, &quot;Longitude&quot;: 117.4858545, &quot;Time&quot;: &quot;11/12/2020 8:10&quot;, &quot;Variety&quot;: &quot;43Y23 RR&quot;, &quot;__folium_color&quot;: &quot;#240691&quot;, &quot;sample_id&quot;: &quot;bf66_sample_2&quot;}, &quot;type&quot;: &quot;Feature&quot;}, {&quot;bbox&quot;: [117.4858547, -31.59819245, 117.4858547, -31.59819245], &quot;geometry&quot;: {&quot;coordinates&quot;: [117.4858547, -31.59819245], &quot;type&quot;: &quot;Point&quot;}, &quot;id&quot;: &quot;725&quot;, &quot;properties&quot;: {&quot;Crop&quot;: 5, &quot;DryYield&quot;: 0.276, &quot;Elevation&quot;: 267.91, &quot;Heading&quot;: 180.0, &quot;Latitude&quot;: -31.59819245, &quot;Longitude&quot;: 117.4858547, &quot;Time&quot;: &quot;11/12/2020 8:12&quot;, &quot;Variety&quot;: &quot;43Y23 RR&quot;, &quot;__folium_color&quot;: &quot;#20068f&quot;, &quot;sample_id&quot;: &quot;bf66_sample_2&quot;}, &quot;type&quot;: &quot;Feature&quot;}, {&quot;bbox&quot;: [117.4863601, -31.59757797, 117.4863601, -31.59757797], &quot;geometry&quot;: {&quot;coordinates&quot;: [117.4863601, -31.59757797], &quot;type&quot;: &quot;Point&quot;}, &quot;id&quot;: &quot;726&quot;, &quot;properties&quot;: {&quot;Crop&quot;: 5, &quot;DryYield&quot;: 0.34, &quot;Elevation&quot;: 269.66, &quot;Heading&quot;: 359.9, &quot;Latitude&quot;: -31.59757797, &quot;Longitude&quot;: 117.4863601, &quot;Time&quot;: &quot;11/12/2020 8:13&quot;, &quot;Variety&quot;: &quot;43Y23 RR&quot;, &quot;__folium_color&quot;: &quot;#240691&quot;, &quot;sample_id&quot;: &quot;bf66_sample_2&quot;}, &quot;type&quot;: &quot;Feature&quot;}, {&quot;bbox&quot;: [117.4850958, -31.59547543, 117.4850958, -31.59547543], &quot;geometry&quot;: {&quot;coordinates&quot;: [117.4850958, -31.59547543], &quot;type&quot;: &quot;Point&quot;}, &quot;id&quot;: &quot;727&quot;, &quot;properties&quot;: {&quot;Crop&quot;: 5, &quot;DryYield&quot;: 0.445, &quot;Elevation&quot;: 270.91, &quot;Heading&quot;: 359.9, &quot;Latitude&quot;: -31.59547543, &quot;Longitude&quot;: 117.4850958, &quot;Time&quot;: &quot;11/12/2020 7:59&quot;, &quot;Variety&quot;: &quot;43Y23 RR&quot;, &quot;__folium_color&quot;: &quot;#2a0593&quot;, &quot;sample_id&quot;: &quot;bf66_sample_2&quot;}, &quot;type&quot;: &quot;Feature&quot;}, {&quot;bbox&quot;: [117.4854753, -31.59385362, 117.4854753, -31.59385362], &quot;geometry&quot;: {&quot;coordinates&quot;: [117.4854753, -31.59385362], &quot;type&quot;: &quot;Point&quot;}, &quot;id&quot;: &quot;728&quot;, &quot;properties&quot;: {&quot;Crop&quot;: 5, &quot;DryYield&quot;: 0.634, &quot;Elevation&quot;: 268.32, &quot;Heading&quot;: 180.2, &quot;Latitude&quot;: -31.59385362, &quot;Longitude&quot;: 117.4854753, &quot;Time&quot;: &quot;11/12/2020 8:01&quot;, &quot;Variety&quot;: &quot;43Y23 RR&quot;, &quot;__folium_color&quot;: &quot;#330597&quot;, &quot;sample_id&quot;: &quot;bf66_sample_2&quot;}, &quot;type&quot;: &quot;Feature&quot;}, {&quot;bbox&quot;: [117.4854748, -31.59604336, 117.4854748, -31.59604336], &quot;geometry&quot;: {&quot;coordinates&quot;: [117.4854748, -31.59604336], &quot;type&quot;: &quot;Point&quot;}, &quot;id&quot;: &quot;729&quot;, &quot;properties&quot;: {&quot;Crop&quot;: 5, &quot;DryYield&quot;: 0.343, &quot;Elevation&quot;: 270.94, &quot;Heading&quot;: 180.1, &quot;Latitude&quot;: -31.59604336, &quot;Longitude&quot;: 117.4854748, &quot;Time&quot;: &quot;11/12/2020 8:02&quot;, &quot;Variety&quot;: &quot;43Y23 RR&quot;, &quot;__folium_color&quot;: &quot;#240691&quot;, &quot;sample_id&quot;: &quot;bf66_sample_2&quot;}, &quot;type&quot;: &quot;Feature&quot;}, {&quot;bbox&quot;: [117.485475, -31.59812887, 117.485475, -31.59812887], &quot;geometry&quot;: {&quot;coordinates&quot;: [117.485475, -31.59812887], &quot;type&quot;: &quot;Point&quot;}, &quot;id&quot;: &quot;730&quot;, &quot;properties&quot;: {&quot;Crop&quot;: 5, &quot;DryYield&quot;: 0.538, &quot;Elevation&quot;: 267.74, &quot;Heading&quot;: 180.0, &quot;Latitude&quot;: -31.59812887, &quot;Longitude&quot;: 117.485475, &quot;Time&quot;: &quot;11/12/2020 8:04&quot;, &quot;Variety&quot;: &quot;43Y23 RR&quot;, &quot;__folium_color&quot;: &quot;#2e0595&quot;, &quot;sample_id&quot;: &quot;bf66_sample_2&quot;}, &quot;type&quot;: &quot;Feature&quot;}, {&quot;bbox&quot;: [117.4856016, -31.59745801, 117.4856016, -31.59745801], &quot;geometry&quot;: {&quot;coordinates&quot;: [117.4856016, -31.59745801], &quot;type&quot;: &quot;Point&quot;}, &quot;id&quot;: &quot;731&quot;, &quot;properties&quot;: {&quot;Crop&quot;: 5, &quot;DryYield&quot;: 0.477, &quot;Elevation&quot;: 268.96, &quot;Heading&quot;: 0.3, &quot;Latitude&quot;: -31.59745801, &quot;Longitude&quot;: 117.4856016, &quot;Time&quot;: &quot;11/12/2020 8:05&quot;, &quot;Variety&quot;: &quot;43Y23 RR&quot;, &quot;__folium_color&quot;: &quot;#2c0594&quot;, &quot;sample_id&quot;: &quot;bf66_sample_2&quot;}, &quot;type&quot;: &quot;Feature&quot;}, {&quot;bbox&quot;: [117.485602, -31.59526233, 117.485602, -31.59526233], &quot;geometry&quot;: {&quot;coordinates&quot;: [117.485602, -31.59526233], &quot;type&quot;: &quot;Point&quot;}, &quot;id&quot;: &quot;732&quot;, &quot;properties&quot;: {&quot;Crop&quot;: 5, &quot;DryYield&quot;: 0.514, &quot;Elevation&quot;: 271.0, &quot;Heading&quot;: 0.2, &quot;Latitude&quot;: -31.59526233, &quot;Longitude&quot;: 117.485602, &quot;Time&quot;: &quot;11/12/2020 8:06&quot;, &quot;Variety&quot;: &quot;43Y23 RR&quot;, &quot;__folium_color&quot;: &quot;#2e0595&quot;, &quot;sample_id&quot;: &quot;bf66_sample_2&quot;}, &quot;type&quot;: &quot;Feature&quot;}, {&quot;bbox&quot;: [117.485884, -31.59224479, 117.485884, -31.59224479], &quot;geometry&quot;: {&quot;coordinates&quot;: [117.485884, -31.59224479], &quot;type&quot;: &quot;Point&quot;}, &quot;id&quot;: &quot;733&quot;, &quot;properties&quot;: {&quot;Crop&quot;: 5, &quot;DryYield&quot;: 1.022, &quot;Elevation&quot;: 266.65, &quot;Heading&quot;: 359.5, &quot;Latitude&quot;: -31.59224479, &quot;Longitude&quot;: 117.485884, &quot;Time&quot;: &quot;11/12/2020 8:08&quot;, &quot;Variety&quot;: &quot;43Y23 RR&quot;, &quot;__folium_color&quot;: &quot;#46039f&quot;, &quot;sample_id&quot;: &quot;bf66_sample_2&quot;}, &quot;type&quot;: &quot;Feature&quot;}, {&quot;bbox&quot;: [117.4859809, -31.59369444, 117.4859809, -31.59369444], &quot;geometry&quot;: {&quot;coordinates&quot;: [117.4859809, -31.59369444], &quot;type&quot;: &quot;Point&quot;}, &quot;id&quot;: &quot;734&quot;, &quot;properties&quot;: {&quot;Crop&quot;: 5, &quot;DryYield&quot;: 0.33, &quot;Elevation&quot;: 269.43, &quot;Heading&quot;: 179.7, &quot;Latitude&quot;: -31.59369444, &quot;Longitude&quot;: 117.4859809, &quot;Time&quot;: &quot;11/12/2020 8:10&quot;, &quot;Variety&quot;: &quot;43Y23 RR&quot;, &quot;__folium_color&quot;: &quot;#240691&quot;, &quot;sample_id&quot;: &quot;bf66_sample_2&quot;}, &quot;type&quot;: &quot;Feature&quot;}, {&quot;bbox&quot;: [117.4859808, -31.59589046, 117.4859808, -31.59589046], &quot;geometry&quot;: {&quot;coordinates&quot;: [117.4859808, -31.59589046], &quot;type&quot;: &quot;Point&quot;}, &quot;id&quot;: &quot;735&quot;, &quot;properties&quot;: {&quot;Crop&quot;: 5, &quot;DryYield&quot;: 0.555, &quot;Elevation&quot;: 271.46, &quot;Heading&quot;: 180.1, &quot;Latitude&quot;: -31.59589046, &quot;Longitude&quot;: 117.4859808, &quot;Time&quot;: &quot;11/12/2020 8:11&quot;, &quot;Variety&quot;: &quot;43Y23 RR&quot;, &quot;__folium_color&quot;: &quot;#2f0596&quot;, &quot;sample_id&quot;: &quot;bf66_sample_2&quot;}, &quot;type&quot;: &quot;Feature&quot;}, {&quot;bbox&quot;: [117.4859811, -31.59809685, 117.4859811, -31.59809685], &quot;geometry&quot;: {&quot;coordinates&quot;: [117.4859811, -31.59809685], &quot;type&quot;: &quot;Point&quot;}, &quot;id&quot;: &quot;736&quot;, &quot;properties&quot;: {&quot;Crop&quot;: 5, &quot;DryYield&quot;: 0.42, &quot;Elevation&quot;: 268.47, &quot;Heading&quot;: 180.1, &quot;Latitude&quot;: -31.59809685, &quot;Longitude&quot;: 117.4859811, &quot;Time&quot;: &quot;11/12/2020 8:12&quot;, &quot;Variety&quot;: &quot;43Y23 RR&quot;, &quot;__folium_color&quot;: &quot;#280592&quot;, &quot;sample_id&quot;: &quot;bf66_sample_2&quot;}, &quot;type&quot;: &quot;Feature&quot;}, {&quot;bbox&quot;: [117.4864865, -31.59729194, 117.4864865, -31.59729194], &quot;geometry&quot;: {&quot;coordinates&quot;: [117.4864865, -31.59729194], &quot;type&quot;: &quot;Point&quot;}, &quot;id&quot;: &quot;737&quot;, &quot;properties&quot;: {&quot;Crop&quot;: 5, &quot;DryYield&quot;: 0.513, &quot;Elevation&quot;: 270.5, &quot;Heading&quot;: 359.8, &quot;Latitude&quot;: -31.59729194, &quot;Longitude&quot;: 117.4864865, &quot;Time&quot;: &quot;11/12/2020 8:14&quot;, &quot;Variety&quot;: &quot;43Y23 RR&quot;, &quot;__folium_color&quot;: &quot;#2e0595&quot;, &quot;sample_id&quot;: &quot;bf66_sample_2&quot;}, &quot;type&quot;: &quot;Feature&quot;}, {&quot;bbox&quot;: [117.4863599, -31.59633337, 117.4863599, -31.59633337], &quot;geometry&quot;: {&quot;coordinates&quot;: [117.4863599, -31.59633337], &quot;type&quot;: &quot;Point&quot;}, &quot;id&quot;: &quot;738&quot;, &quot;properties&quot;: {&quot;Crop&quot;: 5, &quot;DryYield&quot;: 0.426, &quot;Elevation&quot;: 271.35, &quot;Heading&quot;: 359.4, &quot;Latitude&quot;: -31.59633337, &quot;Longitude&quot;: 117.4863599, &quot;Time&quot;: &quot;11/12/2020 8:14&quot;, &quot;Variety&quot;: &quot;43Y23 RR&quot;, &quot;__folium_color&quot;: &quot;#280592&quot;, &quot;sample_id&quot;: &quot;bf66_sample_2&quot;}, &quot;type&quot;: &quot;Feature&quot;}, {&quot;bbox&quot;: [117.4863603, -31.59411315, 117.4863603, -31.59411315], &quot;geometry&quot;: {&quot;coordinates&quot;: [117.4863603, -31.59411315], &quot;type&quot;: &quot;Point&quot;}, &quot;id&quot;: &quot;739&quot;, &quot;properties&quot;: {&quot;Crop&quot;: 5, &quot;DryYield&quot;: 0.424, &quot;Elevation&quot;: 270.63, &quot;Heading&quot;: 0.2, &quot;Latitude&quot;: -31.59411315, &quot;Longitude&quot;: 117.4863603, &quot;Time&quot;: &quot;11/12/2020 8:15&quot;, &quot;Variety&quot;: &quot;43Y23 RR&quot;, &quot;__folium_color&quot;: &quot;#280592&quot;, &quot;sample_id&quot;: &quot;bf66_sample_2&quot;}, &quot;type&quot;: &quot;Feature&quot;}, {&quot;bbox&quot;: [117.4863811, -31.59183664, 117.4863811, -31.59183664], &quot;geometry&quot;: {&quot;coordinates&quot;: [117.4863811, -31.59183664], &quot;type&quot;: &quot;Point&quot;}, &quot;id&quot;: &quot;740&quot;, &quot;properties&quot;: {&quot;Crop&quot;: 5, &quot;DryYield&quot;: 0.011, &quot;Elevation&quot;: 266.07, &quot;Heading&quot;: 19.0, &quot;Latitude&quot;: -31.59183664, &quot;Longitude&quot;: 117.4863811, &quot;Time&quot;: &quot;11/12/2020 8:17&quot;, &quot;Variety&quot;: &quot;43Y23 RR&quot;, &quot;__folium_color&quot;: &quot;#0d0887&quot;, &quot;sample_id&quot;: &quot;bf66_sample_2&quot;}, &quot;type&quot;: &quot;Feature&quot;}, {&quot;bbox&quot;: [117.4867396, -31.59390004, 117.4867396, -31.59390004], &quot;geometry&quot;: {&quot;coordinates&quot;: [117.4867396, -31.59390004], &quot;type&quot;: &quot;Point&quot;}, &quot;id&quot;: &quot;741&quot;, &quot;properties&quot;: {&quot;Crop&quot;: 5, &quot;DryYield&quot;: 0.568, &quot;Elevation&quot;: 270.67, &quot;Heading&quot;: 179.7, &quot;Latitude&quot;: -31.59390004, &quot;Longitude&quot;: 117.4867396, &quot;Time&quot;: &quot;11/12/2020 8:18&quot;, &quot;Variety&quot;: &quot;43Y23 RR&quot;, &quot;__folium_color&quot;: &quot;#2f0596&quot;, &quot;sample_id&quot;: &quot;bf66_sample_2&quot;}, &quot;type&quot;: &quot;Feature&quot;}, {&quot;bbox&quot;: [117.4867389, -31.59608993, 117.4867389, -31.59608993], &quot;geometry&quot;: {&quot;coordinates&quot;: [117.4867389, -31.59608993], &quot;type&quot;: &quot;Point&quot;}, &quot;id&quot;: &quot;742&quot;, &quot;properties&quot;: {&quot;Crop&quot;: 5, &quot;DryYield&quot;: 0.534, &quot;Elevation&quot;: 272.2, &quot;Heading&quot;: 180.6, &quot;Latitude&quot;: -31.59608993, &quot;Longitude&quot;: 117.4867389, &quot;Time&quot;: &quot;11/12/2020 8:20&quot;, &quot;Variety&quot;: &quot;43Y23 RR&quot;, &quot;__folium_color&quot;: &quot;#2e0595&quot;, &quot;sample_id&quot;: &quot;bf66_sample_2&quot;}, &quot;type&quot;: &quot;Feature&quot;}, {&quot;bbox&quot;: [117.4867394, -31.59831623, 117.4867394, -31.59831623], &quot;geometry&quot;: {&quot;coordinates&quot;: [117.4867394, -31.59831623], &quot;type&quot;: &quot;Point&quot;}, &quot;id&quot;: &quot;743&quot;, &quot;properties&quot;: {&quot;Crop&quot;: 5, &quot;DryYield&quot;: 0.259, &quot;Elevation&quot;: 268.77, &quot;Heading&quot;: 180.0, &quot;Latitude&quot;: -31.59831623, &quot;Longitude&quot;: 117.4867394, &quot;Time&quot;: &quot;11/12/2020 8:21&quot;, &quot;Variety&quot;: &quot;43Y23 RR&quot;, &quot;__folium_color&quot;: &quot;#20068f&quot;, &quot;sample_id&quot;: &quot;bf66_sample_2&quot;}, &quot;type&quot;: &quot;Feature&quot;}, {&quot;bbox&quot;: [117.4867396, -31.60055657, 117.4867396, -31.60055657], &quot;geometry&quot;: {&quot;coordinates&quot;: [117.4867396, -31.60055657], &quot;type&quot;: &quot;Point&quot;}, &quot;id&quot;: &quot;744&quot;, &quot;properties&quot;: {&quot;Crop&quot;: 5, &quot;DryYield&quot;: 0.065, &quot;Elevation&quot;: 268.39, &quot;Heading&quot;: 179.7, &quot;Latitude&quot;: -31.60055657, &quot;Longitude&quot;: 117.4867396, &quot;Time&quot;: &quot;11/12/2020 8:22&quot;, &quot;Variety&quot;: &quot;43Y23 RR&quot;, &quot;__folium_color&quot;: &quot;#100788&quot;, &quot;sample_id&quot;: &quot;bf66_sample_2&quot;}, &quot;type&quot;: &quot;Feature&quot;}, {&quot;bbox&quot;: [117.4868659, -31.5988993, 117.4868659, -31.5988993], &quot;geometry&quot;: {&quot;coordinates&quot;: [117.4868659, -31.5988993], &quot;type&quot;: &quot;Point&quot;}, &quot;id&quot;: &quot;745&quot;, &quot;properties&quot;: {&quot;Crop&quot;: 5, &quot;DryYield&quot;: 0.361, &quot;Elevation&quot;: 267.52, &quot;Heading&quot;: 0.0, &quot;Latitude&quot;: -31.5988993, &quot;Longitude&quot;: 117.4868659, &quot;Time&quot;: &quot;11/12/2020 8:24&quot;, &quot;Variety&quot;: &quot;43Y23 RR&quot;, &quot;__folium_color&quot;: &quot;#240691&quot;, &quot;sample_id&quot;: &quot;bf66_sample_2&quot;}, &quot;type&quot;: &quot;Feature&quot;}, {&quot;bbox&quot;: [117.4868661, -31.59661005, 117.4868661, -31.59661005], &quot;geometry&quot;: {&quot;coordinates&quot;: [117.4868661, -31.59661005], &quot;type&quot;: &quot;Point&quot;}, &quot;id&quot;: &quot;746&quot;, &quot;properties&quot;: {&quot;Crop&quot;: 5, &quot;DryYield&quot;: 0.405, &quot;Elevation&quot;: 271.74, &quot;Heading&quot;: 359.9, &quot;Latitude&quot;: -31.59661005, &quot;Longitude&quot;: 117.4868661, &quot;Time&quot;: &quot;11/12/2020 8:25&quot;, &quot;Variety&quot;: &quot;43Y23 RR&quot;, &quot;__folium_color&quot;: &quot;#280592&quot;, &quot;sample_id&quot;: &quot;bf66_sample_2&quot;}, &quot;type&quot;: &quot;Feature&quot;}, {&quot;bbox&quot;: [117.4868662, -31.59433637, 117.4868662, -31.59433637], &quot;geometry&quot;: {&quot;coordinates&quot;: [117.4868662, -31.59433637], &quot;type&quot;: &quot;Point&quot;}, &quot;id&quot;: &quot;747&quot;, &quot;properties&quot;: {&quot;Crop&quot;: 5, &quot;DryYield&quot;: 0.425, &quot;Elevation&quot;: 271.56, &quot;Heading&quot;: 0.3, &quot;Latitude&quot;: -31.59433637, &quot;Longitude&quot;: 117.4868662, &quot;Time&quot;: &quot;11/12/2020 8:26&quot;, &quot;Variety&quot;: &quot;43Y23 RR&quot;, &quot;__folium_color&quot;: &quot;#280592&quot;, &quot;sample_id&quot;: &quot;bf66_sample_2&quot;}, &quot;type&quot;: &quot;Feature&quot;}, {&quot;bbox&quot;: [117.4868661, -31.59217278, 117.4868661, -31.59217278], &quot;geometry&quot;: {&quot;coordinates&quot;: [117.4868661, -31.59217278], &quot;type&quot;: &quot;Point&quot;}, &quot;id&quot;: &quot;748&quot;, &quot;properties&quot;: {&quot;Crop&quot;: 5, &quot;DryYield&quot;: 0.418, &quot;Elevation&quot;: 267.77, &quot;Heading&quot;: 359.9, &quot;Latitude&quot;: -31.59217278, &quot;Longitude&quot;: 117.4868661, &quot;Time&quot;: &quot;11/12/2020 8:28&quot;, &quot;Variety&quot;: &quot;43Y23 RR&quot;, &quot;__folium_color&quot;: &quot;#280592&quot;, &quot;sample_id&quot;: &quot;bf66_sample_2&quot;}, &quot;type&quot;: &quot;Feature&quot;}, {&quot;bbox&quot;: [117.487245, -31.59327358, 117.487245, -31.59327358], &quot;geometry&quot;: {&quot;coordinates&quot;: [117.487245, -31.59327358], &quot;type&quot;: &quot;Point&quot;}, &quot;id&quot;: &quot;749&quot;, &quot;properties&quot;: {&quot;Crop&quot;: 5, &quot;DryYield&quot;: 0.66, &quot;Elevation&quot;: 270.42, &quot;Heading&quot;: 180.3, &quot;Latitude&quot;: -31.59327358, &quot;Longitude&quot;: 117.487245, &quot;Time&quot;: &quot;11/12/2020 8:29&quot;, &quot;Variety&quot;: &quot;43Y23 RR&quot;, &quot;__folium_color&quot;: &quot;#350498&quot;, &quot;sample_id&quot;: &quot;bf66_sample_2&quot;}, &quot;type&quot;: &quot;Feature&quot;}, {&quot;bbox&quot;: [117.4872452, -31.59531411, 117.4872452, -31.59531411], &quot;geometry&quot;: {&quot;coordinates&quot;: [117.4872452, -31.59531411], &quot;type&quot;: &quot;Point&quot;}, &quot;id&quot;: &quot;750&quot;, &quot;properties&quot;: {&quot;Crop&quot;: 5, &quot;DryYield&quot;: 0.336, &quot;Elevation&quot;: 273.03, &quot;Heading&quot;: 180.4, &quot;Latitude&quot;: -31.59531411, &quot;Longitude&quot;: 117.4872452, &quot;Time&quot;: &quot;11/12/2020 8:30&quot;, &quot;Variety&quot;: &quot;43Y23 RR&quot;, &quot;__folium_color&quot;: &quot;#240691&quot;, &quot;sample_id&quot;: &quot;bf66_sample_3&quot;}, &quot;type&quot;: &quot;Feature&quot;}, {&quot;bbox&quot;: [117.4872457, -31.597407, 117.4872457, -31.597407], &quot;geometry&quot;: {&quot;coordinates&quot;: [117.4872457, -31.597407], &quot;type&quot;: &quot;Point&quot;}, &quot;id&quot;: &quot;751&quot;, &quot;properties&quot;: {&quot;Crop&quot;: 5, &quot;DryYield&quot;: 0.428, &quot;Elevation&quot;: 271.27, &quot;Heading&quot;: 178.9, &quot;Latitude&quot;: -31.597407, &quot;Longitude&quot;: 117.4872457, &quot;Time&quot;: &quot;11/12/2020 8:32&quot;, &quot;Variety&quot;: &quot;43Y23 RR&quot;, &quot;__folium_color&quot;: &quot;#280592&quot;, &quot;sample_id&quot;: &quot;bf66_sample_3&quot;}, &quot;type&quot;: &quot;Feature&quot;}, {&quot;bbox&quot;: [117.4872454, -31.59954365, 117.4872454, -31.59954365], &quot;geometry&quot;: {&quot;coordinates&quot;: [117.4872454, -31.59954365], &quot;type&quot;: &quot;Point&quot;}, &quot;id&quot;: &quot;752&quot;, &quot;properties&quot;: {&quot;Crop&quot;: 5, &quot;DryYield&quot;: 0.287, &quot;Elevation&quot;: 267.35, &quot;Heading&quot;: 180.0, &quot;Latitude&quot;: -31.59954365, &quot;Longitude&quot;: 117.4872454, &quot;Time&quot;: &quot;11/12/2020 8:33&quot;, &quot;Variety&quot;: &quot;43Y23 RR&quot;, &quot;__folium_color&quot;: &quot;#20068f&quot;, &quot;sample_id&quot;: &quot;bf66_sample_3&quot;}, &quot;type&quot;: &quot;Feature&quot;}, {&quot;bbox&quot;: [117.4872454, -31.6016706, 117.4872454, -31.6016706], &quot;geometry&quot;: {&quot;coordinates&quot;: [117.4872454, -31.6016706], &quot;type&quot;: &quot;Point&quot;}, &quot;id&quot;: &quot;753&quot;, &quot;properties&quot;: {&quot;Crop&quot;: 5, &quot;DryYield&quot;: 0.081, &quot;Elevation&quot;: 271.18, &quot;Heading&quot;: 179.6, &quot;Latitude&quot;: -31.6016706, &quot;Longitude&quot;: 117.4872454, &quot;Time&quot;: &quot;11/12/2020 8:34&quot;, &quot;Variety&quot;: &quot;43Y23 RR&quot;, &quot;__folium_color&quot;: &quot;#130789&quot;, &quot;sample_id&quot;: &quot;bf66_sample_3&quot;}, &quot;type&quot;: &quot;Feature&quot;}, {&quot;bbox&quot;: [117.4873716, -31.60016348, 117.4873716, -31.60016348], &quot;geometry&quot;: {&quot;coordinates&quot;: [117.4873716, -31.60016348], &quot;type&quot;: &quot;Point&quot;}, &quot;id&quot;: &quot;754&quot;, &quot;properties&quot;: {&quot;Crop&quot;: 5, &quot;DryYield&quot;: 0.271, &quot;Elevation&quot;: 267.91, &quot;Heading&quot;: 359.9, &quot;Latitude&quot;: -31.60016348, &quot;Longitude&quot;: 117.4873716, &quot;Time&quot;: &quot;11/12/2020 8:36&quot;, &quot;Variety&quot;: &quot;43Y23 RR&quot;, &quot;__folium_color&quot;: &quot;#20068f&quot;, &quot;sample_id&quot;: &quot;bf66_sample_3&quot;}, &quot;type&quot;: &quot;Feature&quot;}, {&quot;bbox&quot;: [117.4873718, -31.59799314, 117.4873718, -31.59799314], &quot;geometry&quot;: {&quot;coordinates&quot;: [117.4873718, -31.59799314], &quot;type&quot;: &quot;Point&quot;}, &quot;id&quot;: &quot;755&quot;, &quot;properties&quot;: {&quot;Crop&quot;: 5, &quot;DryYield&quot;: 0.296, &quot;Elevation&quot;: 270.21, &quot;Heading&quot;: 359.9, &quot;Latitude&quot;: -31.59799314, &quot;Longitude&quot;: 117.4873718, &quot;Time&quot;: &quot;11/12/2020 8:37&quot;, &quot;Variety&quot;: &quot;43Y23 RR&quot;, &quot;__folium_color&quot;: &quot;#220690&quot;, &quot;sample_id&quot;: &quot;bf66_sample_3&quot;}, &quot;type&quot;: &quot;Feature&quot;}, {&quot;bbox&quot;: [117.487372, -31.59581003, 117.487372, -31.59581003], &quot;geometry&quot;: {&quot;coordinates&quot;: [117.487372, -31.59581003], &quot;type&quot;: &quot;Point&quot;}, &quot;id&quot;: &quot;756&quot;, &quot;properties&quot;: {&quot;Crop&quot;: 5, &quot;DryYield&quot;: 0.381, &quot;Elevation&quot;: 273.11, &quot;Heading&quot;: 0.3, &quot;Latitude&quot;: -31.59581003, &quot;Longitude&quot;: 117.487372, &quot;Time&quot;: &quot;11/12/2020 8:38&quot;, &quot;Variety&quot;: &quot;43Y23 RR&quot;, &quot;__folium_color&quot;: &quot;#260591&quot;, &quot;sample_id&quot;: &quot;bf66_sample_3&quot;}, &quot;type&quot;: &quot;Feature&quot;}, {&quot;bbox&quot;: [117.4873716, -31.59366318, 117.4873716, -31.59366318], &quot;geometry&quot;: {&quot;coordinates&quot;: [117.4873716, -31.59366318], &quot;type&quot;: &quot;Point&quot;}, &quot;id&quot;: &quot;757&quot;, &quot;properties&quot;: {&quot;Crop&quot;: 5, &quot;DryYield&quot;: 0.477, &quot;Elevation&quot;: 271.28, &quot;Heading&quot;: 0.0, &quot;Latitude&quot;: -31.59366318, &quot;Longitude&quot;: 117.4873716, &quot;Time&quot;: &quot;11/12/2020 8:40&quot;, &quot;Variety&quot;: &quot;43Y23 RR&quot;, &quot;__folium_color&quot;: &quot;#2c0594&quot;, &quot;sample_id&quot;: &quot;bf66_sample_3&quot;}, &quot;type&quot;: &quot;Feature&quot;}, {&quot;bbox&quot;: [117.4873716, -31.59189456, 117.4873716, -31.59189456], &quot;geometry&quot;: {&quot;coordinates&quot;: [117.4873716, -31.59189456], &quot;type&quot;: &quot;Point&quot;}, &quot;id&quot;: &quot;758&quot;, &quot;properties&quot;: {&quot;Crop&quot;: 5, &quot;DryYield&quot;: 0.096, &quot;Elevation&quot;: 267.21, &quot;Heading&quot;: 0.1, &quot;Latitude&quot;: -31.59189456, &quot;Longitude&quot;: 117.4873716, &quot;Time&quot;: &quot;11/12/2020 8:41&quot;, &quot;Variety&quot;: &quot;43Y23 RR&quot;, &quot;__folium_color&quot;: &quot;#130789&quot;, &quot;sample_id&quot;: &quot;bf66_sample_3&quot;}, &quot;type&quot;: &quot;Feature&quot;}, {&quot;bbox&quot;: [117.487751, -31.59363668, 117.487751, -31.59363668], &quot;geometry&quot;: {&quot;coordinates&quot;: [117.487751, -31.59363668], &quot;type&quot;: &quot;Point&quot;}, &quot;id&quot;: &quot;759&quot;, &quot;properties&quot;: {&quot;Crop&quot;: 5, &quot;DryYield&quot;: 0.418, &quot;Elevation&quot;: 271.45, &quot;Heading&quot;: 179.9, &quot;Latitude&quot;: -31.59363668, &quot;Longitude&quot;: 117.487751, &quot;Time&quot;: &quot;11/12/2020 8:42&quot;, &quot;Variety&quot;: &quot;43Y23 RR&quot;, &quot;__folium_color&quot;: &quot;#280592&quot;, &quot;sample_id&quot;: &quot;bf66_sample_3&quot;}, &quot;type&quot;: &quot;Feature&quot;}, {&quot;bbox&quot;: [117.487751, -31.59560152, 117.487751, -31.59560152], &quot;geometry&quot;: {&quot;coordinates&quot;: [117.487751, -31.59560152], &quot;type&quot;: &quot;Point&quot;}, &quot;id&quot;: &quot;760&quot;, &quot;properties&quot;: {&quot;Crop&quot;: 5, &quot;DryYield&quot;: 0.495, &quot;Elevation&quot;: 273.78, &quot;Heading&quot;: 180.3, &quot;Latitude&quot;: -31.59560152, &quot;Longitude&quot;: 117.487751, &quot;Time&quot;: &quot;11/12/2020 8:44&quot;, &quot;Variety&quot;: &quot;43Y23 RR&quot;, &quot;__folium_color&quot;: &quot;#2c0594&quot;, &quot;sample_id&quot;: &quot;bf66_sample_3&quot;}, &quot;type&quot;: &quot;Feature&quot;}, {&quot;bbox&quot;: [117.4877508, -31.59779796, 117.4877508, -31.59779796], &quot;geometry&quot;: {&quot;coordinates&quot;: [117.4877508, -31.59779796], &quot;type&quot;: &quot;Point&quot;}, &quot;id&quot;: &quot;761&quot;, &quot;properties&quot;: {&quot;Crop&quot;: 5, &quot;DryYield&quot;: 0.319, &quot;Elevation&quot;: 271.2, &quot;Heading&quot;: 180.1, &quot;Latitude&quot;: -31.59779796, &quot;Longitude&quot;: 117.4877508, &quot;Time&quot;: &quot;11/12/2020 8:45&quot;, &quot;Variety&quot;: &quot;43Y23 RR&quot;, &quot;__folium_color&quot;: &quot;#220690&quot;, &quot;sample_id&quot;: &quot;bf66_sample_3&quot;}, &quot;type&quot;: &quot;Feature&quot;}, {&quot;bbox&quot;: [117.487751, -31.6000737, 117.487751, -31.6000737], &quot;geometry&quot;: {&quot;coordinates&quot;: [117.487751, -31.6000737], &quot;type&quot;: &quot;Point&quot;}, &quot;id&quot;: &quot;762&quot;, &quot;properties&quot;: {&quot;Crop&quot;: 5, &quot;DryYield&quot;: 0.231, &quot;Elevation&quot;: 268.03, &quot;Heading&quot;: 180.5, &quot;Latitude&quot;: -31.6000737, &quot;Longitude&quot;: 117.487751, &quot;Time&quot;: &quot;11/12/2020 8:46&quot;, &quot;Variety&quot;: &quot;43Y23 RR&quot;, &quot;__folium_color&quot;: &quot;#1d068e&quot;, &quot;sample_id&quot;: &quot;bf66_sample_3&quot;}, &quot;type&quot;: &quot;Feature&quot;}, {&quot;bbox&quot;: [117.4878781, -31.60194772, 117.4878781, -31.60194772], &quot;geometry&quot;: {&quot;coordinates&quot;: [117.4878781, -31.60194772], &quot;type&quot;: &quot;Point&quot;}, &quot;id&quot;: &quot;763&quot;, &quot;properties&quot;: {&quot;Crop&quot;: 5, &quot;DryYield&quot;: 0.169, &quot;Elevation&quot;: 271.85, &quot;Heading&quot;: 358.6, &quot;Latitude&quot;: -31.60194772, &quot;Longitude&quot;: 117.4878781, &quot;Time&quot;: &quot;11/12/2020 8:48&quot;, &quot;Variety&quot;: &quot;43Y23 RR&quot;, &quot;__folium_color&quot;: &quot;#19068c&quot;, &quot;sample_id&quot;: &quot;bf66_sample_3&quot;}, &quot;type&quot;: &quot;Feature&quot;}, {&quot;bbox&quot;: [117.4878776, -31.59984912, 117.4878776, -31.59984912], &quot;geometry&quot;: {&quot;coordinates&quot;: [117.4878776, -31.59984912], &quot;type&quot;: &quot;Point&quot;}, &quot;id&quot;: &quot;764&quot;, &quot;properties&quot;: {&quot;Crop&quot;: 5, &quot;DryYield&quot;: 0.327, &quot;Elevation&quot;: 268.24, &quot;Heading&quot;: 359.5, &quot;Latitude&quot;: -31.59984912, &quot;Longitude&quot;: 117.4878776, &quot;Time&quot;: &quot;11/12/2020 8:49&quot;, &quot;Variety&quot;: &quot;43Y23 RR&quot;, &quot;__folium_color&quot;: &quot;#240691&quot;, &quot;sample_id&quot;: &quot;bf66_sample_3&quot;}, &quot;type&quot;: &quot;Feature&quot;}, {&quot;bbox&quot;: [117.487878, -31.59761719, 117.487878, -31.59761719], &quot;geometry&quot;: {&quot;coordinates&quot;: [117.487878, -31.59761719], &quot;type&quot;: &quot;Point&quot;}, &quot;id&quot;: &quot;765&quot;, &quot;properties&quot;: {&quot;Crop&quot;: 5, &quot;DryYield&quot;: 0.381, &quot;Elevation&quot;: 271.63, &quot;Heading&quot;: 359.3, &quot;Latitude&quot;: -31.59761719, &quot;Longitude&quot;: 117.487878, &quot;Time&quot;: &quot;11/12/2020 8:50&quot;, &quot;Variety&quot;: &quot;43Y23 RR&quot;, &quot;__folium_color&quot;: &quot;#260591&quot;, &quot;sample_id&quot;: &quot;bf66_sample_3&quot;}, &quot;type&quot;: &quot;Feature&quot;}, {&quot;bbox&quot;: [117.4878776, -31.59548463, 117.4878776, -31.59548463], &quot;geometry&quot;: {&quot;coordinates&quot;: [117.4878776, -31.59548463], &quot;type&quot;: &quot;Point&quot;}, &quot;id&quot;: &quot;766&quot;, &quot;properties&quot;: {&quot;Crop&quot;: 5, &quot;DryYield&quot;: 0.556, &quot;Elevation&quot;: 273.95, &quot;Heading&quot;: 0.2, &quot;Latitude&quot;: -31.59548463, &quot;Longitude&quot;: 117.4878776, &quot;Time&quot;: &quot;11/12/2020 8:52&quot;, &quot;Variety&quot;: &quot;43Y23 RR&quot;, &quot;__folium_color&quot;: &quot;#2f0596&quot;, &quot;sample_id&quot;: &quot;bf66_sample_3&quot;}, &quot;type&quot;: &quot;Feature&quot;}, {&quot;bbox&quot;: [117.4878772, -31.5934395, 117.4878772, -31.5934395], &quot;geometry&quot;: {&quot;coordinates&quot;: [117.4878772, -31.5934395], &quot;type&quot;: &quot;Point&quot;}, &quot;id&quot;: &quot;767&quot;, &quot;properties&quot;: {&quot;Crop&quot;: 5, &quot;DryYield&quot;: 0.421, &quot;Elevation&quot;: 271.14, &quot;Heading&quot;: 359.6, &quot;Latitude&quot;: -31.5934395, &quot;Longitude&quot;: 117.4878772, &quot;Time&quot;: &quot;11/12/2020 8:53&quot;, &quot;Variety&quot;: &quot;43Y23 RR&quot;, &quot;__folium_color&quot;: &quot;#280592&quot;, &quot;sample_id&quot;: &quot;bf66_sample_3&quot;}, &quot;type&quot;: &quot;Feature&quot;}, {&quot;bbox&quot;: [117.48826, -31.59175621, 117.48826, -31.59175621], &quot;geometry&quot;: {&quot;coordinates&quot;: [117.48826, -31.59175621], &quot;type&quot;: &quot;Point&quot;}, &quot;id&quot;: &quot;768&quot;, &quot;properties&quot;: {&quot;Crop&quot;: 5, &quot;DryYield&quot;: 0.411, &quot;Elevation&quot;: 266.67, &quot;Heading&quot;: 175.2, &quot;Latitude&quot;: -31.59175621, &quot;Longitude&quot;: 117.48826, &quot;Time&quot;: &quot;11/12/2020 8:55&quot;, &quot;Variety&quot;: &quot;43Y23 RR&quot;, &quot;__folium_color&quot;: &quot;#280592&quot;, &quot;sample_id&quot;: &quot;bf66_sample_3&quot;}, &quot;type&quot;: &quot;Feature&quot;}, {&quot;bbox&quot;: [117.4882569, -31.59394998, 117.4882569, -31.59394998], &quot;geometry&quot;: {&quot;coordinates&quot;: [117.4882569, -31.59394998], &quot;type&quot;: &quot;Point&quot;}, &quot;id&quot;: &quot;769&quot;, &quot;properties&quot;: {&quot;Crop&quot;: 5, &quot;DryYield&quot;: 0.323, &quot;Elevation&quot;: 272.1, &quot;Heading&quot;: 179.9, &quot;Latitude&quot;: -31.59394998, &quot;Longitude&quot;: 117.4882569, &quot;Time&quot;: &quot;11/12/2020 8:56&quot;, &quot;Variety&quot;: &quot;43Y23 RR&quot;, &quot;__folium_color&quot;: &quot;#220690&quot;, &quot;sample_id&quot;: &quot;bf66_sample_3&quot;}, &quot;type&quot;: &quot;Feature&quot;}, {&quot;bbox&quot;: [117.4882569, -31.59605209, 117.4882569, -31.59605209], &quot;geometry&quot;: {&quot;coordinates&quot;: [117.4882569, -31.59605209], &quot;type&quot;: &quot;Point&quot;}, &quot;id&quot;: &quot;770&quot;, &quot;properties&quot;: {&quot;Crop&quot;: 5, &quot;DryYield&quot;: 0.529, &quot;Elevation&quot;: 274.31, &quot;Heading&quot;: 180.1, &quot;Latitude&quot;: -31.59605209, &quot;Longitude&quot;: 117.4882569, &quot;Time&quot;: &quot;11/12/2020 8:57&quot;, &quot;Variety&quot;: &quot;43Y23 RR&quot;, &quot;__folium_color&quot;: &quot;#2e0595&quot;, &quot;sample_id&quot;: &quot;bf66_sample_3&quot;}, &quot;type&quot;: &quot;Feature&quot;}, {&quot;bbox&quot;: [117.4882568, -31.59824852, 117.4882568, -31.59824852], &quot;geometry&quot;: {&quot;coordinates&quot;: [117.4882568, -31.59824852], &quot;type&quot;: &quot;Point&quot;}, &quot;id&quot;: &quot;771&quot;, &quot;properties&quot;: {&quot;Crop&quot;: 5, &quot;DryYield&quot;: 0.456, &quot;Elevation&quot;: 271.29, &quot;Heading&quot;: 180.0, &quot;Latitude&quot;: -31.59824852, &quot;Longitude&quot;: 117.4882568, &quot;Time&quot;: &quot;11/12/2020 8:59&quot;, &quot;Variety&quot;: &quot;43Y23 RR&quot;, &quot;__folium_color&quot;: &quot;#2a0593&quot;, &quot;sample_id&quot;: &quot;bf66_sample_3&quot;}, &quot;type&quot;: &quot;Feature&quot;}, {&quot;bbox&quot;: [117.4882571, -31.60046021, 117.4882571, -31.60046021], &quot;geometry&quot;: {&quot;coordinates&quot;: [117.4882571, -31.60046021], &quot;type&quot;: &quot;Point&quot;}, &quot;id&quot;: &quot;772&quot;, &quot;properties&quot;: {&quot;Crop&quot;: 5, &quot;DryYield&quot;: 0.269, &quot;Elevation&quot;: 269.03, &quot;Heading&quot;: 179.6, &quot;Latitude&quot;: -31.60046021, &quot;Longitude&quot;: 117.4882571, &quot;Time&quot;: &quot;11/12/2020 9:00&quot;, &quot;Variety&quot;: &quot;43Y23 RR&quot;, &quot;__folium_color&quot;: &quot;#20068f&quot;, &quot;sample_id&quot;: &quot;bf66_sample_3&quot;}, &quot;type&quot;: &quot;Feature&quot;}, {&quot;bbox&quot;: [117.4884159, -31.60259404, 117.4884159, -31.60259404], &quot;geometry&quot;: {&quot;coordinates&quot;: [117.4884159, -31.60259404], &quot;type&quot;: &quot;Point&quot;}, &quot;id&quot;: &quot;773&quot;, &quot;properties&quot;: {&quot;Crop&quot;: 5, &quot;DryYield&quot;: 0.105, &quot;Elevation&quot;: 272.85, &quot;Heading&quot;: 357.2, &quot;Latitude&quot;: -31.60259404, &quot;Longitude&quot;: 117.4884159, &quot;Time&quot;: &quot;11/12/2020 9:01&quot;, &quot;Variety&quot;: &quot;43Y23 RR&quot;, &quot;__folium_color&quot;: &quot;#130789&quot;, &quot;sample_id&quot;: &quot;bf66_sample_3&quot;}, &quot;type&quot;: &quot;Feature&quot;}, {&quot;bbox&quot;: [117.4883836, -31.60046358, 117.4883836, -31.60046358], &quot;geometry&quot;: {&quot;coordinates&quot;: [117.4883836, -31.60046358], &quot;type&quot;: &quot;Point&quot;}, &quot;id&quot;: &quot;774&quot;, &quot;properties&quot;: {&quot;Crop&quot;: 5, &quot;DryYield&quot;: 0.278, &quot;Elevation&quot;: 269.23, &quot;Heading&quot;: 0.0, &quot;Latitude&quot;: -31.60046358, &quot;Longitude&quot;: 117.4883836, &quot;Time&quot;: &quot;11/12/2020 9:03&quot;, &quot;Variety&quot;: &quot;43Y23 RR&quot;, &quot;__folium_color&quot;: &quot;#20068f&quot;, &quot;sample_id&quot;: &quot;bf66_sample_3&quot;}, &quot;type&quot;: &quot;Feature&quot;}, {&quot;bbox&quot;: [117.4883836, -31.59818157, 117.4883836, -31.59818157], &quot;geometry&quot;: {&quot;coordinates&quot;: [117.4883836, -31.59818157], &quot;type&quot;: &quot;Point&quot;}, &quot;id&quot;: &quot;775&quot;, &quot;properties&quot;: {&quot;Crop&quot;: 5, &quot;DryYield&quot;: 0.454, &quot;Elevation&quot;: 271.49, &quot;Heading&quot;: 0.8, &quot;Latitude&quot;: -31.59818157, &quot;Longitude&quot;: 117.4883836, &quot;Time&quot;: &quot;11/12/2020 9:04&quot;, &quot;Variety&quot;: &quot;43Y23 RR&quot;, &quot;__folium_color&quot;: &quot;#2a0593&quot;, &quot;sample_id&quot;: &quot;bf66_sample_3&quot;}, &quot;type&quot;: &quot;Feature&quot;}, {&quot;bbox&quot;: [117.4883832, -31.59599663, 117.4883832, -31.59599663], &quot;geometry&quot;: {&quot;coordinates&quot;: [117.4883832, -31.59599663], &quot;type&quot;: &quot;Point&quot;}, &quot;id&quot;: &quot;776&quot;, &quot;properties&quot;: {&quot;Crop&quot;: 5, &quot;DryYield&quot;: 0.469, &quot;Elevation&quot;: 274.48, &quot;Heading&quot;: 359.9, &quot;Latitude&quot;: -31.59599663, &quot;Longitude&quot;: 117.4883832, &quot;Time&quot;: &quot;11/12/2020 9:05&quot;, &quot;Variety&quot;: &quot;43Y23 RR&quot;, &quot;__folium_color&quot;: &quot;#2a0593&quot;, &quot;sample_id&quot;: &quot;bf66_sample_3&quot;}, &quot;type&quot;: &quot;Feature&quot;}, {&quot;bbox&quot;: [117.4883836, -31.59388089, 117.4883836, -31.59388089], &quot;geometry&quot;: {&quot;coordinates&quot;: [117.4883836, -31.59388089], &quot;type&quot;: &quot;Point&quot;}, &quot;id&quot;: &quot;777&quot;, &quot;properties&quot;: {&quot;Crop&quot;: 5, &quot;DryYield&quot;: 0.204, &quot;Elevation&quot;: 272.18, &quot;Heading&quot;: 0.2, &quot;Latitude&quot;: -31.59388089, &quot;Longitude&quot;: 117.4883836, &quot;Time&quot;: &quot;11/12/2020 9:07&quot;, &quot;Variety&quot;: &quot;43Y23 RR&quot;, &quot;__folium_color&quot;: &quot;#1b068d&quot;, &quot;sample_id&quot;: &quot;bf66_sample_3&quot;}, &quot;type&quot;: &quot;Feature&quot;}, {&quot;bbox&quot;: [117.4883836, -31.59168114, 117.4883836, -31.59168114], &quot;geometry&quot;: {&quot;coordinates&quot;: [117.4883836, -31.59168114], &quot;type&quot;: &quot;Point&quot;}, &quot;id&quot;: &quot;778&quot;, &quot;properties&quot;: {&quot;Crop&quot;: 5, &quot;DryYield&quot;: 0.146, &quot;Elevation&quot;: 266.65, &quot;Heading&quot;: 0.2, &quot;Latitude&quot;: -31.59168114, &quot;Longitude&quot;: 117.4883836, &quot;Time&quot;: &quot;11/12/2020 9:08&quot;, &quot;Variety&quot;: &quot;43Y23 RR&quot;, &quot;__folium_color&quot;: &quot;#19068c&quot;, &quot;sample_id&quot;: &quot;bf66_sample_3&quot;}, &quot;type&quot;: &quot;Feature&quot;}, {&quot;bbox&quot;: [117.4887627, -31.5934182, 117.4887627, -31.5934182], &quot;geometry&quot;: {&quot;coordinates&quot;: [117.4887627, -31.5934182], &quot;type&quot;: &quot;Point&quot;}, &quot;id&quot;: &quot;779&quot;, &quot;properties&quot;: {&quot;Crop&quot;: 5, &quot;DryYield&quot;: 0.182, &quot;Elevation&quot;: 271.46, &quot;Heading&quot;: 180.1, &quot;Latitude&quot;: -31.5934182, &quot;Longitude&quot;: 117.4887627, &quot;Time&quot;: &quot;11/12/2020 9:09&quot;, &quot;Variety&quot;: &quot;43Y23 RR&quot;, &quot;__folium_color&quot;: &quot;#1b068d&quot;, &quot;sample_id&quot;: &quot;bf66_sample_3&quot;}, &quot;type&quot;: &quot;Feature&quot;}, {&quot;bbox&quot;: [117.4887627, -31.59556414, 117.4887627, -31.59556414], &quot;geometry&quot;: {&quot;coordinates&quot;: [117.4887627, -31.59556414], &quot;type&quot;: &quot;Point&quot;}, &quot;id&quot;: &quot;780&quot;, &quot;properties&quot;: {&quot;Crop&quot;: 5, &quot;DryYield&quot;: 0.522, &quot;Elevation&quot;: 275.37, &quot;Heading&quot;: 180.0, &quot;Latitude&quot;: -31.59556414, &quot;Longitude&quot;: 117.4887627, &quot;Time&quot;: &quot;11/12/2020 9:11&quot;, &quot;Variety&quot;: &quot;43Y23 RR&quot;, &quot;__folium_color&quot;: &quot;#2e0595&quot;, &quot;sample_id&quot;: &quot;bf66_sample_3&quot;}, &quot;type&quot;: &quot;Feature&quot;}, {&quot;bbox&quot;: [117.4887629, -31.59767693, 117.4887629, -31.59767693], &quot;geometry&quot;: {&quot;coordinates&quot;: [117.4887629, -31.59767693], &quot;type&quot;: &quot;Point&quot;}, &quot;id&quot;: &quot;781&quot;, &quot;properties&quot;: {&quot;Crop&quot;: 5, &quot;DryYield&quot;: 0.399, &quot;Elevation&quot;: 273.19, &quot;Heading&quot;: 180.1, &quot;Latitude&quot;: -31.59767693, &quot;Longitude&quot;: 117.4887629, &quot;Time&quot;: &quot;11/12/2020 9:12&quot;, &quot;Variety&quot;: &quot;43Y23 RR&quot;, &quot;__folium_color&quot;: &quot;#280592&quot;, &quot;sample_id&quot;: &quot;bf66_sample_3&quot;}, &quot;type&quot;: &quot;Feature&quot;}, {&quot;bbox&quot;: [117.4887631, -31.59985663, 117.4887631, -31.59985663], &quot;geometry&quot;: {&quot;coordinates&quot;: [117.4887631, -31.59985663], &quot;type&quot;: &quot;Point&quot;}, &quot;id&quot;: &quot;782&quot;, &quot;properties&quot;: {&quot;Crop&quot;: 5, &quot;DryYield&quot;: 0.305, &quot;Elevation&quot;: 269.93, &quot;Heading&quot;: 179.9, &quot;Latitude&quot;: -31.59985663, &quot;Longitude&quot;: 117.4887631, &quot;Time&quot;: &quot;11/12/2020 9:13&quot;, &quot;Variety&quot;: &quot;43Y23 RR&quot;, &quot;__folium_color&quot;: &quot;#220690&quot;, &quot;sample_id&quot;: &quot;bf66_sample_3&quot;}, &quot;type&quot;: &quot;Feature&quot;}, {&quot;bbox&quot;: [117.4887629, -31.60200961, 117.4887629, -31.60200961], &quot;geometry&quot;: {&quot;coordinates&quot;: [117.4887629, -31.60200961], &quot;type&quot;: &quot;Point&quot;}, &quot;id&quot;: &quot;783&quot;, &quot;properties&quot;: {&quot;Crop&quot;: 5, &quot;DryYield&quot;: 0.295, &quot;Elevation&quot;: 272.31, &quot;Heading&quot;: 179.9, &quot;Latitude&quot;: -31.60200961, &quot;Longitude&quot;: 117.4887629, &quot;Time&quot;: &quot;11/12/2020 9:15&quot;, &quot;Variety&quot;: &quot;43Y23 RR&quot;, &quot;__folium_color&quot;: &quot;#220690&quot;, &quot;sample_id&quot;: &quot;bf66_sample_3&quot;}, &quot;type&quot;: &quot;Feature&quot;}, {&quot;bbox&quot;: [117.4888892, -31.60202325, 117.4888892, -31.60202325], &quot;geometry&quot;: {&quot;coordinates&quot;: [117.4888892, -31.60202325], &quot;type&quot;: &quot;Point&quot;}, &quot;id&quot;: &quot;784&quot;, &quot;properties&quot;: {&quot;Crop&quot;: 5, &quot;DryYield&quot;: 0.297, &quot;Elevation&quot;: 272.4, &quot;Heading&quot;: 359.7, &quot;Latitude&quot;: -31.60202325, &quot;Longitude&quot;: 117.4888892, &quot;Time&quot;: &quot;11/12/2020 9:16&quot;, &quot;Variety&quot;: &quot;43Y23 RR&quot;, &quot;__folium_color&quot;: &quot;#220690&quot;, &quot;sample_id&quot;: &quot;bf66_sample_3&quot;}, &quot;type&quot;: &quot;Feature&quot;}, {&quot;bbox&quot;: [117.4888888, -31.59993414, 117.4888888, -31.59993414], &quot;geometry&quot;: {&quot;coordinates&quot;: [117.4888888, -31.59993414], &quot;type&quot;: &quot;Point&quot;}, &quot;id&quot;: &quot;785&quot;, &quot;properties&quot;: {&quot;Crop&quot;: 5, &quot;DryYield&quot;: 0.233, &quot;Elevation&quot;: 270.0, &quot;Heading&quot;: 359.9, &quot;Latitude&quot;: -31.59993414, &quot;Longitude&quot;: 117.4888888, &quot;Time&quot;: &quot;11/12/2020 9:18&quot;, &quot;Variety&quot;: &quot;43Y23 RR&quot;, &quot;__folium_color&quot;: &quot;#1d068e&quot;, &quot;sample_id&quot;: &quot;bf66_sample_3&quot;}, &quot;type&quot;: &quot;Feature&quot;}, {&quot;bbox&quot;: [117.4888893, -31.59778877, 117.4888893, -31.59778877], &quot;geometry&quot;: {&quot;coordinates&quot;: [117.4888893, -31.59778877], &quot;type&quot;: &quot;Point&quot;}, &quot;id&quot;: &quot;786&quot;, &quot;properties&quot;: {&quot;Crop&quot;: 5, &quot;DryYield&quot;: 0.46, &quot;Elevation&quot;: 273.08, &quot;Heading&quot;: 0.1, &quot;Latitude&quot;: -31.59778877, &quot;Longitude&quot;: 117.4888893, &quot;Time&quot;: &quot;11/12/2020 9:19&quot;, &quot;Variety&quot;: &quot;43Y23 RR&quot;, &quot;__folium_color&quot;: &quot;#2a0593&quot;, &quot;sample_id&quot;: &quot;bf66_sample_3&quot;}, &quot;type&quot;: &quot;Feature&quot;}, {&quot;bbox&quot;: [117.4888892, -31.59565361, 117.4888892, -31.59565361], &quot;geometry&quot;: {&quot;coordinates&quot;: [117.4888892, -31.59565361], &quot;type&quot;: &quot;Point&quot;}, &quot;id&quot;: &quot;787&quot;, &quot;properties&quot;: {&quot;Crop&quot;: 5, &quot;DryYield&quot;: 0.346, &quot;Elevation&quot;: 275.44, &quot;Heading&quot;: 360.0, &quot;Latitude&quot;: -31.59565361, &quot;Longitude&quot;: 117.4888892, &quot;Time&quot;: &quot;11/12/2020 9:20&quot;, &quot;Variety&quot;: &quot;43Y23 RR&quot;, &quot;__folium_color&quot;: &quot;#240691&quot;, &quot;sample_id&quot;: &quot;bf66_sample_3&quot;}, &quot;type&quot;: &quot;Feature&quot;}, {&quot;bbox&quot;: [117.4888893, -31.59356467, 117.4888893, -31.59356467], &quot;geometry&quot;: {&quot;coordinates&quot;: [117.4888893, -31.59356467], &quot;type&quot;: &quot;Point&quot;}, &quot;id&quot;: &quot;788&quot;, &quot;properties&quot;: {&quot;Crop&quot;: 5, &quot;DryYield&quot;: 0.206, &quot;Elevation&quot;: 272.27, &quot;Heading&quot;: 0.3, &quot;Latitude&quot;: -31.59356467, &quot;Longitude&quot;: 117.4888893, &quot;Time&quot;: &quot;11/12/2020 9:21&quot;, &quot;Variety&quot;: &quot;43Y23 RR&quot;, &quot;__folium_color&quot;: &quot;#1b068d&quot;, &quot;sample_id&quot;: &quot;bf66_sample_3&quot;}, &quot;type&quot;: &quot;Feature&quot;}, {&quot;bbox&quot;: [117.4892678, -31.59158507, 117.4892678, -31.59158507], &quot;geometry&quot;: {&quot;coordinates&quot;: [117.4892678, -31.59158507], &quot;type&quot;: &quot;Point&quot;}, &quot;id&quot;: &quot;789&quot;, &quot;properties&quot;: {&quot;Crop&quot;: 5, &quot;DryYield&quot;: 0.136, &quot;Elevation&quot;: 266.75, &quot;Heading&quot;: 179.0, &quot;Latitude&quot;: -31.59158507, &quot;Longitude&quot;: 117.4892678, &quot;Time&quot;: &quot;11/12/2020 9:23&quot;, &quot;Variety&quot;: &quot;43Y23 RR&quot;, &quot;__folium_color&quot;: &quot;#16078a&quot;, &quot;sample_id&quot;: &quot;bf66_sample_3&quot;}, &quot;type&quot;: &quot;Feature&quot;}, {&quot;bbox&quot;: [117.4892683, -31.59369934, 117.4892683, -31.59369934], &quot;geometry&quot;: {&quot;coordinates&quot;: [117.4892683, -31.59369934], &quot;type&quot;: &quot;Point&quot;}, &quot;id&quot;: &quot;790&quot;, &quot;properties&quot;: {&quot;Crop&quot;: 5, &quot;DryYield&quot;: 0.237, &quot;Elevation&quot;: 272.65, &quot;Heading&quot;: 180.0, &quot;Latitude&quot;: -31.59369934, &quot;Longitude&quot;: 117.4892683, &quot;Time&quot;: &quot;11/12/2020 9:24&quot;, &quot;Variety&quot;: &quot;43Y23 RR&quot;, &quot;__folium_color&quot;: &quot;#1d068e&quot;, &quot;sample_id&quot;: &quot;bf66_sample_3&quot;}, &quot;type&quot;: &quot;Feature&quot;}, {&quot;bbox&quot;: [117.4892681, -31.59582229, 117.4892681, -31.59582229], &quot;geometry&quot;: {&quot;coordinates&quot;: [117.4892681, -31.59582229], &quot;type&quot;: &quot;Point&quot;}, &quot;id&quot;: &quot;791&quot;, &quot;properties&quot;: {&quot;Crop&quot;: 5, &quot;DryYield&quot;: 0.411, &quot;Elevation&quot;: 275.97, &quot;Heading&quot;: 180.3, &quot;Latitude&quot;: -31.59582229, &quot;Longitude&quot;: 117.4892681, &quot;Time&quot;: &quot;11/12/2020 9:26&quot;, &quot;Variety&quot;: &quot;43Y23 RR&quot;, &quot;__folium_color&quot;: &quot;#280592&quot;, &quot;sample_id&quot;: &quot;bf66_sample_3&quot;}, &quot;type&quot;: &quot;Feature&quot;}, {&quot;bbox&quot;: [117.4892685, -31.59807862, 117.4892685, -31.59807862], &quot;geometry&quot;: {&quot;coordinates&quot;: [117.4892685, -31.59807862], &quot;type&quot;: &quot;Point&quot;}, &quot;id&quot;: &quot;792&quot;, &quot;properties&quot;: {&quot;Crop&quot;: 5, &quot;DryYield&quot;: 0.31, &quot;Elevation&quot;: 273.37, &quot;Heading&quot;: 180.1, &quot;Latitude&quot;: -31.59807862, &quot;Longitude&quot;: 117.4892685, &quot;Time&quot;: &quot;11/12/2020 9:27&quot;, &quot;Variety&quot;: &quot;43Y23 RR&quot;, &quot;__folium_color&quot;: &quot;#220690&quot;, &quot;sample_id&quot;: &quot;bf66_sample_3&quot;}, &quot;type&quot;: &quot;Feature&quot;}, {&quot;bbox&quot;: [117.4892681, -31.60029951, 117.4892681, -31.60029951], &quot;geometry&quot;: {&quot;coordinates&quot;: [117.4892681, -31.60029951], &quot;type&quot;: &quot;Point&quot;}, &quot;id&quot;: &quot;793&quot;, &quot;properties&quot;: {&quot;Crop&quot;: 5, &quot;DryYield&quot;: 0.272, &quot;Elevation&quot;: 270.53, &quot;Heading&quot;: 180.2, &quot;Latitude&quot;: -31.60029951, &quot;Longitude&quot;: 117.4892681, &quot;Time&quot;: &quot;11/12/2020 9:28&quot;, &quot;Variety&quot;: &quot;43Y23 RR&quot;, &quot;__folium_color&quot;: &quot;#20068f&quot;, &quot;sample_id&quot;: &quot;bf66_sample_3&quot;}, &quot;type&quot;: &quot;Feature&quot;}, {&quot;bbox&quot;: [117.4892683, -31.60256217, 117.4892683, -31.60256217], &quot;geometry&quot;: {&quot;coordinates&quot;: [117.4892683, -31.60256217], &quot;type&quot;: &quot;Point&quot;}, &quot;id&quot;: &quot;794&quot;, &quot;properties&quot;: {&quot;Crop&quot;: 5, &quot;DryYield&quot;: 0.196, &quot;Elevation&quot;: 272.96, &quot;Heading&quot;: 180.1, &quot;Latitude&quot;: -31.60256217, &quot;Longitude&quot;: 117.4892683, &quot;Time&quot;: &quot;11/12/2020 9:30&quot;, &quot;Variety&quot;: &quot;43Y23 RR&quot;, &quot;__folium_color&quot;: &quot;#1b068d&quot;, &quot;sample_id&quot;: &quot;bf66_sample_3&quot;}, &quot;type&quot;: &quot;Feature&quot;}, {&quot;bbox&quot;: [117.4893951, -31.60201696, 117.4893951, -31.60201696], &quot;geometry&quot;: {&quot;coordinates&quot;: [117.4893951, -31.60201696], &quot;type&quot;: &quot;Point&quot;}, &quot;id&quot;: &quot;795&quot;, &quot;properties&quot;: {&quot;Crop&quot;: 5, &quot;DryYield&quot;: 0.246, &quot;Elevation&quot;: 272.49, &quot;Heading&quot;: 0.3, &quot;Latitude&quot;: -31.60201696, &quot;Longitude&quot;: 117.4893951, &quot;Time&quot;: &quot;11/12/2020 9:31&quot;, &quot;Variety&quot;: &quot;43Y23 RR&quot;, &quot;__folium_color&quot;: &quot;#1d068e&quot;, &quot;sample_id&quot;: &quot;bf66_sample_3&quot;}, &quot;type&quot;: &quot;Feature&quot;}, {&quot;bbox&quot;: [117.4864867, -31.59499959, 117.4864867, -31.59499959], &quot;geometry&quot;: {&quot;coordinates&quot;: [117.4864867, -31.59499959], &quot;type&quot;: &quot;Point&quot;}, &quot;id&quot;: &quot;796&quot;, &quot;properties&quot;: {&quot;Crop&quot;: 5, &quot;DryYield&quot;: 0.495, &quot;Elevation&quot;: 271.98, &quot;Heading&quot;: 0.1, &quot;Latitude&quot;: -31.59499959, &quot;Longitude&quot;: 117.4864867, &quot;Time&quot;: &quot;11/12/2020 8:16&quot;, &quot;Variety&quot;: &quot;43Y23 RR&quot;, &quot;__folium_color&quot;: &quot;#2c0594&quot;, &quot;sample_id&quot;: &quot;bf66_sample_3&quot;}, &quot;type&quot;: &quot;Feature&quot;}, {&quot;bbox&quot;: [117.4864865, -31.59286191, 117.4864865, -31.59286191], &quot;geometry&quot;: {&quot;coordinates&quot;: [117.4864865, -31.59286191], &quot;type&quot;: &quot;Point&quot;}, &quot;id&quot;: &quot;797&quot;, &quot;properties&quot;: {&quot;Crop&quot;: 5, &quot;DryYield&quot;: 0.573, &quot;Elevation&quot;: 268.97, &quot;Heading&quot;: 359.7, &quot;Latitude&quot;: -31.59286191, &quot;Longitude&quot;: 117.4864865, &quot;Time&quot;: &quot;11/12/2020 8:17&quot;, &quot;Variety&quot;: &quot;43Y23 RR&quot;, &quot;__folium_color&quot;: &quot;#2f0596&quot;, &quot;sample_id&quot;: &quot;bf66_sample_3&quot;}, &quot;type&quot;: &quot;Feature&quot;}, {&quot;bbox&quot;: [117.4866128, -31.59301542, 117.4866128, -31.59301542], &quot;geometry&quot;: {&quot;coordinates&quot;: [117.4866128, -31.59301542], &quot;type&quot;: &quot;Point&quot;}, &quot;id&quot;: &quot;798&quot;, &quot;properties&quot;: {&quot;Crop&quot;: 5, &quot;DryYield&quot;: 0.53, &quot;Elevation&quot;: 269.31, &quot;Heading&quot;: 180.3, &quot;Latitude&quot;: -31.59301542, &quot;Longitude&quot;: 117.4866128, &quot;Time&quot;: &quot;11/12/2020 8:22&quot;, &quot;Variety&quot;: &quot;43Y23 RR&quot;, &quot;__folium_color&quot;: &quot;#2e0595&quot;, &quot;sample_id&quot;: &quot;bf66_sample_3&quot;}, &quot;type&quot;: &quot;Feature&quot;}, {&quot;bbox&quot;: [117.486613, -31.59507236, 117.486613, -31.59507236], &quot;geometry&quot;: {&quot;coordinates&quot;: [117.486613, -31.59507236], &quot;type&quot;: &quot;Point&quot;}, &quot;id&quot;: &quot;799&quot;, &quot;properties&quot;: {&quot;Crop&quot;: 5, &quot;DryYield&quot;: 0.359, &quot;Elevation&quot;: 272.21, &quot;Heading&quot;: 180.1, &quot;Latitude&quot;: -31.59507236, &quot;Longitude&quot;: 117.486613, &quot;Time&quot;: &quot;11/12/2020 8:23&quot;, &quot;Variety&quot;: &quot;43Y23 RR&quot;, &quot;__folium_color&quot;: &quot;#240691&quot;, &quot;sample_id&quot;: &quot;bf66_sample_3&quot;}, &quot;type&quot;: &quot;Feature&quot;}, {&quot;bbox&quot;: [117.4866133, -31.5972227, 117.4866133, -31.5972227], &quot;geometry&quot;: {&quot;coordinates&quot;: [117.4866133, -31.5972227], &quot;type&quot;: &quot;Point&quot;}, &quot;id&quot;: &quot;800&quot;, &quot;properties&quot;: {&quot;Crop&quot;: 5, &quot;DryYield&quot;: 0.389, &quot;Elevation&quot;: 270.94, &quot;Heading&quot;: 179.9, &quot;Latitude&quot;: -31.5972227, &quot;Longitude&quot;: 117.4866133, &quot;Time&quot;: &quot;11/12/2020 8:24&quot;, &quot;Variety&quot;: &quot;43Y23 RR&quot;, &quot;__folium_color&quot;: &quot;#260591&quot;, &quot;sample_id&quot;: &quot;bf66_sample_3&quot;}, &quot;type&quot;: &quot;Feature&quot;}, {&quot;bbox&quot;: [117.4866132, -31.59984958, 117.4866132, -31.59984958], &quot;geometry&quot;: {&quot;coordinates&quot;: [117.4866132, -31.59984958], &quot;type&quot;: &quot;Point&quot;}, &quot;id&quot;: &quot;801&quot;, &quot;properties&quot;: {&quot;Crop&quot;: 5, &quot;DryYield&quot;: 0.579, &quot;Elevation&quot;: 267.1, &quot;Heading&quot;: 180.0, &quot;Latitude&quot;: -31.59984958, &quot;Longitude&quot;: 117.4866132, &quot;Time&quot;: &quot;11/12/2020 8:26&quot;, &quot;Variety&quot;: &quot;43Y23 RR&quot;, &quot;__folium_color&quot;: &quot;#310597&quot;, &quot;sample_id&quot;: &quot;bf66_sample_3&quot;}, &quot;type&quot;: &quot;Feature&quot;}, {&quot;bbox&quot;: [117.4870722, -31.60084075, 117.4870722, -31.60084075], &quot;geometry&quot;: {&quot;coordinates&quot;: [117.4870722, -31.60084075], &quot;type&quot;: &quot;Point&quot;}, &quot;id&quot;: &quot;802&quot;, &quot;properties&quot;: {&quot;Crop&quot;: 5, &quot;DryYield&quot;: 0.165, &quot;Elevation&quot;: 269.45, &quot;Heading&quot;: 19.7, &quot;Latitude&quot;: -31.60084075, &quot;Longitude&quot;: 117.4870722, &quot;Time&quot;: &quot;11/12/2020 8:28&quot;, &quot;Variety&quot;: &quot;43Y23 RR&quot;, &quot;__folium_color&quot;: &quot;#19068c&quot;, &quot;sample_id&quot;: &quot;bf66_sample_3&quot;}, &quot;type&quot;: &quot;Feature&quot;}, {&quot;bbox&quot;: [117.4869923, -31.59865281, 117.4869923, -31.59865281], &quot;geometry&quot;: {&quot;coordinates&quot;: [117.4869923, -31.59865281], &quot;type&quot;: &quot;Point&quot;}, &quot;id&quot;: &quot;803&quot;, &quot;properties&quot;: {&quot;Crop&quot;: 5, &quot;DryYield&quot;: 0.408, &quot;Elevation&quot;: 268.49, &quot;Heading&quot;: 0.0, &quot;Latitude&quot;: -31.59865281, &quot;Longitude&quot;: 117.4869923, &quot;Time&quot;: &quot;11/12/2020 8:30&quot;, &quot;Variety&quot;: &quot;43Y23 RR&quot;, &quot;__folium_color&quot;: &quot;#280592&quot;, &quot;sample_id&quot;: &quot;bf66_sample_3&quot;}, &quot;type&quot;: &quot;Feature&quot;}, {&quot;bbox&quot;: [117.4869923, -31.5964593, 117.4869923, -31.5964593], &quot;geometry&quot;: {&quot;coordinates&quot;: [117.4869923, -31.5964593], &quot;type&quot;: &quot;Point&quot;}, &quot;id&quot;: &quot;804&quot;, &quot;properties&quot;: {&quot;Crop&quot;: 5, &quot;DryYield&quot;: 0.478, &quot;Elevation&quot;: 272.25, &quot;Heading&quot;: 359.7, &quot;Latitude&quot;: -31.5964593, &quot;Longitude&quot;: 117.4869923, &quot;Time&quot;: &quot;11/12/2020 8:31&quot;, &quot;Variety&quot;: &quot;43Y23 RR&quot;, &quot;__folium_color&quot;: &quot;#2c0594&quot;, &quot;sample_id&quot;: &quot;bf66_sample_3&quot;}, &quot;type&quot;: &quot;Feature&quot;}, {&quot;bbox&quot;: [117.4869925, -31.59425746, 117.4869925, -31.59425746], &quot;geometry&quot;: {&quot;coordinates&quot;: [117.4869925, -31.59425746], &quot;type&quot;: &quot;Point&quot;}, &quot;id&quot;: &quot;805&quot;, &quot;properties&quot;: {&quot;Crop&quot;: 5, &quot;DryYield&quot;: 0.465, &quot;Elevation&quot;: 271.64, &quot;Heading&quot;: 0.2, &quot;Latitude&quot;: -31.59425746, &quot;Longitude&quot;: 117.4869925, &quot;Time&quot;: &quot;11/12/2020 8:32&quot;, &quot;Variety&quot;: &quot;43Y23 RR&quot;, &quot;__folium_color&quot;: &quot;#2a0593&quot;, &quot;sample_id&quot;: &quot;bf66_sample_3&quot;}, &quot;type&quot;: &quot;Feature&quot;}, {&quot;bbox&quot;: [117.4869923, -31.59205435, 117.4869923, -31.59205435], &quot;geometry&quot;: {&quot;coordinates&quot;: [117.4869923, -31.59205435], &quot;type&quot;: &quot;Point&quot;}, &quot;id&quot;: &quot;806&quot;, &quot;properties&quot;: {&quot;Crop&quot;: 5, &quot;DryYield&quot;: 0.36, &quot;Elevation&quot;: 267.68, &quot;Heading&quot;: 359.8, &quot;Latitude&quot;: -31.59205435, &quot;Longitude&quot;: 117.4869923, &quot;Time&quot;: &quot;11/12/2020 8:34&quot;, &quot;Variety&quot;: &quot;43Y23 RR&quot;, &quot;__folium_color&quot;: &quot;#240691&quot;, &quot;sample_id&quot;: &quot;bf66_sample_3&quot;}, &quot;type&quot;: &quot;Feature&quot;}, {&quot;bbox&quot;: [117.4871189, -31.59387675, 117.4871189, -31.59387675], &quot;geometry&quot;: {&quot;coordinates&quot;: [117.4871189, -31.59387675], &quot;type&quot;: &quot;Point&quot;}, &quot;id&quot;: &quot;807&quot;, &quot;properties&quot;: {&quot;Crop&quot;: 5, &quot;DryYield&quot;: 0.807, &quot;Elevation&quot;: 271.14, &quot;Heading&quot;: 179.9, &quot;Latitude&quot;: -31.59387675, &quot;Longitude&quot;: 117.4871189, &quot;Time&quot;: &quot;11/12/2020 8:35&quot;, &quot;Variety&quot;: &quot;43Y23 RR&quot;, &quot;__folium_color&quot;: &quot;#3c049b&quot;, &quot;sample_id&quot;: &quot;bf66_sample_3&quot;}, &quot;type&quot;: &quot;Feature&quot;}, {&quot;bbox&quot;: [117.4871188, -31.59606419, 117.4871188, -31.59606419], &quot;geometry&quot;: {&quot;coordinates&quot;: [117.4871188, -31.59606419], &quot;type&quot;: &quot;Point&quot;}, &quot;id&quot;: &quot;808&quot;, &quot;properties&quot;: {&quot;Crop&quot;: 5, &quot;DryYield&quot;: 0.451, &quot;Elevation&quot;: 272.84, &quot;Heading&quot;: 180.0, &quot;Latitude&quot;: -31.59606419, &quot;Longitude&quot;: 117.4871188, &quot;Time&quot;: &quot;11/12/2020 8:36&quot;, &quot;Variety&quot;: &quot;43Y23 RR&quot;, &quot;__folium_color&quot;: &quot;#2a0593&quot;, &quot;sample_id&quot;: &quot;bf66_sample_3&quot;}, &quot;type&quot;: &quot;Feature&quot;}, {&quot;bbox&quot;: [117.4871191, -31.59811937, 117.4871191, -31.59811937], &quot;geometry&quot;: {&quot;coordinates&quot;: [117.4871191, -31.59811937], &quot;type&quot;: &quot;Point&quot;}, &quot;id&quot;: &quot;809&quot;, &quot;properties&quot;: {&quot;Crop&quot;: 5, &quot;DryYield&quot;: 0.523, &quot;Elevation&quot;: 269.9, &quot;Heading&quot;: 180.0, &quot;Latitude&quot;: -31.59811937, &quot;Longitude&quot;: 117.4871191, &quot;Time&quot;: &quot;11/12/2020 8:38&quot;, &quot;Variety&quot;: &quot;43Y23 RR&quot;, &quot;__folium_color&quot;: &quot;#2e0595&quot;, &quot;sample_id&quot;: &quot;bf66_sample_3&quot;}, &quot;type&quot;: &quot;Feature&quot;}, {&quot;bbox&quot;: [117.4871189, -31.60029813, 117.4871189, -31.60029813], &quot;geometry&quot;: {&quot;coordinates&quot;: [117.4871189, -31.60029813], &quot;type&quot;: &quot;Point&quot;}, &quot;id&quot;: &quot;810&quot;, &quot;properties&quot;: {&quot;Crop&quot;: 5, &quot;DryYield&quot;: 0.46, &quot;Elevation&quot;: 268.22, &quot;Heading&quot;: 180.3, &quot;Latitude&quot;: -31.60029813, &quot;Longitude&quot;: 117.4871189, &quot;Time&quot;: &quot;11/12/2020 8:39&quot;, &quot;Variety&quot;: &quot;43Y23 RR&quot;, &quot;__folium_color&quot;: &quot;#2a0593&quot;, &quot;sample_id&quot;: &quot;bf66_sample_3&quot;}, &quot;type&quot;: &quot;Feature&quot;}, {&quot;bbox&quot;: [117.4874985, -31.60123323, 117.4874985, -31.60123323], &quot;geometry&quot;: {&quot;coordinates&quot;: [117.4874985, -31.60123323], &quot;type&quot;: &quot;Point&quot;}, &quot;id&quot;: &quot;811&quot;, &quot;properties&quot;: {&quot;Crop&quot;: 5, &quot;DryYield&quot;: 0.243, &quot;Elevation&quot;: 270.61, &quot;Heading&quot;: 359.8, &quot;Latitude&quot;: -31.60123323, &quot;Longitude&quot;: 117.4874985, &quot;Time&quot;: &quot;11/12/2020 8:41&quot;, &quot;Variety&quot;: &quot;43Y23 RR&quot;, &quot;__folium_color&quot;: &quot;#1d068e&quot;, &quot;sample_id&quot;: &quot;bf66_sample_3&quot;}, &quot;type&quot;: &quot;Feature&quot;}, {&quot;bbox&quot;: [117.4874981, -31.59903044, 117.4874981, -31.59903044], &quot;geometry&quot;: {&quot;coordinates&quot;: [117.4874981, -31.59903044], &quot;type&quot;: &quot;Point&quot;}, &quot;id&quot;: &quot;812&quot;, &quot;properties&quot;: {&quot;Crop&quot;: 5, &quot;DryYield&quot;: 0.498, &quot;Elevation&quot;: 268.6, &quot;Heading&quot;: 0.1, &quot;Latitude&quot;: -31.59903044, &quot;Longitude&quot;: 117.4874981, &quot;Time&quot;: &quot;11/12/2020 8:42&quot;, &quot;Variety&quot;: &quot;43Y23 RR&quot;, &quot;__folium_color&quot;: &quot;#2c0594&quot;, &quot;sample_id&quot;: &quot;bf66_sample_3&quot;}, &quot;type&quot;: &quot;Feature&quot;}, {&quot;bbox&quot;: [117.4874985, -31.59683939, 117.4874985, -31.59683939], &quot;geometry&quot;: {&quot;coordinates&quot;: [117.4874985, -31.59683939], &quot;type&quot;: &quot;Point&quot;}, &quot;id&quot;: &quot;813&quot;, &quot;properties&quot;: {&quot;Crop&quot;: 5, &quot;DryYield&quot;: 0.583, &quot;Elevation&quot;: 272.45, &quot;Heading&quot;: 359.6, &quot;Latitude&quot;: -31.59683939, &quot;Longitude&quot;: 117.4874985, &quot;Time&quot;: &quot;11/12/2020 8:43&quot;, &quot;Variety&quot;: &quot;43Y23 RR&quot;, &quot;__folium_color&quot;: &quot;#310597&quot;, &quot;sample_id&quot;: &quot;bf66_sample_3&quot;}, &quot;type&quot;: &quot;Feature&quot;}, {&quot;bbox&quot;: [117.4874981, -31.59464231, 117.4874981, -31.59464231], &quot;geometry&quot;: {&quot;coordinates&quot;: [117.4874981, -31.59464231], &quot;type&quot;: &quot;Point&quot;}, &quot;id&quot;: &quot;814&quot;, &quot;properties&quot;: {&quot;Crop&quot;: 5, &quot;DryYield&quot;: 0.749, &quot;Elevation&quot;: 273.21, &quot;Heading&quot;: 359.7, &quot;Latitude&quot;: -31.59464231, &quot;Longitude&quot;: 117.4874981, &quot;Time&quot;: &quot;11/12/2020 8:45&quot;, &quot;Variety&quot;: &quot;43Y23 RR&quot;, &quot;__folium_color&quot;: &quot;#38049a&quot;, &quot;sample_id&quot;: &quot;bf66_sample_3&quot;}, &quot;type&quot;: &quot;Feature&quot;}, {&quot;bbox&quot;: [117.4874983, -31.59243737, 117.4874983, -31.59243737], &quot;geometry&quot;: {&quot;coordinates&quot;: [117.4874983, -31.59243737], &quot;type&quot;: &quot;Point&quot;}, &quot;id&quot;: &quot;815&quot;, &quot;properties&quot;: {&quot;Crop&quot;: 5, &quot;DryYield&quot;: 0.76, &quot;Elevation&quot;: 268.85, &quot;Heading&quot;: 359.9, &quot;Latitude&quot;: -31.59243737, &quot;Longitude&quot;: 117.4874983, &quot;Time&quot;: &quot;11/12/2020 8:46&quot;, &quot;Variety&quot;: &quot;43Y23 RR&quot;, &quot;__folium_color&quot;: &quot;#3a049a&quot;, &quot;sample_id&quot;: &quot;bf66_sample_3&quot;}, &quot;type&quot;: &quot;Feature&quot;}, {&quot;bbox&quot;: [117.4876245, -31.59352652, 117.4876245, -31.59352652], &quot;geometry&quot;: {&quot;coordinates&quot;: [117.4876245, -31.59352652], &quot;type&quot;: &quot;Point&quot;}, &quot;id&quot;: &quot;816&quot;, &quot;properties&quot;: {&quot;Crop&quot;: 5, &quot;DryYield&quot;: 0.711, &quot;Elevation&quot;: 271.53, &quot;Heading&quot;: 180.2, &quot;Latitude&quot;: -31.59352652, &quot;Longitude&quot;: 117.4876245, &quot;Time&quot;: &quot;11/12/2020 8:48&quot;, &quot;Variety&quot;: &quot;43Y23 RR&quot;, &quot;__folium_color&quot;: &quot;#370499&quot;, &quot;sample_id&quot;: &quot;bf66_sample_3&quot;}, &quot;type&quot;: &quot;Feature&quot;}, {&quot;bbox&quot;: [117.4876245, -31.59571872, 117.4876245, -31.59571872], &quot;geometry&quot;: {&quot;coordinates&quot;: [117.4876245, -31.59571872], &quot;type&quot;: &quot;Point&quot;}, &quot;id&quot;: &quot;817&quot;, &quot;properties&quot;: {&quot;Crop&quot;: 5, &quot;DryYield&quot;: 0.568, &quot;Elevation&quot;: 273.66, &quot;Heading&quot;: 180.1, &quot;Latitude&quot;: -31.59571872, &quot;Longitude&quot;: 117.4876245, &quot;Time&quot;: &quot;11/12/2020 8:49&quot;, &quot;Variety&quot;: &quot;43Y23 RR&quot;, &quot;__folium_color&quot;: &quot;#2f0596&quot;, &quot;sample_id&quot;: &quot;bf66_sample_3&quot;}, &quot;type&quot;: &quot;Feature&quot;}, {&quot;bbox&quot;: [117.4876249, -31.59790459, 117.4876249, -31.59790459], &quot;geometry&quot;: {&quot;coordinates&quot;: [117.4876249, -31.59790459], &quot;type&quot;: &quot;Point&quot;}, &quot;id&quot;: &quot;818&quot;, &quot;properties&quot;: {&quot;Crop&quot;: 5, &quot;DryYield&quot;: 0.469, &quot;Elevation&quot;: 271.06, &quot;Heading&quot;: 179.8, &quot;Latitude&quot;: -31.59790459, &quot;Longitude&quot;: 117.4876249, &quot;Time&quot;: &quot;11/12/2020 8:50&quot;, &quot;Variety&quot;: &quot;43Y23 RR&quot;, &quot;__folium_color&quot;: &quot;#2a0593&quot;, &quot;sample_id&quot;: &quot;bf66_sample_3&quot;}, &quot;type&quot;: &quot;Feature&quot;}, {&quot;bbox&quot;: [117.4876251, -31.60010894, 117.4876251, -31.60010894], &quot;geometry&quot;: {&quot;coordinates&quot;: [117.4876251, -31.60010894], &quot;type&quot;: &quot;Point&quot;}, &quot;id&quot;: &quot;819&quot;, &quot;properties&quot;: {&quot;Crop&quot;: 5, &quot;DryYield&quot;: 0.321, &quot;Elevation&quot;: 268.09, &quot;Heading&quot;: 180.1, &quot;Latitude&quot;: -31.60010894, &quot;Longitude&quot;: 117.4876251, &quot;Time&quot;: &quot;11/12/2020 8:51&quot;, &quot;Variety&quot;: &quot;43Y23 RR&quot;, &quot;__folium_color&quot;: &quot;#220690&quot;, &quot;sample_id&quot;: &quot;bf66_sample_3&quot;}, &quot;type&quot;: &quot;Feature&quot;}, {&quot;bbox&quot;: [117.4880042, -31.6018005, 117.4880042, -31.6018005], &quot;geometry&quot;: {&quot;coordinates&quot;: [117.4880042, -31.6018005], &quot;type&quot;: &quot;Point&quot;}, &quot;id&quot;: &quot;820&quot;, &quot;properties&quot;: {&quot;Crop&quot;: 5, &quot;DryYield&quot;: 0.483, &quot;Elevation&quot;: 271.9, &quot;Heading&quot;: 359.9, &quot;Latitude&quot;: -31.6018005, &quot;Longitude&quot;: 117.4880042, &quot;Time&quot;: &quot;11/12/2020 8:53&quot;, &quot;Variety&quot;: &quot;43Y23 RR&quot;, &quot;__folium_color&quot;: &quot;#2c0594&quot;, &quot;sample_id&quot;: &quot;bf66_sample_3&quot;}, &quot;type&quot;: &quot;Feature&quot;}, {&quot;bbox&quot;: [117.4880042, -31.59959681, 117.4880042, -31.59959681], &quot;geometry&quot;: {&quot;coordinates&quot;: [117.4880042, -31.59959681], &quot;type&quot;: &quot;Point&quot;}, &quot;id&quot;: &quot;821&quot;, &quot;properties&quot;: {&quot;Crop&quot;: 5, &quot;DryYield&quot;: 0.45, &quot;Elevation&quot;: 268.84, &quot;Heading&quot;: 359.9, &quot;Latitude&quot;: -31.59959681, &quot;Longitude&quot;: 117.4880042, &quot;Time&quot;: &quot;11/12/2020 8:54&quot;, &quot;Variety&quot;: &quot;43Y23 RR&quot;, &quot;__folium_color&quot;: &quot;#2a0593&quot;, &quot;sample_id&quot;: &quot;bf66_sample_3&quot;}, &quot;type&quot;: &quot;Feature&quot;}, {&quot;bbox&quot;: [117.4880048, -31.59740623, 117.4880048, -31.59740623], &quot;geometry&quot;: {&quot;coordinates&quot;: [117.4880048, -31.59740623], &quot;type&quot;: &quot;Point&quot;}, &quot;id&quot;: &quot;822&quot;, &quot;properties&quot;: {&quot;Crop&quot;: 5, &quot;DryYield&quot;: 0.455, &quot;Elevation&quot;: 272.33, &quot;Heading&quot;: 0.3, &quot;Latitude&quot;: -31.59740623, &quot;Longitude&quot;: 117.4880048, &quot;Time&quot;: &quot;11/12/2020 8:56&quot;, &quot;Variety&quot;: &quot;43Y23 RR&quot;, &quot;__folium_color&quot;: &quot;#2a0593&quot;, &quot;sample_id&quot;: &quot;bf66_sample_3&quot;}, &quot;type&quot;: &quot;Feature&quot;}, {&quot;bbox&quot;: [117.4880042, -31.59521284, 117.4880042, -31.59521284], &quot;geometry&quot;: {&quot;coordinates&quot;: [117.4880042, -31.59521284], &quot;type&quot;: &quot;Point&quot;}, &quot;id&quot;: &quot;823&quot;, &quot;properties&quot;: {&quot;Crop&quot;: 5, &quot;DryYield&quot;: 0.548, &quot;Elevation&quot;: 274.31, &quot;Heading&quot;: 0.2, &quot;Latitude&quot;: -31.59521284, &quot;Longitude&quot;: 117.4880042, &quot;Time&quot;: &quot;11/12/2020 8:57&quot;, &quot;Variety&quot;: &quot;43Y23 RR&quot;, &quot;__folium_color&quot;: &quot;#2f0596&quot;, &quot;sample_id&quot;: &quot;bf66_sample_3&quot;}, &quot;type&quot;: &quot;Feature&quot;}, {&quot;bbox&quot;: [117.4880041, -31.59300914, 117.4880041, -31.59300914], &quot;geometry&quot;: {&quot;coordinates&quot;: [117.4880041, -31.59300914], &quot;type&quot;: &quot;Point&quot;}, &quot;id&quot;: &quot;824&quot;, &quot;properties&quot;: {&quot;Crop&quot;: 5, &quot;DryYield&quot;: 0.43, &quot;Elevation&quot;: 270.27, &quot;Heading&quot;: 0.4, &quot;Latitude&quot;: -31.59300914, &quot;Longitude&quot;: 117.4880041, &quot;Time&quot;: &quot;11/12/2020 8:58&quot;, &quot;Variety&quot;: &quot;43Y23 RR&quot;, &quot;__folium_color&quot;: &quot;#280592&quot;, &quot;sample_id&quot;: &quot;bf66_sample_3&quot;}, &quot;type&quot;: &quot;Feature&quot;}, {&quot;bbox&quot;: [117.4881309, -31.5925319, 117.4881309, -31.5925319], &quot;geometry&quot;: {&quot;coordinates&quot;: [117.4881309, -31.5925319], &quot;type&quot;: &quot;Point&quot;}, &quot;id&quot;: &quot;825&quot;, &quot;properties&quot;: {&quot;Crop&quot;: 5, &quot;DryYield&quot;: 0.377, &quot;Elevation&quot;: 269.12, &quot;Heading&quot;: 180.1, &quot;Latitude&quot;: -31.5925319, &quot;Longitude&quot;: 117.4881309, &quot;Time&quot;: &quot;11/12/2020 9:00&quot;, &quot;Variety&quot;: &quot;43Y23 RR&quot;, &quot;__folium_color&quot;: &quot;#260591&quot;, &quot;sample_id&quot;: &quot;bf66_sample_3&quot;}, &quot;type&quot;: &quot;Feature&quot;}, {&quot;bbox&quot;: [117.4881303, -31.5947206, 117.4881303, -31.5947206], &quot;geometry&quot;: {&quot;coordinates&quot;: [117.4881303, -31.5947206], &quot;type&quot;: &quot;Point&quot;}, &quot;id&quot;: &quot;826&quot;, &quot;properties&quot;: {&quot;Crop&quot;: 5, &quot;DryYield&quot;: 0.606, &quot;Elevation&quot;: 273.66, &quot;Heading&quot;: 180.0, &quot;Latitude&quot;: -31.5947206, &quot;Longitude&quot;: 117.4881303, &quot;Time&quot;: &quot;11/12/2020 9:01&quot;, &quot;Variety&quot;: &quot;43Y23 RR&quot;, &quot;__folium_color&quot;: &quot;#310597&quot;, &quot;sample_id&quot;: &quot;bf66_sample_3&quot;}, &quot;type&quot;: &quot;Feature&quot;}, {&quot;bbox&quot;: [117.4881303, -31.59663579, 117.4881303, -31.59663579], &quot;geometry&quot;: {&quot;coordinates&quot;: [117.4881303, -31.59663579], &quot;type&quot;: &quot;Point&quot;}, &quot;id&quot;: &quot;827&quot;, &quot;properties&quot;: {&quot;Crop&quot;: 5, &quot;DryYield&quot;: 0.326, &quot;Elevation&quot;: 273.77, &quot;Heading&quot;: 180.0, &quot;Latitude&quot;: -31.59663579, &quot;Longitude&quot;: 117.4881303, &quot;Time&quot;: &quot;11/12/2020 9:03&quot;, &quot;Variety&quot;: &quot;43Y23 RR&quot;, &quot;__folium_color&quot;: &quot;#240691&quot;, &quot;sample_id&quot;: &quot;bf66_sample_3&quot;}, &quot;type&quot;: &quot;Feature&quot;}, {&quot;bbox&quot;: [117.4881314, -31.59881657, 117.4881314, -31.59881657], &quot;geometry&quot;: {&quot;coordinates&quot;: [117.4881314, -31.59881657], &quot;type&quot;: &quot;Point&quot;}, &quot;id&quot;: &quot;828&quot;, &quot;properties&quot;: {&quot;Crop&quot;: 5, &quot;DryYield&quot;: 0.449, &quot;Elevation&quot;: 270.21, &quot;Heading&quot;: 180.1, &quot;Latitude&quot;: -31.59881657, &quot;Longitude&quot;: 117.4881314, &quot;Time&quot;: &quot;11/12/2020 9:04&quot;, &quot;Variety&quot;: &quot;43Y23 RR&quot;, &quot;__folium_color&quot;: &quot;#2a0593&quot;, &quot;sample_id&quot;: &quot;bf66_sample_3&quot;}, &quot;type&quot;: &quot;Feature&quot;}, {&quot;bbox&quot;: [117.4881303, -31.60101493, 117.4881303, -31.60101493], &quot;geometry&quot;: {&quot;coordinates&quot;: [117.4881303, -31.60101493], &quot;type&quot;: &quot;Point&quot;}, &quot;id&quot;: &quot;829&quot;, &quot;properties&quot;: {&quot;Crop&quot;: 5, &quot;DryYield&quot;: 0.217, &quot;Elevation&quot;: 270.17, &quot;Heading&quot;: 180.1, &quot;Latitude&quot;: -31.60101493, &quot;Longitude&quot;: 117.4881303, &quot;Time&quot;: &quot;11/12/2020 9:05&quot;, &quot;Variety&quot;: &quot;43Y23 RR&quot;, &quot;__folium_color&quot;: &quot;#1d068e&quot;, &quot;sample_id&quot;: &quot;bf66_sample_3&quot;}, &quot;type&quot;: &quot;Feature&quot;}, {&quot;bbox&quot;: [117.48851, -31.60175822, 117.48851, -31.60175822], &quot;geometry&quot;: {&quot;coordinates&quot;: [117.48851, -31.60175822], &quot;type&quot;: &quot;Point&quot;}, &quot;id&quot;: &quot;830&quot;, &quot;properties&quot;: {&quot;Crop&quot;: 5, &quot;DryYield&quot;: 0.319, &quot;Elevation&quot;: 271.99, &quot;Heading&quot;: 0.0, &quot;Latitude&quot;: -31.60175822, &quot;Longitude&quot;: 117.48851, &quot;Time&quot;: &quot;11/12/2020 9:07&quot;, &quot;Variety&quot;: &quot;43Y23 RR&quot;, &quot;__folium_color&quot;: &quot;#220690&quot;, &quot;sample_id&quot;: &quot;bf66_sample_3&quot;}, &quot;type&quot;: &quot;Feature&quot;}, {&quot;bbox&quot;: [117.4885097, -31.59955697, 117.4885097, -31.59955697], &quot;geometry&quot;: {&quot;coordinates&quot;: [117.4885097, -31.59955697], &quot;type&quot;: &quot;Point&quot;}, &quot;id&quot;: &quot;831&quot;, &quot;properties&quot;: {&quot;Crop&quot;: 5, &quot;DryYield&quot;: 0.328, &quot;Elevation&quot;: 269.95, &quot;Heading&quot;: 0.2, &quot;Latitude&quot;: -31.59955697, &quot;Longitude&quot;: 117.4885097, &quot;Time&quot;: &quot;11/12/2020 9:08&quot;, &quot;Variety&quot;: &quot;43Y23 RR&quot;, &quot;__folium_color&quot;: &quot;#240691&quot;, &quot;sample_id&quot;: &quot;bf66_sample_3&quot;}, &quot;type&quot;: &quot;Feature&quot;}, {&quot;bbox&quot;: [117.48851, -31.59736379, 117.48851, -31.59736379], &quot;geometry&quot;: {&quot;coordinates&quot;: [117.48851, -31.59736379], &quot;type&quot;: &quot;Point&quot;}, &quot;id&quot;: &quot;832&quot;, &quot;properties&quot;: {&quot;Crop&quot;: 5, &quot;DryYield&quot;: 0.441, &quot;Elevation&quot;: 273.31, &quot;Heading&quot;: 0.1, &quot;Latitude&quot;: -31.59736379, &quot;Longitude&quot;: 117.48851, &quot;Time&quot;: &quot;11/12/2020 9:10&quot;, &quot;Variety&quot;: &quot;43Y23 RR&quot;, &quot;__folium_color&quot;: &quot;#2a0593&quot;, &quot;sample_id&quot;: &quot;bf66_sample_3&quot;}, &quot;type&quot;: &quot;Feature&quot;}, {&quot;bbox&quot;: [117.4885095, -31.59517516, 117.4885095, -31.59517516], &quot;geometry&quot;: {&quot;coordinates&quot;: [117.4885095, -31.59517516], &quot;type&quot;: &quot;Point&quot;}, &quot;id&quot;: &quot;833&quot;, &quot;properties&quot;: {&quot;Crop&quot;: 5, &quot;DryYield&quot;: 0.522, &quot;Elevation&quot;: 274.99, &quot;Heading&quot;: 360.0, &quot;Latitude&quot;: -31.59517516, &quot;Longitude&quot;: 117.4885095, &quot;Time&quot;: &quot;11/12/2020 9:11&quot;, &quot;Variety&quot;: &quot;43Y23 RR&quot;, &quot;__folium_color&quot;: &quot;#2e0595&quot;, &quot;sample_id&quot;: &quot;bf66_sample_3&quot;}, &quot;type&quot;: &quot;Feature&quot;}, {&quot;bbox&quot;: [117.4885098, -31.59306108, 117.4885098, -31.59306108], &quot;geometry&quot;: {&quot;coordinates&quot;: [117.4885098, -31.59306108], &quot;type&quot;: &quot;Point&quot;}, &quot;id&quot;: &quot;834&quot;, &quot;properties&quot;: {&quot;Crop&quot;: 5, &quot;DryYield&quot;: 0.324, &quot;Elevation&quot;: 270.51, &quot;Heading&quot;: 0.1, &quot;Latitude&quot;: -31.59306108, &quot;Longitude&quot;: 117.4885098, &quot;Time&quot;: &quot;11/12/2020 9:12&quot;, &quot;Variety&quot;: &quot;43Y23 RR&quot;, &quot;__folium_color&quot;: &quot;#220690&quot;, &quot;sample_id&quot;: &quot;bf66_sample_3&quot;}, &quot;type&quot;: &quot;Feature&quot;}, {&quot;bbox&quot;: [117.4886365, -31.59209174, 117.4886365, -31.59209174], &quot;geometry&quot;: {&quot;coordinates&quot;: [117.4886365, -31.59209174], &quot;type&quot;: &quot;Point&quot;}, &quot;id&quot;: &quot;835&quot;, &quot;properties&quot;: {&quot;Crop&quot;: 5, &quot;DryYield&quot;: 0.646, &quot;Elevation&quot;: 268.02, &quot;Heading&quot;: 179.8, &quot;Latitude&quot;: -31.59209174, &quot;Longitude&quot;: 117.4886365, &quot;Time&quot;: &quot;11/12/2020 9:14&quot;, &quot;Variety&quot;: &quot;43Y23 RR&quot;, &quot;__folium_color&quot;: &quot;#330597&quot;, &quot;sample_id&quot;: &quot;bf66_sample_3&quot;}, &quot;type&quot;: &quot;Feature&quot;}, {&quot;bbox&quot;: [117.4886361, -31.59425333, 117.4886361, -31.59425333], &quot;geometry&quot;: {&quot;coordinates&quot;: [117.4886361, -31.59425333], &quot;type&quot;: &quot;Point&quot;}, &quot;id&quot;: &quot;836&quot;, &quot;properties&quot;: {&quot;Crop&quot;: 5, &quot;DryYield&quot;: 0.565, &quot;Elevation&quot;: 273.45, &quot;Heading&quot;: 180.2, &quot;Latitude&quot;: -31.59425333, &quot;Longitude&quot;: 117.4886361, &quot;Time&quot;: &quot;11/12/2020 9:15&quot;, &quot;Variety&quot;: &quot;43Y23 RR&quot;, &quot;__folium_color&quot;: &quot;#2f0596&quot;, &quot;sample_id&quot;: &quot;bf66_sample_3&quot;}, &quot;type&quot;: &quot;Feature&quot;}, {&quot;bbox&quot;: [117.4886363, -31.59634516, 117.4886363, -31.59634516], &quot;geometry&quot;: {&quot;coordinates&quot;: [117.4886363, -31.59634516], &quot;type&quot;: &quot;Point&quot;}, &quot;id&quot;: &quot;837&quot;, &quot;properties&quot;: {&quot;Crop&quot;: 5, &quot;DryYield&quot;: 0.45, &quot;Elevation&quot;: 274.87, &quot;Heading&quot;: 180.1, &quot;Latitude&quot;: -31.59634516, &quot;Longitude&quot;: 117.4886363, &quot;Time&quot;: &quot;11/12/2020 9:17&quot;, &quot;Variety&quot;: &quot;43Y23 RR&quot;, &quot;__folium_color&quot;: &quot;#2a0593&quot;, &quot;sample_id&quot;: &quot;bf66_sample_3&quot;}, &quot;type&quot;: &quot;Feature&quot;}, {&quot;bbox&quot;: [117.4886361, -31.59849149, 117.4886361, -31.59849149], &quot;geometry&quot;: {&quot;coordinates&quot;: [117.4886361, -31.59849149], &quot;type&quot;: &quot;Point&quot;}, &quot;id&quot;: &quot;838&quot;, &quot;properties&quot;: {&quot;Crop&quot;: 5, &quot;DryYield&quot;: 0.483, &quot;Elevation&quot;: 271.79, &quot;Heading&quot;: 180.3, &quot;Latitude&quot;: -31.59849149, &quot;Longitude&quot;: 117.4886361, &quot;Time&quot;: &quot;11/12/2020 9:18&quot;, &quot;Variety&quot;: &quot;43Y23 RR&quot;, &quot;__folium_color&quot;: &quot;#2c0594&quot;, &quot;sample_id&quot;: &quot;bf66_sample_3&quot;}, &quot;type&quot;: &quot;Feature&quot;}, {&quot;bbox&quot;: [117.4886363, -31.60068725, 117.4886363, -31.60068725], &quot;geometry&quot;: {&quot;coordinates&quot;: [117.4886363, -31.60068725], &quot;type&quot;: &quot;Point&quot;}, &quot;id&quot;: &quot;839&quot;, &quot;properties&quot;: {&quot;Crop&quot;: 5, &quot;DryYield&quot;: 0.354, &quot;Elevation&quot;: 269.96, &quot;Heading&quot;: 180.0, &quot;Latitude&quot;: -31.60068725, &quot;Longitude&quot;: 117.4886363, &quot;Time&quot;: &quot;11/12/2020 9:19&quot;, &quot;Variety&quot;: &quot;43Y23 RR&quot;, &quot;__folium_color&quot;: &quot;#240691&quot;, &quot;sample_id&quot;: &quot;bf66_sample_3&quot;}, &quot;type&quot;: &quot;Feature&quot;}, {&quot;bbox&quot;: [117.4890331, -31.60300535, 117.4890331, -31.60300535], &quot;geometry&quot;: {&quot;coordinates&quot;: [117.4890331, -31.60300535], &quot;type&quot;: &quot;Point&quot;}, &quot;id&quot;: &quot;840&quot;, &quot;properties&quot;: {&quot;Crop&quot;: 5, &quot;DryYield&quot;: 0.41, &quot;Elevation&quot;: 273.48, &quot;Heading&quot;: 9.1, &quot;Latitude&quot;: -31.60300535, &quot;Longitude&quot;: 117.4890331, &quot;Time&quot;: &quot;11/12/2020 9:21&quot;, &quot;Variety&quot;: &quot;43Y23 RR&quot;, &quot;__folium_color&quot;: &quot;#280592&quot;, &quot;sample_id&quot;: &quot;bf66_sample_3&quot;}, &quot;type&quot;: &quot;Feature&quot;}, {&quot;bbox&quot;: [117.4890149, -31.60082022, 117.4890149, -31.60082022], &quot;geometry&quot;: {&quot;coordinates&quot;: [117.4890149, -31.60082022], &quot;type&quot;: &quot;Point&quot;}, &quot;id&quot;: &quot;841&quot;, &quot;properties&quot;: {&quot;Crop&quot;: 5, &quot;DryYield&quot;: 0.423, &quot;Elevation&quot;: 270.63, &quot;Heading&quot;: 359.3, &quot;Latitude&quot;: -31.60082022, &quot;Longitude&quot;: 117.4890149, &quot;Time&quot;: &quot;11/12/2020 9:22&quot;, &quot;Variety&quot;: &quot;43Y23 RR&quot;, &quot;__folium_color&quot;: &quot;#280592&quot;, &quot;sample_id&quot;: &quot;bf66_sample_3&quot;}, &quot;type&quot;: &quot;Feature&quot;}, {&quot;bbox&quot;: [117.4890154, -31.59862875, 117.4890154, -31.59862875], &quot;geometry&quot;: {&quot;coordinates&quot;: [117.4890154, -31.59862875], &quot;type&quot;: &quot;Point&quot;}, &quot;id&quot;: &quot;842&quot;, &quot;properties&quot;: {&quot;Crop&quot;: 5, &quot;DryYield&quot;: 0.543, &quot;Elevation&quot;: 272.31, &quot;Heading&quot;: 359.9, &quot;Latitude&quot;: -31.59862875, &quot;Longitude&quot;: 117.4890154, &quot;Time&quot;: &quot;11/12/2020 9:24&quot;, &quot;Variety&quot;: &quot;43Y23 RR&quot;, &quot;__folium_color&quot;: &quot;#2f0596&quot;, &quot;sample_id&quot;: &quot;bf66_sample_3&quot;}, &quot;type&quot;: &quot;Feature&quot;}, {&quot;bbox&quot;: [117.4890156, -31.59654586, 117.4890156, -31.59654586], &quot;geometry&quot;: {&quot;coordinates&quot;: [117.4890156, -31.59654586], &quot;type&quot;: &quot;Point&quot;}, &quot;id&quot;: &quot;843&quot;, &quot;properties&quot;: {&quot;Crop&quot;: 5, &quot;DryYield&quot;: 0.561, &quot;Elevation&quot;: 275.27, &quot;Heading&quot;: 0.1, &quot;Latitude&quot;: -31.59654586, &quot;Longitude&quot;: 117.4890156, &quot;Time&quot;: &quot;11/12/2020 9:25&quot;, &quot;Variety&quot;: &quot;43Y23 RR&quot;, &quot;__folium_color&quot;: &quot;#2f0596&quot;, &quot;sample_id&quot;: &quot;bf66_sample_3&quot;}, &quot;type&quot;: &quot;Feature&quot;}, {&quot;bbox&quot;: [117.4890153, -31.59447685, 117.4890153, -31.59447685], &quot;geometry&quot;: {&quot;coordinates&quot;: [117.4890153, -31.59447685], &quot;type&quot;: &quot;Point&quot;}, &quot;id&quot;: &quot;844&quot;, &quot;properties&quot;: {&quot;Crop&quot;: 5, &quot;DryYield&quot;: 0.502, &quot;Elevation&quot;: 274.36, &quot;Heading&quot;: 359.8, &quot;Latitude&quot;: -31.59447685, &quot;Longitude&quot;: 117.4890153, &quot;Time&quot;: &quot;11/12/2020 9:26&quot;, &quot;Variety&quot;: &quot;43Y23 RR&quot;, &quot;__folium_color&quot;: &quot;#2c0594&quot;, &quot;sample_id&quot;: &quot;bf66_sample_3&quot;}, &quot;type&quot;: &quot;Feature&quot;}, {&quot;bbox&quot;: [117.4890154, -31.59239785, 117.4890154, -31.59239785], &quot;geometry&quot;: {&quot;coordinates&quot;: [117.4890154, -31.59239785], &quot;type&quot;: &quot;Point&quot;}, &quot;id&quot;: &quot;845&quot;, &quot;properties&quot;: {&quot;Crop&quot;: 5, &quot;DryYield&quot;: 0.414, &quot;Elevation&quot;: 269.09, &quot;Heading&quot;: 0.1, &quot;Latitude&quot;: -31.59239785, &quot;Longitude&quot;: 117.4890154, &quot;Time&quot;: &quot;11/12/2020 9:27&quot;, &quot;Variety&quot;: &quot;43Y23 RR&quot;, &quot;__folium_color&quot;: &quot;#280592&quot;, &quot;sample_id&quot;: &quot;bf66_sample_3&quot;}, &quot;type&quot;: &quot;Feature&quot;}, {&quot;bbox&quot;: [117.4891419, -31.59277474, 117.4891419, -31.59277474], &quot;geometry&quot;: {&quot;coordinates&quot;: [117.4891419, -31.59277474], &quot;type&quot;: &quot;Point&quot;}, &quot;id&quot;: &quot;846&quot;, &quot;properties&quot;: {&quot;Crop&quot;: 5, &quot;DryYield&quot;: 0.316, &quot;Elevation&quot;: 270.45, &quot;Heading&quot;: 180.1, &quot;Latitude&quot;: -31.59277474, &quot;Longitude&quot;: 117.4891419, &quot;Time&quot;: &quot;11/12/2020 9:29&quot;, &quot;Variety&quot;: &quot;43Y23 RR&quot;, &quot;__folium_color&quot;: &quot;#220690&quot;, &quot;sample_id&quot;: &quot;bf66_sample_3&quot;}, &quot;type&quot;: &quot;Feature&quot;}, {&quot;bbox&quot;: [117.4891424, -31.59494367, 117.4891424, -31.59494367], &quot;geometry&quot;: {&quot;coordinates&quot;: [117.4891424, -31.59494367], &quot;type&quot;: &quot;Point&quot;}, &quot;id&quot;: &quot;847&quot;, &quot;properties&quot;: {&quot;Crop&quot;: 5, &quot;DryYield&quot;: 0.575, &quot;Elevation&quot;: 275.49, &quot;Heading&quot;: 179.5, &quot;Latitude&quot;: -31.59494367, &quot;Longitude&quot;: 117.4891424, &quot;Time&quot;: &quot;11/12/2020 9:30&quot;, &quot;Variety&quot;: &quot;43Y23 RR&quot;, &quot;__folium_color&quot;: &quot;#2f0596&quot;, &quot;sample_id&quot;: &quot;bf66_sample_3&quot;}, &quot;type&quot;: &quot;Feature&quot;}, {&quot;bbox&quot;: [117.4891421, -31.59701863, 117.4891421, -31.59701863], &quot;geometry&quot;: {&quot;coordinates&quot;: [117.4891421, -31.59701863], &quot;type&quot;: &quot;Point&quot;}, &quot;id&quot;: &quot;848&quot;, &quot;properties&quot;: {&quot;Crop&quot;: 5, &quot;DryYield&quot;: 0.433, &quot;Elevation&quot;: 275.06, &quot;Heading&quot;: 179.9, &quot;Latitude&quot;: -31.59701863, &quot;Longitude&quot;: 117.4891421, &quot;Time&quot;: &quot;11/12/2020 9:32&quot;, &quot;Variety&quot;: &quot;43Y23 RR&quot;, &quot;__folium_color&quot;: &quot;#280592&quot;, &quot;sample_id&quot;: &quot;bf66_sample_3&quot;}, &quot;type&quot;: &quot;Feature&quot;}, {&quot;bbox&quot;: [117.4891428, -31.59913522, 117.4891428, -31.59913522], &quot;geometry&quot;: {&quot;coordinates&quot;: [117.4891428, -31.59913522], &quot;type&quot;: &quot;Point&quot;}, &quot;id&quot;: &quot;849&quot;, &quot;properties&quot;: {&quot;Crop&quot;: 5, &quot;DryYield&quot;: 0.35, &quot;Elevation&quot;: 271.86, &quot;Heading&quot;: 179.9, &quot;Latitude&quot;: -31.59913522, &quot;Longitude&quot;: 117.4891428, &quot;Time&quot;: &quot;11/12/2020 9:33&quot;, &quot;Variety&quot;: &quot;43Y23 RR&quot;, &quot;__folium_color&quot;: &quot;#240691&quot;, &quot;sample_id&quot;: &quot;bf66_sample_3&quot;}, &quot;type&quot;: &quot;Feature&quot;}, {&quot;bbox&quot;: [117.4891421, -31.60113641, 117.4891421, -31.60113641], &quot;geometry&quot;: {&quot;coordinates&quot;: [117.4891421, -31.60113641], &quot;type&quot;: &quot;Point&quot;}, &quot;id&quot;: &quot;850&quot;, &quot;properties&quot;: {&quot;Crop&quot;: 5, &quot;DryYield&quot;: 0.496, &quot;Elevation&quot;: 271.12, &quot;Heading&quot;: 180.0, &quot;Latitude&quot;: -31.60113641, &quot;Longitude&quot;: 117.4891421, &quot;Time&quot;: &quot;11/12/2020 9:34&quot;, &quot;Variety&quot;: &quot;43Y23 RR&quot;, &quot;__folium_color&quot;: &quot;#2c0594&quot;, &quot;sample_id&quot;: &quot;bf66_sample_3&quot;}, &quot;type&quot;: &quot;Feature&quot;}, {&quot;bbox&quot;: [117.4893948, -31.59988512, 117.4893948, -31.59988512], &quot;geometry&quot;: {&quot;coordinates&quot;: [117.4893948, -31.59988512], &quot;type&quot;: &quot;Point&quot;}, &quot;id&quot;: &quot;851&quot;, &quot;properties&quot;: {&quot;Crop&quot;: 5, &quot;DryYield&quot;: 0.337, &quot;Elevation&quot;: 270.99, &quot;Heading&quot;: 359.7, &quot;Latitude&quot;: -31.59988512, &quot;Longitude&quot;: 117.4893948, &quot;Time&quot;: &quot;11/12/2020 9:32&quot;, &quot;Variety&quot;: &quot;43Y23 RR&quot;, &quot;__folium_color&quot;: &quot;#240691&quot;, &quot;sample_id&quot;: &quot;bf66_sample_3&quot;}, &quot;type&quot;: &quot;Feature&quot;}, {&quot;bbox&quot;: [117.4893951, -31.59780792, 117.4893951, -31.59780792], &quot;geometry&quot;: {&quot;coordinates&quot;: [117.4893951, -31.59780792], &quot;type&quot;: &quot;Point&quot;}, &quot;id&quot;: &quot;852&quot;, &quot;properties&quot;: {&quot;Crop&quot;: 5, &quot;DryYield&quot;: 0.427, &quot;Elevation&quot;: 274.0, &quot;Heading&quot;: 0.1, &quot;Latitude&quot;: -31.59780792, &quot;Longitude&quot;: 117.4893951, &quot;Time&quot;: &quot;11/12/2020 9:34&quot;, &quot;Variety&quot;: &quot;43Y23 RR&quot;, &quot;__folium_color&quot;: &quot;#280592&quot;, &quot;sample_id&quot;: &quot;bf66_sample_3&quot;}, &quot;type&quot;: &quot;Feature&quot;}, {&quot;bbox&quot;: [117.4893953, -31.59573098, 117.4893953, -31.59573098], &quot;geometry&quot;: {&quot;coordinates&quot;: [117.4893953, -31.59573098], &quot;type&quot;: &quot;Point&quot;}, &quot;id&quot;: &quot;853&quot;, &quot;properties&quot;: {&quot;Crop&quot;: 5, &quot;DryYield&quot;: 0.459, &quot;Elevation&quot;: 276.18, &quot;Heading&quot;: 0.4, &quot;Latitude&quot;: -31.59573098, &quot;Longitude&quot;: 117.4893953, &quot;Time&quot;: &quot;11/12/2020 9:35&quot;, &quot;Variety&quot;: &quot;43Y23 RR&quot;, &quot;__folium_color&quot;: &quot;#2a0593&quot;, &quot;sample_id&quot;: &quot;bf66_sample_3&quot;}, &quot;type&quot;: &quot;Feature&quot;}, {&quot;bbox&quot;: [117.4893951, -31.5937453, 117.4893951, -31.5937453], &quot;geometry&quot;: {&quot;coordinates&quot;: [117.4893951, -31.5937453], &quot;type&quot;: &quot;Point&quot;}, &quot;id&quot;: &quot;854&quot;, &quot;properties&quot;: {&quot;Crop&quot;: 5, &quot;DryYield&quot;: 0.54, &quot;Elevation&quot;: 272.99, &quot;Heading&quot;: 0.2, &quot;Latitude&quot;: -31.5937453, &quot;Longitude&quot;: 117.4893951, &quot;Time&quot;: &quot;11/12/2020 9:36&quot;, &quot;Variety&quot;: &quot;43Y23 RR&quot;, &quot;__folium_color&quot;: &quot;#2e0595&quot;, &quot;sample_id&quot;: &quot;bf66_sample_3&quot;}, &quot;type&quot;: &quot;Feature&quot;}, {&quot;bbox&quot;: [117.4893946, -31.59178149, 117.4893946, -31.59178149], &quot;geometry&quot;: {&quot;coordinates&quot;: [117.4893946, -31.59178149], &quot;type&quot;: &quot;Point&quot;}, &quot;id&quot;: &quot;855&quot;, &quot;properties&quot;: {&quot;Crop&quot;: 5, &quot;DryYield&quot;: 0.578, &quot;Elevation&quot;: 267.41, &quot;Heading&quot;: 359.6, &quot;Latitude&quot;: -31.59178149, &quot;Longitude&quot;: 117.4893946, &quot;Time&quot;: &quot;11/12/2020 9:38&quot;, &quot;Variety&quot;: &quot;43Y23 RR&quot;, &quot;__folium_color&quot;: &quot;#310597&quot;, &quot;sample_id&quot;: &quot;bf66_sample_3&quot;}, &quot;type&quot;: &quot;Feature&quot;}, {&quot;bbox&quot;: [117.4897743, -31.59282698, 117.4897743, -31.59282698], &quot;geometry&quot;: {&quot;coordinates&quot;: [117.4897743, -31.59282698], &quot;type&quot;: &quot;Point&quot;}, &quot;id&quot;: &quot;856&quot;, &quot;properties&quot;: {&quot;Crop&quot;: 5, &quot;DryYield&quot;: 0.617, &quot;Elevation&quot;: 270.03, &quot;Heading&quot;: 179.8, &quot;Latitude&quot;: -31.59282698, &quot;Longitude&quot;: 117.4897743, &quot;Time&quot;: &quot;11/12/2020 9:39&quot;, &quot;Variety&quot;: &quot;43Y23 RR&quot;, &quot;__folium_color&quot;: &quot;#330597&quot;, &quot;sample_id&quot;: &quot;bf66_sample_3&quot;}, &quot;type&quot;: &quot;Feature&quot;}, {&quot;bbox&quot;: [117.4897741, -31.59473117, 117.4897741, -31.59473117], &quot;geometry&quot;: {&quot;coordinates&quot;: [117.4897741, -31.59473117], &quot;type&quot;: &quot;Point&quot;}, &quot;id&quot;: &quot;857&quot;, &quot;properties&quot;: {&quot;Crop&quot;: 5, &quot;DryYield&quot;: 0.463, &quot;Elevation&quot;: 275.16, &quot;Heading&quot;: 180.0, &quot;Latitude&quot;: -31.59473117, &quot;Longitude&quot;: 117.4897741, &quot;Time&quot;: &quot;11/12/2020 9:41&quot;, &quot;Variety&quot;: &quot;43Y23 RR&quot;, &quot;__folium_color&quot;: &quot;#2a0593&quot;, &quot;sample_id&quot;: &quot;bf66_sample_3&quot;}, &quot;type&quot;: &quot;Feature&quot;}, {&quot;bbox&quot;: [117.4897743, -31.59681641, 117.4897743, -31.59681641], &quot;geometry&quot;: {&quot;coordinates&quot;: [117.4897743, -31.59681641], &quot;type&quot;: &quot;Point&quot;}, &quot;id&quot;: &quot;858&quot;, &quot;properties&quot;: {&quot;Crop&quot;: 5, &quot;DryYield&quot;: 0.299, &quot;Elevation&quot;: 276.41, &quot;Heading&quot;: 180.1, &quot;Latitude&quot;: -31.59681641, &quot;Longitude&quot;: 117.4897743, &quot;Time&quot;: &quot;11/12/2020 9:42&quot;, &quot;Variety&quot;: &quot;43Y23 RR&quot;, &quot;__folium_color&quot;: &quot;#220690&quot;, &quot;sample_id&quot;: &quot;bf66_sample_3&quot;}, &quot;type&quot;: &quot;Feature&quot;}, {&quot;bbox&quot;: [117.4897743, -31.59896701, 117.4897743, -31.59896701], &quot;geometry&quot;: {&quot;coordinates&quot;: [117.4897743, -31.59896701], &quot;type&quot;: &quot;Point&quot;}, &quot;id&quot;: &quot;859&quot;, &quot;properties&quot;: {&quot;Crop&quot;: 5, &quot;DryYield&quot;: 0.369, &quot;Elevation&quot;: 272.98, &quot;Heading&quot;: 179.9, &quot;Latitude&quot;: -31.59896701, &quot;Longitude&quot;: 117.4897743, &quot;Time&quot;: &quot;11/12/2020 9:43&quot;, &quot;Variety&quot;: &quot;43Y23 RR&quot;, &quot;__folium_color&quot;: &quot;#260591&quot;, &quot;sample_id&quot;: &quot;bf66_sample_3&quot;}, &quot;type&quot;: &quot;Feature&quot;}, {&quot;bbox&quot;: [117.4897737, -31.60128516, 117.4897737, -31.60128516], &quot;geometry&quot;: {&quot;coordinates&quot;: [117.4897737, -31.60128516], &quot;type&quot;: &quot;Point&quot;}, &quot;id&quot;: &quot;860&quot;, &quot;properties&quot;: {&quot;Crop&quot;: 5, &quot;DryYield&quot;: 0.366, &quot;Elevation&quot;: 271.55, &quot;Heading&quot;: 179.9, &quot;Latitude&quot;: -31.60128516, &quot;Longitude&quot;: 117.4897737, &quot;Time&quot;: &quot;11/12/2020 9:45&quot;, &quot;Variety&quot;: &quot;43Y23 RR&quot;, &quot;__folium_color&quot;: &quot;#260591&quot;, &quot;sample_id&quot;: &quot;bf66_sample_3&quot;}, &quot;type&quot;: &quot;Feature&quot;}, {&quot;bbox&quot;: [117.4899013, -31.60298804, 117.4899013, -31.60298804], &quot;geometry&quot;: {&quot;coordinates&quot;: [117.4899013, -31.60298804], &quot;type&quot;: &quot;Point&quot;}, &quot;id&quot;: &quot;861&quot;, &quot;properties&quot;: {&quot;Crop&quot;: 5, &quot;DryYield&quot;: 0.184, &quot;Elevation&quot;: 272.61, &quot;Heading&quot;: 359.9, &quot;Latitude&quot;: -31.60298804, &quot;Longitude&quot;: 117.4899013, &quot;Time&quot;: &quot;11/12/2020 9:46&quot;, &quot;Variety&quot;: &quot;43Y23 RR&quot;, &quot;__folium_color&quot;: &quot;#1b068d&quot;, &quot;sample_id&quot;: &quot;bf66_sample_3&quot;}, &quot;type&quot;: &quot;Feature&quot;}, {&quot;bbox&quot;: [117.4899009, -31.60095365, 117.4899009, -31.60095365], &quot;geometry&quot;: {&quot;coordinates&quot;: [117.4899009, -31.60095365], &quot;type&quot;: &quot;Point&quot;}, &quot;id&quot;: &quot;862&quot;, &quot;properties&quot;: {&quot;Crop&quot;: 5, &quot;DryYield&quot;: 0.35, &quot;Elevation&quot;: 271.44, &quot;Heading&quot;: 0.2, &quot;Latitude&quot;: -31.60095365, &quot;Longitude&quot;: 117.4899009, &quot;Time&quot;: &quot;11/12/2020 9:47&quot;, &quot;Variety&quot;: &quot;43Y23 RR&quot;, &quot;__folium_color&quot;: &quot;#240691&quot;, &quot;sample_id&quot;: &quot;bf66_sample_3&quot;}, &quot;type&quot;: &quot;Feature&quot;}, {&quot;bbox&quot;: [117.4899005, -31.59879773, 117.4899005, -31.59879773], &quot;geometry&quot;: {&quot;coordinates&quot;: [117.4899005, -31.59879773], &quot;type&quot;: &quot;Point&quot;}, &quot;id&quot;: &quot;863&quot;, &quot;properties&quot;: {&quot;Crop&quot;: 5, &quot;DryYield&quot;: 0.332, &quot;Elevation&quot;: 273.5, &quot;Heading&quot;: 360.0, &quot;Latitude&quot;: -31.59879773, &quot;Longitude&quot;: 117.4899005, &quot;Time&quot;: &quot;11/12/2020 9:49&quot;, &quot;Variety&quot;: &quot;43Y23 RR&quot;, &quot;__folium_color&quot;: &quot;#240691&quot;, &quot;sample_id&quot;: &quot;bf66_sample_3&quot;}, &quot;type&quot;: &quot;Feature&quot;}, {&quot;bbox&quot;: [117.4899, -31.59674456, 117.4899, -31.59674456], &quot;geometry&quot;: {&quot;coordinates&quot;: [117.4899, -31.59674456], &quot;type&quot;: &quot;Point&quot;}, &quot;id&quot;: &quot;864&quot;, &quot;properties&quot;: {&quot;Crop&quot;: 5, &quot;DryYield&quot;: 0.304, &quot;Elevation&quot;: 276.63, &quot;Heading&quot;: 359.3, &quot;Latitude&quot;: -31.59674456, &quot;Longitude&quot;: 117.4899, &quot;Time&quot;: &quot;11/12/2020 9:50&quot;, &quot;Variety&quot;: &quot;43Y23 RR&quot;, &quot;__folium_color&quot;: &quot;#220690&quot;, &quot;sample_id&quot;: &quot;bf66_sample_3&quot;}, &quot;type&quot;: &quot;Feature&quot;}, {&quot;bbox&quot;: [117.4899005, -31.59471309, 117.4899005, -31.59471309], &quot;geometry&quot;: {&quot;coordinates&quot;: [117.4899005, -31.59471309], &quot;type&quot;: &quot;Point&quot;}, &quot;id&quot;: &quot;865&quot;, &quot;properties&quot;: {&quot;Crop&quot;: 5, &quot;DryYield&quot;: 0.354, &quot;Elevation&quot;: 275.39, &quot;Heading&quot;: 360.0, &quot;Latitude&quot;: -31.59471309, &quot;Longitude&quot;: 117.4899005, &quot;Time&quot;: &quot;11/12/2020 9:51&quot;, &quot;Variety&quot;: &quot;43Y23 RR&quot;, &quot;__folium_color&quot;: &quot;#240691&quot;, &quot;sample_id&quot;: &quot;bf66_sample_3&quot;}, &quot;type&quot;: &quot;Feature&quot;}, {&quot;bbox&quot;: [117.4899004, -31.59271162, 117.4899004, -31.59271162], &quot;geometry&quot;: {&quot;coordinates&quot;: [117.4899004, -31.59271162], &quot;type&quot;: &quot;Point&quot;}, &quot;id&quot;: &quot;866&quot;, &quot;properties&quot;: {&quot;Crop&quot;: 5, &quot;DryYield&quot;: 0.717, &quot;Elevation&quot;: 269.81, &quot;Heading&quot;: 359.8, &quot;Latitude&quot;: -31.59271162, &quot;Longitude&quot;: 117.4899004, &quot;Time&quot;: &quot;11/12/2020 9:53&quot;, &quot;Variety&quot;: &quot;43Y23 RR&quot;, &quot;__folium_color&quot;: &quot;#370499&quot;, &quot;sample_id&quot;: &quot;bf66_sample_3&quot;}, &quot;type&quot;: &quot;Feature&quot;}, {&quot;bbox&quot;: [117.4902799, -31.59194849, 117.4902799, -31.59194849], &quot;geometry&quot;: {&quot;coordinates&quot;: [117.4902799, -31.59194849], &quot;type&quot;: &quot;Point&quot;}, &quot;id&quot;: &quot;867&quot;, &quot;properties&quot;: {&quot;Crop&quot;: 5, &quot;DryYield&quot;: 0.392, &quot;Elevation&quot;: 267.6, &quot;Heading&quot;: 180.1, &quot;Latitude&quot;: -31.59194849, &quot;Longitude&quot;: 117.4902799, &quot;Time&quot;: &quot;11/12/2020 9:54&quot;, &quot;Variety&quot;: &quot;43Y23 RR&quot;, &quot;__folium_color&quot;: &quot;#260591&quot;, &quot;sample_id&quot;: &quot;bf66_sample_3&quot;}, &quot;type&quot;: &quot;Feature&quot;}, {&quot;bbox&quot;: [117.4902799, -31.59386848, 117.4902799, -31.59386848], &quot;geometry&quot;: {&quot;coordinates&quot;: [117.4902799, -31.59386848], &quot;type&quot;: &quot;Point&quot;}, &quot;id&quot;: &quot;868&quot;, &quot;properties&quot;: {&quot;Crop&quot;: 5, &quot;DryYield&quot;: 0.566, &quot;Elevation&quot;: 272.4, &quot;Heading&quot;: 180.1, &quot;Latitude&quot;: -31.59386848, &quot;Longitude&quot;: 117.4902799, &quot;Time&quot;: &quot;11/12/2020 9:55&quot;, &quot;Variety&quot;: &quot;43Y23 RR&quot;, &quot;__folium_color&quot;: &quot;#2f0596&quot;, &quot;sample_id&quot;: &quot;bf66_sample_3&quot;}, &quot;type&quot;: &quot;Feature&quot;}, {&quot;bbox&quot;: [117.4902797, -31.59581187, 117.4902797, -31.59581187], &quot;geometry&quot;: {&quot;coordinates&quot;: [117.4902797, -31.59581187], &quot;type&quot;: &quot;Point&quot;}, &quot;id&quot;: &quot;869&quot;, &quot;properties&quot;: {&quot;Crop&quot;: 5, &quot;DryYield&quot;: 0.463, &quot;Elevation&quot;: 277.31, &quot;Heading&quot;: 180.2, &quot;Latitude&quot;: -31.59581187, &quot;Longitude&quot;: 117.4902797, &quot;Time&quot;: &quot;11/12/2020 9:57&quot;, &quot;Variety&quot;: &quot;43Y23 RR&quot;, &quot;__folium_color&quot;: &quot;#2a0593&quot;, &quot;sample_id&quot;: &quot;bf66_sample_3&quot;}, &quot;type&quot;: &quot;Feature&quot;}, {&quot;bbox&quot;: [117.4902795, -31.597843, 117.4902795, -31.597843], &quot;geometry&quot;: {&quot;coordinates&quot;: [117.4902795, -31.597843], &quot;type&quot;: &quot;Point&quot;}, &quot;id&quot;: &quot;870&quot;, &quot;properties&quot;: {&quot;Crop&quot;: 5, &quot;DryYield&quot;: 0.375, &quot;Elevation&quot;: 275.83, &quot;Heading&quot;: 180.4, &quot;Latitude&quot;: -31.597843, &quot;Longitude&quot;: 117.4902795, &quot;Time&quot;: &quot;11/12/2020 9:58&quot;, &quot;Variety&quot;: &quot;43Y23 RR&quot;, &quot;__folium_color&quot;: &quot;#260591&quot;, &quot;sample_id&quot;: &quot;bf66_sample_3&quot;}, &quot;type&quot;: &quot;Feature&quot;}, {&quot;bbox&quot;: [117.4902799, -31.59996968, 117.4902799, -31.59996968], &quot;geometry&quot;: {&quot;coordinates&quot;: [117.4902799, -31.59996968], &quot;type&quot;: &quot;Point&quot;}, &quot;id&quot;: &quot;871&quot;, &quot;properties&quot;: {&quot;Crop&quot;: 5, &quot;DryYield&quot;: 0.3, &quot;Elevation&quot;: 272.34, &quot;Heading&quot;: 180.1, &quot;Latitude&quot;: -31.59996968, &quot;Longitude&quot;: 117.4902799, &quot;Time&quot;: &quot;11/12/2020 9:59&quot;, &quot;Variety&quot;: &quot;43Y23 RR&quot;, &quot;__folium_color&quot;: &quot;#220690&quot;, &quot;sample_id&quot;: &quot;bf66_sample_3&quot;}, &quot;type&quot;: &quot;Feature&quot;}, {&quot;bbox&quot;: [117.4902799, -31.60208268, 117.4902799, -31.60208268], &quot;geometry&quot;: {&quot;coordinates&quot;: [117.4902799, -31.60208268], &quot;type&quot;: &quot;Point&quot;}, &quot;id&quot;: &quot;872&quot;, &quot;properties&quot;: {&quot;Crop&quot;: 5, &quot;DryYield&quot;: 0.366, &quot;Elevation&quot;: 272.05, &quot;Heading&quot;: 179.9, &quot;Latitude&quot;: -31.60208268, &quot;Longitude&quot;: 117.4902799, &quot;Time&quot;: &quot;11/12/2020 10:01&quot;, &quot;Variety&quot;: &quot;43Y23 RR&quot;, &quot;__folium_color&quot;: &quot;#260591&quot;, &quot;sample_id&quot;: &quot;bf66_sample_3&quot;}, &quot;type&quot;: &quot;Feature&quot;}, {&quot;bbox&quot;: [117.4904069, -31.60249033, 117.4904069, -31.60249033], &quot;geometry&quot;: {&quot;coordinates&quot;: [117.4904069, -31.60249033], &quot;type&quot;: &quot;Point&quot;}, &quot;id&quot;: &quot;873&quot;, &quot;properties&quot;: {&quot;Crop&quot;: 5, &quot;DryYield&quot;: 0.201, &quot;Elevation&quot;: 271.87, &quot;Heading&quot;: 0.6, &quot;Latitude&quot;: -31.60249033, &quot;Longitude&quot;: 117.4904069, &quot;Time&quot;: &quot;11/12/2020 10:02&quot;, &quot;Variety&quot;: &quot;43Y23 RR&quot;, &quot;__folium_color&quot;: &quot;#1b068d&quot;, &quot;sample_id&quot;: &quot;bf66_sample_3&quot;}, &quot;type&quot;: &quot;Feature&quot;}, {&quot;bbox&quot;: [117.4904063, -31.6004979, 117.4904063, -31.6004979], &quot;geometry&quot;: {&quot;coordinates&quot;: [117.4904063, -31.6004979], &quot;type&quot;: &quot;Point&quot;}, &quot;id&quot;: &quot;874&quot;, &quot;properties&quot;: {&quot;Crop&quot;: 5, &quot;DryYield&quot;: 0.321, &quot;Elevation&quot;: 271.95, &quot;Heading&quot;: 0.0, &quot;Latitude&quot;: -31.6004979, &quot;Longitude&quot;: 117.4904063, &quot;Time&quot;: &quot;11/12/2020 10:03&quot;, &quot;Variety&quot;: &quot;43Y23 RR&quot;, &quot;__folium_color&quot;: &quot;#220690&quot;, &quot;sample_id&quot;: &quot;bf66_sample_3&quot;}, &quot;type&quot;: &quot;Feature&quot;}, {&quot;bbox&quot;: [117.4904061, -31.59846376, 117.4904061, -31.59846376], &quot;geometry&quot;: {&quot;coordinates&quot;: [117.4904061, -31.59846376], &quot;type&quot;: &quot;Point&quot;}, &quot;id&quot;: &quot;875&quot;, &quot;properties&quot;: {&quot;Crop&quot;: 5, &quot;DryYield&quot;: 0.269, &quot;Elevation&quot;: 274.9, &quot;Heading&quot;: 359.6, &quot;Latitude&quot;: -31.59846376, &quot;Longitude&quot;: 117.4904061, &quot;Time&quot;: &quot;11/12/2020 10:05&quot;, &quot;Variety&quot;: &quot;43Y23 RR&quot;, &quot;__folium_color&quot;: &quot;#20068f&quot;, &quot;sample_id&quot;: &quot;bf66_sample_3&quot;}, &quot;type&quot;: &quot;Feature&quot;}, {&quot;bbox&quot;: [117.4904065, -31.59644061, 117.4904065, -31.59644061], &quot;geometry&quot;: {&quot;coordinates&quot;: [117.4904065, -31.59644061], &quot;type&quot;: &quot;Point&quot;}, &quot;id&quot;: &quot;876&quot;, &quot;properties&quot;: {&quot;Crop&quot;: 5, &quot;DryYield&quot;: 0.364, &quot;Elevation&quot;: 277.53, &quot;Heading&quot;: 0.2, &quot;Latitude&quot;: -31.59644061, &quot;Longitude&quot;: 117.4904065, &quot;Time&quot;: &quot;11/12/2020 10:06&quot;, &quot;Variety&quot;: &quot;43Y23 RR&quot;, &quot;__folium_color&quot;: &quot;#260591&quot;, &quot;sample_id&quot;: &quot;bf66_sample_3&quot;}, &quot;type&quot;: &quot;Feature&quot;}, {&quot;bbox&quot;: [117.4904061, -31.59443166, 117.4904061, -31.59443166], &quot;geometry&quot;: {&quot;coordinates&quot;: [117.4904061, -31.59443166], &quot;type&quot;: &quot;Point&quot;}, &quot;id&quot;: &quot;877&quot;, &quot;properties&quot;: {&quot;Crop&quot;: 5, &quot;DryYield&quot;: 0.529, &quot;Elevation&quot;: 274.55, &quot;Heading&quot;: 359.7, &quot;Latitude&quot;: -31.59443166, &quot;Longitude&quot;: 117.4904061, &quot;Time&quot;: &quot;11/12/2020 10:07&quot;, &quot;Variety&quot;: &quot;43Y23 RR&quot;, &quot;__folium_color&quot;: &quot;#2e0595&quot;, &quot;sample_id&quot;: &quot;bf66_sample_3&quot;}, &quot;type&quot;: &quot;Feature&quot;}, {&quot;bbox&quot;: [117.4904063, -31.59252562, 117.4904063, -31.59252562], &quot;geometry&quot;: {&quot;coordinates&quot;: [117.4904063, -31.59252562], &quot;type&quot;: &quot;Point&quot;}, &quot;id&quot;: &quot;878&quot;, &quot;properties&quot;: {&quot;Crop&quot;: 5, &quot;DryYield&quot;: 0.738, &quot;Elevation&quot;: 269.09, &quot;Heading&quot;: 0.1, &quot;Latitude&quot;: -31.59252562, &quot;Longitude&quot;: 117.4904063, &quot;Time&quot;: &quot;11/12/2020 10:09&quot;, &quot;Variety&quot;: &quot;43Y23 RR&quot;, &quot;__folium_color&quot;: &quot;#38049a&quot;, &quot;sample_id&quot;: &quot;bf66_sample_3&quot;}, &quot;type&quot;: &quot;Feature&quot;}, {&quot;bbox&quot;: [117.4907857, -31.59220465, 117.4907857, -31.59220465], &quot;geometry&quot;: {&quot;coordinates&quot;: [117.4907857, -31.59220465], &quot;type&quot;: &quot;Point&quot;}, &quot;id&quot;: &quot;879&quot;, &quot;properties&quot;: {&quot;Crop&quot;: 5, &quot;DryYield&quot;: 0.5, &quot;Elevation&quot;: 268.8, &quot;Heading&quot;: 179.9, &quot;Latitude&quot;: -31.59220465, &quot;Longitude&quot;: 117.4907857, &quot;Time&quot;: &quot;11/12/2020 10:10&quot;, &quot;Variety&quot;: &quot;43Y23 RR&quot;, &quot;__folium_color&quot;: &quot;#2c0594&quot;, &quot;sample_id&quot;: &quot;bf66_sample_3&quot;}, &quot;type&quot;: &quot;Feature&quot;}, {&quot;bbox&quot;: [117.490786, -31.59419802, 117.490786, -31.59419802], &quot;geometry&quot;: {&quot;coordinates&quot;: [117.490786, -31.59419802], &quot;type&quot;: &quot;Point&quot;}, &quot;id&quot;: &quot;880&quot;, &quot;properties&quot;: {&quot;Crop&quot;: 5, &quot;DryYield&quot;: 0.532, &quot;Elevation&quot;: 273.71, &quot;Heading&quot;: 179.8, &quot;Latitude&quot;: -31.59419802, &quot;Longitude&quot;: 117.490786, &quot;Time&quot;: &quot;11/12/2020 10:11&quot;, &quot;Variety&quot;: &quot;43Y23 RR&quot;, &quot;__folium_color&quot;: &quot;#2e0595&quot;, &quot;sample_id&quot;: &quot;bf66_sample_3&quot;}, &quot;type&quot;: &quot;Feature&quot;}, {&quot;bbox&quot;: [117.4907858, -31.59619977, 117.4907858, -31.59619977], &quot;geometry&quot;: {&quot;coordinates&quot;: [117.4907858, -31.59619977], &quot;type&quot;: &quot;Point&quot;}, &quot;id&quot;: &quot;881&quot;, &quot;properties&quot;: {&quot;Crop&quot;: 5, &quot;DryYield&quot;: 0.604, &quot;Elevation&quot;: 277.87, &quot;Heading&quot;: 180.0, &quot;Latitude&quot;: -31.59619977, &quot;Longitude&quot;: 117.4907858, &quot;Time&quot;: &quot;11/12/2020 10:13&quot;, &quot;Variety&quot;: &quot;43Y23 RR&quot;, &quot;__folium_color&quot;: &quot;#310597&quot;, &quot;sample_id&quot;: &quot;bf66_sample_3&quot;}, &quot;type&quot;: &quot;Feature&quot;}, {&quot;bbox&quot;: [117.4907858, -31.59823917, 117.4907858, -31.59823917], &quot;geometry&quot;: {&quot;coordinates&quot;: [117.4907858, -31.59823917], &quot;type&quot;: &quot;Point&quot;}, &quot;id&quot;: &quot;882&quot;, &quot;properties&quot;: {&quot;Crop&quot;: 5, &quot;DryYield&quot;: 0.333, &quot;Elevation&quot;: 275.85, &quot;Heading&quot;: 179.9, &quot;Latitude&quot;: -31.59823917, &quot;Longitude&quot;: 117.4907858, &quot;Time&quot;: &quot;11/12/2020 10:14&quot;, &quot;Variety&quot;: &quot;43Y23 RR&quot;, &quot;__folium_color&quot;: &quot;#240691&quot;, &quot;sample_id&quot;: &quot;bf66_sample_3&quot;}, &quot;type&quot;: &quot;Feature&quot;}, {&quot;bbox&quot;: [117.4907858, -31.60041119, 117.4907858, -31.60041119], &quot;geometry&quot;: {&quot;coordinates&quot;: [117.4907858, -31.60041119], &quot;type&quot;: &quot;Point&quot;}, &quot;id&quot;: &quot;883&quot;, &quot;properties&quot;: {&quot;Crop&quot;: 5, &quot;DryYield&quot;: 0.442, &quot;Elevation&quot;: 272.41, &quot;Heading&quot;: 180.1, &quot;Latitude&quot;: -31.60041119, &quot;Longitude&quot;: 117.4907858, &quot;Time&quot;: &quot;11/12/2020 10:15&quot;, &quot;Variety&quot;: &quot;43Y23 RR&quot;, &quot;__folium_color&quot;: &quot;#2a0593&quot;, &quot;sample_id&quot;: &quot;bf66_sample_3&quot;}, &quot;type&quot;: &quot;Feature&quot;}, {&quot;bbox&quot;: [117.4907851, -31.60252694, 117.4907851, -31.60252694], &quot;geometry&quot;: {&quot;coordinates&quot;: [117.4907851, -31.60252694], &quot;type&quot;: &quot;Point&quot;}, &quot;id&quot;: &quot;884&quot;, &quot;properties&quot;: {&quot;Crop&quot;: 5, &quot;DryYield&quot;: 0.334, &quot;Elevation&quot;: 271.06, &quot;Heading&quot;: 181.1, &quot;Latitude&quot;: -31.60252694, &quot;Longitude&quot;: 117.4907851, &quot;Time&quot;: &quot;11/12/2020 10:17&quot;, &quot;Variety&quot;: &quot;43Y23 RR&quot;, &quot;__folium_color&quot;: &quot;#240691&quot;, &quot;sample_id&quot;: &quot;bf66_sample_3&quot;}, &quot;type&quot;: &quot;Feature&quot;}, {&quot;bbox&quot;: [117.4909407, -31.6025732, 117.4909407, -31.6025732], &quot;geometry&quot;: {&quot;coordinates&quot;: [117.4909407, -31.6025732], &quot;type&quot;: &quot;Point&quot;}, &quot;id&quot;: &quot;885&quot;, &quot;properties&quot;: {&quot;Crop&quot;: 5, &quot;DryYield&quot;: 0.282, &quot;Elevation&quot;: 270.61, &quot;Heading&quot;: 250.8, &quot;Latitude&quot;: -31.6025732, &quot;Longitude&quot;: 117.4909407, &quot;Time&quot;: &quot;11/12/2020 10:18&quot;, &quot;Variety&quot;: &quot;43Y23 RR&quot;, &quot;__folium_color&quot;: &quot;#20068f&quot;, &quot;sample_id&quot;: &quot;bf66_sample_3&quot;}, &quot;type&quot;: &quot;Feature&quot;}, {&quot;bbox&quot;: [117.4906966, -31.60259205, 117.4906966, -31.60259205], &quot;geometry&quot;: {&quot;coordinates&quot;: [117.4906966, -31.60259205], &quot;type&quot;: &quot;Point&quot;}, &quot;id&quot;: &quot;886&quot;, &quot;properties&quot;: {&quot;Crop&quot;: 5, &quot;DryYield&quot;: 0.0, &quot;Elevation&quot;: 271.03, &quot;Heading&quot;: 187.1, &quot;Latitude&quot;: -31.60259205, &quot;Longitude&quot;: 117.4906966, &quot;Time&quot;: &quot;11/12/2020 10:19&quot;, &quot;Variety&quot;: &quot;43Y23 RR&quot;, &quot;__folium_color&quot;: &quot;#0d0887&quot;, &quot;sample_id&quot;: &quot;bf66_sample_3&quot;}, &quot;type&quot;: &quot;Feature&quot;}, {&quot;bbox&quot;: [117.4909121, -31.60051092, 117.4909121, -31.60051092], &quot;geometry&quot;: {&quot;coordinates&quot;: [117.4909121, -31.60051092], &quot;type&quot;: &quot;Point&quot;}, &quot;id&quot;: &quot;887&quot;, &quot;properties&quot;: {&quot;Crop&quot;: 5, &quot;DryYield&quot;: 0.523, &quot;Elevation&quot;: 272.31, &quot;Heading&quot;: 359.8, &quot;Latitude&quot;: -31.60051092, &quot;Longitude&quot;: 117.4909121, &quot;Time&quot;: &quot;11/12/2020 10:21&quot;, &quot;Variety&quot;: &quot;43Y23 RR&quot;, &quot;__folium_color&quot;: &quot;#2e0595&quot;, &quot;sample_id&quot;: &quot;bf66_sample_3&quot;}, &quot;type&quot;: &quot;Feature&quot;}, {&quot;bbox&quot;: [117.4909123, -31.5984083, 117.4909123, -31.5984083], &quot;geometry&quot;: {&quot;coordinates&quot;: [117.4909123, -31.5984083], &quot;type&quot;: &quot;Point&quot;}, &quot;id&quot;: &quot;888&quot;, &quot;properties&quot;: {&quot;Crop&quot;: 5, &quot;DryYield&quot;: 0.364, &quot;Elevation&quot;: 275.67, &quot;Heading&quot;: 0.1, &quot;Latitude&quot;: -31.5984083, &quot;Longitude&quot;: 117.4909123, &quot;Time&quot;: &quot;11/12/2020 10:22&quot;, &quot;Variety&quot;: &quot;43Y23 RR&quot;, &quot;__folium_color&quot;: &quot;#260591&quot;, &quot;sample_id&quot;: &quot;bf66_sample_3&quot;}, &quot;type&quot;: &quot;Feature&quot;}, {&quot;bbox&quot;: [117.4909121, -31.59626596, 117.4909121, -31.59626596], &quot;geometry&quot;: {&quot;coordinates&quot;: [117.4909121, -31.59626596], &quot;type&quot;: &quot;Point&quot;}, &quot;id&quot;: &quot;889&quot;, &quot;properties&quot;: {&quot;Crop&quot;: 5, &quot;DryYield&quot;: 0.607, &quot;Elevation&quot;: 277.97, &quot;Heading&quot;: 0.3, &quot;Latitude&quot;: -31.59626596, &quot;Longitude&quot;: 117.4909121, &quot;Time&quot;: &quot;11/12/2020 10:24&quot;, &quot;Variety&quot;: &quot;43Y23 RR&quot;, &quot;__folium_color&quot;: &quot;#310597&quot;, &quot;sample_id&quot;: &quot;bf66_sample_3&quot;}, &quot;type&quot;: &quot;Feature&quot;}, {&quot;bbox&quot;: [117.4891419, -31.6022152, 117.4891419, -31.6022152], &quot;geometry&quot;: {&quot;coordinates&quot;: [117.4891419, -31.6022152], &quot;type&quot;: &quot;Point&quot;}, &quot;id&quot;: &quot;890&quot;, &quot;properties&quot;: {&quot;Crop&quot;: 5, &quot;DryYield&quot;: 0.322, &quot;Elevation&quot;: 272.84, &quot;Heading&quot;: 180.3, &quot;Latitude&quot;: -31.6022152, &quot;Longitude&quot;: 117.4891419, &quot;Time&quot;: &quot;11/12/2020 9:35&quot;, &quot;Variety&quot;: &quot;43Y23 RR&quot;, &quot;__folium_color&quot;: &quot;#220690&quot;, &quot;sample_id&quot;: &quot;bf66_sample_3&quot;}, &quot;type&quot;: &quot;Feature&quot;}, {&quot;bbox&quot;: [117.4895214, -31.60204102, 117.4895214, -31.60204102], &quot;geometry&quot;: {&quot;coordinates&quot;: [117.4895214, -31.60204102], &quot;type&quot;: &quot;Point&quot;}, &quot;id&quot;: &quot;891&quot;, &quot;properties&quot;: {&quot;Crop&quot;: 5, &quot;DryYield&quot;: 0.33, &quot;Elevation&quot;: 272.71, &quot;Heading&quot;: 359.9, &quot;Latitude&quot;: -31.60204102, &quot;Longitude&quot;: 117.4895214, &quot;Time&quot;: &quot;11/12/2020 9:37&quot;, &quot;Variety&quot;: &quot;43Y23 RR&quot;, &quot;__folium_color&quot;: &quot;#240691&quot;, &quot;sample_id&quot;: &quot;bf66_sample_3&quot;}, &quot;type&quot;: &quot;Feature&quot;}, {&quot;bbox&quot;: [117.4895214, -31.59984268, 117.4895214, -31.59984268], &quot;geometry&quot;: {&quot;coordinates&quot;: [117.4895214, -31.59984268], &quot;type&quot;: &quot;Point&quot;}, &quot;id&quot;: &quot;892&quot;, &quot;properties&quot;: {&quot;Crop&quot;: 5, &quot;DryYield&quot;: 0.323, &quot;Elevation&quot;: 271.45, &quot;Heading&quot;: 1.0, &quot;Latitude&quot;: -31.59984268, &quot;Longitude&quot;: 117.4895214, &quot;Time&quot;: &quot;11/12/2020 9:38&quot;, &quot;Variety&quot;: &quot;43Y23 RR&quot;, &quot;__folium_color&quot;: &quot;#220690&quot;, &quot;sample_id&quot;: &quot;bf66_sample_3&quot;}, &quot;type&quot;: &quot;Feature&quot;}, {&quot;bbox&quot;: [117.4895207, -31.59764813, 117.4895207, -31.59764813], &quot;geometry&quot;: {&quot;coordinates&quot;: [117.4895207, -31.59764813], &quot;type&quot;: &quot;Point&quot;}, &quot;id&quot;: &quot;893&quot;, &quot;properties&quot;: {&quot;Crop&quot;: 5, &quot;DryYield&quot;: 0.622, &quot;Elevation&quot;: 274.69, &quot;Heading&quot;: 359.8, &quot;Latitude&quot;: -31.59764813, &quot;Longitude&quot;: 117.4895207, &quot;Time&quot;: &quot;11/12/2020 9:39&quot;, &quot;Variety&quot;: &quot;43Y23 RR&quot;, &quot;__folium_color&quot;: &quot;#330597&quot;, &quot;sample_id&quot;: &quot;bf66_sample_3&quot;}, &quot;type&quot;: &quot;Feature&quot;}, {&quot;bbox&quot;: [117.489521, -31.5954834, 117.489521, -31.5954834], &quot;geometry&quot;: {&quot;coordinates&quot;: [117.489521, -31.5954834], &quot;type&quot;: &quot;Point&quot;}, &quot;id&quot;: &quot;894&quot;, &quot;properties&quot;: {&quot;Crop&quot;: 5, &quot;DryYield&quot;: 0.43, &quot;Elevation&quot;: 276.47, &quot;Heading&quot;: 359.9, &quot;Latitude&quot;: -31.5954834, &quot;Longitude&quot;: 117.489521, &quot;Time&quot;: &quot;11/12/2020 9:41&quot;, &quot;Variety&quot;: &quot;43Y23 RR&quot;, &quot;__folium_color&quot;: &quot;#280592&quot;, &quot;sample_id&quot;: &quot;bf66_sample_3&quot;}, &quot;type&quot;: &quot;Feature&quot;}, {&quot;bbox&quot;: [117.4895212, -31.59330851, 117.4895212, -31.59330851], &quot;geometry&quot;: {&quot;coordinates&quot;: [117.4895212, -31.59330851], &quot;type&quot;: &quot;Point&quot;}, &quot;id&quot;: &quot;895&quot;, &quot;properties&quot;: {&quot;Crop&quot;: 5, &quot;DryYield&quot;: 0.214, &quot;Elevation&quot;: 271.88, &quot;Heading&quot;: 359.8, &quot;Latitude&quot;: -31.59330851, &quot;Longitude&quot;: 117.4895212, &quot;Time&quot;: &quot;11/12/2020 9:42&quot;, &quot;Variety&quot;: &quot;43Y23 RR&quot;, &quot;__folium_color&quot;: &quot;#1b068d&quot;, &quot;sample_id&quot;: &quot;bf66_sample_3&quot;}, &quot;type&quot;: &quot;Feature&quot;}, {&quot;bbox&quot;: [117.4896478, -31.59186606, 117.4896478, -31.59186606], &quot;geometry&quot;: {&quot;coordinates&quot;: [117.4896478, -31.59186606], &quot;type&quot;: &quot;Point&quot;}, &quot;id&quot;: &quot;896&quot;, &quot;properties&quot;: {&quot;Crop&quot;: 5, &quot;DryYield&quot;: 0.26, &quot;Elevation&quot;: 267.9, &quot;Heading&quot;: 180.0, &quot;Latitude&quot;: -31.59186606, &quot;Longitude&quot;: 117.4896478, &quot;Time&quot;: &quot;11/12/2020 9:46&quot;, &quot;Variety&quot;: &quot;43Y23 RR&quot;, &quot;__folium_color&quot;: &quot;#20068f&quot;, &quot;sample_id&quot;: &quot;bf66_sample_3&quot;}, &quot;type&quot;: &quot;Feature&quot;}, {&quot;bbox&quot;: [117.4896478, -31.59370347, 117.4896478, -31.59370347], &quot;geometry&quot;: {&quot;coordinates&quot;: [117.4896478, -31.59370347], &quot;type&quot;: &quot;Point&quot;}, &quot;id&quot;: &quot;897&quot;, &quot;properties&quot;: {&quot;Crop&quot;: 5, &quot;DryYield&quot;: 0.434, &quot;Elevation&quot;: 272.69, &quot;Heading&quot;: 179.9, &quot;Latitude&quot;: -31.59370347, &quot;Longitude&quot;: 117.4896478, &quot;Time&quot;: &quot;11/12/2020 9:47&quot;, &quot;Variety&quot;: &quot;43Y23 RR&quot;, &quot;__folium_color&quot;: &quot;#2a0593&quot;, &quot;sample_id&quot;: &quot;bf66_sample_3&quot;}, &quot;type&quot;: &quot;Feature&quot;}, {&quot;bbox&quot;: [117.4896477, -31.59576943, 117.4896477, -31.59576943], &quot;geometry&quot;: {&quot;coordinates&quot;: [117.4896477, -31.59576943], &quot;type&quot;: &quot;Point&quot;}, &quot;id&quot;: &quot;898&quot;, &quot;properties&quot;: {&quot;Crop&quot;: 5, &quot;DryYield&quot;: 0.392, &quot;Elevation&quot;: 276.66, &quot;Heading&quot;: 180.1, &quot;Latitude&quot;: -31.59576943, &quot;Longitude&quot;: 117.4896477, &quot;Time&quot;: &quot;11/12/2020 9:49&quot;, &quot;Variety&quot;: &quot;43Y23 RR&quot;, &quot;__folium_color&quot;: &quot;#260591&quot;, &quot;sample_id&quot;: &quot;bf66_sample_3&quot;}, &quot;type&quot;: &quot;Feature&quot;}, {&quot;bbox&quot;: [117.4896478, -31.5979317, 117.4896478, -31.5979317], &quot;geometry&quot;: {&quot;coordinates&quot;: [117.4896478, -31.5979317], &quot;type&quot;: &quot;Point&quot;}, &quot;id&quot;: &quot;899&quot;, &quot;properties&quot;: {&quot;Crop&quot;: 5, &quot;DryYield&quot;: 0.337, &quot;Elevation&quot;: 274.52, &quot;Heading&quot;: 180.2, &quot;Latitude&quot;: -31.5979317, &quot;Longitude&quot;: 117.4896478, &quot;Time&quot;: &quot;11/12/2020 9:50&quot;, &quot;Variety&quot;: &quot;43Y23 RR&quot;, &quot;__folium_color&quot;: &quot;#240691&quot;, &quot;sample_id&quot;: &quot;bf66_sample_3&quot;}, &quot;type&quot;: &quot;Feature&quot;}, {&quot;bbox&quot;: [117.4896477, -31.6001336, 117.4896477, -31.6001336], &quot;geometry&quot;: {&quot;coordinates&quot;: [117.4896477, -31.6001336], &quot;type&quot;: &quot;Point&quot;}, &quot;id&quot;: &quot;900&quot;, &quot;properties&quot;: {&quot;Crop&quot;: 5, &quot;DryYield&quot;: 0.273, &quot;Elevation&quot;: 271.5, &quot;Heading&quot;: 180.2, &quot;Latitude&quot;: -31.6001336, &quot;Longitude&quot;: 117.4896477, &quot;Time&quot;: &quot;11/12/2020 9:51&quot;, &quot;Variety&quot;: &quot;43Y23 RR&quot;, &quot;__folium_color&quot;: &quot;#20068f&quot;, &quot;sample_id&quot;: &quot;bf66_sample_3&quot;}, &quot;type&quot;: &quot;Feature&quot;}, {&quot;bbox&quot;: [117.489648, -31.60233193, 117.489648, -31.60233193], &quot;geometry&quot;: {&quot;coordinates&quot;: [117.489648, -31.60233193], &quot;type&quot;: &quot;Point&quot;}, &quot;id&quot;: &quot;901&quot;, &quot;properties&quot;: {&quot;Crop&quot;: 5, &quot;DryYield&quot;: 0.377, &quot;Elevation&quot;: 272.73, &quot;Heading&quot;: 180.0, &quot;Latitude&quot;: -31.60233193, &quot;Longitude&quot;: 117.489648, &quot;Time&quot;: &quot;11/12/2020 9:53&quot;, &quot;Variety&quot;: &quot;43Y23 RR&quot;, &quot;__folium_color&quot;: &quot;#260591&quot;, &quot;sample_id&quot;: &quot;bf66_sample_3&quot;}, &quot;type&quot;: &quot;Feature&quot;}, {&quot;bbox&quot;: [117.4900273, -31.60191463, 117.4900273, -31.60191463], &quot;geometry&quot;: {&quot;coordinates&quot;: [117.4900273, -31.60191463], &quot;type&quot;: &quot;Point&quot;}, &quot;id&quot;: &quot;902&quot;, &quot;properties&quot;: {&quot;Crop&quot;: 5, &quot;DryYield&quot;: 0.51, &quot;Elevation&quot;: 272.37, &quot;Heading&quot;: 0.2, &quot;Latitude&quot;: -31.60191463, &quot;Longitude&quot;: 117.4900273, &quot;Time&quot;: &quot;11/12/2020 9:54&quot;, &quot;Variety&quot;: &quot;43Y23 RR&quot;, &quot;__folium_color&quot;: &quot;#2e0595&quot;, &quot;sample_id&quot;: &quot;bf66_sample_3&quot;}, &quot;type&quot;: &quot;Feature&quot;}, {&quot;bbox&quot;: [117.490027, -31.59980469, 117.490027, -31.59980469], &quot;geometry&quot;: {&quot;coordinates&quot;: [117.490027, -31.59980469], &quot;type&quot;: &quot;Point&quot;}, &quot;id&quot;: &quot;903&quot;, &quot;properties&quot;: {&quot;Crop&quot;: 5, &quot;DryYield&quot;: 0.333, &quot;Elevation&quot;: 272.28, &quot;Heading&quot;: 359.9, &quot;Latitude&quot;: -31.59980469, &quot;Longitude&quot;: 117.490027, &quot;Time&quot;: &quot;11/12/2020 9:56&quot;, &quot;Variety&quot;: &quot;43Y23 RR&quot;, &quot;__folium_color&quot;: &quot;#240691&quot;, &quot;sample_id&quot;: &quot;bf66_sample_3&quot;}, &quot;type&quot;: &quot;Feature&quot;}, {&quot;bbox&quot;: [117.4900273, -31.59764844, 117.4900273, -31.59764844], &quot;geometry&quot;: {&quot;coordinates&quot;: [117.4900273, -31.59764844], &quot;type&quot;: &quot;Point&quot;}, &quot;id&quot;: &quot;904&quot;, &quot;properties&quot;: {&quot;Crop&quot;: 5, &quot;DryYield&quot;: 0.416, &quot;Elevation&quot;: 275.65, &quot;Heading&quot;: 359.9, &quot;Latitude&quot;: -31.59764844, &quot;Longitude&quot;: 117.4900273, &quot;Time&quot;: &quot;11/12/2020 9:57&quot;, &quot;Variety&quot;: &quot;43Y23 RR&quot;, &quot;__folium_color&quot;: &quot;#280592&quot;, &quot;sample_id&quot;: &quot;bf66_sample_3&quot;}, &quot;type&quot;: &quot;Feature&quot;}, {&quot;bbox&quot;: [117.490027, -31.59552523, 117.490027, -31.59552523], &quot;geometry&quot;: {&quot;coordinates&quot;: [117.490027, -31.59552523], &quot;type&quot;: &quot;Point&quot;}, &quot;id&quot;: &quot;905&quot;, &quot;properties&quot;: {&quot;Crop&quot;: 5, &quot;DryYield&quot;: 0.716, &quot;Elevation&quot;: 276.83, &quot;Heading&quot;: 0.1, &quot;Latitude&quot;: -31.59552523, &quot;Longitude&quot;: 117.490027, &quot;Time&quot;: &quot;11/12/2020 9:58&quot;, &quot;Variety&quot;: &quot;43Y23 RR&quot;, &quot;__folium_color&quot;: &quot;#370499&quot;, &quot;sample_id&quot;: &quot;bf66_sample_3&quot;}, &quot;type&quot;: &quot;Feature&quot;}, {&quot;bbox&quot;: [117.490027, -31.59349465, 117.490027, -31.59349465], &quot;geometry&quot;: {&quot;coordinates&quot;: [117.490027, -31.59349465], &quot;type&quot;: &quot;Point&quot;}, &quot;id&quot;: &quot;906&quot;, &quot;properties&quot;: {&quot;Crop&quot;: 5, &quot;DryYield&quot;: 0.509, &quot;Elevation&quot;: 271.88, &quot;Heading&quot;: 0.0, &quot;Latitude&quot;: -31.59349465, &quot;Longitude&quot;: 117.490027, &quot;Time&quot;: &quot;11/12/2020 10:00&quot;, &quot;Variety&quot;: &quot;43Y23 RR&quot;, &quot;__folium_color&quot;: &quot;#2e0595&quot;, &quot;sample_id&quot;: &quot;bf66_sample_3&quot;}, &quot;type&quot;: &quot;Feature&quot;}, {&quot;bbox&quot;: [117.4900916, -31.59156638, 117.4900916, -31.59156638], &quot;geometry&quot;: {&quot;coordinates&quot;: [117.4900916, -31.59156638], &quot;type&quot;: &quot;Point&quot;}, &quot;id&quot;: &quot;907&quot;, &quot;properties&quot;: {&quot;Crop&quot;: 5, &quot;DryYield&quot;: 0.262, &quot;Elevation&quot;: 266.96, &quot;Heading&quot;: 175.3, &quot;Latitude&quot;: -31.59156638, &quot;Longitude&quot;: 117.4900916, &quot;Time&quot;: &quot;11/12/2020 10:01&quot;, &quot;Variety&quot;: &quot;43Y23 RR&quot;, &quot;__folium_color&quot;: &quot;#20068f&quot;, &quot;sample_id&quot;: &quot;bf66_sample_3&quot;}, &quot;type&quot;: &quot;Feature&quot;}, {&quot;bbox&quot;: [117.4901533, -31.59350063, 117.4901533, -31.59350063], &quot;geometry&quot;: {&quot;coordinates&quot;: [117.4901533, -31.59350063], &quot;type&quot;: &quot;Point&quot;}, &quot;id&quot;: &quot;908&quot;, &quot;properties&quot;: {&quot;Crop&quot;: 5, &quot;DryYield&quot;: 0.58, &quot;Elevation&quot;: 271.54, &quot;Heading&quot;: 180.1, &quot;Latitude&quot;: -31.59350063, &quot;Longitude&quot;: 117.4901533, &quot;Time&quot;: &quot;11/12/2020 10:02&quot;, &quot;Variety&quot;: &quot;43Y23 RR&quot;, &quot;__folium_color&quot;: &quot;#310597&quot;, &quot;sample_id&quot;: &quot;bf66_sample_3&quot;}, &quot;type&quot;: &quot;Feature&quot;}, {&quot;bbox&quot;: [117.4901536, -31.5955764, 117.4901536, -31.5955764], &quot;geometry&quot;: {&quot;coordinates&quot;: [117.4901536, -31.5955764], &quot;type&quot;: &quot;Point&quot;}, &quot;id&quot;: &quot;909&quot;, &quot;properties&quot;: {&quot;Crop&quot;: 5, &quot;DryYield&quot;: 0.612, &quot;Elevation&quot;: 277.09, &quot;Heading&quot;: 180.2, &quot;Latitude&quot;: -31.5955764, &quot;Longitude&quot;: 117.4901536, &quot;Time&quot;: &quot;11/12/2020 10:04&quot;, &quot;Variety&quot;: &quot;43Y23 RR&quot;, &quot;__folium_color&quot;: &quot;#310597&quot;, &quot;sample_id&quot;: &quot;bf66_sample_3&quot;}, &quot;type&quot;: &quot;Feature&quot;}, {&quot;bbox&quot;: [117.4901536, -31.59767525, 117.4901536, -31.59767525], &quot;geometry&quot;: {&quot;coordinates&quot;: [117.4901536, -31.59767525], &quot;type&quot;: &quot;Point&quot;}, &quot;id&quot;: &quot;910&quot;, &quot;properties&quot;: {&quot;Crop&quot;: 5, &quot;DryYield&quot;: 0.471, &quot;Elevation&quot;: 276.07, &quot;Heading&quot;: 180.3, &quot;Latitude&quot;: -31.59767525, &quot;Longitude&quot;: 117.4901536, &quot;Time&quot;: &quot;11/12/2020 10:05&quot;, &quot;Variety&quot;: &quot;43Y23 RR&quot;, &quot;__folium_color&quot;: &quot;#2c0594&quot;, &quot;sample_id&quot;: &quot;bf66_sample_3&quot;}, &quot;type&quot;: &quot;Feature&quot;}, {&quot;bbox&quot;: [117.4901534, -31.59983227, 117.4901534, -31.59983227], &quot;geometry&quot;: {&quot;coordinates&quot;: [117.4901534, -31.59983227], &quot;type&quot;: &quot;Point&quot;}, &quot;id&quot;: &quot;911&quot;, &quot;properties&quot;: {&quot;Crop&quot;: 5, &quot;DryYield&quot;: 0.299, &quot;Elevation&quot;: 272.53, &quot;Heading&quot;: 179.9, &quot;Latitude&quot;: -31.59983227, &quot;Longitude&quot;: 117.4901534, &quot;Time&quot;: &quot;11/12/2020 10:06&quot;, &quot;Variety&quot;: &quot;43Y23 RR&quot;, &quot;__folium_color&quot;: &quot;#220690&quot;, &quot;sample_id&quot;: &quot;bf66_sample_3&quot;}, &quot;type&quot;: &quot;Feature&quot;}, {&quot;bbox&quot;: [117.490154, -31.6020188, 117.490154, -31.6020188], &quot;geometry&quot;: {&quot;coordinates&quot;: [117.490154, -31.6020188], &quot;type&quot;: &quot;Point&quot;}, &quot;id&quot;: &quot;912&quot;, &quot;properties&quot;: {&quot;Crop&quot;: 5, &quot;DryYield&quot;: 0.515, &quot;Elevation&quot;: 272.23, &quot;Heading&quot;: 179.9, &quot;Latitude&quot;: -31.6020188, &quot;Longitude&quot;: 117.490154, &quot;Time&quot;: &quot;11/12/2020 10:08&quot;, &quot;Variety&quot;: &quot;43Y23 RR&quot;, &quot;__folium_color&quot;: &quot;#2e0595&quot;, &quot;sample_id&quot;: &quot;bf66_sample_3&quot;}, &quot;type&quot;: &quot;Feature&quot;}, {&quot;bbox&quot;: [117.4905518, -31.60266006, 117.4905518, -31.60266006], &quot;geometry&quot;: {&quot;coordinates&quot;: [117.4905518, -31.60266006], &quot;type&quot;: &quot;Point&quot;}, &quot;id&quot;: &quot;913&quot;, &quot;properties&quot;: {&quot;Crop&quot;: 5, &quot;DryYield&quot;: 0.662, &quot;Elevation&quot;: 271.63, &quot;Heading&quot;: 34.4, &quot;Latitude&quot;: -31.60266006, &quot;Longitude&quot;: 117.4905518, &quot;Time&quot;: &quot;11/12/2020 10:09&quot;, &quot;Variety&quot;: &quot;43Y23 RR&quot;, &quot;__folium_color&quot;: &quot;#350498&quot;, &quot;sample_id&quot;: &quot;bf66_sample_3&quot;}, &quot;type&quot;: &quot;Feature&quot;}, {&quot;bbox&quot;: [117.4905331, -31.60140128, 117.4905331, -31.60140128], &quot;geometry&quot;: {&quot;coordinates&quot;: [117.4905331, -31.60140128], &quot;type&quot;: &quot;Point&quot;}, &quot;id&quot;: &quot;914&quot;, &quot;properties&quot;: {&quot;Crop&quot;: 5, &quot;DryYield&quot;: 0.357, &quot;Elevation&quot;: 272.09, &quot;Heading&quot;: 0.1, &quot;Latitude&quot;: -31.60140128, &quot;Longitude&quot;: 117.4905331, &quot;Time&quot;: &quot;11/12/2020 10:11&quot;, &quot;Variety&quot;: &quot;43Y23 RR&quot;, &quot;__folium_color&quot;: &quot;#240691&quot;, &quot;sample_id&quot;: &quot;bf66_sample_3&quot;}, &quot;type&quot;: &quot;Feature&quot;}, {&quot;bbox&quot;: [117.4905324, -31.59942369, 117.4905324, -31.59942369], &quot;geometry&quot;: {&quot;coordinates&quot;: [117.4905324, -31.59942369], &quot;type&quot;: &quot;Point&quot;}, &quot;id&quot;: &quot;915&quot;, &quot;properties&quot;: {&quot;Crop&quot;: 5, &quot;DryYield&quot;: 0.494, &quot;Elevation&quot;: 273.5, &quot;Heading&quot;: 359.9, &quot;Latitude&quot;: -31.59942369, &quot;Longitude&quot;: 117.4905324, &quot;Time&quot;: &quot;11/12/2020 10:12&quot;, &quot;Variety&quot;: &quot;43Y23 RR&quot;, &quot;__folium_color&quot;: &quot;#2c0594&quot;, &quot;sample_id&quot;: &quot;bf66_sample_3&quot;}, &quot;type&quot;: &quot;Feature&quot;}, {&quot;bbox&quot;: [117.4905326, -31.59740791, 117.4905326, -31.59740791], &quot;geometry&quot;: {&quot;coordinates&quot;: [117.4905326, -31.59740791], &quot;type&quot;: &quot;Point&quot;}, &quot;id&quot;: &quot;916&quot;, &quot;properties&quot;: {&quot;Crop&quot;: 5, &quot;DryYield&quot;: 0.4, &quot;Elevation&quot;: 276.88, &quot;Heading&quot;: 360.0, &quot;Latitude&quot;: -31.59740791, &quot;Longitude&quot;: 117.4905326, &quot;Time&quot;: &quot;11/12/2020 10:14&quot;, &quot;Variety&quot;: &quot;43Y23 RR&quot;, &quot;__folium_color&quot;: &quot;#280592&quot;, &quot;sample_id&quot;: &quot;bf66_sample_3&quot;}, &quot;type&quot;: &quot;Feature&quot;}, {&quot;bbox&quot;: [117.4905324, -31.59528883, 117.4905324, -31.59528883], &quot;geometry&quot;: {&quot;coordinates&quot;: [117.4905324, -31.59528883], &quot;type&quot;: &quot;Point&quot;}, &quot;id&quot;: &quot;917&quot;, &quot;properties&quot;: {&quot;Crop&quot;: 5, &quot;DryYield&quot;: 0.652, &quot;Elevation&quot;: 276.96, &quot;Heading&quot;: 359.8, &quot;Latitude&quot;: -31.59528883, &quot;Longitude&quot;: 117.4905324, &quot;Time&quot;: &quot;11/12/2020 10:15&quot;, &quot;Variety&quot;: &quot;43Y23 RR&quot;, &quot;__folium_color&quot;: &quot;#350498&quot;, &quot;sample_id&quot;: &quot;bf66_sample_3&quot;}, &quot;type&quot;: &quot;Feature&quot;}, {&quot;bbox&quot;: [117.4905326, -31.59323482, 117.4905326, -31.59323482], &quot;geometry&quot;: {&quot;coordinates&quot;: [117.4905326, -31.59323482], &quot;type&quot;: &quot;Point&quot;}, &quot;id&quot;: &quot;918&quot;, &quot;properties&quot;: {&quot;Crop&quot;: 5, &quot;DryYield&quot;: 0.425, &quot;Elevation&quot;: 271.32, &quot;Heading&quot;: 0.1, &quot;Latitude&quot;: -31.59323482, &quot;Longitude&quot;: 117.4905326, &quot;Time&quot;: &quot;11/12/2020 10:16&quot;, &quot;Variety&quot;: &quot;43Y23 RR&quot;, &quot;__folium_color&quot;: &quot;#280592&quot;, &quot;sample_id&quot;: &quot;bf66_sample_3&quot;}, &quot;type&quot;: &quot;Feature&quot;}, {&quot;bbox&quot;: [117.4906592, -31.59181719, 117.4906592, -31.59181719], &quot;geometry&quot;: {&quot;coordinates&quot;: [117.4906592, -31.59181719], &quot;type&quot;: &quot;Point&quot;}, &quot;id&quot;: &quot;919&quot;, &quot;properties&quot;: {&quot;Crop&quot;: 5, &quot;DryYield&quot;: 0.944, &quot;Elevation&quot;: 267.72, &quot;Heading&quot;: 179.8, &quot;Latitude&quot;: -31.59181719, &quot;Longitude&quot;: 117.4906592, &quot;Time&quot;: &quot;11/12/2020 10:18&quot;, &quot;Variety&quot;: &quot;43Y23 RR&quot;, &quot;__folium_color&quot;: &quot;#43039e&quot;, &quot;sample_id&quot;: &quot;bf66_sample_3&quot;}, &quot;type&quot;: &quot;Feature&quot;}, {&quot;bbox&quot;: [117.4906592, -31.59382788, 117.4906592, -31.59382788], &quot;geometry&quot;: {&quot;coordinates&quot;: [117.4906592, -31.59382788], &quot;type&quot;: &quot;Point&quot;}, &quot;id&quot;: &quot;920&quot;, &quot;properties&quot;: {&quot;Crop&quot;: 5, &quot;DryYield&quot;: 0.637, &quot;Elevation&quot;: 272.62, &quot;Heading&quot;: 180.1, &quot;Latitude&quot;: -31.59382788, &quot;Longitude&quot;: 117.4906592, &quot;Time&quot;: &quot;11/12/2020 10:19&quot;, &quot;Variety&quot;: &quot;43Y23 RR&quot;, &quot;__folium_color&quot;: &quot;#330597&quot;, &quot;sample_id&quot;: &quot;bf66_sample_3&quot;}, &quot;type&quot;: &quot;Feature&quot;}, {&quot;bbox&quot;: [117.4906592, -31.59577311, 117.4906592, -31.59577311], &quot;geometry&quot;: {&quot;coordinates&quot;: [117.4906592, -31.59577311], &quot;type&quot;: &quot;Point&quot;}, &quot;id&quot;: &quot;921&quot;, &quot;properties&quot;: {&quot;Crop&quot;: 5, &quot;DryYield&quot;: 0.646, &quot;Elevation&quot;: 277.67, &quot;Heading&quot;: 179.9, &quot;Latitude&quot;: -31.59577311, &quot;Longitude&quot;: 117.4906592, &quot;Time&quot;: &quot;11/12/2020 10:20&quot;, &quot;Variety&quot;: &quot;43Y23 RR&quot;, &quot;__folium_color&quot;: &quot;#330597&quot;, &quot;sample_id&quot;: &quot;bf66_sample_3&quot;}, &quot;type&quot;: &quot;Feature&quot;}, {&quot;bbox&quot;: [117.4906594, -31.59781849, 117.4906594, -31.59781849], &quot;geometry&quot;: {&quot;coordinates&quot;: [117.4906594, -31.59781849], &quot;type&quot;: &quot;Point&quot;}, &quot;id&quot;: &quot;922&quot;, &quot;properties&quot;: {&quot;Crop&quot;: 5, &quot;DryYield&quot;: 0.467, &quot;Elevation&quot;: 276.61, &quot;Heading&quot;: 179.9, &quot;Latitude&quot;: -31.59781849, &quot;Longitude&quot;: 117.4906594, &quot;Time&quot;: &quot;11/12/2020 10:22&quot;, &quot;Variety&quot;: &quot;43Y23 RR&quot;, &quot;__folium_color&quot;: &quot;#2a0593&quot;, &quot;sample_id&quot;: &quot;bf66_sample_3&quot;}, &quot;type&quot;: &quot;Feature&quot;}, {&quot;bbox&quot;: [117.4906596, -31.59994425, 117.4906596, -31.59994425], &quot;geometry&quot;: {&quot;coordinates&quot;: [117.4906596, -31.59994425], &quot;type&quot;: &quot;Point&quot;}, &quot;id&quot;: &quot;923&quot;, &quot;properties&quot;: {&quot;Crop&quot;: 5, &quot;DryYield&quot;: 0.388, &quot;Elevation&quot;: 273.04, &quot;Heading&quot;: 179.8, &quot;Latitude&quot;: -31.59994425, &quot;Longitude&quot;: 117.4906596, &quot;Time&quot;: &quot;11/12/2020 10:23&quot;, &quot;Variety&quot;: &quot;43Y23 RR&quot;, &quot;__folium_color&quot;: &quot;#260591&quot;, &quot;sample_id&quot;: &quot;bf66_sample_3&quot;}, &quot;type&quot;: &quot;Feature&quot;}, {&quot;bbox&quot;: [117.4906599, -31.60213814, 117.4906599, -31.60213814], &quot;geometry&quot;: {&quot;coordinates&quot;: [117.4906599, -31.60213814], &quot;type&quot;: &quot;Point&quot;}, &quot;id&quot;: &quot;924&quot;, &quot;properties&quot;: {&quot;Crop&quot;: 5, &quot;DryYield&quot;: 0.269, &quot;Elevation&quot;: 271.9, &quot;Heading&quot;: 180.4, &quot;Latitude&quot;: -31.60213814, &quot;Longitude&quot;: 117.4906599, &quot;Time&quot;: &quot;11/12/2020 10:24&quot;, &quot;Variety&quot;: &quot;43Y23 RR&quot;, &quot;__folium_color&quot;: &quot;#20068f&quot;, &quot;sample_id&quot;: &quot;bf66_sample_3&quot;}, &quot;type&quot;: &quot;Feature&quot;}, {&quot;bbox&quot;: [117.4910389, -31.60120489, 117.4910389, -31.60120489], &quot;geometry&quot;: {&quot;coordinates&quot;: [117.4910389, -31.60120489], &quot;type&quot;: &quot;Point&quot;}, &quot;id&quot;: &quot;925&quot;, &quot;properties&quot;: {&quot;Crop&quot;: 5, &quot;DryYield&quot;: 0.356, &quot;Elevation&quot;: 271.83, &quot;Heading&quot;: 0.2, &quot;Latitude&quot;: -31.60120489, &quot;Longitude&quot;: 117.4910389, &quot;Time&quot;: &quot;11/12/2020 10:26&quot;, &quot;Variety&quot;: &quot;43Y23 RR&quot;, &quot;__folium_color&quot;: &quot;#240691&quot;, &quot;sample_id&quot;: &quot;bf66_sample_3&quot;}, &quot;type&quot;: &quot;Feature&quot;}, {&quot;bbox&quot;: [117.4910387, -31.59924277, 117.4910387, -31.59924277], &quot;geometry&quot;: {&quot;coordinates&quot;: [117.4910387, -31.59924277], &quot;type&quot;: &quot;Point&quot;}, &quot;id&quot;: &quot;926&quot;, &quot;properties&quot;: {&quot;Crop&quot;: 5, &quot;DryYield&quot;: 0.742, &quot;Elevation&quot;: 274.36, &quot;Heading&quot;: 0.5, &quot;Latitude&quot;: -31.59924277, &quot;Longitude&quot;: 117.4910387, &quot;Time&quot;: &quot;11/12/2020 10:27&quot;, &quot;Variety&quot;: &quot;43Y23 RR&quot;, &quot;__folium_color&quot;: &quot;#38049a&quot;, &quot;sample_id&quot;: &quot;bf66_sample_3&quot;}, &quot;type&quot;: &quot;Feature&quot;}, {&quot;bbox&quot;: [117.4909123, -31.59368019, 117.4909123, -31.59368019], &quot;geometry&quot;: {&quot;coordinates&quot;: [117.4909123, -31.59368019], &quot;type&quot;: &quot;Point&quot;}, &quot;id&quot;: &quot;927&quot;, &quot;properties&quot;: {&quot;Crop&quot;: 5, &quot;DryYield&quot;: 0.587, &quot;Elevation&quot;: 272.85, &quot;Heading&quot;: 359.9, &quot;Latitude&quot;: -31.59368019, &quot;Longitude&quot;: 117.4909123, &quot;Time&quot;: &quot;11/12/2020 10:25&quot;, &quot;Variety&quot;: &quot;43Y23 RR&quot;, &quot;__folium_color&quot;: &quot;#310597&quot;, &quot;sample_id&quot;: &quot;bf66_sample_3&quot;}, &quot;type&quot;: &quot;Feature&quot;}, {&quot;bbox&quot;: [117.4909126, -31.59180355, 117.4909126, -31.59180355], &quot;geometry&quot;: {&quot;coordinates&quot;: [117.4909126, -31.59180355], &quot;type&quot;: &quot;Point&quot;}, &quot;id&quot;: &quot;928&quot;, &quot;properties&quot;: {&quot;Crop&quot;: 5, &quot;DryYield&quot;: 0.928, &quot;Elevation&quot;: 267.83, &quot;Heading&quot;: 0.4, &quot;Latitude&quot;: -31.59180355, &quot;Longitude&quot;: 117.4909126, &quot;Time&quot;: &quot;11/12/2020 10:27&quot;, &quot;Variety&quot;: &quot;43Y23 RR&quot;, &quot;__folium_color&quot;: &quot;#41049d&quot;, &quot;sample_id&quot;: &quot;bf66_sample_3&quot;}, &quot;type&quot;: &quot;Feature&quot;}, {&quot;bbox&quot;: [117.4912914, -31.59278424, 117.4912914, -31.59278424], &quot;geometry&quot;: {&quot;coordinates&quot;: [117.4912914, -31.59278424], &quot;type&quot;: &quot;Point&quot;}, &quot;id&quot;: &quot;929&quot;, &quot;properties&quot;: {&quot;Crop&quot;: 5, &quot;DryYield&quot;: 0.714, &quot;Elevation&quot;: 270.99, &quot;Heading&quot;: 180.2, &quot;Latitude&quot;: -31.59278424, &quot;Longitude&quot;: 117.4912914, &quot;Time&quot;: &quot;11/12/2020 10:28&quot;, &quot;Variety&quot;: &quot;43Y23 RR&quot;, &quot;__folium_color&quot;: &quot;#370499&quot;, &quot;sample_id&quot;: &quot;bf66_sample_3&quot;}, &quot;type&quot;: &quot;Feature&quot;}, {&quot;bbox&quot;: [117.4912914, -31.59477867, 117.4912914, -31.59477867], &quot;geometry&quot;: {&quot;coordinates&quot;: [117.4912914, -31.59477867], &quot;type&quot;: &quot;Point&quot;}, &quot;id&quot;: &quot;930&quot;, &quot;properties&quot;: {&quot;Crop&quot;: 5, &quot;DryYield&quot;: 0.641, &quot;Elevation&quot;: 276.05, &quot;Heading&quot;: 179.7, &quot;Latitude&quot;: -31.59477867, &quot;Longitude&quot;: 117.4912914, &quot;Time&quot;: &quot;11/12/2020 10:30&quot;, &quot;Variety&quot;: &quot;43Y23 RR&quot;, &quot;__folium_color&quot;: &quot;#330597&quot;, &quot;sample_id&quot;: &quot;bf66_sample_3&quot;}, &quot;type&quot;: &quot;Feature&quot;}, {&quot;bbox&quot;: [117.4912918, -31.59660469, 117.4912918, -31.59660469], &quot;geometry&quot;: {&quot;coordinates&quot;: [117.4912918, -31.59660469], &quot;type&quot;: &quot;Point&quot;}, &quot;id&quot;: &quot;931&quot;, &quot;properties&quot;: {&quot;Crop&quot;: 5, &quot;DryYield&quot;: 0.453, &quot;Elevation&quot;: 278.36, &quot;Heading&quot;: 179.6, &quot;Latitude&quot;: -31.59660469, &quot;Longitude&quot;: 117.4912918, &quot;Time&quot;: &quot;11/12/2020 10:31&quot;, &quot;Variety&quot;: &quot;43Y23 RR&quot;, &quot;__folium_color&quot;: &quot;#2a0593&quot;, &quot;sample_id&quot;: &quot;bf66_sample_3&quot;}, &quot;type&quot;: &quot;Feature&quot;}, {&quot;bbox&quot;: [117.4912922, -31.59872695, 117.4912922, -31.59872695], &quot;geometry&quot;: {&quot;coordinates&quot;: [117.4912922, -31.59872695], &quot;type&quot;: &quot;Point&quot;}, &quot;id&quot;: &quot;932&quot;, &quot;properties&quot;: {&quot;Crop&quot;: 5, &quot;DryYield&quot;: 0.398, &quot;Elevation&quot;: 275.58, &quot;Heading&quot;: 178.9, &quot;Latitude&quot;: -31.59872695, &quot;Longitude&quot;: 117.4912922, &quot;Time&quot;: &quot;11/12/2020 10:32&quot;, &quot;Variety&quot;: &quot;43Y23 RR&quot;, &quot;__folium_color&quot;: &quot;#280592&quot;, &quot;sample_id&quot;: &quot;bf66_sample_3&quot;}, &quot;type&quot;: &quot;Feature&quot;}, {&quot;bbox&quot;: [117.4912923, -31.60086281, 117.4912923, -31.60086281], &quot;geometry&quot;: {&quot;coordinates&quot;: [117.4912923, -31.60086281], &quot;type&quot;: &quot;Point&quot;}, &quot;id&quot;: &quot;933&quot;, &quot;properties&quot;: {&quot;Crop&quot;: 5, &quot;DryYield&quot;: 0.432, &quot;Elevation&quot;: 271.86, &quot;Heading&quot;: 178.8, &quot;Latitude&quot;: -31.60086281, &quot;Longitude&quot;: 117.4912923, &quot;Time&quot;: &quot;11/12/2020 10:34&quot;, &quot;Variety&quot;: &quot;43Y23 RR&quot;, &quot;__folium_color&quot;: &quot;#280592&quot;, &quot;sample_id&quot;: &quot;bf66_sample_3&quot;}, &quot;type&quot;: &quot;Feature&quot;}, {&quot;bbox&quot;: [117.4913121, -31.60293764, 117.4913121, -31.60293764], &quot;geometry&quot;: {&quot;coordinates&quot;: [117.4913121, -31.60293764], &quot;type&quot;: &quot;Point&quot;}, &quot;id&quot;: &quot;934&quot;, &quot;properties&quot;: {&quot;Crop&quot;: 5, &quot;DryYield&quot;: 0.208, &quot;Elevation&quot;: 269.82, &quot;Heading&quot;: 179.5, &quot;Latitude&quot;: -31.60293764, &quot;Longitude&quot;: 117.4913121, &quot;Time&quot;: &quot;11/12/2020 10:35&quot;, &quot;Variety&quot;: &quot;43Y23 RR&quot;, &quot;__folium_color&quot;: &quot;#1b068d&quot;, &quot;sample_id&quot;: &quot;bf66_sample_3&quot;}, &quot;type&quot;: &quot;Feature&quot;}, {&quot;bbox&quot;: [117.4914179, -31.60188415, 117.4914179, -31.60188415], &quot;geometry&quot;: {&quot;coordinates&quot;: [117.4914179, -31.60188415], &quot;type&quot;: &quot;Point&quot;}, &quot;id&quot;: &quot;935&quot;, &quot;properties&quot;: {&quot;Crop&quot;: 5, &quot;DryYield&quot;: 0.42, &quot;Elevation&quot;: 270.2, &quot;Heading&quot;: 0.0, &quot;Latitude&quot;: -31.60188415, &quot;Longitude&quot;: 117.4914179, &quot;Time&quot;: &quot;11/12/2020 10:36&quot;, &quot;Variety&quot;: &quot;43Y23 RR&quot;, &quot;__folium_color&quot;: &quot;#280592&quot;, &quot;sample_id&quot;: &quot;bf66_sample_3&quot;}, &quot;type&quot;: &quot;Feature&quot;}, {&quot;bbox&quot;: [117.491419, -31.59977313, 117.491419, -31.59977313], &quot;geometry&quot;: {&quot;coordinates&quot;: [117.491419, -31.59977313], &quot;type&quot;: &quot;Point&quot;}, &quot;id&quot;: &quot;936&quot;, &quot;properties&quot;: {&quot;Crop&quot;: 5, &quot;DryYield&quot;: 0.493, &quot;Elevation&quot;: 273.58, &quot;Heading&quot;: 1.1, &quot;Latitude&quot;: -31.59977313, &quot;Longitude&quot;: 117.491419, &quot;Time&quot;: &quot;11/12/2020 10:38&quot;, &quot;Variety&quot;: &quot;43Y23 RR&quot;, &quot;__folium_color&quot;: &quot;#2c0594&quot;, &quot;sample_id&quot;: &quot;bf66_sample_3&quot;}, &quot;type&quot;: &quot;Feature&quot;}, {&quot;bbox&quot;: [117.4914181, -31.59763971, 117.4914181, -31.59763971], &quot;geometry&quot;: {&quot;coordinates&quot;: [117.4914181, -31.59763971], &quot;type&quot;: &quot;Point&quot;}, &quot;id&quot;: &quot;937&quot;, &quot;properties&quot;: {&quot;Crop&quot;: 5, &quot;DryYield&quot;: 0.342, &quot;Elevation&quot;: 277.61, &quot;Heading&quot;: 359.7, &quot;Latitude&quot;: -31.59763971, &quot;Longitude&quot;: 117.4914181, &quot;Time&quot;: &quot;11/12/2020 10:39&quot;, &quot;Variety&quot;: &quot;43Y23 RR&quot;, &quot;__folium_color&quot;: &quot;#240691&quot;, &quot;sample_id&quot;: &quot;bf66_sample_3&quot;}, &quot;type&quot;: &quot;Feature&quot;}, {&quot;bbox&quot;: [117.4914179, -31.59548371, 117.4914179, -31.59548371], &quot;geometry&quot;: {&quot;coordinates&quot;: [117.4914179, -31.59548371], &quot;type&quot;: &quot;Point&quot;}, &quot;id&quot;: &quot;938&quot;, &quot;properties&quot;: {&quot;Crop&quot;: 5, &quot;DryYield&quot;: 0.763, &quot;Elevation&quot;: 277.42, &quot;Heading&quot;: 359.7, &quot;Latitude&quot;: -31.59548371, &quot;Longitude&quot;: 117.4914179, &quot;Time&quot;: &quot;11/12/2020 10:40&quot;, &quot;Variety&quot;: &quot;43Y23 RR&quot;, &quot;__folium_color&quot;: &quot;#3a049a&quot;, &quot;sample_id&quot;: &quot;bf66_sample_3&quot;}, &quot;type&quot;: &quot;Feature&quot;}, {&quot;bbox&quot;: [117.4914181, -31.59366594, 117.4914181, -31.59366594], &quot;geometry&quot;: {&quot;coordinates&quot;: [117.4914181, -31.59366594], &quot;type&quot;: &quot;Point&quot;}, &quot;id&quot;: &quot;939&quot;, &quot;properties&quot;: {&quot;Crop&quot;: 5, &quot;DryYield&quot;: 0.407, &quot;Elevation&quot;: 273.75, &quot;Heading&quot;: 0.0, &quot;Latitude&quot;: -31.59366594, &quot;Longitude&quot;: 117.4914181, &quot;Time&quot;: &quot;11/12/2020 10:42&quot;, &quot;Variety&quot;: &quot;43Y23 RR&quot;, &quot;__folium_color&quot;: &quot;#280592&quot;, &quot;sample_id&quot;: &quot;bf66_sample_3&quot;}, &quot;type&quot;: &quot;Feature&quot;}, {&quot;bbox&quot;: [117.4914179, -31.59177322, 117.4914179, -31.59177322], &quot;geometry&quot;: {&quot;coordinates&quot;: [117.4914179, -31.59177322], &quot;type&quot;: &quot;Point&quot;}, &quot;id&quot;: &quot;940&quot;, &quot;properties&quot;: {&quot;Crop&quot;: 5, &quot;DryYield&quot;: 0.681, &quot;Elevation&quot;: 268.0, &quot;Heading&quot;: 0.2, &quot;Latitude&quot;: -31.59177322, &quot;Longitude&quot;: 117.4914179, &quot;Time&quot;: &quot;11/12/2020 10:43&quot;, &quot;Variety&quot;: &quot;43Y23 RR&quot;, &quot;__folium_color&quot;: &quot;#350498&quot;, &quot;sample_id&quot;: &quot;bf66_sample_3&quot;}, &quot;type&quot;: &quot;Feature&quot;}, {&quot;bbox&quot;: [117.4917978, -31.59313722, 117.4917978, -31.59313722], &quot;geometry&quot;: {&quot;coordinates&quot;: [117.4917978, -31.59313722], &quot;type&quot;: &quot;Point&quot;}, &quot;id&quot;: &quot;941&quot;, &quot;properties&quot;: {&quot;Crop&quot;: 5, &quot;DryYield&quot;: 0.708, &quot;Elevation&quot;: 271.96, &quot;Heading&quot;: 179.4, &quot;Latitude&quot;: -31.59313722, &quot;Longitude&quot;: 117.4917978, &quot;Time&quot;: &quot;11/12/2020 10:45&quot;, &quot;Variety&quot;: &quot;43Y23 RR&quot;, &quot;__folium_color&quot;: &quot;#370499&quot;, &quot;sample_id&quot;: &quot;bf66_sample_3&quot;}, &quot;type&quot;: &quot;Feature&quot;}, {&quot;bbox&quot;: [117.4917974, -31.59509917, 117.4917974, -31.59509917], &quot;geometry&quot;: {&quot;coordinates&quot;: [117.4917974, -31.59509917], &quot;type&quot;: &quot;Point&quot;}, &quot;id&quot;: &quot;942&quot;, &quot;properties&quot;: {&quot;Crop&quot;: 5, &quot;DryYield&quot;: 0.697, &quot;Elevation&quot;: 276.29, &quot;Heading&quot;: 180.4, &quot;Latitude&quot;: -31.59509917, &quot;Longitude&quot;: 117.4917974, &quot;Time&quot;: &quot;11/12/2020 10:46&quot;, &quot;Variety&quot;: &quot;43Y23 RR&quot;, &quot;__folium_color&quot;: &quot;#370499&quot;, &quot;sample_id&quot;: &quot;bf66_sample_3&quot;}, &quot;type&quot;: &quot;Feature&quot;}, {&quot;bbox&quot;: [117.4917969, -31.59704713, 117.4917969, -31.59704713], &quot;geometry&quot;: {&quot;coordinates&quot;: [117.4917969, -31.59704713], &quot;type&quot;: &quot;Point&quot;}, &quot;id&quot;: &quot;943&quot;, &quot;properties&quot;: {&quot;Crop&quot;: 5, &quot;DryYield&quot;: 0.378, &quot;Elevation&quot;: 278.89, &quot;Heading&quot;: 180.1, &quot;Latitude&quot;: -31.59704713, &quot;Longitude&quot;: 117.4917969, &quot;Time&quot;: &quot;11/12/2020 10:47&quot;, &quot;Variety&quot;: &quot;43Y23 RR&quot;, &quot;__folium_color&quot;: &quot;#260591&quot;, &quot;sample_id&quot;: &quot;bf66_sample_3&quot;}, &quot;type&quot;: &quot;Feature&quot;}, {&quot;bbox&quot;: [117.4917974, -31.59916111, 117.4917974, -31.59916111], &quot;geometry&quot;: {&quot;coordinates&quot;: [117.4917974, -31.59916111], &quot;type&quot;: &quot;Point&quot;}, &quot;id&quot;: &quot;944&quot;, &quot;properties&quot;: {&quot;Crop&quot;: 5, &quot;DryYield&quot;: 0.552, &quot;Elevation&quot;: 275.18, &quot;Heading&quot;: 179.3, &quot;Latitude&quot;: -31.59916111, &quot;Longitude&quot;: 117.4917974, &quot;Time&quot;: &quot;11/12/2020 10:48&quot;, &quot;Variety&quot;: &quot;43Y23 RR&quot;, &quot;__folium_color&quot;: &quot;#2f0596&quot;, &quot;sample_id&quot;: &quot;bf66_sample_3&quot;}, &quot;type&quot;: &quot;Feature&quot;}, {&quot;bbox&quot;: [117.491797, -31.60128777, 117.491797, -31.60128777], &quot;geometry&quot;: {&quot;coordinates&quot;: [117.491797, -31.60128777], &quot;type&quot;: &quot;Point&quot;}, &quot;id&quot;: &quot;945&quot;, &quot;properties&quot;: {&quot;Crop&quot;: 5, &quot;DryYield&quot;: 0.343, &quot;Elevation&quot;: 270.51, &quot;Heading&quot;: 180.1, &quot;Latitude&quot;: -31.60128777, &quot;Longitude&quot;: 117.491797, &quot;Time&quot;: &quot;11/12/2020 10:50&quot;, &quot;Variety&quot;: &quot;43Y23 RR&quot;, &quot;__folium_color&quot;: &quot;#240691&quot;, &quot;sample_id&quot;: &quot;bf66_sample_3&quot;}, &quot;type&quot;: &quot;Feature&quot;}, {&quot;bbox&quot;: [117.4919256, -31.60309007, 117.4919256, -31.60309007], &quot;geometry&quot;: {&quot;coordinates&quot;: [117.4919256, -31.60309007], &quot;type&quot;: &quot;Point&quot;}, &quot;id&quot;: &quot;946&quot;, &quot;properties&quot;: {&quot;Crop&quot;: 5, &quot;DryYield&quot;: 0.22, &quot;Elevation&quot;: 268.73, &quot;Heading&quot;: 359.8, &quot;Latitude&quot;: -31.60309007, &quot;Longitude&quot;: 117.4919256, &quot;Time&quot;: &quot;11/12/2020 10:51&quot;, &quot;Variety&quot;: &quot;43Y23 RR&quot;, &quot;__folium_color&quot;: &quot;#1d068e&quot;, &quot;sample_id&quot;: &quot;bf66_sample_3&quot;}, &quot;type&quot;: &quot;Feature&quot;}, {&quot;bbox&quot;: [117.491924, -31.60086909, 117.491924, -31.60086909], &quot;geometry&quot;: {&quot;coordinates&quot;: [117.491924, -31.60086909], &quot;type&quot;: &quot;Point&quot;}, &quot;id&quot;: &quot;947&quot;, &quot;properties&quot;: {&quot;Crop&quot;: 5, &quot;DryYield&quot;: 0.21, &quot;Elevation&quot;: 271.17, &quot;Heading&quot;: 0.2, &quot;Latitude&quot;: -31.60086909, &quot;Longitude&quot;: 117.491924, &quot;Time&quot;: &quot;11/12/2020 10:53&quot;, &quot;Variety&quot;: &quot;43Y23 RR&quot;, &quot;__folium_color&quot;: &quot;#1b068d&quot;, &quot;sample_id&quot;: &quot;bf66_sample_3&quot;}, &quot;type&quot;: &quot;Feature&quot;}, {&quot;bbox&quot;: [117.4919237, -31.59870474, 117.4919237, -31.59870474], &quot;geometry&quot;: {&quot;coordinates&quot;: [117.4919237, -31.59870474], &quot;type&quot;: &quot;Point&quot;}, &quot;id&quot;: &quot;948&quot;, &quot;properties&quot;: {&quot;Crop&quot;: 5, &quot;DryYield&quot;: 0.589, &quot;Elevation&quot;: 276.08, &quot;Heading&quot;: 359.6, &quot;Latitude&quot;: -31.59870474, &quot;Longitude&quot;: 117.4919237, &quot;Time&quot;: &quot;11/12/2020 10:54&quot;, &quot;Variety&quot;: &quot;43Y23 RR&quot;, &quot;__folium_color&quot;: &quot;#310597&quot;, &quot;sample_id&quot;: &quot;bf66_sample_3&quot;}, &quot;type&quot;: &quot;Feature&quot;}, {&quot;bbox&quot;: [117.4919238, -31.59658462, 117.4919238, -31.59658462], &quot;geometry&quot;: {&quot;coordinates&quot;: [117.4919238, -31.59658462], &quot;type&quot;: &quot;Point&quot;}, &quot;id&quot;: &quot;949&quot;, &quot;properties&quot;: {&quot;Crop&quot;: 5, &quot;DryYield&quot;: 0.317, &quot;Elevation&quot;: 279.08, &quot;Heading&quot;: 359.7, &quot;Latitude&quot;: -31.59658462, &quot;Longitude&quot;: 117.4919238, &quot;Time&quot;: &quot;11/12/2020 10:55&quot;, &quot;Variety&quot;: &quot;43Y23 RR&quot;, &quot;__folium_color&quot;: &quot;#220690&quot;, &quot;sample_id&quot;: &quot;bf66_sample_3&quot;}, &quot;type&quot;: &quot;Feature&quot;}, {&quot;bbox&quot;: [117.4919238, -31.59462975, 117.4919238, -31.59462975], &quot;geometry&quot;: {&quot;coordinates&quot;: [117.4919238, -31.59462975], &quot;type&quot;: &quot;Point&quot;}, &quot;id&quot;: &quot;950&quot;, &quot;properties&quot;: {&quot;Crop&quot;: 5, &quot;DryYield&quot;: 0.762, &quot;Elevation&quot;: 275.25, &quot;Heading&quot;: 0.2, &quot;Latitude&quot;: -31.59462975, &quot;Longitude&quot;: 117.4919238, &quot;Time&quot;: &quot;11/12/2020 10:56&quot;, &quot;Variety&quot;: &quot;43Y23 RR&quot;, &quot;__folium_color&quot;: &quot;#3a049a&quot;, &quot;sample_id&quot;: &quot;bf66_sample_3&quot;}, &quot;type&quot;: &quot;Feature&quot;}, {&quot;bbox&quot;: [117.4919237, -31.5927896, 117.4919237, -31.5927896], &quot;geometry&quot;: {&quot;coordinates&quot;: [117.4919237, -31.5927896], &quot;type&quot;: &quot;Point&quot;}, &quot;id&quot;: &quot;951&quot;, &quot;properties&quot;: {&quot;Crop&quot;: 5, &quot;DryYield&quot;: 0.648, &quot;Elevation&quot;: 270.92, &quot;Heading&quot;: 359.8, &quot;Latitude&quot;: -31.5927896, &quot;Longitude&quot;: 117.4919237, &quot;Time&quot;: &quot;11/12/2020 10:58&quot;, &quot;Variety&quot;: &quot;43Y23 RR&quot;, &quot;__folium_color&quot;: &quot;#330597&quot;, &quot;sample_id&quot;: &quot;bf66_sample_3&quot;}, &quot;type&quot;: &quot;Feature&quot;}, {&quot;bbox&quot;: [117.4923032, -31.59198281, 117.4923032, -31.59198281], &quot;geometry&quot;: {&quot;coordinates&quot;: [117.4923032, -31.59198281], &quot;type&quot;: &quot;Point&quot;}, &quot;id&quot;: &quot;952&quot;, &quot;properties&quot;: {&quot;Crop&quot;: 5, &quot;DryYield&quot;: 0.751, &quot;Elevation&quot;: 268.02, &quot;Heading&quot;: 179.8, &quot;Latitude&quot;: -31.59198281, &quot;Longitude&quot;: 117.4923032, &quot;Time&quot;: &quot;11/12/2020 10:59&quot;, &quot;Variety&quot;: &quot;43Y23 RR&quot;, &quot;__folium_color&quot;: &quot;#38049a&quot;, &quot;sample_id&quot;: &quot;bf66_sample_3&quot;}, &quot;type&quot;: &quot;Feature&quot;}, {&quot;bbox&quot;: [117.4923032, -31.59396929, 117.4923032, -31.59396929], &quot;geometry&quot;: {&quot;coordinates&quot;: [117.4923032, -31.59396929], &quot;type&quot;: &quot;Point&quot;}, &quot;id&quot;: &quot;953&quot;, &quot;properties&quot;: {&quot;Crop&quot;: 5, &quot;DryYield&quot;: 0.603, &quot;Elevation&quot;: 273.34, &quot;Heading&quot;: 180.0, &quot;Latitude&quot;: -31.59396929, &quot;Longitude&quot;: 117.4923032, &quot;Time&quot;: &quot;11/12/2020 11:01&quot;, &quot;Variety&quot;: &quot;43Y23 RR&quot;, &quot;__folium_color&quot;: &quot;#310597&quot;, &quot;sample_id&quot;: &quot;bf66_sample_3&quot;}, &quot;type&quot;: &quot;Feature&quot;}, {&quot;bbox&quot;: [117.4923028, -31.59593428, 117.4923028, -31.59593428], &quot;geometry&quot;: {&quot;coordinates&quot;: [117.4923028, -31.59593428], &quot;type&quot;: &quot;Point&quot;}, &quot;id&quot;: &quot;954&quot;, &quot;properties&quot;: {&quot;Crop&quot;: 5, &quot;DryYield&quot;: 0.52, &quot;Elevation&quot;: 278.78, &quot;Heading&quot;: 180.3, &quot;Latitude&quot;: -31.59593428, &quot;Longitude&quot;: 117.4923028, &quot;Time&quot;: &quot;11/12/2020 11:02&quot;, &quot;Variety&quot;: &quot;43Y23 RR&quot;, &quot;__folium_color&quot;: &quot;#2e0595&quot;, &quot;sample_id&quot;: &quot;bf66_sample_3&quot;}, &quot;type&quot;: &quot;Feature&quot;}, {&quot;bbox&quot;: [117.4923032, -31.59797644, 117.4923032, -31.59797644], &quot;geometry&quot;: {&quot;coordinates&quot;: [117.4923032, -31.59797644], &quot;type&quot;: &quot;Point&quot;}, &quot;id&quot;: &quot;955&quot;, &quot;properties&quot;: {&quot;Crop&quot;: 5, &quot;DryYield&quot;: 0.512, &quot;Elevation&quot;: 277.9, &quot;Heading&quot;: 180.0, &quot;Latitude&quot;: -31.59797644, &quot;Longitude&quot;: 117.4923032, &quot;Time&quot;: &quot;11/12/2020 11:03&quot;, &quot;Variety&quot;: &quot;43Y23 RR&quot;, &quot;__folium_color&quot;: &quot;#2e0595&quot;, &quot;sample_id&quot;: &quot;bf66_sample_3&quot;}, &quot;type&quot;: &quot;Feature&quot;}, {&quot;bbox&quot;: [117.4923032, -31.60008274, 117.4923032, -31.60008274], &quot;geometry&quot;: {&quot;coordinates&quot;: [117.4923032, -31.60008274], &quot;type&quot;: &quot;Point&quot;}, &quot;id&quot;: &quot;956&quot;, &quot;properties&quot;: {&quot;Crop&quot;: 5, &quot;DryYield&quot;: 0.485, &quot;Elevation&quot;: 272.67, &quot;Heading&quot;: 179.6, &quot;Latitude&quot;: -31.60008274, &quot;Longitude&quot;: 117.4923032, &quot;Time&quot;: &quot;11/12/2020 11:05&quot;, &quot;Variety&quot;: &quot;43Y23 RR&quot;, &quot;__folium_color&quot;: &quot;#2c0594&quot;, &quot;sample_id&quot;: &quot;bf66_sample_3&quot;}, &quot;type&quot;: &quot;Feature&quot;}, {&quot;bbox&quot;: [117.4923032, -31.60229317, 117.4923032, -31.60229317], &quot;geometry&quot;: {&quot;coordinates&quot;: [117.4923032, -31.60229317], &quot;type&quot;: &quot;Point&quot;}, &quot;id&quot;: &quot;957&quot;, &quot;properties&quot;: {&quot;Crop&quot;: 5, &quot;DryYield&quot;: 0.275, &quot;Elevation&quot;: 268.03, &quot;Heading&quot;: 180.0, &quot;Latitude&quot;: -31.60229317, &quot;Longitude&quot;: 117.4923032, &quot;Time&quot;: &quot;11/12/2020 11:06&quot;, &quot;Variety&quot;: &quot;43Y23 RR&quot;, &quot;__folium_color&quot;: &quot;#20068f&quot;, &quot;sample_id&quot;: &quot;bf66_sample_3&quot;}, &quot;type&quot;: &quot;Feature&quot;}, {&quot;bbox&quot;: [117.4924298, -31.60233683, 117.4924298, -31.60233683], &quot;geometry&quot;: {&quot;coordinates&quot;: [117.4924298, -31.60233683], &quot;type&quot;: &quot;Point&quot;}, &quot;id&quot;: &quot;958&quot;, &quot;properties&quot;: {&quot;Crop&quot;: 5, &quot;DryYield&quot;: 0.386, &quot;Elevation&quot;: 267.53, &quot;Heading&quot;: 0.5, &quot;Latitude&quot;: -31.60233683, &quot;Longitude&quot;: 117.4924298, &quot;Time&quot;: &quot;11/12/2020 11:07&quot;, &quot;Variety&quot;: &quot;43Y23 RR&quot;, &quot;__folium_color&quot;: &quot;#260591&quot;, &quot;sample_id&quot;: &quot;bf66_sample_3&quot;}, &quot;type&quot;: &quot;Feature&quot;}, {&quot;bbox&quot;: [117.4924294, -31.60015811, 117.4924294, -31.60015811], &quot;geometry&quot;: {&quot;coordinates&quot;: [117.4924294, -31.60015811], &quot;type&quot;: &quot;Point&quot;}, &quot;id&quot;: &quot;959&quot;, &quot;properties&quot;: {&quot;Crop&quot;: 5, &quot;DryYield&quot;: 0.369, &quot;Elevation&quot;: 272.23, &quot;Heading&quot;: 359.9, &quot;Latitude&quot;: -31.60015811, &quot;Longitude&quot;: 117.4924294, &quot;Time&quot;: &quot;11/12/2020 11:09&quot;, &quot;Variety&quot;: &quot;43Y23 RR&quot;, &quot;__folium_color&quot;: &quot;#260591&quot;, &quot;sample_id&quot;: &quot;bf66_sample_3&quot;}, &quot;type&quot;: &quot;Feature&quot;}, {&quot;bbox&quot;: [117.4924298, -31.59813347, 117.4924298, -31.59813347], &quot;geometry&quot;: {&quot;coordinates&quot;: [117.4924298, -31.59813347], &quot;type&quot;: &quot;Point&quot;}, &quot;id&quot;: &quot;960&quot;, &quot;properties&quot;: {&quot;Crop&quot;: 5, &quot;DryYield&quot;: 0.484, &quot;Elevation&quot;: 277.54, &quot;Heading&quot;: 0.5, &quot;Latitude&quot;: -31.59813347, &quot;Longitude&quot;: 117.4924298, &quot;Time&quot;: &quot;11/12/2020 11:10&quot;, &quot;Variety&quot;: &quot;43Y23 RR&quot;, &quot;__folium_color&quot;: &quot;#2c0594&quot;, &quot;sample_id&quot;: &quot;bf66_sample_3&quot;}, &quot;type&quot;: &quot;Feature&quot;}, {&quot;bbox&quot;: [117.4924294, -31.59607752, 117.4924294, -31.59607752], &quot;geometry&quot;: {&quot;coordinates&quot;: [117.4924294, -31.59607752], &quot;type&quot;: &quot;Point&quot;}, &quot;id&quot;: &quot;961&quot;, &quot;properties&quot;: {&quot;Crop&quot;: 5, &quot;DryYield&quot;: 0.738, &quot;Elevation&quot;: 279.04, &quot;Heading&quot;: 360.0, &quot;Latitude&quot;: -31.59607752, &quot;Longitude&quot;: 117.4924294, &quot;Time&quot;: &quot;11/12/2020 11:11&quot;, &quot;Variety&quot;: &quot;43Y23 RR&quot;, &quot;__folium_color&quot;: &quot;#38049a&quot;, &quot;sample_id&quot;: &quot;bf66_sample_3&quot;}, &quot;type&quot;: &quot;Feature&quot;}, {&quot;bbox&quot;: [117.4924296, -31.59429224, 117.4924296, -31.59429224], &quot;geometry&quot;: {&quot;coordinates&quot;: [117.4924296, -31.59429224], &quot;type&quot;: &quot;Point&quot;}, &quot;id&quot;: &quot;962&quot;, &quot;properties&quot;: {&quot;Crop&quot;: 5, &quot;DryYield&quot;: 0.609, &quot;Elevation&quot;: 274.07, &quot;Heading&quot;: 0.4, &quot;Latitude&quot;: -31.59429224, &quot;Longitude&quot;: 117.4924296, &quot;Time&quot;: &quot;11/12/2020 11:13&quot;, &quot;Variety&quot;: &quot;43Y23 RR&quot;, &quot;__folium_color&quot;: &quot;#310597&quot;, &quot;sample_id&quot;: &quot;bf66_sample_3&quot;}, &quot;type&quot;: &quot;Feature&quot;}, {&quot;bbox&quot;: [117.4924294, -31.59240704, 117.4924294, -31.59240704], &quot;geometry&quot;: {&quot;coordinates&quot;: [117.4924294, -31.59240704], &quot;type&quot;: &quot;Point&quot;}, &quot;id&quot;: &quot;963&quot;, &quot;properties&quot;: {&quot;Crop&quot;: 5, &quot;DryYield&quot;: 0.76, &quot;Elevation&quot;: 269.45, &quot;Heading&quot;: 0.1, &quot;Latitude&quot;: -31.59240704, &quot;Longitude&quot;: 117.4924294, &quot;Time&quot;: &quot;11/12/2020 11:14&quot;, &quot;Variety&quot;: &quot;43Y23 RR&quot;, &quot;__folium_color&quot;: &quot;#3a049a&quot;, &quot;sample_id&quot;: &quot;bf66_sample_3&quot;}, &quot;type&quot;: &quot;Feature&quot;}, {&quot;bbox&quot;: [117.4928088, -31.59234499, 117.4928088, -31.59234499], &quot;geometry&quot;: {&quot;coordinates&quot;: [117.4928088, -31.59234499], &quot;type&quot;: &quot;Point&quot;}, &quot;id&quot;: &quot;964&quot;, &quot;properties&quot;: {&quot;Crop&quot;: 5, &quot;DryYield&quot;: 0.534, &quot;Elevation&quot;: 269.01, &quot;Heading&quot;: 180.1, &quot;Latitude&quot;: -31.59234499, &quot;Longitude&quot;: 117.4928088, &quot;Time&quot;: &quot;11/12/2020 11:15&quot;, &quot;Variety&quot;: &quot;43Y23 RR&quot;, &quot;__folium_color&quot;: &quot;#2e0595&quot;, &quot;sample_id&quot;: &quot;bf66_sample_3&quot;}, &quot;type&quot;: &quot;Feature&quot;}, {&quot;bbox&quot;: [117.492809, -31.59432595, 117.492809, -31.59432595], &quot;geometry&quot;: {&quot;coordinates&quot;: [117.492809, -31.59432595], &quot;type&quot;: &quot;Point&quot;}, &quot;id&quot;: &quot;965&quot;, &quot;properties&quot;: {&quot;Crop&quot;: 5, &quot;DryYield&quot;: 0.641, &quot;Elevation&quot;: 274.09, &quot;Heading&quot;: 180.1, &quot;Latitude&quot;: -31.59432595, &quot;Longitude&quot;: 117.492809, &quot;Time&quot;: &quot;11/12/2020 11:17&quot;, &quot;Variety&quot;: &quot;43Y23 RR&quot;, &quot;__folium_color&quot;: &quot;#330597&quot;, &quot;sample_id&quot;: &quot;bf66_sample_3&quot;}, &quot;type&quot;: &quot;Feature&quot;}, {&quot;bbox&quot;: [117.492809, -31.59616178, 117.492809, -31.59616178], &quot;geometry&quot;: {&quot;coordinates&quot;: [117.492809, -31.59616178], &quot;type&quot;: &quot;Point&quot;}, &quot;id&quot;: &quot;966&quot;, &quot;properties&quot;: {&quot;Crop&quot;: 5, &quot;DryYield&quot;: 0.415, &quot;Elevation&quot;: 279.06, &quot;Heading&quot;: 180.0, &quot;Latitude&quot;: -31.59616178, &quot;Longitude&quot;: 117.492809, &quot;Time&quot;: &quot;11/12/2020 11:18&quot;, &quot;Variety&quot;: &quot;43Y23 RR&quot;, &quot;__folium_color&quot;: &quot;#280592&quot;, &quot;sample_id&quot;: &quot;bf66_sample_3&quot;}, &quot;type&quot;: &quot;Feature&quot;}, {&quot;bbox&quot;: [117.4928086, -31.59819949, 117.4928086, -31.59819949], &quot;geometry&quot;: {&quot;coordinates&quot;: [117.4928086, -31.59819949], &quot;type&quot;: &quot;Point&quot;}, &quot;id&quot;: &quot;967&quot;, &quot;properties&quot;: {&quot;Crop&quot;: 5, &quot;DryYield&quot;: 0.398, &quot;Elevation&quot;: 277.42, &quot;Heading&quot;: 180.3, &quot;Latitude&quot;: -31.59819949, &quot;Longitude&quot;: 117.4928086, &quot;Time&quot;: &quot;11/12/2020 11:19&quot;, &quot;Variety&quot;: &quot;43Y23 RR&quot;, &quot;__folium_color&quot;: &quot;#280592&quot;, &quot;sample_id&quot;: &quot;bf66_sample_3&quot;}, &quot;type&quot;: &quot;Feature&quot;}, {&quot;bbox&quot;: [117.4928088, -31.60018416, 117.4928088, -31.60018416], &quot;geometry&quot;: {&quot;coordinates&quot;: [117.4928088, -31.60018416], &quot;type&quot;: &quot;Point&quot;}, &quot;id&quot;: &quot;968&quot;, &quot;properties&quot;: {&quot;Crop&quot;: 5, &quot;DryYield&quot;: 0.392, &quot;Elevation&quot;: 271.22, &quot;Heading&quot;: 180.1, &quot;Latitude&quot;: -31.60018416, &quot;Longitude&quot;: 117.4928088, &quot;Time&quot;: &quot;11/12/2020 11:21&quot;, &quot;Variety&quot;: &quot;43Y23 RR&quot;, &quot;__folium_color&quot;: &quot;#260591&quot;, &quot;sample_id&quot;: &quot;bf66_sample_3&quot;}, &quot;type&quot;: &quot;Feature&quot;}, {&quot;bbox&quot;: [117.4928091, -31.60229256, 117.4928091, -31.60229256], &quot;geometry&quot;: {&quot;coordinates&quot;: [117.4928091, -31.60229256], &quot;type&quot;: &quot;Point&quot;}, &quot;id&quot;: &quot;969&quot;, &quot;properties&quot;: {&quot;Crop&quot;: 5, &quot;DryYield&quot;: 0.415, &quot;Elevation&quot;: 266.37, &quot;Heading&quot;: 179.6, &quot;Latitude&quot;: -31.60229256, &quot;Longitude&quot;: 117.4928091, &quot;Time&quot;: &quot;11/12/2020 11:22&quot;, &quot;Variety&quot;: &quot;43Y23 RR&quot;, &quot;__folium_color&quot;: &quot;#280592&quot;, &quot;sample_id&quot;: &quot;bf66_sample_3&quot;}, &quot;type&quot;: &quot;Feature&quot;}, {&quot;bbox&quot;: [117.492935, -31.60268595, 117.492935, -31.60268595], &quot;geometry&quot;: {&quot;coordinates&quot;: [117.492935, -31.60268595], &quot;type&quot;: &quot;Point&quot;}, &quot;id&quot;: &quot;970&quot;, &quot;properties&quot;: {&quot;Crop&quot;: 5, &quot;DryYield&quot;: 0.48, &quot;Elevation&quot;: 266.23, &quot;Heading&quot;: 359.9, &quot;Latitude&quot;: -31.60268595, &quot;Longitude&quot;: 117.492935, &quot;Time&quot;: &quot;11/12/2020 11:24&quot;, &quot;Variety&quot;: &quot;43Y23 RR&quot;, &quot;__folium_color&quot;: &quot;#2c0594&quot;, &quot;sample_id&quot;: &quot;bf66_sample_3&quot;}, &quot;type&quot;: &quot;Feature&quot;}, {&quot;bbox&quot;: [117.4929356, -31.60074362, 117.4929356, -31.60074362], &quot;geometry&quot;: {&quot;coordinates&quot;: [117.4929356, -31.60074362], &quot;type&quot;: &quot;Point&quot;}, &quot;id&quot;: &quot;971&quot;, &quot;properties&quot;: {&quot;Crop&quot;: 5, &quot;DryYield&quot;: 0.197, &quot;Elevation&quot;: 269.17, &quot;Heading&quot;: 0.1, &quot;Latitude&quot;: -31.60074362, &quot;Longitude&quot;: 117.4929356, &quot;Time&quot;: &quot;11/12/2020 11:26&quot;, &quot;Variety&quot;: &quot;43Y23 RR&quot;, &quot;__folium_color&quot;: &quot;#1b068d&quot;, &quot;sample_id&quot;: &quot;bf66_sample_3&quot;}, &quot;type&quot;: &quot;Feature&quot;}, {&quot;bbox&quot;: [117.4929352, -31.5987409, 117.4929352, -31.5987409], &quot;geometry&quot;: {&quot;coordinates&quot;: [117.4929352, -31.5987409], &quot;type&quot;: &quot;Point&quot;}, &quot;id&quot;: &quot;972&quot;, &quot;properties&quot;: {&quot;Crop&quot;: 5, &quot;DryYield&quot;: 0.763, &quot;Elevation&quot;: 275.52, &quot;Heading&quot;: 0.0, &quot;Latitude&quot;: -31.5987409, &quot;Longitude&quot;: 117.4929352, &quot;Time&quot;: &quot;11/12/2020 11:27&quot;, &quot;Variety&quot;: &quot;43Y23 RR&quot;, &quot;__folium_color&quot;: &quot;#3a049a&quot;, &quot;sample_id&quot;: &quot;bf66_sample_3&quot;}, &quot;type&quot;: &quot;Feature&quot;}, {&quot;bbox&quot;: [117.4929352, -31.59689178, 117.4929352, -31.59689178], &quot;geometry&quot;: {&quot;coordinates&quot;: [117.4929352, -31.59689178], &quot;type&quot;: &quot;Point&quot;}, &quot;id&quot;: &quot;973&quot;, &quot;properties&quot;: {&quot;Crop&quot;: 5, &quot;DryYield&quot;: 0.55, &quot;Elevation&quot;: 279.82, &quot;Heading&quot;: 359.8, &quot;Latitude&quot;: -31.59689178, &quot;Longitude&quot;: 117.4929352, &quot;Time&quot;: &quot;11/12/2020 11:28&quot;, &quot;Variety&quot;: &quot;43Y23 RR&quot;, &quot;__folium_color&quot;: &quot;#2f0596&quot;, &quot;sample_id&quot;: &quot;bf66_sample_3&quot;}, &quot;type&quot;: &quot;Feature&quot;}, {&quot;bbox&quot;: [117.4929354, -31.59501966, 117.4929354, -31.59501966], &quot;geometry&quot;: {&quot;coordinates&quot;: [117.4929354, -31.59501966], &quot;type&quot;: &quot;Point&quot;}, &quot;id&quot;: &quot;974&quot;, &quot;properties&quot;: {&quot;Crop&quot;: 5, &quot;DryYield&quot;: 0.86, &quot;Elevation&quot;: 276.67, &quot;Heading&quot;: 360.0, &quot;Latitude&quot;: -31.59501966, &quot;Longitude&quot;: 117.4929354, &quot;Time&quot;: &quot;11/12/2020 11:29&quot;, &quot;Variety&quot;: &quot;43Y23 RR&quot;, &quot;__folium_color&quot;: &quot;#3e049c&quot;, &quot;sample_id&quot;: &quot;bf66_sample_3&quot;}, &quot;type&quot;: &quot;Feature&quot;}, {&quot;bbox&quot;: [117.4930617, -31.59575166, 117.4930617, -31.59575166], &quot;geometry&quot;: {&quot;coordinates&quot;: [117.4930617, -31.59575166], &quot;type&quot;: &quot;Point&quot;}, &quot;id&quot;: &quot;975&quot;, &quot;properties&quot;: {&quot;Crop&quot;: 5, &quot;DryYield&quot;: 0.789, &quot;Elevation&quot;: 278.54, &quot;Heading&quot;: 179.8, &quot;Latitude&quot;: -31.59575166, &quot;Longitude&quot;: 117.4930617, &quot;Time&quot;: &quot;11/12/2020 11:31&quot;, &quot;Variety&quot;: &quot;43Y23 RR&quot;, &quot;__folium_color&quot;: &quot;#3a049a&quot;, &quot;sample_id&quot;: &quot;bf66_sample_3&quot;}, &quot;type&quot;: &quot;Feature&quot;}, {&quot;bbox&quot;: [117.4930617, -31.59761351, 117.4930617, -31.59761351], &quot;geometry&quot;: {&quot;coordinates&quot;: [117.4930617, -31.59761351], &quot;type&quot;: &quot;Point&quot;}, &quot;id&quot;: &quot;976&quot;, &quot;properties&quot;: {&quot;Crop&quot;: 5, &quot;DryYield&quot;: 0.667, &quot;Elevation&quot;: 278.9, &quot;Heading&quot;: 180.2, &quot;Latitude&quot;: -31.59761351, &quot;Longitude&quot;: 117.4930617, &quot;Time&quot;: &quot;11/12/2020 11:32&quot;, &quot;Variety&quot;: &quot;43Y23 RR&quot;, &quot;__folium_color&quot;: &quot;#350498&quot;, &quot;sample_id&quot;: &quot;bf66_sample_3&quot;}, &quot;type&quot;: &quot;Feature&quot;}, {&quot;bbox&quot;: [117.4910389, -31.59760968, 117.4910389, -31.59760968], &quot;geometry&quot;: {&quot;coordinates&quot;: [117.4910389, -31.59760968], &quot;type&quot;: &quot;Point&quot;}, &quot;id&quot;: &quot;977&quot;, &quot;properties&quot;: {&quot;Crop&quot;: 5, &quot;DryYield&quot;: 0.534, &quot;Elevation&quot;: 277.36, &quot;Heading&quot;: 359.9, &quot;Latitude&quot;: -31.59760968, &quot;Longitude&quot;: 117.4910389, &quot;Time&quot;: &quot;11/12/2020 10:28&quot;, &quot;Variety&quot;: &quot;43Y23 RR&quot;, &quot;__folium_color&quot;: &quot;#2e0595&quot;, &quot;sample_id&quot;: &quot;bf66_sample_3&quot;}, &quot;type&quot;: &quot;Feature&quot;}, {&quot;bbox&quot;: [117.4910387, -31.59550791, 117.4910387, -31.59550791], &quot;geometry&quot;: {&quot;coordinates&quot;: [117.4910387, -31.59550791], &quot;type&quot;: &quot;Point&quot;}, &quot;id&quot;: &quot;978&quot;, &quot;properties&quot;: {&quot;Crop&quot;: 5, &quot;DryYield&quot;: 0.748, &quot;Elevation&quot;: 277.47, &quot;Heading&quot;: 360.0, &quot;Latitude&quot;: -31.59550791, &quot;Longitude&quot;: 117.4910387, &quot;Time&quot;: &quot;11/12/2020 10:29&quot;, &quot;Variety&quot;: &quot;43Y23 RR&quot;, &quot;__folium_color&quot;: &quot;#38049a&quot;, &quot;sample_id&quot;: &quot;bf66_sample_3&quot;}, &quot;type&quot;: &quot;Feature&quot;}, {&quot;bbox&quot;: [117.4910384, -31.59352024, 117.4910384, -31.59352024], &quot;geometry&quot;: {&quot;coordinates&quot;: [117.4910384, -31.59352024], &quot;type&quot;: &quot;Point&quot;}, &quot;id&quot;: &quot;979&quot;, &quot;properties&quot;: {&quot;Crop&quot;: 5, &quot;DryYield&quot;: 0.653, &quot;Elevation&quot;: 273.2, &quot;Heading&quot;: 359.6, &quot;Latitude&quot;: -31.59352024, &quot;Longitude&quot;: 117.4910384, &quot;Time&quot;: &quot;11/12/2020 10:31&quot;, &quot;Variety&quot;: &quot;43Y23 RR&quot;, &quot;__folium_color&quot;: &quot;#350498&quot;, &quot;sample_id&quot;: &quot;bf66_sample_3&quot;}, &quot;type&quot;: &quot;Feature&quot;}, {&quot;bbox&quot;: [117.4911655, -31.59162031, 117.4911655, -31.59162031], &quot;geometry&quot;: {&quot;coordinates&quot;: [117.4911655, -31.59162031], &quot;type&quot;: &quot;Point&quot;}, &quot;id&quot;: &quot;980&quot;, &quot;properties&quot;: {&quot;Crop&quot;: 5, &quot;DryYield&quot;: 1.594, &quot;Elevation&quot;: 267.44, &quot;Heading&quot;: 178.8, &quot;Latitude&quot;: -31.59162031, &quot;Longitude&quot;: 117.4911655, &quot;Time&quot;: &quot;11/12/2020 10:32&quot;, &quot;Variety&quot;: &quot;43Y23 RR&quot;, &quot;__folium_color&quot;: &quot;#6001a6&quot;, &quot;sample_id&quot;: &quot;bf66_sample_3&quot;}, &quot;type&quot;: &quot;Feature&quot;}, {&quot;bbox&quot;: [117.4911652, -31.59360067, 117.4911652, -31.59360067], &quot;geometry&quot;: {&quot;coordinates&quot;: [117.4911652, -31.59360067], &quot;type&quot;: &quot;Point&quot;}, &quot;id&quot;: &quot;981&quot;, &quot;properties&quot;: {&quot;Crop&quot;: 5, &quot;DryYield&quot;: 0.45, &quot;Elevation&quot;: 273.5, &quot;Heading&quot;: 180.0, &quot;Latitude&quot;: -31.59360067, &quot;Longitude&quot;: 117.4911652, &quot;Time&quot;: &quot;11/12/2020 10:34&quot;, &quot;Variety&quot;: &quot;43Y23 RR&quot;, &quot;__folium_color&quot;: &quot;#2a0593&quot;, &quot;sample_id&quot;: &quot;bf66_sample_3&quot;}, &quot;type&quot;: &quot;Feature&quot;}, {&quot;bbox&quot;: [117.4911653, -31.59558069, 117.4911653, -31.59558069], &quot;geometry&quot;: {&quot;coordinates&quot;: [117.4911653, -31.59558069], &quot;type&quot;: &quot;Point&quot;}, &quot;id&quot;: &quot;982&quot;, &quot;properties&quot;: {&quot;Crop&quot;: 5, &quot;DryYield&quot;: 0.832, &quot;Elevation&quot;: 277.58, &quot;Heading&quot;: 179.9, &quot;Latitude&quot;: -31.59558069, &quot;Longitude&quot;: 117.4911653, &quot;Time&quot;: &quot;11/12/2020 10:35&quot;, &quot;Variety&quot;: &quot;43Y23 RR&quot;, &quot;__folium_color&quot;: &quot;#3e049c&quot;, &quot;sample_id&quot;: &quot;bf66_sample_3&quot;}, &quot;type&quot;: &quot;Feature&quot;}, {&quot;bbox&quot;: [117.4911652, -31.59770482, 117.4911652, -31.59770482], &quot;geometry&quot;: {&quot;coordinates&quot;: [117.4911652, -31.59770482], &quot;type&quot;: &quot;Point&quot;}, &quot;id&quot;: &quot;983&quot;, &quot;properties&quot;: {&quot;Crop&quot;: 5, &quot;DryYield&quot;: 0.403, &quot;Elevation&quot;: 277.48, &quot;Heading&quot;: 180.2, &quot;Latitude&quot;: -31.59770482, &quot;Longitude&quot;: 117.4911652, &quot;Time&quot;: &quot;11/12/2020 10:36&quot;, &quot;Variety&quot;: &quot;43Y23 RR&quot;, &quot;__folium_color&quot;: &quot;#280592&quot;, &quot;sample_id&quot;: &quot;bf66_sample_3&quot;}, &quot;type&quot;: &quot;Feature&quot;}, {&quot;bbox&quot;: [117.4911653, -31.59985203, 117.4911653, -31.59985203], &quot;geometry&quot;: {&quot;coordinates&quot;: [117.4911653, -31.59985203], &quot;type&quot;: &quot;Point&quot;}, &quot;id&quot;: &quot;984&quot;, &quot;properties&quot;: {&quot;Crop&quot;: 5, &quot;DryYield&quot;: 0.492, &quot;Elevation&quot;: 273.59, &quot;Heading&quot;: 179.9, &quot;Latitude&quot;: -31.59985203, &quot;Longitude&quot;: 117.4911653, &quot;Time&quot;: &quot;11/12/2020 10:38&quot;, &quot;Variety&quot;: &quot;43Y23 RR&quot;, &quot;__folium_color&quot;: &quot;#2c0594&quot;, &quot;sample_id&quot;: &quot;bf66_sample_3&quot;}, &quot;type&quot;: &quot;Feature&quot;}, {&quot;bbox&quot;: [117.4911648, -31.60198633, 117.4911648, -31.60198633], &quot;geometry&quot;: {&quot;coordinates&quot;: [117.4911648, -31.60198633], &quot;type&quot;: &quot;Point&quot;}, &quot;id&quot;: &quot;985&quot;, &quot;properties&quot;: {&quot;Crop&quot;: 5, &quot;DryYield&quot;: 0.39, &quot;Elevation&quot;: 270.86, &quot;Heading&quot;: 180.2, &quot;Latitude&quot;: -31.60198633, &quot;Longitude&quot;: 117.4911648, &quot;Time&quot;: &quot;11/12/2020 10:39&quot;, &quot;Variety&quot;: &quot;43Y23 RR&quot;, &quot;__folium_color&quot;: &quot;#260591&quot;, &quot;sample_id&quot;: &quot;bf66_sample_3&quot;}, &quot;type&quot;: &quot;Feature&quot;}, {&quot;bbox&quot;: [117.4915443, -31.60160687, 117.4915443, -31.60160687], &quot;geometry&quot;: {&quot;coordinates&quot;: [117.4915443, -31.60160687], &quot;type&quot;: &quot;Point&quot;}, &quot;id&quot;: &quot;986&quot;, &quot;properties&quot;: {&quot;Crop&quot;: 5, &quot;DryYield&quot;: 0.372, &quot;Elevation&quot;: 270.41, &quot;Heading&quot;: 359.7, &quot;Latitude&quot;: -31.60160687, &quot;Longitude&quot;: 117.4915443, &quot;Time&quot;: &quot;11/12/2020 10:41&quot;, &quot;Variety&quot;: &quot;43Y23 RR&quot;, &quot;__folium_color&quot;: &quot;#260591&quot;, &quot;sample_id&quot;: &quot;bf66_sample_3&quot;}, &quot;type&quot;: &quot;Feature&quot;}, {&quot;bbox&quot;: [117.4915445, -31.59943855, 117.4915445, -31.59943855], &quot;geometry&quot;: {&quot;coordinates&quot;: [117.4915445, -31.59943855], &quot;type&quot;: &quot;Point&quot;}, &quot;id&quot;: &quot;987&quot;, &quot;properties&quot;: {&quot;Crop&quot;: 5, &quot;DryYield&quot;: 0.387, &quot;Elevation&quot;: 274.51, &quot;Heading&quot;: 0.1, &quot;Latitude&quot;: -31.59943855, &quot;Longitude&quot;: 117.4915445, &quot;Time&quot;: &quot;11/12/2020 10:42&quot;, &quot;Variety&quot;: &quot;43Y23 RR&quot;, &quot;__folium_color&quot;: &quot;#260591&quot;, &quot;sample_id&quot;: &quot;bf66_sample_3&quot;}, &quot;type&quot;: &quot;Feature&quot;}, {&quot;bbox&quot;: [117.4915447, -31.59726866, 117.4915447, -31.59726866], &quot;geometry&quot;: {&quot;coordinates&quot;: [117.4915447, -31.59726866], &quot;type&quot;: &quot;Point&quot;}, &quot;id&quot;: &quot;988&quot;, &quot;properties&quot;: {&quot;Crop&quot;: 5, &quot;DryYield&quot;: 0.295, &quot;Elevation&quot;: 278.44, &quot;Heading&quot;: 0.1, &quot;Latitude&quot;: -31.59726866, &quot;Longitude&quot;: 117.4915447, &quot;Time&quot;: &quot;11/12/2020 10:44&quot;, &quot;Variety&quot;: &quot;43Y23 RR&quot;, &quot;__folium_color&quot;: &quot;#220690&quot;, &quot;sample_id&quot;: &quot;bf66_sample_3&quot;}, &quot;type&quot;: &quot;Feature&quot;}, {&quot;bbox&quot;: [117.4915445, -31.59527076, 117.4915445, -31.59527076], &quot;geometry&quot;: {&quot;coordinates&quot;: [117.4915445, -31.59527076], &quot;type&quot;: &quot;Point&quot;}, &quot;id&quot;: &quot;989&quot;, &quot;properties&quot;: {&quot;Crop&quot;: 5, &quot;DryYield&quot;: 1.209, &quot;Elevation&quot;: 277.07, &quot;Heading&quot;: 0.2, &quot;Latitude&quot;: -31.59527076, &quot;Longitude&quot;: 117.4915445, &quot;Time&quot;: &quot;11/12/2020 10:45&quot;, &quot;Variety&quot;: &quot;43Y23 RR&quot;, &quot;__folium_color&quot;: &quot;#4e02a2&quot;, &quot;sample_id&quot;: &quot;bf66_sample_3&quot;}, &quot;type&quot;: &quot;Feature&quot;}, {&quot;bbox&quot;: [117.4915443, -31.59341912, 117.4915443, -31.59341912], &quot;geometry&quot;: {&quot;coordinates&quot;: [117.4915443, -31.59341912], &quot;type&quot;: &quot;Point&quot;}, &quot;id&quot;: &quot;990&quot;, &quot;properties&quot;: {&quot;Crop&quot;: 5, &quot;DryYield&quot;: 0.636, &quot;Elevation&quot;: 273.21, &quot;Heading&quot;: 0.0, &quot;Latitude&quot;: -31.59341912, &quot;Longitude&quot;: 117.4915443, &quot;Time&quot;: &quot;11/12/2020 10:46&quot;, &quot;Variety&quot;: &quot;43Y23 RR&quot;, &quot;__folium_color&quot;: &quot;#330597&quot;, &quot;sample_id&quot;: &quot;bf66_sample_3&quot;}, &quot;type&quot;: &quot;Feature&quot;}, {&quot;bbox&quot;: [117.4916713, -31.59176433, 117.4916713, -31.59176433], &quot;geometry&quot;: {&quot;coordinates&quot;: [117.4916713, -31.59176433], &quot;type&quot;: &quot;Point&quot;}, &quot;id&quot;: &quot;991&quot;, &quot;properties&quot;: {&quot;Crop&quot;: 5, &quot;DryYield&quot;: 0.634, &quot;Elevation&quot;: 268.16, &quot;Heading&quot;: 180.4, &quot;Latitude&quot;: -31.59176433, &quot;Longitude&quot;: 117.4916713, &quot;Time&quot;: &quot;11/12/2020 10:48&quot;, &quot;Variety&quot;: &quot;43Y23 RR&quot;, &quot;__folium_color&quot;: &quot;#330597&quot;, &quot;sample_id&quot;: &quot;bf66_sample_3&quot;}, &quot;type&quot;: &quot;Feature&quot;}, {&quot;bbox&quot;: [117.4916709, -31.59378575, 117.4916709, -31.59378575], &quot;geometry&quot;: {&quot;coordinates&quot;: [117.4916709, -31.59378575], &quot;type&quot;: &quot;Point&quot;}, &quot;id&quot;: &quot;992&quot;, &quot;properties&quot;: {&quot;Crop&quot;: 5, &quot;DryYield&quot;: 0.475, &quot;Elevation&quot;: 273.89, &quot;Heading&quot;: 180.0, &quot;Latitude&quot;: -31.59378575, &quot;Longitude&quot;: 117.4916709, &quot;Time&quot;: &quot;11/12/2020 10:49&quot;, &quot;Variety&quot;: &quot;43Y23 RR&quot;, &quot;__folium_color&quot;: &quot;#2c0594&quot;, &quot;sample_id&quot;: &quot;bf66_sample_3&quot;}, &quot;type&quot;: &quot;Feature&quot;}, {&quot;bbox&quot;: [117.4916709, -31.59579517, 117.4916709, -31.59579517], &quot;geometry&quot;: {&quot;coordinates&quot;: [117.4916709, -31.59579517], &quot;type&quot;: &quot;Point&quot;}, &quot;id&quot;: &quot;993&quot;, &quot;properties&quot;: {&quot;Crop&quot;: 5, &quot;DryYield&quot;: 0.702, &quot;Elevation&quot;: 277.96, &quot;Heading&quot;: 180.0, &quot;Latitude&quot;: -31.59579517, &quot;Longitude&quot;: 117.4916709, &quot;Time&quot;: &quot;11/12/2020 10:51&quot;, &quot;Variety&quot;: &quot;43Y23 RR&quot;, &quot;__folium_color&quot;: &quot;#370499&quot;, &quot;sample_id&quot;: &quot;bf66_sample_3&quot;}, &quot;type&quot;: &quot;Feature&quot;}, {&quot;bbox&quot;: [117.4916709, -31.59788697, 117.4916709, -31.59788697], &quot;geometry&quot;: {&quot;coordinates&quot;: [117.4916709, -31.59788697], &quot;type&quot;: &quot;Point&quot;}, &quot;id&quot;: &quot;994&quot;, &quot;properties&quot;: {&quot;Crop&quot;: 5, &quot;DryYield&quot;: 0.378, &quot;Elevation&quot;: 277.66, &quot;Heading&quot;: 179.9, &quot;Latitude&quot;: -31.59788697, &quot;Longitude&quot;: 117.4916709, &quot;Time&quot;: &quot;11/12/2020 10:52&quot;, &quot;Variety&quot;: &quot;43Y23 RR&quot;, &quot;__folium_color&quot;: &quot;#260591&quot;, &quot;sample_id&quot;: &quot;bf66_sample_3&quot;}, &quot;type&quot;: &quot;Feature&quot;}, {&quot;bbox&quot;: [117.4916709, -31.59995682, 117.4916709, -31.59995682], &quot;geometry&quot;: {&quot;coordinates&quot;: [117.4916709, -31.59995682], &quot;type&quot;: &quot;Point&quot;}, &quot;id&quot;: &quot;995&quot;, &quot;properties&quot;: {&quot;Crop&quot;: 5, &quot;DryYield&quot;: 0.631, &quot;Elevation&quot;: 273.47, &quot;Heading&quot;: 179.7, &quot;Latitude&quot;: -31.59995682, &quot;Longitude&quot;: 117.4916709, &quot;Time&quot;: &quot;11/12/2020 10:53&quot;, &quot;Variety&quot;: &quot;43Y23 RR&quot;, &quot;__folium_color&quot;: &quot;#330597&quot;, &quot;sample_id&quot;: &quot;bf66_sample_3&quot;}, &quot;type&quot;: &quot;Feature&quot;}, {&quot;bbox&quot;: [117.4916709, -31.60208805, 117.4916709, -31.60208805], &quot;geometry&quot;: {&quot;coordinates&quot;: [117.4916709, -31.60208805], &quot;type&quot;: &quot;Point&quot;}, &quot;id&quot;: &quot;996&quot;, &quot;properties&quot;: {&quot;Crop&quot;: 5, &quot;DryYield&quot;: 0.237, &quot;Elevation&quot;: 269.58, &quot;Heading&quot;: 179.9, &quot;Latitude&quot;: -31.60208805, &quot;Longitude&quot;: 117.4916709, &quot;Time&quot;: &quot;11/12/2020 10:55&quot;, &quot;Variety&quot;: &quot;43Y23 RR&quot;, &quot;__folium_color&quot;: &quot;#1d068e&quot;, &quot;sample_id&quot;: &quot;bf66_sample_3&quot;}, &quot;type&quot;: &quot;Feature&quot;}, {&quot;bbox&quot;: [117.4920503, -31.60224445, 117.4920503, -31.60224445], &quot;geometry&quot;: {&quot;coordinates&quot;: [117.4920503, -31.60224445], &quot;type&quot;: &quot;Point&quot;}, &quot;id&quot;: &quot;997&quot;, &quot;properties&quot;: {&quot;Crop&quot;: 5, &quot;DryYield&quot;: 0.236, &quot;Elevation&quot;: 268.55, &quot;Heading&quot;: 359.9, &quot;Latitude&quot;: -31.60224445, &quot;Longitude&quot;: 117.4920503, &quot;Time&quot;: &quot;11/12/2020 10:56&quot;, &quot;Variety&quot;: &quot;43Y23 RR&quot;, &quot;__folium_color&quot;: &quot;#1d068e&quot;, &quot;sample_id&quot;: &quot;bf66_sample_3&quot;}, &quot;type&quot;: &quot;Feature&quot;}, {&quot;bbox&quot;: [117.4920505, -31.60006926, 117.4920505, -31.60006926], &quot;geometry&quot;: {&quot;coordinates&quot;: [117.4920505, -31.60006926], &quot;type&quot;: &quot;Point&quot;}, &quot;id&quot;: &quot;998&quot;, &quot;properties&quot;: {&quot;Crop&quot;: 5, &quot;DryYield&quot;: 0.565, &quot;Elevation&quot;: 272.97, &quot;Heading&quot;: 359.9, &quot;Latitude&quot;: -31.60006926, &quot;Longitude&quot;: 117.4920505, &quot;Time&quot;: &quot;11/12/2020 10:57&quot;, &quot;Variety&quot;: &quot;43Y23 RR&quot;, &quot;__folium_color&quot;: &quot;#2f0596&quot;, &quot;sample_id&quot;: &quot;bf66_sample_3&quot;}, &quot;type&quot;: &quot;Feature&quot;}, {&quot;bbox&quot;: [117.4920505, -31.59798425, 117.4920505, -31.59798425], &quot;geometry&quot;: {&quot;coordinates&quot;: [117.4920505, -31.59798425], &quot;type&quot;: &quot;Point&quot;}, &quot;id&quot;: &quot;999&quot;, &quot;properties&quot;: {&quot;Crop&quot;: 5, &quot;DryYield&quot;: 0.566, &quot;Elevation&quot;: 277.74, &quot;Heading&quot;: 0.1, &quot;Latitude&quot;: -31.59798425, &quot;Longitude&quot;: 117.4920505, &quot;Time&quot;: &quot;11/12/2020 10:59&quot;, &quot;Variety&quot;: &quot;43Y23 RR&quot;, &quot;__folium_color&quot;: &quot;#2f0596&quot;, &quot;sample_id&quot;: &quot;bf66_sample_3&quot;}, &quot;type&quot;: &quot;Feature&quot;}], &quot;type&quot;: &quot;FeatureCollection&quot;});\n",
       "\n",
       "        \n",
       "    \n",
       "    geo_json_abf6315ab0eee2145952037b7d740c3f.bindTooltip(\n",
       "    function(layer){\n",
       "    let div = L.DomUtil.create(&#x27;div&#x27;);\n",
       "    \n",
       "    let handleObject = feature=&gt;typeof(feature)==&#x27;object&#x27; ? JSON.stringify(feature) : feature;\n",
       "    let fields = [&quot;DryYield&quot;];\n",
       "    let aliases = [&quot;DryYield&quot;];\n",
       "    let table = &#x27;&lt;table&gt;&#x27; +\n",
       "        String(\n",
       "        fields.map(\n",
       "        (v,i)=&gt;\n",
       "        `&lt;tr&gt;\n",
       "            &lt;th&gt;${aliases[i]}&lt;/th&gt;\n",
       "            \n",
       "            &lt;td&gt;${handleObject(layer.feature.properties[v])}&lt;/td&gt;\n",
       "        &lt;/tr&gt;`).join(&#x27;&#x27;))\n",
       "    +&#x27;&lt;/table&gt;&#x27;;\n",
       "    div.innerHTML=table;\n",
       "    \n",
       "    return div\n",
       "    }\n",
       "    ,{&quot;className&quot;: &quot;foliumtooltip&quot;, &quot;sticky&quot;: true});\n",
       "                     \n",
       "    \n",
       "    var color_map_5ea5908c6bc808cefb52cc9d9bf33e8b = {};\n",
       "\n",
       "    \n",
       "    color_map_5ea5908c6bc808cefb52cc9d9bf33e8b.color = d3.scale.threshold()\n",
       "              .domain([0.0, 0.01852304609218437, 0.03704609218436874, 0.055569138276553104, 0.07409218436873748, 0.09261523046092185, 0.11113827655310621, 0.1296613226452906, 0.14818436873747495, 0.1667074148296593, 0.1852304609218437, 0.20375350701402806, 0.22227655310621242, 0.2407995991983968, 0.2593226452905812, 0.27784569138276555, 0.2963687374749499, 0.31489178356713426, 0.3334148296593186, 0.35193787575150304, 0.3704609218436874, 0.38898396793587176, 0.4075070140280561, 0.4260300601202405, 0.44455310621242483, 0.46307615230460925, 0.4815991983967936, 0.500122244488978, 0.5186452905811624, 0.5371683366733467, 0.5556913827655311, 0.5742144288577155, 0.5927374749498998, 0.6112605210420842, 0.6297835671342685, 0.6483066132264529, 0.6668296593186372, 0.6853527054108216, 0.7038757515030061, 0.7223987975951904, 0.7409218436873748, 0.7594448897795592, 0.7779679358717435, 0.7964909819639279, 0.8150140280561122, 0.8335370741482966, 0.852060120240481, 0.8705831663326653, 0.8891062124248497, 0.9076292585170341, 0.9261523046092185, 0.9446753507014028, 0.9631983967935872, 0.9817214428857716, 1.000244488977956, 1.0187675350701404, 1.0372905811623248, 1.0558136272545091, 1.0743366733466935, 1.0928597194388778, 1.1113827655310622, 1.1299058116232465, 1.148428857715431, 1.1669519038076153, 1.1854749498997996, 1.2039979959919842, 1.2225210420841683, 1.241044088176353, 1.259567134268537, 1.2780901803607216, 1.2966132264529058, 1.3151362725450904, 1.3336593186372745, 1.352182364729459, 1.3707054108216432, 1.3892284569138278, 1.4077515030060122, 1.4262745490981965, 1.4447975951903809, 1.4633206412825652, 1.4818436873747496, 1.500366733466934, 1.5188897795591183, 1.5374128256513027, 1.555935871743487, 1.5744589178356714, 1.5929819639278557, 1.6115050100200403, 1.6300280561122245, 1.648551102204409, 1.6670741482965932, 1.6855971943887778, 1.704120240480962, 1.7226432865731465, 1.7411663326653306, 1.7596893787575152, 1.7782124248496993, 1.796735470941884, 1.8152585170340683, 1.8337815631262526, 1.852304609218437, 1.8708276553106213, 1.8893507014028057, 1.90787374749499, 1.9263967935871744, 1.9449198396793588, 1.9634428857715431, 1.9819659318637277, 2.000488977955912, 2.0190120240480964, 2.037535070140281, 2.0560581162324647, 2.0745811623246495, 2.093104208416834, 2.1116272545090182, 2.130150300601202, 2.148673346693387, 2.1671963927855713, 2.1857194388777557, 2.20424248496994, 2.2227655310621244, 2.2412885771543087, 2.259811623246493, 2.2783346693386775, 2.296857715430862, 2.315380761523046, 2.3339038076152305, 2.352426853707415, 2.3709498997995992, 2.3894729458917836, 2.4079959919839684, 2.4265190380761523, 2.4450420841683367, 2.463565130260521, 2.482088176352706, 2.5006112224448898, 2.519134268537074, 2.5376573146292585, 2.5561803607214433, 2.574703406813627, 2.5932264529058116, 2.6117494989979964, 2.6302725450901807, 2.6487955911823646, 2.667318637274549, 2.685841683366734, 2.704364729458918, 2.722887775551102, 2.7414108216432864, 2.7599338677354712, 2.7784569138276556, 2.7969799599198395, 2.8155030060120243, 2.8340260521042087, 2.852549098196393, 2.871072144288577, 2.8895951903807617, 2.908118236472946, 2.9266412825651305, 2.9451643286573144, 2.963687374749499, 2.9822104208416835, 3.000733466933868, 3.0192565130260522, 3.0377795591182366, 3.056302605210421, 3.0748256513026053, 3.0933486973947897, 3.111871743486974, 3.1303947895791584, 3.1489178356713428, 3.167440881763527, 3.1859639278557115, 3.204486973947896, 3.2230100200400806, 3.2415330661322646, 3.260056112224449, 3.2785791583166333, 3.297102204408818, 3.315625250501002, 3.3341482965931863, 3.3526713426853707, 3.3711943887775555, 3.3897174348697394, 3.408240480961924, 3.4267635270541086, 3.445286573146293, 3.463809619238477, 3.482332665330661, 3.500855711422846, 3.5193787575150304, 3.5379018036072143, 3.5564248496993986, 3.5749478957915835, 3.593470941883768, 3.6119939879759517, 3.6305170340681365, 3.649040080160321, 3.6675631262525052, 3.686086172344689, 3.704609218436874, 3.7231322645290583, 3.7416553106212427, 3.760178356713427, 3.7787014028056114, 3.7972244488977958, 3.81574749498998, 3.8342705410821645, 3.852793587174349, 3.871316633266533, 3.8898396793587176, 3.908362725450902, 3.9268857715430863, 3.9454088176352706, 3.9639318637274554, 3.9824549098196393, 4.000977955911824, 4.019501002004008, 4.038024048096193, 4.056547094188377, 4.075070140280562, 4.093593186372745, 4.112116232464929, 4.130639278557114, 4.149162324649299, 4.167685370741483, 4.186208416833668, 4.204731462925852, 4.2232545090180365, 4.24177755511022, 4.260300601202404, 4.2788236472945895, 4.297346693386774, 4.315869739478958, 4.334392785571143, 4.352915831663327, 4.371438877755511, 4.389961923847695, 4.40848496993988, 4.427008016032064, 4.445531062124249, 4.464054108216433, 4.4825771543086175, 4.501100200400802, 4.519623246492986, 4.53814629258517, 4.556669338677355, 4.575192384769539, 4.593715430861724, 4.612238476953908, 4.630761523046092, 4.649284569138277, 4.667807615230461, 4.686330661322645, 4.70485370741483, 4.723376753507014, 4.7418997995991985, 4.760422845691383, 4.778945891783567, 4.797468937875752, 4.815991983967937, 4.83451503006012, 4.853038076152305, 4.871561122244489, 4.890084168336673, 4.908607214428858, 4.927130260521042, 4.945653306613227, 4.964176352705412, 4.982699398797595, 5.0012224448897795, 5.019745490981964, 5.038268537074148, 5.056791583166333, 5.075314629258517, 5.093837675350702, 5.112360721442887, 5.13088376753507, 5.149406813627254, 5.167929859719439, 5.186452905811623, 5.2049759519038075, 5.223498997995993, 5.242022044088177, 5.260545090180361, 5.279068136272545, 5.297591182364729, 5.316114228456914, 5.334637274549098, 5.353160320641283, 5.371683366733468, 5.390206412825652, 5.408729458917836, 5.42725250501002, 5.445775551102204, 5.4642985971943885, 5.482821643286573, 5.501344689378758, 5.5198677354709424, 5.538390781563127, 5.556913827655311, 5.575436873747495, 5.593959919839679, 5.612482965931863, 5.631006012024049, 5.649529058116233, 5.668052104208417, 5.686575150300602, 5.705098196392786, 5.7236212424849695, 5.742144288577154, 5.760667334669339, 5.7791903807615235, 5.797713426853708, 5.816236472945892, 5.8347595190380765, 5.853282565130261, 5.871805611222444, 5.890328657314629, 5.908851703406814, 5.927374749498998, 5.945897795591183, 5.964420841683367, 5.982943887775551, 6.001466933867736, 6.019989979959919, 6.0385130260521045, 6.057036072144289, 6.075559118236473, 6.094082164328658, 6.112605210420842, 6.131128256513026, 6.149651302605211, 6.168174348697395, 6.186697394789579, 6.205220440881764, 6.223743486973948, 6.242266533066132, 6.260789579158317, 6.279312625250501, 6.2978356713426855, 6.31635871743487, 6.334881763527054, 6.353404809619239, 6.371927855711423, 6.390450901803607, 6.408973947895792, 6.427496993987976, 6.446020040080161, 6.464543086172345, 6.483066132264529, 6.5015891783567135, 6.520112224448898, 6.538635270541082, 6.5571583166332665, 6.575681362725452, 6.594204408817636, 6.61272745490982, 6.631250501002004, 6.649773547094188, 6.668296593186373, 6.686819639278557, 6.705342685370741, 6.723865731462927, 6.742388777555111, 6.7609118236472945, 6.779434869739479, 6.797957915831663, 6.816480961923848, 6.835004008016032, 6.853527054108217, 6.8720501002004015, 6.890573146292586, 6.909096192384769, 6.927619238476954, 6.946142284569138, 6.964665330661322, 6.983188376753508, 7.001711422845692, 7.020234468937876, 7.038757515030061, 7.057280561122244, 7.075803607214429, 7.094326653306613, 7.112849699398797, 7.1313727454909825, 7.149895791583167, 7.168418837675351, 7.186941883767536, 7.205464929859719, 7.2239879759519035, 7.242511022044088, 7.261034068136273, 7.279557114228457, 7.298080160320642, 7.316603206412826, 7.3351262525050105, 7.353649298597194, 7.372172344689378, 7.390695390781564, 7.409218436873748, 7.427741482965932, 7.446264529058117, 7.464787575150301, 7.483310621242485, 7.501833667334669, 7.520356713426854, 7.538879759519038, 7.557402805611223, 7.575925851703407, 7.5944488977955915, 7.612971943887776, 7.63149498997996, 7.650018036072144, 7.668541082164329, 7.687064128256513, 7.705587174348698, 7.724110220440882, 7.742633266533066, 7.761156312625251, 7.779679358717435, 7.79820240480962, 7.816725450901804, 7.835248496993988, 7.8537715430861725, 7.872294589178357, 7.890817635270541, 7.909340681362726, 7.927863727454911, 7.946386773547095, 7.964909819639279, 7.983432865731463, 8.001955911823648, 8.020478957915833, 8.039002004008015, 8.0575250501002, 8.076048096192386, 8.09457114228457, 8.113094188376754, 8.131617234468939, 8.150140280561123, 8.168663326653308, 8.18718637274549, 8.205709418837676, 8.224232464929859, 8.242755511022045, 8.261278557114228, 8.279801603206414, 8.298324649298598, 8.316847695390782, 8.335370741482967, 8.35389378757515, 8.372416833667335, 8.390939879759518, 8.409462925851704, 8.427985971943889, 8.446509018036073, 8.465032064128257, 8.48355511022044, 8.502078156312626, 8.520601202404809, 8.539124248496995, 8.557647294589179, 8.576170340681363, 8.594693386773548, 8.613216432865732, 8.631739478957916, 8.650262525050099, 8.668785571142285, 8.68730861723447, 8.705831663326654, 8.724354709418838, 8.742877755511023, 8.761400801603207, 8.77992384769539, 8.798446893787576, 8.81696993987976, 8.835492985971944, 8.854016032064129, 8.872539078156313, 8.891062124248498, 8.909585170340682, 8.928108216432866, 8.94663126252505, 8.965154308617235, 8.98367735470942, 9.002200400801604, 9.020723446893788, 9.039246492985972, 9.057769539078157, 9.07629258517034, 9.094815631262525, 9.11333867735471, 9.131861723446894, 9.150384769539079, 9.168907815631263, 9.187430861723447, 9.205953907815632, 9.224476953907816, 9.243])\n",
       "              .range([&#x27;#0d0887ff&#x27;, &#x27;#0e0788ff&#x27;, &#x27;#100788ff&#x27;, &#x27;#110789ff&#x27;, &#x27;#130789ff&#x27;, &#x27;#14078aff&#x27;, &#x27;#16068aff&#x27;, &#x27;#17068bff&#x27;, &#x27;#19068cff&#x27;, &#x27;#1a068dff&#x27;, &#x27;#1b068dff&#x27;, &#x27;#1c068eff&#x27;, &#x27;#1d068eff&#x27;, &#x27;#1f068fff&#x27;, &#x27;#20068fff&#x27;, &#x27;#210690ff&#x27;, &#x27;#220690ff&#x27;, &#x27;#230691ff&#x27;, &#x27;#240591ff&#x27;, &#x27;#250591ff&#x27;, &#x27;#260591ff&#x27;, &#x27;#270592ff&#x27;, &#x27;#280592ff&#x27;, &#x27;#290593ff&#x27;, &#x27;#2a0593ff&#x27;, &#x27;#2b0594ff&#x27;, &#x27;#2c0594ff&#x27;, &#x27;#2d0595ff&#x27;, &#x27;#2e0595ff&#x27;, &#x27;#2f0596ff&#x27;, &#x27;#2f0596ff&#x27;, &#x27;#300597ff&#x27;, &#x27;#310597ff&#x27;, &#x27;#320597ff&#x27;, &#x27;#330497ff&#x27;, &#x27;#340498ff&#x27;, &#x27;#360498ff&#x27;, &#x27;#370499ff&#x27;, &#x27;#37049aff&#x27;, &#x27;#38049aff&#x27;, &#x27;#39049aff&#x27;, &#x27;#3a049aff&#x27;, &#x27;#3b049bff&#x27;, &#x27;#3c049bff&#x27;, &#x27;#3d049cff&#x27;, &#x27;#3e049cff&#x27;, &#x27;#3e049cff&#x27;, &#x27;#3f049cff&#x27;, &#x27;#40049dff&#x27;, &#x27;#41039dff&#x27;, &#x27;#42039eff&#x27;, &#x27;#43039eff&#x27;, &#x27;#43039eff&#x27;, &#x27;#44039eff&#x27;, &#x27;#45039fff&#x27;, &#x27;#46039fff&#x27;, &#x27;#47039fff&#x27;, &#x27;#48039fff&#x27;, &#x27;#4803a0ff&#x27;, &#x27;#4903a0ff&#x27;, &#x27;#4a03a1ff&#x27;, &#x27;#4b02a1ff&#x27;, &#x27;#4b02a1ff&#x27;, &#x27;#4c02a1ff&#x27;, &#x27;#4d02a2ff&#x27;, &#x27;#4e02a2ff&#x27;, &#x27;#4f02a2ff&#x27;, &#x27;#5002a2ff&#x27;, &#x27;#5102a3ff&#x27;, &#x27;#5102a3ff&#x27;, &#x27;#5202a3ff&#x27;, &#x27;#5302a3ff&#x27;, &#x27;#5402a4ff&#x27;, &#x27;#5501a4ff&#x27;, &#x27;#5601a4ff&#x27;, &#x27;#5601a4ff&#x27;, &#x27;#5801a4ff&#x27;, &#x27;#5801a4ff&#x27;, &#x27;#5901a5ff&#x27;, &#x27;#5a01a5ff&#x27;, &#x27;#5b01a5ff&#x27;, &#x27;#5b01a6ff&#x27;, &#x27;#5c01a6ff&#x27;, &#x27;#5d01a6ff&#x27;, &#x27;#5e01a6ff&#x27;, &#x27;#5f01a6ff&#x27;, &#x27;#6001a6ff&#x27;, &#x27;#6000a7ff&#x27;, &#x27;#6100a7ff&#x27;, &#x27;#6200a7ff&#x27;, &#x27;#6300a7ff&#x27;, &#x27;#6300a7ff&#x27;, &#x27;#6400a7ff&#x27;, &#x27;#6500a7ff&#x27;, &#x27;#6600a7ff&#x27;, &#x27;#6600a8ff&#x27;, &#x27;#6700a8ff&#x27;, &#x27;#6800a8ff&#x27;, &#x27;#6900a8ff&#x27;, &#x27;#6a00a8ff&#x27;, &#x27;#6a00a8ff&#x27;, &#x27;#6b00a8ff&#x27;, &#x27;#6c00a8ff&#x27;, &#x27;#6d00a8ff&#x27;, &#x27;#6e00a8ff&#x27;, &#x27;#6f00a8ff&#x27;, &#x27;#6f00a8ff&#x27;, &#x27;#7000a8ff&#x27;, &#x27;#7100a8ff&#x27;, &#x27;#7200a8ff&#x27;, &#x27;#7201a8ff&#x27;, &#x27;#7301a8ff&#x27;, &#x27;#7401a8ff&#x27;, &#x27;#7501a8ff&#x27;, &#x27;#7501a8ff&#x27;, &#x27;#7601a8ff&#x27;, &#x27;#7701a8ff&#x27;, &#x27;#7801a8ff&#x27;, &#x27;#7901a8ff&#x27;, &#x27;#7a01a8ff&#x27;, &#x27;#7a02a8ff&#x27;, &#x27;#7b02a8ff&#x27;, &#x27;#7c02a8ff&#x27;, &#x27;#7d02a8ff&#x27;, &#x27;#7d03a8ff&#x27;, &#x27;#7e03a8ff&#x27;, &#x27;#7f03a8ff&#x27;, &#x27;#8003a8ff&#x27;, &#x27;#8004a8ff&#x27;, &#x27;#8104a7ff&#x27;, &#x27;#8204a7ff&#x27;, &#x27;#8304a7ff&#x27;, &#x27;#8305a7ff&#x27;, &#x27;#8405a7ff&#x27;, &#x27;#8505a7ff&#x27;, &#x27;#8606a6ff&#x27;, &#x27;#8706a6ff&#x27;, &#x27;#8707a6ff&#x27;, &#x27;#8807a6ff&#x27;, &#x27;#8808a6ff&#x27;, &#x27;#8908a6ff&#x27;, &#x27;#8a09a5ff&#x27;, &#x27;#8b09a5ff&#x27;, &#x27;#8b0aa5ff&#x27;, &#x27;#8c0aa5ff&#x27;, &#x27;#8d0ba5ff&#x27;, &#x27;#8e0ba5ff&#x27;, &#x27;#8e0ca4ff&#x27;, &#x27;#8f0ca4ff&#x27;, &#x27;#8f0da4ff&#x27;, &#x27;#900da3ff&#x27;, &#x27;#910ea3ff&#x27;, &#x27;#920ea3ff&#x27;, &#x27;#920fa3ff&#x27;, &#x27;#930fa2ff&#x27;, &#x27;#9410a2ff&#x27;, &#x27;#9510a1ff&#x27;, &#x27;#9511a1ff&#x27;, &#x27;#9612a1ff&#x27;, &#x27;#9713a1ff&#x27;, &#x27;#9813a0ff&#x27;, &#x27;#9814a0ff&#x27;, &#x27;#99149fff&#x27;, &#x27;#99159fff&#x27;, &#x27;#9a159fff&#x27;, &#x27;#9b169fff&#x27;, &#x27;#9c169eff&#x27;, &#x27;#9c179eff&#x27;, &#x27;#9d179dff&#x27;, &#x27;#9d189dff&#x27;, &#x27;#9e189dff&#x27;, &#x27;#9f199dff&#x27;, &#x27;#a0199cff&#x27;, &#x27;#a11a9cff&#x27;, &#x27;#a11b9bff&#x27;, &#x27;#a21b9bff&#x27;, &#x27;#a21c9aff&#x27;, &#x27;#a31d9aff&#x27;, &#x27;#a31e9aff&#x27;, &#x27;#a41e9aff&#x27;, &#x27;#a51f99ff&#x27;, &#x27;#a61f99ff&#x27;, &#x27;#a62098ff&#x27;, &#x27;#a72098ff&#x27;, &#x27;#a72197ff&#x27;, &#x27;#a82197ff&#x27;, &#x27;#a82296ff&#x27;, &#x27;#a92296ff&#x27;, &#x27;#aa2395ff&#x27;, &#x27;#ab2394ff&#x27;, &#x27;#ab2494ff&#x27;, &#x27;#ac2594ff&#x27;, &#x27;#ac2694ff&#x27;, &#x27;#ad2693ff&#x27;, &#x27;#ad2793ff&#x27;, &#x27;#ae2792ff&#x27;, &#x27;#af2892ff&#x27;, &#x27;#b02891ff&#x27;, &#x27;#b02991ff&#x27;, &#x27;#b12990ff&#x27;, &#x27;#b12a90ff&#x27;, &#x27;#b22a8fff&#x27;, &#x27;#b22b8fff&#x27;, &#x27;#b32b8eff&#x27;, &#x27;#b32c8eff&#x27;, &#x27;#b42d8dff&#x27;, &#x27;#b42e8dff&#x27;, &#x27;#b52e8cff&#x27;, &#x27;#b62f8cff&#x27;, &#x27;#b62f8bff&#x27;, &#x27;#b7308bff&#x27;, &#x27;#b7318aff&#x27;, &#x27;#b8318aff&#x27;, &#x27;#b83289ff&#x27;, &#x27;#b93289ff&#x27;, &#x27;#ba3388ff&#x27;, &#x27;#bb3388ff&#x27;, &#x27;#bb3488ff&#x27;, &#x27;#bc3488ff&#x27;, &#x27;#bc3587ff&#x27;, &#x27;#bd3687ff&#x27;, &#x27;#bd3786ff&#x27;, &#x27;#be3786ff&#x27;, &#x27;#be3885ff&#x27;, &#x27;#bf3885ff&#x27;, &#x27;#bf3984ff&#x27;, &#x27;#c03984ff&#x27;, &#x27;#c03a83ff&#x27;, &#x27;#c13a82ff&#x27;, &#x27;#c13b82ff&#x27;, &#x27;#c23b81ff&#x27;, &#x27;#c23c81ff&#x27;, &#x27;#c33c80ff&#x27;, &#x27;#c33d80ff&#x27;, &#x27;#c43d7fff&#x27;, &#x27;#c43e7fff&#x27;, &#x27;#c53f7eff&#x27;, &#x27;#c5407eff&#x27;, &#x27;#c6407dff&#x27;, &#x27;#c6417dff&#x27;, &#x27;#c7417cff&#x27;, &#x27;#c7427cff&#x27;, &#x27;#c8427bff&#x27;, &#x27;#c8437bff&#x27;, &#x27;#c9437aff&#x27;, &#x27;#c9447aff&#x27;, &#x27;#ca447aff&#x27;, &#x27;#cb457aff&#x27;, &#x27;#cb4679ff&#x27;, &#x27;#cc4679ff&#x27;, &#x27;#cc4778ff&#x27;, &#x27;#cc4778ff&#x27;, &#x27;#cc4877ff&#x27;, &#x27;#cd4977ff&#x27;, &#x27;#cd4a76ff&#x27;, &#x27;#ce4a76ff&#x27;, &#x27;#ce4b75ff&#x27;, &#x27;#cf4b75ff&#x27;, &#x27;#cf4c74ff&#x27;, &#x27;#d04c74ff&#x27;, &#x27;#d04d73ff&#x27;, &#x27;#d14d73ff&#x27;, &#x27;#d14e72ff&#x27;, &#x27;#d24e72ff&#x27;, &#x27;#d24f71ff&#x27;, &#x27;#d35071ff&#x27;, &#x27;#d35171ff&#x27;, &#x27;#d45170ff&#x27;, &#x27;#d45270ff&#x27;, &#x27;#d5526fff&#x27;, &#x27;#d5536fff&#x27;, &#x27;#d5536eff&#x27;, &#x27;#d5546eff&#x27;, &#x27;#d6546dff&#x27;, &#x27;#d6556dff&#x27;, &#x27;#d7556cff&#x27;, &#x27;#d7566cff&#x27;, &#x27;#d8566bff&#x27;, &#x27;#d8576bff&#x27;, &#x27;#d9576aff&#x27;, &#x27;#d9586aff&#x27;, &#x27;#da596aff&#x27;, &#x27;#da5a6aff&#x27;, &#x27;#da5a69ff&#x27;, &#x27;#da5b69ff&#x27;, &#x27;#db5c68ff&#x27;, &#x27;#dc5c68ff&#x27;, &#x27;#dc5d67ff&#x27;, &#x27;#dd5d67ff&#x27;, &#x27;#dd5e66ff&#x27;, &#x27;#de5e66ff&#x27;, &#x27;#de5f65ff&#x27;, &#x27;#de5f65ff&#x27;, &#x27;#de6064ff&#x27;, &#x27;#df6164ff&#x27;, &#x27;#df6263ff&#x27;, &#x27;#e06263ff&#x27;, &#x27;#e06363ff&#x27;, &#x27;#e16363ff&#x27;, &#x27;#e16462ff&#x27;, &#x27;#e26462ff&#x27;, &#x27;#e26561ff&#x27;, &#x27;#e26561ff&#x27;, &#x27;#e26660ff&#x27;, &#x27;#e36760ff&#x27;, &#x27;#e3685fff&#x27;, &#x27;#e4685eff&#x27;, &#x27;#e4695eff&#x27;, &#x27;#e5695dff&#x27;, &#x27;#e56a5dff&#x27;, &#x27;#e56a5dff&#x27;, &#x27;#e56b5dff&#x27;, &#x27;#e66b5cff&#x27;, &#x27;#e66c5cff&#x27;, &#x27;#e76d5bff&#x27;, &#x27;#e76e5bff&#x27;, &#x27;#e76e5aff&#x27;, &#x27;#e76f5aff&#x27;, &#x27;#e86f59ff&#x27;, &#x27;#e87059ff&#x27;, &#x27;#e97058ff&#x27;, &#x27;#e97158ff&#x27;, &#x27;#e97157ff&#x27;, &#x27;#e97257ff&#x27;, &#x27;#ea7357ff&#x27;, &#x27;#eb7457ff&#x27;, &#x27;#eb7556ff&#x27;, &#x27;#eb7556ff&#x27;, &#x27;#eb7655ff&#x27;, &#x27;#ec7655ff&#x27;, &#x27;#ec7754ff&#x27;, &#x27;#ed7754ff&#x27;, &#x27;#ed7853ff&#x27;, &#x27;#ed7953ff&#x27;, &#x27;#ed7a52ff&#x27;, &#x27;#ee7a52ff&#x27;, &#x27;#ee7b51ff&#x27;, &#x27;#ef7b51ff&#x27;, &#x27;#ef7c51ff&#x27;, &#x27;#ef7c51ff&#x27;, &#x27;#ef7d50ff&#x27;, &#x27;#f07e50ff&#x27;, &#x27;#f07f4fff&#x27;, &#x27;#f07f4fff&#x27;, &#x27;#f0804eff&#x27;, &#x27;#f1804eff&#x27;, &#x27;#f1814dff&#x27;, &#x27;#f1824cff&#x27;, &#x27;#f1834cff&#x27;, &#x27;#f2834bff&#x27;, &#x27;#f2844bff&#x27;, &#x27;#f3844bff&#x27;, &#x27;#f3854bff&#x27;, &#x27;#f3864aff&#x27;, &#x27;#f3874aff&#x27;, &#x27;#f48749ff&#x27;, &#x27;#f48849ff&#x27;, &#x27;#f48848ff&#x27;, &#x27;#f48948ff&#x27;, &#x27;#f58a47ff&#x27;, &#x27;#f58b47ff&#x27;, &#x27;#f58c46ff&#x27;, &#x27;#f58c46ff&#x27;, &#x27;#f68d45ff&#x27;, &#x27;#f68d45ff&#x27;, &#x27;#f68e44ff&#x27;, &#x27;#f68f44ff&#x27;, &#x27;#f79044ff&#x27;, &#x27;#f79044ff&#x27;, &#x27;#f79143ff&#x27;, &#x27;#f79143ff&#x27;, &#x27;#f79242ff&#x27;, &#x27;#f89342ff&#x27;, &#x27;#f89441ff&#x27;, &#x27;#f89441ff&#x27;, &#x27;#f89540ff&#x27;, &#x27;#f99540ff&#x27;, &#x27;#f9963fff&#x27;, &#x27;#f9973fff&#x27;, &#x27;#f9983eff&#x27;, &#x27;#f9983eff&#x27;, &#x27;#f99a3eff&#x27;, &#x27;#fa9a3eff&#x27;, &#x27;#fa9b3dff&#x27;, &#x27;#fa9b3dff&#x27;, &#x27;#fa9c3cff&#x27;, &#x27;#fa9d3bff&#x27;, &#x27;#fa9e3bff&#x27;, &#x27;#fb9e3aff&#x27;, &#x27;#fb9f3aff&#x27;, &#x27;#fba039ff&#x27;, &#x27;#fba139ff&#x27;, &#x27;#fba138ff&#x27;, &#x27;#fba238ff&#x27;, &#x27;#fca238ff&#x27;, &#x27;#fca338ff&#x27;, &#x27;#fca437ff&#x27;, &#x27;#fca537ff&#x27;, &#x27;#fca636ff&#x27;, &#x27;#fca636ff&#x27;, &#x27;#fca735ff&#x27;, &#x27;#fca835ff&#x27;, &#x27;#fca934ff&#x27;, &#x27;#fca934ff&#x27;, &#x27;#fdaa33ff&#x27;, &#x27;#fdab33ff&#x27;, &#x27;#fdac33ff&#x27;, &#x27;#fdac33ff&#x27;, &#x27;#fdad32ff&#x27;, &#x27;#fdae32ff&#x27;, &#x27;#fdaf31ff&#x27;, &#x27;#fdaf31ff&#x27;, &#x27;#fdb030ff&#x27;, &#x27;#fdb130ff&#x27;, &#x27;#fdb22fff&#x27;, &#x27;#fdb22fff&#x27;, &#x27;#fdb32fff&#x27;, &#x27;#fdb42fff&#x27;, &#x27;#fdb52eff&#x27;, &#x27;#feb52eff&#x27;, &#x27;#feb62dff&#x27;, &#x27;#feb72dff&#x27;, &#x27;#feb82cff&#x27;, &#x27;#feb92cff&#x27;, &#x27;#feba2cff&#x27;, &#x27;#feba2bff&#x27;, &#x27;#febb2bff&#x27;, &#x27;#febc2aff&#x27;, &#x27;#febd2aff&#x27;, &#x27;#febd2aff&#x27;, &#x27;#febe2aff&#x27;, &#x27;#febf29ff&#x27;, &#x27;#fec029ff&#x27;, &#x27;#fec129ff&#x27;, &#x27;#fec229ff&#x27;, &#x27;#fdc328ff&#x27;, &#x27;#fdc328ff&#x27;, &#x27;#fdc427ff&#x27;, &#x27;#fdc527ff&#x27;, &#x27;#fdc627ff&#x27;, &#x27;#fdc627ff&#x27;, &#x27;#fdc727ff&#x27;, &#x27;#fdc827ff&#x27;, &#x27;#fdc926ff&#x27;, &#x27;#fdca26ff&#x27;, &#x27;#fdcb26ff&#x27;, &#x27;#fdcb26ff&#x27;, &#x27;#fdcc25ff&#x27;, &#x27;#fdcd25ff&#x27;, &#x27;#fcce25ff&#x27;, &#x27;#fcce25ff&#x27;, &#x27;#fccf25ff&#x27;, &#x27;#fcd025ff&#x27;, &#x27;#fcd125ff&#x27;, &#x27;#fcd225ff&#x27;, &#x27;#fcd324ff&#x27;, &#x27;#fbd324ff&#x27;, &#x27;#fbd424ff&#x27;, &#x27;#fbd524ff&#x27;, &#x27;#fbd624ff&#x27;, &#x27;#fbd724ff&#x27;, &#x27;#fbd824ff&#x27;, &#x27;#fad924ff&#x27;, &#x27;#fada24ff&#x27;, &#x27;#fadb24ff&#x27;, &#x27;#fadc24ff&#x27;, &#x27;#f9dc24ff&#x27;, &#x27;#f9dd24ff&#x27;, &#x27;#f9de25ff&#x27;, &#x27;#f9df25ff&#x27;, &#x27;#f8e025ff&#x27;, &#x27;#f8e125ff&#x27;, &#x27;#f8e225ff&#x27;, &#x27;#f8e225ff&#x27;, &#x27;#f7e325ff&#x27;, &#x27;#f7e425ff&#x27;, &#x27;#f7e525ff&#x27;, &#x27;#f7e625ff&#x27;, &#x27;#f6e726ff&#x27;, &#x27;#f6e826ff&#x27;, &#x27;#f6e926ff&#x27;, &#x27;#f6e926ff&#x27;, &#x27;#f5ea26ff&#x27;, &#x27;#f5eb26ff&#x27;, &#x27;#f5ec27ff&#x27;, &#x27;#f5ed27ff&#x27;, &#x27;#f4ee27ff&#x27;, &#x27;#f4ee27ff&#x27;, &#x27;#f3ef27ff&#x27;, &#x27;#f3f027ff&#x27;, &#x27;#f3f127ff&#x27;, &#x27;#f3f227ff&#x27;, &#x27;#f2f326ff&#x27;, &#x27;#f2f426ff&#x27;, &#x27;#f1f525ff&#x27;, &#x27;#f1f525ff&#x27;, &#x27;#f1f624ff&#x27;, &#x27;#f0f724ff&#x27;, &#x27;#f0f822ff&#x27;, &#x27;#f0f921ff&#x27;]);\n",
       "    \n",
       "\n",
       "    color_map_5ea5908c6bc808cefb52cc9d9bf33e8b.x = d3.scale.linear()\n",
       "              .domain([0.0, 9.243])\n",
       "              .range([0, 450 - 50]);\n",
       "\n",
       "    color_map_5ea5908c6bc808cefb52cc9d9bf33e8b.legend = L.control({position: &#x27;topright&#x27;});\n",
       "    color_map_5ea5908c6bc808cefb52cc9d9bf33e8b.legend.onAdd = function (map) {var div = L.DomUtil.create(&#x27;div&#x27;, &#x27;legend&#x27;); return div};\n",
       "    color_map_5ea5908c6bc808cefb52cc9d9bf33e8b.legend.addTo(map_0165c4f7fc721a8f45870a676203ce21);\n",
       "\n",
       "    color_map_5ea5908c6bc808cefb52cc9d9bf33e8b.xAxis = d3.svg.axis()\n",
       "        .scale(color_map_5ea5908c6bc808cefb52cc9d9bf33e8b.x)\n",
       "        .orient(&quot;top&quot;)\n",
       "        .tickSize(1)\n",
       "        .tickValues([0.0, &#x27;&#x27;, &#x27;&#x27;, &#x27;&#x27;, &#x27;&#x27;, &#x27;&#x27;, &#x27;&#x27;, &#x27;&#x27;, &#x27;&#x27;, &#x27;&#x27;, &#x27;&#x27;, &#x27;&#x27;, &#x27;&#x27;, &#x27;&#x27;, &#x27;&#x27;, &#x27;&#x27;, &#x27;&#x27;, &#x27;&#x27;, &#x27;&#x27;, &#x27;&#x27;, &#x27;&#x27;, &#x27;&#x27;, &#x27;&#x27;, &#x27;&#x27;, &#x27;&#x27;, &#x27;&#x27;, 0.9424235294117648, &#x27;&#x27;, &#x27;&#x27;, &#x27;&#x27;, &#x27;&#x27;, &#x27;&#x27;, &#x27;&#x27;, &#x27;&#x27;, &#x27;&#x27;, &#x27;&#x27;, &#x27;&#x27;, &#x27;&#x27;, &#x27;&#x27;, &#x27;&#x27;, &#x27;&#x27;, &#x27;&#x27;, &#x27;&#x27;, &#x27;&#x27;, &#x27;&#x27;, &#x27;&#x27;, &#x27;&#x27;, &#x27;&#x27;, &#x27;&#x27;, &#x27;&#x27;, &#x27;&#x27;, &#x27;&#x27;, 1.8848470588235295, &#x27;&#x27;, &#x27;&#x27;, &#x27;&#x27;, &#x27;&#x27;, &#x27;&#x27;, &#x27;&#x27;, &#x27;&#x27;, &#x27;&#x27;, &#x27;&#x27;, &#x27;&#x27;, &#x27;&#x27;, &#x27;&#x27;, &#x27;&#x27;, &#x27;&#x27;, &#x27;&#x27;, &#x27;&#x27;, &#x27;&#x27;, &#x27;&#x27;, &#x27;&#x27;, &#x27;&#x27;, &#x27;&#x27;, &#x27;&#x27;, &#x27;&#x27;, &#x27;&#x27;, &#x27;&#x27;, 2.827270588235294, &#x27;&#x27;, &#x27;&#x27;, &#x27;&#x27;, &#x27;&#x27;, &#x27;&#x27;, &#x27;&#x27;, &#x27;&#x27;, &#x27;&#x27;, &#x27;&#x27;, &#x27;&#x27;, &#x27;&#x27;, &#x27;&#x27;, &#x27;&#x27;, &#x27;&#x27;, &#x27;&#x27;, &#x27;&#x27;, &#x27;&#x27;, &#x27;&#x27;, &#x27;&#x27;, &#x27;&#x27;, &#x27;&#x27;, &#x27;&#x27;, &#x27;&#x27;, &#x27;&#x27;, &#x27;&#x27;, 3.769694117647059, &#x27;&#x27;, &#x27;&#x27;, &#x27;&#x27;, &#x27;&#x27;, &#x27;&#x27;, &#x27;&#x27;, &#x27;&#x27;, &#x27;&#x27;, &#x27;&#x27;, &#x27;&#x27;, &#x27;&#x27;, &#x27;&#x27;, &#x27;&#x27;, &#x27;&#x27;, &#x27;&#x27;, &#x27;&#x27;, &#x27;&#x27;, &#x27;&#x27;, &#x27;&#x27;, &#x27;&#x27;, &#x27;&#x27;, &#x27;&#x27;, &#x27;&#x27;, &#x27;&#x27;, &#x27;&#x27;, 4.712117647058824, &#x27;&#x27;, &#x27;&#x27;, &#x27;&#x27;, &#x27;&#x27;, &#x27;&#x27;, &#x27;&#x27;, &#x27;&#x27;, &#x27;&#x27;, &#x27;&#x27;, &#x27;&#x27;, &#x27;&#x27;, &#x27;&#x27;, &#x27;&#x27;, &#x27;&#x27;, &#x27;&#x27;, &#x27;&#x27;, &#x27;&#x27;, &#x27;&#x27;, &#x27;&#x27;, &#x27;&#x27;, &#x27;&#x27;, &#x27;&#x27;, &#x27;&#x27;, &#x27;&#x27;, &#x27;&#x27;, 5.654541176470588, &#x27;&#x27;, &#x27;&#x27;, &#x27;&#x27;, &#x27;&#x27;, &#x27;&#x27;, &#x27;&#x27;, &#x27;&#x27;, &#x27;&#x27;, &#x27;&#x27;, &#x27;&#x27;, &#x27;&#x27;, &#x27;&#x27;, &#x27;&#x27;, &#x27;&#x27;, &#x27;&#x27;, &#x27;&#x27;, &#x27;&#x27;, &#x27;&#x27;, &#x27;&#x27;, &#x27;&#x27;, &#x27;&#x27;, &#x27;&#x27;, &#x27;&#x27;, &#x27;&#x27;, &#x27;&#x27;, 6.596964705882353, &#x27;&#x27;, &#x27;&#x27;, &#x27;&#x27;, &#x27;&#x27;, &#x27;&#x27;, &#x27;&#x27;, &#x27;&#x27;, &#x27;&#x27;, &#x27;&#x27;, &#x27;&#x27;, &#x27;&#x27;, &#x27;&#x27;, &#x27;&#x27;, &#x27;&#x27;, &#x27;&#x27;, &#x27;&#x27;, &#x27;&#x27;, &#x27;&#x27;, &#x27;&#x27;, &#x27;&#x27;, &#x27;&#x27;, &#x27;&#x27;, &#x27;&#x27;, &#x27;&#x27;, &#x27;&#x27;, 7.539388235294118, &#x27;&#x27;, &#x27;&#x27;, &#x27;&#x27;, &#x27;&#x27;, &#x27;&#x27;, &#x27;&#x27;, &#x27;&#x27;, &#x27;&#x27;, &#x27;&#x27;, &#x27;&#x27;, &#x27;&#x27;, &#x27;&#x27;, &#x27;&#x27;, &#x27;&#x27;, &#x27;&#x27;, &#x27;&#x27;, &#x27;&#x27;, &#x27;&#x27;, &#x27;&#x27;, &#x27;&#x27;, &#x27;&#x27;, &#x27;&#x27;, &#x27;&#x27;, &#x27;&#x27;, &#x27;&#x27;, 8.481811764705883, &#x27;&#x27;, &#x27;&#x27;, &#x27;&#x27;, &#x27;&#x27;, &#x27;&#x27;, &#x27;&#x27;, &#x27;&#x27;, &#x27;&#x27;, &#x27;&#x27;, &#x27;&#x27;, &#x27;&#x27;, &#x27;&#x27;, &#x27;&#x27;, &#x27;&#x27;, &#x27;&#x27;, &#x27;&#x27;, &#x27;&#x27;, &#x27;&#x27;, &#x27;&#x27;, &#x27;&#x27;, &#x27;&#x27;, &#x27;&#x27;, &#x27;&#x27;, &#x27;&#x27;, &#x27;&#x27;]);\n",
       "\n",
       "    color_map_5ea5908c6bc808cefb52cc9d9bf33e8b.svg = d3.select(&quot;.legend.leaflet-control&quot;).append(&quot;svg&quot;)\n",
       "        .attr(&quot;id&quot;, &#x27;legend&#x27;)\n",
       "        .attr(&quot;width&quot;, 450)\n",
       "        .attr(&quot;height&quot;, 40);\n",
       "\n",
       "    color_map_5ea5908c6bc808cefb52cc9d9bf33e8b.g = color_map_5ea5908c6bc808cefb52cc9d9bf33e8b.svg.append(&quot;g&quot;)\n",
       "        .attr(&quot;class&quot;, &quot;key&quot;)\n",
       "        .attr(&quot;transform&quot;, &quot;translate(25,16)&quot;);\n",
       "\n",
       "    color_map_5ea5908c6bc808cefb52cc9d9bf33e8b.g.selectAll(&quot;rect&quot;)\n",
       "        .data(color_map_5ea5908c6bc808cefb52cc9d9bf33e8b.color.range().map(function(d, i) {\n",
       "          return {\n",
       "            x0: i ? color_map_5ea5908c6bc808cefb52cc9d9bf33e8b.x(color_map_5ea5908c6bc808cefb52cc9d9bf33e8b.color.domain()[i - 1]) : color_map_5ea5908c6bc808cefb52cc9d9bf33e8b.x.range()[0],\n",
       "            x1: i &lt; color_map_5ea5908c6bc808cefb52cc9d9bf33e8b.color.domain().length ? color_map_5ea5908c6bc808cefb52cc9d9bf33e8b.x(color_map_5ea5908c6bc808cefb52cc9d9bf33e8b.color.domain()[i]) : color_map_5ea5908c6bc808cefb52cc9d9bf33e8b.x.range()[1],\n",
       "            z: d\n",
       "          };\n",
       "        }))\n",
       "      .enter().append(&quot;rect&quot;)\n",
       "        .attr(&quot;height&quot;, 40 - 30)\n",
       "        .attr(&quot;x&quot;, function(d) { return d.x0; })\n",
       "        .attr(&quot;width&quot;, function(d) { return d.x1 - d.x0; })\n",
       "        .style(&quot;fill&quot;, function(d) { return d.z; });\n",
       "\n",
       "    color_map_5ea5908c6bc808cefb52cc9d9bf33e8b.g.call(color_map_5ea5908c6bc808cefb52cc9d9bf33e8b.xAxis).append(&quot;text&quot;)\n",
       "        .attr(&quot;class&quot;, &quot;caption&quot;)\n",
       "        .attr(&quot;y&quot;, 21)\n",
       "        .text(&quot;DryYield&quot;);\n",
       "&lt;/script&gt;\n",
       "&lt;/html&gt;\" style=\"position:absolute;width:100%;height:100%;left:0;top:0;border:none !important;\" allowfullscreen webkitallowfullscreen mozallowfullscreen></iframe></div></div>"
      ],
      "text/plain": [
       "<folium.folium.Map at 0x7f83f3fb3dc0>"
      ]
     },
     "execution_count": 8,
     "metadata": {},
     "output_type": "execute_result"
    }
   ],
   "source": [
    "# Import modules\n",
    "import os\n",
    "import pandas as pd\n",
    "import geopandas as gpd\n",
    "import plotly.express as px\n",
    "\n",
    "# Load the canola yield data from the harvester\n",
    "harvester_data_path = os.path.join(os.getcwd(), \"week-1\")\n",
    "\n",
    "# Get a list of canola yield data\n",
    "harvester_data_files = os.listdir(harvester_data_path)\n",
    "\n",
    "# Check we have a list of csv files\n",
    "print(harvester_data_files)\n",
    "\n",
    "# Combine the csv files into one data frame\n",
    "dfs = []\n",
    "\n",
    "for i in harvester_data_files:\n",
    "    if i.endswith(\".csv\"):\n",
    "        print(f\"Loading file {i} into a Pandas DataFrame\")\n",
    "        tmp_df = pd.read_csv(os.path.join(harvester_data_path, i))\n",
    "        dfs.append(tmp_df)\n",
    "\n",
    "df = pd.concat(dfs, axis=0)\n",
    "\n",
    "# Inspect the yield data format\n",
    "# Display the first n rows\n",
    "df.head()\n",
    "\n",
    "# Transform the yield data to a spatial format\n",
    "points = gpd.points_from_xy(df[\"Longitude\"], df[\"Latitude\"], crs=\"EPSG:4326\")\n",
    "gdf = gpd.GeoDataFrame(df, geometry=points)\n",
    "\n",
    "# Visualise the crop yield data on a web map\n",
    "basemap = \"https://server.arcgisonline.com/ArcGIS/rest/services/World_Imagery/MapServer/tile/{z}/{y}/{x}\"\n",
    "attribution = \"Tiles &copy; Esri &mdash; Source: Esri, i-cubed, USDA, USGS, AEX, GeoEye, Getmapping, Aerogrid, IGN, IGP, UPR-EGP, and the GIS User Community\"\n",
    "gdf.explore(column=\"DryYield\", cmap=\"plasma\", tooltip=\"DryYield\", tiles=basemap, attr=attribution)\n"
   ]
  },
  {
   "cell_type": "code",
   "execution_count": 9,
   "id": "a000ddbe-cf1d-4974-93b7-e75f44ff9329",
   "metadata": {},
   "outputs": [
    {
     "data": {
      "application/vnd.plotly.v1+json": {
       "config": {
        "plotlyServerURL": "https://plot.ly"
       },
       "data": [
        {
         "alignmentgroup": "True",
         "bingroup": "x",
         "hovertemplate": "sample_id=bf66_sample_1<br>DryYield=%{x}<br>count=%{y}<extra></extra>",
         "legendgroup": "bf66_sample_1",
         "marker": {
          "color": "#636efa",
          "pattern": {
           "shape": ""
          }
         },
         "name": "bf66_sample_1",
         "offsetgroup": "bf66_sample_1",
         "orientation": "v",
         "showlegend": true,
         "type": "histogram",
         "x": [
          0.227,
          0.372,
          0.651,
          0.923,
          1.216,
          0.915,
          1.188,
          0.881,
          1.529,
          0.546,
          0.571,
          0.838,
          0.18,
          0.128,
          0.265,
          0.174,
          0.139,
          0.569,
          1.306,
          1.013,
          0.906,
          0.835,
          0.195,
          0.321,
          0.795,
          0.993,
          1.195,
          1.439,
          1.037,
          0.287,
          0.283,
          0.331,
          0.406,
          0.804,
          0.766,
          0.935,
          0.258,
          0.524,
          0.241,
          0.587,
          0.483,
          0.636,
          1.043,
          0.815,
          1.039,
          1.3,
          1.17,
          0.146,
          0.362,
          0.241,
          0.095,
          0.365,
          0.333,
          0.316,
          0.497,
          0.393,
          0.741,
          0.881,
          0.972,
          0.606,
          0.567,
          0.715,
          0.696,
          0.857,
          0.784,
          0.599,
          0.754,
          0.512,
          0.821,
          0.687,
          0.327,
          0.409,
          0.165,
          0.367,
          0.065,
          0.78,
          0.491,
          0.379,
          0.452,
          0.232,
          0.359,
          0.648,
          0.697,
          0.726,
          0.956,
          0.447,
          0.646,
          0.651,
          0.799,
          0.212,
          1.114,
          0.913,
          0.801,
          0.873,
          0.769,
          0.112,
          0.19,
          0.626,
          0.334,
          0.618,
          0.79,
          0.887,
          0.622,
          0.685,
          0.81,
          0.723,
          0.872,
          1.101,
          0.809,
          0.344,
          0.669,
          0.296,
          0.196,
          0.288,
          0.168,
          0.137,
          0.13,
          0.122,
          0.497,
          0.897,
          0.811,
          0.411,
          0.6,
          0.812,
          0.424,
          0.5,
          0.633,
          0.727,
          0.49,
          0.613,
          0.655,
          0.52,
          0.942,
          0.444,
          0.429,
          0.464,
          0.954,
          0.635,
          1.001,
          0.431,
          0.476,
          0.499,
          0.395,
          0.974,
          1.28,
          0.619,
          0.457,
          0.484,
          0.356,
          0.682,
          0.488,
          0.646,
          0.8,
          0.488,
          0.45,
          0.13,
          0.439,
          0.458,
          0.595,
          1.26,
          0.721,
          0.583,
          0.351,
          0.406,
          0.296,
          0.199,
          0.122,
          0.366,
          0.413,
          0.287,
          0.671,
          0.161,
          0.204,
          0.164,
          0.336,
          0.519,
          0.546,
          0.548,
          0.47,
          0.46,
          0.508,
          0.521,
          0,
          0.544,
          0.803,
          0.611,
          0.841,
          0.372,
          0.103,
          0.384,
          0.357,
          0.682,
          0.598,
          0.778,
          0.37,
          0.374,
          0.345,
          0.435,
          0.66,
          0.025,
          0.591,
          0.382,
          0.194,
          0.207,
          0.137,
          0.459,
          0.588,
          0.758,
          0.398,
          0.149,
          0.269,
          0.234,
          0.378,
          0.296,
          0.487,
          0.625,
          0.797,
          0.452,
          0.568,
          0.465,
          0.603,
          0.426,
          0.476,
          0.522,
          0.274,
          0.389,
          0.286,
          0.588,
          0.406,
          0.415,
          0.403,
          0.471,
          0.459,
          0.847,
          0.762,
          0.163,
          0.344,
          0.563,
          0.351,
          0.635,
          0.793,
          0.493,
          0.331,
          0.525,
          0.887,
          0.366,
          0.223,
          0.591,
          0.915,
          1.328,
          0.866,
          1.028,
          0.559,
          0.353,
          0.483,
          0.922,
          0.765,
          0.382,
          0.484,
          0.406,
          0.46,
          0.409,
          0.534,
          1.072,
          0.479,
          0.664,
          0.61,
          0.618,
          0.721,
          0.593,
          0.464,
          0.543,
          1.113,
          0.594,
          0.363,
          0.751,
          1.075,
          0.483,
          1.025,
          0.713,
          0.831,
          0.556,
          0.564,
          0.633,
          0.747,
          0.487,
          1.112,
          0.871,
          1.117,
          1.34,
          1.027,
          0.531,
          0.573,
          0.807,
          1.131,
          0.632,
          0.631,
          0.338,
          0.523,
          0.989,
          0.923,
          0.191,
          0.428,
          0.467,
          0.776,
          0.437,
          0.761,
          0.912,
          0.706,
          0.543,
          0.411,
          0.959,
          0.828,
          0.653,
          0.646,
          0.75,
          0.912,
          0.976,
          0.802,
          0.452,
          0.339,
          0.151,
          0.476,
          0.342,
          0.612,
          0.837,
          0.986,
          0.755,
          0.553,
          0.735,
          0.486,
          0.549,
          0.725,
          0.687,
          0,
          0.791,
          0.726,
          0.961,
          1.207,
          1.092,
          0.503,
          0.592,
          0.316,
          1.217,
          1.13,
          1.364,
          0.848,
          0.736,
          1.166,
          1.066,
          0.862,
          0.73,
          1.227,
          1.114,
          1.216,
          0.781,
          0.907,
          0.551,
          0.497,
          0.472,
          0.57,
          1.11,
          1.174,
          0.975,
          0.823,
          0.661,
          1.178,
          0.822,
          0.921,
          1.099,
          0.615,
          1.116,
          0.597,
          0.413,
          0.37,
          0.474,
          0.383,
          0.627,
          1.115,
          1.128,
          1.21,
          0.856,
          0.465,
          0.73,
          0.613,
          0.59,
          1.012,
          0.923,
          1.349,
          0.995,
          0.619,
          0.414,
          0.576,
          0.459,
          0.387,
          0.663,
          0.765,
          1.216,
          0.901,
          0.856,
          0.789,
          0.67,
          0.683,
          0.821,
          1.056,
          1.16,
          0.362,
          0.298,
          0.227,
          0.5,
          0.309,
          0.346,
          0.615,
          0.902,
          0.694,
          0.661,
          0.675,
          0.623,
          0.415,
          0.777,
          0.779,
          0.842,
          0.993,
          0.617,
          0.599,
          0.306,
          0.476,
          0.432,
          0.477,
          0.551,
          0.825,
          0.848,
          0.67,
          0.777,
          0.635,
          0.157,
          0.537,
          0.7,
          0.748,
          0.972,
          0.879,
          1.016,
          0.844,
          0.509,
          0.53,
          0.555,
          0.401,
          0.6,
          0.874,
          0.894,
          1.012,
          0.872,
          1.122,
          0.801,
          0.967,
          0.909,
          0.776,
          1.113,
          1.099,
          0.863,
          0.448,
          0.508,
          0.751,
          0.448,
          0.747,
          1.016,
          1.09,
          0.76,
          0.756,
          0.598,
          0.816,
          0.557,
          0.669,
          0.902,
          1.12,
          0.389,
          0.253,
          0.349,
          0.272,
          0.31,
          0.642,
          0.841,
          0.802,
          0.773,
          0.498,
          0.63,
          0.501,
          0.628,
          0.546,
          0.735,
          0.668,
          0.888,
          0.772,
          0.794,
          0.531,
          0.217,
          0.455,
          0.476,
          0.392,
          0.649
         ],
         "xaxis": "x",
         "yaxis": "y"
        },
        {
         "alignmentgroup": "True",
         "boxpoints": "all",
         "fillcolor": "rgba(255,255,255,0)",
         "hoveron": "points",
         "hovertemplate": "sample_id=bf66_sample_1<br>DryYield=%{x}<extra></extra>",
         "jitter": 0,
         "legendgroup": "bf66_sample_1",
         "line": {
          "color": "rgba(255,255,255,0)"
         },
         "marker": {
          "color": "#636efa",
          "symbol": "line-ns-open"
         },
         "name": "bf66_sample_1",
         "offsetgroup": "bf66_sample_1",
         "showlegend": false,
         "type": "box",
         "x": [
          0.227,
          0.372,
          0.651,
          0.923,
          1.216,
          0.915,
          1.188,
          0.881,
          1.529,
          0.546,
          0.571,
          0.838,
          0.18,
          0.128,
          0.265,
          0.174,
          0.139,
          0.569,
          1.306,
          1.013,
          0.906,
          0.835,
          0.195,
          0.321,
          0.795,
          0.993,
          1.195,
          1.439,
          1.037,
          0.287,
          0.283,
          0.331,
          0.406,
          0.804,
          0.766,
          0.935,
          0.258,
          0.524,
          0.241,
          0.587,
          0.483,
          0.636,
          1.043,
          0.815,
          1.039,
          1.3,
          1.17,
          0.146,
          0.362,
          0.241,
          0.095,
          0.365,
          0.333,
          0.316,
          0.497,
          0.393,
          0.741,
          0.881,
          0.972,
          0.606,
          0.567,
          0.715,
          0.696,
          0.857,
          0.784,
          0.599,
          0.754,
          0.512,
          0.821,
          0.687,
          0.327,
          0.409,
          0.165,
          0.367,
          0.065,
          0.78,
          0.491,
          0.379,
          0.452,
          0.232,
          0.359,
          0.648,
          0.697,
          0.726,
          0.956,
          0.447,
          0.646,
          0.651,
          0.799,
          0.212,
          1.114,
          0.913,
          0.801,
          0.873,
          0.769,
          0.112,
          0.19,
          0.626,
          0.334,
          0.618,
          0.79,
          0.887,
          0.622,
          0.685,
          0.81,
          0.723,
          0.872,
          1.101,
          0.809,
          0.344,
          0.669,
          0.296,
          0.196,
          0.288,
          0.168,
          0.137,
          0.13,
          0.122,
          0.497,
          0.897,
          0.811,
          0.411,
          0.6,
          0.812,
          0.424,
          0.5,
          0.633,
          0.727,
          0.49,
          0.613,
          0.655,
          0.52,
          0.942,
          0.444,
          0.429,
          0.464,
          0.954,
          0.635,
          1.001,
          0.431,
          0.476,
          0.499,
          0.395,
          0.974,
          1.28,
          0.619,
          0.457,
          0.484,
          0.356,
          0.682,
          0.488,
          0.646,
          0.8,
          0.488,
          0.45,
          0.13,
          0.439,
          0.458,
          0.595,
          1.26,
          0.721,
          0.583,
          0.351,
          0.406,
          0.296,
          0.199,
          0.122,
          0.366,
          0.413,
          0.287,
          0.671,
          0.161,
          0.204,
          0.164,
          0.336,
          0.519,
          0.546,
          0.548,
          0.47,
          0.46,
          0.508,
          0.521,
          0,
          0.544,
          0.803,
          0.611,
          0.841,
          0.372,
          0.103,
          0.384,
          0.357,
          0.682,
          0.598,
          0.778,
          0.37,
          0.374,
          0.345,
          0.435,
          0.66,
          0.025,
          0.591,
          0.382,
          0.194,
          0.207,
          0.137,
          0.459,
          0.588,
          0.758,
          0.398,
          0.149,
          0.269,
          0.234,
          0.378,
          0.296,
          0.487,
          0.625,
          0.797,
          0.452,
          0.568,
          0.465,
          0.603,
          0.426,
          0.476,
          0.522,
          0.274,
          0.389,
          0.286,
          0.588,
          0.406,
          0.415,
          0.403,
          0.471,
          0.459,
          0.847,
          0.762,
          0.163,
          0.344,
          0.563,
          0.351,
          0.635,
          0.793,
          0.493,
          0.331,
          0.525,
          0.887,
          0.366,
          0.223,
          0.591,
          0.915,
          1.328,
          0.866,
          1.028,
          0.559,
          0.353,
          0.483,
          0.922,
          0.765,
          0.382,
          0.484,
          0.406,
          0.46,
          0.409,
          0.534,
          1.072,
          0.479,
          0.664,
          0.61,
          0.618,
          0.721,
          0.593,
          0.464,
          0.543,
          1.113,
          0.594,
          0.363,
          0.751,
          1.075,
          0.483,
          1.025,
          0.713,
          0.831,
          0.556,
          0.564,
          0.633,
          0.747,
          0.487,
          1.112,
          0.871,
          1.117,
          1.34,
          1.027,
          0.531,
          0.573,
          0.807,
          1.131,
          0.632,
          0.631,
          0.338,
          0.523,
          0.989,
          0.923,
          0.191,
          0.428,
          0.467,
          0.776,
          0.437,
          0.761,
          0.912,
          0.706,
          0.543,
          0.411,
          0.959,
          0.828,
          0.653,
          0.646,
          0.75,
          0.912,
          0.976,
          0.802,
          0.452,
          0.339,
          0.151,
          0.476,
          0.342,
          0.612,
          0.837,
          0.986,
          0.755,
          0.553,
          0.735,
          0.486,
          0.549,
          0.725,
          0.687,
          0,
          0.791,
          0.726,
          0.961,
          1.207,
          1.092,
          0.503,
          0.592,
          0.316,
          1.217,
          1.13,
          1.364,
          0.848,
          0.736,
          1.166,
          1.066,
          0.862,
          0.73,
          1.227,
          1.114,
          1.216,
          0.781,
          0.907,
          0.551,
          0.497,
          0.472,
          0.57,
          1.11,
          1.174,
          0.975,
          0.823,
          0.661,
          1.178,
          0.822,
          0.921,
          1.099,
          0.615,
          1.116,
          0.597,
          0.413,
          0.37,
          0.474,
          0.383,
          0.627,
          1.115,
          1.128,
          1.21,
          0.856,
          0.465,
          0.73,
          0.613,
          0.59,
          1.012,
          0.923,
          1.349,
          0.995,
          0.619,
          0.414,
          0.576,
          0.459,
          0.387,
          0.663,
          0.765,
          1.216,
          0.901,
          0.856,
          0.789,
          0.67,
          0.683,
          0.821,
          1.056,
          1.16,
          0.362,
          0.298,
          0.227,
          0.5,
          0.309,
          0.346,
          0.615,
          0.902,
          0.694,
          0.661,
          0.675,
          0.623,
          0.415,
          0.777,
          0.779,
          0.842,
          0.993,
          0.617,
          0.599,
          0.306,
          0.476,
          0.432,
          0.477,
          0.551,
          0.825,
          0.848,
          0.67,
          0.777,
          0.635,
          0.157,
          0.537,
          0.7,
          0.748,
          0.972,
          0.879,
          1.016,
          0.844,
          0.509,
          0.53,
          0.555,
          0.401,
          0.6,
          0.874,
          0.894,
          1.012,
          0.872,
          1.122,
          0.801,
          0.967,
          0.909,
          0.776,
          1.113,
          1.099,
          0.863,
          0.448,
          0.508,
          0.751,
          0.448,
          0.747,
          1.016,
          1.09,
          0.76,
          0.756,
          0.598,
          0.816,
          0.557,
          0.669,
          0.902,
          1.12,
          0.389,
          0.253,
          0.349,
          0.272,
          0.31,
          0.642,
          0.841,
          0.802,
          0.773,
          0.498,
          0.63,
          0.501,
          0.628,
          0.546,
          0.735,
          0.668,
          0.888,
          0.772,
          0.794,
          0.531,
          0.217,
          0.455,
          0.476,
          0.392,
          0.649
         ],
         "xaxis": "x2",
         "yaxis": "y2"
        },
        {
         "alignmentgroup": "True",
         "bingroup": "x",
         "hovertemplate": "sample_id=bf66_sample_2<br>DryYield=%{x}<br>count=%{y}<extra></extra>",
         "legendgroup": "bf66_sample_2",
         "marker": {
          "color": "#EF553B",
          "pattern": {
           "shape": ""
          }
         },
         "name": "bf66_sample_2",
         "offsetgroup": "bf66_sample_2",
         "orientation": "v",
         "showlegend": true,
         "type": "histogram",
         "x": [
          0.824,
          0.733,
          0.814,
          0.505,
          0.477,
          0.45,
          0.531,
          0.607,
          0.694,
          0.936,
          1.071,
          0.899,
          0.384,
          0.407,
          0.684,
          0.39,
          1.138,
          0.808,
          0.881,
          0.746,
          0.701,
          1.121,
          1.009,
          0.926,
          1.067,
          0.775,
          0.863,
          0.574,
          0.654,
          0.699,
          0.64,
          0.168,
          0.136,
          0.203,
          0.23,
          0.417,
          0.392,
          0.417,
          0.493,
          0.298,
          0.688,
          1.075,
          1.143,
          0.926,
          0.841,
          0.636,
          0.704,
          0.195,
          0.821,
          1.074,
          0.256,
          0.744,
          0.605,
          0.376,
          0.484,
          0.589,
          0.411,
          0.491,
          0.087,
          0.08,
          0.033,
          0.077,
          0.223,
          0.073,
          0.153,
          0.212,
          0.337,
          0.372,
          0.261,
          0.031,
          0.353,
          0.355,
          0.381,
          0.199,
          0.363,
          0.487,
          0.538,
          0.752,
          0.679,
          0.418,
          0.369,
          0.6,
          0.316,
          0.732,
          0.698,
          0.982,
          0.737,
          0.65,
          0.743,
          0.807,
          0.827,
          1.071,
          0.853,
          0.902,
          0.766,
          0.461,
          0.864,
          1.126,
          1.37,
          1.092,
          1.301,
          0.472,
          0.915,
          1.014,
          0.482,
          0.856,
          0.862,
          1.102,
          1.221,
          1.342,
          1.362,
          0.777,
          0.852,
          0.651,
          0.924,
          1.087,
          1.253,
          0.889,
          1.028,
          0.905,
          0.825,
          0.515,
          0.544,
          1.015,
          0.907,
          0.828,
          0.873,
          0.94,
          0.583,
          0.614,
          0.923,
          0.963,
          0.825,
          0.317,
          0.981,
          0.97,
          0.831,
          0.63,
          0.599,
          0.64,
          0.94,
          0.895,
          0.677,
          0.885,
          0.979,
          0.705,
          0.726,
          0.52,
          0.707,
          0.718,
          1.069,
          1.154,
          0.842,
          0.77,
          1.1,
          0.624,
          9.243,
          0.61,
          1.052,
          0.729,
          0.262,
          1.024,
          0.848,
          0.808,
          0.206,
          0.519,
          0.652,
          1.059,
          0.876,
          0.711,
          0.609,
          0.499,
          0.488,
          0.683,
          0.837,
          0.584,
          0.455,
          0.42,
          0.525,
          0.469,
          0.653,
          0.49,
          0.615,
          0.49,
          0.306,
          0.845,
          0.754,
          0.214,
          0.743,
          0.766,
          0.534,
          0.333,
          0.548,
          0.62,
          0.614,
          0.43,
          0.919,
          0.483,
          0.729,
          0.459,
          0.307,
          0.261,
          0.542,
          0.818,
          0.762,
          0.452,
          0.385,
          0.478,
          0.338,
          0.518,
          0.368,
          0,
          0.157,
          0.498,
          0.482,
          0,
          0.358,
          0.304,
          0.25,
          0.51,
          0.414,
          0.278,
          0.333,
          0.229,
          0.349,
          0.276,
          0.34,
          0.445,
          0.634,
          0.343,
          0.538,
          0.477,
          0.514,
          1.022,
          0.33,
          0.555,
          0.42,
          0.513,
          0.426,
          0.424,
          0.011,
          0.568,
          0.534,
          0.259,
          0.065,
          0.361,
          0.405,
          0.425,
          0.418,
          0.66
         ],
         "xaxis": "x",
         "yaxis": "y"
        },
        {
         "alignmentgroup": "True",
         "boxpoints": "all",
         "fillcolor": "rgba(255,255,255,0)",
         "hoveron": "points",
         "hovertemplate": "sample_id=bf66_sample_2<br>DryYield=%{x}<extra></extra>",
         "jitter": 0,
         "legendgroup": "bf66_sample_2",
         "line": {
          "color": "rgba(255,255,255,0)"
         },
         "marker": {
          "color": "#EF553B",
          "symbol": "line-ns-open"
         },
         "name": "bf66_sample_2",
         "offsetgroup": "bf66_sample_2",
         "showlegend": false,
         "type": "box",
         "x": [
          0.824,
          0.733,
          0.814,
          0.505,
          0.477,
          0.45,
          0.531,
          0.607,
          0.694,
          0.936,
          1.071,
          0.899,
          0.384,
          0.407,
          0.684,
          0.39,
          1.138,
          0.808,
          0.881,
          0.746,
          0.701,
          1.121,
          1.009,
          0.926,
          1.067,
          0.775,
          0.863,
          0.574,
          0.654,
          0.699,
          0.64,
          0.168,
          0.136,
          0.203,
          0.23,
          0.417,
          0.392,
          0.417,
          0.493,
          0.298,
          0.688,
          1.075,
          1.143,
          0.926,
          0.841,
          0.636,
          0.704,
          0.195,
          0.821,
          1.074,
          0.256,
          0.744,
          0.605,
          0.376,
          0.484,
          0.589,
          0.411,
          0.491,
          0.087,
          0.08,
          0.033,
          0.077,
          0.223,
          0.073,
          0.153,
          0.212,
          0.337,
          0.372,
          0.261,
          0.031,
          0.353,
          0.355,
          0.381,
          0.199,
          0.363,
          0.487,
          0.538,
          0.752,
          0.679,
          0.418,
          0.369,
          0.6,
          0.316,
          0.732,
          0.698,
          0.982,
          0.737,
          0.65,
          0.743,
          0.807,
          0.827,
          1.071,
          0.853,
          0.902,
          0.766,
          0.461,
          0.864,
          1.126,
          1.37,
          1.092,
          1.301,
          0.472,
          0.915,
          1.014,
          0.482,
          0.856,
          0.862,
          1.102,
          1.221,
          1.342,
          1.362,
          0.777,
          0.852,
          0.651,
          0.924,
          1.087,
          1.253,
          0.889,
          1.028,
          0.905,
          0.825,
          0.515,
          0.544,
          1.015,
          0.907,
          0.828,
          0.873,
          0.94,
          0.583,
          0.614,
          0.923,
          0.963,
          0.825,
          0.317,
          0.981,
          0.97,
          0.831,
          0.63,
          0.599,
          0.64,
          0.94,
          0.895,
          0.677,
          0.885,
          0.979,
          0.705,
          0.726,
          0.52,
          0.707,
          0.718,
          1.069,
          1.154,
          0.842,
          0.77,
          1.1,
          0.624,
          9.243,
          0.61,
          1.052,
          0.729,
          0.262,
          1.024,
          0.848,
          0.808,
          0.206,
          0.519,
          0.652,
          1.059,
          0.876,
          0.711,
          0.609,
          0.499,
          0.488,
          0.683,
          0.837,
          0.584,
          0.455,
          0.42,
          0.525,
          0.469,
          0.653,
          0.49,
          0.615,
          0.49,
          0.306,
          0.845,
          0.754,
          0.214,
          0.743,
          0.766,
          0.534,
          0.333,
          0.548,
          0.62,
          0.614,
          0.43,
          0.919,
          0.483,
          0.729,
          0.459,
          0.307,
          0.261,
          0.542,
          0.818,
          0.762,
          0.452,
          0.385,
          0.478,
          0.338,
          0.518,
          0.368,
          0,
          0.157,
          0.498,
          0.482,
          0,
          0.358,
          0.304,
          0.25,
          0.51,
          0.414,
          0.278,
          0.333,
          0.229,
          0.349,
          0.276,
          0.34,
          0.445,
          0.634,
          0.343,
          0.538,
          0.477,
          0.514,
          1.022,
          0.33,
          0.555,
          0.42,
          0.513,
          0.426,
          0.424,
          0.011,
          0.568,
          0.534,
          0.259,
          0.065,
          0.361,
          0.405,
          0.425,
          0.418,
          0.66
         ],
         "xaxis": "x2",
         "yaxis": "y2"
        },
        {
         "alignmentgroup": "True",
         "bingroup": "x",
         "hovertemplate": "sample_id=bf66_sample_3<br>DryYield=%{x}<br>count=%{y}<extra></extra>",
         "legendgroup": "bf66_sample_3",
         "marker": {
          "color": "#00cc96",
          "pattern": {
           "shape": ""
          }
         },
         "name": "bf66_sample_3",
         "offsetgroup": "bf66_sample_3",
         "orientation": "v",
         "showlegend": true,
         "type": "histogram",
         "x": [
          0.336,
          0.428,
          0.287,
          0.081,
          0.271,
          0.296,
          0.381,
          0.477,
          0.096,
          0.418,
          0.495,
          0.319,
          0.231,
          0.169,
          0.327,
          0.381,
          0.556,
          0.421,
          0.411,
          0.323,
          0.529,
          0.456,
          0.269,
          0.105,
          0.278,
          0.454,
          0.469,
          0.204,
          0.146,
          0.182,
          0.522,
          0.399,
          0.305,
          0.295,
          0.297,
          0.233,
          0.46,
          0.346,
          0.206,
          0.136,
          0.237,
          0.411,
          0.31,
          0.272,
          0.196,
          0.246,
          0.495,
          0.573,
          0.53,
          0.359,
          0.389,
          0.579,
          0.165,
          0.408,
          0.478,
          0.465,
          0.36,
          0.807,
          0.451,
          0.523,
          0.46,
          0.243,
          0.498,
          0.583,
          0.749,
          0.76,
          0.711,
          0.568,
          0.469,
          0.321,
          0.483,
          0.45,
          0.455,
          0.548,
          0.43,
          0.377,
          0.606,
          0.326,
          0.449,
          0.217,
          0.319,
          0.328,
          0.441,
          0.522,
          0.324,
          0.646,
          0.565,
          0.45,
          0.483,
          0.354,
          0.41,
          0.423,
          0.543,
          0.561,
          0.502,
          0.414,
          0.316,
          0.575,
          0.433,
          0.35,
          0.496,
          0.337,
          0.427,
          0.459,
          0.54,
          0.578,
          0.617,
          0.463,
          0.299,
          0.369,
          0.366,
          0.184,
          0.35,
          0.332,
          0.304,
          0.354,
          0.717,
          0.392,
          0.566,
          0.463,
          0.375,
          0.3,
          0.366,
          0.201,
          0.321,
          0.269,
          0.364,
          0.529,
          0.738,
          0.5,
          0.532,
          0.604,
          0.333,
          0.442,
          0.334,
          0.282,
          0,
          0.523,
          0.364,
          0.607,
          0.322,
          0.33,
          0.323,
          0.622,
          0.43,
          0.214,
          0.26,
          0.434,
          0.392,
          0.337,
          0.273,
          0.377,
          0.51,
          0.333,
          0.416,
          0.716,
          0.509,
          0.262,
          0.58,
          0.612,
          0.471,
          0.299,
          0.515,
          0.662,
          0.357,
          0.494,
          0.4,
          0.652,
          0.425,
          0.944,
          0.637,
          0.646,
          0.467,
          0.388,
          0.269,
          0.356,
          0.742,
          0.587,
          0.928,
          0.714,
          0.641,
          0.453,
          0.398,
          0.432,
          0.208,
          0.42,
          0.493,
          0.342,
          0.763,
          0.407,
          0.681,
          0.708,
          0.697,
          0.378,
          0.552,
          0.343,
          0.22,
          0.21,
          0.589,
          0.317,
          0.762,
          0.648,
          0.751,
          0.603,
          0.52,
          0.512,
          0.485,
          0.275,
          0.386,
          0.369,
          0.484,
          0.738,
          0.609,
          0.76,
          0.534,
          0.641,
          0.415,
          0.398,
          0.392,
          0.415,
          0.48,
          0.197,
          0.763,
          0.55,
          0.86,
          0.789,
          0.667,
          0.534,
          0.748,
          0.653,
          1.594,
          0.45,
          0.832,
          0.403,
          0.492,
          0.39,
          0.372,
          0.387,
          0.295,
          1.209,
          0.636,
          0.634,
          0.475,
          0.702,
          0.378,
          0.631,
          0.237,
          0.236,
          0.565,
          0.566
         ],
         "xaxis": "x",
         "yaxis": "y"
        },
        {
         "alignmentgroup": "True",
         "boxpoints": "all",
         "fillcolor": "rgba(255,255,255,0)",
         "hoveron": "points",
         "hovertemplate": "sample_id=bf66_sample_3<br>DryYield=%{x}<extra></extra>",
         "jitter": 0,
         "legendgroup": "bf66_sample_3",
         "line": {
          "color": "rgba(255,255,255,0)"
         },
         "marker": {
          "color": "#00cc96",
          "symbol": "line-ns-open"
         },
         "name": "bf66_sample_3",
         "offsetgroup": "bf66_sample_3",
         "showlegend": false,
         "type": "box",
         "x": [
          0.336,
          0.428,
          0.287,
          0.081,
          0.271,
          0.296,
          0.381,
          0.477,
          0.096,
          0.418,
          0.495,
          0.319,
          0.231,
          0.169,
          0.327,
          0.381,
          0.556,
          0.421,
          0.411,
          0.323,
          0.529,
          0.456,
          0.269,
          0.105,
          0.278,
          0.454,
          0.469,
          0.204,
          0.146,
          0.182,
          0.522,
          0.399,
          0.305,
          0.295,
          0.297,
          0.233,
          0.46,
          0.346,
          0.206,
          0.136,
          0.237,
          0.411,
          0.31,
          0.272,
          0.196,
          0.246,
          0.495,
          0.573,
          0.53,
          0.359,
          0.389,
          0.579,
          0.165,
          0.408,
          0.478,
          0.465,
          0.36,
          0.807,
          0.451,
          0.523,
          0.46,
          0.243,
          0.498,
          0.583,
          0.749,
          0.76,
          0.711,
          0.568,
          0.469,
          0.321,
          0.483,
          0.45,
          0.455,
          0.548,
          0.43,
          0.377,
          0.606,
          0.326,
          0.449,
          0.217,
          0.319,
          0.328,
          0.441,
          0.522,
          0.324,
          0.646,
          0.565,
          0.45,
          0.483,
          0.354,
          0.41,
          0.423,
          0.543,
          0.561,
          0.502,
          0.414,
          0.316,
          0.575,
          0.433,
          0.35,
          0.496,
          0.337,
          0.427,
          0.459,
          0.54,
          0.578,
          0.617,
          0.463,
          0.299,
          0.369,
          0.366,
          0.184,
          0.35,
          0.332,
          0.304,
          0.354,
          0.717,
          0.392,
          0.566,
          0.463,
          0.375,
          0.3,
          0.366,
          0.201,
          0.321,
          0.269,
          0.364,
          0.529,
          0.738,
          0.5,
          0.532,
          0.604,
          0.333,
          0.442,
          0.334,
          0.282,
          0,
          0.523,
          0.364,
          0.607,
          0.322,
          0.33,
          0.323,
          0.622,
          0.43,
          0.214,
          0.26,
          0.434,
          0.392,
          0.337,
          0.273,
          0.377,
          0.51,
          0.333,
          0.416,
          0.716,
          0.509,
          0.262,
          0.58,
          0.612,
          0.471,
          0.299,
          0.515,
          0.662,
          0.357,
          0.494,
          0.4,
          0.652,
          0.425,
          0.944,
          0.637,
          0.646,
          0.467,
          0.388,
          0.269,
          0.356,
          0.742,
          0.587,
          0.928,
          0.714,
          0.641,
          0.453,
          0.398,
          0.432,
          0.208,
          0.42,
          0.493,
          0.342,
          0.763,
          0.407,
          0.681,
          0.708,
          0.697,
          0.378,
          0.552,
          0.343,
          0.22,
          0.21,
          0.589,
          0.317,
          0.762,
          0.648,
          0.751,
          0.603,
          0.52,
          0.512,
          0.485,
          0.275,
          0.386,
          0.369,
          0.484,
          0.738,
          0.609,
          0.76,
          0.534,
          0.641,
          0.415,
          0.398,
          0.392,
          0.415,
          0.48,
          0.197,
          0.763,
          0.55,
          0.86,
          0.789,
          0.667,
          0.534,
          0.748,
          0.653,
          1.594,
          0.45,
          0.832,
          0.403,
          0.492,
          0.39,
          0.372,
          0.387,
          0.295,
          1.209,
          0.636,
          0.634,
          0.475,
          0.702,
          0.378,
          0.631,
          0.237,
          0.236,
          0.565,
          0.566
         ],
         "xaxis": "x2",
         "yaxis": "y2"
        }
       ],
       "layout": {
        "autosize": true,
        "barmode": "relative",
        "legend": {
         "title": {
          "text": "sample_id"
         },
         "tracegroupgap": 0
        },
        "margin": {
         "t": 60
        },
        "template": {
         "data": {
          "bar": [
           {
            "error_x": {
             "color": "#2a3f5f"
            },
            "error_y": {
             "color": "#2a3f5f"
            },
            "marker": {
             "line": {
              "color": "#E5ECF6",
              "width": 0.5
             },
             "pattern": {
              "fillmode": "overlay",
              "size": 10,
              "solidity": 0.2
             }
            },
            "type": "bar"
           }
          ],
          "barpolar": [
           {
            "marker": {
             "line": {
              "color": "#E5ECF6",
              "width": 0.5
             },
             "pattern": {
              "fillmode": "overlay",
              "size": 10,
              "solidity": 0.2
             }
            },
            "type": "barpolar"
           }
          ],
          "carpet": [
           {
            "aaxis": {
             "endlinecolor": "#2a3f5f",
             "gridcolor": "white",
             "linecolor": "white",
             "minorgridcolor": "white",
             "startlinecolor": "#2a3f5f"
            },
            "baxis": {
             "endlinecolor": "#2a3f5f",
             "gridcolor": "white",
             "linecolor": "white",
             "minorgridcolor": "white",
             "startlinecolor": "#2a3f5f"
            },
            "type": "carpet"
           }
          ],
          "choropleth": [
           {
            "colorbar": {
             "outlinewidth": 0,
             "ticks": ""
            },
            "type": "choropleth"
           }
          ],
          "contour": [
           {
            "colorbar": {
             "outlinewidth": 0,
             "ticks": ""
            },
            "colorscale": [
             [
              0,
              "#0d0887"
             ],
             [
              0.1111111111111111,
              "#46039f"
             ],
             [
              0.2222222222222222,
              "#7201a8"
             ],
             [
              0.3333333333333333,
              "#9c179e"
             ],
             [
              0.4444444444444444,
              "#bd3786"
             ],
             [
              0.5555555555555556,
              "#d8576b"
             ],
             [
              0.6666666666666666,
              "#ed7953"
             ],
             [
              0.7777777777777778,
              "#fb9f3a"
             ],
             [
              0.8888888888888888,
              "#fdca26"
             ],
             [
              1,
              "#f0f921"
             ]
            ],
            "type": "contour"
           }
          ],
          "contourcarpet": [
           {
            "colorbar": {
             "outlinewidth": 0,
             "ticks": ""
            },
            "type": "contourcarpet"
           }
          ],
          "heatmap": [
           {
            "colorbar": {
             "outlinewidth": 0,
             "ticks": ""
            },
            "colorscale": [
             [
              0,
              "#0d0887"
             ],
             [
              0.1111111111111111,
              "#46039f"
             ],
             [
              0.2222222222222222,
              "#7201a8"
             ],
             [
              0.3333333333333333,
              "#9c179e"
             ],
             [
              0.4444444444444444,
              "#bd3786"
             ],
             [
              0.5555555555555556,
              "#d8576b"
             ],
             [
              0.6666666666666666,
              "#ed7953"
             ],
             [
              0.7777777777777778,
              "#fb9f3a"
             ],
             [
              0.8888888888888888,
              "#fdca26"
             ],
             [
              1,
              "#f0f921"
             ]
            ],
            "type": "heatmap"
           }
          ],
          "heatmapgl": [
           {
            "colorbar": {
             "outlinewidth": 0,
             "ticks": ""
            },
            "colorscale": [
             [
              0,
              "#0d0887"
             ],
             [
              0.1111111111111111,
              "#46039f"
             ],
             [
              0.2222222222222222,
              "#7201a8"
             ],
             [
              0.3333333333333333,
              "#9c179e"
             ],
             [
              0.4444444444444444,
              "#bd3786"
             ],
             [
              0.5555555555555556,
              "#d8576b"
             ],
             [
              0.6666666666666666,
              "#ed7953"
             ],
             [
              0.7777777777777778,
              "#fb9f3a"
             ],
             [
              0.8888888888888888,
              "#fdca26"
             ],
             [
              1,
              "#f0f921"
             ]
            ],
            "type": "heatmapgl"
           }
          ],
          "histogram": [
           {
            "marker": {
             "pattern": {
              "fillmode": "overlay",
              "size": 10,
              "solidity": 0.2
             }
            },
            "type": "histogram"
           }
          ],
          "histogram2d": [
           {
            "colorbar": {
             "outlinewidth": 0,
             "ticks": ""
            },
            "colorscale": [
             [
              0,
              "#0d0887"
             ],
             [
              0.1111111111111111,
              "#46039f"
             ],
             [
              0.2222222222222222,
              "#7201a8"
             ],
             [
              0.3333333333333333,
              "#9c179e"
             ],
             [
              0.4444444444444444,
              "#bd3786"
             ],
             [
              0.5555555555555556,
              "#d8576b"
             ],
             [
              0.6666666666666666,
              "#ed7953"
             ],
             [
              0.7777777777777778,
              "#fb9f3a"
             ],
             [
              0.8888888888888888,
              "#fdca26"
             ],
             [
              1,
              "#f0f921"
             ]
            ],
            "type": "histogram2d"
           }
          ],
          "histogram2dcontour": [
           {
            "colorbar": {
             "outlinewidth": 0,
             "ticks": ""
            },
            "colorscale": [
             [
              0,
              "#0d0887"
             ],
             [
              0.1111111111111111,
              "#46039f"
             ],
             [
              0.2222222222222222,
              "#7201a8"
             ],
             [
              0.3333333333333333,
              "#9c179e"
             ],
             [
              0.4444444444444444,
              "#bd3786"
             ],
             [
              0.5555555555555556,
              "#d8576b"
             ],
             [
              0.6666666666666666,
              "#ed7953"
             ],
             [
              0.7777777777777778,
              "#fb9f3a"
             ],
             [
              0.8888888888888888,
              "#fdca26"
             ],
             [
              1,
              "#f0f921"
             ]
            ],
            "type": "histogram2dcontour"
           }
          ],
          "mesh3d": [
           {
            "colorbar": {
             "outlinewidth": 0,
             "ticks": ""
            },
            "type": "mesh3d"
           }
          ],
          "parcoords": [
           {
            "line": {
             "colorbar": {
              "outlinewidth": 0,
              "ticks": ""
             }
            },
            "type": "parcoords"
           }
          ],
          "pie": [
           {
            "automargin": true,
            "type": "pie"
           }
          ],
          "scatter": [
           {
            "fillpattern": {
             "fillmode": "overlay",
             "size": 10,
             "solidity": 0.2
            },
            "type": "scatter"
           }
          ],
          "scatter3d": [
           {
            "line": {
             "colorbar": {
              "outlinewidth": 0,
              "ticks": ""
             }
            },
            "marker": {
             "colorbar": {
              "outlinewidth": 0,
              "ticks": ""
             }
            },
            "type": "scatter3d"
           }
          ],
          "scattercarpet": [
           {
            "marker": {
             "colorbar": {
              "outlinewidth": 0,
              "ticks": ""
             }
            },
            "type": "scattercarpet"
           }
          ],
          "scattergeo": [
           {
            "marker": {
             "colorbar": {
              "outlinewidth": 0,
              "ticks": ""
             }
            },
            "type": "scattergeo"
           }
          ],
          "scattergl": [
           {
            "marker": {
             "colorbar": {
              "outlinewidth": 0,
              "ticks": ""
             }
            },
            "type": "scattergl"
           }
          ],
          "scattermapbox": [
           {
            "marker": {
             "colorbar": {
              "outlinewidth": 0,
              "ticks": ""
             }
            },
            "type": "scattermapbox"
           }
          ],
          "scatterpolar": [
           {
            "marker": {
             "colorbar": {
              "outlinewidth": 0,
              "ticks": ""
             }
            },
            "type": "scatterpolar"
           }
          ],
          "scatterpolargl": [
           {
            "marker": {
             "colorbar": {
              "outlinewidth": 0,
              "ticks": ""
             }
            },
            "type": "scatterpolargl"
           }
          ],
          "scatterternary": [
           {
            "marker": {
             "colorbar": {
              "outlinewidth": 0,
              "ticks": ""
             }
            },
            "type": "scatterternary"
           }
          ],
          "surface": [
           {
            "colorbar": {
             "outlinewidth": 0,
             "ticks": ""
            },
            "colorscale": [
             [
              0,
              "#0d0887"
             ],
             [
              0.1111111111111111,
              "#46039f"
             ],
             [
              0.2222222222222222,
              "#7201a8"
             ],
             [
              0.3333333333333333,
              "#9c179e"
             ],
             [
              0.4444444444444444,
              "#bd3786"
             ],
             [
              0.5555555555555556,
              "#d8576b"
             ],
             [
              0.6666666666666666,
              "#ed7953"
             ],
             [
              0.7777777777777778,
              "#fb9f3a"
             ],
             [
              0.8888888888888888,
              "#fdca26"
             ],
             [
              1,
              "#f0f921"
             ]
            ],
            "type": "surface"
           }
          ],
          "table": [
           {
            "cells": {
             "fill": {
              "color": "#EBF0F8"
             },
             "line": {
              "color": "white"
             }
            },
            "header": {
             "fill": {
              "color": "#C8D4E3"
             },
             "line": {
              "color": "white"
             }
            },
            "type": "table"
           }
          ]
         },
         "layout": {
          "annotationdefaults": {
           "arrowcolor": "#2a3f5f",
           "arrowhead": 0,
           "arrowwidth": 1
          },
          "autotypenumbers": "strict",
          "coloraxis": {
           "colorbar": {
            "outlinewidth": 0,
            "ticks": ""
           }
          },
          "colorscale": {
           "diverging": [
            [
             0,
             "#8e0152"
            ],
            [
             0.1,
             "#c51b7d"
            ],
            [
             0.2,
             "#de77ae"
            ],
            [
             0.3,
             "#f1b6da"
            ],
            [
             0.4,
             "#fde0ef"
            ],
            [
             0.5,
             "#f7f7f7"
            ],
            [
             0.6,
             "#e6f5d0"
            ],
            [
             0.7,
             "#b8e186"
            ],
            [
             0.8,
             "#7fbc41"
            ],
            [
             0.9,
             "#4d9221"
            ],
            [
             1,
             "#276419"
            ]
           ],
           "sequential": [
            [
             0,
             "#0d0887"
            ],
            [
             0.1111111111111111,
             "#46039f"
            ],
            [
             0.2222222222222222,
             "#7201a8"
            ],
            [
             0.3333333333333333,
             "#9c179e"
            ],
            [
             0.4444444444444444,
             "#bd3786"
            ],
            [
             0.5555555555555556,
             "#d8576b"
            ],
            [
             0.6666666666666666,
             "#ed7953"
            ],
            [
             0.7777777777777778,
             "#fb9f3a"
            ],
            [
             0.8888888888888888,
             "#fdca26"
            ],
            [
             1,
             "#f0f921"
            ]
           ],
           "sequentialminus": [
            [
             0,
             "#0d0887"
            ],
            [
             0.1111111111111111,
             "#46039f"
            ],
            [
             0.2222222222222222,
             "#7201a8"
            ],
            [
             0.3333333333333333,
             "#9c179e"
            ],
            [
             0.4444444444444444,
             "#bd3786"
            ],
            [
             0.5555555555555556,
             "#d8576b"
            ],
            [
             0.6666666666666666,
             "#ed7953"
            ],
            [
             0.7777777777777778,
             "#fb9f3a"
            ],
            [
             0.8888888888888888,
             "#fdca26"
            ],
            [
             1,
             "#f0f921"
            ]
           ]
          },
          "colorway": [
           "#636efa",
           "#EF553B",
           "#00cc96",
           "#ab63fa",
           "#FFA15A",
           "#19d3f3",
           "#FF6692",
           "#B6E880",
           "#FF97FF",
           "#FECB52"
          ],
          "font": {
           "color": "#2a3f5f"
          },
          "geo": {
           "bgcolor": "white",
           "lakecolor": "white",
           "landcolor": "#E5ECF6",
           "showlakes": true,
           "showland": true,
           "subunitcolor": "white"
          },
          "hoverlabel": {
           "align": "left"
          },
          "hovermode": "closest",
          "mapbox": {
           "style": "light"
          },
          "paper_bgcolor": "white",
          "plot_bgcolor": "#E5ECF6",
          "polar": {
           "angularaxis": {
            "gridcolor": "white",
            "linecolor": "white",
            "ticks": ""
           },
           "bgcolor": "#E5ECF6",
           "radialaxis": {
            "gridcolor": "white",
            "linecolor": "white",
            "ticks": ""
           }
          },
          "scene": {
           "xaxis": {
            "backgroundcolor": "#E5ECF6",
            "gridcolor": "white",
            "gridwidth": 2,
            "linecolor": "white",
            "showbackground": true,
            "ticks": "",
            "zerolinecolor": "white"
           },
           "yaxis": {
            "backgroundcolor": "#E5ECF6",
            "gridcolor": "white",
            "gridwidth": 2,
            "linecolor": "white",
            "showbackground": true,
            "ticks": "",
            "zerolinecolor": "white"
           },
           "zaxis": {
            "backgroundcolor": "#E5ECF6",
            "gridcolor": "white",
            "gridwidth": 2,
            "linecolor": "white",
            "showbackground": true,
            "ticks": "",
            "zerolinecolor": "white"
           }
          },
          "shapedefaults": {
           "line": {
            "color": "#2a3f5f"
           }
          },
          "ternary": {
           "aaxis": {
            "gridcolor": "white",
            "linecolor": "white",
            "ticks": ""
           },
           "baxis": {
            "gridcolor": "white",
            "linecolor": "white",
            "ticks": ""
           },
           "bgcolor": "#E5ECF6",
           "caxis": {
            "gridcolor": "white",
            "linecolor": "white",
            "ticks": ""
           }
          },
          "title": {
           "x": 0.05
          },
          "xaxis": {
           "automargin": true,
           "gridcolor": "white",
           "linecolor": "white",
           "ticks": "",
           "title": {
            "standoff": 15
           },
           "zerolinecolor": "white",
           "zerolinewidth": 2
          },
          "yaxis": {
           "automargin": true,
           "gridcolor": "white",
           "linecolor": "white",
           "ticks": "",
           "title": {
            "standoff": 15
           },
           "zerolinecolor": "white",
           "zerolinewidth": 2
          }
         }
        },
        "xaxis": {
         "anchor": "y",
         "autorange": true,
         "domain": [
          0,
          1
         ],
         "range": [
          -0.5135000000000001,
          9.7565
         ],
         "title": {
          "text": "DryYield"
         },
         "type": "linear"
        },
        "xaxis2": {
         "anchor": "y2",
         "autorange": true,
         "domain": [
          0,
          1
         ],
         "matches": "x",
         "range": [
          -0.5135000000000001,
          9.7565
         ],
         "showgrid": true,
         "showticklabels": false,
         "type": "linear"
        },
        "yaxis": {
         "anchor": "x",
         "autorange": true,
         "domain": [
          0,
          0.7326
         ],
         "range": [
          0,
          92.63157894736842
         ],
         "title": {
          "text": "count"
         }
        },
        "yaxis2": {
         "anchor": "x2",
         "autorange": true,
         "domain": [
          0.7426,
          1
         ],
         "matches": "y2",
         "range": [
          -0.6678227791452227,
          2.5
         ],
         "showgrid": false,
         "showline": false,
         "showticklabels": false,
         "ticks": "",
         "type": "category"
        }
       }
      },
      "image/png": "[encoded data removed]"
     },
     "metadata": {},
     "output_type": "display_data"
    }
   ],
   "source": [
    "# Visualise crop yield data on a chart\n",
    "gdf_fig = gdf.drop(columns=[\"geometry\"])\n",
    "fig = px.histogram(gdf_fig, x=\"DryYield\", color=\"sample_id\", marginal=\"rug\")\n",
    "fig.show()"
   ]
  },
  {
   "cell_type": "markdown",
   "id": "0e70575c-5acd-446a-8237-83cb0d0f4600",
   "metadata": {},
   "source": [
    "## How does this program work?\n",
    "\n",
    "### Programs\n",
    "\n",
    "* A program is a series of statements that are executed to complete a task.\n",
    "* Programs complete tasks by loading, transforming, and visualising data.\n",
    "* Data in programs can be of different types (numeric, text, boolean).\n",
    "* Data can be combined into data structures to represent complex concepts and objects. \n",
    "* Functions operate on data to complete tasks. \n",
    "\n",
    "<details>\n",
    "    <summary><b>Detailed notes on Python programs.</b></summary>\n",
    "\n",
    "As stated above, a program is a series of statements that are executed to complete a task. The ultimate goal of the program we just ran was to generate visualisations of crop yield data recorded by harvesters. However, to achieve this the program consists of a series of sub-tasks that include reading the harvester data from CSV files on disk, inspecting the data, transforming it to a spatial data structure, and then rendering web maps and charts. \n",
    "\n",
    "Our program is loading, transforming, and visualising data. This means our program needs to be able store and represent different types and structures of data. If you look in the display of the `DataFrame` there are numeric, text, and date type data in the columns. Python provides tools for representing different types of data and structures for combining data to represent more complex concepts. For example, the `DataFrame` that is displayed is a data structure well suited to storing tabular data.\n",
    "\n",
    "In short, a Python program stores data as objects and then uses this data in a range functions that operate on this data to complete tasks. \n",
    "    \n",
    "</details>\n",
    "\n",
    "<details>\n",
    "    <summary><b>In a Python program, are data types just used to store observations of scientific variables such as crop yield or temperature?</b></summary>\n",
    "\n",
    "No. In a Python program built-in data types are used to store a range of information relevant to the execution of a program. This could include \"scientific\" data such as an array of crop yield values. However, data in a Python program could refer to file paths and directory structures, URLs to websites or data stored in the cloud, or credentials to log in to databases.      \n",
    "</details>\n",
    "\n",
    "In this lab we will break down the Python program that generates visualisations of crop yield data recorded by harvesters into its fundamental building blocks, identify how different types of data are represented in Python programs, and demonstrate how we can do things with this data to produce useful outputs. \n",
    "\n",
    "### Statements and comments\n",
    "\n",
    "A Python program consists of statements. **A Python statement is a line of Python code which can be executed by the computer.** \n",
    "\n",
    "A comment is a line of text that starts with the `#` symbol. It is not executed by the computer. We can use comments to make notes in our script to help us understand what the program is trying to achieve. \n",
    "\n",
    "For example, this code snippet contains two comments and one statement:\n",
    "\n",
    "```python\n",
    "# Inspect the yield data format\n",
    "# Display the first n rows\n",
    "df.head()\n",
    "```\n",
    "\n",
    "### Objects\n",
    "\n",
    "Everything in a Python program is an object. Built-in scalar data types are the most fundamental building blocks of a Python program. We can use these scalar data types to represent single numbers, words, and sentences. This is where we'll start unpicking this Python program.\n"
   ]
  },
  {
   "cell_type": "markdown",
   "id": "01b07a42",
   "metadata": {},
   "source": [
    "## Data types\n",
    "\n",
    "Python programs perform operations on data to complete tasks. This can be scientific data such as crop yield or temperature measurements or it can be other forms of data necessary for the program to execute such as a file path to where data is stored on disk.\n",
    "\n",
    "### Built-in data types\n",
    "\n",
    "Python comes with built-in data types that can be used to store different values. These are sometimes called <a href=\"https://wesmckinney.com/book/python-basics.html#scalar_types\" target=\"_blank\">scalar types</a> as they store single values. \n",
    "\n",
    "* `float` - storing floating point numeric values.\n",
    "* `int` - storing integer numeric values.\n",
    "* `str` - storing text data as strings.\n",
    "* `bool` - storing `True` or `False` as boolean values.\n",
    "* `None` - storing null values.\n",
    "* `bytes` - storing raw binary data.\n",
    "\n",
    "#### Numeric data types\n",
    "\n",
    "`int` and `float` are numeric data types in Python and are used to store integer and floating point values, respectively.\n",
    "\n",
    "The canola yield data that we have imported is of numeric type with units of tonnes/ha. Let's represent a crop yield measurement of 0.227 tonnes/ha as data in our program and inspect its type."
   ]
  },
  {
   "cell_type": "code",
   "execution_count": 10,
   "id": "51b48f62-f26d-4f9d-9138-48bb818290f8",
   "metadata": {},
   "outputs": [
    {
     "name": "stdout",
     "output_type": "stream",
     "text": [
      "<class 'float'>\n"
     ]
    }
   ],
   "source": [
    "print(type(0.227))"
   ]
  },
  {
   "cell_type": "markdown",
   "id": "f9fb4915-1ba5-4854-a754-7ed705eefeb4",
   "metadata": {},
   "source": [
    "Our yield measurement of 0.227 tonnes/ha has been stored as data object of `float` type. This makes sense as this number has a decimal point. We can also inspect how the crop yield data that was measured by the harvester is stored in our program. The below code snippet extracts the first crop yield measurement and prints its type and value.  "
   ]
  },
  {
   "cell_type": "code",
   "execution_count": 11,
   "id": "f8d19db7-ba77-4557-80ad-c7bfdb501207",
   "metadata": {},
   "outputs": [
    {
     "name": "stdout",
     "output_type": "stream",
     "text": [
      "<class 'float'>\n",
      "0.227\n"
     ]
    }
   ],
   "source": [
    "# get the first crop yield value\n",
    "crop_yield = df.loc[:, \"DryYield\"].to_list()[0]\n",
    "print(type(crop_yield))\n",
    "print(crop_yield)"
   ]
  },
  {
   "cell_type": "markdown",
   "id": "ed059007-1477-4d34-9df7-27e76981977c",
   "metadata": {},
   "source": [
    "#### String data types\n",
    "\n",
    "We also need to represent text data in our programs. In the crop yield dataset the sample id is text. In Python, text data is stored as a `str` type (or string type).\n",
    "\n",
    "Text data is stored as string types by enclosing the characters in double`\"` or single `'` quotes. "
   ]
  },
  {
   "cell_type": "code",
   "execution_count": 12,
   "id": "5a0f536e-e284-4bc8-b329-bc78b45c4c7e",
   "metadata": {},
   "outputs": [
    {
     "name": "stdout",
     "output_type": "stream",
     "text": [
      "<class 'str'>\n",
      "a string\n"
     ]
    }
   ],
   "source": [
    "print(type(\"a string\"))\n",
    "print(\"a string\")"
   ]
  },
  {
   "cell_type": "markdown",
   "id": "fd05bc33-0898-4c6d-904a-0c4634d9bee3",
   "metadata": {},
   "source": [
    "Let's check how the sample id names in the canola yield dataset are represented."
   ]
  },
  {
   "cell_type": "code",
   "execution_count": 13,
   "id": "70e7c367-dac1-4af6-8557-b6e205b02970",
   "metadata": {},
   "outputs": [
    {
     "name": "stdout",
     "output_type": "stream",
     "text": [
      "<class 'str'>\n",
      "bf66_sample_1\n"
     ]
    }
   ],
   "source": [
    "# get the first field name value\n",
    "field_name = df.loc[:, \"sample_id\"].to_list()[0]\n",
    "print(type(field_name))\n",
    "print(field_name)"
   ]
  },
  {
   "cell_type": "markdown",
   "id": "1bad84d3-7444-46e6-9666-fe4388030030",
   "metadata": {},
   "source": [
    "#### Boolean data types\n",
    "\n",
    "Boolean (`bool`) data types are used for storing `True` or `False` values. In Python, `True` or `False` are Boolean values and not string data types.\n",
    "\n",
    "Boolean data types are used to store the result of testing a condition that evaluates to true or false. For example, greater than and less than operations evaluate to true or false. We could test if our crop yield value of 0.227 is greater than 0.2 (it is and this expression should evaluate to true).\n"
   ]
  },
  {
   "cell_type": "code",
   "execution_count": 14,
   "id": "f50ccc4e-7e49-4e32-a89c-1b56ccc850b4",
   "metadata": {},
   "outputs": [
    {
     "name": "stdout",
     "output_type": "stream",
     "text": [
      "<class 'bool'>\n",
      "True\n"
     ]
    }
   ],
   "source": [
    "print(type(0.277 > 0.2))\n",
    "print(0.227 > 0.2)"
   ]
  },
  {
   "cell_type": "markdown",
   "id": "4428f066-4ca1-4893-99ff-61c972090607",
   "metadata": {},
   "source": [
    "We can use the `isinstance(value, type)` function to test if a data value matches a data type. Let's test if our crop yield value is numeric or string."
   ]
  },
  {
   "cell_type": "code",
   "execution_count": 21,
   "id": "02851cd8-b168-4e07-9eb2-32d9bdb383ef",
   "metadata": {},
   "outputs": [
    {
     "name": "stdout",
     "output_type": "stream",
     "text": [
      "True\n",
      "False\n"
     ]
    }
   ],
   "source": [
    "print(isinstance(0.227, float))\n",
    "print(isinstance(0.227, str))"
   ]
  },
  {
   "cell_type": "markdown",
   "id": "83b1a1eb-a537-40d9-aedb-f6a2af94803f",
   "metadata": {},
   "source": [
    "### Recap quiz\n",
    "\n",
    "<details>\n",
    "    <summary><b>If you execute <code>x = 3.4</code>, what data type will <code>x</code> be?</b></summary>\n",
    "<code>float</code>\n",
    "</details>\n",
    "    \n",
    "<details>\n",
    "    <summary><b>Which data type would be most suited to record the number of apples harvested from an orchard?</b></summary>\n",
    "<code>int</code> -  we should not be able to harvest fractions of apples.\n",
    "</details>\n",
    "\n",
    "<details>\n",
    "    <summary><b>Which data type would we use to record a farm name?</b></summary>\n",
    "<code>str</code> - assuming the farm name is text data.\n",
    "</details>\n",
    "\n",
    "<details>\n",
    "    <summary><b><code>y = 4 + 5</code> and <code>z = y > 10</code> - what value will <code>z</code> be?</b></summary>\n",
    "<code>False</code> - <code>y</code> evaluates to 9 which is less than 10. Therefore, <code>z</code> will be <code>False</code> and of <code>bool</code> type.\n",
    "</details>"
   ]
  },
  {
   "cell_type": "markdown",
   "id": "b14e460b",
   "metadata": {},
   "source": [
    "## Data structures\n",
    "\n",
    "Python provides a series of built-in data structures that can be used to group together and store related data. \n",
    "\n",
    "* `list` - a variable length collection of objects that can be modified.\n",
    "* `tuple` - a fixed length collection of objects that cannot be modified.\n",
    "* `set` - a collection of unique objects.\n",
    "* `dict` - a collection of objects stored as key:value pairs.\n",
    "\n",
    "### Lists\n",
    "\n",
    "Lists in Python:\n",
    "\n",
    "* can be modified during a program's execution. \n",
    "* can store duplicate values.\n",
    "* are created by placing elements in square brackets `[]`.\n",
    "* elements of a list are ordered.\n",
    "* elements of a list can be of different data types.\n",
    "\n",
    "We could store the sample names in our crop yield data set as a list:"
   ]
  },
  {
   "cell_type": "code",
   "execution_count": 22,
   "id": "ce262a4b-3d64-49d5-99a7-8b319cf31bda",
   "metadata": {},
   "outputs": [
    {
     "data": {
      "text/plain": [
       "['bf66_sample_1', 'bf66_sample_2']"
      ]
     },
     "execution_count": 22,
     "metadata": {},
     "output_type": "execute_result"
    }
   ],
   "source": [
    "[\"bf66_sample_1\", \"bf66_sample_2\"]"
   ]
  },
  {
   "cell_type": "markdown",
   "id": "775c5700-b266-45b3-86bc-b74eb8133275",
   "metadata": {},
   "source": [
    "Lists allow us to store duplicate values. The following is a valid list."
   ]
  },
  {
   "cell_type": "code",
   "execution_count": 23,
   "id": "0a965723-009b-4b89-8b69-94d40b36b1d8",
   "metadata": {},
   "outputs": [
    {
     "data": {
      "text/plain": [
       "['bf66_sample_1', 'bf66_sample_2', 'bf66_sample_2']"
      ]
     },
     "execution_count": 23,
     "metadata": {},
     "output_type": "execute_result"
    }
   ],
   "source": [
    "[\"bf66_sample_1\", \"bf66_sample_2\", \"bf66_sample_2\"]"
   ]
  },
  {
   "cell_type": "markdown",
   "id": "7a891648-4149-4c52-a167-af787d337123",
   "metadata": {},
   "source": [
    "A key feature of lists are that they can be modified in place. This makes lists useful data structures for tasks when the number of objects that we want to store in a collection can change during our program's execution. We can use functions such as `.append()` to add objects to the end of a list."
   ]
  },
  {
   "cell_type": "code",
   "execution_count": 24,
   "id": "b9d02b49-f8b2-4be9-a46c-55565f45fbc1",
   "metadata": {},
   "outputs": [
    {
     "name": "stdout",
     "output_type": "stream",
     "text": [
      "['bf66_sample_1', 'bf66_sample_2', 'bf66_sample_2', 'bf66_sample_3']\n"
     ]
    }
   ],
   "source": [
    "sample_id_list = [\"bf66_sample_1\", \"bf66_sample_2\", \"bf66_sample_2\"]\n",
    "sample_id_list.append(\"bf66_sample_3\")\n",
    "print(sample_id_list)"
   ]
  },
  {
   "cell_type": "markdown",
   "id": "62dd5043-e7a6-4c93-b7c5-84b8d618068a",
   "metadata": {},
   "source": [
    "In our Python program above, we took advantage of the fact that lists can be modified in place to loop over the CSV files in a directory, import them in as pandas `DataFrames`, and append the `DataFrames` to the list.\n",
    "\n",
    "```python\n",
    "# Combine the csv files into one data frame\n",
    "dfs = []\n",
    "\n",
    "for i in harvester_data_files:\n",
    "    if i.endswith(\".csv\"):\n",
    "        print(f\"Loading file {i} into a Pandas DataFrame\")\n",
    "        tmp_df = pd.read_csv(os.path.join(harvester_data_path, i))\n",
    "        dfs.append(tmp_df)\n",
    "```\n",
    "\n",
    "Here, we start with an empty list `dfs` denoted by just square brackets `[]`. Then, successively, a new object is added to `dfs` using the `append()` function. We finish with a list storing three pandas `DataFrames`. This demonstrates how we change the length and contents of a list during the execution of a program. We have gone from a list with zero elements to a list a list with three elements. \n",
    "\n",
    "This example also demonstrates that we can store any Python object in a list. We can also mix the types of objects stored in lists. The following is a valid list."
   ]
  },
  {
   "cell_type": "code",
   "execution_count": 25,
   "id": "c484f837-6b71-45f4-88c6-7972b0c729b1",
   "metadata": {},
   "outputs": [
    {
     "data": {
      "text/plain": [
       "[1, 2, 'not a number', None]"
      ]
     },
     "execution_count": 25,
     "metadata": {},
     "output_type": "execute_result"
    }
   ],
   "source": [
    "[1, 2, \"not a number\", None]"
   ]
  },
  {
   "cell_type": "markdown",
   "id": "4b1469ae-fb64-4362-af18-ccd9523d126f",
   "metadata": {},
   "source": [
    "Lists are ordered collections of data. If you add an element to a list it will be appended to the last position. List items can be accessed by their index location with the first element having index `0`. \n",
    "\n",
    "Let's demonstrate this by accessing the elements of the `sample_id_list` we created above."
   ]
  },
  {
   "cell_type": "code",
   "execution_count": 26,
   "id": "ea09d4fd-6152-4348-b9dc-f1dbb851123e",
   "metadata": {},
   "outputs": [
    {
     "name": "stdout",
     "output_type": "stream",
     "text": [
      "['bf66_sample_1', 'bf66_sample_2', 'bf66_sample_2', 'bf66_sample_3']\n",
      "The first element in sample_id_list is at index 0:  bf66_sample_1\n",
      "The second element in sample_id_list is at index 1:  bf66_sample_2\n",
      "The third element in sample_id_list is at index 2:  bf66_sample_2\n"
     ]
    }
   ],
   "source": [
    "print(sample_id_list)\n",
    "print(\"The first element in sample_id_list is at index 0: \", sample_id_list[0])\n",
    "print(\"The second element in sample_id_list is at index 1: \", sample_id_list[1])\n",
    "print(\"The third element in sample_id_list is at index 2: \", sample_id_list[2])"
   ]
  },
  {
   "cell_type": "markdown",
   "id": "9fa79cc8-ed8a-4e1f-bc05-6ce9896c43ec",
   "metadata": {},
   "source": [
    "### Tuples\n",
    "\n",
    "Tuple in Python:\n",
    "\n",
    "* elements are unchangeable (immutable).\n",
    "* tuple elements are ordered.\n",
    "* stores a fixed-length number of elements. \n",
    "* created by placing Python objects inside parentheses `()`"
   ]
  },
  {
   "cell_type": "code",
   "execution_count": 27,
   "id": "6c08b5c7-3a3e-411c-b279-efc84740c936",
   "metadata": {},
   "outputs": [
    {
     "data": {
      "text/plain": [
       "(116.804075, -33.889203)"
      ]
     },
     "execution_count": 27,
     "metadata": {},
     "output_type": "execute_result"
    }
   ],
   "source": [
    "(116.804075, -33.889203)"
   ]
  },
  {
   "cell_type": "markdown",
   "id": "78f47894-9e30-4b40-875c-b66944555f1e",
   "metadata": {},
   "source": [
    "Here, we have created a tuple with two numeric objects. Similar to lists we can access tuple elements by their index locations."
   ]
  },
  {
   "cell_type": "code",
   "execution_count": 28,
   "id": "915484d0-a2ce-4832-ad32-5b9967b598e3",
   "metadata": {},
   "outputs": [
    {
     "name": "stdout",
     "output_type": "stream",
     "text": [
      "First tuple element:  116.804075\n"
     ]
    }
   ],
   "source": [
    "print(\"First tuple element: \", (116.804075, -33.889203)[0])"
   ]
  },
  {
   "cell_type": "code",
   "execution_count": 29,
   "id": "1bd04c35-eaf2-496a-ae12-d5028637b0c2",
   "metadata": {},
   "outputs": [
    {
     "name": "stdout",
     "output_type": "stream",
     "text": [
      "Second tuple element:  -33.889203\n"
     ]
    }
   ],
   "source": [
    "print(\"Second tuple element: \", (116.804075, -33.889203)[1])"
   ]
  },
  {
   "cell_type": "markdown",
   "id": "f6cefcff-0ff1-4fa8-8cf8-52ce183cfebd",
   "metadata": {},
   "source": [
    "As tuples are fixed-length and unchangeable, we cannot append elements to them in the same way we could with lists. This makes them useful data structures for storing data values which we don't want to change. For example, coorindate pairs that describe a location's x and y values (e.g. longitude and latitude) have two elements. Therefore, a tuple could be a suitable data format to store coordinate pairs.\n",
    "\n",
    "The shape of pandas `DataFrames` is also a tuple. A `DataFrame` has two dimensions: number of rows and number of columns. Thus, a tuple is a sensible data structure for storing the shape of `DataFrame` objects. "
   ]
  },
  {
   "cell_type": "code",
   "execution_count": 30,
   "id": "269888fa-028c-4121-89bf-05ede9ecf7ae",
   "metadata": {},
   "outputs": [
    {
     "data": {
      "text/plain": [
       "(1000, 10)"
      ]
     },
     "execution_count": 30,
     "metadata": {},
     "output_type": "execute_result"
    }
   ],
   "source": [
    "df.shape"
   ]
  },
  {
   "cell_type": "markdown",
   "id": "a6c0f352-9091-4d54-b7cc-8ad79ca3263e",
   "metadata": {},
   "source": [
    "To demonstrate that we cannot change tuple values, let's try and update the number of rows in the tuple storing the shape of `df`."
   ]
  },
  {
   "cell_type": "code",
   "execution_count": 31,
   "id": "b8e9b101-3dad-4d25-ac3d-f62706d15cf4",
   "metadata": {},
   "outputs": [
    {
     "ename": "TypeError",
     "evalue": "'tuple' object does not support item assignment",
     "output_type": "error",
     "traceback": [
      "\u001b[0;31m---------------------------------------------------------------------------\u001b[0m",
      "\u001b[0;31mTypeError\u001b[0m                                 Traceback (most recent call last)",
      "Cell \u001b[0;32mIn[31], line 1\u001b[0m\n\u001b[0;32m----> 1\u001b[0m \u001b[43mdf\u001b[49m\u001b[38;5;241;43m.\u001b[39;49m\u001b[43mshape\u001b[49m\u001b[43m[\u001b[49m\u001b[38;5;241;43m0\u001b[39;49m\u001b[43m]\u001b[49m \u001b[38;5;241m=\u001b[39m \u001b[38;5;241m5\u001b[39m\n",
      "\u001b[0;31mTypeError\u001b[0m: 'tuple' object does not support item assignment"
     ]
    }
   ],
   "source": [
    "df.shape[0] = 5"
   ]
  },
  {
   "cell_type": "markdown",
   "id": "11f55d5e-4d8a-4f7a-acde-d782bd2316c4",
   "metadata": {},
   "source": [
    "We have returned a `TypeError` informing us the tuple objects do not support item assigment (adding new items to the tuple).\n",
    "\n",
    "Similar to lists, elements of a tuple are ordered and can be duplicated."
   ]
  },
  {
   "cell_type": "markdown",
   "id": "65a697ee-d800-44b0-856e-82d93b340cb2",
   "metadata": {},
   "source": [
    "### Sets\n",
    "\n",
    "Set in Python:\n",
    "\n",
    "* unordered collection objects.\n",
    "* set elements cannot be duplicated. \n",
    "* sets are immutable.\n",
    "* sets are created by placing elements inside curly brackets `{}`.\n",
    "\n",
    "Let's create a set and demonstrate that it cannot store duplicate values."
   ]
  },
  {
   "cell_type": "code",
   "execution_count": 32,
   "id": "54c68933-ada7-41fd-9a84-6be5ecb67ef7",
   "metadata": {},
   "outputs": [
    {
     "data": {
      "text/plain": [
       "{'bf66_sample_1', 'bf66_sample_2', 'bf66_sample_3'}"
      ]
     },
     "execution_count": 32,
     "metadata": {},
     "output_type": "execute_result"
    }
   ],
   "source": [
    "{\"bf66_sample_1\", \"bf66_sample_2\", \"bf66_sample_2\", \"bf66_sample_3\"}"
   ]
  },
  {
   "cell_type": "code",
   "execution_count": 33,
   "id": "5a08eb90-8b2d-4f85-83df-0f1db31549f0",
   "metadata": {},
   "outputs": [
    {
     "data": {
      "text/plain": [
       "{1, 2, 3, 4}"
      ]
     },
     "execution_count": 33,
     "metadata": {},
     "output_type": "execute_result"
    }
   ],
   "source": [
    "{1, 2, 3, 3, 4}"
   ]
  },
  {
   "cell_type": "markdown",
   "id": "198e1493-6f20-4ba3-8714-74a505ba2008",
   "metadata": {},
   "source": [
    "As sets are not ordered, we cannot access their elements by numeric index locations."
   ]
  },
  {
   "cell_type": "code",
   "execution_count": 34,
   "id": "b66f7ec1-4a16-4525-8d96-71064bcbae91",
   "metadata": {},
   "outputs": [
    {
     "name": "stderr",
     "output_type": "stream",
     "text": [
      "<>:2: SyntaxWarning:\n",
      "\n",
      "'set' object is not subscriptable; perhaps you missed a comma?\n",
      "\n",
      "<>:2: SyntaxWarning:\n",
      "\n",
      "'set' object is not subscriptable; perhaps you missed a comma?\n",
      "\n",
      "/tmp/ipykernel_1677/999854995.py:2: SyntaxWarning:\n",
      "\n",
      "'set' object is not subscriptable; perhaps you missed a comma?\n",
      "\n",
      "/tmp/ipykernel_1677/999854995.py:2: SyntaxWarning:\n",
      "\n",
      "'set' object is not subscriptable; perhaps you missed a comma?\n",
      "\n",
      "/tmp/ipykernel_1677/999854995.py:2: SyntaxWarning:\n",
      "\n",
      "'set' object is not subscriptable; perhaps you missed a comma?\n",
      "\n"
     ]
    },
    {
     "ename": "TypeError",
     "evalue": "'set' object is not subscriptable",
     "output_type": "error",
     "traceback": [
      "\u001b[0;31m---------------------------------------------------------------------------\u001b[0m",
      "\u001b[0;31mTypeError\u001b[0m                                 Traceback (most recent call last)",
      "Cell \u001b[0;32mIn[34], line 2\u001b[0m\n\u001b[1;32m      1\u001b[0m \u001b[38;5;66;03m# This fails as set objects are not subscriptable\u001b[39;00m\n\u001b[0;32m----> 2\u001b[0m \u001b[43m{\u001b[49m\u001b[38;5;124;43m\"\u001b[39;49m\u001b[38;5;124;43mbf66_sample_1\u001b[39;49m\u001b[38;5;124;43m\"\u001b[39;49m\u001b[43m,\u001b[49m\u001b[43m \u001b[49m\u001b[38;5;124;43m\"\u001b[39;49m\u001b[38;5;124;43mbf66_sample_2\u001b[39;49m\u001b[38;5;124;43m\"\u001b[39;49m\u001b[43m,\u001b[49m\u001b[43m \u001b[49m\u001b[38;5;124;43m\"\u001b[39;49m\u001b[38;5;124;43mbf66_sample_3\u001b[39;49m\u001b[38;5;124;43m\"\u001b[39;49m\u001b[43m}\u001b[49m\u001b[43m[\u001b[49m\u001b[38;5;241;43m0\u001b[39;49m\u001b[43m]\u001b[49m\n",
      "\u001b[0;31mTypeError\u001b[0m: 'set' object is not subscriptable"
     ]
    }
   ],
   "source": [
    "# This fails as set objects are not subscriptable\n",
    "{\"bf66_sample_1\", \"bf66_sample_2\", \"bf66_sample_3\"}[0]"
   ]
  },
  {
   "cell_type": "markdown",
   "id": "c512a57c-731a-4a57-be02-8b729eed3429",
   "metadata": {},
   "source": [
    "We can access set elements by looping over them or checking if a value is in the set."
   ]
  },
  {
   "cell_type": "code",
   "execution_count": 35,
   "id": "3997a3e3-0a60-464e-961d-177513efdf2f",
   "metadata": {},
   "outputs": [
    {
     "name": "stdout",
     "output_type": "stream",
     "text": [
      "bf66_sample_1\n",
      "bf66_sample_2\n",
      "bf66_sample_3\n"
     ]
    }
   ],
   "source": [
    "for i in {\"bf66_sample_1\", \"bf66_sample_2\", \"bf66_sample_3\"}:\n",
    "    print(i)"
   ]
  },
  {
   "cell_type": "code",
   "execution_count": 36,
   "id": "e358c14c-55da-4427-b4f8-e5f6e8f97599",
   "metadata": {},
   "outputs": [
    {
     "name": "stdout",
     "output_type": "stream",
     "text": [
      "Checking if 'bf66_sample_1' is in the set:\n",
      "True\n"
     ]
    }
   ],
   "source": [
    "print(\"Checking if 'bf66_sample_1' is in the set:\")\n",
    "print(\"bf66_sample_1\" in {\"bf66_sample_1\", \"bf66_sample_2\", \"bf66_sample_3\"})"
   ]
  },
  {
   "cell_type": "markdown",
   "id": "60d79ee1-decf-44a4-a6a6-a2ae0ff44dfd",
   "metadata": {},
   "source": [
    "Similar to tuples, sets are unchangeable (immutable). Once created, we cannot change the set's values in our programs."
   ]
  },
  {
   "cell_type": "markdown",
   "id": "acdb96b3-947c-4ea7-9a70-11750cb44b6c",
   "metadata": {},
   "source": [
    "### Dictionary objects\n",
    "\n",
    "Dictionary objects, or `dict` objects:\n",
    "\n",
    "* store data as a collection of key:value pairs. \n",
    "* Dictionary objects can be changed and modified. \n",
    "* Dictionary object elements are ordered. \n",
    "* We can access dictionary elements by their key. \n",
    "* Dictionary objects are created by placing key:value pairs inside curly brackets `{}`.\n",
    "* Keys of a dictionary object cannot be duplicated.\n",
    "* Elements (values) of dictionary objects can be of a different type.\n",
    "* Values can be of different lengths.\n",
    "\n",
    "#### Using Dictionary objects to represent tabular data\n",
    "\n",
    "Tabular data has data values stored in rows and columns. Generally, a column corresponds to a particular variable or type of data and rows correspond to observed or measured values. We can use dictionary objects to represent tabular data in Python.\n",
    "\n",
    "For example, we can use the key:value pair pattern to represent a column header and column values.\n",
    "\n",
    "```python\n",
    "\"Elevation(m)\": [213, 222, 214, 254]\n",
    "```\n",
    "\n",
    "Here, we've used a string object to represent the column header (the key) and a list object to represent column values (the value). Combining one or more key:value pairs in a dictionary object is a way of representing tabular data in Python. \n",
    "\n",
    "```python\n",
    "{\n",
    "\"Elevation(m)\": [213, 222, 214, 254],\n",
    "\"Date\": [\"20/11/2017\", \"20/11/2017\", \"20/11/2017\", \"19/11/2017\"],\n",
    "\"sample_id\": [\"bf66_sample_1\", \"bf66_sample_1\", \"bf66_sample_2\", \"bf66_sample_3\"]\n",
    "}\n",
    "\n",
    "```\n",
    "\n",
    "Let's create this dictionary object."
   ]
  },
  {
   "cell_type": "code",
   "execution_count": 37,
   "id": "8537343e-b156-4f97-99a0-171196b5a018",
   "metadata": {},
   "outputs": [
    {
     "data": {
      "text/plain": [
       "{'Elevation(m)': [213, 222, 214, 254],\n",
       " 'Date': ['20/11/2017', '20/11/2017', '20/11/2017', '19/11/2017'],\n",
       " 'sample_id': ['bf66_sample_1',\n",
       "  'bf66_sample_1',\n",
       "  'bf66_sample_2',\n",
       "  'bf66_sample_3']}"
      ]
     },
     "execution_count": 37,
     "metadata": {},
     "output_type": "execute_result"
    }
   ],
   "source": [
    "{\n",
    "\"Elevation(m)\": [213, 222, 214, 254],\n",
    "\"Date\": [\"20/11/2017\", \"20/11/2017\", \"20/11/2017\", \"19/11/2017\"],\n",
    "\"sample_id\": [\"bf66_sample_1\", \"bf66_sample_1\", \"bf66_sample_2\", \"bf66_sample_3\"]\n",
    "}"
   ]
  },
  {
   "cell_type": "markdown",
   "id": "6914d1d2-dd7f-4d04-87a0-82cf49f55cc4",
   "metadata": {},
   "source": [
    "Keys of dictionary objects cannot be duplicated. For example:"
   ]
  },
  {
   "cell_type": "code",
   "execution_count": 38,
   "id": "c9a668c2-6f71-4738-9cd4-5d484885b8c1",
   "metadata": {},
   "outputs": [
    {
     "data": {
      "text/plain": [
       "{'Elevation(m)': [213, 222, 214, 254],\n",
       " 'Date': ['20/11/2017', '20/11/2017', '20/11/2017', '19/11/2017'],\n",
       " 'sample_id': ['bf66_sample_1',\n",
       "  'bf66_sample_1',\n",
       "  'bf66_sample_2',\n",
       "  'bf66_sample_3']}"
      ]
     },
     "execution_count": 38,
     "metadata": {},
     "output_type": "execute_result"
    }
   ],
   "source": [
    "{\n",
    "\"Elevation(m)\": [213, 222, 214, 254],\n",
    "\"Date\": [\"20/11/2017\", \"20/11/2017\", \"20/11/2017\", \"19/11/2017\"],\n",
    "\"sample_id\": [\"bf66_sample_1\", \"bf66_sample_1\", \"bf66_sample_2\", \"bf66_sample_3\"],\n",
    "\"sample_id\": [\"bf66_sample_1\", \"bf66_sample_1\", \"bf66_sample_2\", \"bf66_sample_3\"]\n",
    "}"
   ]
  },
  {
   "cell_type": "markdown",
   "id": "ba9b455c-e4ca-4d90-9e33-6a34c64729e6",
   "metadata": {},
   "source": [
    "To access elements of a dictionary object we can refer to its key. The following code snippet extracts a list of dates from the dictionary object."
   ]
  },
  {
   "cell_type": "code",
   "execution_count": 39,
   "id": "3561e033-b8da-44f1-a274-a89ed9c19dde",
   "metadata": {},
   "outputs": [
    {
     "data": {
      "text/plain": [
       "['20/11/2017', '20/11/2017', '20/11/2017', '19/11/2017']"
      ]
     },
     "execution_count": 39,
     "metadata": {},
     "output_type": "execute_result"
    }
   ],
   "source": [
    "demo_dict = {\"Elevation(m)\": [213, 222, 214, 254],\n",
    "    \"Date\": [\"20/11/2017\", \"20/11/2017\", \"20/11/2017\", \"19/11/2017\"],\n",
    "    \"sample_id\": [\"bf66_sample_1\", \"bf66_sample_1\", \"bf66_sample_2\", \"bf66_sample_3\"]}\n",
    "dates = demo_dict[\"Date\"]\n",
    "dates"
   ]
  },
  {
   "cell_type": "markdown",
   "id": "cfbc2ff6-cf46-4d48-af81-a922450bfcf0",
   "metadata": {},
   "source": [
    "Dictionary objects have a `get()` function that we can use to extract elements."
   ]
  },
  {
   "cell_type": "code",
   "execution_count": 40,
   "id": "163661f7-0126-4137-af4f-4f628e40ac7a",
   "metadata": {},
   "outputs": [
    {
     "data": {
      "text/plain": [
       "['20/11/2017', '20/11/2017', '20/11/2017', '19/11/2017']"
      ]
     },
     "execution_count": 40,
     "metadata": {},
     "output_type": "execute_result"
    }
   ],
   "source": [
    "dates = demo_dict.get(\"Date\")\n",
    "dates"
   ]
  },
  {
   "cell_type": "markdown",
   "id": "ffe40acf-a3bc-4297-9bb9-8a770235a2da",
   "metadata": {},
   "source": [
    "Dictionary objects also have a `keys()` function that returns a list of keys. "
   ]
  },
  {
   "cell_type": "code",
   "execution_count": 41,
   "id": "f494e7d7-421c-4d37-ad3b-1b10fe43b578",
   "metadata": {},
   "outputs": [
    {
     "data": {
      "text/plain": [
       "dict_keys(['Elevation(m)', 'Date', 'sample_id'])"
      ]
     },
     "execution_count": 41,
     "metadata": {},
     "output_type": "execute_result"
    }
   ],
   "source": [
    "demo_dict.keys()"
   ]
  },
  {
   "cell_type": "markdown",
   "id": "53629f84-10b1-402b-9df8-8cfc8dbc9938",
   "metadata": {},
   "source": [
    "There is also a `values()` function that we can use to return a list of values. "
   ]
  },
  {
   "cell_type": "code",
   "execution_count": 42,
   "id": "3f7bc8fb-7cde-44e7-b9e8-74296a39ad29",
   "metadata": {},
   "outputs": [
    {
     "data": {
      "text/plain": [
       "dict_values([[213, 222, 214, 254], ['20/11/2017', '20/11/2017', '20/11/2017', '19/11/2017'], ['bf66_sample_1', 'bf66_sample_1', 'bf66_sample_2', 'bf66_sample_3']])"
      ]
     },
     "execution_count": 42,
     "metadata": {},
     "output_type": "execute_result"
    }
   ],
   "source": [
    "demo_dict.values()"
   ]
  },
  {
   "cell_type": "markdown",
   "id": "1649ebe8-18b0-429e-9085-90eaec35b641",
   "metadata": {},
   "source": [
    "And, the `items()` function returns a tuple of key-value pairs. "
   ]
  },
  {
   "cell_type": "code",
   "execution_count": 43,
   "id": "0e69c36b-27b7-44cb-85d3-303f75614435",
   "metadata": {},
   "outputs": [
    {
     "data": {
      "text/plain": [
       "dict_items([('Elevation(m)', [213, 222, 214, 254]), ('Date', ['20/11/2017', '20/11/2017', '20/11/2017', '19/11/2017']), ('sample_id', ['bf66_sample_1', 'bf66_sample_1', 'bf66_sample_2', 'bf66_sample_3'])])"
      ]
     },
     "execution_count": 43,
     "metadata": {},
     "output_type": "execute_result"
    }
   ],
   "source": [
    "demo_dict.items()"
   ]
  },
  {
   "cell_type": "markdown",
   "id": "f8f93d1f-10b0-4f24-874d-ba2d5c230bdc",
   "metadata": {},
   "source": [
    "We can add elements to a dictionary object by providing a new key with corresponding values."
   ]
  },
  {
   "cell_type": "code",
   "execution_count": 44,
   "id": "f3609abc-e7f9-47ae-9969-6ffc4b6cb8a6",
   "metadata": {},
   "outputs": [
    {
     "data": {
      "text/plain": [
       "{'Elevation(m)': [213, 222, 214, 254],\n",
       " 'Date': ['20/11/2017', '20/11/2017', '20/11/2017', '19/11/2017'],\n",
       " 'sample_id': ['bf66_sample_1',\n",
       "  'bf66_sample_1',\n",
       "  'bf66_sample_2',\n",
       "  'bf66_sample_3'],\n",
       " 'yield': [1.45, 2.5, 3, 2.8, 5.5]}"
      ]
     },
     "execution_count": 44,
     "metadata": {},
     "output_type": "execute_result"
    }
   ],
   "source": [
    "demo_dict[\"yield\"] = [1.45, 2.5, 3, 2.8, 5.5]\n",
    "demo_dict"
   ]
  },
  {
   "cell_type": "markdown",
   "id": "def03fa2-9827-4e62-bf02-537185bac00b",
   "metadata": {},
   "source": [
    "You will notice that the list of yield values we just added to the dictionary has a different number of elements to the other elements in the values slots.  "
   ]
  },
  {
   "cell_type": "markdown",
   "id": "85962a0c-6fe4-4f01-a36a-65486c80e691",
   "metadata": {},
   "source": [
    "### Recap quiz\n",
    "\n",
    "<details>\n",
    "    <summary><code>x = [1, 2, 3, 4]</code> - what data structure is <code>x</code>?</summary>\n",
    "List\n",
    "</details>\n",
    "\n",
    "<details>\n",
    "    <summary><code>q = {1, 2, 3, 4}</code> - what data structure is <code>q</code>?</summary>\n",
    "Set\n",
    "</details>\n",
    "\n",
    "<details>\n",
    "    <summary>Which data structure organises its elements using key:value pairs?</summary>\n",
    "Dictionary objects\n",
    "</details>\n",
    "\n",
    "<details>\n",
    "    <summary>Are lists immutable data structures?</summary>\n",
    "No, we can modify the values of a list and change its size (number of elements) during the program's execution.\n",
    "</details>"
   ]
  },
  {
   "cell_type": "markdown",
   "id": "ca7b9231-e104-42ef-8c62-57b2250ec532",
   "metadata": {},
   "source": [
    "Edit the following code snippet to retrieve and print the 3rd element in `x`."
   ]
  },
  {
   "cell_type": "code",
   "execution_count": 48,
   "id": "2fd555b7-8fbf-4037-9658-abd6dcce4a33",
   "metadata": {},
   "outputs": [],
   "source": [
    "x = [1, 2, 3, 4]\n",
    "# add code here #"
   ]
  },
  {
   "cell_type": "markdown",
   "id": "68068c0b-d4cc-47ef-8124-e70f6331e8e0",
   "metadata": {},
   "source": [
    "<details>\n",
    "    <summary><b>answer</b></summary>\n",
    "<code>print(x[2])</code>\n",
    "</details>"
   ]
  },
  {
   "cell_type": "markdown",
   "id": "b9314d19-c6a0-465e-b19a-1f070b7fb507",
   "metadata": {},
   "source": [
    "Edit the following code snippet to retrieve and print the first element in `z`."
   ]
  },
  {
   "cell_type": "code",
   "execution_count": 50,
   "id": "e45c95bb-373f-4178-991d-e8b297ea4fa2",
   "metadata": {},
   "outputs": [],
   "source": [
    "z = (4, 5)\n",
    "# add code here #"
   ]
  },
  {
   "cell_type": "markdown",
   "id": "2e05be7c-ff56-4505-a7d2-94ddac612913",
   "metadata": {},
   "source": [
    "<details>\n",
    "    <summary><b>answer</b></summary>\n",
    "<code>print(z[0])</code>\n",
    "</details>"
   ]
  },
  {
   "cell_type": "markdown",
   "id": "266d9925-cab8-4b2d-adb4-2ee3c82f710d",
   "metadata": {},
   "source": [
    "What is the data type of the value associated with the `field` key in the dict `q`? Retrieve this value from the dict and print its type. "
   ]
  },
  {
   "cell_type": "code",
   "execution_count": 53,
   "id": "8d334e07-d2fc-42cd-8434-5770b8c1bf90",
   "metadata": {},
   "outputs": [],
   "source": [
    "q = {\n",
    "\"name\": \"farm 1\",\n",
    "\"field\": 439,\n",
    "\"crop\": \"canola\"\n",
    "}\n",
    "# add code here #"
   ]
  },
  {
   "cell_type": "markdown",
   "id": "7723e928-785d-4af0-9f54-54a188371155",
   "metadata": {},
   "source": [
    "<details>\n",
    "    <summary><b>answer</b></summary>\n",
    "<code>print(type(z[\"field\"]))</code>\n",
    "</details>"
   ]
  },
  {
   "cell_type": "markdown",
   "id": "c8dba7d5-1ce7-4ffd-8534-2680496b3657",
   "metadata": {},
   "source": [
    "## Variables\n",
    "\n",
    "In the program to read in and visualise crop yield data, you will have noticed this syntax pattern: `variable_name = data`. \n",
    "\n",
    "```\n",
    "basemap = \"https://server.arcgisonline.com/ArcGIS/rest/services/World_Imagery/MapServer/tile/{z}/{y}/{x}\"\n",
    "```\n",
    "\n",
    "`=` is the assignment operator (not equals) which is assigning (or binding) the `variable_name` to the `data` object. \n",
    "\n",
    "The statement `basemap = \"https://server.arcgisonline.com/ArcGIS/rest/services/World_Imagery/MapServer/tile/{z}/{y}/{x}\"` is assigning the name `basemap` to the data `\"https://server.arcgisonline.com/ArcGIS/rest/services/World_Imagery/MapServer/tile/{z}/{y}/{x}\"`. The data is string which is storing the URL for a satellite imagery basemap. \n",
    "\n",
    "Let's see what the data looks like."
   ]
  },
  {
   "cell_type": "code",
   "execution_count": 42,
   "id": "ee44fba7-c2d2-4be0-b98e-936b5172b6e9",
   "metadata": {},
   "outputs": [
    {
     "name": "stdout",
     "output_type": "stream",
     "text": [
      "https://server.arcgisonline.com/ArcGIS/rest/services/World_Imagery/MapServer/tile/{z}/{y}/{x}\n"
     ]
    }
   ],
   "source": [
    "print(\"https://server.arcgisonline.com/ArcGIS/rest/services/World_Imagery/MapServer/tile/{z}/{y}/{x}\")"
   ]
  },
  {
   "cell_type": "markdown",
   "id": "b71a12b2-85f1-4ced-85aa-779057a22743",
   "metadata": {},
   "source": [
    "Now, let's assign the name `basemap` to the data object storing string URL."
   ]
  },
  {
   "cell_type": "code",
   "execution_count": 43,
   "id": "2865deba-c48e-4c8a-ab32-ee0463a270c8",
   "metadata": {},
   "outputs": [
    {
     "name": "stdout",
     "output_type": "stream",
     "text": [
      "https://server.arcgisonline.com/ArcGIS/rest/services/World_Imagery/MapServer/tile/{z}/{y}/{x}\n"
     ]
    }
   ],
   "source": [
    "basemap = \"https://server.arcgisonline.com/ArcGIS/rest/services/World_Imagery/MapServer/tile/{z}/{y}/{x}\"\n",
    "print(basemap)"
   ]
  },
  {
   "cell_type": "markdown",
   "id": "9d61228a-7c94-41b1-9379-6652cff2d5cc",
   "metadata": {},
   "source": [
    "Calling `print()` on the variable name returns the data object that the variable name refers to.\n",
    "\n",
    "We can assign variable names to any Python objects. When the variable name is used in a Python statement, the data value which the variable points to is used in the operations. "
   ]
  },
  {
   "cell_type": "code",
   "execution_count": 44,
   "id": "e7cda1bb-224a-4aa8-aacf-9266b05408f1",
   "metadata": {},
   "outputs": [
    {
     "name": "stdout",
     "output_type": "stream",
     "text": [
      "3\n"
     ]
    }
   ],
   "source": [
    "x = 1\n",
    "y = 2\n",
    "z = x + y\n",
    "print(z)"
   ]
  },
  {
   "cell_type": "markdown",
   "id": "6ee25f02-a942-47ef-a3b6-6e176f076892",
   "metadata": {},
   "source": [
    "Variables make a program's code easier to organise, write, and understand. We could have performed the above addition operation by just writing `1 + 2`. However, this doesn't provide us with a way to capture the result of that operation and use it again in our program without re-running `1 + 2`. \n",
    "\n",
    "Variables provide us with a mechanism by which we retrieve and use data objects (that are stored in the computer's memory) at various places in our program. A variable name points to the location in the computer's memory where a data object is stored.  \n",
    "\n",
    "While using the result of `1 + 2` is a trivial example, there are many cases where using variables is important. This statement reads a CSV file into our Python program: `tmp_df = pd.read_csv(os.path.join(harvester_data_path, i))`. To access the data stored in the CSV file we can use variable name `tmp_df` which points to where the data in the CSV file was loaded into memory. We don't need to read the CSV file from disk each time we want to access its data. \n",
    "\n",
    "Let's make these concepts concrete. \n",
    "\n",
    "When we assign the variable name `basemap` to the string `\"https://server.arcgisonline.com/ArcGIS/rest/services/World_Imagery/MapServer/tile/{z}/{y}/{x}\"`, the variable name is a pointer to the string's data object. \n",
    "\n",
    "![](https://github.com/data-analysis-3300-3003/figs/raw/main/week-1-variable.jpg)"
   ]
  },
  {
   "cell_type": "markdown",
   "id": "03400e6e-7fbb-45c0-b9a6-3bc2e2bc64fb",
   "metadata": {},
   "source": [
    "If we create another variable called `basemap_1` and assign it to `basemap`, both variables will point to the same data object (the string URL).\n",
    "\n",
    "![](https://github.com/data-analysis-3300-3003/figs/raw/main/week-1-variable-1.jpg)\n",
    "\n",
    "Let's check this. "
   ]
  },
  {
   "cell_type": "code",
   "execution_count": 45,
   "id": "c1f61406-69a3-4c3b-9903-b807c4d388fa",
   "metadata": {},
   "outputs": [
    {
     "name": "stdout",
     "output_type": "stream",
     "text": [
      "https://server.arcgisonline.com/ArcGIS/rest/services/World_Imagery/MapServer/tile/{z}/{y}/{x}\n"
     ]
    }
   ],
   "source": [
    "basemap_1 = basemap\n",
    "print(basemap_1)"
   ]
  },
  {
   "cell_type": "markdown",
   "id": "1785b555-a443-4fe6-b9e2-3a4104686ee3",
   "metadata": {},
   "source": [
    "If we assign `basemap` to a new data object, `basemap_1` will still point to the original string data.\n",
    "\n",
    "![](https://github.com/data-analysis-3300-3003/figs/raw/main/week-1-variable-2.jpg)"
   ]
  },
  {
   "cell_type": "code",
   "execution_count": 46,
   "id": "454e48a4-e51f-4764-86ba-134e424c4fd2",
   "metadata": {},
   "outputs": [
    {
     "name": "stdout",
     "output_type": "stream",
     "text": [
      "[1, 2, 3, 4, 5]\n",
      "https://server.arcgisonline.com/ArcGIS/rest/services/World_Imagery/MapServer/tile/{z}/{y}/{x}\n"
     ]
    }
   ],
   "source": [
    "basemap = [1, 2, 3, 4, 5]\n",
    "print(basemap)\n",
    "print(basemap_1)"
   ]
  },
  {
   "cell_type": "markdown",
   "id": "d6327494-8fa8-44de-9437-d76af8bc923f",
   "metadata": {},
   "source": [
    "If we assign `basemap_1` to a new data object the string data for URL will no longer be accessible in our program and will eventually be removed from the computer's memory. "
   ]
  },
  {
   "cell_type": "markdown",
   "id": "9de8dc79-bad5-41c5-bb3e-78904c1c7a65",
   "metadata": {},
   "source": [
    "### Variable names\n",
    "\n",
    "There are rules that need to be followed when creating variable names:\n",
    "\n",
    "* variable names can only be text letters (A-Z, a-z), numbers (0-9), or underscores (_)\n",
    "* variable names cannot begin with a number\n",
    "* variable names cannot include whitespace\n",
    "* variable names cannot be reserved keywords such True, False, if\n",
    "\n",
    "There are also some conventions that can be followed to help write programs that are easy to follow: \n",
    "\n",
    "* use a consistent style for writing variable names - snake_case where words are separated by underscores is recommended by the PEP8 style guide for Python code\n",
    "* use a descriptive variable name so it helps you understand what kind of data it is referring to"
   ]
  },
  {
   "cell_type": "markdown",
   "id": "5cd44c12-a099-4557-a938-d6b98c1b003f",
   "metadata": {},
   "source": [
    "## Control flow\n",
    "\n",
    "So far we have demonstrated how we can represent information and concepts in our program as different data types and using different data structures. However, we are not using our program as a data storage device. We are using it to complete tasks with this data. Control flow refers to the sequence of steps that our program takes from start to finish when it is run. \n",
    "\n",
    "The most simple form of control flow is executing statements from top to bottom as they are written in your script."
   ]
  },
  {
   "cell_type": "code",
   "execution_count": 54,
   "id": "4438b56a-854b-4f1e-a2c5-dd0887c4773c",
   "metadata": {},
   "outputs": [
    {
     "name": "stdout",
     "output_type": "stream",
     "text": [
      "this statement is executed first\n",
      "and this statement is executed second\n"
     ]
    }
   ],
   "source": [
    "print(\"this statement is executed first\")\n",
    "print(\"and this statement is executed second\")"
   ]
  },
  {
   "cell_type": "markdown",
   "id": "c2daa5df-0b2c-48b3-bf40-dfe0f64efc33",
   "metadata": {},
   "source": [
    "### Loops\n",
    "\n",
    "Loops use a `for` statement that allows us to iterate over items in a sequence. For example, if `x` is a list `[1, 2, 3]` then:\n",
    "\n",
    "```\n",
    "for i in x:\n",
    "    print(i)\n",
    "```\n",
    "\n",
    "will print the values of 1, 2, and 3 in turn for each iteration of the loop, `i`, takes on the value of the corresponding element in `x`.\n",
    "\n",
    "For loops are useful if we want to iterate over (repeat) a block of statements using different values from a sequence of items in turn. If we wanted to add 10 to each element of `x` we could write a for loop as:\n",
    "\n",
    "```\n",
    "for i in x:\n",
    "    print(i + 10)\n",
    "```\n",
    "\n",
    "Let's demonstrate this."
   ]
  },
  {
   "cell_type": "code",
   "execution_count": 55,
   "id": "2e17ff76-fc34-4cf7-a46d-fd7f33d9d9a5",
   "metadata": {},
   "outputs": [
    {
     "name": "stdout",
     "output_type": "stream",
     "text": [
      "11\n",
      "12\n",
      "13\n"
     ]
    }
   ],
   "source": [
    "x = [1, 2, 3]\n",
    "\n",
    "for i in x:\n",
    "    print(i + 10)"
   ]
  },
  {
   "cell_type": "markdown",
   "id": "17446111-7c9d-4219-9db2-786eebd673de",
   "metadata": {},
   "source": [
    "**It is important to note that the statements inside the for loop must be indented.**\n",
    "\n",
    "Let's refer back to our program to read in crop yield data and see a use of for loops.\n",
    "\n",
    "```python\n",
    "# Combine the csv files into one data frame\n",
    "dfs = []\n",
    "\n",
    "for i in harvester_data_files:\n",
    "    if i.endswith(\".csv\"):\n",
    "        print(f\"Loading file {i} into a Pandas DataFrame\")\n",
    "        tmp_df = pd.read_csv(os.path.join(harvester_data_path, i))\n",
    "        dfs.append(tmp_df)\n",
    "```\n",
    "\n",
    "Here, the for loop is iterating over a list of file paths to CSV files storing crop yield data. For each of the CSV files in the list, the data is read into a variable `tmp_df` in turn, and, then appended to the list `dfs`. This is an example of how we can loop over a series of files in a folder on our computer and read their data into our Python program. \n",
    "\n",
    "Let's modify the for loop to illustrate this."
   ]
  },
  {
   "cell_type": "code",
   "execution_count": 56,
   "id": "6c6b94ff-6d62-4006-b767-47777c9dcc9a",
   "metadata": {},
   "outputs": [
    {
     "name": "stdout",
     "output_type": "stream",
     "text": [
      "['.DS_Store', '.ipynb_checkpoints', 'canola-yield-df-1.csv', 'canola-yield-df-2.csv', 'canola-yield-df-3.csv']\n",
      " \n",
      "**********************************************************\n",
      "We are currently loading file canola-yield-df-1.csv into a Pandas DataFrame\n",
      "    Latitude   Longitude  DryYield  Crop             Time  Heading   Variety  \\\n",
      "0 -31.606760  117.497719     0.227     5  11/11/2020 8:01    242.7  43Y23 RR   \n",
      "1 -31.605409  117.496881     0.372     5  11/11/2020 8:02    344.3  43Y23 RR   \n",
      "2 -31.603557  117.496855     0.651     5  11/11/2020 8:04    359.9  43Y23 RR   \n",
      "3 -31.601549  117.496855     0.923     5  11/11/2020 8:05    359.8  43Y23 RR   \n",
      "4 -31.599818  117.496855     1.216     5  11/11/2020 8:06    360.0  43Y23 RR   \n",
      "\n",
      "   Elevation      sample_id  \n",
      "0     264.32  bf66_sample_1  \n",
      "1     265.39  bf66_sample_1  \n",
      "2     262.40  bf66_sample_1  \n",
      "3     264.61  bf66_sample_1  \n",
      "4     267.51  bf66_sample_1  \n",
      " \n",
      "**********************************************************\n",
      "We are currently loading file canola-yield-df-2.csv into a Pandas DataFrame\n",
      "    Latitude   Longitude  DryYield  Crop             Time  Heading   Variety  \\\n",
      "0 -31.600453  117.493947     0.824     5  11/12/2020 5:18    360.0  43Y23 RR   \n",
      "1 -31.598607  117.493947     0.733     5  11/12/2020 5:19    359.8  43Y23 RR   \n",
      "2 -31.596753  117.493947     0.814     5  11/12/2020 5:20      0.2  43Y23 RR   \n",
      "3 -31.594771  117.493947     0.505     5  11/12/2020 5:22      0.4  43Y23 RR   \n",
      "4 -31.592741  117.493947     0.477     5  11/12/2020 5:23      0.1  43Y23 RR   \n",
      "\n",
      "   Elevation      sample_id  \n",
      "0     269.18  bf66_sample_2  \n",
      "1     275.82  bf66_sample_2  \n",
      "2     278.69  bf66_sample_2  \n",
      "3     275.98  bf66_sample_2  \n",
      "4     271.18  bf66_sample_2  \n",
      " \n",
      "**********************************************************\n",
      "We are currently loading file canola-yield-df-3.csv into a Pandas DataFrame\n",
      "    Latitude   Longitude  DryYield  Crop             Time  Heading   Variety  \\\n",
      "0 -31.595314  117.487245     0.336     5  11/12/2020 8:30    180.4  43Y23 RR   \n",
      "1 -31.597407  117.487246     0.428     5  11/12/2020 8:32    178.9  43Y23 RR   \n",
      "2 -31.599544  117.487245     0.287     5  11/12/2020 8:33    180.0  43Y23 RR   \n",
      "3 -31.601671  117.487245     0.081     5  11/12/2020 8:34    179.6  43Y23 RR   \n",
      "4 -31.600163  117.487372     0.271     5  11/12/2020 8:36    359.9  43Y23 RR   \n",
      "\n",
      "   Elevation      sample_id  \n",
      "0     273.03  bf66_sample_3  \n",
      "1     271.27  bf66_sample_3  \n",
      "2     267.35  bf66_sample_3  \n",
      "3     271.18  bf66_sample_3  \n",
      "4     267.91  bf66_sample_3  \n",
      " \n",
      "We have a list of 6 Pandas DataFrames read from csv files\n"
     ]
    }
   ],
   "source": [
    "# Load the canola yield data from the harvester\n",
    "harvester_data_path = os.path.join(os.getcwd(), \"week-1\")\n",
    "\n",
    "# Get a list of canola yield data\n",
    "harvester_data_files = os.listdir(harvester_data_path)\n",
    "\n",
    "# Check we have a list of csv files\n",
    "print(harvester_data_files)\n",
    "\n",
    "# loop over elements in harvester_data_files\n",
    "# i takes on the value of a path to a csv file\n",
    "for i in harvester_data_files: \n",
    "    if i.endswith(\".csv\"):\n",
    "        print(\" \")\n",
    "        print(\"**********************************************************\")\n",
    "        print(f\"We are currently loading file {i} into a Pandas DataFrame\")\n",
    "        tmp_df = pd.read_csv(os.path.join(harvester_data_path, i))\n",
    "        print(tmp_df.head())\n",
    "        dfs.append(tmp_df)\n",
    "\n",
    "print(\" \")\n",
    "print(f\"We have a list of {len(dfs)} Pandas DataFrames read from csv files\")   "
   ]
  },
  {
   "cell_type": "markdown",
   "id": "6515c306-9574-4b92-8a24-1529faa7c554",
   "metadata": {},
   "source": [
    "### Conditional execution\n",
    "\n",
    "Conditional execution is a form of control flow that allows for branches in the sequence that statements are executed. A boolean condition is tested, and, `if` it evaluates to `True` then one set of statements are executed and `if` it evaluates to `False` a different set of statements are executed. \n",
    "\n",
    "Conditions are tested within `if` blocks:\n",
    "\n",
    "```python\n",
    "if True:\n",
    "    these statements are executed\n",
    "else:\n",
    "    these statements are executed\n",
    "```\n",
    "\n",
    "A simple example:\n",
    "\n",
    "```python\n",
    "x = 11\n",
    "\n",
    "if x >= 10:\n",
    "    print(\"x is greater than or equal to 10\")\n",
    "\n",
    "```\n",
    "\n",
    "In this instance, the statements inside the `if` block will be executed as `x` is 11 and so greater than 10.\n",
    "\n",
    "However, if we change the value of x to 9 the statements inside the `if` block will not be executed. \n",
    "\n",
    "```python\n",
    "x = 9\n",
    "\n",
    "if x >= 10:\n",
    "    print(\"x is greater than or equal to 10\")\n",
    "\n",
    "```"
   ]
  },
  {
   "cell_type": "code",
   "execution_count": 57,
   "id": "4030ddf7-ba75-401f-9161-c3c7fbdd5067",
   "metadata": {},
   "outputs": [
    {
     "name": "stdout",
     "output_type": "stream",
     "text": [
      "x is greater than or equal to 10\n"
     ]
    }
   ],
   "source": [
    "x = 11\n",
    "\n",
    "if x >= 10:\n",
    "    print(\"x is greater than or equal to 10\")"
   ]
  },
  {
   "cell_type": "code",
   "execution_count": 58,
   "id": "dbedd054-c035-4514-ab0c-8a0d4f3fa64f",
   "metadata": {},
   "outputs": [],
   "source": [
    "# nothing should be printed\n",
    "x = 9\n",
    "\n",
    "if x >= 10:\n",
    "    print(\"x is greater than or equal to 10\")"
   ]
  },
  {
   "cell_type": "markdown",
   "id": "ebe0225f-0380-4b5d-a335-e8921c9fda6d",
   "metadata": {},
   "source": [
    "**Similar to for loops, the statements inside the `if` block should be indented.**\n",
    "\n",
    "We can use `else` blocks for statements that can be executed if the `if` statement evaluates to `False`.\n",
    "\n",
    "```python\n",
    "x = 9\n",
    "\n",
    "if x >= 10:\n",
    "    print(\"x is greater than or equal to 10\")\n",
    "else:\n",
    "    print(\"x is less than 10\")\n",
    "```"
   ]
  },
  {
   "cell_type": "code",
   "execution_count": 59,
   "id": "cbd70ffd-7c28-4108-a220-0e0034f20c52",
   "metadata": {},
   "outputs": [
    {
     "name": "stdout",
     "output_type": "stream",
     "text": [
      "x is less than 10\n"
     ]
    }
   ],
   "source": [
    "x = 9\n",
    "\n",
    "if x >= 10:\n",
    "    print(\"x is greater than or equal to 10\")\n",
    "else:\n",
    "    print(\"x is less than 10\")"
   ]
  },
  {
   "cell_type": "markdown",
   "id": "01495e46-caa3-422f-bc71-3495e2201ef5",
   "metadata": {},
   "source": [
    "There are many uses for `if` statements in Python programs. An `if` statement was used when we read in CSV files of harvester data.\n",
    "\n",
    "```python\n",
    "# Combine the csv files into one data frame\n",
    "dfs = []\n",
    "\n",
    "for i in harvester_data_files:\n",
    "    if i.endswith(\".csv\"):\n",
    "        print(f\"Loading file {i} into a Pandas DataFrame\")\n",
    "        tmp_df = pd.read_csv(os.path.join(harvester_data_path, i))\n",
    "        dfs.append(tmp_df)\n",
    "```\n",
    "\n",
    "Here, the `if` statement is being used to check the file path is referring to a CSV file. Only if this is `True` does our program try to read the file into a pandas `DataFrame`."
   ]
  },
  {
   "cell_type": "markdown",
   "id": "e620ca74-427f-4eba-bb10-d02f85b5dbd1",
   "metadata": {},
   "source": [
    "### Recap quiz\n",
    "\n",
    "Write a for loop to subtract 3 from every element in a tuple `s` and print the result?"
   ]
  },
  {
   "cell_type": "code",
   "execution_count": 66,
   "id": "6d2e9d64-7648-4a8a-8e37-a2cdc34049c8",
   "metadata": {},
   "outputs": [],
   "source": [
    "s = (1, 2, 3)\n",
    "# add code here #"
   ]
  },
  {
   "cell_type": "markdown",
   "id": "9147a8d4-4f0f-4e39-8a02-35fc55a1240a",
   "metadata": {},
   "source": [
    "<details>\n",
    "    <summary><b>answer</b></summary>\n",
    "<code>for i in s: print(i - 3)</code>\n",
    "</details>"
   ]
  },
  {
   "cell_type": "markdown",
   "id": "dbe7dccb-8030-48de-8dc8-cdfc9bc48840",
   "metadata": {},
   "source": [
    "<details>\n",
    "    <summary><b>How would you iterate over list of file paths?</b></summary>\n",
    "Using a for loop.\n",
    "</details>"
   ]
  },
  {
   "cell_type": "markdown",
   "id": "495cfbba-1529-40d0-b1a0-20ad3d4a3a08",
   "metadata": {},
   "source": [
    "Write a for loop to subtract 3 from every element in the tuple `s` and append the result to a list `q`?"
   ]
  },
  {
   "cell_type": "code",
   "execution_count": 67,
   "id": "a97ab3bb-f762-4404-ad94-2f4a32e451c5",
   "metadata": {},
   "outputs": [],
   "source": [
    "q = []\n",
    "s = (1, 2, 3)\n",
    "# add code here #"
   ]
  },
  {
   "cell_type": "markdown",
   "id": "53afae48-be38-4f2d-a117-16200f851273",
   "metadata": {},
   "source": [
    "<details>\n",
    "    <summary><b>answer</b></summary>\n",
    "<code>for i in s: q.append(i - 3)</code>\n",
    "<code>print(q)</code>\n",
    "</details>"
   ]
  },
  {
   "cell_type": "markdown",
   "id": "992d3dcb-5bfc-4033-96ea-19b834a01904",
   "metadata": {},
   "source": [
    "Write a loop to subtract 3 from every element in the tuple `s` and append the result to a list `q` if the result is less than 0?"
   ]
  },
  {
   "cell_type": "code",
   "execution_count": 68,
   "id": "7a654f4e-9673-4b52-b322-909914a0170c",
   "metadata": {},
   "outputs": [],
   "source": [
    "q = []\n",
    "s = (1, 2, 3)\n",
    "# add code here #"
   ]
  },
  {
   "cell_type": "markdown",
   "id": "cbb524d3-a6c1-46af-8f69-c01a3b525b1d",
   "metadata": {},
   "source": [
    "<details>\n",
    "    <summary><b>answer</b></summary>\n",
    "<code>for i in s:\n",
    "    if i -3 < 0:\n",
    "        q.append(i - 3)\n",
    "print(q)\n",
    "</code>\n",
    "</details>"
   ]
  },
  {
   "cell_type": "markdown",
   "id": "35267b7c-205d-4ec6-9c12-26e055970c69",
   "metadata": {},
   "source": [
    "## Classes and Objects\n",
    "\n",
    "We have mentioned a few times that Python programs comprise objects. We will now define what an object is and how the concept of an object relates to the data types and structures we have looked at above.\n",
    "\n",
    "An object is a more general concept in programming. An object in a computer program has:\n",
    "\n",
    "* properties or attributes (data)\n",
    "* behaviour (methods or functions that do things object data). \n",
    "\n",
    "Objects provide a way to add structure to a program by combining related data and behaviours. \n",
    "\n",
    "Alongside the built-in data types and structures, we can create objects that are customised and useful for specific tasks or representing specific kinds of data. Often, custom data types will combine the built-in data types and structures, or other custom objects, to create objects that represent more complex concepts.\n",
    "\n",
    "### Classes\n",
    "\n",
    "A **class** is a definition of a custom object. The class defines the object's data and methods. An object's data (sometimes called its properties or attributes) can be built-in Python data types or structures or custom classes. An object's methods are functions that can be used to transform data or implement other behaviour that is relevant to the object. \n",
    "\n",
    "This is a very basic class definition for a table object to handle tabular data. For the classes data we can use a dictionary object. A simple class for a table could also have a method that returns a list of the column headers to the user.\n",
    "\n",
    "```python\n",
    "class Table:\n",
    "    \n",
    "    # Properties\n",
    "    # data is dictionary object with key:value pairs for each column\n",
    "    def __init__(self, data):\n",
    "        self.data = data\n",
    "        \n",
    "    # Methods\n",
    "    def get_column_headers(self):\n",
    "        column_headers = self.data.keys()\n",
    "        \n",
    "        return column_headers\n",
    "\n",
    "```\n",
    "\n",
    "However, for most use cases there are existing classes that have already been developed and can be used in our programs. Keeping with the idea of working with tabular data, pandas provides a `DataFrame` class to work with tabular data. In our Python program to visualise the crop yield data we read the tabular data stored in CSV files into pandas `DataFrames`.\n",
    "\n",
    "You can inspect the class definition for a pandas `DataFrame` by executing (maybe do this at the end of the notebook or in a new notebook as it's a long and detailed class definition):  \n",
    "\n",
    "```python\n",
    "import pandas as pd\n",
    "\n",
    "help(pd.DataFrame)\n",
    "```\n",
    "\n",
    "A pandas `DataFrame` is a far more comprehensive class for handling tabular data. Compared to our small example of using a dictionary object to store tabular data, a pandas `DataFrame` implements well defined data structures for storing tabular data and provides a suite of useful methods (functions) for analysing and processing tabular data. \n",
    "\n",
    "This is a snippet of the class definition for a pandas `DataFrame`'s properties (i.e. the tabular data stored in the object). \n",
    "\n",
    "```\n",
    "Help on class DataFrame in module pandas.core.frame:\n",
    "\n",
    "class DataFrame(pandas.core.generic.NDFrame, pandas.core.arraylike.OpsMixin)\n",
    " |  DataFrame(data=None, index: 'Axes | None' = None, columns: 'Axes | None' = None, dtype: 'Dtype | None' = None, copy: 'bool | None' = None) -> 'None'\n",
    " |  \n",
    " |  Two-dimensional, size-mutable, potentially heterogeneous tabular data.\n",
    " |  \n",
    " |  Data structure also contains labeled axes (rows and columns).\n",
    " |  Arithmetic operations align on both row and column labels. Can be\n",
    " |  thought of as a dict-like container for Series objects. The primary\n",
    " |  pandas data structure.\n",
    " |  \n",
    " |  Parameters\n",
    " |  ----------\n",
    " |  data : ndarray (structured or homogeneous), Iterable, dict, or DataFrame\n",
    " |      Dict can contain Series, arrays, constants, dataclass or list-like objects. If\n",
    " |      data is a dict, column order follows insertion-order. If a dict contains Series\n",
    " |      which have an index defined, it is aligned by its index.\n",
    " |  \n",
    " |      .. versionchanged:: 0.25.0\n",
    " |         If data is a list of dicts, column order follows insertion-order.\n",
    " |  \n",
    " |  index : Index or array-like\n",
    " |      Index to use for resulting frame. Will default to RangeIndex if\n",
    " |      no indexing information part of input data and no index provided.\n",
    " |  columns : Index or array-like\n",
    " |      Column labels to use for resulting frame when data does not have them,\n",
    " |      defaulting to RangeIndex(0, 1, 2, ..., n). If data contains column labels,\n",
    " |      will perform column selection instead.\n",
    " |  dtype : dtype, default None\n",
    " |      Data type to force. Only a single dtype is allowed. If None, infer.\n",
    " |  \n",
    " |      .. versionchanged:: 1.3.0\n",
    "```\n",
    "\n",
    "We can see the class `DataFrame` is a data structure for \"Two-dimensional, size-mutable, potentially heterogeneous tabular data\". It has the following properties:\n",
    "\n",
    "* data - the tabular data stored in the data frame (generated from dictionary data)\n",
    "* index - the row index (row labels)\n",
    "* columns - the column headers\n",
    "* dtype - the data types of each column\n",
    "\n",
    "![](https://github.com/data-analysis-3300-3003/figs/raw/main/week-1-pandas-data-frame.jpg)\n",
    "\n",
    "A pandas `DataFrame` stores its values in rows and columns. There is a list of column headers (which should provide a helpful description of what kind of data is in each column) and a row index.\n",
    "\n",
    "The pandas `DataFrame` object stores a range of properties that are useful for working with tabular data. You can look up the documentation for a `DataFrame` <a href=\"https://pandas.pydata.org/docs/reference/frame.html\" target=\"_blank\">here</a>. The properties listed **do not** have parentheses after their name `()`. Let's look at the properties under *attributes and underlying data*. We can see the `DataFrame` has a `values` property which is the actual data values in the table and a `shape` property which tells us the shape of the table (number of rows and columns).\n",
    "\n",
    "![](https://github.com/data-analysis-3300-3003/figs/raw/main/week-1-pandas-docs-labelled.jpg)\n",
    "\n",
    "Most of the time we will not look up class definitions as Python code (as in the snippet above) but explore classes using their documentation websites. Let's read a CSV file into a pandas `DataFrame` and explore its properties."
   ]
  },
  {
   "cell_type": "code",
   "execution_count": 53,
   "id": "ea08feac-e653-45eb-8450-7fdb69cf6697",
   "metadata": {},
   "outputs": [
    {
     "data": {
      "text/plain": [
       "pandas.core.frame.DataFrame"
      ]
     },
     "execution_count": 53,
     "metadata": {},
     "output_type": "execute_result"
    }
   ],
   "source": [
    "# Load the canola yield data from the harvester\n",
    "harvester_data_path = os.path.join(os.getcwd(), \"week-1\", \"canola-yield-df-1.csv\")\n",
    "\n",
    "df = pd.read_csv(harvester_data_path)\n",
    "\n",
    "# check that df is a DataFrame\n",
    "type(df)"
   ]
  },
  {
   "cell_type": "code",
   "execution_count": 54,
   "id": "f1983381-81a8-47ea-98e3-14d4a06e7112",
   "metadata": {},
   "outputs": [
    {
     "data": {
      "text/plain": [
       "(500, 9)"
      ]
     },
     "execution_count": 54,
     "metadata": {},
     "output_type": "execute_result"
    }
   ],
   "source": [
    "# Get the shape property of the DataFrame\n",
    "df.shape"
   ]
  },
  {
   "cell_type": "markdown",
   "id": "ded289d1-964a-48cd-9a9f-87002d45ef99",
   "metadata": {},
   "source": [
    "A tuple data structure is used to store the `shape` property of a `DataFrame`."
   ]
  },
  {
   "cell_type": "code",
   "execution_count": 55,
   "id": "ba81b4f2-6d3a-42fd-9bf5-5a05307dcb53",
   "metadata": {},
   "outputs": [
    {
     "data": {
      "text/plain": [
       "array([[-31.60675982, 117.4977191, 0.227, ..., '43Y23 RR', 264.32,\n",
       "        'bf66_sample_1'],\n",
       "       [-31.60540873, 117.4968805, 0.372, ..., '43Y23 RR', 265.39,\n",
       "        'bf66_sample_1'],\n",
       "       [-31.60355699, 117.4968552, 0.651, ..., '43Y23 RR', 262.4,\n",
       "        'bf66_sample_1'],\n",
       "       ...,\n",
       "       [-31.60688574, 117.493947, 0.476, ..., '43Y23 RR', 271.19,\n",
       "        'bf66_sample_1'],\n",
       "       [-31.60480349, 117.493947, 0.392, ..., '43Y23 RR', 269.8,\n",
       "        'bf66_sample_1'],\n",
       "       [-31.60238646, 117.4939473, 0.649, ..., '43Y23 RR', 264.1,\n",
       "        'bf66_sample_1']], dtype=object)"
      ]
     },
     "execution_count": 55,
     "metadata": {},
     "output_type": "execute_result"
    }
   ],
   "source": [
    "# Get the values of the DataFrame\n",
    "df.values"
   ]
  },
  {
   "cell_type": "markdown",
   "id": "1d01ce1a-16f7-47a0-b2cd-7ba2bb91fa87",
   "metadata": {},
   "source": [
    "However, a `DataFrame` is more than just an object for storing data. It is also where we can find a wide range of tools for working with tabular data - the class methods. Go back to the documentation for a `DataFrame` <a href=\"https://pandas.pydata.org/docs/reference/frame.html\" target=\"_blank\">here</a>. The `DataFrame` methods are indicated by the parentheses after their name `()`. \n",
    "\n",
    "There are methods to help us inspect the `DataFrame` values. The `info()` method prints a concise summary table of the `DataFrame`, there a range of methods for performing mathemtatical <a href=\"https://pandas.pydata.org/docs/reference/frame.html#computations-descriptive-stats\" target=\"_blank\">computations / descriptive stats</a>, and methods for <a href=\"https://pandas.pydata.org/docs/reference/frame.html#serialization-io-conversion\" target=\"_blank\">reading data on disk</a> into `DataFrame`s.\n",
    "\n",
    "Let's explore how we can use some of these methods to work with tabular data in `DataFrames`. "
   ]
  },
  {
   "cell_type": "markdown",
   "id": "2f6a64b0-99ff-4425-a4b1-0af42457175e",
   "metadata": {},
   "source": [
    "The `DataFrame` referenced by `df` has an `info()` method. Let's use it. "
   ]
  },
  {
   "cell_type": "code",
   "execution_count": 56,
   "id": "bc45f910-d456-4bf4-9dd9-d34f25a94b5a",
   "metadata": {},
   "outputs": [
    {
     "name": "stdout",
     "output_type": "stream",
     "text": [
      "<class 'pandas.core.frame.DataFrame'>\n",
      "RangeIndex: 500 entries, 0 to 499\n",
      "Data columns (total 9 columns):\n",
      " #   Column     Non-Null Count  Dtype  \n",
      "---  ------     --------------  -----  \n",
      " 0   Latitude   500 non-null    float64\n",
      " 1   Longitude  500 non-null    float64\n",
      " 2   DryYield   500 non-null    float64\n",
      " 3   Crop       500 non-null    int64  \n",
      " 4   Time       500 non-null    object \n",
      " 5   Heading    500 non-null    float64\n",
      " 6   Variety    500 non-null    object \n",
      " 7   Elevation  500 non-null    float64\n",
      " 8   sample_id  500 non-null    object \n",
      "dtypes: float64(5), int64(1), object(3)\n",
      "memory usage: 35.3+ KB\n"
     ]
    }
   ],
   "source": [
    "# Load the canola yield data from the harvester\n",
    "harvester_data_path = os.path.join(os.getcwd(), \"week-1\", \"canola-yield-df-1.csv\")\n",
    "\n",
    "df = pd.read_csv(harvester_data_path)\n",
    "\n",
    "df.info()"
   ]
  },
  {
   "cell_type": "markdown",
   "id": "5c275399-2dbb-4884-b983-758e66781934",
   "metadata": {},
   "source": [
    "The `info()` method has printed out a summary of the `DataFrame` for us. A `DataFrame` also has a `mean()` method to quickly compute the average of values in a column. "
   ]
  },
  {
   "cell_type": "code",
   "execution_count": 57,
   "id": "b5cb7cf4-1427-4612-9caa-fe6a7fab37a6",
   "metadata": {},
   "outputs": [
    {
     "data": {
      "text/plain": [
       "Latitude     -31.598355\n",
       "Longitude    117.496685\n",
       "DryYield       0.634416\n",
       "Crop           5.000000\n",
       "Heading      174.047400\n",
       "Elevation    265.177260\n",
       "dtype: float64"
      ]
     },
     "execution_count": 57,
     "metadata": {},
     "output_type": "execute_result"
    }
   ],
   "source": [
    "df.mean(numeric_only=True)"
   ]
  },
  {
   "cell_type": "markdown",
   "id": "e3577996-8c13-4f2f-83f9-88aeb9f1f27d",
   "metadata": {},
   "source": [
    "You will notice that we passed `numeric_only=True` when using the `mean()` method. Head the the <a href=\"https://pandas.pydata.org/docs/reference/api/pandas.DataFrame.mean.html#pandas.DataFrame.mean\" target=\"_blank\">mean()</a> documentation to see what this does."
   ]
  },
  {
   "cell_type": "markdown",
   "id": "7422552f-cd7c-495d-b4bb-881a4b6493f8",
   "metadata": {},
   "source": [
    "### Instances\n",
    "\n",
    "Above we said that a class is a definition of an object. The class never has any data stored in it or executes any of its methods - it's just a template for a particular type of object. Objects are **instances** of a class.\n",
    "\n",
    "When we executed the statement `df = pd.read_csv(\"csv_file.csv\")` we are creating an instance object of the `DataFrame` class which is stored in the computer's memory. \n",
    "\n",
    "### Dot notation\n",
    "\n",
    "We use the `.` operator to access properties and methods of class. For example to access the `shape` property of a `DataFrame` we write `df.shape` and to access the `info()` method we write `df.info()`."
   ]
  },
  {
   "cell_type": "markdown",
   "id": "3efbe418-68f1-40fc-abde-b93eca3a57b3",
   "metadata": {},
   "source": [
    "## Modules\n",
    "\n",
    "There is one final concept to cover that is used in our program to read and visualise harvester yield data. The very first lines of the program.\n",
    "\n",
    "```python\n",
    "# Import modules\n",
    "import os\n",
    "import pandas as pd\n",
    "import geopandas as gpd\n",
    "import plotly.express as px\n",
    "```\n",
    "\n",
    "Here, we are importing modules into our script.  A module is a Python file (a file with a `.py` ending) that contains class definitions and functions. When we import a module into our program we can use the classes defined in the module.\n",
    "\n",
    "For example, we have used the method `os.path.join()` from the os module in our program. This function takes string data describing parts of a file path and joins them together to create path to a directory or file. "
   ]
  },
  {
   "cell_type": "code",
   "execution_count": 58,
   "id": "c1f24066-68ee-440b-b56b-94b2be6ff9cc",
   "metadata": {},
   "outputs": [
    {
     "name": "stdout",
     "output_type": "stream",
     "text": [
      "/home/jovyan/work/data/week-1/canola-yield-df-1.csv\n"
     ]
    }
   ],
   "source": [
    "harvester_data_path = os.path.join(os.getcwd(), \"data\", \"week-1\", \"canola-yield-df-1.csv\")\n",
    "print(harvester_data_path)"
   ]
  },
  {
   "cell_type": "markdown",
   "id": "5eaa9aae-fa00-4127-b40e-8eac4aa9aab3",
   "metadata": {},
   "source": [
    "Inside the `os.path.join()` function you will see that we use the `os.getcwd()` method from the os module. This returns the current working directory."
   ]
  },
  {
   "cell_type": "code",
   "execution_count": 59,
   "id": "2a7c3548-7cde-4045-a0a6-e1a1684e6f96",
   "metadata": {},
   "outputs": [
    {
     "data": {
      "text/plain": [
       "'/home/jovyan/work'"
      ]
     },
     "execution_count": 59,
     "metadata": {},
     "output_type": "execute_result"
    }
   ],
   "source": [
    "os.getcwd()"
   ]
  },
  {
   "cell_type": "markdown",
   "id": "838b9666-4e5d-497c-9910-a546adbebcb1",
   "metadata": {},
   "source": [
    "You will see that we imported pandas as `pd`. This means we can refer to pandas as `pd` in our script. For example, to access the `read_csv()` function we write `pd.read_csv()` and not `pandas.read_csv()`. This is just a convenience to make the script less cluttered. The following would also be valid.\n",
    "\n",
    "```python\n",
    "import pandas\n",
    "df = pandas.read_csv(\"file.csv\")\n",
    "```"
   ]
  }
 ],
 "metadata": {
  "kernelspec": {
   "display_name": "Python 3 (ipykernel)",
   "language": "python",
   "name": "python3"
  },
  "language_info": {
   "codemirror_mode": {
    "name": "ipython",
    "version": 3
   },
   "file_extension": ".py",
   "mimetype": "text/x-python",
   "name": "python",
   "nbconvert_exporter": "python",
   "pygments_lexer": "ipython3",
   "version": "3.10.8"
  },
  "vscode": {
   "interpreter": {
    "hash": "0a3a540d733e13dd2cfc4c76ea59809fcb1c94b9ada5b1181b5aea89bebb185d"
   }
  }
 },
 "nbformat": 4,
 "nbformat_minor": 5
}
