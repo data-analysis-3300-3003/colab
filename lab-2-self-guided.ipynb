{
 "cells": [
  {
   "cell_type": "markdown",
   "id": "66a7516f-51d5-40bc-b126-99f2cd9e7f6b",
   "metadata": {},
   "source": [
    "# Introduction\n",
    "\n",
    "## Geospatial data I/O\n",
    "\n",
    "Data analysis tasks involve reading data stored in files on disks, servers in the cloud, or recorded by sensors. Also, we need to save the results of our analysis or datasets we have generated to files. \n",
    "\n",
    "### Task\n",
    "\n",
    "In this lab we will write a program that can convert crop yield data collected from a harvester into a geospatial data structure for vector data and write this data to disk using a geospatial file format. You will also write a program that can read geospatial image (raster) data from files into array objects that can be analysed in Python programs. \n",
    "\n",
    "This lab will introduce:\n",
    "\n",
    "* geospatial data file formats\n",
    "* techniques for reading and writing from geospatial data from and to files\n",
    "* Python data structures for representing vector data (`GeoDataFrame` objects)\n",
    "* Python data structures for representing raster data (NumPy `ndarray` objects)\n"
   ]
  },
  {
   "cell_type": "markdown",
   "id": "a5d9012e-9625-434e-93dd-0a9e6ca1628c",
   "metadata": {},
   "source": [
    "## Setup\n",
    "\n",
    "### Run the labs\n",
    "\n",
    "You can run the labs locally on your machine or you can use cloud environments provided by Google Colab or Binderhub. **If you're working with Google Colab be aware that your sessions are temporary and you'll need to take care to save, backup, and download your work.**\n",
    "\n",
    "<a href=\"https://colab.research.google.com/github/data-analysis-3300-3003/colab/blob/main/lab-2-self-guided.ipynb\" target=\"_blank\">\n",
    "  <img src=\"https://colab.research.google.com/assets/colab-badge.svg\" alt=\"Open In Colab\"/>\n",
    "</a>\n",
    "\n",
    "### Download data\n",
    "\n",
    "If you need to download the date for this lab, run the following code snippet. "
   ]
  },
  {
   "cell_type": "code",
   "execution_count": null,
   "id": "000d726e-e9fe-451d-9a6f-f3a69679f96e",
   "metadata": {},
   "outputs": [],
   "source": [
    "import os\n",
    "\n",
    "if \"week-2\" not in os.listdir(os.getcwd()):\n",
    "    os.system('wget \"https://github.com/data-analysis-3300-3003/data/raw/main/data/week-2.zip\"')\n",
    "    os.system('unzip \"week-2.zip\"')"
   ]
  },
  {
   "cell_type": "markdown",
   "id": "10d4eb1c-e8a3-489e-b629-861a5fcedc2b",
   "metadata": {},
   "source": [
    "### Working in Colab\n",
    "\n",
    "If you're working in Google Colab, you'll need to install the required packages that don't come with the colab environment."
   ]
  },
  {
   "cell_type": "code",
   "execution_count": null,
   "id": "f9646a89-e05a-455e-b10c-acc2f6fdcf27",
   "metadata": {},
   "outputs": [],
   "source": [
    "if 'google.colab' in str(get_ipython()):\n",
    "    !pip install geopandas\n",
    "    !pip install pyarrow\n",
    "    !pip install mapclassify\n",
    "    !pip install rasterio"
   ]
  },
  {
   "cell_type": "markdown",
   "id": "e2805a60-fde6-4986-95c2-49ec6bfccc08",
   "metadata": {},
   "source": [
    "### Import modules"
   ]
  },
  {
   "cell_type": "code",
   "execution_count": null,
   "id": "4e94388b-24d1-4fa3-90ae-a69852c26555",
   "metadata": {},
   "outputs": [],
   "source": [
    "import pandas as pd\n",
    "import geopandas as gpd\n",
    "import numpy as np\n",
    "import matplotlib.pyplot as plt\n",
    "import rasterio\n",
    "import json\n",
    "import os\n",
    "import folium\n",
    "import plotly.express as px\n",
    "import plotly.io as pio\n",
    "import pprint\n",
    "\n",
    "# setup renderer\n",
    "if 'google.colab' in str(get_ipython()):\n",
    "    pio.renderers.default = \"colab\"\n",
    "else:\n",
    "    pio.renderers.default = \"jupyterlab\""
   ]
  },
  {
   "cell_type": "markdown",
   "id": "e38281bf-95d6-4b74-b7eb-a193f157a6d0",
   "metadata": {},
   "source": [
    "## Geospatial data\n",
    "\n",
    "Geospatial data is used to take geographic features or phenomenon and represent them as data in computer program or file. \n",
    "\n",
    "There are two main types of geospatial data: \n",
    "\n",
    "* **vector data** - point, line, or polygon geometries\n",
    "* **raster data** - images and arrays\n",
    "\n",
    "There are two components to geospatial data:\n",
    "\n",
    "* **Positional information** describing location, shape, and extent (e.g. an `(x, y)` coordinate pair representing the location of a weather station).\n",
    "* **Attribute information** describing characteristics of the phenomenon or entity (e.g. a name:value pair recording the name of the weather station `name:'Perth Airport'`).\n",
    "\n",
    "#### Raster data model\n",
    "\n",
    "Raster data breaks the Earth's surface up into a grid of cells (pixels). Each pixel is assigned a value that corresponds to the geographic feature or phenomenon of interest. For example, pixels in a raster precipitation dataset would be assigned a numeric value that represents the amount of precipitation that fell at that location. Pixels in a land cover map would have an integer value that corresponds to a particular land cover class label. The values assigned to pixels in a raster dataset are the attribute information. \n",
    "\n",
    "![](https://github.com/data-analysis-3300-3003/figs/raw/main/week-2-raster-data-lc.png)\n",
    "\n",
    "The size of the pixels relative to their position on the Earth's surface determines the spatial detail that can be resolved in the raster dataset. A land cover map with pixels that represent a 1 km x 1 km portion of the Earth's surface will not be able to identify features such as individual buildings.\n",
    "\n",
    "<!-- The figure below shows the 2018 European Space Agency (ESA) Climate Change Initiative (CCI) land cover map. Each pixel represents a 300 m x 300 m area on the Earth’s land surface and a pixel can only represent a single land cover type. If you look at the bottom two zoomed in maps you can see some limitations of representing land cover using 300 m x 300 m spatial resolution raster data. The shape of land cover features are poorly represented by the “block-like” arrangement of pixels and there is variation in land cover within a single pixel (a mixed pixel problem).\n",
    "\n",
    "![](https://github.com/data-analysis-3300-3003/figs/raw/main/week-2-raster-data-model.png) -->\n",
    "\n",
    "#### Vector data model\n",
    "\n",
    "Vector data uses point, line, or polygon geometries to represent geographic features. \n",
    "\n",
    "**Coordinate pairs:** point locations or the vertices in lines and polygons are represented using coordinate pairs. The coordinate pairs indicate where that feature is located on the Earth's surface (relative to an origin); longitude and latitute are commonly used as coordinate pairs. \n",
    "\n",
    "**Attribute information:** vector data also stores non-spatial attribute information which describe characteristics of the geographic phenomenon or entity represented by the geometry feature.\n",
    "\n",
    "![](https://github.com/data-analysis-3300-3003/figs/raw/main/week-2-vector-data.jpg)"
   ]
  },
  {
   "cell_type": "markdown",
   "id": "1adac33d-c444-4e6c-8140-ba57aac005f0",
   "metadata": {},
   "source": [
    "## GeoPandas GeoDataFrame\n",
    "\n",
    "A GeoPandas `GeoDataFrame` is a tabular data structure for storing vector geospatial data and is based on a regular pandas `DataFrame`. \n",
    "\n",
    "A `GeoDataFrame` consists of columns of non-spatial attributes similar to a pandas `DataFrame`. However, a `GeoDataFrame` also has a `geometry` column which is a `GeoSeries` of geometries for the spatial data associated with each row.\n",
    "\n",
    "In Python, geometries are represented as <a href=\"https://shapely.readthedocs.io/en/stable/geometry.html\" target=\"_blank\">Shapely</a> `Geometry` objects. The `geometry` column in a GeoPandas `GeoDataFrame` is a `Series` of Shapely `Geometry` objects. Printing a <a href=\"https://shapely.readthedocs.io/en/stable/geometry.html\" target=\"_blank\">Shapely</a> `Geometry` object returns a Well Known Text (WKT) string description of the geometry (e.g. `POINT (0, 1)`). The `geometry` column of a `GeoDataFrame` (or a `GeoSeries`) can be viewed as a sequence of Shapely `Geometry` objects:\n",
    "\n",
    "```\n",
    "a_geoseries = [POINT (0, 1), POINT (0, 2), POINT (2, 3)]\n",
    "```\n",
    "\n",
    "Shapely provides tools for representing geometries in Python programs. It does not provide tools for reading geometry data from disk or handling attribute data. GeoPandas `GeoDataFrame` and `GeoSeries` combine Shapely's functionality for handling geometries with tools for reading and writing vector data, handling attributes, and visualisation. Therefore, we will focus on using `GeoDataFrame`s in these labs.  \n",
    "\n",
    "Let's convert a CSV file with longitude, latitude, and elevation columns into a `GeoDataFrame`. First, let's read the CSV file in as a pandas `DataFrame`. "
   ]
  },
  {
   "cell_type": "code",
   "execution_count": null,
   "id": "1c0866a3-8ab4-4266-9de9-e7ddfdba035e",
   "metadata": {},
   "outputs": [],
   "source": [
    "elev_df = pd.read_csv(os.path.join(os.getcwd(), \"week-2\", \"week-2-bf66-elevation.csv\"))\n",
    "elev_df.head()"
   ]
  },
  {
   "cell_type": "markdown",
   "id": "475f9119-2050-4070-adbf-78c206c3d192",
   "metadata": {},
   "source": [
    "Now, let's use the longtitude and latitude columns in the `DataFrame` to convert the elevation data into a GeoPandas `GeoDataFrame`."
   ]
  },
  {
   "cell_type": "code",
   "execution_count": null,
   "id": "d69553ca-7306-4891-8114-f9e62cad0398",
   "metadata": {},
   "outputs": [],
   "source": [
    "# Convert the elevation data to a spatial format\n",
    "points = gpd.points_from_xy(elev_df[\"Lon\"], elev_df[\"Lat\"], crs=\"EPSG:4326\")\n",
    "print(f\"points is of type {type(points)}\")\n",
    "\n",
    "elev_gdf = gpd.GeoDataFrame(elev_df, geometry=points)\n",
    "print(f\"elev_gdf is of type {type(elev_gdf)}\")\n",
    "\n",
    "elev_gdf.head()"
   ]
  },
  {
   "cell_type": "markdown",
   "id": "7ba5d466-5029-4b89-a263-5be0e2f92f51",
   "metadata": {},
   "source": [
    "#### Recap quiz\n",
    "\n",
    "You will need to refer to the GeoPandas documentation to answer these questions.\n",
    "\n",
    "<details>\n",
    "    <summary><b>What does executing the <code>GeoDataFrame</code> method <a href=\"https://geopandas.org/en/stable/docs/reference/api/geopandas.points_from_xy.html\" target=\"_blank\"><code>points_from_xy()</code></a> return?</b></summary>\n",
    "<code>points_from_xy()</code> expects a pandas <code>Series</code> objects for x and y coordinates and coordinate reference system. It will return to a GeoPandas <code>GeometryArray</code> object which stores a POINT geometry object for each x and y pair and can be converted into a <code>GeoSeries</code> object.\n",
    "</details>\n",
    "\n",
    "<p></p>\n",
    "    \n",
    "<details>\n",
    "    <summary><b>The <a href=\"https://geopandas.org/en/stable/docs/reference/api/geopandas.GeoDataFrame.html#geopandas.GeoDataFrame\" target=\"_blank\"><code>GeoDataFrame()</code></a> constructor function can take three arguments. What are these arguments and how do they enable the creation of a <code>GeoDataFrame</code> object?</b></summary>\n",
    "    The <code>GeoDataFrame()</code> constructor function requires a pandas <code>DataFrame</code> as its first argument. This data is the non-spatial attributes. The second (optional) argument is a GeoPandas  object which stores <code>geometry</code> objects associated with each row (this could also be a string denoting the column of a <code>DataFrame</code> storing geometries. The third (optional) argument is a crs denoting the coordinate reference system for the geometry data.\n",
    "</details>"
   ]
  },
  {
   "cell_type": "markdown",
   "id": "e1aa4b76-781d-4e2c-b4d1-24ac387f50fc",
   "metadata": {},
   "source": [
    "## GeoJSON\n",
    "\n",
    "So far we have been reading and writing non-spatial tabular data. Parquet and CSV files are well suited for storing tabular data. \n",
    "\n",
    "However, there are different ways of structuring data, some datasets don't lend themselves to tabular structures, and there are different uses of data files than storage on disk. \n",
    "\n",
    "JSON data (JavaScript Object Notation for its full name) is a widely used format for data interchange (exchanging data between programs, computers, clients, and servers). \n",
    "\n",
    "JSON represents data as key:value pairs enclosed within curly brackets `{}` (you might notice the similarity with Python's dictionary data structure). \n",
    "\n",
    "This is an example of JSON data:\n",
    "\n",
    "```\n",
    "{\n",
    "    \"title\": \"Introducing JSON\",\n",
    "    \"url\": \"https://www.json.org/json-en.html\"\n",
    "}\n",
    "```\n",
    "\n",
    "The values in JSON data can include text (strings), numbers, arrays (lists), and nested JSON objects. Like the CSV format, JSON is a text based format where human readable characters are encoded in binary using UTF-8 or UTF-16.\n",
    "\n",
    "GeoJSON is an extension of the JSON format for storing and exchanging spatial data. One of GeoJSON's uses is sending spatial data to web browsers to render as layers on web maps.\n",
    "\n",
    "GeoJSON represents geographic features as vector data (points, lines, and polygon geometries) and can also store non-spatial attribute information.\n",
    " \n",
    "Spatial data in GeoJSON are represented using `geometry` types which include:\n",
    "\n",
    "`Point`\n",
    "\n",
    "```\n",
    "{\"type\": \"Point\", \"coordinates\": [1, 1]}\n",
    "```\n",
    "\n",
    "`LineString`\n",
    "\n",
    "```\n",
    "{\"type\": \"LineString\", \"coordinates\": [[1, 1], [2, 2]]}\n",
    "```\n",
    "\n",
    "`Polygon`\n",
    "\n",
    "```\n",
    "{\"type\": \"Polygon\", \"coordinates\": [[[1, 1], [2, 2], [1, 2], [1, 1]]]}\n",
    "```\n",
    "\n",
    "`Feature` types include attribute data as `properties` with `geometry` types.\n",
    "\n",
    "```\n",
    "{\n",
    "    \"type\": \"Feature\",\n",
    "    \"geometry\": {\n",
    "        \"type\": \"Point\",\n",
    "        \"coordinates\": [0, 0]\n",
    "    }, \n",
    "    \"properties\": {\n",
    "        \"name\": \"Perth Airport\"\n",
    "    }\n",
    "}\n",
    "```\n",
    "\n",
    "A `FeatureCollection` is a collection of `Feature`s.\n",
    "\n",
    "```\n",
    "{\n",
    "    \"type\": \"FeatureCollection\",\n",
    "    \"features\": [\n",
    "        {\n",
    "            \"type\": \"Feature\",\n",
    "            \"geometry\": {\n",
    "                \"type\": \"Point\",\n",
    "                \"coordinates\": [0, 0]\n",
    "            }, \n",
    "            \"properties\": {\n",
    "                \"name\": \"Perth Airport\"\n",
    "            }\n",
    "        },\n",
    "        {\n",
    "            \"type\": \"Feature\",\n",
    "            \"geometry\": {\n",
    "                \"type\": \"Point\",\n",
    "                \"coordinates\": [10, 1]\n",
    "            }, \n",
    "            \"properties\": {\n",
    "                \"name\": \"Broome Airport\"\n",
    "            }\n",
    "        }\n",
    "        \n",
    "    ]\n",
    "}\n",
    "```\n",
    "\n",
    "You can read <a href=\"https://macwright.com/2015/03/23/geojson-second-bite.html#featurecollection\" target=\"_blank\">More than you ever wanted to know about GeoJSON</a> for a description of the GeoJSON format. "
   ]
  },
  {
   "cell_type": "markdown",
   "id": "92b4f5ba-7fc9-484e-9130-12ef911d0db3",
   "metadata": {},
   "source": [
    "Let's get the first two rows of the `GeoDataFrame` and convert them to GeoJSON format. `GeoDataFrame`s have a `to_json()` method which can be used to convert the data in the `GeoDataFrame` into a string object in GeoJSON format. "
   ]
  },
  {
   "cell_type": "code",
   "execution_count": null,
   "id": "bec4f3b9-a82f-4908-834d-2016b8704989",
   "metadata": {},
   "outputs": [],
   "source": [
    "# Get the first two rows of the elevation GeoDataFrame and convert to GeoJSON\n",
    "elev_gdf_2 = elev_gdf.iloc[0:2, :]\n",
    "elev_gdf_2"
   ]
  },
  {
   "cell_type": "code",
   "execution_count": null,
   "id": "cacc7210-28e7-4aa2-a40e-65d31404741d",
   "metadata": {},
   "outputs": [],
   "source": [
    "elev_geojson_2 = elev_gdf_2.to_json()\n",
    "print(f\"The GeoJSON data is stored as a {type(elev_geojson_2)} type object\")\n",
    "print(\"\")\n",
    "pprint.pprint(elev_geojson_2)"
   ]
  },
  {
   "cell_type": "markdown",
   "id": "3c5dee9b-d1a0-4753-b52b-988bc21bd17c",
   "metadata": {},
   "source": [
    "In Python, the GeoJSON data that we have generated from our `GeoDataFrame` is stored as a string object. GeoJSON (and JSON) is a text-based data similar to CSV files. However, unlike the CSV format where data has a tabular structure with records arranged by row the GeoJSON data is based around nested objects of key:value pairs.\n",
    "\n",
    "As we have subsetted the first two rows of our `GeoDataFrame` and converted them to GeoJSON we have generated a `FeatureCollection` object with two `Feature`s. \n",
    "\n",
    "Each row in the `GeoDataFrame` is converted to a `Feature` and each `Feature` has the column values per row stored in a `properties` object - these are the non-spatial attributes associated with each `Point` feature. The spatial information is stored in a `geometry` object which contains two key:value pairs. The value associated with the `type` key tells us this is a `Point` geometry and the array value associated with `coordinates` key defines the location.\n",
    "\n",
    "Compare the tabular display of the `GeoDataFrame` to the print of the GeoJSON to see how the non-spatial and spatial information in the table structure is converted to the GeoJSON nested format. \n",
    "\n",
    "We can save a `GeoDataFrame` to GeoJSON using the `GeoDataFrame`'s `to_file()` method and setting the driver argument to GeoJSON."
   ]
  },
  {
   "cell_type": "code",
   "execution_count": null,
   "id": "3c766f85-6665-472a-a209-5606dfa989d2",
   "metadata": {},
   "outputs": [],
   "source": [
    "# Save the elevation GeoDataFrame to a GeoJSON file\n",
    "elev_gdf.to_file(os.path.join(os.getcwd(), \"week-2\", \"week-2-bf66-elevation.geojson\"), driver=\"GeoJSON\")"
   ]
  },
  {
   "cell_type": "markdown",
   "id": "483151ad-14cc-46cd-a9aa-ea62cc5ad807",
   "metadata": {},
   "source": [
    "Check the GeoJSON file has saved to the directory specified. As it is text data, if you click on it you should be able to inspect its format in a text editor. "
   ]
  },
  {
   "cell_type": "markdown",
   "id": "200f1268-0543-4b4e-bf74-bf3426c1e456",
   "metadata": {},
   "source": [
    "#### Recap quiz\n",
    "\n",
    "<details>\n",
    "    <summary><b>Identify two differences between the GeoJSON file format and a GeoPandas <code>GeoDataFrame</code></b></summary>\n",
    "<ul>\n",
    "<li>A <code>GeoDataFrame</code> is used to store geospatial data in memory for Python programs. A GeoJSON file format describes how geospatial data should be encoded when it is stored on disk.</li>\n",
    "<li>A <code>GeoDataFrame</code> uses a tabular structure to organise non-spatial and spatial attributes with each row corresponding to a feature. GeoJSON format uses dictionary-like structure of key:value pairs with geographic data (coordinates) stored as values with a <code>geometry</code> key and attribute data stored as values with a <code>properties</code> key.</li>\n",
    "</ul>\n",
    "</details>\n"
   ]
  },
  {
   "cell_type": "markdown",
   "id": "c35b8c10-5c37-4696-8a66-8b5728baf556",
   "metadata": {},
   "source": [
    "**You saved the elevation data to a GeoJSON file at this path: `os.path.join(os.getcwd(), \"week-2\", \"week-2-bf66-elevation.geojson\")`.**\n",
    "\n",
    "**Head to the <a href=\"https://geopandas.org/en/stable/getting_started/introduction.html#Reading-and-writing-files\" target=\"_blank\">GeoPandas documentation</a> and look up how to read files into `GeoDataFrame` objects. Read the *elevation.geojson* file into a `GeoDataFrame` referenced by the variable `elev_from_file`.**"
   ]
  },
  {
   "cell_type": "code",
   "execution_count": null,
   "id": "d91335d6-e8db-4396-9610-dffe53d1c03e",
   "metadata": {},
   "outputs": [],
   "source": [
    "## ADD CODE HERE ##"
   ]
  },
  {
   "cell_type": "markdown",
   "id": "0e80b90b-50ea-4ed1-a591-2e6f4df89849",
   "metadata": {},
   "source": [
    "<details>\n",
    "    <summary><b>answer</b></summary>\n",
    "\n",
    "```{python}\n",
    "elev_from_file = gpd.read_file(os.path.join(os.getcwd(), \"week-2\", \"week-2-bf66-elevation.geojson\"))\n",
    "elev_from_file.head()\n",
    "```\n",
    "    \n",
    "Note, this answer assumes GeoPandas has been imported as gpd. \n",
    "</details>"
   ]
  },
  {
   "cell_type": "markdown",
   "id": "cf5f27e7-ac89-45a3-8aa6-dcb6ae060c98",
   "metadata": {},
   "source": [
    "**Write the data referenced by `elev_from_file` to disk as a GeoPackage.**"
   ]
  },
  {
   "cell_type": "code",
   "execution_count": null,
   "id": "34e80266-cd46-4df0-aa07-bbb7a2c5dc9e",
   "metadata": {},
   "outputs": [],
   "source": [
    "## ADD CODE HERE ##"
   ]
  },
  {
   "cell_type": "markdown",
   "id": "de54d520-d889-4853-9910-50f4c1d5a422",
   "metadata": {},
   "source": [
    "<details>\n",
    "    <summary><b>answer</b></summary>\n",
    "    \n",
    "```{python}\n",
    "elev_from_file.to_file(os.path.join(os.getcwd(), \"week-2\", \"week-2-bf66-elevation.gpkg\"), driver=\"GPKG\")\n",
    "```\n",
    "</details>"
   ]
  },
  {
   "cell_type": "markdown",
   "id": "06d8eec9-17fb-4582-871d-2e6baae68936",
   "metadata": {},
   "source": [
    "## GeoTIFF\n",
    "\n",
    "We have demonstrated how we can read and write tabular data and vector geospatial data from and to files. However, many geospatial datasets are based on the raster data model where values are assigned to pixels and pixels represent locations on the Earth's surface. \n",
    "\n",
    "A common source of raster data are remote sensing images captured by sensors on uncrewed aerial vehicles, aircraft, or satellites. Optical remote sensing images store the measured reflectance of light off the Earth's land surface in different wavelenghts. Raster remote sensing images are often stored using the <a href=\"https://gdal.org/drivers/raster/gtiff.html\" target=\"_blank\">GeoTIFF</a> format. \n",
    "\n",
    "A GeoTIFF file is based on the Tagged Image File Format (or .tiff file) which is a general format for storing image data. A TIFF file comprises:\n",
    "\n",
    "* a **TIFF header** which includes 8 bytes that tell us that the file is in TIFF format and where in the file (what byte number / byte offset from 0) the first Image File Directory is stored.\n",
    "* **Image File Directories** which contains image metadata, a pointer to where the image data is in the file (what byte number / byte offset from 0), and the location of the next Image File Directory if there is more than one image stored in the TIFF file. Metadata is stored as fields which comprise a TIFF tag and it's corresponding value.\n",
    "* **Image Data** - the values associated with each pixel in the image. A single TIFF file can store multiple images.\n",
    "\n",
    "![](https://github.com/data-analysis-3300-3003/figs/raw/main/week-2-geotiff.jpg)\n",
    "\n",
    "GeoTIFF files include extra information (metadata) as tags which describe the coordinate reference system (CRS) of the image data (i.e. where on the Earth's surface the image data corresponds to), spatial resolution, no data values, and various other configurations described <a href=\"https://gdal.org/drivers/raster/gtiff.html\" target=\"_blank\">here</a>. \n",
    "\n",
    "GeoTIFF files can store multiple images (i.e. raster layers) in a single file. This makes them well suited for storing remote sensing image data where each raster layer corresponds to measured reflectance in a particular wavelength. \n",
    "\n",
    "We can use the functions provided by the <a href=\"https://rasterio.readthedocs.io/en/latest/\" target=\"_blank\">rasterio</a> package to read and write raster data in Python.\n",
    "\n",
    "We can use rasterio to create a file connection to raster data stored in a GeoTIFF file and use this file connection object to read the raster data into a Python data structure. Rasterio reads raster data from GeoTIFF files on disk into NumPy `ndarray`s in memory. \n",
    "\n",
    "The GeoTIFF file *week-2-s2-summer-2020.tif* stores remote sensing data covering the same field that the elevation and canola yield data were collected from. The remote sensing data was captured by the <a href=\"https://sentinel.esa.int/web/sentinel/missions/sentinel-2\" target=\"_blank\">European Space Agency's Sentinel-2 satellite</a> (10 m spatial resolution). \n",
    "\n",
    "We use the `with` statement and context managers to `open()` connections to GeoTIFF files to `read()` raster data from them using rasterio. As we're using a context manager to handle connections to the file we don't need to call `close()` on the `file` connection object."
   ]
  },
  {
   "cell_type": "code",
   "execution_count": null,
   "id": "ee609a93-ffce-4867-a569-5c0be8093d77",
   "metadata": {},
   "outputs": [],
   "source": [
    "# path the the GeoTIFF file\n",
    "s2_path = os.path.join(os.getcwd(), \"week-2\", \"week-2-s2-summer-2020.tif\")\n",
    "\n",
    "# open the GeoTIFF file and read its metadata and image data\n",
    "with rasterio.open(s2_path) as src:\n",
    "    meta = src.meta\n",
    "    rgb = src.read([4, 3, 2])\n",
    "    red_band = src.read(4)\n",
    "    green_band = src.read(3)\n",
    "    blue_band = src.read(2)"
   ]
  },
  {
   "cell_type": "markdown",
   "id": "25f751aa-4dad-472c-8683-904d2a551d1a",
   "metadata": {},
   "source": [
    "The `file` object `src` is the connection to the GeoTIFF file and it has a `meta` property. The `meta` property stores metadata that describes the raster data in the GeoTIFF file. Let's explore this metadata."
   ]
  },
  {
   "cell_type": "code",
   "execution_count": null,
   "id": "d362fe02-6058-4fa9-a362-77754853656a",
   "metadata": {},
   "outputs": [],
   "source": [
    "pprint.pprint(meta)"
   ]
  },
  {
   "cell_type": "markdown",
   "id": "bcc58100-b255-4294-8036-7a771a38e67a",
   "metadata": {},
   "source": [
    "From the `meta` object we can see the data type of the raster:"
   ]
  },
  {
   "cell_type": "code",
   "execution_count": null,
   "id": "331d0090-a124-4198-b6c3-6d096ac509c4",
   "metadata": {},
   "outputs": [],
   "source": [
    "print(meta[\"dtype\"])"
   ]
  },
  {
   "cell_type": "markdown",
   "id": "03784c80-30f0-4533-bd31-535d04c708ee",
   "metadata": {},
   "source": [
    "We can also see the dimensions of each raster band:"
   ]
  },
  {
   "cell_type": "code",
   "execution_count": null,
   "id": "2efed2ad-f900-4bf8-b72f-883258823578",
   "metadata": {},
   "outputs": [],
   "source": [
    "print(f\"width: {meta['width']}\") \n",
    "print(f\"height: {meta['height']}\") "
   ]
  },
  {
   "cell_type": "markdown",
   "id": "cf5b6530-0f95-4306-81a3-15f00e339990",
   "metadata": {},
   "source": [
    "The `count` property of the `meta` object is the number of bands or raster layers in the GeoTIFF file:"
   ]
  },
  {
   "cell_type": "code",
   "execution_count": null,
   "id": "bd403885-d540-483d-b95b-27ba71f39e94",
   "metadata": {},
   "outputs": [],
   "source": [
    "print(f\"number of bands: {meta['count']}\")"
   ]
  },
  {
   "cell_type": "markdown",
   "id": "358af0d7-fffa-43f0-985c-73cac18032b0",
   "metadata": {},
   "source": [
    "And, we can see the coordinate reference system of the raster data:"
   ]
  },
  {
   "cell_type": "code",
   "execution_count": null,
   "id": "518274e5-fc2a-41a1-b076-aeaf80a96a15",
   "metadata": {},
   "outputs": [],
   "source": [
    "print(meta[\"crs\"])"
   ]
  },
  {
   "cell_type": "markdown",
   "id": "849da4a9-a7d3-4797-b687-fb4919853a31",
   "metadata": {},
   "source": [
    "### NumPy `ndarray`s\n",
    "\n",
    "Calling the `read()` method of the `file` connection object to the GeoTIFF file reads the raster data into a NumPy `ndarray` object. We can specify a number as an argument to the `read()` method to indicate which raster bands we want to read from the GeoTIFF file. For example, `read(2)` will read the second band. If we specify a list of numbers we will read several bands into a multidimensional `ndarray` object. \n",
    "\n",
    "NumPy is a library used for scientific and numerical computing and is based around an N-dimensional `ndarray` object. An `ndarray` is a grid of elements of the same data type. The dimensions of a NumPy `ndarray` are called axes. NumPy `array`s can be created from sequences of values (e.g. stored in lists, tuples, other `ndarray`s).\n",
    "\n",
    "We can create a simple 1-dimensional `ndarray` using the `array()` function."
   ]
  },
  {
   "cell_type": "code",
   "execution_count": null,
   "id": "e592ea44-a22c-460a-8e97-7576b3844638",
   "metadata": {},
   "outputs": [],
   "source": [
    "# create a 1D ndarray\n",
    "arr1d = np.array([1, 2, 3])\n",
    "arr1d"
   ]
  },
  {
   "cell_type": "markdown",
   "id": "7ecace30-1b01-4eb7-afad-44c37b1fbce8",
   "metadata": {},
   "source": [
    "The rank (or number of dimensions) of a `ndarray` is the number of axes."
   ]
  },
  {
   "cell_type": "code",
   "execution_count": null,
   "id": "95e02462-c1e1-423f-b423-6409605d99c3",
   "metadata": {},
   "outputs": [],
   "source": [
    "# the rank (ndim) of an ndarry is the number of axes \n",
    "print(f\"the rank of the ndarray is {arr1d.ndim}\")"
   ]
  },
  {
   "cell_type": "markdown",
   "id": "c7124850-c79f-4536-8c63-719c0ab0f43a",
   "metadata": {},
   "source": [
    "The `shape` of an `ndarray` tells us the size of each axis (how many elements are arranged along that axis)."
   ]
  },
  {
   "cell_type": "code",
   "execution_count": null,
   "id": "041e6374-73f1-40c0-9fa4-395f7b3c086b",
   "metadata": {},
   "outputs": [],
   "source": [
    "# the shape of the ndarray \n",
    "print(f\"the shape of the ndarray is {arr1d.shape}\")"
   ]
  },
  {
   "cell_type": "markdown",
   "id": "045a6cc7-6190-4a08-a261-5a38696c15c8",
   "metadata": {},
   "source": [
    "A `ndarray` with 2-dimensions is a matrix with rows arranged on the 0 axis and columns arranged on the 1 axis. "
   ]
  },
  {
   "cell_type": "code",
   "execution_count": null,
   "id": "4953276b-e702-4a20-8760-77dc6f24983a",
   "metadata": {},
   "outputs": [],
   "source": [
    "# create a 2D ndarray\n",
    "arr2d = np.array([[1, 2, 3], [4, 5, 6]])\n",
    "arr2d"
   ]
  },
  {
   "cell_type": "markdown",
   "id": "0a01e831-5c78-4d91-8400-708b75e0e6b1",
   "metadata": {},
   "source": [
    "The `ndarray` pointed to by `arr2d` is a 2 x 3 matrix of numeric values. We can check this. "
   ]
  },
  {
   "cell_type": "code",
   "execution_count": null,
   "id": "4a00ef77-2490-4992-9109-bebaaa9e65ed",
   "metadata": {},
   "outputs": [],
   "source": [
    "print(f\"the rank of the ndarray is {arr2d.ndim}\")\n",
    "print(f\"the shape of the ndarray is {arr2d.shape}\")"
   ]
  },
  {
   "cell_type": "markdown",
   "id": "927a2692-9e0c-43d7-acdb-a7389bc14d62",
   "metadata": {},
   "source": [
    "`ndarray`s can be multidimensional. They can have more than two dimensions. Remote sensing images typically comprise multiple 2-dimensional arrays with each array corresponding to a raster of reflectance measured in a particular wavelength. This 3-dimensional raster data structure can be represented as a NumPy `ndarray` with the bands dimension on axis 0 (each band is a raster for a given wavelength), rows (height of each raster) on axis 1, and columns (width of each raster) on axis 2. \n",
    "\n",
    "Let's create a `ndarray` with 3-dimensions. "
   ]
  },
  {
   "cell_type": "code",
   "execution_count": null,
   "id": "09b95f3b-d6da-4da5-addb-d5990c7bdc3c",
   "metadata": {},
   "outputs": [],
   "source": [
    "# create a 3D ndarray\n",
    "arr3d = np.array([[[1, 2, 3], [4, 5, 6]], [[7, 8, 9], [10, 11, 12]]])\n",
    "arr3d"
   ]
  },
  {
   "cell_type": "code",
   "execution_count": null,
   "id": "8b5df508-5266-4c71-903f-359393cabbda",
   "metadata": {},
   "outputs": [],
   "source": [
    "print(f\"the rank of the ndarray is {arr3d.ndim}\")\n",
    "print(f\"the shape of the ndarray is {arr3d.shape}\")"
   ]
  },
  {
   "cell_type": "markdown",
   "id": "995235b0-d292-432d-8c6b-1e411c1116bd",
   "metadata": {},
   "source": [
    "The concept of N-dimensional arrays can be extended further. For example, a 4-dimensional `ndarray` could store a sequence of 3-dimensional `ndarray`s where the fourth dimension is time and the object represents remote sensing images captured across multiple dates. "
   ]
  },
  {
   "cell_type": "markdown",
   "id": "6380a78e-4def-46bf-95b9-ed6918af8c55",
   "metadata": {},
   "source": [
    "#### Recap quiz\n",
    "\n",
    "Execute the following code to read in a normalised difference vegetation index (NDVI) layer computed for the same field from a GeoTIFF file and use this data to answer the following questions. "
   ]
  },
  {
   "cell_type": "code",
   "execution_count": null,
   "id": "67151556-33d7-42bc-aa35-6a23761ce11b",
   "metadata": {},
   "outputs": [],
   "source": [
    "# path to the ndvi file\n",
    "s2_ndvi_path = os.path.join(os.getcwd(), \"week-2\", \"week-2-ndvi-summer-2020.tif\")\n",
    "\n",
    "# open the GeoTIFF file and read its metadata and image data\n",
    "with rasterio.open(s2_ndvi_path) as src:\n",
    "    meta = src.meta\n",
    "    ndvi = src.read(1)"
   ]
  },
  {
   "cell_type": "markdown",
   "id": "00b4f2ef-c5b5-48b3-9eca-78205da2eb86",
   "metadata": {},
   "source": [
    "<details>\n",
    "    <summary><b>What is the name of the variable that points to the metadata for the NDVI data read from the GeoTIFF file?</b></summary>\n",
    "<code>meta</code>\n",
    "</details>"
   ]
  },
  {
   "cell_type": "markdown",
   "id": "e6c346df-d1e8-45a7-8eca-cfaf4e967de3",
   "metadata": {},
   "source": [
    "**Find out what type of object the data referenced by `meta` is?**"
   ]
  },
  {
   "cell_type": "code",
   "execution_count": null,
   "id": "02d1c6cf-e402-4aba-81c0-7505f07b8dac",
   "metadata": {},
   "outputs": [],
   "source": [
    "## add code here ##"
   ]
  },
  {
   "cell_type": "markdown",
   "id": "a7293c20-2b36-47c0-84ba-6e1886a2172f",
   "metadata": {},
   "source": [
    "<details>\n",
    "    <summary><b>answer</b></summary>\n",
    "<code>print(type(meta))</code>\n",
    "</details>"
   ]
  },
  {
   "cell_type": "markdown",
   "id": "4e616b7f-b009-4609-844b-4a3d04fa18e6",
   "metadata": {},
   "source": [
    "**Find out what type of object the data referenced by `ndvi` is?**"
   ]
  },
  {
   "cell_type": "code",
   "execution_count": null,
   "id": "c74d7ffe-687c-4ee8-b85e-2fe81cd13b29",
   "metadata": {},
   "outputs": [],
   "source": [
    "## add code here ##"
   ]
  },
  {
   "cell_type": "markdown",
   "id": "6ced4137-258c-4512-be46-33e1acd894e0",
   "metadata": {},
   "source": [
    "<details>\n",
    "    <summary><b>answer</b></summary>\n",
    "<code>print(type(ndvi))</code>\n",
    "</details>"
   ]
  },
  {
   "cell_type": "markdown",
   "id": "554fcd65-aec8-4890-a6bc-aff48d83cf77",
   "metadata": {},
   "source": [
    "**Use the `meta` object to identify how many bands the raster data stored in the GeoTIFF *week-2-ndvi-summer-2020.tif* has?**"
   ]
  },
  {
   "cell_type": "code",
   "execution_count": null,
   "id": "facde773-ec15-44a2-881a-ab02dbb95c0b",
   "metadata": {},
   "outputs": [],
   "source": [
    "## add code here ##"
   ]
  },
  {
   "cell_type": "markdown",
   "id": "c28c8938-8009-455a-939d-3934dc063706",
   "metadata": {},
   "source": [
    "<details>\n",
    "    <summary><b>answer</b></summary>\n",
    "<code>print(f\"There are {meta['count']} bands in the GeoTIFF file\")</code>\n",
    "</details>"
   ]
  },
  {
   "cell_type": "markdown",
   "id": "126f7b0f-1aca-4a6e-8d15-de198fe5e51a",
   "metadata": {},
   "source": [
    "**Find out how many raster bands have been read into the `ndarray` object referenced by `ndvi`?**"
   ]
  },
  {
   "cell_type": "code",
   "execution_count": null,
   "id": "68dbb42d-5288-4f07-8ef3-c08e27529f8c",
   "metadata": {},
   "outputs": [],
   "source": [
    "## add code here ##"
   ]
  },
  {
   "cell_type": "markdown",
   "id": "ce3759af-deef-46a0-97b5-a1ff592ec8af",
   "metadata": {},
   "source": [
    "<details>\n",
    "    <summary><b>answer</b></summary>\n",
    "<p>One band has been read into the <code>ndarray</code> object pointed to by <code>ndvi</code>. This is a rank 2 `ndarray` with row and columns axes and no bands axis.</p>\n",
    "\n",
    "```{python}\n",
    "print(f\"the rank of the ndvi ndarray is {ndvi.ndim}\")\n",
    "print(f\"the shape of the ndvi ndarray is {ndvi.shape}\")\n",
    "```\n",
    "</details>"
   ]
  },
  {
   "cell_type": "markdown",
   "id": "f9fc9acf-e052-4be9-8f7c-d8b1c377acc3",
   "metadata": {},
   "source": [
    "<details>\n",
    "    <summary><b>Do <code>meta[\"count\"]</code> and the length of the bands axis of the <code>ndarray</code> object generated by a call to <code>read()</code> have to return the same value?</b></summary>\n",
    "Not always. In this case they should return the same value as we are reading the one and only band stored in <em>week-2-ndvi-summer-2020.tif</em> in an <code>ndarray</code> object. However, the value at <code>meta[\"count\"]</code> will tell us the number of bands in the file while the number of bands stored in the <code>ndarray</code> resulting from a call to <code>read()</code> is determined by the number passed into <code>read()</code>. \n",
    "</details>"
   ]
  },
  {
   "cell_type": "markdown",
   "id": "cda071d6-4021-4a35-9aaf-198a6fa3e5fb",
   "metadata": {},
   "source": [
    "### Visualising raster data\n",
    "\n",
    "We can use the `imshow()` function from the Plotly Express package to render data in NumPy `ndarray`s as an image. The `imshow()` function expects a NumPy `ndarray` of raster values to display and a colour map (`color_continuous_scale`) that relates raster pixel values to a colour on the computer screen. "
   ]
  },
  {
   "cell_type": "code",
   "execution_count": null,
   "id": "cd0d1b74-340b-4828-abcf-b75242660bf6",
   "metadata": {},
   "outputs": [],
   "source": [
    "# Plot the red band\n",
    "px.imshow(red_band, color_continuous_scale=\"Reds\")"
   ]
  },
  {
   "cell_type": "code",
   "execution_count": null,
   "id": "fc55f62c-aafe-4922-ae2b-ff71a7ab0523",
   "metadata": {},
   "outputs": [],
   "source": [
    "# Plot the green band\n",
    "px.imshow(green_band, color_continuous_scale=\"Greens\")"
   ]
  },
  {
   "cell_type": "code",
   "execution_count": null,
   "id": "74470b0e-0825-4632-88a0-d50cb649afb4",
   "metadata": {},
   "outputs": [],
   "source": [
    "# Plot the Blue band\n",
    "px.imshow(blue_band, color_continuous_scale=\"Blues\")"
   ]
  },
  {
   "cell_type": "markdown",
   "id": "91410a7f-a288-4283-a113-fbf9c3bf0f87",
   "metadata": {},
   "source": [
    "#### Recap quiz\n",
    "\n",
    "**Earlier we read NDVI data for this field into a `ndarray` object referenced by `ndvi`. Visualise this data using the `imshow()` function and select a suitable colour scale from the Plotly Expess built-in <a href=\"https://plotly.com/python/builtin-colorscales/\" target=\"_blank\">options</a>. NDVI values range from -1 to 1 with higher values associated with greener vegetation.**"
   ]
  },
  {
   "cell_type": "code",
   "execution_count": null,
   "id": "7a6c00ca-9508-44a3-9427-d4e31f124119",
   "metadata": {},
   "outputs": [],
   "source": [
    "## add code here ##"
   ]
  },
  {
   "cell_type": "markdown",
   "id": "5d83301a-e03f-430f-a352-8c4c90580a58",
   "metadata": {},
   "source": [
    "<details>\n",
    "    <summary><b>answer</b></summary>\n",
    "<code>px.imshow(ndvi, color_continuous_scale=\"viridis\")</code>\n",
    "</details>"
   ]
  },
  {
   "cell_type": "markdown",
   "id": "dd20da47-2cf0-43ce-bfa5-d8b1bb064e21",
   "metadata": {},
   "source": [
    "#### Colour\n",
    "\n",
    "A particular colour is defined by the intensity of light in different parts of the visible spectrum (e.g. yellow is a mixture of light in red and green wavelengths).\n",
    "\n",
    "Colour is represented by combinations (addition) of red, green, and blue light. Red, green, and blue are primary colours and combine to form white. An absence of red, green, and blue is black. Secondary colours can be formed by the addition of primary colours of varying intensities (e.g. yellow is the addition of red and green, magenta is the addition of red and blue, and cyan is the addition of green and blue). \n",
    "\n",
    "Computer displays consist of red, green, and blue sub-pixels, which when activated with different intensities, are perceived as different colours. The range of colours that can be displayed on a computer display is called the gamut. Colour in computer programs is represented as a three byte hexadecimal number with byte 1 corresponding to red, byte 2 corresponding to green, and byte 3 corresponding to blue. Each byte can take the range of 0 to 255 in decimal. 0 indicates the absence of a colour and 255 indicates saturation of that colour:\n",
    "\n",
    "* white: 255 255 255\n",
    "* black: 0 0 0\n",
    "* red: 255 0 0 \n",
    "* green: 0 255 00\n",
    "* blue: 0 0 255\n",
    "\n",
    "![Additive and subtractive colour models (source: CRCSI (2017))](https://github.com/data-analysis-3300-3003/figs/raw/main/week-2-colour-models-crcsi.png)\n",
    "\n",
    "Computer displays represent colour through varying the intensity of sub-pixel displays of red, green, and blue light. Variability in data values in multiband rasters can be visualised by relating data values in one band to the intensity of one of the primary colours on the computer display. Visualising a multiband raster in this way creates an additive RGB or colour composite image - it is called a composite image because each pixel is a composite of red, green, and blue light.\n",
    "\n",
    "Above we rendered the red, green, and blue band reflectance from the Sentinel-2 image separately. However, if we combine these reflectance measures into a composite image (e.g. where red reflectance is represented by sub-pixel intensity of red light) we can create a true colour image as if we were looking down on the Earth's surface with our eyes.\n",
    "\n",
    "The `imshow()` function can take a multiband NumPy `ndarray` and returns an RGB image.\n",
    "\n",
    "Above, we `read()` bands 4, 3, and 2 from the GeoTIFF file into NumPy `ndarray` referenced by `rgb`. Band 4 corresponds to red reflectance in Sentinel-2 images, band 3 corresponds to green reflectance, and band 2 corresponds to blue reflectance. We can pass `rgb` into the `imshow()` function to generate an RGB image of the field.\n",
    "\n",
    "We can check that `rgb` has three bands by printing its `shape` property."
   ]
  },
  {
   "cell_type": "code",
   "execution_count": null,
   "id": "37bb398a-c746-495f-8175-8f57a004d6aa",
   "metadata": {},
   "outputs": [],
   "source": [
    "print(f\"The shape of rgb is {rgb.shape}\")"
   ]
  },
  {
   "cell_type": "markdown",
   "id": "166248ff-c2bb-4247-a422-b1f2878fed56",
   "metadata": {},
   "source": [
    "If we check the `imshow()` <a href=\"https://matplotlib.org/stable/api/_as_gen/matplotlib.pyplot.imshow.html\" target=\"_blank\">docs</a> we can see that it expects a NumPy `ndarray` where the bands (or channels as they are sometimes called with images) is the final axis. NumPy has a `moveaxis()` function where can move the bands dimension to the last axis position before plotting."
   ]
  },
  {
   "cell_type": "code",
   "execution_count": null,
   "id": "b0a40fe5-dcf4-46db-bf0e-dd8ecd501a78",
   "metadata": {},
   "outputs": [],
   "source": [
    "# Plot the RGB image\n",
    "px.imshow(np.moveaxis(rgb, 0, 2), contrast_rescaling=\"minmax\")"
   ]
  },
  {
   "cell_type": "markdown",
   "id": "4650ce00-f973-403a-a86b-2b4b0a2d413c",
   "metadata": {},
   "source": [
    "#### Recap quiz\n",
    "\n",
    "**At the file path noted below is a GeoTIFF file storing a normalised difference water index (NDWI) layer. Write a short program to read this raster data, identify the dimensions of the raster data, and visualise the data**\n",
    "\n",
    "File path to NDWI data: `os.path.join(os.getcwd(), \"week-2\", \"week-2-ndwi-summer-2020.tif\")`"
   ]
  },
  {
   "cell_type": "code",
   "execution_count": null,
   "id": "ad1c80d8-f3bd-4d5b-98b5-018323ace7a0",
   "metadata": {},
   "outputs": [],
   "source": [
    "## add code here ##"
   ]
  },
  {
   "cell_type": "markdown",
   "id": "3a9013bf-b3bf-4471-9104-b7ff3f047cc3",
   "metadata": {},
   "source": [
    "<details>\n",
    "    <summary><b>answer</b></summary>\n",
    "\n",
    "```{python}\n",
    "s2_ndwi_path = os.path.join(os.getcwd(), \"week-2\", \"week-2-ndwi-summer-2020.tif\")\n",
    "\n",
    "with rasterio.open(s2_ndwi_path) as src:\n",
    "    meta = src.meta\n",
    "    ndwi = src.read(1)\n",
    "\n",
    "print(f\"the width of the raster layer is {meta['width']}\")\n",
    "print(f\"the height of the raster layer is {meta['height']}\")\n",
    "print(f\"the number of bands in the raster layer is {meta['count']}\")\n",
    "\n",
    "px.imshow(ndwi, color_continuous_scale=\"YlGnBl\")\n",
    "```\n",
    "\n",
    "</details>\n"
   ]
  }
 ],
 "metadata": {
  "kernelspec": {
   "display_name": "Python 3 (ipykernel)",
   "language": "python",
   "name": "python3"
  },
  "language_info": {
   "codemirror_mode": {
    "name": "ipython",
    "version": 3
   },
   "file_extension": ".py",
   "mimetype": "text/x-python",
   "name": "python",
   "nbconvert_exporter": "python",
   "pygments_lexer": "ipython3",
   "version": "3.10.8"
  },
  "vscode": {
   "interpreter": {
    "hash": "0a3a540d733e13dd2cfc4c76ea59809fcb1c94b9ada5b1181b5aea89bebb185d"
   }
  }
 },
 "nbformat": 4,
 "nbformat_minor": 5
}
