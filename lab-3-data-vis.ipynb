{
 "cells": [
  {
   "cell_type": "markdown",
   "id": "8ac0380e-9b4d-4688-bc50-c02427cc1cad",
   "metadata": {},
   "source": [
    "# Introduction"
   ]
  },
  {
   "cell_type": "markdown",
   "id": "ed48f82f-bbd5-44ee-a723-5bafc2f0268a",
   "metadata": {},
   "source": [
    "## What is a figure?\n",
    "\n",
    "Data visualisation is the process of relating data values to elements of a figure on a computer display. \n",
    "\n",
    "The *Grammar of Graphics* is an underlying model that describes the mapping of data values to the visual elements of a figure. It provides a consistent framework for guiding us in how to take our data values and convert them into a figure that effectively represents the data and conveys the messages and insights we seek to communicate. \n",
    "\n",
    "In the *Grammar of Graphics* a plot comprises *data* and a *mapping*. The *mapping* (not cartographic here) is a formal description of how data values map onto elements of a figure. The elements of a figure are termed *aesthetics* and consist of:\n",
    "\n",
    "* **layers** - geometric elements that represent data values such as points (e.g. for scatter plots), lines (e.g. for lines of best fit), and polyons (e.g. for histograms or bar plots).\n",
    "* **scales** - relate data values to visual display properties such as colour (e.g. a blue to red colour palette for temperature), size (e.g. larger points for larger numbers), or shapes (e.g. using triangles for group A and circles for group B). Scales are used to draw legends for figures. \n",
    "* **coords** - coordinate systems are used to map data values onto locations on the figure. On most 2D figures the x- and y-axes describe the coordinate space and on maps latitude and longitude describe the coordinate space (or you can use different coordinate reference systems). \n",
    "* **theme** - the background styling of the figure such as fonts for labels and background colours. \n",
    "\n",
    "![](https://github.com/data-analysis-3300-3003/figs/raw/main/week-3-what-is-a-figure.jpg)\n",
    "\n",
    "Reading the <a href=\"http://vita.had.co.nz/papers/layered-grammar.pdf\" target=\"_blank\">A Layered Grammar of Graphics</a> paper by Hadley Wickham provides a detailed description of the core concepts for designing high-quality data visualisations. "
   ]
  },
  {
   "cell_type": "markdown",
   "id": "4ae93f96-5b87-45ec-83e5-a66bdf9ccb1f",
   "metadata": {},
   "source": [
    "## Setup\n",
    "\n",
    "### Run the labs\n",
    "\n",
    "You can run the labs locally on your machine or you can use cloud environments provided by Google Colab or Binderhub. **If you're working with Google Colab and Binderhub be aware that your sessions are temporary and you'll need to take care to save, backup, and download your work.**\n",
    "\n",
    "<a href=\"https://colab.research.google.com/github/data-analysis-3300-3003/colab/blob/main/lab-3-data-vis.ipynb\" target=\"_blank\">\n",
    "  <img src=\"https://colab.research.google.com/assets/colab-badge.svg\" alt=\"Open In Colab\"/>\n",
    "</a>\n",
    "\n",
    "<a href=\"https://mybinder.org/v2/gh/binder-3300-3003/binder/HEAD\" target=\"_blank\">\n",
    "  <img src=\"https://mybinder.org/badge_logo.svg\" alt=\"Open In Binder\"/>\n",
    "</a>\n",
    "\n",
    "### Download data\n",
    "\n",
    "If you need to download the data for this lab, run the following code snippet. "
   ]
  },
  {
   "cell_type": "code",
   "execution_count": null,
   "id": "20cdce94-ecb0-45c5-93c5-8cd6bac22fa8",
   "metadata": {},
   "outputs": [],
   "source": [
    "import os\n",
    "\n",
    "if \"week-3\" not in os.listdir(os.getcwd()):\n",
    "    os.system('wget \"https://github.com/data-analysis-3300-3003/data/raw/main/data/week-3.zip\"')\n",
    "    os.system('unzip \"week-3.zip\"')"
   ]
  },
  {
   "cell_type": "markdown",
   "id": "4e1901bf-60f4-4fa3-b23e-e3ec2524ca3a",
   "metadata": {},
   "source": [
    "### Working in Colab\n",
    "\n",
    "If you're working in Google Colab, you'll need to run the following code snippet to install the required packages that don't come with the colab environment."
   ]
  },
  {
   "cell_type": "code",
   "execution_count": null,
   "id": "0523f91a-f7f9-458f-a2e1-030965a2e790",
   "metadata": {},
   "outputs": [],
   "source": [
    "!pip install geopandas\n",
    "!pip install pyarrow\n",
    "!pip install mapclassify\n",
    "!pip install rasterio\n",
    "!pip install libpysal\n",
    "!pip install esda\n",
    "!pip install splot"
   ]
  },
  {
   "cell_type": "markdown",
   "id": "dab86843-6185-4d3c-8b4c-c543231318e1",
   "metadata": {},
   "source": [
    "## Interactive visualisations\n",
    "\n",
    "Interactive visualisations are important tools for exploring complex and multidimensional data. They enable users to quickly develop an understanding of a dataset's structure and patterns by enabling them to interactively generate different views of the dataset. \n",
    "\n",
    "Generally, interactive visualisations are controlled by user input from mouse events (click, drag, hover), and, in response to mouse events, change what data and information is rendered on the computer display. \n",
    "\n",
    "Interactive visualisations are important tools for both exploratory analysis and for communicating the results of analysis to a wider audience. For exploratory analysis the quick feedback provided by interactive visualisations allows analysts to quickly build up an understanding of the datasets they are working with, spot noise or missing data, refine and develop hypotheses and research questions, and select suitable analytical and statistical tools for further work. Interactive visualisations are useful for communication as they enable active engagement with your datasets and the message you are conveying in a user friendly and non-technical manner. \n",
    "\n",
    "Here, we will be using <a href=\"https://plotly.com/python/plotly-express/\" target=\"_blank\">Plotly Express</a> to develop interactive visualisations. Plotly Express is a Python module that contains functions that convert data in Python programs into interactive visualisations that can be rendered in web browser based environments. \n",
    "\n",
    "Plotly Express has several attractive features for developing interactive visualisations:\n",
    "\n",
    "* functions to generate a range of figure types to explore spatial and non-spatial data (see the <a href=\"https://plotly.com/python/plotly-express/#gallery\" target=\"_blank\">gallery</a>).\n",
    "* consistent API for functions used to generate the figures (i.e. if you learn the syntax and format to generate scatter plots it can be applied to generate histograms, density plots, bar plots, violin plots, web maps, etc.).\n",
    "* simple and intuitive functions to generate the figures (i.e. produce complex interactive figures with a single line of code).\n",
    "\n",
    "Let's read in some wheat and canola yield data collected by a harvester into a GeoPandas `GeoDataFrame`. The canola data corresponds to variety *43Y23 RR* and the wheat data corresponds to variety *ninja*. We'll demonstrate how to create interactive visualisations using Plotly Express by generating a simple widget that displays the distribution of wheat and canola yields. "
   ]
  },
  {
   "cell_type": "markdown",
   "id": "59bbdec0-53e1-49b6-bba6-9ee8dff703be",
   "metadata": {},
   "source": [
    "### Import modules"
   ]
  },
  {
   "cell_type": "code",
   "execution_count": null,
   "id": "dbdbdf4a-42f4-40a5-a229-7ed78f04f81a",
   "metadata": {},
   "outputs": [],
   "source": [
    "# Import modules\n",
    "import os\n",
    "import pandas as pd\n",
    "import geopandas as gpd\n",
    "import plotly.express as px\n",
    "import numpy as np\n",
    "import matplotlib.pyplot as plt\n",
    "import rasterio\n",
    "import plotly.io as pio\n",
    "import esda\n",
    "\n",
    "from splot.esda import plot_moran\n",
    "from libpysal.weights import KNN, lag_spatial\n",
    "pio.renderers.default = \"colab\""
   ]
  },
  {
   "cell_type": "code",
   "execution_count": null,
   "id": "e06b36b4-b37d-48a5-a22c-a71fa4eb64b5",
   "metadata": {},
   "outputs": [],
   "source": [
    "# Load the crop yield data\n",
    "crop_yield_data_path = os.path.join(os.getcwd(), \"week-3\")\n",
    "\n",
    "# Get a list of crop yield data\n",
    "crop_yield_data_files = os.listdir(crop_yield_data_path)\n",
    "\n",
    "# Combine the geojson files into one GeoDataFrame\n",
    "dfs = []\n",
    "\n",
    "for i in crop_yield_data_files:\n",
    "    if i.endswith(\".geojson\"):\n",
    "        print(f\"Loading file {i} into a Geopandas GeoDataFrame\")\n",
    "        tmp_df = gpd.read_file(os.path.join(crop_yield_data_path, i))\n",
    "        dfs.append(tmp_df)\n",
    "\n",
    "gdf = pd.concat(dfs, axis=0)"
   ]
  },
  {
   "cell_type": "markdown",
   "id": "1c67a8c7-00ca-47b4-9768-55cf9e8cf65f",
   "metadata": {},
   "source": [
    "Now, let's unpick the syntax for specifying a Plotly Express visualisation. The functions to generate interactive figures are part of the plotly.express module which we've imported into our program as `px`. `px.<function name>()` is how we'll access the function to generate a given figure. For example, to generate a histogram we call `px.histogram()` (if we wanted to generate a scatter plot we'd call `px.scatter()`, if we wanted to generate a line chart we'd call `px.line()`, if we wanted to generate a pie chart we'd call `px.pie()` - you get the pattern).\n",
    "\n",
    "Next, we need to pass data into the function that will be rendered on the computer display and specify arguments to map data values to elements on the figure. The <a href=\"https://plotly.com/python-api-reference/plotly.express.html\" target=\"_blank\">Plotly Express documentation</a> lists functions that can be used to generate figures and their parameters. \n",
    "\n",
    "Paramters for the `px.histogram()` function\n",
    "\n",
    "* `data_frame` - a `DataFrame` object containing the data to render on the histogram.\n",
    "* `x` - specifies the column in the `DataFrame` to be mapped on the x-axis of the figure.  \n",
    "* `color` - a column whose values are used to assign colours to *marks* (elements) on the display. \n",
    "* `marginal` - either *violin*, *box*, *rug*, or *histogram* that shows the distribution of the data.\n",
    "* `hover_data` - list of column names with values that will be shown in a popup when the cursor hovers over a record on the display.\n",
    "\n",
    "There are more options that you can use to configure a histogram <a href=\"https://plotly.com/python-api-reference/generated/plotly.express.histogram.html#plotly.express.histogram\" target=\"_blank\">here</a>. *Look up the `range_x` paramter and consider how it could be used to remove the influence of outliers on the figure. Have a go at incorporating it into the code snippet below.*\n",
    "\n",
    "Use the *Zoom* tool to control what data is visualised and focus the figure on where most of the data is distributed. "
   ]
  },
  {
   "cell_type": "code",
   "execution_count": null,
   "id": "19855c8f-1440-46d7-8ea6-4601d16f3357",
   "metadata": {},
   "outputs": [],
   "source": [
    "fig = px.histogram(\n",
    "    data_frame=gdf, \n",
    "    x=\"DryYield\", \n",
    "    color=\"Variety\", \n",
    "    marginal=\"box\", \n",
    "    hover_data=[\"DryYield\", \"Elevation\", \"WetMass\"])\n",
    "fig.show()"
   ]
  },
  {
   "cell_type": "markdown",
   "id": "c1bea4a5-d707-435b-bffc-a69b7eedea09",
   "metadata": {},
   "source": [
    "Let's have a go at generating a scatter plot to consolidate our understanding of how to map variables in our data to elements of a graphic. The documentation for scatter plots is <a href=\"https://plotly.com/python-api-reference/generated/plotly.express.scatter.html#plotly.express.scatter\" target=\"_blank\">here</a> and you should notice similarities in how we set up a scatter plot to a histogram. \n",
    "\n",
    "Let's use a scatter plot to see if there is a relationship beetween crop yield and elevation. We are plotting two variables here so we need to use the `y` parameter to specify what column in our `GeoDataFrame` will be mapped onto the y-axis. We can use the `marginal_x` and `marginal_y` parameters to attach plots to the x- and y-axes that show the distributions of variables mapped to each axis. Finally, we're going to use the `opacity` argument here to make the point elements on the figure semi-transparent; this will help reveal more information about the density of data values. \n",
    "\n",
    "*Both canola and wheat crop yield data is displayed. To see the relationship between one crop type's yield and elevation, click on the variety in the legend.*\n",
    "\n",
    "*Can you limit the range of x-axis values to focus the figure on where most of the data is concentrated and remove the effect of outliers?*"
   ]
  },
  {
   "cell_type": "code",
   "execution_count": null,
   "id": "6a6682cf-b772-4ee8-81d6-c29b1822f332",
   "metadata": {},
   "outputs": [],
   "source": [
    "fig = px.scatter(\n",
    "    data_frame=gdf, \n",
    "    x=\"DryYield\", \n",
    "    y=\"Elevation\", \n",
    "    color=\"Variety\", \n",
    "    opacity=0.25, \n",
    "    marginal_x=\"box\", \n",
    "    marginal_y=\"violin\")\n",
    "fig.show()"
   ]
  },
  {
   "cell_type": "markdown",
   "id": "3e5a4e62-d512-4aa1-844e-57646258d91a",
   "metadata": {},
   "source": [
    "### Adding layers\n",
    "\n",
    "The scatter plot we have generated above has layers of points for the scatter plot, and layers of geometric elements for the box plot and violin plots. However, each of these layers are all rendered on their own sub-plot. \n",
    "\n",
    "There are often times where we want to overlay layers on the same plot. A common example of this is adding a trendline to a scatter plot to help the viewer see patterns and relationships in the data amongst the variation. If we refer back to the documentation for <a href=\"https://plotly.com/python-api-reference/generated/plotly.express.scatter.html#plotly.express.scatter\" target=\"_blank\">scatter plots</a> we can see there is a `trendline` parameter. We can use this parameter to specify the kind of trendline we'd like to draw on our scatter plot:\n",
    "\n",
    "* `ols`: ordinary least squares (or linear line of best fit)\n",
    "* `loess`: locally weighted scatterplot smoothing line\n",
    "* `rolling`: rolling average or rolling median line\n",
    "\n",
    "Let's generate a scatter plot with a trendline to explore the relationship between the green normalised difference vegetation index (GNDVI, a satellite derived measure of vegetation greenness) and crop yield. Generally, higher maximum growing season GNDVI values are correlated with higher crop yields. \n",
    "\n",
    "If you hover your cursor over the trendline it will show you the equation for the trendline. You will also notice that we've used the the `range_x` and `range_y` parameters to focus the figure on the region where most of the data is concentrated and clip the outliers from the view. \n",
    "\n",
    "Generally, it seems that maximum growing season GNDVI is higher for the wheat (Ninja) crop than canola (43Y23 RR). *Can you think of an explanation for this?*"
   ]
  },
  {
   "cell_type": "code",
   "execution_count": null,
   "id": "b6965bb5-92d3-4999-9daf-76d06358150b",
   "metadata": {},
   "outputs": [],
   "source": [
    "fig = px.scatter(\n",
    "    data_frame=gdf, \n",
    "    x=\"gndvi\", \n",
    "    y=\"DryYield\", \n",
    "    color=\"Variety\", \n",
    "    opacity=0.05, \n",
    "    range_y=[0.1, 6], \n",
    "    range_x=[0.3, 0.9], \n",
    "    marginal_x=\"box\", \n",
    "    marginal_y=\"box\", \n",
    "    trendline=\"ols\"\n",
    ")\n",
    "fig.show()"
   ]
  },
  {
   "cell_type": "markdown",
   "id": "08e82980-d3c5-400f-889d-68e019d0b0e2",
   "metadata": {},
   "source": [
    "### Facets\n",
    "\n",
    "So far we have distinguished groups of data points on the same figure by using a unique colour per-group. However, this can lead to cluttered figures which obscures important variation in the data. To avoid clutter we can create faceted figures where mutliple subplots of the same type are generated, which share axes, and different subsets of the data are rendered on each subplot. \n",
    "\n",
    "<a href=\"https://clauswilke.com/dataviz/multi-panel-figures.html\" target=\"_blank\">Wilke (2019)</a> distinguish between faceted figures and compound figures. Compound figures are multiple figure types (e.g. scatter plots, histograms, maps), possibly of different datasets, combined into one figure. A key feature of a compound figure is that the subplots do not need to be arranged in a regular grid. The figures above with violin and box plots aligned on the margins of a scatter plot are examples of compound figures.\n",
    "\n",
    "In contrast, facet plots consist of subplots of the same type, showing subsets of the same dataset, and are arranged on a regular grid. You might see the term trellis or lattice plots used to describe facet plots. To ensure correct interpretation of faceted figures it is important that the axes on all plots share the same range and scalings. \n",
    "\n",
    "Let's create a faceted figure that shows the relationship between crop yield and the normalised difference yellowness index (NDYI) side-by-side. The NDYI is a spectral index computed from remote sensing data as a mathematical combination of green and blue reflectance values. Higher NDYI values are associated with a yellower land surface. The NDYI is often used to monitor canola flowering. \n",
    "\n",
    "We can use the `facet_row` parameter to align subplots on separate rows or the `facet_col` parameter to align the subplots on separate columns. We specify a column in our `GeoDataFrame` to use to create the facets. The dataset is split into subsets using unique values in the specified column and each subset is rendered on a subplot. Here, we pass in the `Variety` column to split the data by crop type.  "
   ]
  },
  {
   "cell_type": "code",
   "execution_count": null,
   "id": "d490343e-6dfe-4142-bb95-c5e7b666561b",
   "metadata": {},
   "outputs": [],
   "source": [
    "fig = px.scatter(\n",
    "    data_frame=gdf, \n",
    "    x=\"ndyi\", \n",
    "    y=\"DryYield\", \n",
    "    facet_col=\"Variety\", \n",
    "    opacity=0.05, \n",
    "    range_y=[0.1, 5], \n",
    "    range_x=[0.1, 0.6], \n",
    "    trendline=\"ols\"\n",
    ")\n",
    "fig.show()"
   ]
  },
  {
   "cell_type": "markdown",
   "id": "76664f60-0dc7-423a-8f9d-df7a42b733ea",
   "metadata": {},
   "source": [
    "## Selecting the \"right\" figure\n",
    "\n",
    "Chapter 5 of <a href=\"https://clauswilke.com/dataviz/multi-panel-figures.html\" target=\"_blank\">Wilke (2019)</a> provides a *directory of visualisations* which serves as a useful guide for selecting the correct visualisation for different types of data.\n"
   ]
  },
  {
   "cell_type": "markdown",
   "id": "cca0cc0f-b2bb-43c1-871d-d9aac9df8fe8",
   "metadata": {},
   "source": [
    "## Using Colour\n",
    "\n",
    "A colour scale is used to map data values to colours on the display. <a href=\"https://clauswilke.com/dataviz/color-basics.html\" target=\"_blank\">Wilke (2019)</a> outline three uses of colour on figures:\n",
    "\n",
    "* colour to represent data values (e.g. using red shades for low precipitation and blue shades for high precipitation).\n",
    "* colour to distinguish groups (e.g. using green for forest on a land cover map, blue for water, orange-red for desert, etc.).\n",
    "* colour to highlight (e.g. using colour to highlight particular features on your visualisation).\n",
    "\n",
    "We can broadly characterise colour scales as being either continuous or qualitative. \n",
    "\n",
    "### Continuous palettes\n",
    "\n",
    "Continuous colour scales can be either sequential or diverging and are typically used when using colour to represent data values (often numeric continuous variables). Continuous colour scales can be used to visualise variation in attributes of vector geospatial data on chloropleth maps and variation in attributes of raster data as surfaces. \n",
    "\n",
    "#### Sequential palettes\n",
    "\n",
    "A sequential colour scale is a palette which consists of single hue such as light green to dark green or light red to dark red. Multi-hue sequential colour scales often consist of hues that imply an intuitive and increasing order to the colours such as light yellows to dark red.\n",
    "\n",
    "Plotly express provides a range of inbuilt sequential colour scales: "
   ]
  },
  {
   "cell_type": "code",
   "execution_count": null,
   "id": "bf1712b3-260b-4037-92ad-ac9172c5bb70",
   "metadata": {},
   "outputs": [],
   "source": [
    "fig = px.colors.sequential.swatches_continuous()\n",
    "fig.show()"
   ]
  },
  {
   "cell_type": "markdown",
   "id": "a107fdab-1663-474a-9364-5c08db52f2ee",
   "metadata": {},
   "source": [
    "Let's use a sequential colour scale to visualise spatial and spatio-temporal variation in greenness of the field during the canola growing season in 2020. We can start by reading in a GeoTIFF file where each band is a raster showing weekly GNDVI values generated from Sentinel-2 satellite data. The Sentinel-2 data has been cloud masked and each pixel's time-series of GNDVI values has been smoothed using a harmonic model of time. "
   ]
  },
  {
   "cell_type": "code",
   "execution_count": null,
   "id": "4cda8a89-8f72-4fac-9760-9018dee2e53f",
   "metadata": {},
   "outputs": [],
   "source": [
    "# path to the GeoTIFF file\n",
    "gndvi_path = os.path.join(os.getcwd(), \"week-3\", \"gndvi_2020_bf66_fitted.tif\")\n",
    "\n",
    "# open the GeoTIFF file and read its metadata and image data\n",
    "with rasterio.open(gndvi_path) as src:\n",
    "    meta = src.meta\n",
    "    gndvi = src.read()\n",
    "\n",
    "gndvi = np.moveaxis(gndvi, 0, 2)"
   ]
  },
  {
   "cell_type": "markdown",
   "id": "57959427-e66d-4b44-8338-0cbe21b217b2",
   "metadata": {},
   "source": [
    "Now, we should have a multiband Numpy `ndarray` object. Let's quickly check its shape."
   ]
  },
  {
   "cell_type": "code",
   "execution_count": null,
   "id": "e3b4b719-fd0d-4710-bd2e-8556c39c837f",
   "metadata": {},
   "outputs": [],
   "source": [
    "print(f\"The array has {gndvi.shape[0]} rows\")\n",
    "print(f\"The array has {gndvi.shape[1]} columns\")\n",
    "print(f\"The array has {gndvi.shape[2]} bands\")"
   ]
  },
  {
   "cell_type": "markdown",
   "id": "5b4e3038-4df5-4e25-a02f-6d807aee9b6c",
   "metadata": {},
   "source": [
    "Now, let's visualise GNDVI values for the 30th week of the year."
   ]
  },
  {
   "cell_type": "code",
   "execution_count": null,
   "id": "4ef89c35-70e0-44d9-b5df-4cf9e0c626b3",
   "metadata": {},
   "outputs": [],
   "source": [
    "# plot GNDVI for week of year 30\n",
    "fig = px.imshow(gndvi[:, :, 29])\n",
    "fig.update_xaxes(showticklabels=False)\n",
    "fig.update_yaxes(showticklabels=False)\n",
    "fig.show()"
   ]
  },
  {
   "cell_type": "markdown",
   "id": "855d7408-f398-49c1-8826-5a96f70801e1",
   "metadata": {},
   "source": [
    "We can see that there is some spatial variation in GNDVI values within the field. However, a green colour palette might be more suitable for visualising greenness. Let's select a different colour scale from the palettes printed above."
   ]
  },
  {
   "cell_type": "code",
   "execution_count": null,
   "id": "253dc872-4049-4614-8ae0-82268200d342",
   "metadata": {},
   "outputs": [],
   "source": [
    "# let's use a more intuitive colour palette for GNDVI\n",
    "fig = px.imshow(gndvi[:, :, 30], color_continuous_scale=\"YlGn\", range_color=[0.3, 0.7])\n",
    "fig.update_xaxes(showticklabels=False)\n",
    "fig.update_yaxes(showticklabels=False)\n",
    "fig.show()"
   ]
  },
  {
   "cell_type": "markdown",
   "id": "5d4922da-94ff-490a-ac80-1e6d2c23e0cb",
   "metadata": {},
   "source": [
    "Now, let's visualise the spatio-temporal variation in greenness through the canola growing season. This is a good use case for a faceted figure. We can represent each week as a subplot, align the subplots sequentially through time, and use the same mapping of data values to colour to make comparisons of greenness across weeks easy. "
   ]
  },
  {
   "cell_type": "code",
   "execution_count": null,
   "id": "71983d5c-ac45-4bb2-896d-053d02e7ccd7",
   "metadata": {},
   "outputs": [],
   "source": [
    "# let's visualise change GNDVI over the growing season\n",
    "fig = px.imshow(\n",
    "    gndvi, \n",
    "    facet_col=2, \n",
    "    facet_col_wrap=4, \n",
    "    facet_col_spacing=0.04,\n",
    "    facet_row_spacing=0.04,\n",
    "    height=1200, \n",
    "    width=600,\n",
    "    color_continuous_scale=\"YlGn\", \n",
    "    range_color=[0.3, 0.7])\n",
    "fig.update_xaxes(showticklabels=False)\n",
    "fig.update_yaxes(showticklabels=False)\n",
    "fig.show()"
   ]
  },
  {
   "cell_type": "markdown",
   "id": "9c6146f6-fbb6-4f9f-9d97-351d8f2c1a59",
   "metadata": {},
   "source": [
    "A nice feature of plotly express is its functionality for animating figures. Many plotly express functions come with an `animation_frame` parameter which allows you to specify a column of a `DataFrame` or axis of an `ndarray` to use to subset your data and then sequentially show each subset on your figure. Instead of making 52 separate maps of greenness in the field, let's just create an animation that shows how the field greens up and then greens down through the canola growing season. "
   ]
  },
  {
   "cell_type": "code",
   "execution_count": null,
   "id": "e33525ac-f2d9-4ee2-9861-66a1104eae3b",
   "metadata": {},
   "outputs": [],
   "source": [
    "# let's animate change GNDVI over the growing season\n",
    "fig = px.imshow(\n",
    "    gndvi, \n",
    "    animation_frame=2, # here we are specifying axis=2 which is the bands (weeks) dimension.\n",
    "    color_continuous_scale=\"YlGn\", \n",
    "    range_color=[0.3, 0.7],\n",
    "    height=600, \n",
    "    width=800)\n",
    "fig.update_xaxes(showticklabels=False)\n",
    "fig.update_yaxes(showticklabels=False)\n",
    "fig.show()"
   ]
  },
  {
   "cell_type": "markdown",
   "id": "9cd7b965-69b5-4888-8d87-ab8f1e87a30d",
   "metadata": {},
   "source": [
    "Canola flowers are yellow. Fields during the flowering stage of canola growing season are characterised by yellow canopies. Let's see this by animating the NDYI values over the canola growing season. Here we'll use the solar colour palette which maps high data values to vivid yellow colours. "
   ]
  },
  {
   "cell_type": "code",
   "execution_count": null,
   "id": "32a0f5a7-cb96-41c7-8120-8469bbec04ac",
   "metadata": {},
   "outputs": [],
   "source": [
    "# let's animate change in canopy yellowness over the growing season\n",
    "\n",
    "# path to the GeoTIFF file\n",
    "ndyi_path = os.path.join(os.getcwd(), \"week-3\", \"ndyi_2020_bf66_fitted.tif\")\n",
    "\n",
    "# open the GeoTIFF file and read its metadata and image data\n",
    "with rasterio.open(ndyi_path) as src:\n",
    "    meta = src.meta\n",
    "    ndyi = src.read()\n",
    "\n",
    "ndyi = np.moveaxis(ndyi, 0, 2)"
   ]
  },
  {
   "cell_type": "code",
   "execution_count": null,
   "id": "1b750f78-d036-4fb8-a300-32d6b8dbabf1",
   "metadata": {},
   "outputs": [],
   "source": [
    "fig = px.imshow(\n",
    "    ndyi, \n",
    "    animation_frame=2, \n",
    "    color_continuous_scale=\"solar\", \n",
    "    range_color=[0.1, 0.45],\n",
    "    height=600, \n",
    "    width=800)\n",
    "fig.update_xaxes(showticklabels=False)\n",
    "fig.update_yaxes(showticklabels=False)\n",
    "fig.show()"
   ]
  },
  {
   "cell_type": "markdown",
   "id": "ee7abc86-b9d2-41bb-986c-a8875559a91a",
   "metadata": {},
   "source": [
    "#### Diverging palettes\n",
    "\n",
    "Diverging colour scales are used to represent data values deviating in two directions. Often a light colour (e.g. white) is used as the mid-point of a diverging colour scale with gradients of intensifying colour away from this mid-point. A common example of diverging colour scales are climate or weather anomalies where dry or hot years are represented with red colours and wet and cool years are represented with blue colours. Average conditions are often a pale red, pale blue, or white.\n",
    "\n",
    "Plotly also provides a range of diverging colour palettes we can use:"
   ]
  },
  {
   "cell_type": "code",
   "execution_count": null,
   "id": "53699784-7c7b-4675-a3e5-10e6b6208d52",
   "metadata": {},
   "outputs": [],
   "source": [
    "fig = px.colors.diverging.swatches_continuous()\n",
    "fig.show()"
   ]
  },
  {
   "cell_type": "markdown",
   "id": "d15db623-0979-4aef-b596-cd00cdbedc74",
   "metadata": {},
   "source": [
    "Let's use a diverging colour palette to visualise monthly precipitation over the field since 1981. The precipitation data is obtained from the <a href=\"https://developers.google.com/earth-engine/datasets/catalog/IDAHO_EPSCOR_TERRACLIMATE#bands\" target=\"_blank\">TerraClimate: Monthly Climate and Climatic Water Balance for Global Terrestrial Surfaces</a> dataset. \n",
    "\n",
    "Use the pandas `read_csv()` function to read in the precipitation data. Inside the `CSV` file each row represents a month-year combination and stores a monthly precipitation total in mm. "
   ]
  },
  {
   "cell_type": "code",
   "execution_count": null,
   "id": "99b6540a-7af5-46cc-9243-fb646c5f7ff3",
   "metadata": {},
   "outputs": [],
   "source": [
    "# visualise monthly precipitation using a diverging palette\n",
    "precip_df = pd.read_csv(os.path.join(os.getcwd(), \"week-3\", \"bf66-terra-precip-monthly.csv\"))\n",
    "precip_df[\"month\"] = precip_df[\"month\"].astype(str)\n",
    "precip_df[\"year\"] = precip_df[\"year\"].astype(str)\n",
    "precip_df.head()"
   ]
  },
  {
   "cell_type": "markdown",
   "id": "8f155398-52f9-4b6a-9c74-c47556210cd5",
   "metadata": {},
   "source": [
    "We can create a heatmap to visualise monthly precipitation across time and use a red to blue diverging colour palette where red colours indicate dry months and blue colours indicate wet months. "
   ]
  },
  {
   "cell_type": "code",
   "execution_count": null,
   "id": "6fe47ef1-3675-46d9-994b-97ab2d43a75a",
   "metadata": {},
   "outputs": [],
   "source": [
    "# compute average rainfall to use as the mid point on a diverging colour palette\n",
    "avg_pr = precip_df[\"pr\"].median()\n",
    "\n",
    "fig = px.density_heatmap(\n",
    "    precip_df,\n",
    "    x=\"year\", \n",
    "    y=\"month\", \n",
    "    z=\"pr\", \n",
    "    histfunc=\"sum\",\n",
    "    nbinsy=12,\n",
    "    color_continuous_scale=\"RdBu\",\n",
    "    color_continuous_midpoint=avg_pr\n",
    ")\n",
    "fig.show()"
   ]
  },
  {
   "cell_type": "markdown",
   "id": "3da27744-286e-4ae6-8ed0-df3d9bd7f2dd",
   "metadata": {},
   "source": [
    "#### Show your stripes\n",
    "\n",
    "A famous example of a diverging colour palette is the <a href=\"https://showyourstripes.info/\" target=\"_blank\">#ShowYourStripes</a> global warming visualisation. #ShowYourStripes visualises a locations change in temperature as a series of blue and red stripes, with darker red stripes indicating more warming. Most locations on Earth show a clear transition from blue to dark red stripes. The stripes are also the front cover of Greta Thunberg's <a href=\"https://www.penguin.com.au/books/the-climate-book-9780241547472\" target=\"_blank\">The Climate Book</a>. These are the stripes for Western Australia.\n",
    "\n",
    "![](https://github.com/data-analysis-3300-3003/figs/raw/main/AUSTRALASIA-Australia-Western_Australia-1901-2021-BK-barslabel.png)\n",
    "\n",
    "*#ShowYourStripes for Western Australia created by <a href=\"https://showyourstripes.info/\" target=\"_blank\">Ed Hawkins</a>.* \n",
    "\n",
    "Let's use annual growing season maximum temperature data from the <a href=\"https://developers.google.com/earth-engine/datasets/catalog/IDAHO_EPSCOR_TERRACLIMATE#bands\" target=\"_blank\">TerraClimate: Monthly Climate and Climatic Water Balance for Global Terrestrial Surfaces</a> dataset to create a #ShowYourStripes figure for the field we've been working in. "
   ]
  },
  {
   "cell_type": "code",
   "execution_count": null,
   "id": "0bd79f7e-9eac-4a2b-8904-ccb4fbeaee71",
   "metadata": {},
   "outputs": [],
   "source": [
    "# visualise showyourstripes using a diverging palette\n",
    "temp_df = pd.read_csv(os.path.join(os.getcwd(), \"week-3\", \"bf66-terra-temp-annual.csv\"))\n",
    "temp_df[\"year\"] = temp_df[\"year\"].astype(str)\n",
    "temp_df[\"tmax_degc\"] = temp_df[\"tmmx\"] * 0.1 # rescale\n",
    "temp_df[\"helper_col\"] = 1\n",
    "mean_t = temp_df[\"tmax_degc\"].mean()\n",
    "temp_df[\"tmax_anomaly\"] = temp_df[\"tmax_degc\"] - mean_t"
   ]
  },
  {
   "cell_type": "code",
   "execution_count": null,
   "id": "df8da315-23e1-4e1c-888a-7d0569d266fb",
   "metadata": {},
   "outputs": [],
   "source": [
    "fig = px.density_heatmap(\n",
    "    temp_df,\n",
    "    x=\"year\",\n",
    "    y=\"helper_col\", \n",
    "    z=\"tmax_anomaly\", \n",
    "    histfunc=\"avg\",\n",
    "    nbinsy=1,\n",
    "    color_continuous_scale=\"RdBu_r\", # the _r suffix inverts the colour palette\n",
    "    color_continuous_midpoint=0,\n",
    "    labels={\"helper_col\": \"\"})\n",
    "fig.update_yaxes(showticklabels=False)\n",
    "fig.show()"
   ]
  },
  {
   "cell_type": "markdown",
   "id": "7ff77522-01c5-48a8-9a2c-b1f68157ad56",
   "metadata": {},
   "source": [
    "### Qualitative palettes\n",
    "\n",
    "Qualitative (or discrete) colour scales should be used to represent groups or categorical data (i.e. data where there is no logical ordering). Thus, qualitative colour scales should not represent gradients of light to dark or use colours that can be interpreted as having an implied ordering. Often, it is sensible to select colours that relate to the category (e.g. on land cover maps using green for vegetated categories, blue for water etc.). "
   ]
  }
 ],
 "metadata": {
  "kernelspec": {
   "display_name": "Python 3 (ipykernel)",
   "language": "python",
   "name": "python3"
  },
  "language_info": {
   "codemirror_mode": {
    "name": "ipython",
    "version": 3
   },
   "file_extension": ".py",
   "mimetype": "text/x-python",
   "name": "python",
   "nbconvert_exporter": "python",
   "pygments_lexer": "ipython3",
   "version": "3.10.6"
  }
 },
 "nbformat": 4,
 "nbformat_minor": 5
}
