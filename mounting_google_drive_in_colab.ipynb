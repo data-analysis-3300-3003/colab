{
  "nbformat": 4,
  "nbformat_minor": 0,
  "metadata": {
    "colab": {
      "provenance": [],
      "toc_visible": true
    },
    "kernelspec": {
      "name": "python3",
      "display_name": "Python 3"
    },
    "language_info": {
      "name": "python"
    }
  },
  "cells": [
    {
      "cell_type": "markdown",
      "source": [
        "## Mounting Google Drive in Colab\n",
        "\n",
        "Run the following code to mount your Google Drive to write and read files there.\n",
        "\n",
        "You will need to follow the authentication flow.\n",
        "\n",
        "<a href=\"https://colab.research.google.com/github/data-analysis-3300-3003/colab/blob/main/mounting-google-drive-in-colab.ipynb\" target=\"_blank\">\n",
        "  <img src=\"https://colab.research.google.com/assets/colab-badge.svg\" alt=\"Open In Colab\"/>\n",
        "</a>"
      ],
      "metadata": {
        "id": "ShSa1oCsXf9s"
      }
    },
    {
      "cell_type": "code",
      "execution_count": null,
      "metadata": {
        "id": "8TZpfAU2XY1b"
      },
      "outputs": [],
      "source": [
        "from google.colab import drive\n",
        "drive.mount('/content/drive')"
      ]
    },
    {
      "cell_type": "markdown",
      "source": [
        "Let's check the current directory for the notebook."
      ],
      "metadata": {
        "id": "ca-Mh8zQYjv9"
      }
    },
    {
      "cell_type": "code",
      "source": [
        "import os\n",
        "os.getcwd()"
      ],
      "metadata": {
        "id": "OOYsmySUX1du"
      },
      "execution_count": null,
      "outputs": []
    },
    {
      "cell_type": "markdown",
      "source": [
        "Let's check if `drive` (i.e. your Google Drive) is mounted as a directory in your Colab instance."
      ],
      "metadata": {
        "id": "v5_tsjxwYpaT"
      }
    },
    {
      "cell_type": "code",
      "source": [
        "os.listdir(os.getcwd())"
      ],
      "metadata": {
        "id": "BenbaFkuX5Ec"
      },
      "execution_count": null,
      "outputs": []
    },
    {
      "cell_type": "markdown",
      "source": [
        "Let's check the contents of `drive`. "
      ],
      "metadata": {
        "id": "w9XOTHFDY79K"
      }
    },
    {
      "cell_type": "code",
      "source": [
        "os.listdir(os.path.join(os.getcwd(), \"drive\"))"
      ],
      "metadata": {
        "id": "zawX2BgNYxRE"
      },
      "execution_count": null,
      "outputs": []
    },
    {
      "cell_type": "markdown",
      "source": [
        "If you print the contents of `MyDrive` you should see that directory contains your personal Google Drive folders."
      ],
      "metadata": {
        "id": "qx2X-IE8ZG7j"
      }
    },
    {
      "cell_type": "code",
      "source": [
        "os.listdir(os.path.join(os.getcwd(), \"drive\", \"MyDrive\"))"
      ],
      "metadata": {
        "id": "a2iT-tioZEe9"
      },
      "execution_count": null,
      "outputs": []
    },
    {
      "cell_type": "markdown",
      "source": [
        "We can save data to Google Drive. Let's download some data from week 2's labs."
      ],
      "metadata": {
        "id": "7CF5ShtjZgPa"
      }
    },
    {
      "cell_type": "code",
      "source": [
        "if \"week-1\" not in os.listdir(os.getcwd()):\n",
        "    os.system('wget \"https://github.com/data-analysis-3300-3003/data/raw/main/data/week-2.zip\"')\n",
        "    os.system('unzip \"week-2.zip\"')"
      ],
      "metadata": {
        "id": "PkRaUV3aZTw2"
      },
      "execution_count": 19,
      "outputs": []
    },
    {
      "cell_type": "code",
      "source": [
        "os.listdir(\"week-2\")"
      ],
      "metadata": {
        "id": "oDuuf2MwZqem"
      },
      "execution_count": null,
      "outputs": []
    },
    {
      "cell_type": "markdown",
      "source": [
        "Let's load the CSV file into our Colab Python environment."
      ],
      "metadata": {
        "id": "TNHG5T1EZzQo"
      }
    },
    {
      "cell_type": "code",
      "source": [
        "import pandas as pd\n",
        "df = pd.read_csv(os.path.join(\"week-2\", \"week-2-bf66-canola-yield.csv\"))\n",
        "df.head()"
      ],
      "metadata": {
        "id": "PrAqIjOuZxnJ"
      },
      "execution_count": null,
      "outputs": []
    },
    {
      "cell_type": "markdown",
      "source": [
        "Let's save the CSV file to Google Drive."
      ],
      "metadata": {
        "id": "Nz6j4NuZaC0g"
      }
    },
    {
      "cell_type": "code",
      "source": [
        "path_to_gdrive = os.path.join(os.getcwd(), \"drive\", \"MyDrive\", \"demo_save_to_gdrive.csv\")\n",
        "df.to_csv(path_to_gdrive)"
      ],
      "metadata": {
        "id": "uUxV-MRbaF2H"
      },
      "execution_count": 13,
      "outputs": []
    },
    {
      "cell_type": "markdown",
      "source": [
        "Finally, let's check we can read the file from Google Drive."
      ],
      "metadata": {
        "id": "p--OuGhzaTDD"
      }
    },
    {
      "cell_type": "code",
      "source": [
        "df_from_gdrive = pd.read_csv(path_to_gdrive)\n",
        "df_from_gdrive.head()"
      ],
      "metadata": {
        "id": "oB-kiSbAa6aj"
      },
      "execution_count": null,
      "outputs": []
    }
  ]
}