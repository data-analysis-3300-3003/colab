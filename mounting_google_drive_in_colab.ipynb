{
 "cells": [
  {
   "cell_type": "markdown",
   "metadata": {
    "id": "ShSa1oCsXf9s"
   },
   "source": [
    "## Mounting Google Drive in Colab\n",
    "\n",
    "Run the following code to mount your Google Drive to write and read files there.\n",
    "\n",
    "You will need to follow the authentication flow.\n",
    "\n",
    "<a href=\"https://colab.research.google.com/github/data-analysis-3300-3003/colab/blob/main/mounting_google_drive_in_colab.ipynb\" target=\"_blank\">\n",
    "  <img src=\"https://colab.research.google.com/assets/colab-badge.svg\" alt=\"Open In Colab\"/>\n",
    "</a>"
   ]
  },
  {
   "cell_type": "code",
   "execution_count": null,
   "metadata": {
    "id": "8TZpfAU2XY1b"
   },
   "outputs": [],
   "source": [
    "from google.colab import drive\n",
    "drive.mount('/content/drive')"
   ]
  },
  {
   "cell_type": "markdown",
   "metadata": {
    "id": "ca-Mh8zQYjv9"
   },
   "source": [
    "Let's check the current directory for the notebook."
   ]
  },
  {
   "cell_type": "code",
   "execution_count": null,
   "metadata": {
    "id": "OOYsmySUX1du"
   },
   "outputs": [],
   "source": [
    "import os\n",
    "os.getcwd()"
   ]
  },
  {
   "cell_type": "markdown",
   "metadata": {
    "id": "v5_tsjxwYpaT"
   },
   "source": [
    "Let's check if `drive` (i.e. your Google Drive) is mounted as a directory in your Colab instance."
   ]
  },
  {
   "cell_type": "code",
   "execution_count": null,
   "metadata": {
    "id": "BenbaFkuX5Ec"
   },
   "outputs": [],
   "source": [
    "os.listdir(os.getcwd())"
   ]
  },
  {
   "cell_type": "markdown",
   "metadata": {
    "id": "w9XOTHFDY79K"
   },
   "source": [
    "Let's check the contents of `drive`. "
   ]
  },
  {
   "cell_type": "code",
   "execution_count": null,
   "metadata": {
    "id": "zawX2BgNYxRE"
   },
   "outputs": [],
   "source": [
    "os.listdir(os.path.join(os.getcwd(), \"drive\"))"
   ]
  },
  {
   "cell_type": "markdown",
   "metadata": {
    "id": "qx2X-IE8ZG7j"
   },
   "source": [
    "If you print the contents of `MyDrive` you should see that directory contains your personal Google Drive folders."
   ]
  },
  {
   "cell_type": "code",
   "execution_count": null,
   "metadata": {
    "id": "a2iT-tioZEe9"
   },
   "outputs": [],
   "source": [
    "os.listdir(os.path.join(os.getcwd(), \"drive\", \"MyDrive\"))"
   ]
  },
  {
   "cell_type": "markdown",
   "metadata": {
    "id": "7CF5ShtjZgPa"
   },
   "source": [
    "We can save data to Google Drive. Let's download some data from week 2's labs."
   ]
  },
  {
   "cell_type": "code",
   "execution_count": 19,
   "metadata": {
    "id": "PkRaUV3aZTw2"
   },
   "outputs": [],
   "source": [
    "if \"week-1\" not in os.listdir(os.getcwd()):\n",
    "    os.system('wget \"https://github.com/data-analysis-3300-3003/data/raw/main/data/week-2.zip\"')\n",
    "    os.system('unzip \"week-2.zip\"')"
   ]
  },
  {
   "cell_type": "code",
   "execution_count": null,
   "metadata": {
    "id": "oDuuf2MwZqem"
   },
   "outputs": [],
   "source": [
    "os.listdir(\"week-2\")"
   ]
  },
  {
   "cell_type": "markdown",
   "metadata": {
    "id": "TNHG5T1EZzQo"
   },
   "source": [
    "Let's load the CSV file into our Colab Python environment."
   ]
  },
  {
   "cell_type": "code",
   "execution_count": null,
   "metadata": {
    "id": "PrAqIjOuZxnJ"
   },
   "outputs": [],
   "source": [
    "import pandas as pd\n",
    "df = pd.read_csv(os.path.join(\"week-2\", \"week-2-bf66-canola-yield.csv\"))\n",
    "df.head()"
   ]
  },
  {
   "cell_type": "markdown",
   "metadata": {
    "id": "Nz6j4NuZaC0g"
   },
   "source": [
    "Let's save the CSV file to Google Drive."
   ]
  },
  {
   "cell_type": "code",
   "execution_count": 13,
   "metadata": {
    "id": "uUxV-MRbaF2H"
   },
   "outputs": [],
   "source": [
    "path_to_gdrive = os.path.join(os.getcwd(), \"drive\", \"MyDrive\", \"demo_save_to_gdrive.csv\")\n",
    "df.to_csv(path_to_gdrive)"
   ]
  },
  {
   "cell_type": "markdown",
   "metadata": {
    "id": "p--OuGhzaTDD"
   },
   "source": [
    "Finally, let's check we can read the file from Google Drive."
   ]
  },
  {
   "cell_type": "code",
   "execution_count": null,
   "metadata": {
    "id": "oB-kiSbAa6aj"
   },
   "outputs": [],
   "source": [
    "df_from_gdrive = pd.read_csv(path_to_gdrive)\n",
    "df_from_gdrive.head()"
   ]
  }
 ],
 "metadata": {
  "colab": {
   "provenance": [],
   "toc_visible": true
  },
  "kernelspec": {
   "display_name": "Python 3 (ipykernel)",
   "language": "python",
   "name": "python3"
  },
  "language_info": {
   "codemirror_mode": {
    "name": "ipython",
    "version": 3
   },
   "file_extension": ".py",
   "mimetype": "text/x-python",
   "name": "python",
   "nbconvert_exporter": "python",
   "pygments_lexer": "ipython3",
   "version": "3.10.8"
  }
 },
 "nbformat": 4,
 "nbformat_minor": 4
}
